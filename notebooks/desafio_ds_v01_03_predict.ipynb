{
 "cells": [
  {
   "cell_type": "markdown",
   "metadata": {},
   "source": [
    "# 0.1 imports"
   ]
  },
  {
   "cell_type": "code",
   "execution_count": 39,
   "metadata": {},
   "outputs": [],
   "source": [
    "import pandas as pd\n",
    "import numpy as np\n",
    "import os\n",
    "\n",
    "import matplotlib.pyplot as plt\n",
    "\n",
    "from statsmodels.tsa.api import SimpleExpSmoothing"
   ]
  },
  {
   "cell_type": "markdown",
   "metadata": {},
   "source": [
    "# 0.2 helpers functions"
   ]
  },
  {
   "cell_type": "markdown",
   "metadata": {},
   "source": [
    "# 0.3 load data"
   ]
  },
  {
   "cell_type": "code",
   "execution_count": 40,
   "metadata": {},
   "outputs": [],
   "source": [
    "path = '/home/lavino/Documentos/projetos_indicium/ds_desafio/'"
   ]
  },
  {
   "cell_type": "code",
   "execution_count": 41,
   "metadata": {},
   "outputs": [],
   "source": [
    "df_raw = pd.read_csv(path + 'data/df_fill.csv', index_col='year', parse_dates=True)\n",
    "df_paramns = pd.read_csv(path + 'data/df_countrys_paramns.csv')"
   ]
  },
  {
   "cell_type": "code",
   "execution_count": 42,
   "metadata": {},
   "outputs": [],
   "source": [
    "df_raw = df_raw.asfreq(freq='AS')"
   ]
  },
  {
   "cell_type": "markdown",
   "metadata": {},
   "source": [
    "# 1.0 Predictions"
   ]
  },
  {
   "cell_type": "code",
   "execution_count": 43,
   "metadata": {},
   "outputs": [],
   "source": [
    "df1 = df_raw.copy()"
   ]
  },
  {
   "cell_type": "markdown",
   "metadata": {},
   "source": [
    "## 1.1 train test split"
   ]
  },
  {
   "cell_type": "code",
   "execution_count": 44,
   "metadata": {},
   "outputs": [],
   "source": [
    "test_years = 5\n",
    "train = df1[:-test_years]\n",
    "test = df1[-test_years:]"
   ]
  },
  {
   "cell_type": "markdown",
   "metadata": {},
   "source": [
    "## 1.2 train and predict for individual country"
   ]
  },
  {
   "cell_type": "code",
   "execution_count": 45,
   "metadata": {},
   "outputs": [],
   "source": [
    "predict = pd.DataFrame()\n",
    "for country in df1.columns:\n",
    "    paramns = eval(df_paramns[df_paramns['country'] == country]['best_params'].values[0])\n",
    "    model = SimpleExpSmoothing(\n",
    "        train[country], \n",
    "        initialization_method=paramns['initialization_method']\n",
    "    ).fit(\n",
    "        smoothing_level=paramns['smoothing_level'], \n",
    "        optimized=False\n",
    "    )\n",
    "    \n",
    "    forecast = model.forecast(len(test))\n",
    "    \n",
    "    predict = pd.concat([predict, pd.DataFrame(forecast, columns=[country])], axis=1)"
   ]
  },
  {
   "cell_type": "markdown",
   "metadata": {},
   "source": [
    "## 1.3 plot and save predictions"
   ]
  },
  {
   "cell_type": "code",
   "execution_count": 46,
   "metadata": {},
   "outputs": [],
   "source": [
    "# if not os.path.exists(path + 'images'):\n",
    "#     os.makedirs(path + 'images')\n",
    "\n",
    "# if not os.path.exists(path + 'images/predictions'):\n",
    "#     os.makedirs(path + 'images/predictions')\n",
    "\n",
    "\n",
    "# for country in df1.columns:\n",
    "\n",
    "#     country_data = df_raw[country]\n",
    "\n",
    "    \n",
    "\n",
    "#     plt.figure(figsize=(10, 6))\n",
    "#     df1[country].plot(legend=True,label=f'GDP {country}')\n",
    "#     test[country].plot(legend=True,label='test')\n",
    "#     predict[country].plot(label='predict',legend=True)\n",
    "#     plt.suptitle(f'GDP prediction of {country} from 2024 to 2028', fontsize=16)\n",
    "#     plt.tight_layout(rect=[0, 0.03, 1, 0.95])\n",
    "#     plt.savefig(path + f'images/predictions/{country}_prediction.png')\n",
    "#     plt.close()\n"
   ]
  },
  {
   "cell_type": "markdown",
   "metadata": {},
   "source": [
    "## 1.4 Save dataframe"
   ]
  },
  {
   "cell_type": "code",
   "execution_count": 47,
   "metadata": {},
   "outputs": [],
   "source": [
    "predict.to_csv(path + 'data/predict.csv', index=True)"
   ]
  }
 ],
 "metadata": {
  "kernelspec": {
   "display_name": "venv",
   "language": "python",
   "name": "python3"
  },
  "language_info": {
   "codemirror_mode": {
    "name": "ipython",
    "version": 3
   },
   "file_extension": ".py",
   "mimetype": "text/x-python",
   "name": "python",
   "nbconvert_exporter": "python",
   "pygments_lexer": "ipython3",
   "version": "3.10.12"
  },
  "orig_nbformat": 4
 },
 "nbformat": 4,
 "nbformat_minor": 2
}
