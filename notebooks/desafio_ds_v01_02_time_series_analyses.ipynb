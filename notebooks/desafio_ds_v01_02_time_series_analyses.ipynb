{
 "cells": [
  {
   "cell_type": "markdown",
   "metadata": {},
   "source": [
    "# 0.1 imports"
   ]
  },
  {
   "cell_type": "code",
   "execution_count": 1,
   "metadata": {},
   "outputs": [],
   "source": [
    "import pandas as pd\n",
    "import numpy as np\n",
    "import os\n",
    "\n",
    "import matplotlib.pyplot as plt\n",
    "import matplotlib as mpl\n",
    "import seaborn as sns\n",
    "import plotly.graph_objects as go\n",
    "import plotly.express as px\n",
    "\n",
    "\n",
    "from statsmodels.tsa.stattools import adfuller\n",
    "from statsmodels.tsa.seasonal import seasonal_decompose\n",
    "from dateutil.parser import parse\n",
    "\n",
    "from sklearn.metrics import mean_squared_error, mean_absolute_error"
   ]
  },
  {
   "cell_type": "markdown",
   "metadata": {},
   "source": [
    "# 0.2 helpers functions"
   ]
  },
  {
   "cell_type": "code",
   "execution_count": 2,
   "metadata": {},
   "outputs": [],
   "source": [
    "# def plot_gdp(dataframe, countrys, print_legend=True):\n",
    "    \n",
    "#     countrys_with_year = countrys + ['year']\n",
    "#     df=dataframe[countrys_with_year].copy()\n",
    "#     # Create a list of colors\n",
    "#     color_discrete_sequence = [\n",
    "#         'navy', 'orange', 'tomato', 'crimson', 'darkgreen', 'brown',\n",
    "#         'forestgreen', 'steelblue',\n",
    "#     ]\n",
    "\n",
    "#     # Create a list of traces\n",
    "#     traces = []\n",
    "#     for j, seleccion in enumerate(countrys):\n",
    "#         trace = go.Scatter(\n",
    "#             x=df['year'],\n",
    "#             y=df[seleccion],\n",
    "#             mode='lines+markers',\n",
    "#             name=seleccion,\n",
    "#             marker=dict(color=color_discrete_sequence[j % len(color_discrete_sequence)]),\n",
    "#         )\n",
    "#         traces.append(trace)\n",
    "\n",
    "#     # Create the figure\n",
    "#     fig = go.Figure(traces)\n",
    "\n",
    "#     # Configure the layout\n",
    "#     fig.update_layout(\n",
    "#         title='GDP',\n",
    "#         title_font_size=30,\n",
    "#         plot_bgcolor='#F7FAFC',\n",
    "#         xaxis=dict(tickangle=30),\n",
    "#         yaxis=dict(tickformat=',.0f'),\n",
    "#         xaxis_dtick='2',\n",
    "#         xaxis_title='Year',\n",
    "#         yaxis_title='Real GDP growth (Annual percent change)',\n",
    "#         legend_title_text='Legend',\n",
    "#         legend=dict(x=0, y=1) if print_legend == True else {},\n",
    "#         showlegend=True if print_legend == True else False,\n",
    "#         margin=dict(l=0, r=0, t=50, b=0),\n",
    "#         template='plotly',\n",
    "#         height=800,\n",
    "#         width=1200,\n",
    "#     )\n",
    "\n",
    "#     return fig\n"
   ]
  },
  {
   "cell_type": "code",
   "execution_count": 3,
   "metadata": {},
   "outputs": [],
   "source": [
    "def plot_gdp(dataframe, countrys, print_legend=True):\n",
    "    countrys_with_year = countrys + ['year']\n",
    "    df = dataframe[countrys_with_year].copy()\n",
    "\n",
    "    color_palette = [\n",
    "        'navy', 'orange', 'tomato', 'crimson', 'darkgreen', 'brown',\n",
    "        'forestgreen', 'steelblue',\n",
    "    ]\n",
    "    \n",
    "    plt.figure(figsize=(12, 8))\n",
    "\n",
    "    for seleccion in countrys:\n",
    "        sns.lineplot(x='year', y=seleccion, data=df, label=seleccion)#, color=color_palette[j % len(color_palette)])\n",
    "\n",
    "    plt.title('GDP', fontsize=20)\n",
    "    plt.xlabel('Year')\n",
    "    plt.ylabel('Real GDP growth (Annual percent change)')\n",
    "    plt.xticks(rotation=30)\n",
    "    plt.gca().yaxis.set_major_formatter(plt.FuncFormatter(lambda x, _: format(int(x), ',')))\n",
    "    \n",
    "    if print_legend:\n",
    "        plt.legend(title='Legend', loc='upper left')\n",
    "    else:\n",
    "        plt.legend().set_visible(False)\n",
    "    \n",
    "    plt.tight_layout()\n",
    "    plt.grid()\n",
    "    plt.show()"
   ]
  },
  {
   "cell_type": "code",
   "execution_count": 4,
   "metadata": {},
   "outputs": [],
   "source": [
    "\n",
    "def fill_individual_countries(dataframe, countries):\n",
    "    \n",
    "    df = dataframe[countries+['year']].copy()\n",
    "\n",
    "    check_na = df.isna().sum()\n",
    "    null_values = list(check_na[check_na>0].index)\n",
    "\n",
    "    complete_group = list(check_na[check_na==0].index)\n",
    "    complete_group.remove('year')\n",
    "    # complete_group.remove('Sub-Saharan Africa (Region) ')\n",
    "\n",
    "    df_complete_group = dataframe[complete_group]\n",
    "\n",
    "    df_aux = pd.DataFrame()\n",
    "\n",
    "    df_aux[\"year\"] = dataframe[\"year\"]\n",
    "    df_aux[\"year_average\"] = df_complete_group.mean(axis=1)\n",
    "\n",
    "\n",
    "    for country in null_values:\n",
    "\n",
    "        df_aux[country] = dataframe[country]\n",
    "\n",
    "        aux = df_aux[~df_aux[country].isna()]\n",
    "\n",
    "        aux['test'] = (aux[country] > aux['year_average']).astype(int)\n",
    "\n",
    "\n",
    "        most_common = aux['test'].value_counts().idxmax()\n",
    "\n",
    "        if most_common == 0:\n",
    "            df_aux.loc[df_aux[country].isna(), country] = df_aux.loc[df_aux[country].isna(), \"year_average\"] - df_aux[country].std()\n",
    "        else:\n",
    "            df_aux.loc[df_aux[country].isna(), country] = df_aux.loc[df_aux[country].isna(), \"year_average\"] + df_aux[country].std()\n",
    "\n",
    "    return df_aux"
   ]
  },
  {
   "cell_type": "code",
   "execution_count": 5,
   "metadata": {},
   "outputs": [],
   "source": [
    "# MAPE\n",
    "def mean_absolute_percentage_error(y_true, y_pred):\n",
    "    return np.mean(np.abs((y_true - y_pred) / y_true)) * 100"
   ]
  },
  {
   "cell_type": "code",
   "execution_count": 6,
   "metadata": {},
   "outputs": [],
   "source": [
    "\n",
    "def metrics(y_true, y_pred,model_name):\n",
    "    y_true = y_true.values\n",
    "    y_pred = y_pred.values\n",
    "    mae = round(mean_absolute_error(y_true, y_pred),5)\n",
    "    rmse = round(np.sqrt(mean_squared_error(y_true, y_pred)),5)\n",
    "    mape = round(mean_absolute_percentage_error(y_true, y_pred),5)\n",
    "    metrics = pd.DataFrame({'Model': model_name,'mae': mae, 'rmse': rmse, 'mape': mape}, index=[0])\n",
    "    return metrics\n",
    "\n"
   ]
  },
  {
   "cell_type": "markdown",
   "metadata": {},
   "source": [
    "# 0.3 load data"
   ]
  },
  {
   "cell_type": "code",
   "execution_count": 7,
   "metadata": {},
   "outputs": [],
   "source": [
    "path = '/home/lavino/Documentos/projetos_indicium/ds_desafio/'"
   ]
  },
  {
   "cell_type": "code",
   "execution_count": 8,
   "metadata": {},
   "outputs": [
    {
     "data": {
      "text/plain": [
       "(49, 228)"
      ]
     },
     "execution_count": 8,
     "metadata": {},
     "output_type": "execute_result"
    }
   ],
   "source": [
    "df_raw = pd.read_csv(path + 'data/df_fill.csv', index_col='year', parse_dates=True)\n",
    "df_raw.shape"
   ]
  },
  {
   "cell_type": "code",
   "execution_count": 9,
   "metadata": {},
   "outputs": [],
   "source": [
    "df_raw = df_raw.asfreq(freq='AS')"
   ]
  },
  {
   "cell_type": "markdown",
   "metadata": {},
   "source": [
    "## 0.4 métricas de avaliação"
   ]
  },
  {
   "cell_type": "markdown",
   "metadata": {},
   "source": [
    "Para este projeto será utilizadas três métricas de avaliação:\n",
    "\n",
    "- MAE (Erro Médio Absoluto):\n",
    "    O Erro Médio Absoluto (MAE) é uma métrica simples e intuitiva que mede a média das diferenças absolutas entre as previsões e os valores reais. Em outras palavras, ele calcula o tamanho médio dos erros de previsão sem considerar sua direção. O MAE é útil quando você deseja entender o tamanho médio dos erros de previsão em unidades originais. Ele não é sensível a outliers e é fácil de interpretar.\n",
    "\n",
    "- RMSE (Raiz do Erro Quadrático Médio):\n",
    "    O Erro Quadrático Médio (RMSE) é uma métrica que mede a raiz quadrada da média dos erros ao quadrado entre as previsões e os valores reais. O RMSE penaliza erros maiores mais do que erros menores devido à natureza quadrática do cálculo. Ele fornece uma ideia da dispersão dos erros e é mais sensível a outliers do que o MAE. O RMSE é útil quando você deseja ter uma noção da variação dos erros.\n",
    "\n",
    "- MAPE (Erro Percentual Médio Absoluto):\n",
    "    O Erro Percentual Médio Absoluto (MAPE) é uma métrica que mede a média das porcentagens absolutas dos erros em relação aos valores reais. Ele expressa os erros relativos como uma porcentagem do valor real, tornando-o útil para entender a precisão relativa do modelo em diferentes escalas de valores. No entanto, o MAPE pode ser problemático quando os valores reais são muito próximos de zero, pois isso pode levar a divisões por zero ou valores extremamente altos.\n",
    "\n",
    "Sendo o MAE como métrica principal e o RMSE e MAPE como métricas secundárias."
   ]
  },
  {
   "cell_type": "markdown",
   "metadata": {},
   "source": [
    "# 1.0 Season decomposition - additive model"
   ]
  },
  {
   "cell_type": "markdown",
   "metadata": {},
   "source": [
    "Foi feito inicialmente o teste com países aléatorios, mas em seguida todos os gráficos de decomposição foram plotados e salvos na pasta `images`"
   ]
  },
  {
   "cell_type": "code",
   "execution_count": 10,
   "metadata": {},
   "outputs": [],
   "source": [
    "# country = 'Albania'\n",
    "# country = 'Sub-Saharan Africa (Region) '\n",
    "# country = 'Argentina'\n",
    "country = 'United States'"
   ]
  },
  {
   "cell_type": "markdown",
   "metadata": {},
   "source": [
    "## 1.1 plot"
   ]
  },
  {
   "cell_type": "code",
   "execution_count": 11,
   "metadata": {},
   "outputs": [
    {
     "name": "stderr",
     "output_type": "stream",
     "text": [
      "/tmp/ipykernel_5435/4242940995.py:7: UserWarning: The figure layout has changed to tight\n",
      "  plt.tight_layout(rect=[0, 0.03, 1, 0.95]);\n"
     ]
    },
    {
     "data": {
      "image/png": "[encoded data removed]",
      "text/plain": [
       "<Figure size 640x480 with 4 Axes>"
      ]
     },
     "metadata": {},
     "output_type": "display_data"
    }
   ],
   "source": [
    "decomposition = seasonal_decompose(\n",
    "    df_raw[country], \n",
    "    model='additive',\n",
    ")\n",
    "\n",
    "decomposition.plot().suptitle('Additive Decomposition', fontsize=16);\n",
    "plt.tight_layout(rect=[0, 0.03, 1, 0.95]);"
   ]
  },
  {
   "cell_type": "code",
   "execution_count": 12,
   "metadata": {},
   "outputs": [
    {
     "name": "stderr",
     "output_type": "stream",
     "text": [
      "/tmp/ipykernel_5435/2268667018.py:20: UserWarning: The figure layout has changed to tight\n",
      "  plt.tight_layout(rect=[0, 0.03, 1, 0.95])\n",
      "/tmp/ipykernel_5435/2268667018.py:20: UserWarning: The figure layout has changed to tight\n",
      "  plt.tight_layout(rect=[0, 0.03, 1, 0.95])\n",
      "/tmp/ipykernel_5435/2268667018.py:20: UserWarning: The figure layout has changed to tight\n",
      "  plt.tight_layout(rect=[0, 0.03, 1, 0.95])\n",
      "/tmp/ipykernel_5435/2268667018.py:20: UserWarning: The figure layout has changed to tight\n",
      "  plt.tight_layout(rect=[0, 0.03, 1, 0.95])\n",
      "/tmp/ipykernel_5435/2268667018.py:20: UserWarning: The figure layout has changed to tight\n",
      "  plt.tight_layout(rect=[0, 0.03, 1, 0.95])\n",
      "/tmp/ipykernel_5435/2268667018.py:20: UserWarning: The figure layout has changed to tight\n",
      "  plt.tight_layout(rect=[0, 0.03, 1, 0.95])\n",
      "/tmp/ipykernel_5435/2268667018.py:20: UserWarning: The figure layout has changed to tight\n",
      "  plt.tight_layout(rect=[0, 0.03, 1, 0.95])\n",
      "/tmp/ipykernel_5435/2268667018.py:20: UserWarning: The figure layout has changed to tight\n",
      "  plt.tight_layout(rect=[0, 0.03, 1, 0.95])\n",
      "/tmp/ipykernel_5435/2268667018.py:20: UserWarning: The figure layout has changed to tight\n",
      "  plt.tight_layout(rect=[0, 0.03, 1, 0.95])\n",
      "/tmp/ipykernel_5435/2268667018.py:20: UserWarning: The figure layout has changed to tight\n",
      "  plt.tight_layout(rect=[0, 0.03, 1, 0.95])\n",
      "/tmp/ipykernel_5435/2268667018.py:20: UserWarning: The figure layout has changed to tight\n",
      "  plt.tight_layout(rect=[0, 0.03, 1, 0.95])\n",
      "/tmp/ipykernel_5435/2268667018.py:20: UserWarning: The figure layout has changed to tight\n",
      "  plt.tight_layout(rect=[0, 0.03, 1, 0.95])\n",
      "/tmp/ipykernel_5435/2268667018.py:20: UserWarning: The figure layout has changed to tight\n",
      "  plt.tight_layout(rect=[0, 0.03, 1, 0.95])\n",
      "/tmp/ipykernel_5435/2268667018.py:20: UserWarning: The figure layout has changed to tight\n",
      "  plt.tight_layout(rect=[0, 0.03, 1, 0.95])\n",
      "/tmp/ipykernel_5435/2268667018.py:20: UserWarning: The figure layout has changed to tight\n",
      "  plt.tight_layout(rect=[0, 0.03, 1, 0.95])\n",
      "/tmp/ipykernel_5435/2268667018.py:20: UserWarning: The figure layout has changed to tight\n",
      "  plt.tight_layout(rect=[0, 0.03, 1, 0.95])\n",
      "/tmp/ipykernel_5435/2268667018.py:20: UserWarning: The figure layout has changed to tight\n",
      "  plt.tight_layout(rect=[0, 0.03, 1, 0.95])\n",
      "/tmp/ipykernel_5435/2268667018.py:20: UserWarning: The figure layout has changed to tight\n",
      "  plt.tight_layout(rect=[0, 0.03, 1, 0.95])\n",
      "/tmp/ipykernel_5435/2268667018.py:20: UserWarning: The figure layout has changed to tight\n",
      "  plt.tight_layout(rect=[0, 0.03, 1, 0.95])\n",
      "/home/lavino/Documentos/projetos_indicium/ds_desafio/venv/lib/python3.10/site-packages/statsmodels/tsa/seasonal.py:345: RuntimeWarning: More than 20 figures have been opened. Figures created through the pyplot interface (`matplotlib.pyplot.figure`) are retained until explicitly closed and may consume too much memory. (To control this warning, see the rcParam `figure.max_open_warning`). Consider using `matplotlib.pyplot.close()`.\n",
      "  fig, axs = plt.subplots(len(series), 1, sharex=True)\n",
      "/tmp/ipykernel_5435/2268667018.py:20: UserWarning: The figure layout has changed to tight\n",
      "  plt.tight_layout(rect=[0, 0.03, 1, 0.95])\n",
      "/tmp/ipykernel_5435/2268667018.py:17: RuntimeWarning: More than 20 figures have been opened. Figures created through the pyplot interface (`matplotlib.pyplot.figure`) are retained until explicitly closed and may consume too much memory. (To control this warning, see the rcParam `figure.max_open_warning`). Consider using `matplotlib.pyplot.close()`.\n",
      "  plt.figure(figsize=(10, 6))\n",
      "/tmp/ipykernel_5435/2268667018.py:20: UserWarning: The figure layout has changed to tight\n",
      "  plt.tight_layout(rect=[0, 0.03, 1, 0.95])\n",
      "/tmp/ipykernel_5435/2268667018.py:20: UserWarning: The figure layout has changed to tight\n",
      "  plt.tight_layout(rect=[0, 0.03, 1, 0.95])\n",
      "/tmp/ipykernel_5435/2268667018.py:20: UserWarning: The figure layout has changed to tight\n",
      "  plt.tight_layout(rect=[0, 0.03, 1, 0.95])\n",
      "/tmp/ipykernel_5435/2268667018.py:20: UserWarning: The figure layout has changed to tight\n",
      "  plt.tight_layout(rect=[0, 0.03, 1, 0.95])\n",
      "/tmp/ipykernel_5435/2268667018.py:20: UserWarning: The figure layout has changed to tight\n",
      "  plt.tight_layout(rect=[0, 0.03, 1, 0.95])\n",
      "/tmp/ipykernel_5435/2268667018.py:20: UserWarning: The figure layout has changed to tight\n",
      "  plt.tight_layout(rect=[0, 0.03, 1, 0.95])\n",
      "/tmp/ipykernel_5435/2268667018.py:20: UserWarning: The figure layout has changed to tight\n",
      "  plt.tight_layout(rect=[0, 0.03, 1, 0.95])\n",
      "/tmp/ipykernel_5435/2268667018.py:20: UserWarning: The figure layout has changed to tight\n",
      "  plt.tight_layout(rect=[0, 0.03, 1, 0.95])\n",
      "/tmp/ipykernel_5435/2268667018.py:20: UserWarning: The figure layout has changed to tight\n",
      "  plt.tight_layout(rect=[0, 0.03, 1, 0.95])\n",
      "/tmp/ipykernel_5435/2268667018.py:20: UserWarning: The figure layout has changed to tight\n",
      "  plt.tight_layout(rect=[0, 0.03, 1, 0.95])\n",
      "/tmp/ipykernel_5435/2268667018.py:20: UserWarning: The figure layout has changed to tight\n",
      "  plt.tight_layout(rect=[0, 0.03, 1, 0.95])\n",
      "/tmp/ipykernel_5435/2268667018.py:20: UserWarning: The figure layout has changed to tight\n",
      "  plt.tight_layout(rect=[0, 0.03, 1, 0.95])\n",
      "/tmp/ipykernel_5435/2268667018.py:20: UserWarning: The figure layout has changed to tight\n",
      "  plt.tight_layout(rect=[0, 0.03, 1, 0.95])\n",
      "/tmp/ipykernel_5435/2268667018.py:20: UserWarning: The figure layout has changed to tight\n",
      "  plt.tight_layout(rect=[0, 0.03, 1, 0.95])\n",
      "/tmp/ipykernel_5435/2268667018.py:20: UserWarning: The figure layout has changed to tight\n",
      "  plt.tight_layout(rect=[0, 0.03, 1, 0.95])\n",
      "/tmp/ipykernel_5435/2268667018.py:20: UserWarning: The figure layout has changed to tight\n",
      "  plt.tight_layout(rect=[0, 0.03, 1, 0.95])\n",
      "/tmp/ipykernel_5435/2268667018.py:20: UserWarning: The figure layout has changed to tight\n",
      "  plt.tight_layout(rect=[0, 0.03, 1, 0.95])\n",
      "/tmp/ipykernel_5435/2268667018.py:20: UserWarning: The figure layout has changed to tight\n",
      "  plt.tight_layout(rect=[0, 0.03, 1, 0.95])\n",
      "/tmp/ipykernel_5435/2268667018.py:20: UserWarning: The figure layout has changed to tight\n",
      "  plt.tight_layout(rect=[0, 0.03, 1, 0.95])\n",
      "/tmp/ipykernel_5435/2268667018.py:20: UserWarning: The figure layout has changed to tight\n",
      "  plt.tight_layout(rect=[0, 0.03, 1, 0.95])\n",
      "/tmp/ipykernel_5435/2268667018.py:20: UserWarning: The figure layout has changed to tight\n",
      "  plt.tight_layout(rect=[0, 0.03, 1, 0.95])\n",
      "/tmp/ipykernel_5435/2268667018.py:20: UserWarning: The figure layout has changed to tight\n",
      "  plt.tight_layout(rect=[0, 0.03, 1, 0.95])\n",
      "/tmp/ipykernel_5435/2268667018.py:20: UserWarning: The figure layout has changed to tight\n",
      "  plt.tight_layout(rect=[0, 0.03, 1, 0.95])\n",
      "/tmp/ipykernel_5435/2268667018.py:20: UserWarning: The figure layout has changed to tight\n",
      "  plt.tight_layout(rect=[0, 0.03, 1, 0.95])\n",
      "/tmp/ipykernel_5435/2268667018.py:20: UserWarning: The figure layout has changed to tight\n",
      "  plt.tight_layout(rect=[0, 0.03, 1, 0.95])\n",
      "/tmp/ipykernel_5435/2268667018.py:20: UserWarning: The figure layout has changed to tight\n",
      "  plt.tight_layout(rect=[0, 0.03, 1, 0.95])\n",
      "/tmp/ipykernel_5435/2268667018.py:20: UserWarning: The figure layout has changed to tight\n",
      "  plt.tight_layout(rect=[0, 0.03, 1, 0.95])\n",
      "/tmp/ipykernel_5435/2268667018.py:20: UserWarning: The figure layout has changed to tight\n",
      "  plt.tight_layout(rect=[0, 0.03, 1, 0.95])\n",
      "/tmp/ipykernel_5435/2268667018.py:20: UserWarning: The figure layout has changed to tight\n",
      "  plt.tight_layout(rect=[0, 0.03, 1, 0.95])\n",
      "/tmp/ipykernel_5435/2268667018.py:20: UserWarning: The figure layout has changed to tight\n",
      "  plt.tight_layout(rect=[0, 0.03, 1, 0.95])\n",
      "/tmp/ipykernel_5435/2268667018.py:20: UserWarning: The figure layout has changed to tight\n",
      "  plt.tight_layout(rect=[0, 0.03, 1, 0.95])\n",
      "/tmp/ipykernel_5435/2268667018.py:20: UserWarning: The figure layout has changed to tight\n",
      "  plt.tight_layout(rect=[0, 0.03, 1, 0.95])\n",
      "/tmp/ipykernel_5435/2268667018.py:20: UserWarning: The figure layout has changed to tight\n",
      "  plt.tight_layout(rect=[0, 0.03, 1, 0.95])\n",
      "/tmp/ipykernel_5435/2268667018.py:20: UserWarning: The figure layout has changed to tight\n",
      "  plt.tight_layout(rect=[0, 0.03, 1, 0.95])\n",
      "/tmp/ipykernel_5435/2268667018.py:20: UserWarning: The figure layout has changed to tight\n",
      "  plt.tight_layout(rect=[0, 0.03, 1, 0.95])\n",
      "/tmp/ipykernel_5435/2268667018.py:20: UserWarning: The figure layout has changed to tight\n",
      "  plt.tight_layout(rect=[0, 0.03, 1, 0.95])\n",
      "/tmp/ipykernel_5435/2268667018.py:20: UserWarning: The figure layout has changed to tight\n",
      "  plt.tight_layout(rect=[0, 0.03, 1, 0.95])\n",
      "/tmp/ipykernel_5435/2268667018.py:20: UserWarning: The figure layout has changed to tight\n",
      "  plt.tight_layout(rect=[0, 0.03, 1, 0.95])\n",
      "/tmp/ipykernel_5435/2268667018.py:20: UserWarning: The figure layout has changed to tight\n",
      "  plt.tight_layout(rect=[0, 0.03, 1, 0.95])\n",
      "/tmp/ipykernel_5435/2268667018.py:20: UserWarning: The figure layout has changed to tight\n",
      "  plt.tight_layout(rect=[0, 0.03, 1, 0.95])\n",
      "/tmp/ipykernel_5435/2268667018.py:20: UserWarning: The figure layout has changed to tight\n",
      "  plt.tight_layout(rect=[0, 0.03, 1, 0.95])\n",
      "/tmp/ipykernel_5435/2268667018.py:20: UserWarning: The figure layout has changed to tight\n",
      "  plt.tight_layout(rect=[0, 0.03, 1, 0.95])\n",
      "/tmp/ipykernel_5435/2268667018.py:20: UserWarning: The figure layout has changed to tight\n",
      "  plt.tight_layout(rect=[0, 0.03, 1, 0.95])\n",
      "/tmp/ipykernel_5435/2268667018.py:20: UserWarning: The figure layout has changed to tight\n",
      "  plt.tight_layout(rect=[0, 0.03, 1, 0.95])\n",
      "/tmp/ipykernel_5435/2268667018.py:20: UserWarning: The figure layout has changed to tight\n",
      "  plt.tight_layout(rect=[0, 0.03, 1, 0.95])\n",
      "/tmp/ipykernel_5435/2268667018.py:20: UserWarning: The figure layout has changed to tight\n",
      "  plt.tight_layout(rect=[0, 0.03, 1, 0.95])\n",
      "/tmp/ipykernel_5435/2268667018.py:20: UserWarning: The figure layout has changed to tight\n",
      "  plt.tight_layout(rect=[0, 0.03, 1, 0.95])\n",
      "/tmp/ipykernel_5435/2268667018.py:20: UserWarning: The figure layout has changed to tight\n",
      "  plt.tight_layout(rect=[0, 0.03, 1, 0.95])\n",
      "/tmp/ipykernel_5435/2268667018.py:20: UserWarning: The figure layout has changed to tight\n",
      "  plt.tight_layout(rect=[0, 0.03, 1, 0.95])\n",
      "/tmp/ipykernel_5435/2268667018.py:20: UserWarning: The figure layout has changed to tight\n",
      "  plt.tight_layout(rect=[0, 0.03, 1, 0.95])\n",
      "/tmp/ipykernel_5435/2268667018.py:20: UserWarning: The figure layout has changed to tight\n",
      "  plt.tight_layout(rect=[0, 0.03, 1, 0.95])\n",
      "/tmp/ipykernel_5435/2268667018.py:20: UserWarning: The figure layout has changed to tight\n",
      "  plt.tight_layout(rect=[0, 0.03, 1, 0.95])\n",
      "/tmp/ipykernel_5435/2268667018.py:20: UserWarning: The figure layout has changed to tight\n",
      "  plt.tight_layout(rect=[0, 0.03, 1, 0.95])\n",
      "/tmp/ipykernel_5435/2268667018.py:20: UserWarning: The figure layout has changed to tight\n",
      "  plt.tight_layout(rect=[0, 0.03, 1, 0.95])\n",
      "/tmp/ipykernel_5435/2268667018.py:20: UserWarning: The figure layout has changed to tight\n",
      "  plt.tight_layout(rect=[0, 0.03, 1, 0.95])\n",
      "/tmp/ipykernel_5435/2268667018.py:20: UserWarning: The figure layout has changed to tight\n",
      "  plt.tight_layout(rect=[0, 0.03, 1, 0.95])\n",
      "/tmp/ipykernel_5435/2268667018.py:20: UserWarning: The figure layout has changed to tight\n",
      "  plt.tight_layout(rect=[0, 0.03, 1, 0.95])\n",
      "/tmp/ipykernel_5435/2268667018.py:20: UserWarning: The figure layout has changed to tight\n",
      "  plt.tight_layout(rect=[0, 0.03, 1, 0.95])\n",
      "/tmp/ipykernel_5435/2268667018.py:20: UserWarning: The figure layout has changed to tight\n",
      "  plt.tight_layout(rect=[0, 0.03, 1, 0.95])\n",
      "/tmp/ipykernel_5435/2268667018.py:20: UserWarning: The figure layout has changed to tight\n",
      "  plt.tight_layout(rect=[0, 0.03, 1, 0.95])\n",
      "/tmp/ipykernel_5435/2268667018.py:20: UserWarning: The figure layout has changed to tight\n",
      "  plt.tight_layout(rect=[0, 0.03, 1, 0.95])\n",
      "/tmp/ipykernel_5435/2268667018.py:20: UserWarning: The figure layout has changed to tight\n",
      "  plt.tight_layout(rect=[0, 0.03, 1, 0.95])\n",
      "/tmp/ipykernel_5435/2268667018.py:20: UserWarning: The figure layout has changed to tight\n",
      "  plt.tight_layout(rect=[0, 0.03, 1, 0.95])\n",
      "/tmp/ipykernel_5435/2268667018.py:20: UserWarning: The figure layout has changed to tight\n",
      "  plt.tight_layout(rect=[0, 0.03, 1, 0.95])\n",
      "/tmp/ipykernel_5435/2268667018.py:20: UserWarning: The figure layout has changed to tight\n",
      "  plt.tight_layout(rect=[0, 0.03, 1, 0.95])\n",
      "/tmp/ipykernel_5435/2268667018.py:20: UserWarning: The figure layout has changed to tight\n",
      "  plt.tight_layout(rect=[0, 0.03, 1, 0.95])\n",
      "/tmp/ipykernel_5435/2268667018.py:20: UserWarning: The figure layout has changed to tight\n",
      "  plt.tight_layout(rect=[0, 0.03, 1, 0.95])\n",
      "/tmp/ipykernel_5435/2268667018.py:20: UserWarning: The figure layout has changed to tight\n",
      "  plt.tight_layout(rect=[0, 0.03, 1, 0.95])\n",
      "/tmp/ipykernel_5435/2268667018.py:20: UserWarning: The figure layout has changed to tight\n",
      "  plt.tight_layout(rect=[0, 0.03, 1, 0.95])\n",
      "/tmp/ipykernel_5435/2268667018.py:20: UserWarning: The figure layout has changed to tight\n",
      "  plt.tight_layout(rect=[0, 0.03, 1, 0.95])\n",
      "/tmp/ipykernel_5435/2268667018.py:20: UserWarning: The figure layout has changed to tight\n",
      "  plt.tight_layout(rect=[0, 0.03, 1, 0.95])\n",
      "/tmp/ipykernel_5435/2268667018.py:20: UserWarning: The figure layout has changed to tight\n",
      "  plt.tight_layout(rect=[0, 0.03, 1, 0.95])\n",
      "/tmp/ipykernel_5435/2268667018.py:20: UserWarning: The figure layout has changed to tight\n",
      "  plt.tight_layout(rect=[0, 0.03, 1, 0.95])\n",
      "/tmp/ipykernel_5435/2268667018.py:20: UserWarning: The figure layout has changed to tight\n",
      "  plt.tight_layout(rect=[0, 0.03, 1, 0.95])\n",
      "/tmp/ipykernel_5435/2268667018.py:20: UserWarning: The figure layout has changed to tight\n",
      "  plt.tight_layout(rect=[0, 0.03, 1, 0.95])\n",
      "/tmp/ipykernel_5435/2268667018.py:20: UserWarning: The figure layout has changed to tight\n",
      "  plt.tight_layout(rect=[0, 0.03, 1, 0.95])\n",
      "/tmp/ipykernel_5435/2268667018.py:20: UserWarning: The figure layout has changed to tight\n",
      "  plt.tight_layout(rect=[0, 0.03, 1, 0.95])\n",
      "/tmp/ipykernel_5435/2268667018.py:20: UserWarning: The figure layout has changed to tight\n",
      "  plt.tight_layout(rect=[0, 0.03, 1, 0.95])\n",
      "/tmp/ipykernel_5435/2268667018.py:20: UserWarning: The figure layout has changed to tight\n",
      "  plt.tight_layout(rect=[0, 0.03, 1, 0.95])\n",
      "/tmp/ipykernel_5435/2268667018.py:20: UserWarning: The figure layout has changed to tight\n",
      "  plt.tight_layout(rect=[0, 0.03, 1, 0.95])\n",
      "/tmp/ipykernel_5435/2268667018.py:20: UserWarning: The figure layout has changed to tight\n",
      "  plt.tight_layout(rect=[0, 0.03, 1, 0.95])\n",
      "/tmp/ipykernel_5435/2268667018.py:20: UserWarning: The figure layout has changed to tight\n",
      "  plt.tight_layout(rect=[0, 0.03, 1, 0.95])\n",
      "/tmp/ipykernel_5435/2268667018.py:20: UserWarning: The figure layout has changed to tight\n",
      "  plt.tight_layout(rect=[0, 0.03, 1, 0.95])\n",
      "/tmp/ipykernel_5435/2268667018.py:20: UserWarning: The figure layout has changed to tight\n",
      "  plt.tight_layout(rect=[0, 0.03, 1, 0.95])\n",
      "/tmp/ipykernel_5435/2268667018.py:20: UserWarning: The figure layout has changed to tight\n",
      "  plt.tight_layout(rect=[0, 0.03, 1, 0.95])\n",
      "/tmp/ipykernel_5435/2268667018.py:20: UserWarning: The figure layout has changed to tight\n",
      "  plt.tight_layout(rect=[0, 0.03, 1, 0.95])\n",
      "/tmp/ipykernel_5435/2268667018.py:20: UserWarning: The figure layout has changed to tight\n",
      "  plt.tight_layout(rect=[0, 0.03, 1, 0.95])\n",
      "/tmp/ipykernel_5435/2268667018.py:20: UserWarning: The figure layout has changed to tight\n",
      "  plt.tight_layout(rect=[0, 0.03, 1, 0.95])\n",
      "/tmp/ipykernel_5435/2268667018.py:20: UserWarning: The figure layout has changed to tight\n",
      "  plt.tight_layout(rect=[0, 0.03, 1, 0.95])\n",
      "/tmp/ipykernel_5435/2268667018.py:20: UserWarning: The figure layout has changed to tight\n",
      "  plt.tight_layout(rect=[0, 0.03, 1, 0.95])\n",
      "/tmp/ipykernel_5435/2268667018.py:20: UserWarning: The figure layout has changed to tight\n",
      "  plt.tight_layout(rect=[0, 0.03, 1, 0.95])\n",
      "/tmp/ipykernel_5435/2268667018.py:20: UserWarning: The figure layout has changed to tight\n",
      "  plt.tight_layout(rect=[0, 0.03, 1, 0.95])\n",
      "/tmp/ipykernel_5435/2268667018.py:20: UserWarning: The figure layout has changed to tight\n",
      "  plt.tight_layout(rect=[0, 0.03, 1, 0.95])\n",
      "/tmp/ipykernel_5435/2268667018.py:20: UserWarning: The figure layout has changed to tight\n",
      "  plt.tight_layout(rect=[0, 0.03, 1, 0.95])\n",
      "/tmp/ipykernel_5435/2268667018.py:20: UserWarning: The figure layout has changed to tight\n",
      "  plt.tight_layout(rect=[0, 0.03, 1, 0.95])\n",
      "/tmp/ipykernel_5435/2268667018.py:20: UserWarning: The figure layout has changed to tight\n",
      "  plt.tight_layout(rect=[0, 0.03, 1, 0.95])\n",
      "/tmp/ipykernel_5435/2268667018.py:20: UserWarning: The figure layout has changed to tight\n",
      "  plt.tight_layout(rect=[0, 0.03, 1, 0.95])\n",
      "/tmp/ipykernel_5435/2268667018.py:20: UserWarning: The figure layout has changed to tight\n",
      "  plt.tight_layout(rect=[0, 0.03, 1, 0.95])\n",
      "/tmp/ipykernel_5435/2268667018.py:20: UserWarning: The figure layout has changed to tight\n",
      "  plt.tight_layout(rect=[0, 0.03, 1, 0.95])\n",
      "/tmp/ipykernel_5435/2268667018.py:20: UserWarning: The figure layout has changed to tight\n",
      "  plt.tight_layout(rect=[0, 0.03, 1, 0.95])\n",
      "/tmp/ipykernel_5435/2268667018.py:20: UserWarning: The figure layout has changed to tight\n",
      "  plt.tight_layout(rect=[0, 0.03, 1, 0.95])\n",
      "/tmp/ipykernel_5435/2268667018.py:20: UserWarning: The figure layout has changed to tight\n",
      "  plt.tight_layout(rect=[0, 0.03, 1, 0.95])\n",
      "/tmp/ipykernel_5435/2268667018.py:20: UserWarning: The figure layout has changed to tight\n",
      "  plt.tight_layout(rect=[0, 0.03, 1, 0.95])\n",
      "/tmp/ipykernel_5435/2268667018.py:20: UserWarning: The figure layout has changed to tight\n",
      "  plt.tight_layout(rect=[0, 0.03, 1, 0.95])\n",
      "/tmp/ipykernel_5435/2268667018.py:20: UserWarning: The figure layout has changed to tight\n",
      "  plt.tight_layout(rect=[0, 0.03, 1, 0.95])\n",
      "/tmp/ipykernel_5435/2268667018.py:20: UserWarning: The figure layout has changed to tight\n",
      "  plt.tight_layout(rect=[0, 0.03, 1, 0.95])\n",
      "/tmp/ipykernel_5435/2268667018.py:20: UserWarning: The figure layout has changed to tight\n",
      "  plt.tight_layout(rect=[0, 0.03, 1, 0.95])\n",
      "/tmp/ipykernel_5435/2268667018.py:20: UserWarning: The figure layout has changed to tight\n",
      "  plt.tight_layout(rect=[0, 0.03, 1, 0.95])\n",
      "/tmp/ipykernel_5435/2268667018.py:20: UserWarning: The figure layout has changed to tight\n",
      "  plt.tight_layout(rect=[0, 0.03, 1, 0.95])\n",
      "/tmp/ipykernel_5435/2268667018.py:20: UserWarning: The figure layout has changed to tight\n",
      "  plt.tight_layout(rect=[0, 0.03, 1, 0.95])\n",
      "/tmp/ipykernel_5435/2268667018.py:20: UserWarning: The figure layout has changed to tight\n",
      "  plt.tight_layout(rect=[0, 0.03, 1, 0.95])\n",
      "/tmp/ipykernel_5435/2268667018.py:20: UserWarning: The figure layout has changed to tight\n",
      "  plt.tight_layout(rect=[0, 0.03, 1, 0.95])\n",
      "/tmp/ipykernel_5435/2268667018.py:20: UserWarning: The figure layout has changed to tight\n",
      "  plt.tight_layout(rect=[0, 0.03, 1, 0.95])\n",
      "/tmp/ipykernel_5435/2268667018.py:20: UserWarning: The figure layout has changed to tight\n",
      "  plt.tight_layout(rect=[0, 0.03, 1, 0.95])\n",
      "/tmp/ipykernel_5435/2268667018.py:20: UserWarning: The figure layout has changed to tight\n",
      "  plt.tight_layout(rect=[0, 0.03, 1, 0.95])\n",
      "/tmp/ipykernel_5435/2268667018.py:20: UserWarning: The figure layout has changed to tight\n",
      "  plt.tight_layout(rect=[0, 0.03, 1, 0.95])\n",
      "/tmp/ipykernel_5435/2268667018.py:20: UserWarning: The figure layout has changed to tight\n",
      "  plt.tight_layout(rect=[0, 0.03, 1, 0.95])\n",
      "/tmp/ipykernel_5435/2268667018.py:20: UserWarning: The figure layout has changed to tight\n",
      "  plt.tight_layout(rect=[0, 0.03, 1, 0.95])\n",
      "/tmp/ipykernel_5435/2268667018.py:20: UserWarning: The figure layout has changed to tight\n",
      "  plt.tight_layout(rect=[0, 0.03, 1, 0.95])\n",
      "/tmp/ipykernel_5435/2268667018.py:20: UserWarning: The figure layout has changed to tight\n",
      "  plt.tight_layout(rect=[0, 0.03, 1, 0.95])\n",
      "/tmp/ipykernel_5435/2268667018.py:20: UserWarning: The figure layout has changed to tight\n",
      "  plt.tight_layout(rect=[0, 0.03, 1, 0.95])\n",
      "/tmp/ipykernel_5435/2268667018.py:20: UserWarning: The figure layout has changed to tight\n",
      "  plt.tight_layout(rect=[0, 0.03, 1, 0.95])\n",
      "/tmp/ipykernel_5435/2268667018.py:20: UserWarning: The figure layout has changed to tight\n",
      "  plt.tight_layout(rect=[0, 0.03, 1, 0.95])\n",
      "/tmp/ipykernel_5435/2268667018.py:20: UserWarning: The figure layout has changed to tight\n",
      "  plt.tight_layout(rect=[0, 0.03, 1, 0.95])\n",
      "/tmp/ipykernel_5435/2268667018.py:20: UserWarning: The figure layout has changed to tight\n",
      "  plt.tight_layout(rect=[0, 0.03, 1, 0.95])\n",
      "/tmp/ipykernel_5435/2268667018.py:20: UserWarning: The figure layout has changed to tight\n",
      "  plt.tight_layout(rect=[0, 0.03, 1, 0.95])\n",
      "/tmp/ipykernel_5435/2268667018.py:20: UserWarning: The figure layout has changed to tight\n",
      "  plt.tight_layout(rect=[0, 0.03, 1, 0.95])\n",
      "/tmp/ipykernel_5435/2268667018.py:20: UserWarning: The figure layout has changed to tight\n",
      "  plt.tight_layout(rect=[0, 0.03, 1, 0.95])\n",
      "/tmp/ipykernel_5435/2268667018.py:20: UserWarning: The figure layout has changed to tight\n",
      "  plt.tight_layout(rect=[0, 0.03, 1, 0.95])\n",
      "/tmp/ipykernel_5435/2268667018.py:20: UserWarning: The figure layout has changed to tight\n",
      "  plt.tight_layout(rect=[0, 0.03, 1, 0.95])\n",
      "/tmp/ipykernel_5435/2268667018.py:20: UserWarning: The figure layout has changed to tight\n",
      "  plt.tight_layout(rect=[0, 0.03, 1, 0.95])\n",
      "/tmp/ipykernel_5435/2268667018.py:20: UserWarning: The figure layout has changed to tight\n",
      "  plt.tight_layout(rect=[0, 0.03, 1, 0.95])\n",
      "/tmp/ipykernel_5435/2268667018.py:20: UserWarning: The figure layout has changed to tight\n",
      "  plt.tight_layout(rect=[0, 0.03, 1, 0.95])\n",
      "/tmp/ipykernel_5435/2268667018.py:20: UserWarning: The figure layout has changed to tight\n",
      "  plt.tight_layout(rect=[0, 0.03, 1, 0.95])\n",
      "/tmp/ipykernel_5435/2268667018.py:20: UserWarning: The figure layout has changed to tight\n",
      "  plt.tight_layout(rect=[0, 0.03, 1, 0.95])\n",
      "/tmp/ipykernel_5435/2268667018.py:20: UserWarning: The figure layout has changed to tight\n",
      "  plt.tight_layout(rect=[0, 0.03, 1, 0.95])\n",
      "/tmp/ipykernel_5435/2268667018.py:20: UserWarning: The figure layout has changed to tight\n",
      "  plt.tight_layout(rect=[0, 0.03, 1, 0.95])\n",
      "/tmp/ipykernel_5435/2268667018.py:20: UserWarning: The figure layout has changed to tight\n",
      "  plt.tight_layout(rect=[0, 0.03, 1, 0.95])\n",
      "/tmp/ipykernel_5435/2268667018.py:20: UserWarning: The figure layout has changed to tight\n",
      "  plt.tight_layout(rect=[0, 0.03, 1, 0.95])\n",
      "/tmp/ipykernel_5435/2268667018.py:20: UserWarning: The figure layout has changed to tight\n",
      "  plt.tight_layout(rect=[0, 0.03, 1, 0.95])\n",
      "/tmp/ipykernel_5435/2268667018.py:20: UserWarning: The figure layout has changed to tight\n",
      "  plt.tight_layout(rect=[0, 0.03, 1, 0.95])\n",
      "/tmp/ipykernel_5435/2268667018.py:20: UserWarning: The figure layout has changed to tight\n",
      "  plt.tight_layout(rect=[0, 0.03, 1, 0.95])\n",
      "/tmp/ipykernel_5435/2268667018.py:20: UserWarning: The figure layout has changed to tight\n",
      "  plt.tight_layout(rect=[0, 0.03, 1, 0.95])\n",
      "/tmp/ipykernel_5435/2268667018.py:20: UserWarning: The figure layout has changed to tight\n",
      "  plt.tight_layout(rect=[0, 0.03, 1, 0.95])\n",
      "/tmp/ipykernel_5435/2268667018.py:20: UserWarning: The figure layout has changed to tight\n",
      "  plt.tight_layout(rect=[0, 0.03, 1, 0.95])\n",
      "/tmp/ipykernel_5435/2268667018.py:20: UserWarning: The figure layout has changed to tight\n",
      "  plt.tight_layout(rect=[0, 0.03, 1, 0.95])\n",
      "/tmp/ipykernel_5435/2268667018.py:20: UserWarning: The figure layout has changed to tight\n",
      "  plt.tight_layout(rect=[0, 0.03, 1, 0.95])\n",
      "/tmp/ipykernel_5435/2268667018.py:20: UserWarning: The figure layout has changed to tight\n",
      "  plt.tight_layout(rect=[0, 0.03, 1, 0.95])\n",
      "/tmp/ipykernel_5435/2268667018.py:20: UserWarning: The figure layout has changed to tight\n",
      "  plt.tight_layout(rect=[0, 0.03, 1, 0.95])\n",
      "/tmp/ipykernel_5435/2268667018.py:20: UserWarning: The figure layout has changed to tight\n",
      "  plt.tight_layout(rect=[0, 0.03, 1, 0.95])\n",
      "/tmp/ipykernel_5435/2268667018.py:20: UserWarning: The figure layout has changed to tight\n",
      "  plt.tight_layout(rect=[0, 0.03, 1, 0.95])\n",
      "/tmp/ipykernel_5435/2268667018.py:20: UserWarning: The figure layout has changed to tight\n",
      "  plt.tight_layout(rect=[0, 0.03, 1, 0.95])\n",
      "/tmp/ipykernel_5435/2268667018.py:20: UserWarning: The figure layout has changed to tight\n",
      "  plt.tight_layout(rect=[0, 0.03, 1, 0.95])\n",
      "/tmp/ipykernel_5435/2268667018.py:20: UserWarning: The figure layout has changed to tight\n",
      "  plt.tight_layout(rect=[0, 0.03, 1, 0.95])\n",
      "/tmp/ipykernel_5435/2268667018.py:20: UserWarning: The figure layout has changed to tight\n",
      "  plt.tight_layout(rect=[0, 0.03, 1, 0.95])\n",
      "/tmp/ipykernel_5435/2268667018.py:20: UserWarning: The figure layout has changed to tight\n",
      "  plt.tight_layout(rect=[0, 0.03, 1, 0.95])\n",
      "/tmp/ipykernel_5435/2268667018.py:20: UserWarning: The figure layout has changed to tight\n",
      "  plt.tight_layout(rect=[0, 0.03, 1, 0.95])\n",
      "/tmp/ipykernel_5435/2268667018.py:20: UserWarning: The figure layout has changed to tight\n",
      "  plt.tight_layout(rect=[0, 0.03, 1, 0.95])\n",
      "/tmp/ipykernel_5435/2268667018.py:20: UserWarning: The figure layout has changed to tight\n",
      "  plt.tight_layout(rect=[0, 0.03, 1, 0.95])\n",
      "/tmp/ipykernel_5435/2268667018.py:20: UserWarning: The figure layout has changed to tight\n",
      "  plt.tight_layout(rect=[0, 0.03, 1, 0.95])\n",
      "/tmp/ipykernel_5435/2268667018.py:20: UserWarning: The figure layout has changed to tight\n",
      "  plt.tight_layout(rect=[0, 0.03, 1, 0.95])\n",
      "/tmp/ipykernel_5435/2268667018.py:20: UserWarning: The figure layout has changed to tight\n",
      "  plt.tight_layout(rect=[0, 0.03, 1, 0.95])\n",
      "/tmp/ipykernel_5435/2268667018.py:20: UserWarning: The figure layout has changed to tight\n",
      "  plt.tight_layout(rect=[0, 0.03, 1, 0.95])\n",
      "/tmp/ipykernel_5435/2268667018.py:20: UserWarning: The figure layout has changed to tight\n",
      "  plt.tight_layout(rect=[0, 0.03, 1, 0.95])\n",
      "/tmp/ipykernel_5435/2268667018.py:20: UserWarning: The figure layout has changed to tight\n",
      "  plt.tight_layout(rect=[0, 0.03, 1, 0.95])\n",
      "/tmp/ipykernel_5435/2268667018.py:20: UserWarning: The figure layout has changed to tight\n",
      "  plt.tight_layout(rect=[0, 0.03, 1, 0.95])\n",
      "/tmp/ipykernel_5435/2268667018.py:20: UserWarning: The figure layout has changed to tight\n",
      "  plt.tight_layout(rect=[0, 0.03, 1, 0.95])\n",
      "/tmp/ipykernel_5435/2268667018.py:20: UserWarning: The figure layout has changed to tight\n",
      "  plt.tight_layout(rect=[0, 0.03, 1, 0.95])\n",
      "/tmp/ipykernel_5435/2268667018.py:20: UserWarning: The figure layout has changed to tight\n",
      "  plt.tight_layout(rect=[0, 0.03, 1, 0.95])\n",
      "/tmp/ipykernel_5435/2268667018.py:20: UserWarning: The figure layout has changed to tight\n",
      "  plt.tight_layout(rect=[0, 0.03, 1, 0.95])\n",
      "/tmp/ipykernel_5435/2268667018.py:20: UserWarning: The figure layout has changed to tight\n",
      "  plt.tight_layout(rect=[0, 0.03, 1, 0.95])\n",
      "/tmp/ipykernel_5435/2268667018.py:20: UserWarning: The figure layout has changed to tight\n",
      "  plt.tight_layout(rect=[0, 0.03, 1, 0.95])\n",
      "/tmp/ipykernel_5435/2268667018.py:20: UserWarning: The figure layout has changed to tight\n",
      "  plt.tight_layout(rect=[0, 0.03, 1, 0.95])\n",
      "/tmp/ipykernel_5435/2268667018.py:20: UserWarning: The figure layout has changed to tight\n",
      "  plt.tight_layout(rect=[0, 0.03, 1, 0.95])\n",
      "/tmp/ipykernel_5435/2268667018.py:20: UserWarning: The figure layout has changed to tight\n",
      "  plt.tight_layout(rect=[0, 0.03, 1, 0.95])\n",
      "/tmp/ipykernel_5435/2268667018.py:20: UserWarning: The figure layout has changed to tight\n",
      "  plt.tight_layout(rect=[0, 0.03, 1, 0.95])\n",
      "/tmp/ipykernel_5435/2268667018.py:20: UserWarning: The figure layout has changed to tight\n",
      "  plt.tight_layout(rect=[0, 0.03, 1, 0.95])\n",
      "/tmp/ipykernel_5435/2268667018.py:20: UserWarning: The figure layout has changed to tight\n",
      "  plt.tight_layout(rect=[0, 0.03, 1, 0.95])\n",
      "/tmp/ipykernel_5435/2268667018.py:20: UserWarning: The figure layout has changed to tight\n",
      "  plt.tight_layout(rect=[0, 0.03, 1, 0.95])\n",
      "/tmp/ipykernel_5435/2268667018.py:20: UserWarning: The figure layout has changed to tight\n",
      "  plt.tight_layout(rect=[0, 0.03, 1, 0.95])\n",
      "/tmp/ipykernel_5435/2268667018.py:20: UserWarning: The figure layout has changed to tight\n",
      "  plt.tight_layout(rect=[0, 0.03, 1, 0.95])\n",
      "/tmp/ipykernel_5435/2268667018.py:20: UserWarning: The figure layout has changed to tight\n",
      "  plt.tight_layout(rect=[0, 0.03, 1, 0.95])\n",
      "/tmp/ipykernel_5435/2268667018.py:20: UserWarning: The figure layout has changed to tight\n",
      "  plt.tight_layout(rect=[0, 0.03, 1, 0.95])\n",
      "/tmp/ipykernel_5435/2268667018.py:20: UserWarning: The figure layout has changed to tight\n",
      "  plt.tight_layout(rect=[0, 0.03, 1, 0.95])\n",
      "/tmp/ipykernel_5435/2268667018.py:20: UserWarning: The figure layout has changed to tight\n",
      "  plt.tight_layout(rect=[0, 0.03, 1, 0.95])\n",
      "/tmp/ipykernel_5435/2268667018.py:20: UserWarning: The figure layout has changed to tight\n",
      "  plt.tight_layout(rect=[0, 0.03, 1, 0.95])\n",
      "/tmp/ipykernel_5435/2268667018.py:20: UserWarning: The figure layout has changed to tight\n",
      "  plt.tight_layout(rect=[0, 0.03, 1, 0.95])\n",
      "/tmp/ipykernel_5435/2268667018.py:20: UserWarning: The figure layout has changed to tight\n",
      "  plt.tight_layout(rect=[0, 0.03, 1, 0.95])\n",
      "/tmp/ipykernel_5435/2268667018.py:20: UserWarning: The figure layout has changed to tight\n",
      "  plt.tight_layout(rect=[0, 0.03, 1, 0.95])\n",
      "/tmp/ipykernel_5435/2268667018.py:20: UserWarning: The figure layout has changed to tight\n",
      "  plt.tight_layout(rect=[0, 0.03, 1, 0.95])\n",
      "/tmp/ipykernel_5435/2268667018.py:20: UserWarning: The figure layout has changed to tight\n",
      "  plt.tight_layout(rect=[0, 0.03, 1, 0.95])\n",
      "/tmp/ipykernel_5435/2268667018.py:20: UserWarning: The figure layout has changed to tight\n",
      "  plt.tight_layout(rect=[0, 0.03, 1, 0.95])\n",
      "/tmp/ipykernel_5435/2268667018.py:20: UserWarning: The figure layout has changed to tight\n",
      "  plt.tight_layout(rect=[0, 0.03, 1, 0.95])\n",
      "/tmp/ipykernel_5435/2268667018.py:20: UserWarning: The figure layout has changed to tight\n",
      "  plt.tight_layout(rect=[0, 0.03, 1, 0.95])\n",
      "/tmp/ipykernel_5435/2268667018.py:20: UserWarning: The figure layout has changed to tight\n",
      "  plt.tight_layout(rect=[0, 0.03, 1, 0.95])\n",
      "/tmp/ipykernel_5435/2268667018.py:20: UserWarning: The figure layout has changed to tight\n",
      "  plt.tight_layout(rect=[0, 0.03, 1, 0.95])\n",
      "/tmp/ipykernel_5435/2268667018.py:20: UserWarning: The figure layout has changed to tight\n",
      "  plt.tight_layout(rect=[0, 0.03, 1, 0.95])\n",
      "/tmp/ipykernel_5435/2268667018.py:20: UserWarning: The figure layout has changed to tight\n",
      "  plt.tight_layout(rect=[0, 0.03, 1, 0.95])\n",
      "/tmp/ipykernel_5435/2268667018.py:20: UserWarning: The figure layout has changed to tight\n",
      "  plt.tight_layout(rect=[0, 0.03, 1, 0.95])\n",
      "/tmp/ipykernel_5435/2268667018.py:20: UserWarning: The figure layout has changed to tight\n",
      "  plt.tight_layout(rect=[0, 0.03, 1, 0.95])\n",
      "/tmp/ipykernel_5435/2268667018.py:20: UserWarning: The figure layout has changed to tight\n",
      "  plt.tight_layout(rect=[0, 0.03, 1, 0.95])\n",
      "/tmp/ipykernel_5435/2268667018.py:20: UserWarning: The figure layout has changed to tight\n",
      "  plt.tight_layout(rect=[0, 0.03, 1, 0.95])\n",
      "/tmp/ipykernel_5435/2268667018.py:20: UserWarning: The figure layout has changed to tight\n",
      "  plt.tight_layout(rect=[0, 0.03, 1, 0.95])\n",
      "/tmp/ipykernel_5435/2268667018.py:20: UserWarning: The figure layout has changed to tight\n",
      "  plt.tight_layout(rect=[0, 0.03, 1, 0.95])\n",
      "/tmp/ipykernel_5435/2268667018.py:20: UserWarning: The figure layout has changed to tight\n",
      "  plt.tight_layout(rect=[0, 0.03, 1, 0.95])\n",
      "/tmp/ipykernel_5435/2268667018.py:20: UserWarning: The figure layout has changed to tight\n",
      "  plt.tight_layout(rect=[0, 0.03, 1, 0.95])\n",
      "/tmp/ipykernel_5435/2268667018.py:20: UserWarning: The figure layout has changed to tight\n",
      "  plt.tight_layout(rect=[0, 0.03, 1, 0.95])\n",
      "/tmp/ipykernel_5435/2268667018.py:20: UserWarning: The figure layout has changed to tight\n",
      "  plt.tight_layout(rect=[0, 0.03, 1, 0.95])\n"
     ]
    },
    {
     "data": {
      "text/plain": [
       "<Figure size 1000x600 with 0 Axes>"
      ]
     },
     "metadata": {},
     "output_type": "display_data"
    },
    {
     "data": {
      "text/plain": [
       "<Figure size 1000x600 with 0 Axes>"
      ]
     },
     "metadata": {},
     "output_type": "display_data"
    },
    {
     "data": {
      "text/plain": [
       "<Figure size 1000x600 with 0 Axes>"
      ]
     },
     "metadata": {},
     "output_type": "display_data"
    },
    {
     "data": {
      "text/plain": [
       "<Figure size 1000x600 with 0 Axes>"
      ]
     },
     "metadata": {},
     "output_type": "display_data"
    },
    {
     "data": {
      "text/plain": [
       "<Figure size 1000x600 with 0 Axes>"
      ]
     },
     "metadata": {},
     "output_type": "display_data"
    },
    {
     "data": {
      "text/plain": [
       "<Figure size 1000x600 with 0 Axes>"
      ]
     },
     "metadata": {},
     "output_type": "display_data"
    },
    {
     "data": {
      "text/plain": [
       "<Figure size 1000x600 with 0 Axes>"
      ]
     },
     "metadata": {},
     "output_type": "display_data"
    },
    {
     "data": {
      "text/plain": [
       "<Figure size 1000x600 with 0 Axes>"
      ]
     },
     "metadata": {},
     "output_type": "display_data"
    },
    {
     "data": {
      "text/plain": [
       "<Figure size 1000x600 with 0 Axes>"
      ]
     },
     "metadata": {},
     "output_type": "display_data"
    },
    {
     "data": {
      "text/plain": [
       "<Figure size 1000x600 with 0 Axes>"
      ]
     },
     "metadata": {},
     "output_type": "display_data"
    },
    {
     "data": {
      "text/plain": [
       "<Figure size 1000x600 with 0 Axes>"
      ]
     },
     "metadata": {},
     "output_type": "display_data"
    },
    {
     "data": {
      "text/plain": [
       "<Figure size 1000x600 with 0 Axes>"
      ]
     },
     "metadata": {},
     "output_type": "display_data"
    },
    {
     "data": {
      "text/plain": [
       "<Figure size 1000x600 with 0 Axes>"
      ]
     },
     "metadata": {},
     "output_type": "display_data"
    },
    {
     "data": {
      "text/plain": [
       "<Figure size 1000x600 with 0 Axes>"
      ]
     },
     "metadata": {},
     "output_type": "display_data"
    },
    {
     "data": {
      "text/plain": [
       "<Figure size 1000x600 with 0 Axes>"
      ]
     },
     "metadata": {},
     "output_type": "display_data"
    },
    {
     "data": {
      "text/plain": [
       "<Figure size 1000x600 with 0 Axes>"
      ]
     },
     "metadata": {},
     "output_type": "display_data"
    },
    {
     "data": {
      "text/plain": [
       "<Figure size 1000x600 with 0 Axes>"
      ]
     },
     "metadata": {},
     "output_type": "display_data"
    },
    {
     "data": {
      "text/plain": [
       "<Figure size 1000x600 with 0 Axes>"
      ]
     },
     "metadata": {},
     "output_type": "display_data"
    },
    {
     "data": {
      "text/plain": [
       "<Figure size 1000x600 with 0 Axes>"
      ]
     },
     "metadata": {},
     "output_type": "display_data"
    },
    {
     "data": {
      "text/plain": [
       "<Figure size 1000x600 with 0 Axes>"
      ]
     },
     "metadata": {},
     "output_type": "display_data"
    },
    {
     "data": {
      "text/plain": [
       "<Figure size 1000x600 with 0 Axes>"
      ]
     },
     "metadata": {},
     "output_type": "display_data"
    },
    {
     "data": {
      "text/plain": [
       "<Figure size 1000x600 with 0 Axes>"
      ]
     },
     "metadata": {},
     "output_type": "display_data"
    },
    {
     "data": {
      "text/plain": [
       "<Figure size 1000x600 with 0 Axes>"
      ]
     },
     "metadata": {},
     "output_type": "display_data"
    },
    {
     "data": {
      "text/plain": [
       "<Figure size 1000x600 with 0 Axes>"
      ]
     },
     "metadata": {},
     "output_type": "display_data"
    },
    {
     "data": {
      "text/plain": [
       "<Figure size 1000x600 with 0 Axes>"
      ]
     },
     "metadata": {},
     "output_type": "display_data"
    },
    {
     "data": {
      "text/plain": [
       "<Figure size 1000x600 with 0 Axes>"
      ]
     },
     "metadata": {},
     "output_type": "display_data"
    },
    {
     "data": {
      "text/plain": [
       "<Figure size 1000x600 with 0 Axes>"
      ]
     },
     "metadata": {},
     "output_type": "display_data"
    },
    {
     "data": {
      "text/plain": [
       "<Figure size 1000x600 with 0 Axes>"
      ]
     },
     "metadata": {},
     "output_type": "display_data"
    },
    {
     "data": {
      "text/plain": [
       "<Figure size 1000x600 with 0 Axes>"
      ]
     },
     "metadata": {},
     "output_type": "display_data"
    },
    {
     "data": {
      "text/plain": [
       "<Figure size 1000x600 with 0 Axes>"
      ]
     },
     "metadata": {},
     "output_type": "display_data"
    },
    {
     "data": {
      "text/plain": [
       "<Figure size 1000x600 with 0 Axes>"
      ]
     },
     "metadata": {},
     "output_type": "display_data"
    },
    {
     "data": {
      "text/plain": [
       "<Figure size 1000x600 with 0 Axes>"
      ]
     },
     "metadata": {},
     "output_type": "display_data"
    },
    {
     "data": {
      "text/plain": [
       "<Figure size 1000x600 with 0 Axes>"
      ]
     },
     "metadata": {},
     "output_type": "display_data"
    },
    {
     "data": {
      "text/plain": [
       "<Figure size 1000x600 with 0 Axes>"
      ]
     },
     "metadata": {},
     "output_type": "display_data"
    },
    {
     "data": {
      "text/plain": [
       "<Figure size 1000x600 with 0 Axes>"
      ]
     },
     "metadata": {},
     "output_type": "display_data"
    },
    {
     "data": {
      "text/plain": [
       "<Figure size 1000x600 with 0 Axes>"
      ]
     },
     "metadata": {},
     "output_type": "display_data"
    },
    {
     "data": {
      "text/plain": [
       "<Figure size 1000x600 with 0 Axes>"
      ]
     },
     "metadata": {},
     "output_type": "display_data"
    },
    {
     "data": {
      "text/plain": [
       "<Figure size 1000x600 with 0 Axes>"
      ]
     },
     "metadata": {},
     "output_type": "display_data"
    },
    {
     "data": {
      "text/plain": [
       "<Figure size 1000x600 with 0 Axes>"
      ]
     },
     "metadata": {},
     "output_type": "display_data"
    },
    {
     "data": {
      "text/plain": [
       "<Figure size 1000x600 with 0 Axes>"
      ]
     },
     "metadata": {},
     "output_type": "display_data"
    },
    {
     "data": {
      "text/plain": [
       "<Figure size 1000x600 with 0 Axes>"
      ]
     },
     "metadata": {},
     "output_type": "display_data"
    },
    {
     "data": {
      "text/plain": [
       "<Figure size 1000x600 with 0 Axes>"
      ]
     },
     "metadata": {},
     "output_type": "display_data"
    },
    {
     "data": {
      "text/plain": [
       "<Figure size 1000x600 with 0 Axes>"
      ]
     },
     "metadata": {},
     "output_type": "display_data"
    },
    {
     "data": {
      "text/plain": [
       "<Figure size 1000x600 with 0 Axes>"
      ]
     },
     "metadata": {},
     "output_type": "display_data"
    },
    {
     "data": {
      "text/plain": [
       "<Figure size 1000x600 with 0 Axes>"
      ]
     },
     "metadata": {},
     "output_type": "display_data"
    },
    {
     "data": {
      "text/plain": [
       "<Figure size 1000x600 with 0 Axes>"
      ]
     },
     "metadata": {},
     "output_type": "display_data"
    },
    {
     "data": {
      "text/plain": [
       "<Figure size 1000x600 with 0 Axes>"
      ]
     },
     "metadata": {},
     "output_type": "display_data"
    },
    {
     "data": {
      "text/plain": [
       "<Figure size 1000x600 with 0 Axes>"
      ]
     },
     "metadata": {},
     "output_type": "display_data"
    },
    {
     "data": {
      "text/plain": [
       "<Figure size 1000x600 with 0 Axes>"
      ]
     },
     "metadata": {},
     "output_type": "display_data"
    },
    {
     "data": {
      "text/plain": [
       "<Figure size 1000x600 with 0 Axes>"
      ]
     },
     "metadata": {},
     "output_type": "display_data"
    },
    {
     "data": {
      "text/plain": [
       "<Figure size 1000x600 with 0 Axes>"
      ]
     },
     "metadata": {},
     "output_type": "display_data"
    },
    {
     "data": {
      "text/plain": [
       "<Figure size 1000x600 with 0 Axes>"
      ]
     },
     "metadata": {},
     "output_type": "display_data"
    },
    {
     "data": {
      "text/plain": [
       "<Figure size 1000x600 with 0 Axes>"
      ]
     },
     "metadata": {},
     "output_type": "display_data"
    },
    {
     "data": {
      "text/plain": [
       "<Figure size 1000x600 with 0 Axes>"
      ]
     },
     "metadata": {},
     "output_type": "display_data"
    },
    {
     "data": {
      "text/plain": [
       "<Figure size 1000x600 with 0 Axes>"
      ]
     },
     "metadata": {},
     "output_type": "display_data"
    },
    {
     "data": {
      "text/plain": [
       "<Figure size 1000x600 with 0 Axes>"
      ]
     },
     "metadata": {},
     "output_type": "display_data"
    },
    {
     "data": {
      "text/plain": [
       "<Figure size 1000x600 with 0 Axes>"
      ]
     },
     "metadata": {},
     "output_type": "display_data"
    },
    {
     "data": {
      "text/plain": [
       "<Figure size 1000x600 with 0 Axes>"
      ]
     },
     "metadata": {},
     "output_type": "display_data"
    },
    {
     "data": {
      "text/plain": [
       "<Figure size 1000x600 with 0 Axes>"
      ]
     },
     "metadata": {},
     "output_type": "display_data"
    },
    {
     "data": {
      "text/plain": [
       "<Figure size 1000x600 with 0 Axes>"
      ]
     },
     "metadata": {},
     "output_type": "display_data"
    },
    {
     "data": {
      "text/plain": [
       "<Figure size 1000x600 with 0 Axes>"
      ]
     },
     "metadata": {},
     "output_type": "display_data"
    },
    {
     "data": {
      "text/plain": [
       "<Figure size 1000x600 with 0 Axes>"
      ]
     },
     "metadata": {},
     "output_type": "display_data"
    },
    {
     "data": {
      "text/plain": [
       "<Figure size 1000x600 with 0 Axes>"
      ]
     },
     "metadata": {},
     "output_type": "display_data"
    },
    {
     "data": {
      "text/plain": [
       "<Figure size 1000x600 with 0 Axes>"
      ]
     },
     "metadata": {},
     "output_type": "display_data"
    },
    {
     "data": {
      "text/plain": [
       "<Figure size 1000x600 with 0 Axes>"
      ]
     },
     "metadata": {},
     "output_type": "display_data"
    },
    {
     "data": {
      "text/plain": [
       "<Figure size 1000x600 with 0 Axes>"
      ]
     },
     "metadata": {},
     "output_type": "display_data"
    },
    {
     "data": {
      "text/plain": [
       "<Figure size 1000x600 with 0 Axes>"
      ]
     },
     "metadata": {},
     "output_type": "display_data"
    },
    {
     "data": {
      "text/plain": [
       "<Figure size 1000x600 with 0 Axes>"
      ]
     },
     "metadata": {},
     "output_type": "display_data"
    },
    {
     "data": {
      "text/plain": [
       "<Figure size 1000x600 with 0 Axes>"
      ]
     },
     "metadata": {},
     "output_type": "display_data"
    },
    {
     "data": {
      "text/plain": [
       "<Figure size 1000x600 with 0 Axes>"
      ]
     },
     "metadata": {},
     "output_type": "display_data"
    },
    {
     "data": {
      "text/plain": [
       "<Figure size 1000x600 with 0 Axes>"
      ]
     },
     "metadata": {},
     "output_type": "display_data"
    },
    {
     "data": {
      "text/plain": [
       "<Figure size 1000x600 with 0 Axes>"
      ]
     },
     "metadata": {},
     "output_type": "display_data"
    },
    {
     "data": {
      "text/plain": [
       "<Figure size 1000x600 with 0 Axes>"
      ]
     },
     "metadata": {},
     "output_type": "display_data"
    },
    {
     "data": {
      "text/plain": [
       "<Figure size 1000x600 with 0 Axes>"
      ]
     },
     "metadata": {},
     "output_type": "display_data"
    },
    {
     "data": {
      "text/plain": [
       "<Figure size 1000x600 with 0 Axes>"
      ]
     },
     "metadata": {},
     "output_type": "display_data"
    },
    {
     "data": {
      "text/plain": [
       "<Figure size 1000x600 with 0 Axes>"
      ]
     },
     "metadata": {},
     "output_type": "display_data"
    },
    {
     "data": {
      "text/plain": [
       "<Figure size 1000x600 with 0 Axes>"
      ]
     },
     "metadata": {},
     "output_type": "display_data"
    },
    {
     "data": {
      "text/plain": [
       "<Figure size 1000x600 with 0 Axes>"
      ]
     },
     "metadata": {},
     "output_type": "display_data"
    },
    {
     "data": {
      "text/plain": [
       "<Figure size 1000x600 with 0 Axes>"
      ]
     },
     "metadata": {},
     "output_type": "display_data"
    },
    {
     "data": {
      "text/plain": [
       "<Figure size 1000x600 with 0 Axes>"
      ]
     },
     "metadata": {},
     "output_type": "display_data"
    },
    {
     "data": {
      "text/plain": [
       "<Figure size 1000x600 with 0 Axes>"
      ]
     },
     "metadata": {},
     "output_type": "display_data"
    },
    {
     "data": {
      "text/plain": [
       "<Figure size 1000x600 with 0 Axes>"
      ]
     },
     "metadata": {},
     "output_type": "display_data"
    },
    {
     "data": {
      "text/plain": [
       "<Figure size 1000x600 with 0 Axes>"
      ]
     },
     "metadata": {},
     "output_type": "display_data"
    },
    {
     "data": {
      "text/plain": [
       "<Figure size 1000x600 with 0 Axes>"
      ]
     },
     "metadata": {},
     "output_type": "display_data"
    },
    {
     "data": {
      "text/plain": [
       "<Figure size 1000x600 with 0 Axes>"
      ]
     },
     "metadata": {},
     "output_type": "display_data"
    },
    {
     "data": {
      "text/plain": [
       "<Figure size 1000x600 with 0 Axes>"
      ]
     },
     "metadata": {},
     "output_type": "display_data"
    },
    {
     "data": {
      "text/plain": [
       "<Figure size 1000x600 with 0 Axes>"
      ]
     },
     "metadata": {},
     "output_type": "display_data"
    },
    {
     "data": {
      "text/plain": [
       "<Figure size 1000x600 with 0 Axes>"
      ]
     },
     "metadata": {},
     "output_type": "display_data"
    },
    {
     "data": {
      "text/plain": [
       "<Figure size 1000x600 with 0 Axes>"
      ]
     },
     "metadata": {},
     "output_type": "display_data"
    },
    {
     "data": {
      "text/plain": [
       "<Figure size 1000x600 with 0 Axes>"
      ]
     },
     "metadata": {},
     "output_type": "display_data"
    },
    {
     "data": {
      "text/plain": [
       "<Figure size 1000x600 with 0 Axes>"
      ]
     },
     "metadata": {},
     "output_type": "display_data"
    },
    {
     "data": {
      "text/plain": [
       "<Figure size 1000x600 with 0 Axes>"
      ]
     },
     "metadata": {},
     "output_type": "display_data"
    },
    {
     "data": {
      "text/plain": [
       "<Figure size 1000x600 with 0 Axes>"
      ]
     },
     "metadata": {},
     "output_type": "display_data"
    },
    {
     "data": {
      "text/plain": [
       "<Figure size 1000x600 with 0 Axes>"
      ]
     },
     "metadata": {},
     "output_type": "display_data"
    },
    {
     "data": {
      "text/plain": [
       "<Figure size 1000x600 with 0 Axes>"
      ]
     },
     "metadata": {},
     "output_type": "display_data"
    },
    {
     "data": {
      "text/plain": [
       "<Figure size 1000x600 with 0 Axes>"
      ]
     },
     "metadata": {},
     "output_type": "display_data"
    },
    {
     "data": {
      "text/plain": [
       "<Figure size 1000x600 with 0 Axes>"
      ]
     },
     "metadata": {},
     "output_type": "display_data"
    },
    {
     "data": {
      "text/plain": [
       "<Figure size 1000x600 with 0 Axes>"
      ]
     },
     "metadata": {},
     "output_type": "display_data"
    },
    {
     "data": {
      "text/plain": [
       "<Figure size 1000x600 with 0 Axes>"
      ]
     },
     "metadata": {},
     "output_type": "display_data"
    },
    {
     "data": {
      "text/plain": [
       "<Figure size 1000x600 with 0 Axes>"
      ]
     },
     "metadata": {},
     "output_type": "display_data"
    },
    {
     "data": {
      "text/plain": [
       "<Figure size 1000x600 with 0 Axes>"
      ]
     },
     "metadata": {},
     "output_type": "display_data"
    },
    {
     "data": {
      "text/plain": [
       "<Figure size 1000x600 with 0 Axes>"
      ]
     },
     "metadata": {},
     "output_type": "display_data"
    },
    {
     "data": {
      "text/plain": [
       "<Figure size 1000x600 with 0 Axes>"
      ]
     },
     "metadata": {},
     "output_type": "display_data"
    },
    {
     "data": {
      "text/plain": [
       "<Figure size 1000x600 with 0 Axes>"
      ]
     },
     "metadata": {},
     "output_type": "display_data"
    },
    {
     "data": {
      "text/plain": [
       "<Figure size 1000x600 with 0 Axes>"
      ]
     },
     "metadata": {},
     "output_type": "display_data"
    },
    {
     "data": {
      "text/plain": [
       "<Figure size 1000x600 with 0 Axes>"
      ]
     },
     "metadata": {},
     "output_type": "display_data"
    },
    {
     "data": {
      "text/plain": [
       "<Figure size 1000x600 with 0 Axes>"
      ]
     },
     "metadata": {},
     "output_type": "display_data"
    },
    {
     "data": {
      "text/plain": [
       "<Figure size 1000x600 with 0 Axes>"
      ]
     },
     "metadata": {},
     "output_type": "display_data"
    },
    {
     "data": {
      "text/plain": [
       "<Figure size 1000x600 with 0 Axes>"
      ]
     },
     "metadata": {},
     "output_type": "display_data"
    },
    {
     "data": {
      "text/plain": [
       "<Figure size 1000x600 with 0 Axes>"
      ]
     },
     "metadata": {},
     "output_type": "display_data"
    },
    {
     "data": {
      "text/plain": [
       "<Figure size 1000x600 with 0 Axes>"
      ]
     },
     "metadata": {},
     "output_type": "display_data"
    },
    {
     "data": {
      "text/plain": [
       "<Figure size 1000x600 with 0 Axes>"
      ]
     },
     "metadata": {},
     "output_type": "display_data"
    },
    {
     "data": {
      "text/plain": [
       "<Figure size 1000x600 with 0 Axes>"
      ]
     },
     "metadata": {},
     "output_type": "display_data"
    },
    {
     "data": {
      "text/plain": [
       "<Figure size 1000x600 with 0 Axes>"
      ]
     },
     "metadata": {},
     "output_type": "display_data"
    },
    {
     "data": {
      "text/plain": [
       "<Figure size 1000x600 with 0 Axes>"
      ]
     },
     "metadata": {},
     "output_type": "display_data"
    },
    {
     "data": {
      "text/plain": [
       "<Figure size 1000x600 with 0 Axes>"
      ]
     },
     "metadata": {},
     "output_type": "display_data"
    },
    {
     "data": {
      "text/plain": [
       "<Figure size 1000x600 with 0 Axes>"
      ]
     },
     "metadata": {},
     "output_type": "display_data"
    },
    {
     "data": {
      "text/plain": [
       "<Figure size 1000x600 with 0 Axes>"
      ]
     },
     "metadata": {},
     "output_type": "display_data"
    },
    {
     "data": {
      "text/plain": [
       "<Figure size 1000x600 with 0 Axes>"
      ]
     },
     "metadata": {},
     "output_type": "display_data"
    },
    {
     "data": {
      "text/plain": [
       "<Figure size 1000x600 with 0 Axes>"
      ]
     },
     "metadata": {},
     "output_type": "display_data"
    },
    {
     "data": {
      "text/plain": [
       "<Figure size 1000x600 with 0 Axes>"
      ]
     },
     "metadata": {},
     "output_type": "display_data"
    },
    {
     "data": {
      "text/plain": [
       "<Figure size 1000x600 with 0 Axes>"
      ]
     },
     "metadata": {},
     "output_type": "display_data"
    },
    {
     "data": {
      "text/plain": [
       "<Figure size 1000x600 with 0 Axes>"
      ]
     },
     "metadata": {},
     "output_type": "display_data"
    },
    {
     "data": {
      "text/plain": [
       "<Figure size 1000x600 with 0 Axes>"
      ]
     },
     "metadata": {},
     "output_type": "display_data"
    },
    {
     "data": {
      "text/plain": [
       "<Figure size 1000x600 with 0 Axes>"
      ]
     },
     "metadata": {},
     "output_type": "display_data"
    },
    {
     "data": {
      "text/plain": [
       "<Figure size 1000x600 with 0 Axes>"
      ]
     },
     "metadata": {},
     "output_type": "display_data"
    },
    {
     "data": {
      "text/plain": [
       "<Figure size 1000x600 with 0 Axes>"
      ]
     },
     "metadata": {},
     "output_type": "display_data"
    },
    {
     "data": {
      "text/plain": [
       "<Figure size 1000x600 with 0 Axes>"
      ]
     },
     "metadata": {},
     "output_type": "display_data"
    },
    {
     "data": {
      "text/plain": [
       "<Figure size 1000x600 with 0 Axes>"
      ]
     },
     "metadata": {},
     "output_type": "display_data"
    },
    {
     "data": {
      "text/plain": [
       "<Figure size 1000x600 with 0 Axes>"
      ]
     },
     "metadata": {},
     "output_type": "display_data"
    },
    {
     "data": {
      "text/plain": [
       "<Figure size 1000x600 with 0 Axes>"
      ]
     },
     "metadata": {},
     "output_type": "display_data"
    },
    {
     "data": {
      "text/plain": [
       "<Figure size 1000x600 with 0 Axes>"
      ]
     },
     "metadata": {},
     "output_type": "display_data"
    },
    {
     "data": {
      "text/plain": [
       "<Figure size 1000x600 with 0 Axes>"
      ]
     },
     "metadata": {},
     "output_type": "display_data"
    },
    {
     "data": {
      "text/plain": [
       "<Figure size 1000x600 with 0 Axes>"
      ]
     },
     "metadata": {},
     "output_type": "display_data"
    },
    {
     "data": {
      "text/plain": [
       "<Figure size 1000x600 with 0 Axes>"
      ]
     },
     "metadata": {},
     "output_type": "display_data"
    },
    {
     "data": {
      "text/plain": [
       "<Figure size 1000x600 with 0 Axes>"
      ]
     },
     "metadata": {},
     "output_type": "display_data"
    },
    {
     "data": {
      "text/plain": [
       "<Figure size 1000x600 with 0 Axes>"
      ]
     },
     "metadata": {},
     "output_type": "display_data"
    },
    {
     "data": {
      "text/plain": [
       "<Figure size 1000x600 with 0 Axes>"
      ]
     },
     "metadata": {},
     "output_type": "display_data"
    },
    {
     "data": {
      "text/plain": [
       "<Figure size 1000x600 with 0 Axes>"
      ]
     },
     "metadata": {},
     "output_type": "display_data"
    },
    {
     "data": {
      "text/plain": [
       "<Figure size 1000x600 with 0 Axes>"
      ]
     },
     "metadata": {},
     "output_type": "display_data"
    },
    {
     "data": {
      "text/plain": [
       "<Figure size 1000x600 with 0 Axes>"
      ]
     },
     "metadata": {},
     "output_type": "display_data"
    },
    {
     "data": {
      "text/plain": [
       "<Figure size 1000x600 with 0 Axes>"
      ]
     },
     "metadata": {},
     "output_type": "display_data"
    },
    {
     "data": {
      "text/plain": [
       "<Figure size 1000x600 with 0 Axes>"
      ]
     },
     "metadata": {},
     "output_type": "display_data"
    },
    {
     "data": {
      "text/plain": [
       "<Figure size 1000x600 with 0 Axes>"
      ]
     },
     "metadata": {},
     "output_type": "display_data"
    },
    {
     "data": {
      "text/plain": [
       "<Figure size 1000x600 with 0 Axes>"
      ]
     },
     "metadata": {},
     "output_type": "display_data"
    },
    {
     "data": {
      "text/plain": [
       "<Figure size 1000x600 with 0 Axes>"
      ]
     },
     "metadata": {},
     "output_type": "display_data"
    },
    {
     "data": {
      "text/plain": [
       "<Figure size 1000x600 with 0 Axes>"
      ]
     },
     "metadata": {},
     "output_type": "display_data"
    },
    {
     "data": {
      "text/plain": [
       "<Figure size 1000x600 with 0 Axes>"
      ]
     },
     "metadata": {},
     "output_type": "display_data"
    },
    {
     "data": {
      "text/plain": [
       "<Figure size 1000x600 with 0 Axes>"
      ]
     },
     "metadata": {},
     "output_type": "display_data"
    },
    {
     "data": {
      "text/plain": [
       "<Figure size 1000x600 with 0 Axes>"
      ]
     },
     "metadata": {},
     "output_type": "display_data"
    },
    {
     "data": {
      "text/plain": [
       "<Figure size 1000x600 with 0 Axes>"
      ]
     },
     "metadata": {},
     "output_type": "display_data"
    },
    {
     "data": {
      "text/plain": [
       "<Figure size 1000x600 with 0 Axes>"
      ]
     },
     "metadata": {},
     "output_type": "display_data"
    },
    {
     "data": {
      "text/plain": [
       "<Figure size 1000x600 with 0 Axes>"
      ]
     },
     "metadata": {},
     "output_type": "display_data"
    },
    {
     "data": {
      "text/plain": [
       "<Figure size 1000x600 with 0 Axes>"
      ]
     },
     "metadata": {},
     "output_type": "display_data"
    },
    {
     "data": {
      "text/plain": [
       "<Figure size 1000x600 with 0 Axes>"
      ]
     },
     "metadata": {},
     "output_type": "display_data"
    },
    {
     "data": {
      "text/plain": [
       "<Figure size 1000x600 with 0 Axes>"
      ]
     },
     "metadata": {},
     "output_type": "display_data"
    },
    {
     "data": {
      "text/plain": [
       "<Figure size 1000x600 with 0 Axes>"
      ]
     },
     "metadata": {},
     "output_type": "display_data"
    },
    {
     "data": {
      "text/plain": [
       "<Figure size 1000x600 with 0 Axes>"
      ]
     },
     "metadata": {},
     "output_type": "display_data"
    },
    {
     "data": {
      "text/plain": [
       "<Figure size 1000x600 with 0 Axes>"
      ]
     },
     "metadata": {},
     "output_type": "display_data"
    },
    {
     "data": {
      "text/plain": [
       "<Figure size 1000x600 with 0 Axes>"
      ]
     },
     "metadata": {},
     "output_type": "display_data"
    },
    {
     "data": {
      "text/plain": [
       "<Figure size 1000x600 with 0 Axes>"
      ]
     },
     "metadata": {},
     "output_type": "display_data"
    },
    {
     "data": {
      "text/plain": [
       "<Figure size 1000x600 with 0 Axes>"
      ]
     },
     "metadata": {},
     "output_type": "display_data"
    },
    {
     "data": {
      "text/plain": [
       "<Figure size 1000x600 with 0 Axes>"
      ]
     },
     "metadata": {},
     "output_type": "display_data"
    },
    {
     "data": {
      "text/plain": [
       "<Figure size 1000x600 with 0 Axes>"
      ]
     },
     "metadata": {},
     "output_type": "display_data"
    },
    {
     "data": {
      "text/plain": [
       "<Figure size 1000x600 with 0 Axes>"
      ]
     },
     "metadata": {},
     "output_type": "display_data"
    },
    {
     "data": {
      "text/plain": [
       "<Figure size 1000x600 with 0 Axes>"
      ]
     },
     "metadata": {},
     "output_type": "display_data"
    },
    {
     "data": {
      "text/plain": [
       "<Figure size 1000x600 with 0 Axes>"
      ]
     },
     "metadata": {},
     "output_type": "display_data"
    },
    {
     "data": {
      "text/plain": [
       "<Figure size 1000x600 with 0 Axes>"
      ]
     },
     "metadata": {},
     "output_type": "display_data"
    },
    {
     "data": {
      "text/plain": [
       "<Figure size 1000x600 with 0 Axes>"
      ]
     },
     "metadata": {},
     "output_type": "display_data"
    },
    {
     "data": {
      "text/plain": [
       "<Figure size 1000x600 with 0 Axes>"
      ]
     },
     "metadata": {},
     "output_type": "display_data"
    },
    {
     "data": {
      "text/plain": [
       "<Figure size 1000x600 with 0 Axes>"
      ]
     },
     "metadata": {},
     "output_type": "display_data"
    },
    {
     "data": {
      "text/plain": [
       "<Figure size 1000x600 with 0 Axes>"
      ]
     },
     "metadata": {},
     "output_type": "display_data"
    },
    {
     "data": {
      "text/plain": [
       "<Figure size 1000x600 with 0 Axes>"
      ]
     },
     "metadata": {},
     "output_type": "display_data"
    },
    {
     "data": {
      "text/plain": [
       "<Figure size 1000x600 with 0 Axes>"
      ]
     },
     "metadata": {},
     "output_type": "display_data"
    },
    {
     "data": {
      "text/plain": [
       "<Figure size 1000x600 with 0 Axes>"
      ]
     },
     "metadata": {},
     "output_type": "display_data"
    },
    {
     "data": {
      "text/plain": [
       "<Figure size 1000x600 with 0 Axes>"
      ]
     },
     "metadata": {},
     "output_type": "display_data"
    },
    {
     "data": {
      "text/plain": [
       "<Figure size 1000x600 with 0 Axes>"
      ]
     },
     "metadata": {},
     "output_type": "display_data"
    },
    {
     "data": {
      "text/plain": [
       "<Figure size 1000x600 with 0 Axes>"
      ]
     },
     "metadata": {},
     "output_type": "display_data"
    },
    {
     "data": {
      "text/plain": [
       "<Figure size 1000x600 with 0 Axes>"
      ]
     },
     "metadata": {},
     "output_type": "display_data"
    },
    {
     "data": {
      "text/plain": [
       "<Figure size 1000x600 with 0 Axes>"
      ]
     },
     "metadata": {},
     "output_type": "display_data"
    },
    {
     "data": {
      "text/plain": [
       "<Figure size 1000x600 with 0 Axes>"
      ]
     },
     "metadata": {},
     "output_type": "display_data"
    },
    {
     "data": {
      "text/plain": [
       "<Figure size 1000x600 with 0 Axes>"
      ]
     },
     "metadata": {},
     "output_type": "display_data"
    },
    {
     "data": {
      "text/plain": [
       "<Figure size 1000x600 with 0 Axes>"
      ]
     },
     "metadata": {},
     "output_type": "display_data"
    },
    {
     "data": {
      "text/plain": [
       "<Figure size 1000x600 with 0 Axes>"
      ]
     },
     "metadata": {},
     "output_type": "display_data"
    },
    {
     "data": {
      "text/plain": [
       "<Figure size 1000x600 with 0 Axes>"
      ]
     },
     "metadata": {},
     "output_type": "display_data"
    },
    {
     "data": {
      "text/plain": [
       "<Figure size 1000x600 with 0 Axes>"
      ]
     },
     "metadata": {},
     "output_type": "display_data"
    },
    {
     "data": {
      "text/plain": [
       "<Figure size 1000x600 with 0 Axes>"
      ]
     },
     "metadata": {},
     "output_type": "display_data"
    },
    {
     "data": {
      "text/plain": [
       "<Figure size 1000x600 with 0 Axes>"
      ]
     },
     "metadata": {},
     "output_type": "display_data"
    },
    {
     "data": {
      "text/plain": [
       "<Figure size 1000x600 with 0 Axes>"
      ]
     },
     "metadata": {},
     "output_type": "display_data"
    },
    {
     "data": {
      "text/plain": [
       "<Figure size 1000x600 with 0 Axes>"
      ]
     },
     "metadata": {},
     "output_type": "display_data"
    },
    {
     "data": {
      "text/plain": [
       "<Figure size 1000x600 with 0 Axes>"
      ]
     },
     "metadata": {},
     "output_type": "display_data"
    },
    {
     "data": {
      "text/plain": [
       "<Figure size 1000x600 with 0 Axes>"
      ]
     },
     "metadata": {},
     "output_type": "display_data"
    },
    {
     "data": {
      "text/plain": [
       "<Figure size 1000x600 with 0 Axes>"
      ]
     },
     "metadata": {},
     "output_type": "display_data"
    },
    {
     "data": {
      "text/plain": [
       "<Figure size 1000x600 with 0 Axes>"
      ]
     },
     "metadata": {},
     "output_type": "display_data"
    },
    {
     "data": {
      "text/plain": [
       "<Figure size 1000x600 with 0 Axes>"
      ]
     },
     "metadata": {},
     "output_type": "display_data"
    },
    {
     "data": {
      "text/plain": [
       "<Figure size 1000x600 with 0 Axes>"
      ]
     },
     "metadata": {},
     "output_type": "display_data"
    },
    {
     "data": {
      "text/plain": [
       "<Figure size 1000x600 with 0 Axes>"
      ]
     },
     "metadata": {},
     "output_type": "display_data"
    },
    {
     "data": {
      "text/plain": [
       "<Figure size 1000x600 with 0 Axes>"
      ]
     },
     "metadata": {},
     "output_type": "display_data"
    },
    {
     "data": {
      "text/plain": [
       "<Figure size 1000x600 with 0 Axes>"
      ]
     },
     "metadata": {},
     "output_type": "display_data"
    },
    {
     "data": {
      "text/plain": [
       "<Figure size 1000x600 with 0 Axes>"
      ]
     },
     "metadata": {},
     "output_type": "display_data"
    },
    {
     "data": {
      "text/plain": [
       "<Figure size 1000x600 with 0 Axes>"
      ]
     },
     "metadata": {},
     "output_type": "display_data"
    },
    {
     "data": {
      "text/plain": [
       "<Figure size 1000x600 with 0 Axes>"
      ]
     },
     "metadata": {},
     "output_type": "display_data"
    },
    {
     "data": {
      "text/plain": [
       "<Figure size 1000x600 with 0 Axes>"
      ]
     },
     "metadata": {},
     "output_type": "display_data"
    },
    {
     "data": {
      "text/plain": [
       "<Figure size 1000x600 with 0 Axes>"
      ]
     },
     "metadata": {},
     "output_type": "display_data"
    },
    {
     "data": {
      "text/plain": [
       "<Figure size 1000x600 with 0 Axes>"
      ]
     },
     "metadata": {},
     "output_type": "display_data"
    },
    {
     "data": {
      "text/plain": [
       "<Figure size 1000x600 with 0 Axes>"
      ]
     },
     "metadata": {},
     "output_type": "display_data"
    },
    {
     "data": {
      "text/plain": [
       "<Figure size 1000x600 with 0 Axes>"
      ]
     },
     "metadata": {},
     "output_type": "display_data"
    },
    {
     "data": {
      "text/plain": [
       "<Figure size 1000x600 with 0 Axes>"
      ]
     },
     "metadata": {},
     "output_type": "display_data"
    },
    {
     "data": {
      "text/plain": [
       "<Figure size 1000x600 with 0 Axes>"
      ]
     },
     "metadata": {},
     "output_type": "display_data"
    },
    {
     "data": {
      "text/plain": [
       "<Figure size 1000x600 with 0 Axes>"
      ]
     },
     "metadata": {},
     "output_type": "display_data"
    },
    {
     "data": {
      "text/plain": [
       "<Figure size 1000x600 with 0 Axes>"
      ]
     },
     "metadata": {},
     "output_type": "display_data"
    },
    {
     "data": {
      "text/plain": [
       "<Figure size 1000x600 with 0 Axes>"
      ]
     },
     "metadata": {},
     "output_type": "display_data"
    },
    {
     "data": {
      "text/plain": [
       "<Figure size 1000x600 with 0 Axes>"
      ]
     },
     "metadata": {},
     "output_type": "display_data"
    },
    {
     "data": {
      "text/plain": [
       "<Figure size 1000x600 with 0 Axes>"
      ]
     },
     "metadata": {},
     "output_type": "display_data"
    },
    {
     "data": {
      "text/plain": [
       "<Figure size 1000x600 with 0 Axes>"
      ]
     },
     "metadata": {},
     "output_type": "display_data"
    },
    {
     "data": {
      "text/plain": [
       "<Figure size 1000x600 with 0 Axes>"
      ]
     },
     "metadata": {},
     "output_type": "display_data"
    },
    {
     "data": {
      "text/plain": [
       "<Figure size 1000x600 with 0 Axes>"
      ]
     },
     "metadata": {},
     "output_type": "display_data"
    },
    {
     "data": {
      "text/plain": [
       "<Figure size 1000x600 with 0 Axes>"
      ]
     },
     "metadata": {},
     "output_type": "display_data"
    },
    {
     "data": {
      "text/plain": [
       "<Figure size 1000x600 with 0 Axes>"
      ]
     },
     "metadata": {},
     "output_type": "display_data"
    },
    {
     "data": {
      "text/plain": [
       "<Figure size 1000x600 with 0 Axes>"
      ]
     },
     "metadata": {},
     "output_type": "display_data"
    },
    {
     "data": {
      "text/plain": [
       "<Figure size 1000x600 with 0 Axes>"
      ]
     },
     "metadata": {},
     "output_type": "display_data"
    },
    {
     "data": {
      "text/plain": [
       "<Figure size 1000x600 with 0 Axes>"
      ]
     },
     "metadata": {},
     "output_type": "display_data"
    },
    {
     "data": {
      "text/plain": [
       "<Figure size 1000x600 with 0 Axes>"
      ]
     },
     "metadata": {},
     "output_type": "display_data"
    },
    {
     "data": {
      "text/plain": [
       "<Figure size 1000x600 with 0 Axes>"
      ]
     },
     "metadata": {},
     "output_type": "display_data"
    },
    {
     "data": {
      "text/plain": [
       "<Figure size 1000x600 with 0 Axes>"
      ]
     },
     "metadata": {},
     "output_type": "display_data"
    },
    {
     "data": {
      "text/plain": [
       "<Figure size 1000x600 with 0 Axes>"
      ]
     },
     "metadata": {},
     "output_type": "display_data"
    },
    {
     "data": {
      "text/plain": [
       "<Figure size 1000x600 with 0 Axes>"
      ]
     },
     "metadata": {},
     "output_type": "display_data"
    },
    {
     "data": {
      "text/plain": [
       "<Figure size 1000x600 with 0 Axes>"
      ]
     },
     "metadata": {},
     "output_type": "display_data"
    }
   ],
   "source": [
    "# # Criar a pasta 'images' se ela ainda não existir\n",
    "# if not os.path.exists(path + 'images'):\n",
    "#     os.makedirs(path + 'images')\n",
    "\n",
    "# if not os.path.exists(path + 'images/decomposition'):\n",
    "#     os.makedirs(path + 'images/decomposition')\n",
    "\n",
    "\n",
    "# for country in df_raw.columns:\n",
    "\n",
    "#     country_data = df_raw[country]\n",
    "    \n",
    "\n",
    "#     decomposition = seasonal_decompose(country_data, model='additive')\n",
    "    \n",
    "\n",
    "#     plt.figure(figsize=(10, 6))\n",
    "#     decomposition.plot()\n",
    "#     plt.suptitle(f'Additive Decomposition for {country}', fontsize=16)\n",
    "#     plt.tight_layout(rect=[0, 0.03, 1, 0.95])\n",
    "#     plt.savefig(path + f'images/decomposition/{country}_decomposition.png')\n",
    "#     plt.close() \n"
   ]
  },
  {
   "cell_type": "markdown",
   "metadata": {},
   "source": [
    "## 1.2 adf test"
   ]
  },
  {
   "cell_type": "markdown",
   "metadata": {},
   "source": [
    "Teste estátisco para descobrir se a série é estacionária ou não."
   ]
  },
  {
   "cell_type": "code",
   "execution_count": 13,
   "metadata": {},
   "outputs": [],
   "source": [
    "stacionary_data = []\n",
    "non_stacionary_data = []\n",
    "\n",
    "for series in df_raw.columns:\n",
    "\n",
    "    country_data = df_raw[[series]]\n",
    "\n",
    "    # Realizando o teste ADF\n",
    "    result = adfuller(country_data)\n",
    "\n",
    "    # Interpretando os resultados do teste\n",
    "    # print('ADF Statistic:', result[0])\n",
    "    # print('p-value:', result[1])\n",
    "    # print('Critical Values:', result[4])\n",
    "\n",
    "    if result[1] <= 0.05:\n",
    "        # print(\"A série é estacionária.\")\n",
    "        stacionary_data.append(series)\n",
    "    else:\n",
    "        # print(\"A série não é estacionária.\")\n",
    "        non_stacionary_data.append(series)\n"
   ]
  },
  {
   "cell_type": "code",
   "execution_count": 14,
   "metadata": {},
   "outputs": [
    {
     "name": "stdout",
     "output_type": "stream",
     "text": [
      "% das series temporais estácionárias: 81.14035087719299\n",
      "% das series temporais não estácionárias: 18.859649122807017\n"
     ]
    }
   ],
   "source": [
    "print(\"% das series temporais estácionárias:\",(len(stacionary_data)/len(df_raw.columns)*100))\n",
    "print(\"% das series temporais não estácionárias:\",(len(non_stacionary_data)/len(df_raw.columns)*100))"
   ]
  },
  {
   "cell_type": "code",
   "execution_count": 15,
   "metadata": {},
   "outputs": [
    {
     "data": {
      "text/plain": [
       "43"
      ]
     },
     "execution_count": 15,
     "metadata": {},
     "output_type": "execute_result"
    }
   ],
   "source": [
    "len(non_stacionary_data)"
   ]
  },
  {
   "cell_type": "markdown",
   "metadata": {},
   "source": [
    "Devido a natureza dos dados economicos toodas as series serão consideradas estacionarias, sem sazonalidade e tendência definidas"
   ]
  },
  {
   "cell_type": "markdown",
   "metadata": {},
   "source": [
    "# 2.0 Models"
   ]
  },
  {
   "cell_type": "code",
   "execution_count": 16,
   "metadata": {},
   "outputs": [],
   "source": [
    "df1 = df_raw.copy()"
   ]
  },
  {
   "cell_type": "markdown",
   "metadata": {},
   "source": [
    "## 2.1 test train split"
   ]
  },
  {
   "cell_type": "code",
   "execution_count": 17,
   "metadata": {},
   "outputs": [],
   "source": [
    "test_years = 5\n",
    "train = df1[:-test_years]\n",
    "test = df1[-test_years:]"
   ]
  },
  {
   "cell_type": "markdown",
   "metadata": {},
   "source": [
    "## 2.2 Simple exponential smoothing"
   ]
  },
  {
   "cell_type": "code",
   "execution_count": 18,
   "metadata": {},
   "outputs": [],
   "source": [
    "from statsmodels.tsa.api import SimpleExpSmoothing"
   ]
  },
  {
   "cell_type": "code",
   "execution_count": 19,
   "metadata": {},
   "outputs": [
    {
     "name": "stderr",
     "output_type": "stream",
     "text": [
      "/home/lavino/Documentos/projetos_indicium/ds_desafio/venv/lib/python3.10/site-packages/pandas/util/_decorators.py:210: EstimationWarning: Model has no free parameters to estimate. Set optimized=False to suppress this warning\n",
      "  return func(*args, **kwargs)\n"
     ]
    }
   ],
   "source": [
    "# simple exponetial smooting\n",
    "model_ses = SimpleExpSmoothing(\n",
    "    train[country],\n",
    "    initialization_method='heuristic',                              \n",
    ").fit(smoothing_level=0.2, optimized=True)\n",
    "\n",
    "pred_ses = model_ses.forecast(test.shape[0])"
   ]
  },
  {
   "cell_type": "code",
   "execution_count": 20,
   "metadata": {},
   "outputs": [
    {
     "data": {
      "text/plain": [
       "<Axes: xlabel='year'>"
      ]
     },
     "execution_count": 20,
     "metadata": {},
     "output_type": "execute_result"
    },
    {
     "data": {
      "image/png": "[encoded data removed]",
      "text/plain": [
       "<Figure size 640x480 with 1 Axes>"
      ]
     },
     "metadata": {},
     "output_type": "display_data"
    }
   ],
   "source": [
    "train[country].plot(legend=True, label='Train')\n",
    "test[country].plot(legend=True, label='Test')\n",
    "pred_ses.plot(legend=True, label='Pred')"
   ]
  },
  {
   "cell_type": "code",
   "execution_count": 21,
   "metadata": {},
   "outputs": [
    {
     "data": {
      "text/html": [
       "<div>\n",
       "<style scoped>\n",
       "    .dataframe tbody tr th:only-of-type {\n",
       "        vertical-align: middle;\n",
       "    }\n",
       "\n",
       "    .dataframe tbody tr th {\n",
       "        vertical-align: top;\n",
       "    }\n",
       "\n",
       "    .dataframe thead th {\n",
       "        text-align: right;\n",
       "    }\n",
       "</style>\n",
       "<table border=\"1\" class=\"dataframe\">\n",
       "  <thead>\n",
       "    <tr style=\"text-align: right;\">\n",
       "      <th></th>\n",
       "      <th>Model</th>\n",
       "      <th>mae</th>\n",
       "      <th>rmse</th>\n",
       "      <th>mape</th>\n",
       "    </tr>\n",
       "  </thead>\n",
       "  <tbody>\n",
       "    <tr>\n",
       "      <th>0</th>\n",
       "      <td>Simple Exponential Smoothing</td>\n",
       "      <td>0.09274</td>\n",
       "      <td>0.10982</td>\n",
       "      <td>2.94133</td>\n",
       "    </tr>\n",
       "  </tbody>\n",
       "</table>\n",
       "</div>"
      ],
      "text/plain": [
       "                          Model      mae     rmse     mape\n",
       "0  Simple Exponential Smoothing  0.09274  0.10982  2.94133"
      ]
     },
     "execution_count": 21,
     "metadata": {},
     "output_type": "execute_result"
    }
   ],
   "source": [
    "metrics_ses = metrics(test[country], pred_ses, 'Simple Exponential Smoothing')\n",
    "metrics_ses"
   ]
  },
  {
   "cell_type": "markdown",
   "metadata": {},
   "source": [
    "## 2.3 Auto arima"
   ]
  },
  {
   "cell_type": "code",
   "execution_count": 22,
   "metadata": {},
   "outputs": [],
   "source": [
    "from pmdarima.arima import auto_arima"
   ]
  },
  {
   "cell_type": "code",
   "execution_count": 23,
   "metadata": {},
   "outputs": [],
   "source": [
    "model_auto_arima = auto_arima(\n",
    "    train[country],\n",
    "    m=1,\n",
    "    test='adf',\n",
    "    seasonal=False,\n",
    "    stepwise=True,\n",
    "    d=0,\n",
    "    start_p=0,\n",
    "    max_p=1,\n",
    "    start_q=0,\n",
    "    max_q=1,\n",
    ")"
   ]
  },
  {
   "cell_type": "code",
   "execution_count": 24,
   "metadata": {},
   "outputs": [
    {
     "data": {
      "text/plain": [
       "2024-01-01    3.361364\n",
       "2025-01-01    3.361364\n",
       "2026-01-01    3.361364\n",
       "2027-01-01    3.361364\n",
       "2028-01-01    3.361364\n",
       "Freq: AS-JAN, dtype: float64"
      ]
     },
     "execution_count": 24,
     "metadata": {},
     "output_type": "execute_result"
    }
   ],
   "source": [
    "pred_auto_arima = model_auto_arima.predict(test.shape[0])\n",
    "pred_auto_arima"
   ]
  },
  {
   "cell_type": "code",
   "execution_count": 25,
   "metadata": {},
   "outputs": [
    {
     "data": {
      "text/plain": [
       "<Axes: xlabel='year'>"
      ]
     },
     "execution_count": 25,
     "metadata": {},
     "output_type": "execute_result"
    },
    {
     "data": {
      "image/png": "[encoded data removed]",
      "text/plain": [
       "<Figure size 640x480 with 1 Axes>"
      ]
     },
     "metadata": {},
     "output_type": "display_data"
    }
   ],
   "source": [
    "train[country].plot(legend=True, label='Train')\n",
    "test[country].plot(legend=True, label='Test')\n",
    "pred_auto_arima.plot(legend=True, label='Pred')"
   ]
  },
  {
   "cell_type": "code",
   "execution_count": 26,
   "metadata": {},
   "outputs": [
    {
     "data": {
      "text/html": [
       "<div>\n",
       "<style scoped>\n",
       "    .dataframe tbody tr th:only-of-type {\n",
       "        vertical-align: middle;\n",
       "    }\n",
       "\n",
       "    .dataframe tbody tr th {\n",
       "        vertical-align: top;\n",
       "    }\n",
       "\n",
       "    .dataframe thead th {\n",
       "        text-align: right;\n",
       "    }\n",
       "</style>\n",
       "<table border=\"1\" class=\"dataframe\">\n",
       "  <thead>\n",
       "    <tr style=\"text-align: right;\">\n",
       "      <th></th>\n",
       "      <th>Model</th>\n",
       "      <th>mae</th>\n",
       "      <th>rmse</th>\n",
       "      <th>mape</th>\n",
       "    </tr>\n",
       "  </thead>\n",
       "  <tbody>\n",
       "    <tr>\n",
       "      <th>0</th>\n",
       "      <td>auto_arima</td>\n",
       "      <td>0.26136</td>\n",
       "      <td>0.27624</td>\n",
       "      <td>8.52144</td>\n",
       "    </tr>\n",
       "  </tbody>\n",
       "</table>\n",
       "</div>"
      ],
      "text/plain": [
       "        Model      mae     rmse     mape\n",
       "0  auto_arima  0.26136  0.27624  8.52144"
      ]
     },
     "execution_count": 26,
     "metadata": {},
     "output_type": "execute_result"
    }
   ],
   "source": [
    "metrics_auto_arima = metrics(test[country], pred_auto_arima, 'auto_arima')\n",
    "metrics_auto_arima"
   ]
  },
  {
   "cell_type": "markdown",
   "metadata": {},
   "source": [
    "## 2.4 Prophet"
   ]
  },
  {
   "cell_type": "code",
   "execution_count": 27,
   "metadata": {},
   "outputs": [
    {
     "name": "stderr",
     "output_type": "stream",
     "text": [
      "/home/lavino/Documentos/projetos_indicium/ds_desafio/venv/lib/python3.10/site-packages/tqdm/auto.py:21: TqdmWarning: IProgress not found. Please update jupyter and ipywidgets. See https://ipywidgets.readthedocs.io/en/stable/user_install.html\n",
      "  from .autonotebook import tqdm as notebook_tqdm\n"
     ]
    }
   ],
   "source": [
    "from prophet import Prophet\n",
    "from prophet.diagnostics import cross_validation"
   ]
  },
  {
   "cell_type": "code",
   "execution_count": 28,
   "metadata": {},
   "outputs": [
    {
     "name": "stderr",
     "output_type": "stream",
     "text": [
      "19:07:13 - cmdstanpy - INFO - Chain [1] start processing\n"
     ]
    },
    {
     "name": "stderr",
     "output_type": "stream",
     "text": [
      "19:07:13 - cmdstanpy - INFO - Chain [1] done processing\n"
     ]
    },
    {
     "data": {
      "image/png": "[encoded data removed]",
      "text/plain": [
       "<Figure size 1000x600 with 1 Axes>"
      ]
     },
     "metadata": {},
     "output_type": "display_data"
    }
   ],
   "source": [
    "\n",
    "aux = train[[country]].copy()\n",
    "aux['ds'] = aux.index\n",
    "aux.rename(columns={country: 'y'}, inplace=True)\n",
    "aux\n",
    "\n",
    "# # Crie e ajuste o modelo\n",
    "model_prophet = Prophet(\n",
    "    growth='linear',\n",
    "    seasonality_mode='additive',\n",
    "    yearly_seasonality=False,\n",
    "    weekly_seasonality=False,\n",
    "    daily_seasonality=False,\n",
    "    changepoint_prior_scale=0.1,\n",
    "    seasonality_prior_scale=0,\n",
    ")\n",
    "model_prophet.fit(aux)\n",
    "\n",
    "\n",
    "future = model_prophet.make_future_dataframe(periods=6, freq='YS')  \n",
    "forecast = model_prophet.predict(future)\n",
    "\n",
    "\n",
    "model_prophet.plot(forecast);"
   ]
  },
  {
   "cell_type": "code",
   "execution_count": 29,
   "metadata": {},
   "outputs": [
    {
     "data": {
      "text/plain": [
       "<Axes: xlabel='year'>"
      ]
     },
     "execution_count": 29,
     "metadata": {},
     "output_type": "execute_result"
    },
    {
     "data": {
      "image/png": "[encoded data removed]",
      "text/plain": [
       "<Figure size 640x480 with 1 Axes>"
      ]
     },
     "metadata": {},
     "output_type": "display_data"
    }
   ],
   "source": [
    "aux = forecast[['yhat']][-5:]\n",
    "aux.index = test.index\n",
    "\n",
    "aux.plot(legend=True, label='prophet');\n",
    "train['Argentina'].plot(legend=True, label='Train')\n",
    "test['Argentina'].plot(legend=True, label='Test')"
   ]
  },
  {
   "cell_type": "code",
   "execution_count": 30,
   "metadata": {},
   "outputs": [
    {
     "data": {
      "text/html": [
       "<div>\n",
       "<style scoped>\n",
       "    .dataframe tbody tr th:only-of-type {\n",
       "        vertical-align: middle;\n",
       "    }\n",
       "\n",
       "    .dataframe tbody tr th {\n",
       "        vertical-align: top;\n",
       "    }\n",
       "\n",
       "    .dataframe thead th {\n",
       "        text-align: right;\n",
       "    }\n",
       "</style>\n",
       "<table border=\"1\" class=\"dataframe\">\n",
       "  <thead>\n",
       "    <tr style=\"text-align: right;\">\n",
       "      <th></th>\n",
       "      <th>Model</th>\n",
       "      <th>mae</th>\n",
       "      <th>rmse</th>\n",
       "      <th>mape</th>\n",
       "    </tr>\n",
       "  </thead>\n",
       "  <tbody>\n",
       "    <tr>\n",
       "      <th>0</th>\n",
       "      <td>prophet</td>\n",
       "      <td>0.45872</td>\n",
       "      <td>0.46782</td>\n",
       "      <td>14.89459</td>\n",
       "    </tr>\n",
       "  </tbody>\n",
       "</table>\n",
       "</div>"
      ],
      "text/plain": [
       "     Model      mae     rmse      mape\n",
       "0  prophet  0.45872  0.46782  14.89459"
      ]
     },
     "execution_count": 30,
     "metadata": {},
     "output_type": "execute_result"
    }
   ],
   "source": [
    "metrics_prophet = metrics(test[country], aux['yhat'], 'prophet')\n",
    "metrics_prophet"
   ]
  },
  {
   "cell_type": "code",
   "execution_count": 31,
   "metadata": {},
   "outputs": [
    {
     "name": "stderr",
     "output_type": "stream",
     "text": [
      "19:07:14 - cmdstanpy - INFO - Chain [1] start processing\n",
      "19:07:14 - cmdstanpy - INFO - Chain [1] start processing\n",
      "19:07:14 - cmdstanpy - INFO - Chain [1] start processing\n",
      "19:07:14 - cmdstanpy - INFO - Chain [1] start processing\n",
      "19:07:14 - cmdstanpy - INFO - Chain [1] done processing\n",
      "19:07:14 - cmdstanpy - INFO - Chain [1] done processing\n",
      "19:07:14 - cmdstanpy - INFO - Chain [1] done processing\n",
      "19:07:14 - cmdstanpy - INFO - Chain [1] done processing\n",
      "19:07:14 - cmdstanpy - INFO - Chain [1] start processing\n",
      "19:07:14 - cmdstanpy - INFO - Chain [1] start processing\n",
      "19:07:14 - cmdstanpy - INFO - Chain [1] start processing\n",
      "19:07:14 - cmdstanpy - INFO - Chain [1] start processing\n",
      "19:07:14 - cmdstanpy - INFO - Chain [1] done processing\n",
      "19:07:14 - cmdstanpy - INFO - Chain [1] done processing\n",
      "19:07:14 - cmdstanpy - INFO - Chain [1] done processing\n",
      "19:07:14 - cmdstanpy - INFO - Chain [1] done processing\n",
      "19:07:14 - cmdstanpy - INFO - Chain [1] start processing\n",
      "19:07:14 - cmdstanpy - INFO - Chain [1] start processing\n",
      "19:07:14 - cmdstanpy - INFO - Chain [1] start processing\n",
      "19:07:14 - cmdstanpy - INFO - Chain [1] start processing\n",
      "19:07:14 - cmdstanpy - INFO - Chain [1] done processing\n",
      "19:07:14 - cmdstanpy - INFO - Chain [1] done processing\n",
      "19:07:14 - cmdstanpy - INFO - Chain [1] start processing\n",
      "19:07:14 - cmdstanpy - INFO - Chain [1] done processing\n",
      "19:07:14 - cmdstanpy - INFO - Chain [1] start processing\n",
      "19:07:14 - cmdstanpy - INFO - Chain [1] done processing\n",
      "19:07:14 - cmdstanpy - INFO - Chain [1] start processing\n",
      "19:07:14 - cmdstanpy - INFO - Chain [1] done processing\n",
      "19:07:15 - cmdstanpy - INFO - Chain [1] done processing\n",
      "19:07:15 - cmdstanpy - INFO - Chain [1] done processing\n"
     ]
    }
   ],
   "source": [
    "df_cv = cross_validation(model_prophet, initial='365 days', parallel='processes', horizon='1825 days') "
   ]
  },
  {
   "cell_type": "code",
   "execution_count": 32,
   "metadata": {},
   "outputs": [
    {
     "data": {
      "text/html": [
       "<div>\n",
       "<style scoped>\n",
       "    .dataframe tbody tr th:only-of-type {\n",
       "        vertical-align: middle;\n",
       "    }\n",
       "\n",
       "    .dataframe tbody tr th {\n",
       "        vertical-align: top;\n",
       "    }\n",
       "\n",
       "    .dataframe thead th {\n",
       "        text-align: right;\n",
       "    }\n",
       "</style>\n",
       "<table border=\"1\" class=\"dataframe\">\n",
       "  <thead>\n",
       "    <tr style=\"text-align: right;\">\n",
       "      <th></th>\n",
       "      <th>Model</th>\n",
       "      <th>mae</th>\n",
       "      <th>rmse</th>\n",
       "      <th>mape</th>\n",
       "    </tr>\n",
       "  </thead>\n",
       "  <tbody>\n",
       "    <tr>\n",
       "      <th>0</th>\n",
       "      <td>Prophet CV</td>\n",
       "      <td>1.51793</td>\n",
       "      <td>2.03872</td>\n",
       "      <td>166.43953</td>\n",
       "    </tr>\n",
       "  </tbody>\n",
       "</table>\n",
       "</div>"
      ],
      "text/plain": [
       "        Model      mae     rmse       mape\n",
       "0  Prophet CV  1.51793  2.03872  166.43953"
      ]
     },
     "execution_count": 32,
     "metadata": {},
     "output_type": "execute_result"
    }
   ],
   "source": [
    "metrics_prophet_cv = metrics(df_cv.y, df_cv.yhat, 'Prophet CV')\n",
    "metrics_prophet_cv"
   ]
  },
  {
   "cell_type": "markdown",
   "metadata": {},
   "source": [
    "## 2.5 comparison"
   ]
  },
  {
   "cell_type": "code",
   "execution_count": 33,
   "metadata": {},
   "outputs": [
    {
     "data": {
      "text/html": [
       "<div>\n",
       "<style scoped>\n",
       "    .dataframe tbody tr th:only-of-type {\n",
       "        vertical-align: middle;\n",
       "    }\n",
       "\n",
       "    .dataframe tbody tr th {\n",
       "        vertical-align: top;\n",
       "    }\n",
       "\n",
       "    .dataframe thead th {\n",
       "        text-align: right;\n",
       "    }\n",
       "</style>\n",
       "<table border=\"1\" class=\"dataframe\">\n",
       "  <thead>\n",
       "    <tr style=\"text-align: right;\">\n",
       "      <th></th>\n",
       "      <th>Model</th>\n",
       "      <th>mae</th>\n",
       "      <th>rmse</th>\n",
       "      <th>mape</th>\n",
       "    </tr>\n",
       "  </thead>\n",
       "  <tbody>\n",
       "    <tr>\n",
       "      <th>0</th>\n",
       "      <td>Simple Exponential Smoothing</td>\n",
       "      <td>0.09274</td>\n",
       "      <td>0.10982</td>\n",
       "      <td>2.94133</td>\n",
       "    </tr>\n",
       "    <tr>\n",
       "      <th>0</th>\n",
       "      <td>auto_arima</td>\n",
       "      <td>0.26136</td>\n",
       "      <td>0.27624</td>\n",
       "      <td>8.52144</td>\n",
       "    </tr>\n",
       "    <tr>\n",
       "      <th>0</th>\n",
       "      <td>prophet</td>\n",
       "      <td>0.45872</td>\n",
       "      <td>0.46782</td>\n",
       "      <td>14.89459</td>\n",
       "    </tr>\n",
       "    <tr>\n",
       "      <th>0</th>\n",
       "      <td>Prophet CV</td>\n",
       "      <td>1.51793</td>\n",
       "      <td>2.03872</td>\n",
       "      <td>166.43953</td>\n",
       "    </tr>\n",
       "  </tbody>\n",
       "</table>\n",
       "</div>"
      ],
      "text/plain": [
       "                          Model      mae     rmse       mape\n",
       "0  Simple Exponential Smoothing  0.09274  0.10982    2.94133\n",
       "0                    auto_arima  0.26136  0.27624    8.52144\n",
       "0                       prophet  0.45872  0.46782   14.89459\n",
       "0                    Prophet CV  1.51793  2.03872  166.43953"
      ]
     },
     "execution_count": 33,
     "metadata": {},
     "output_type": "execute_result"
    }
   ],
   "source": [
    "pd.concat([metrics_ses, metrics_auto_arima, metrics_prophet, metrics_prophet_cv], axis=0)"
   ]
  },
  {
   "cell_type": "markdown",
   "metadata": {},
   "source": [
    "Numa primeira abordagem aos modelos, realizando testes com países aleátorios, foi identificado que o modelo simple exponential smoothing apresentou os melhores resultados."
   ]
  },
  {
   "cell_type": "markdown",
   "metadata": {},
   "source": [
    "# 3.0 Exogen variables"
   ]
  },
  {
   "cell_type": "markdown",
   "metadata": {},
   "source": [
    "Teste da performace dos modelos utilizando valores de variaveis exogenas. como o grupo de país e o proprio crescimento mundial"
   ]
  },
  {
   "cell_type": "markdown",
   "metadata": {},
   "source": [
    "## 3.1 auto arima"
   ]
  },
  {
   "cell_type": "code",
   "execution_count": 34,
   "metadata": {},
   "outputs": [],
   "source": [
    "# exog = df1[['South America','World']]\n",
    "# exog = df1[['South America']]\n",
    "exog = df1[['World']]\n",
    "train_exog = exog[:-test_years]\n",
    "test_exog = exog[-test_years:]"
   ]
  },
  {
   "cell_type": "code",
   "execution_count": 35,
   "metadata": {},
   "outputs": [
    {
     "name": "stderr",
     "output_type": "stream",
     "text": [
      "/home/lavino/Documentos/projetos_indicium/ds_desafio/venv/lib/python3.10/site-packages/pmdarima/arima/_validation.py:62: UserWarning: m (12) set for non-seasonal fit. Setting to 0\n",
      "  warnings.warn(\"m (%i) set for non-seasonal fit. Setting to 0\" % m)\n"
     ]
    },
    {
     "name": "stderr",
     "output_type": "stream",
     "text": [
      "/home/lavino/Documentos/projetos_indicium/ds_desafio/venv/lib/python3.10/site-packages/statsmodels/tsa/statespace/sarimax.py:1899: RuntimeWarning: divide by zero encountered in reciprocal\n",
      "  return np.roots(self.polynomial_reduced_ar)**-1\n"
     ]
    }
   ],
   "source": [
    "model_auto_arima = auto_arima(\n",
    "    y=train[country],\n",
    "    X=train_exog,\n",
    "    m=12,\n",
    "    test='adf',\n",
    "    seasonal=False,\n",
    "    stepwise=True,\n",
    "    d=0,\n",
    "    start_p=0,\n",
    "    max_p=1,\n",
    "    start_q=0,\n",
    "    max_q=1,\n",
    ")"
   ]
  },
  {
   "cell_type": "code",
   "execution_count": 36,
   "metadata": {},
   "outputs": [
    {
     "data": {
      "text/plain": [
       "2024-01-01    2.999998\n",
       "2025-01-01    3.199998\n",
       "2026-01-01    3.199998\n",
       "2027-01-01    3.099998\n",
       "2028-01-01    2.999998\n",
       "Freq: AS-JAN, dtype: float64"
      ]
     },
     "execution_count": 36,
     "metadata": {},
     "output_type": "execute_result"
    }
   ],
   "source": [
    "pred_auto_arima = model_auto_arima.predict(test.shape[0],X=test_exog)\n",
    "pred_auto_arima"
   ]
  },
  {
   "cell_type": "code",
   "execution_count": 37,
   "metadata": {},
   "outputs": [
    {
     "data": {
      "text/plain": [
       "<Axes: xlabel='year'>"
      ]
     },
     "execution_count": 37,
     "metadata": {},
     "output_type": "execute_result"
    },
    {
     "data": {
      "image/png": "[encoded data removed]",
      "text/plain": [
       "<Figure size 640x480 with 1 Axes>"
      ]
     },
     "metadata": {},
     "output_type": "display_data"
    }
   ],
   "source": [
    "train[country].plot(legend=True, label='Train')\n",
    "test[country].plot(legend=True, label='Test')\n",
    "pred_auto_arima.plot(legend=True, label='Pred')"
   ]
  },
  {
   "cell_type": "code",
   "execution_count": 38,
   "metadata": {},
   "outputs": [
    {
     "data": {
      "text/html": [
       "<div>\n",
       "<style scoped>\n",
       "    .dataframe tbody tr th:only-of-type {\n",
       "        vertical-align: middle;\n",
       "    }\n",
       "\n",
       "    .dataframe tbody tr th {\n",
       "        vertical-align: top;\n",
       "    }\n",
       "\n",
       "    .dataframe thead th {\n",
       "        text-align: right;\n",
       "    }\n",
       "</style>\n",
       "<table border=\"1\" class=\"dataframe\">\n",
       "  <thead>\n",
       "    <tr style=\"text-align: right;\">\n",
       "      <th></th>\n",
       "      <th>Model</th>\n",
       "      <th>mae</th>\n",
       "      <th>rmse</th>\n",
       "      <th>mape</th>\n",
       "    </tr>\n",
       "  </thead>\n",
       "  <tbody>\n",
       "    <tr>\n",
       "      <th>0</th>\n",
       "      <td>auto_arima</td>\n",
       "      <td>0.0</td>\n",
       "      <td>0.0</td>\n",
       "      <td>0.00006</td>\n",
       "    </tr>\n",
       "  </tbody>\n",
       "</table>\n",
       "</div>"
      ],
      "text/plain": [
       "        Model  mae  rmse     mape\n",
       "0  auto_arima  0.0   0.0  0.00006"
      ]
     },
     "execution_count": 38,
     "metadata": {},
     "output_type": "execute_result"
    }
   ],
   "source": [
    "metrics_auto_arima = metrics(test[country], pred_auto_arima, 'auto_arima')\n",
    "metrics_auto_arima"
   ]
  },
  {
   "cell_type": "markdown",
   "metadata": {},
   "source": [
    "## 3.2 Prophet"
   ]
  },
  {
   "cell_type": "code",
   "execution_count": 39,
   "metadata": {},
   "outputs": [],
   "source": [
    "df2 = df1.copy()"
   ]
  },
  {
   "cell_type": "code",
   "execution_count": 40,
   "metadata": {},
   "outputs": [],
   "source": [
    "df2['ds'] = df2.index"
   ]
  },
  {
   "cell_type": "code",
   "execution_count": 41,
   "metadata": {},
   "outputs": [],
   "source": [
    "test_years = 5\n",
    "train_pp = df2[:-test_years]\n",
    "test_pp = df2[-test_years:]"
   ]
  },
  {
   "cell_type": "code",
   "execution_count": 42,
   "metadata": {},
   "outputs": [
    {
     "name": "stderr",
     "output_type": "stream",
     "text": [
      "19:07:16 - cmdstanpy - INFO - Chain [1] start processing\n"
     ]
    },
    {
     "name": "stderr",
     "output_type": "stream",
     "text": [
      "19:07:18 - cmdstanpy - INFO - Chain [1] done processing\n"
     ]
    },
    {
     "data": {
      "image/png": "[encoded data removed]",
      "text/plain": [
       "<Figure size 1000x600 with 1 Axes>"
      ]
     },
     "metadata": {},
     "output_type": "display_data"
    }
   ],
   "source": [
    "\n",
    "aux = pd.DataFrame()\n",
    "aux['ds'] = df2['ds'].values\n",
    "aux['y'] = df2[country].values\n",
    "aux['World'] = df2['World'].values\n",
    "# aux['South America'] = df2['South America'].values\n",
    "\n",
    "test_years = 5\n",
    "train_pp = aux[:-test_years]\n",
    "test_pp = aux[-test_years:]\n",
    "\n",
    "# Crie e ajuste o modelo\n",
    "model_prophet = Prophet(\n",
    "    growth='linear',\n",
    "    seasonality_mode='additive',\n",
    "    yearly_seasonality=False,\n",
    "    weekly_seasonality=False,\n",
    "    daily_seasonality=False,\n",
    "    changepoint_prior_scale=0.1,\n",
    "    seasonality_prior_scale=0,\n",
    ")\n",
    "model_prophet.add_regressor('World')\n",
    "# model_prophet.add_regressor('South America')\n",
    "model_prophet.fit(train_pp)\n",
    "\n",
    "\n",
    "future = model_prophet.make_future_dataframe(periods=test_years, freq='YS')  \n",
    "\n",
    "# future = pd.concat([future, aux[['World','South America']]], axis=1)\n",
    "future = pd.concat([future, aux[['World']]], axis=1)\n",
    "\n",
    "\n",
    "forecast = model_prophet.predict(future)\n",
    "\n",
    "\n",
    "model_prophet.plot(forecast);"
   ]
  },
  {
   "cell_type": "code",
   "execution_count": 43,
   "metadata": {},
   "outputs": [
    {
     "data": {
      "text/plain": [
       "<Axes: xlabel='year'>"
      ]
     },
     "execution_count": 43,
     "metadata": {},
     "output_type": "execute_result"
    },
    {
     "data": {
      "image/png": "[encoded data removed]",
      "text/plain": [
       "<Figure size 640x480 with 1 Axes>"
      ]
     },
     "metadata": {},
     "output_type": "display_data"
    }
   ],
   "source": [
    "aux = forecast[['yhat']][-5:]\n",
    "aux.index = test.index\n",
    "\n",
    "aux.plot(legend=True, label='prophet');\n",
    "train['Argentina'].plot(legend=True, label='Train')\n",
    "test['Argentina'].plot(legend=True, label='Test')\n"
   ]
  },
  {
   "cell_type": "code",
   "execution_count": 44,
   "metadata": {},
   "outputs": [
    {
     "data": {
      "text/html": [
       "<div>\n",
       "<style scoped>\n",
       "    .dataframe tbody tr th:only-of-type {\n",
       "        vertical-align: middle;\n",
       "    }\n",
       "\n",
       "    .dataframe tbody tr th {\n",
       "        vertical-align: top;\n",
       "    }\n",
       "\n",
       "    .dataframe thead th {\n",
       "        text-align: right;\n",
       "    }\n",
       "</style>\n",
       "<table border=\"1\" class=\"dataframe\">\n",
       "  <thead>\n",
       "    <tr style=\"text-align: right;\">\n",
       "      <th></th>\n",
       "      <th>Model</th>\n",
       "      <th>mae</th>\n",
       "      <th>rmse</th>\n",
       "      <th>mape</th>\n",
       "    </tr>\n",
       "  </thead>\n",
       "  <tbody>\n",
       "    <tr>\n",
       "      <th>0</th>\n",
       "      <td>prophet</td>\n",
       "      <td>0.0</td>\n",
       "      <td>0.0</td>\n",
       "      <td>0.00006</td>\n",
       "    </tr>\n",
       "  </tbody>\n",
       "</table>\n",
       "</div>"
      ],
      "text/plain": [
       "     Model  mae  rmse     mape\n",
       "0  prophet  0.0   0.0  0.00006"
      ]
     },
     "execution_count": 44,
     "metadata": {},
     "output_type": "execute_result"
    }
   ],
   "source": [
    "metrics_prophet = metrics(test[country], aux['yhat'], 'prophet')\n",
    "metrics_prophet"
   ]
  },
  {
   "cell_type": "code",
   "execution_count": 45,
   "metadata": {},
   "outputs": [],
   "source": [
    "from prophet.diagnostics import cross_validation"
   ]
  },
  {
   "cell_type": "code",
   "execution_count": 46,
   "metadata": {},
   "outputs": [
    {
     "name": "stderr",
     "output_type": "stream",
     "text": [
      "19:07:19 - cmdstanpy - INFO - Chain [1] start processing\n",
      "19:07:19 - cmdstanpy - INFO - Chain [1] start processing\n",
      "19:07:19 - cmdstanpy - INFO - Chain [1] start processing\n",
      "19:07:19 - cmdstanpy - INFO - Chain [1] start processing\n",
      "19:07:20 - cmdstanpy - INFO - Chain [1] done processing\n",
      "19:07:20 - cmdstanpy - INFO - Chain [1] done processing\n",
      "19:07:20 - cmdstanpy - INFO - Chain [1] done processing\n",
      "19:07:20 - cmdstanpy - INFO - Chain [1] start processing\n",
      "19:07:20 - cmdstanpy - INFO - Chain [1] start processing\n",
      "19:07:20 - cmdstanpy - INFO - Chain [1] start processing\n",
      "19:07:20 - cmdstanpy - INFO - Chain [1] done processing\n",
      "19:07:20 - cmdstanpy - INFO - Chain [1] start processing\n",
      "19:07:20 - cmdstanpy - INFO - Chain [1] done processing\n",
      "19:07:20 - cmdstanpy - INFO - Chain [1] start processing\n",
      "19:07:20 - cmdstanpy - INFO - Chain [1] done processing\n",
      "19:07:20 - cmdstanpy - INFO - Chain [1] start processing\n",
      "19:07:23 - cmdstanpy - INFO - Chain [1] done processing\n",
      "19:07:23 - cmdstanpy - INFO - Chain [1] start processing\n",
      "19:07:25 - cmdstanpy - INFO - Chain [1] done processing\n",
      "19:07:25 - cmdstanpy - INFO - Chain [1] start processing\n",
      "19:07:27 - cmdstanpy - INFO - Chain [1] done processing\n",
      "19:07:27 - cmdstanpy - INFO - Chain [1] start processing\n",
      "19:07:27 - cmdstanpy - INFO - Chain [1] done processing\n",
      "19:07:27 - cmdstanpy - INFO - Chain [1] start processing\n",
      "19:07:28 - cmdstanpy - INFO - Chain [1] done processing\n",
      "19:07:28 - cmdstanpy - INFO - Chain [1] start processing\n",
      "19:07:31 - cmdstanpy - INFO - Chain [1] done processing\n",
      "19:07:31 - cmdstanpy - INFO - Chain [1] done processing\n",
      "19:07:32 - cmdstanpy - INFO - Chain [1] done processing\n",
      "19:07:34 - cmdstanpy - INFO - Chain [1] done processing\n"
     ]
    }
   ],
   "source": [
    "df_cv = cross_validation(model_prophet, initial='365 days', parallel='processes', horizon='1825 days') "
   ]
  },
  {
   "cell_type": "code",
   "execution_count": 47,
   "metadata": {},
   "outputs": [
    {
     "data": {
      "text/html": [
       "<div>\n",
       "<style scoped>\n",
       "    .dataframe tbody tr th:only-of-type {\n",
       "        vertical-align: middle;\n",
       "    }\n",
       "\n",
       "    .dataframe tbody tr th {\n",
       "        vertical-align: top;\n",
       "    }\n",
       "\n",
       "    .dataframe thead th {\n",
       "        text-align: right;\n",
       "    }\n",
       "</style>\n",
       "<table border=\"1\" class=\"dataframe\">\n",
       "  <thead>\n",
       "    <tr style=\"text-align: right;\">\n",
       "      <th></th>\n",
       "      <th>Model</th>\n",
       "      <th>mae</th>\n",
       "      <th>rmse</th>\n",
       "      <th>mape</th>\n",
       "    </tr>\n",
       "  </thead>\n",
       "  <tbody>\n",
       "    <tr>\n",
       "      <th>0</th>\n",
       "      <td>Prophet CV</td>\n",
       "      <td>0.00951</td>\n",
       "      <td>0.0431</td>\n",
       "      <td>0.23651</td>\n",
       "    </tr>\n",
       "  </tbody>\n",
       "</table>\n",
       "</div>"
      ],
      "text/plain": [
       "        Model      mae    rmse     mape\n",
       "0  Prophet CV  0.00951  0.0431  0.23651"
      ]
     },
     "execution_count": 47,
     "metadata": {},
     "output_type": "execute_result"
    }
   ],
   "source": [
    "\n",
    "metrics_prophet_cv = metrics(df_cv.y, df_cv.yhat, 'Prophet CV')\n",
    "metrics_prophet_cv"
   ]
  },
  {
   "cell_type": "code",
   "execution_count": 48,
   "metadata": {},
   "outputs": [
    {
     "data": {
      "text/html": [
       "<div>\n",
       "<style scoped>\n",
       "    .dataframe tbody tr th:only-of-type {\n",
       "        vertical-align: middle;\n",
       "    }\n",
       "\n",
       "    .dataframe tbody tr th {\n",
       "        vertical-align: top;\n",
       "    }\n",
       "\n",
       "    .dataframe thead th {\n",
       "        text-align: right;\n",
       "    }\n",
       "</style>\n",
       "<table border=\"1\" class=\"dataframe\">\n",
       "  <thead>\n",
       "    <tr style=\"text-align: right;\">\n",
       "      <th></th>\n",
       "      <th>Model</th>\n",
       "      <th>mae</th>\n",
       "      <th>rmse</th>\n",
       "      <th>mape</th>\n",
       "    </tr>\n",
       "  </thead>\n",
       "  <tbody>\n",
       "    <tr>\n",
       "      <th>0</th>\n",
       "      <td>auto_arima</td>\n",
       "      <td>0.00000</td>\n",
       "      <td>0.0000</td>\n",
       "      <td>0.00006</td>\n",
       "    </tr>\n",
       "    <tr>\n",
       "      <th>0</th>\n",
       "      <td>prophet</td>\n",
       "      <td>0.00000</td>\n",
       "      <td>0.0000</td>\n",
       "      <td>0.00006</td>\n",
       "    </tr>\n",
       "    <tr>\n",
       "      <th>0</th>\n",
       "      <td>Prophet CV</td>\n",
       "      <td>0.00951</td>\n",
       "      <td>0.0431</td>\n",
       "      <td>0.23651</td>\n",
       "    </tr>\n",
       "  </tbody>\n",
       "</table>\n",
       "</div>"
      ],
      "text/plain": [
       "        Model      mae    rmse     mape\n",
       "0  auto_arima  0.00000  0.0000  0.00006\n",
       "0     prophet  0.00000  0.0000  0.00006\n",
       "0  Prophet CV  0.00951  0.0431  0.23651"
      ]
     },
     "execution_count": 48,
     "metadata": {},
     "output_type": "execute_result"
    }
   ],
   "source": [
    "pd.concat([metrics_auto_arima, metrics_prophet, metrics_prophet_cv], axis=0)"
   ]
  },
  {
   "cell_type": "markdown",
   "metadata": {},
   "source": [
    "Embora tenha havido uma melhoria de desempenho para o método 'auto_arima', ele ainda apresenta um desempenho inferior em comparação com o método de simple exponential smoothing , quando este último é utilizado sem variáveis exógenas. Além disso, é importante notar que a variável exógena também está sujeita a previsões, o que torna o modelo inaplicável a si próprio."
   ]
  },
  {
   "cell_type": "markdown",
   "metadata": {},
   "source": [
    "# 4.0 All countrys"
   ]
  },
  {
   "cell_type": "markdown",
   "metadata": {},
   "source": [
    "Agora, ao utilizar todos os países para treinar o modelo e avaliar sua performance geral, podemos observar o desempenho abrangente dos modelos em todas as séries."
   ]
  },
  {
   "cell_type": "code",
   "execution_count": 49,
   "metadata": {},
   "outputs": [],
   "source": [
    "df3 = df_raw.copy()"
   ]
  },
  {
   "cell_type": "code",
   "execution_count": 50,
   "metadata": {},
   "outputs": [],
   "source": [
    "test_years = 5\n",
    "train = df3[:-test_years]\n",
    "test = df3[-test_years:]"
   ]
  },
  {
   "cell_type": "markdown",
   "metadata": {},
   "source": [
    "## 4.1 auto_arima"
   ]
  },
  {
   "cell_type": "code",
   "execution_count": 51,
   "metadata": {},
   "outputs": [],
   "source": [
    "df_pred_auto_arima = pd.DataFrame()\n",
    "for country in df3.columns:\n",
    "    \n",
    "    model_auto_arima = auto_arima(\n",
    "        train[country],\n",
    "        m=1,\n",
    "        test='adf',\n",
    "        seasonal=False,\n",
    "        stepwise=True,\n",
    "        d=0,\n",
    "        start_p=0,\n",
    "        max_p=1,\n",
    "        start_q=0,\n",
    "        max_q=1,\n",
    "    )\n",
    "    \n",
    "    pred_auto_arima = model_auto_arima.predict(test.shape[0])\n",
    "    # df_pred_auto_arima[country] = pred_auto_arima\n",
    "    df_pred_auto_arima = pd.concat([df_pred_auto_arima, pd.DataFrame(pred_auto_arima, columns=[country])], axis=1)"
   ]
  },
  {
   "cell_type": "code",
   "execution_count": 52,
   "metadata": {},
   "outputs": [
    {
     "data": {
      "text/html": [
       "<div>\n",
       "<style scoped>\n",
       "    .dataframe tbody tr th:only-of-type {\n",
       "        vertical-align: middle;\n",
       "    }\n",
       "\n",
       "    .dataframe tbody tr th {\n",
       "        vertical-align: top;\n",
       "    }\n",
       "\n",
       "    .dataframe thead th {\n",
       "        text-align: right;\n",
       "    }\n",
       "</style>\n",
       "<table border=\"1\" class=\"dataframe\">\n",
       "  <thead>\n",
       "    <tr style=\"text-align: right;\">\n",
       "      <th></th>\n",
       "      <th>Afghanistan</th>\n",
       "      <th>Albania</th>\n",
       "      <th>Algeria</th>\n",
       "      <th>Andorra</th>\n",
       "      <th>Angola</th>\n",
       "      <th>Antigua and Barbuda</th>\n",
       "      <th>Argentina</th>\n",
       "      <th>Armenia</th>\n",
       "      <th>Aruba</th>\n",
       "      <th>Australia</th>\n",
       "      <th>...</th>\n",
       "      <th>Emerging and Developing Europe</th>\n",
       "      <th>Emerging market and developing economies</th>\n",
       "      <th>Euro area</th>\n",
       "      <th>European Union</th>\n",
       "      <th>Latin America and the Caribbean</th>\n",
       "      <th>Major advanced economies (G7)</th>\n",
       "      <th>Middle East and Central Asia</th>\n",
       "      <th>Other advanced economies</th>\n",
       "      <th>Sub-Saharan Africa</th>\n",
       "      <th>World</th>\n",
       "    </tr>\n",
       "    <tr>\n",
       "      <th>year</th>\n",
       "      <th></th>\n",
       "      <th></th>\n",
       "      <th></th>\n",
       "      <th></th>\n",
       "      <th></th>\n",
       "      <th></th>\n",
       "      <th></th>\n",
       "      <th></th>\n",
       "      <th></th>\n",
       "      <th></th>\n",
       "      <th></th>\n",
       "      <th></th>\n",
       "      <th></th>\n",
       "      <th></th>\n",
       "      <th></th>\n",
       "      <th></th>\n",
       "      <th></th>\n",
       "      <th></th>\n",
       "      <th></th>\n",
       "      <th></th>\n",
       "      <th></th>\n",
       "    </tr>\n",
       "  </thead>\n",
       "  <tbody>\n",
       "    <tr>\n",
       "      <th>2024-01-01</th>\n",
       "      <td>5.630638</td>\n",
       "      <td>3.738784</td>\n",
       "      <td>2.438544</td>\n",
       "      <td>0.552562</td>\n",
       "      <td>4.048752</td>\n",
       "      <td>3.889696</td>\n",
       "      <td>1.811364</td>\n",
       "      <td>3.734812</td>\n",
       "      <td>3.373297</td>\n",
       "      <td>3.560694</td>\n",
       "      <td>...</td>\n",
       "      <td>1.521734</td>\n",
       "      <td>4.033711</td>\n",
       "      <td>1.896477</td>\n",
       "      <td>1.834091</td>\n",
       "      <td>2.434091</td>\n",
       "      <td>2.086364</td>\n",
       "      <td>3.043934</td>\n",
       "      <td>2.840807</td>\n",
       "      <td>3.581051</td>\n",
       "      <td>3.361364</td>\n",
       "    </tr>\n",
       "    <tr>\n",
       "      <th>2025-01-01</th>\n",
       "      <td>5.630638</td>\n",
       "      <td>2.832769</td>\n",
       "      <td>2.385327</td>\n",
       "      <td>0.234865</td>\n",
       "      <td>4.359105</td>\n",
       "      <td>3.386085</td>\n",
       "      <td>1.811364</td>\n",
       "      <td>2.536149</td>\n",
       "      <td>3.478765</td>\n",
       "      <td>2.707185</td>\n",
       "      <td>...</td>\n",
       "      <td>1.693720</td>\n",
       "      <td>4.063896</td>\n",
       "      <td>1.896477</td>\n",
       "      <td>1.834091</td>\n",
       "      <td>2.434091</td>\n",
       "      <td>2.086364</td>\n",
       "      <td>3.122802</td>\n",
       "      <td>2.885693</td>\n",
       "      <td>3.570726</td>\n",
       "      <td>3.361364</td>\n",
       "    </tr>\n",
       "    <tr>\n",
       "      <th>2026-01-01</th>\n",
       "      <td>5.630638</td>\n",
       "      <td>2.832769</td>\n",
       "      <td>2.367787</td>\n",
       "      <td>0.099829</td>\n",
       "      <td>4.534628</td>\n",
       "      <td>3.386085</td>\n",
       "      <td>1.811364</td>\n",
       "      <td>1.722189</td>\n",
       "      <td>3.576063</td>\n",
       "      <td>3.230111</td>\n",
       "      <td>...</td>\n",
       "      <td>1.785656</td>\n",
       "      <td>4.089312</td>\n",
       "      <td>1.896477</td>\n",
       "      <td>1.834091</td>\n",
       "      <td>2.434091</td>\n",
       "      <td>2.086364</td>\n",
       "      <td>3.166017</td>\n",
       "      <td>2.927978</td>\n",
       "      <td>3.565100</td>\n",
       "      <td>3.361364</td>\n",
       "    </tr>\n",
       "    <tr>\n",
       "      <th>2027-01-01</th>\n",
       "      <td>5.630638</td>\n",
       "      <td>2.832769</td>\n",
       "      <td>2.362005</td>\n",
       "      <td>0.042432</td>\n",
       "      <td>4.633897</td>\n",
       "      <td>3.386085</td>\n",
       "      <td>1.811364</td>\n",
       "      <td>1.169464</td>\n",
       "      <td>3.665824</td>\n",
       "      <td>2.909726</td>\n",
       "      <td>...</td>\n",
       "      <td>1.834801</td>\n",
       "      <td>4.110713</td>\n",
       "      <td>1.896477</td>\n",
       "      <td>1.834091</td>\n",
       "      <td>2.434091</td>\n",
       "      <td>2.086364</td>\n",
       "      <td>3.189697</td>\n",
       "      <td>2.967814</td>\n",
       "      <td>3.562034</td>\n",
       "      <td>3.361364</td>\n",
       "    </tr>\n",
       "    <tr>\n",
       "      <th>2028-01-01</th>\n",
       "      <td>5.630638</td>\n",
       "      <td>2.832769</td>\n",
       "      <td>2.360099</td>\n",
       "      <td>0.018036</td>\n",
       "      <td>4.690040</td>\n",
       "      <td>3.386085</td>\n",
       "      <td>1.811364</td>\n",
       "      <td>0.794132</td>\n",
       "      <td>3.748632</td>\n",
       "      <td>3.106019</td>\n",
       "      <td>...</td>\n",
       "      <td>1.861072</td>\n",
       "      <td>4.128732</td>\n",
       "      <td>1.896477</td>\n",
       "      <td>1.834091</td>\n",
       "      <td>2.434091</td>\n",
       "      <td>2.086364</td>\n",
       "      <td>3.202672</td>\n",
       "      <td>3.005342</td>\n",
       "      <td>3.560364</td>\n",
       "      <td>3.361364</td>\n",
       "    </tr>\n",
       "  </tbody>\n",
       "</table>\n",
       "<p>5 rows × 228 columns</p>\n",
       "</div>"
      ],
      "text/plain": [
       "            Afghanistan   Albania   Algeria   Andorra    Angola  \\\n",
       "year                                                              \n",
       "2024-01-01     5.630638  3.738784  2.438544  0.552562  4.048752   \n",
       "2025-01-01     5.630638  2.832769  2.385327  0.234865  4.359105   \n",
       "2026-01-01     5.630638  2.832769  2.367787  0.099829  4.534628   \n",
       "2027-01-01     5.630638  2.832769  2.362005  0.042432  4.633897   \n",
       "2028-01-01     5.630638  2.832769  2.360099  0.018036  4.690040   \n",
       "\n",
       "            Antigua and Barbuda  Argentina   Armenia     Aruba  Australia  \\\n",
       "year                                                                        \n",
       "2024-01-01             3.889696   1.811364  3.734812  3.373297   3.560694   \n",
       "2025-01-01             3.386085   1.811364  2.536149  3.478765   2.707185   \n",
       "2026-01-01             3.386085   1.811364  1.722189  3.576063   3.230111   \n",
       "2027-01-01             3.386085   1.811364  1.169464  3.665824   2.909726   \n",
       "2028-01-01             3.386085   1.811364  0.794132  3.748632   3.106019   \n",
       "\n",
       "            ...  Emerging and Developing Europe  \\\n",
       "year        ...                                   \n",
       "2024-01-01  ...                        1.521734   \n",
       "2025-01-01  ...                        1.693720   \n",
       "2026-01-01  ...                        1.785656   \n",
       "2027-01-01  ...                        1.834801   \n",
       "2028-01-01  ...                        1.861072   \n",
       "\n",
       "            Emerging market and developing economies  Euro area  \\\n",
       "year                                                              \n",
       "2024-01-01                                  4.033711   1.896477   \n",
       "2025-01-01                                  4.063896   1.896477   \n",
       "2026-01-01                                  4.089312   1.896477   \n",
       "2027-01-01                                  4.110713   1.896477   \n",
       "2028-01-01                                  4.128732   1.896477   \n",
       "\n",
       "            European Union  Latin America and the Caribbean  \\\n",
       "year                                                          \n",
       "2024-01-01        1.834091                         2.434091   \n",
       "2025-01-01        1.834091                         2.434091   \n",
       "2026-01-01        1.834091                         2.434091   \n",
       "2027-01-01        1.834091                         2.434091   \n",
       "2028-01-01        1.834091                         2.434091   \n",
       "\n",
       "            Major advanced economies (G7)  Middle East and Central Asia  \\\n",
       "year                                                                      \n",
       "2024-01-01                       2.086364                      3.043934   \n",
       "2025-01-01                       2.086364                      3.122802   \n",
       "2026-01-01                       2.086364                      3.166017   \n",
       "2027-01-01                       2.086364                      3.189697   \n",
       "2028-01-01                       2.086364                      3.202672   \n",
       "\n",
       "            Other advanced economies  Sub-Saharan Africa     World  \n",
       "year                                                                \n",
       "2024-01-01                  2.840807            3.581051  3.361364  \n",
       "2025-01-01                  2.885693            3.570726  3.361364  \n",
       "2026-01-01                  2.927978            3.565100  3.361364  \n",
       "2027-01-01                  2.967814            3.562034  3.361364  \n",
       "2028-01-01                  3.005342            3.560364  3.361364  \n",
       "\n",
       "[5 rows x 228 columns]"
      ]
     },
     "execution_count": 52,
     "metadata": {},
     "output_type": "execute_result"
    }
   ],
   "source": [
    "df_pred_auto_arima.index = test.index\n",
    "df_pred_auto_arima"
   ]
  },
  {
   "cell_type": "code",
   "execution_count": 53,
   "metadata": {},
   "outputs": [],
   "source": [
    "\n",
    "def metrics(y_true, y_pred,model_name, country):\n",
    "    y_true = y_true.values\n",
    "    y_pred = y_pred.values\n",
    "    mae = round(mean_absolute_error(y_true, y_pred),5)\n",
    "    rmse = round(np.sqrt(mean_squared_error(y_true, y_pred)),5)\n",
    "    mape = round(mean_absolute_percentage_error(y_true, y_pred),5)\n",
    "    metrics = pd.DataFrame({'Country':country,'Model': model_name,'mae': mae, 'rmse': rmse, 'mape': mape}, index=[0])\n",
    "    return metrics"
   ]
  },
  {
   "cell_type": "code",
   "execution_count": 54,
   "metadata": {},
   "outputs": [],
   "source": [
    "df_metrics_auto_arima = pd.DataFrame()\n",
    "for country in df_pred_auto_arima.columns:\n",
    "    metrics_auto_arima = metrics(test[country], df_pred_auto_arima[country], 'auto_arima',country)\n",
    "    df_metrics_auto_arima = pd.concat([df_metrics_auto_arima, metrics_auto_arima], axis=0)"
   ]
  },
  {
   "cell_type": "code",
   "execution_count": 55,
   "metadata": {},
   "outputs": [
    {
     "data": {
      "text/html": [
       "<div>\n",
       "<style scoped>\n",
       "    .dataframe tbody tr th:only-of-type {\n",
       "        vertical-align: middle;\n",
       "    }\n",
       "\n",
       "    .dataframe tbody tr th {\n",
       "        vertical-align: top;\n",
       "    }\n",
       "\n",
       "    .dataframe thead th {\n",
       "        text-align: right;\n",
       "    }\n",
       "</style>\n",
       "<table border=\"1\" class=\"dataframe\">\n",
       "  <thead>\n",
       "    <tr style=\"text-align: right;\">\n",
       "      <th></th>\n",
       "      <th>Country</th>\n",
       "      <th>Model</th>\n",
       "      <th>mae</th>\n",
       "      <th>rmse</th>\n",
       "      <th>mape</th>\n",
       "    </tr>\n",
       "  </thead>\n",
       "  <tbody>\n",
       "    <tr>\n",
       "      <th>0</th>\n",
       "      <td>Macao SAR</td>\n",
       "      <td>auto_arima</td>\n",
       "      <td>20.56955</td>\n",
       "      <td>22.15063</td>\n",
       "      <td>348.18255</td>\n",
       "    </tr>\n",
       "    <tr>\n",
       "      <th>0</th>\n",
       "      <td>Guyana</td>\n",
       "      <td>auto_arima</td>\n",
       "      <td>20.33332</td>\n",
       "      <td>24.30388</td>\n",
       "      <td>562.48424</td>\n",
       "    </tr>\n",
       "    <tr>\n",
       "      <th>0</th>\n",
       "      <td>Libya</td>\n",
       "      <td>auto_arima</td>\n",
       "      <td>7.73532</td>\n",
       "      <td>8.93492</td>\n",
       "      <td>118.99196</td>\n",
       "    </tr>\n",
       "    <tr>\n",
       "      <th>0</th>\n",
       "      <td>Yemen</td>\n",
       "      <td>auto_arima</td>\n",
       "      <td>5.47565</td>\n",
       "      <td>5.73726</td>\n",
       "      <td>102.65598</td>\n",
       "    </tr>\n",
       "    <tr>\n",
       "      <th>0</th>\n",
       "      <td>Vietnam</td>\n",
       "      <td>auto_arima</td>\n",
       "      <td>5.34312</td>\n",
       "      <td>5.34976</td>\n",
       "      <td>79.09161</td>\n",
       "    </tr>\n",
       "    <tr>\n",
       "      <th>0</th>\n",
       "      <td>Mozambique</td>\n",
       "      <td>auto_arima</td>\n",
       "      <td>4.78591</td>\n",
       "      <td>6.59009</td>\n",
       "      <td>36.45871</td>\n",
       "    </tr>\n",
       "    <tr>\n",
       "      <th>0</th>\n",
       "      <td>Bosnia and Herzegovina</td>\n",
       "      <td>auto_arima</td>\n",
       "      <td>4.59277</td>\n",
       "      <td>4.81009</td>\n",
       "      <td>153.09224</td>\n",
       "    </tr>\n",
       "    <tr>\n",
       "      <th>0</th>\n",
       "      <td>Sierra Leone</td>\n",
       "      <td>auto_arima</td>\n",
       "      <td>4.34488</td>\n",
       "      <td>4.41786</td>\n",
       "      <td>91.76839</td>\n",
       "    </tr>\n",
       "    <tr>\n",
       "      <th>0</th>\n",
       "      <td>West Bank and Gaza</td>\n",
       "      <td>auto_arima</td>\n",
       "      <td>4.31275</td>\n",
       "      <td>4.32375</td>\n",
       "      <td>198.92813</td>\n",
       "    </tr>\n",
       "    <tr>\n",
       "      <th>0</th>\n",
       "      <td>Moldova</td>\n",
       "      <td>auto_arima</td>\n",
       "      <td>4.17665</td>\n",
       "      <td>4.19652</td>\n",
       "      <td>84.69639</td>\n",
       "    </tr>\n",
       "    <tr>\n",
       "      <th>0</th>\n",
       "      <td>Palau</td>\n",
       "      <td>auto_arima</td>\n",
       "      <td>4.15077</td>\n",
       "      <td>4.29391</td>\n",
       "      <td>92.40386</td>\n",
       "    </tr>\n",
       "    <tr>\n",
       "      <th>0</th>\n",
       "      <td>Myanmar</td>\n",
       "      <td>auto_arima</td>\n",
       "      <td>4.09082</td>\n",
       "      <td>4.16194</td>\n",
       "      <td>146.90091</td>\n",
       "    </tr>\n",
       "    <tr>\n",
       "      <th>0</th>\n",
       "      <td>Caribbean</td>\n",
       "      <td>auto_arima</td>\n",
       "      <td>4.00680</td>\n",
       "      <td>6.32145</td>\n",
       "      <td>30.75666</td>\n",
       "    </tr>\n",
       "    <tr>\n",
       "      <th>0</th>\n",
       "      <td>Republic of South Sudan</td>\n",
       "      <td>auto_arima</td>\n",
       "      <td>4.00254</td>\n",
       "      <td>4.00357</td>\n",
       "      <td>89.34100</td>\n",
       "    </tr>\n",
       "    <tr>\n",
       "      <th>0</th>\n",
       "      <td>China</td>\n",
       "      <td>auto_arima</td>\n",
       "      <td>3.92399</td>\n",
       "      <td>4.06495</td>\n",
       "      <td>103.69362</td>\n",
       "    </tr>\n",
       "    <tr>\n",
       "      <th>0</th>\n",
       "      <td>Liberia</td>\n",
       "      <td>auto_arima</td>\n",
       "      <td>3.81045</td>\n",
       "      <td>3.82172</td>\n",
       "      <td>67.54002</td>\n",
       "    </tr>\n",
       "    <tr>\n",
       "      <th>0</th>\n",
       "      <td>Iraq</td>\n",
       "      <td>auto_arima</td>\n",
       "      <td>3.74548</td>\n",
       "      <td>3.79741</td>\n",
       "      <td>155.22936</td>\n",
       "    </tr>\n",
       "    <tr>\n",
       "      <th>0</th>\n",
       "      <td>Burundi</td>\n",
       "      <td>auto_arima</td>\n",
       "      <td>3.71655</td>\n",
       "      <td>3.71907</td>\n",
       "      <td>64.08251</td>\n",
       "    </tr>\n",
       "    <tr>\n",
       "      <th>0</th>\n",
       "      <td>Central African Republic</td>\n",
       "      <td>auto_arima</td>\n",
       "      <td>3.68000</td>\n",
       "      <td>3.68511</td>\n",
       "      <td>100.00000</td>\n",
       "    </tr>\n",
       "    <tr>\n",
       "      <th>0</th>\n",
       "      <td>Dem. Rep. of the Congo</td>\n",
       "      <td>auto_arima</td>\n",
       "      <td>3.39028</td>\n",
       "      <td>3.56415</td>\n",
       "      <td>50.53657</td>\n",
       "    </tr>\n",
       "  </tbody>\n",
       "</table>\n",
       "</div>"
      ],
      "text/plain": [
       "                    Country       Model       mae      rmse       mape\n",
       "0                 Macao SAR  auto_arima  20.56955  22.15063  348.18255\n",
       "0                    Guyana  auto_arima  20.33332  24.30388  562.48424\n",
       "0                     Libya  auto_arima   7.73532   8.93492  118.99196\n",
       "0                     Yemen  auto_arima   5.47565   5.73726  102.65598\n",
       "0                   Vietnam  auto_arima   5.34312   5.34976   79.09161\n",
       "0                Mozambique  auto_arima   4.78591   6.59009   36.45871\n",
       "0    Bosnia and Herzegovina  auto_arima   4.59277   4.81009  153.09224\n",
       "0              Sierra Leone  auto_arima   4.34488   4.41786   91.76839\n",
       "0        West Bank and Gaza  auto_arima   4.31275   4.32375  198.92813\n",
       "0                   Moldova  auto_arima   4.17665   4.19652   84.69639\n",
       "0                     Palau  auto_arima   4.15077   4.29391   92.40386\n",
       "0                   Myanmar  auto_arima   4.09082   4.16194  146.90091\n",
       "0                 Caribbean  auto_arima   4.00680   6.32145   30.75666\n",
       "0   Republic of South Sudan  auto_arima   4.00254   4.00357   89.34100\n",
       "0                     China  auto_arima   3.92399   4.06495  103.69362\n",
       "0                   Liberia  auto_arima   3.81045   3.82172   67.54002\n",
       "0                      Iraq  auto_arima   3.74548   3.79741  155.22936\n",
       "0                   Burundi  auto_arima   3.71655   3.71907   64.08251\n",
       "0  Central African Republic  auto_arima   3.68000   3.68511  100.00000\n",
       "0    Dem. Rep. of the Congo  auto_arima   3.39028   3.56415   50.53657"
      ]
     },
     "execution_count": 55,
     "metadata": {},
     "output_type": "execute_result"
    }
   ],
   "source": [
    "df_metrics_auto_arima.sort_values(by='mae', ascending=False).head(20)"
   ]
  },
  {
   "cell_type": "code",
   "execution_count": 56,
   "metadata": {},
   "outputs": [
    {
     "data": {
      "text/plain": [
       "<Axes: >"
      ]
     },
     "execution_count": 56,
     "metadata": {},
     "output_type": "execute_result"
    },
    {
     "data": {
      "image/png": "[encoded data removed]",
      "text/plain": [
       "<Figure size 640x480 with 1 Axes>"
      ]
     },
     "metadata": {},
     "output_type": "display_data"
    }
   ],
   "source": [
    "df_metrics_auto_arima['mae'].hist(bins=50)"
   ]
  },
  {
   "cell_type": "code",
   "execution_count": 57,
   "metadata": {},
   "outputs": [
    {
     "data": {
      "text/plain": [
       "mean      1.482224\n",
       "median    0.898300\n",
       "std       2.156974\n",
       "Name: mae, dtype: float64"
      ]
     },
     "execution_count": 57,
     "metadata": {},
     "output_type": "execute_result"
    }
   ],
   "source": [
    "df_metrics_auto_arima['mae'].agg(['mean','median','std'])"
   ]
  },
  {
   "cell_type": "markdown",
   "metadata": {},
   "source": [
    "## 4.2 Simple smothing"
   ]
  },
  {
   "cell_type": "code",
   "execution_count": 58,
   "metadata": {},
   "outputs": [],
   "source": [
    "df_pred_ss = pd.DataFrame()\n",
    "for country in df3.columns:\n",
    "\n",
    "    # simple exponetial smooting\n",
    "    model_ses = SimpleExpSmoothing(\n",
    "        train[country],\n",
    "        initialization_method='estimated',                              \n",
    "    ).fit(smoothing_level=0.7, optimized=True)\n",
    "# heuristic \n",
    "    pred_ses = model_ses.forecast(test.shape[0])\n",
    "    df_pred_ss = pd.concat([df_pred_ss, pd.DataFrame(pred_ses, columns=[country])], axis=1)"
   ]
  },
  {
   "cell_type": "code",
   "execution_count": 59,
   "metadata": {},
   "outputs": [],
   "source": [
    "df_metrics_ss = pd.DataFrame()\n",
    "for country in df_pred_ss.columns:\n",
    "    metrics_ss = metrics(test[country], df_pred_ss[country], 'simple smothing',country)\n",
    "    df_metrics_ss = pd.concat([df_metrics_ss, metrics_ss], axis=0)"
   ]
  },
  {
   "cell_type": "code",
   "execution_count": 60,
   "metadata": {},
   "outputs": [
    {
     "data": {
      "text/html": [
       "<div>\n",
       "<style scoped>\n",
       "    .dataframe tbody tr th:only-of-type {\n",
       "        vertical-align: middle;\n",
       "    }\n",
       "\n",
       "    .dataframe tbody tr th {\n",
       "        vertical-align: top;\n",
       "    }\n",
       "\n",
       "    .dataframe thead th {\n",
       "        text-align: right;\n",
       "    }\n",
       "</style>\n",
       "<table border=\"1\" class=\"dataframe\">\n",
       "  <thead>\n",
       "    <tr style=\"text-align: right;\">\n",
       "      <th></th>\n",
       "      <th>Country</th>\n",
       "      <th>Model</th>\n",
       "      <th>mae</th>\n",
       "      <th>rmse</th>\n",
       "      <th>mape</th>\n",
       "    </tr>\n",
       "  </thead>\n",
       "  <tbody>\n",
       "    <tr>\n",
       "      <th>0</th>\n",
       "      <td>Macao SAR</td>\n",
       "      <td>simple smothing</td>\n",
       "      <td>27.73445</td>\n",
       "      <td>28.49951</td>\n",
       "      <td>605.59178</td>\n",
       "    </tr>\n",
       "    <tr>\n",
       "      <th>0</th>\n",
       "      <td>Guyana</td>\n",
       "      <td>simple smothing</td>\n",
       "      <td>24.49126</td>\n",
       "      <td>29.50096</td>\n",
       "      <td>687.01419</td>\n",
       "    </tr>\n",
       "    <tr>\n",
       "      <th>0</th>\n",
       "      <td>Sri Lanka</td>\n",
       "      <td>simple smothing</td>\n",
       "      <td>6.43806</td>\n",
       "      <td>6.46676</td>\n",
       "      <td>253.37240</td>\n",
       "    </tr>\n",
       "    <tr>\n",
       "      <th>0</th>\n",
       "      <td>Ukraine</td>\n",
       "      <td>simple smothing</td>\n",
       "      <td>6.20001</td>\n",
       "      <td>6.20001</td>\n",
       "      <td>295.87922</td>\n",
       "    </tr>\n",
       "    <tr>\n",
       "      <th>0</th>\n",
       "      <td>Caribbean</td>\n",
       "      <td>simple smothing</td>\n",
       "      <td>6.14876</td>\n",
       "      <td>6.39390</td>\n",
       "      <td>203.96997</td>\n",
       "    </tr>\n",
       "    <tr>\n",
       "      <th>0</th>\n",
       "      <td>Yemen</td>\n",
       "      <td>simple smothing</td>\n",
       "      <td>5.65466</td>\n",
       "      <td>5.92581</td>\n",
       "      <td>105.83273</td>\n",
       "    </tr>\n",
       "    <tr>\n",
       "      <th>0</th>\n",
       "      <td>Mozambique</td>\n",
       "      <td>simple smothing</td>\n",
       "      <td>5.15503</td>\n",
       "      <td>6.85629</td>\n",
       "      <td>41.29928</td>\n",
       "    </tr>\n",
       "    <tr>\n",
       "      <th>0</th>\n",
       "      <td>Libya</td>\n",
       "      <td>simple smothing</td>\n",
       "      <td>4.61330</td>\n",
       "      <td>4.88763</td>\n",
       "      <td>86.75301</td>\n",
       "    </tr>\n",
       "    <tr>\n",
       "      <th>0</th>\n",
       "      <td>The Bahamas</td>\n",
       "      <td>simple smothing</td>\n",
       "      <td>4.14862</td>\n",
       "      <td>4.15007</td>\n",
       "      <td>260.88570</td>\n",
       "    </tr>\n",
       "    <tr>\n",
       "      <th>0</th>\n",
       "      <td>Ireland</td>\n",
       "      <td>simple smothing</td>\n",
       "      <td>4.14520</td>\n",
       "      <td>4.16561</td>\n",
       "      <td>128.10331</td>\n",
       "    </tr>\n",
       "    <tr>\n",
       "      <th>0</th>\n",
       "      <td>Venezuela</td>\n",
       "      <td>simple smothing</td>\n",
       "      <td>4.13291</td>\n",
       "      <td>4.60805</td>\n",
       "      <td>581.65688</td>\n",
       "    </tr>\n",
       "    <tr>\n",
       "      <th>0</th>\n",
       "      <td>Moldova</td>\n",
       "      <td>simple smothing</td>\n",
       "      <td>3.94687</td>\n",
       "      <td>3.95922</td>\n",
       "      <td>80.13276</td>\n",
       "    </tr>\n",
       "    <tr>\n",
       "      <th>0</th>\n",
       "      <td>Maldives</td>\n",
       "      <td>simple smothing</td>\n",
       "      <td>3.93665</td>\n",
       "      <td>3.96379</td>\n",
       "      <td>69.66515</td>\n",
       "    </tr>\n",
       "    <tr>\n",
       "      <th>0</th>\n",
       "      <td>Estonia</td>\n",
       "      <td>simple smothing</td>\n",
       "      <td>3.90931</td>\n",
       "      <td>3.91207</td>\n",
       "      <td>117.78336</td>\n",
       "    </tr>\n",
       "    <tr>\n",
       "      <th>0</th>\n",
       "      <td>Saint Lucia</td>\n",
       "      <td>simple smothing</td>\n",
       "      <td>3.75972</td>\n",
       "      <td>3.77003</td>\n",
       "      <td>218.65743</td>\n",
       "    </tr>\n",
       "    <tr>\n",
       "      <th>0</th>\n",
       "      <td>Belize</td>\n",
       "      <td>simple smothing</td>\n",
       "      <td>3.22511</td>\n",
       "      <td>3.22511</td>\n",
       "      <td>161.25550</td>\n",
       "    </tr>\n",
       "    <tr>\n",
       "      <th>0</th>\n",
       "      <td>Equatorial Guinea</td>\n",
       "      <td>simple smothing</td>\n",
       "      <td>3.14972</td>\n",
       "      <td>4.54610</td>\n",
       "      <td>104.57342</td>\n",
       "    </tr>\n",
       "    <tr>\n",
       "      <th>0</th>\n",
       "      <td>Fiji</td>\n",
       "      <td>simple smothing</td>\n",
       "      <td>3.08889</td>\n",
       "      <td>3.14497</td>\n",
       "      <td>76.61502</td>\n",
       "    </tr>\n",
       "    <tr>\n",
       "      <th>0</th>\n",
       "      <td>Burundi</td>\n",
       "      <td>simple smothing</td>\n",
       "      <td>2.89803</td>\n",
       "      <td>2.90355</td>\n",
       "      <td>49.91747</td>\n",
       "    </tr>\n",
       "    <tr>\n",
       "      <th>0</th>\n",
       "      <td>Sudan</td>\n",
       "      <td>simple smothing</td>\n",
       "      <td>2.67822</td>\n",
       "      <td>2.68091</td>\n",
       "      <td>91.08020</td>\n",
       "    </tr>\n",
       "  </tbody>\n",
       "</table>\n",
       "</div>"
      ],
      "text/plain": [
       "             Country            Model       mae      rmse       mape\n",
       "0          Macao SAR  simple smothing  27.73445  28.49951  605.59178\n",
       "0             Guyana  simple smothing  24.49126  29.50096  687.01419\n",
       "0          Sri Lanka  simple smothing   6.43806   6.46676  253.37240\n",
       "0            Ukraine  simple smothing   6.20001   6.20001  295.87922\n",
       "0          Caribbean  simple smothing   6.14876   6.39390  203.96997\n",
       "0              Yemen  simple smothing   5.65466   5.92581  105.83273\n",
       "0         Mozambique  simple smothing   5.15503   6.85629   41.29928\n",
       "0              Libya  simple smothing   4.61330   4.88763   86.75301\n",
       "0        The Bahamas  simple smothing   4.14862   4.15007  260.88570\n",
       "0            Ireland  simple smothing   4.14520   4.16561  128.10331\n",
       "0          Venezuela  simple smothing   4.13291   4.60805  581.65688\n",
       "0            Moldova  simple smothing   3.94687   3.95922   80.13276\n",
       "0           Maldives  simple smothing   3.93665   3.96379   69.66515\n",
       "0            Estonia  simple smothing   3.90931   3.91207  117.78336\n",
       "0        Saint Lucia  simple smothing   3.75972   3.77003  218.65743\n",
       "0             Belize  simple smothing   3.22511   3.22511  161.25550\n",
       "0  Equatorial Guinea  simple smothing   3.14972   4.54610  104.57342\n",
       "0               Fiji  simple smothing   3.08889   3.14497   76.61502\n",
       "0            Burundi  simple smothing   2.89803   2.90355   49.91747\n",
       "0              Sudan  simple smothing   2.67822   2.68091   91.08020"
      ]
     },
     "execution_count": 60,
     "metadata": {},
     "output_type": "execute_result"
    }
   ],
   "source": [
    "df_metrics_ss.sort_values(by='mae', ascending=False).head(20)"
   ]
  },
  {
   "cell_type": "code",
   "execution_count": 61,
   "metadata": {},
   "outputs": [
    {
     "data": {
      "text/plain": [
       "<Axes: >"
      ]
     },
     "execution_count": 61,
     "metadata": {},
     "output_type": "execute_result"
    },
    {
     "data": {
      "image/png": "[encoded data removed]",
      "text/plain": [
       "<Figure size 640x480 with 1 Axes>"
      ]
     },
     "metadata": {},
     "output_type": "display_data"
    }
   ],
   "source": [
    "df_metrics_ss['mae'].hist(bins=50)"
   ]
  },
  {
   "cell_type": "code",
   "execution_count": 62,
   "metadata": {},
   "outputs": [
    {
     "data": {
      "text/plain": [
       "mean      1.288721\n",
       "median    0.697400\n",
       "std       2.617642\n",
       "Name: mae, dtype: float64"
      ]
     },
     "execution_count": 62,
     "metadata": {},
     "output_type": "execute_result"
    }
   ],
   "source": [
    "df_metrics_ss['mae'].agg(['mean','median','std'])"
   ]
  },
  {
   "cell_type": "markdown",
   "metadata": {},
   "source": [
    "## 4.3 Prophet"
   ]
  },
  {
   "cell_type": "code",
   "execution_count": 63,
   "metadata": {},
   "outputs": [
    {
     "name": "stderr",
     "output_type": "stream",
     "text": [
      "19:08:27 - cmdstanpy - INFO - Chain [1] start processing\n"
     ]
    },
    {
     "name": "stderr",
     "output_type": "stream",
     "text": [
      "19:08:27 - cmdstanpy - INFO - Chain [1] done processing\n",
      "19:08:27 - cmdstanpy - INFO - Chain [1] start processing\n",
      "19:08:27 - cmdstanpy - INFO - Chain [1] done processing\n",
      "19:08:27 - cmdstanpy - INFO - Chain [1] start processing\n",
      "19:08:27 - cmdstanpy - INFO - Chain [1] done processing\n",
      "19:08:27 - cmdstanpy - INFO - Chain [1] start processing\n",
      "19:08:27 - cmdstanpy - INFO - Chain [1] done processing\n",
      "19:08:28 - cmdstanpy - INFO - Chain [1] start processing\n",
      "19:08:28 - cmdstanpy - INFO - Chain [1] done processing\n",
      "19:08:28 - cmdstanpy - INFO - Chain [1] start processing\n",
      "19:08:28 - cmdstanpy - INFO - Chain [1] done processing\n",
      "19:08:28 - cmdstanpy - INFO - Chain [1] start processing\n",
      "19:08:28 - cmdstanpy - INFO - Chain [1] done processing\n",
      "19:08:28 - cmdstanpy - INFO - Chain [1] start processing\n",
      "19:08:28 - cmdstanpy - INFO - Chain [1] done processing\n",
      "19:08:28 - cmdstanpy - INFO - Chain [1] start processing\n",
      "19:08:28 - cmdstanpy - INFO - Chain [1] done processing\n",
      "19:08:28 - cmdstanpy - INFO - Chain [1] start processing\n",
      "19:08:28 - cmdstanpy - INFO - Chain [1] done processing\n",
      "19:08:28 - cmdstanpy - INFO - Chain [1] start processing\n",
      "19:08:28 - cmdstanpy - INFO - Chain [1] done processing\n",
      "19:08:29 - cmdstanpy - INFO - Chain [1] start processing\n",
      "19:08:29 - cmdstanpy - INFO - Chain [1] done processing\n",
      "19:08:29 - cmdstanpy - INFO - Chain [1] start processing\n",
      "19:08:29 - cmdstanpy - INFO - Chain [1] done processing\n",
      "19:08:29 - cmdstanpy - INFO - Chain [1] start processing\n",
      "19:08:29 - cmdstanpy - INFO - Chain [1] done processing\n",
      "19:08:29 - cmdstanpy - INFO - Chain [1] start processing\n",
      "19:08:29 - cmdstanpy - INFO - Chain [1] done processing\n",
      "19:08:29 - cmdstanpy - INFO - Chain [1] start processing\n",
      "19:08:29 - cmdstanpy - INFO - Chain [1] done processing\n",
      "19:08:29 - cmdstanpy - INFO - Chain [1] start processing\n",
      "19:08:29 - cmdstanpy - INFO - Chain [1] done processing\n",
      "19:08:29 - cmdstanpy - INFO - Chain [1] start processing\n",
      "19:08:29 - cmdstanpy - INFO - Chain [1] done processing\n",
      "19:08:29 - cmdstanpy - INFO - Chain [1] start processing\n",
      "19:08:30 - cmdstanpy - INFO - Chain [1] done processing\n",
      "19:08:30 - cmdstanpy - INFO - Chain [1] start processing\n",
      "19:08:30 - cmdstanpy - INFO - Chain [1] done processing\n",
      "19:08:30 - cmdstanpy - INFO - Chain [1] start processing\n",
      "19:08:30 - cmdstanpy - INFO - Chain [1] done processing\n",
      "19:08:30 - cmdstanpy - INFO - Chain [1] start processing\n",
      "19:08:30 - cmdstanpy - INFO - Chain [1] done processing\n",
      "19:08:30 - cmdstanpy - INFO - Chain [1] start processing\n",
      "19:08:30 - cmdstanpy - INFO - Chain [1] done processing\n",
      "19:08:30 - cmdstanpy - INFO - Chain [1] start processing\n",
      "19:08:30 - cmdstanpy - INFO - Chain [1] done processing\n",
      "19:08:30 - cmdstanpy - INFO - Chain [1] start processing\n",
      "19:08:30 - cmdstanpy - INFO - Chain [1] done processing\n",
      "19:08:30 - cmdstanpy - INFO - Chain [1] start processing\n",
      "19:08:31 - cmdstanpy - INFO - Chain [1] done processing\n",
      "19:08:31 - cmdstanpy - INFO - Chain [1] start processing\n",
      "19:08:31 - cmdstanpy - INFO - Chain [1] done processing\n",
      "19:08:31 - cmdstanpy - INFO - Chain [1] start processing\n",
      "19:08:31 - cmdstanpy - INFO - Chain [1] done processing\n",
      "19:08:31 - cmdstanpy - INFO - Chain [1] start processing\n",
      "19:08:31 - cmdstanpy - INFO - Chain [1] done processing\n",
      "19:08:31 - cmdstanpy - INFO - Chain [1] start processing\n",
      "19:08:31 - cmdstanpy - INFO - Chain [1] done processing\n",
      "19:08:31 - cmdstanpy - INFO - Chain [1] start processing\n",
      "19:08:31 - cmdstanpy - INFO - Chain [1] done processing\n",
      "19:08:31 - cmdstanpy - INFO - Chain [1] start processing\n",
      "19:08:32 - cmdstanpy - INFO - Chain [1] done processing\n",
      "19:08:32 - cmdstanpy - INFO - Chain [1] start processing\n",
      "19:08:32 - cmdstanpy - INFO - Chain [1] done processing\n",
      "19:08:32 - cmdstanpy - INFO - Chain [1] start processing\n",
      "19:08:32 - cmdstanpy - INFO - Chain [1] done processing\n",
      "19:08:32 - cmdstanpy - INFO - Chain [1] start processing\n",
      "19:08:32 - cmdstanpy - INFO - Chain [1] done processing\n",
      "19:08:32 - cmdstanpy - INFO - Chain [1] start processing\n",
      "19:08:32 - cmdstanpy - INFO - Chain [1] done processing\n",
      "19:08:32 - cmdstanpy - INFO - Chain [1] start processing\n",
      "19:08:32 - cmdstanpy - INFO - Chain [1] done processing\n",
      "19:08:33 - cmdstanpy - INFO - Chain [1] start processing\n",
      "19:08:33 - cmdstanpy - INFO - Chain [1] done processing\n",
      "19:08:33 - cmdstanpy - INFO - Chain [1] start processing\n",
      "19:08:33 - cmdstanpy - INFO - Chain [1] done processing\n",
      "19:08:33 - cmdstanpy - INFO - Chain [1] start processing\n",
      "19:08:33 - cmdstanpy - INFO - Chain [1] done processing\n",
      "19:08:33 - cmdstanpy - INFO - Chain [1] start processing\n",
      "19:08:33 - cmdstanpy - INFO - Chain [1] done processing\n",
      "19:08:33 - cmdstanpy - INFO - Chain [1] start processing\n",
      "19:08:33 - cmdstanpy - INFO - Chain [1] done processing\n",
      "19:08:33 - cmdstanpy - INFO - Chain [1] start processing\n",
      "19:08:33 - cmdstanpy - INFO - Chain [1] done processing\n",
      "19:08:33 - cmdstanpy - INFO - Chain [1] start processing\n",
      "19:08:34 - cmdstanpy - INFO - Chain [1] done processing\n",
      "19:08:34 - cmdstanpy - INFO - Chain [1] start processing\n",
      "19:08:34 - cmdstanpy - INFO - Chain [1] done processing\n",
      "19:08:34 - cmdstanpy - INFO - Chain [1] start processing\n",
      "19:08:34 - cmdstanpy - INFO - Chain [1] done processing\n",
      "19:08:34 - cmdstanpy - INFO - Chain [1] start processing\n",
      "19:08:34 - cmdstanpy - INFO - Chain [1] done processing\n",
      "19:08:34 - cmdstanpy - INFO - Chain [1] start processing\n",
      "19:08:34 - cmdstanpy - INFO - Chain [1] done processing\n",
      "19:08:34 - cmdstanpy - INFO - Chain [1] start processing\n",
      "19:08:34 - cmdstanpy - INFO - Chain [1] done processing\n",
      "19:08:34 - cmdstanpy - INFO - Chain [1] start processing\n",
      "19:08:34 - cmdstanpy - INFO - Chain [1] done processing\n",
      "19:08:34 - cmdstanpy - INFO - Chain [1] start processing\n",
      "19:08:34 - cmdstanpy - INFO - Chain [1] done processing\n",
      "19:08:34 - cmdstanpy - INFO - Chain [1] start processing\n",
      "19:08:35 - cmdstanpy - INFO - Chain [1] done processing\n",
      "19:08:35 - cmdstanpy - INFO - Chain [1] start processing\n",
      "19:08:35 - cmdstanpy - INFO - Chain [1] done processing\n",
      "19:08:35 - cmdstanpy - INFO - Chain [1] start processing\n",
      "19:08:35 - cmdstanpy - INFO - Chain [1] done processing\n",
      "19:08:35 - cmdstanpy - INFO - Chain [1] start processing\n",
      "19:08:35 - cmdstanpy - INFO - Chain [1] done processing\n",
      "19:08:35 - cmdstanpy - INFO - Chain [1] start processing\n",
      "19:08:35 - cmdstanpy - INFO - Chain [1] done processing\n",
      "19:08:35 - cmdstanpy - INFO - Chain [1] start processing\n",
      "19:08:35 - cmdstanpy - INFO - Chain [1] done processing\n",
      "19:08:35 - cmdstanpy - INFO - Chain [1] start processing\n",
      "19:08:35 - cmdstanpy - INFO - Chain [1] done processing\n",
      "19:08:35 - cmdstanpy - INFO - Chain [1] start processing\n",
      "19:08:35 - cmdstanpy - INFO - Chain [1] done processing\n",
      "19:08:36 - cmdstanpy - INFO - Chain [1] start processing\n",
      "19:08:36 - cmdstanpy - INFO - Chain [1] done processing\n",
      "19:08:36 - cmdstanpy - INFO - Chain [1] start processing\n",
      "19:08:36 - cmdstanpy - INFO - Chain [1] done processing\n",
      "19:08:36 - cmdstanpy - INFO - Chain [1] start processing\n",
      "19:08:36 - cmdstanpy - INFO - Chain [1] done processing\n",
      "19:08:36 - cmdstanpy - INFO - Chain [1] start processing\n",
      "19:08:36 - cmdstanpy - INFO - Chain [1] done processing\n",
      "19:08:36 - cmdstanpy - INFO - Chain [1] start processing\n",
      "19:08:36 - cmdstanpy - INFO - Chain [1] done processing\n",
      "19:08:36 - cmdstanpy - INFO - Chain [1] start processing\n",
      "19:08:36 - cmdstanpy - INFO - Chain [1] done processing\n",
      "19:08:36 - cmdstanpy - INFO - Chain [1] start processing\n",
      "19:08:37 - cmdstanpy - INFO - Chain [1] done processing\n",
      "19:08:37 - cmdstanpy - INFO - Chain [1] start processing\n",
      "19:08:37 - cmdstanpy - INFO - Chain [1] done processing\n",
      "19:08:37 - cmdstanpy - INFO - Chain [1] start processing\n",
      "19:08:37 - cmdstanpy - INFO - Chain [1] done processing\n",
      "19:08:37 - cmdstanpy - INFO - Chain [1] start processing\n",
      "19:08:37 - cmdstanpy - INFO - Chain [1] done processing\n",
      "19:08:37 - cmdstanpy - INFO - Chain [1] start processing\n",
      "19:08:37 - cmdstanpy - INFO - Chain [1] done processing\n",
      "19:08:37 - cmdstanpy - INFO - Chain [1] start processing\n",
      "19:08:37 - cmdstanpy - INFO - Chain [1] done processing\n",
      "19:08:37 - cmdstanpy - INFO - Chain [1] start processing\n",
      "19:08:37 - cmdstanpy - INFO - Chain [1] done processing\n",
      "19:08:37 - cmdstanpy - INFO - Chain [1] start processing\n",
      "19:08:37 - cmdstanpy - INFO - Chain [1] done processing\n",
      "19:08:37 - cmdstanpy - INFO - Chain [1] start processing\n",
      "19:08:38 - cmdstanpy - INFO - Chain [1] done processing\n",
      "19:08:38 - cmdstanpy - INFO - Chain [1] start processing\n",
      "19:08:38 - cmdstanpy - INFO - Chain [1] done processing\n",
      "19:08:38 - cmdstanpy - INFO - Chain [1] start processing\n",
      "19:08:38 - cmdstanpy - INFO - Chain [1] done processing\n",
      "19:08:38 - cmdstanpy - INFO - Chain [1] start processing\n",
      "19:08:38 - cmdstanpy - INFO - Chain [1] done processing\n",
      "19:08:38 - cmdstanpy - INFO - Chain [1] start processing\n",
      "19:08:38 - cmdstanpy - INFO - Chain [1] done processing\n",
      "19:08:38 - cmdstanpy - INFO - Chain [1] start processing\n",
      "19:08:38 - cmdstanpy - INFO - Chain [1] done processing\n",
      "19:08:38 - cmdstanpy - INFO - Chain [1] start processing\n",
      "19:08:38 - cmdstanpy - INFO - Chain [1] done processing\n",
      "19:08:38 - cmdstanpy - INFO - Chain [1] start processing\n",
      "19:08:38 - cmdstanpy - INFO - Chain [1] done processing\n",
      "19:08:39 - cmdstanpy - INFO - Chain [1] start processing\n",
      "19:08:39 - cmdstanpy - INFO - Chain [1] done processing\n",
      "19:08:39 - cmdstanpy - INFO - Chain [1] start processing\n",
      "19:08:39 - cmdstanpy - INFO - Chain [1] done processing\n",
      "19:08:39 - cmdstanpy - INFO - Chain [1] start processing\n",
      "19:08:39 - cmdstanpy - INFO - Chain [1] done processing\n",
      "19:08:39 - cmdstanpy - INFO - Chain [1] start processing\n",
      "19:08:39 - cmdstanpy - INFO - Chain [1] done processing\n",
      "19:08:39 - cmdstanpy - INFO - Chain [1] start processing\n",
      "19:08:39 - cmdstanpy - INFO - Chain [1] done processing\n",
      "19:08:39 - cmdstanpy - INFO - Chain [1] start processing\n",
      "19:08:39 - cmdstanpy - INFO - Chain [1] done processing\n",
      "19:08:39 - cmdstanpy - INFO - Chain [1] start processing\n",
      "19:08:39 - cmdstanpy - INFO - Chain [1] done processing\n",
      "19:08:39 - cmdstanpy - INFO - Chain [1] start processing\n",
      "19:08:40 - cmdstanpy - INFO - Chain [1] done processing\n",
      "19:08:40 - cmdstanpy - INFO - Chain [1] start processing\n",
      "19:08:40 - cmdstanpy - INFO - Chain [1] done processing\n",
      "19:08:40 - cmdstanpy - INFO - Chain [1] start processing\n",
      "19:08:40 - cmdstanpy - INFO - Chain [1] done processing\n",
      "19:08:40 - cmdstanpy - INFO - Chain [1] start processing\n",
      "19:08:40 - cmdstanpy - INFO - Chain [1] done processing\n",
      "19:08:40 - cmdstanpy - INFO - Chain [1] start processing\n",
      "19:08:40 - cmdstanpy - INFO - Chain [1] done processing\n",
      "19:08:40 - cmdstanpy - INFO - Chain [1] start processing\n",
      "19:08:40 - cmdstanpy - INFO - Chain [1] done processing\n",
      "19:08:40 - cmdstanpy - INFO - Chain [1] start processing\n",
      "19:08:40 - cmdstanpy - INFO - Chain [1] done processing\n",
      "19:08:40 - cmdstanpy - INFO - Chain [1] start processing\n",
      "19:08:41 - cmdstanpy - INFO - Chain [1] done processing\n",
      "19:08:41 - cmdstanpy - INFO - Chain [1] start processing\n",
      "19:08:41 - cmdstanpy - INFO - Chain [1] done processing\n",
      "19:08:41 - cmdstanpy - INFO - Chain [1] start processing\n",
      "19:08:41 - cmdstanpy - INFO - Chain [1] done processing\n",
      "19:08:41 - cmdstanpy - INFO - Chain [1] start processing\n",
      "19:08:41 - cmdstanpy - INFO - Chain [1] done processing\n",
      "19:08:41 - cmdstanpy - INFO - Chain [1] start processing\n",
      "19:08:41 - cmdstanpy - INFO - Chain [1] done processing\n",
      "19:08:41 - cmdstanpy - INFO - Chain [1] start processing\n",
      "19:08:41 - cmdstanpy - INFO - Chain [1] done processing\n",
      "19:08:41 - cmdstanpy - INFO - Chain [1] start processing\n",
      "19:08:42 - cmdstanpy - INFO - Chain [1] done processing\n",
      "19:08:42 - cmdstanpy - INFO - Chain [1] start processing\n",
      "19:08:42 - cmdstanpy - INFO - Chain [1] done processing\n",
      "19:08:42 - cmdstanpy - INFO - Chain [1] start processing\n",
      "19:08:42 - cmdstanpy - INFO - Chain [1] done processing\n",
      "19:08:42 - cmdstanpy - INFO - Chain [1] start processing\n",
      "19:08:42 - cmdstanpy - INFO - Chain [1] done processing\n",
      "19:08:42 - cmdstanpy - INFO - Chain [1] start processing\n",
      "19:08:42 - cmdstanpy - INFO - Chain [1] done processing\n",
      "19:08:42 - cmdstanpy - INFO - Chain [1] start processing\n",
      "19:08:42 - cmdstanpy - INFO - Chain [1] done processing\n",
      "19:08:42 - cmdstanpy - INFO - Chain [1] start processing\n",
      "19:08:42 - cmdstanpy - INFO - Chain [1] done processing\n",
      "19:08:42 - cmdstanpy - INFO - Chain [1] start processing\n",
      "19:08:42 - cmdstanpy - INFO - Chain [1] done processing\n",
      "19:08:43 - cmdstanpy - INFO - Chain [1] start processing\n",
      "19:08:43 - cmdstanpy - INFO - Chain [1] done processing\n",
      "19:08:43 - cmdstanpy - INFO - Chain [1] start processing\n",
      "19:08:43 - cmdstanpy - INFO - Chain [1] done processing\n",
      "19:08:43 - cmdstanpy - INFO - Chain [1] start processing\n",
      "19:08:43 - cmdstanpy - INFO - Chain [1] done processing\n",
      "19:08:43 - cmdstanpy - INFO - Chain [1] start processing\n",
      "19:08:43 - cmdstanpy - INFO - Chain [1] done processing\n",
      "19:08:43 - cmdstanpy - INFO - Chain [1] start processing\n",
      "19:08:43 - cmdstanpy - INFO - Chain [1] done processing\n",
      "19:08:43 - cmdstanpy - INFO - Chain [1] start processing\n",
      "19:08:43 - cmdstanpy - INFO - Chain [1] done processing\n",
      "19:08:43 - cmdstanpy - INFO - Chain [1] start processing\n",
      "19:08:43 - cmdstanpy - INFO - Chain [1] done processing\n",
      "19:08:43 - cmdstanpy - INFO - Chain [1] start processing\n",
      "19:08:44 - cmdstanpy - INFO - Chain [1] done processing\n",
      "19:08:44 - cmdstanpy - INFO - Chain [1] start processing\n",
      "19:08:44 - cmdstanpy - INFO - Chain [1] done processing\n",
      "19:08:44 - cmdstanpy - INFO - Chain [1] start processing\n",
      "19:08:44 - cmdstanpy - INFO - Chain [1] done processing\n",
      "19:08:44 - cmdstanpy - INFO - Chain [1] start processing\n",
      "19:08:44 - cmdstanpy - INFO - Chain [1] done processing\n",
      "19:08:44 - cmdstanpy - INFO - Chain [1] start processing\n",
      "19:08:44 - cmdstanpy - INFO - Chain [1] done processing\n",
      "19:08:44 - cmdstanpy - INFO - Chain [1] start processing\n",
      "19:08:44 - cmdstanpy - INFO - Chain [1] done processing\n",
      "19:08:44 - cmdstanpy - INFO - Chain [1] start processing\n",
      "19:08:45 - cmdstanpy - INFO - Chain [1] done processing\n",
      "19:08:45 - cmdstanpy - INFO - Chain [1] start processing\n",
      "19:08:45 - cmdstanpy - INFO - Chain [1] done processing\n",
      "19:08:45 - cmdstanpy - INFO - Chain [1] start processing\n",
      "19:08:45 - cmdstanpy - INFO - Chain [1] done processing\n",
      "19:08:45 - cmdstanpy - INFO - Chain [1] start processing\n",
      "19:08:45 - cmdstanpy - INFO - Chain [1] done processing\n",
      "19:08:45 - cmdstanpy - INFO - Chain [1] start processing\n",
      "19:08:45 - cmdstanpy - INFO - Chain [1] done processing\n",
      "19:08:45 - cmdstanpy - INFO - Chain [1] start processing\n",
      "19:08:45 - cmdstanpy - INFO - Chain [1] done processing\n",
      "19:08:45 - cmdstanpy - INFO - Chain [1] start processing\n",
      "19:08:45 - cmdstanpy - INFO - Chain [1] done processing\n",
      "19:08:45 - cmdstanpy - INFO - Chain [1] start processing\n",
      "19:08:46 - cmdstanpy - INFO - Chain [1] done processing\n",
      "19:08:46 - cmdstanpy - INFO - Chain [1] start processing\n",
      "19:08:46 - cmdstanpy - INFO - Chain [1] done processing\n",
      "19:08:46 - cmdstanpy - INFO - Chain [1] start processing\n",
      "19:08:46 - cmdstanpy - INFO - Chain [1] done processing\n",
      "19:08:46 - cmdstanpy - INFO - Chain [1] start processing\n",
      "19:08:46 - cmdstanpy - INFO - Chain [1] done processing\n",
      "19:08:46 - cmdstanpy - INFO - Chain [1] start processing\n",
      "19:08:46 - cmdstanpy - INFO - Chain [1] done processing\n",
      "19:08:46 - cmdstanpy - INFO - Chain [1] start processing\n",
      "19:08:46 - cmdstanpy - INFO - Chain [1] done processing\n",
      "19:08:46 - cmdstanpy - INFO - Chain [1] start processing\n",
      "19:08:46 - cmdstanpy - INFO - Chain [1] done processing\n",
      "19:08:46 - cmdstanpy - INFO - Chain [1] start processing\n",
      "19:08:47 - cmdstanpy - INFO - Chain [1] done processing\n",
      "19:08:47 - cmdstanpy - INFO - Chain [1] start processing\n",
      "19:08:47 - cmdstanpy - INFO - Chain [1] done processing\n",
      "19:08:47 - cmdstanpy - INFO - Chain [1] start processing\n",
      "19:08:47 - cmdstanpy - INFO - Chain [1] done processing\n",
      "19:08:47 - cmdstanpy - INFO - Chain [1] start processing\n",
      "19:08:47 - cmdstanpy - INFO - Chain [1] done processing\n",
      "19:08:47 - cmdstanpy - INFO - Chain [1] start processing\n",
      "19:08:47 - cmdstanpy - INFO - Chain [1] done processing\n",
      "19:08:47 - cmdstanpy - INFO - Chain [1] start processing\n",
      "19:08:47 - cmdstanpy - INFO - Chain [1] done processing\n",
      "19:08:47 - cmdstanpy - INFO - Chain [1] start processing\n",
      "19:08:47 - cmdstanpy - INFO - Chain [1] done processing\n",
      "19:08:48 - cmdstanpy - INFO - Chain [1] start processing\n",
      "19:08:48 - cmdstanpy - INFO - Chain [1] done processing\n",
      "19:08:48 - cmdstanpy - INFO - Chain [1] start processing\n",
      "19:08:48 - cmdstanpy - INFO - Chain [1] done processing\n",
      "19:08:48 - cmdstanpy - INFO - Chain [1] start processing\n",
      "19:08:48 - cmdstanpy - INFO - Chain [1] done processing\n",
      "19:08:48 - cmdstanpy - INFO - Chain [1] start processing\n",
      "19:08:48 - cmdstanpy - INFO - Chain [1] done processing\n",
      "19:08:48 - cmdstanpy - INFO - Chain [1] start processing\n",
      "19:08:48 - cmdstanpy - INFO - Chain [1] done processing\n",
      "19:08:48 - cmdstanpy - INFO - Chain [1] start processing\n",
      "19:08:48 - cmdstanpy - INFO - Chain [1] done processing\n",
      "19:08:48 - cmdstanpy - INFO - Chain [1] start processing\n",
      "19:08:48 - cmdstanpy - INFO - Chain [1] done processing\n",
      "19:08:49 - cmdstanpy - INFO - Chain [1] start processing\n",
      "19:08:49 - cmdstanpy - INFO - Chain [1] done processing\n",
      "19:08:49 - cmdstanpy - INFO - Chain [1] start processing\n",
      "19:08:49 - cmdstanpy - INFO - Chain [1] done processing\n",
      "19:08:49 - cmdstanpy - INFO - Chain [1] start processing\n",
      "19:08:49 - cmdstanpy - INFO - Chain [1] done processing\n",
      "19:08:49 - cmdstanpy - INFO - Chain [1] start processing\n",
      "19:08:49 - cmdstanpy - INFO - Chain [1] done processing\n",
      "19:08:49 - cmdstanpy - INFO - Chain [1] start processing\n",
      "19:08:49 - cmdstanpy - INFO - Chain [1] done processing\n",
      "19:08:49 - cmdstanpy - INFO - Chain [1] start processing\n",
      "19:08:49 - cmdstanpy - INFO - Chain [1] done processing\n",
      "19:08:49 - cmdstanpy - INFO - Chain [1] start processing\n",
      "19:08:49 - cmdstanpy - INFO - Chain [1] done processing\n",
      "19:08:50 - cmdstanpy - INFO - Chain [1] start processing\n",
      "19:08:50 - cmdstanpy - INFO - Chain [1] done processing\n",
      "19:08:50 - cmdstanpy - INFO - Chain [1] start processing\n",
      "19:08:50 - cmdstanpy - INFO - Chain [1] done processing\n",
      "19:08:50 - cmdstanpy - INFO - Chain [1] start processing\n",
      "19:08:50 - cmdstanpy - INFO - Chain [1] done processing\n",
      "19:08:50 - cmdstanpy - INFO - Chain [1] start processing\n",
      "19:08:50 - cmdstanpy - INFO - Chain [1] done processing\n",
      "19:08:50 - cmdstanpy - INFO - Chain [1] start processing\n",
      "19:08:50 - cmdstanpy - INFO - Chain [1] done processing\n",
      "19:08:50 - cmdstanpy - INFO - Chain [1] start processing\n",
      "19:08:50 - cmdstanpy - INFO - Chain [1] done processing\n",
      "19:08:50 - cmdstanpy - INFO - Chain [1] start processing\n",
      "19:08:50 - cmdstanpy - INFO - Chain [1] done processing\n",
      "19:08:51 - cmdstanpy - INFO - Chain [1] start processing\n",
      "19:08:51 - cmdstanpy - INFO - Chain [1] done processing\n",
      "19:08:51 - cmdstanpy - INFO - Chain [1] start processing\n",
      "19:08:51 - cmdstanpy - INFO - Chain [1] done processing\n",
      "19:08:51 - cmdstanpy - INFO - Chain [1] start processing\n",
      "19:08:51 - cmdstanpy - INFO - Chain [1] done processing\n",
      "19:08:51 - cmdstanpy - INFO - Chain [1] start processing\n",
      "19:08:51 - cmdstanpy - INFO - Chain [1] done processing\n",
      "19:08:51 - cmdstanpy - INFO - Chain [1] start processing\n",
      "19:08:51 - cmdstanpy - INFO - Chain [1] done processing\n",
      "19:08:51 - cmdstanpy - INFO - Chain [1] start processing\n",
      "19:08:51 - cmdstanpy - INFO - Chain [1] done processing\n",
      "19:08:51 - cmdstanpy - INFO - Chain [1] start processing\n",
      "19:08:51 - cmdstanpy - INFO - Chain [1] done processing\n",
      "19:08:51 - cmdstanpy - INFO - Chain [1] start processing\n",
      "19:08:52 - cmdstanpy - INFO - Chain [1] done processing\n",
      "19:08:52 - cmdstanpy - INFO - Chain [1] start processing\n",
      "19:08:52 - cmdstanpy - INFO - Chain [1] done processing\n",
      "19:08:52 - cmdstanpy - INFO - Chain [1] start processing\n",
      "19:08:52 - cmdstanpy - INFO - Chain [1] done processing\n",
      "19:08:52 - cmdstanpy - INFO - Chain [1] start processing\n",
      "19:08:52 - cmdstanpy - INFO - Chain [1] done processing\n",
      "19:08:52 - cmdstanpy - INFO - Chain [1] start processing\n",
      "19:08:52 - cmdstanpy - INFO - Chain [1] done processing\n",
      "19:08:52 - cmdstanpy - INFO - Chain [1] start processing\n",
      "19:08:52 - cmdstanpy - INFO - Chain [1] done processing\n",
      "19:08:52 - cmdstanpy - INFO - Chain [1] start processing\n",
      "19:08:52 - cmdstanpy - INFO - Chain [1] done processing\n",
      "19:08:53 - cmdstanpy - INFO - Chain [1] start processing\n",
      "19:08:53 - cmdstanpy - INFO - Chain [1] done processing\n",
      "19:08:53 - cmdstanpy - INFO - Chain [1] start processing\n",
      "19:08:53 - cmdstanpy - INFO - Chain [1] done processing\n",
      "19:08:53 - cmdstanpy - INFO - Chain [1] start processing\n",
      "19:08:53 - cmdstanpy - INFO - Chain [1] done processing\n",
      "19:08:53 - cmdstanpy - INFO - Chain [1] start processing\n",
      "19:08:53 - cmdstanpy - INFO - Chain [1] done processing\n",
      "19:08:53 - cmdstanpy - INFO - Chain [1] start processing\n",
      "19:08:53 - cmdstanpy - INFO - Chain [1] done processing\n",
      "19:08:53 - cmdstanpy - INFO - Chain [1] start processing\n",
      "19:08:53 - cmdstanpy - INFO - Chain [1] done processing\n",
      "19:08:53 - cmdstanpy - INFO - Chain [1] start processing\n",
      "19:08:54 - cmdstanpy - INFO - Chain [1] done processing\n",
      "19:08:54 - cmdstanpy - INFO - Chain [1] start processing\n",
      "19:08:54 - cmdstanpy - INFO - Chain [1] done processing\n",
      "19:08:54 - cmdstanpy - INFO - Chain [1] start processing\n",
      "19:08:54 - cmdstanpy - INFO - Chain [1] done processing\n",
      "19:08:54 - cmdstanpy - INFO - Chain [1] start processing\n",
      "19:08:54 - cmdstanpy - INFO - Chain [1] done processing\n",
      "19:08:54 - cmdstanpy - INFO - Chain [1] start processing\n",
      "19:08:54 - cmdstanpy - INFO - Chain [1] done processing\n",
      "19:08:54 - cmdstanpy - INFO - Chain [1] start processing\n",
      "19:08:54 - cmdstanpy - INFO - Chain [1] done processing\n",
      "19:08:54 - cmdstanpy - INFO - Chain [1] start processing\n",
      "19:08:54 - cmdstanpy - INFO - Chain [1] done processing\n",
      "19:08:54 - cmdstanpy - INFO - Chain [1] start processing\n",
      "19:08:55 - cmdstanpy - INFO - Chain [1] done processing\n",
      "19:08:55 - cmdstanpy - INFO - Chain [1] start processing\n",
      "19:08:55 - cmdstanpy - INFO - Chain [1] done processing\n",
      "19:08:55 - cmdstanpy - INFO - Chain [1] start processing\n",
      "19:08:55 - cmdstanpy - INFO - Chain [1] done processing\n",
      "19:08:55 - cmdstanpy - INFO - Chain [1] start processing\n",
      "19:08:55 - cmdstanpy - INFO - Chain [1] done processing\n",
      "19:08:55 - cmdstanpy - INFO - Chain [1] start processing\n",
      "19:08:55 - cmdstanpy - INFO - Chain [1] done processing\n",
      "19:08:55 - cmdstanpy - INFO - Chain [1] start processing\n",
      "19:08:55 - cmdstanpy - INFO - Chain [1] done processing\n",
      "19:08:55 - cmdstanpy - INFO - Chain [1] start processing\n",
      "19:08:55 - cmdstanpy - INFO - Chain [1] done processing\n",
      "19:08:55 - cmdstanpy - INFO - Chain [1] start processing\n",
      "19:08:56 - cmdstanpy - INFO - Chain [1] done processing\n",
      "19:08:56 - cmdstanpy - INFO - Chain [1] start processing\n",
      "19:08:56 - cmdstanpy - INFO - Chain [1] done processing\n",
      "19:08:56 - cmdstanpy - INFO - Chain [1] start processing\n",
      "19:08:56 - cmdstanpy - INFO - Chain [1] done processing\n",
      "19:08:56 - cmdstanpy - INFO - Chain [1] start processing\n",
      "19:08:56 - cmdstanpy - INFO - Chain [1] done processing\n",
      "19:08:56 - cmdstanpy - INFO - Chain [1] start processing\n",
      "19:08:56 - cmdstanpy - INFO - Chain [1] done processing\n",
      "19:08:56 - cmdstanpy - INFO - Chain [1] start processing\n",
      "19:08:56 - cmdstanpy - INFO - Chain [1] done processing\n",
      "19:08:56 - cmdstanpy - INFO - Chain [1] start processing\n",
      "19:08:56 - cmdstanpy - INFO - Chain [1] done processing\n",
      "19:08:56 - cmdstanpy - INFO - Chain [1] start processing\n",
      "19:08:57 - cmdstanpy - INFO - Chain [1] done processing\n",
      "19:08:57 - cmdstanpy - INFO - Chain [1] start processing\n",
      "19:08:57 - cmdstanpy - INFO - Chain [1] done processing\n",
      "19:08:57 - cmdstanpy - INFO - Chain [1] start processing\n",
      "19:08:57 - cmdstanpy - INFO - Chain [1] done processing\n",
      "19:08:57 - cmdstanpy - INFO - Chain [1] start processing\n",
      "19:08:57 - cmdstanpy - INFO - Chain [1] done processing\n",
      "19:08:57 - cmdstanpy - INFO - Chain [1] start processing\n",
      "19:08:57 - cmdstanpy - INFO - Chain [1] done processing\n",
      "19:08:57 - cmdstanpy - INFO - Chain [1] start processing\n",
      "19:08:57 - cmdstanpy - INFO - Chain [1] done processing\n",
      "19:08:57 - cmdstanpy - INFO - Chain [1] start processing\n",
      "19:08:57 - cmdstanpy - INFO - Chain [1] done processing\n",
      "19:08:58 - cmdstanpy - INFO - Chain [1] start processing\n",
      "19:08:58 - cmdstanpy - INFO - Chain [1] done processing\n",
      "19:08:58 - cmdstanpy - INFO - Chain [1] start processing\n",
      "19:08:58 - cmdstanpy - INFO - Chain [1] done processing\n",
      "19:08:58 - cmdstanpy - INFO - Chain [1] start processing\n",
      "19:08:58 - cmdstanpy - INFO - Chain [1] done processing\n",
      "19:08:58 - cmdstanpy - INFO - Chain [1] start processing\n",
      "19:08:58 - cmdstanpy - INFO - Chain [1] done processing\n",
      "19:08:58 - cmdstanpy - INFO - Chain [1] start processing\n",
      "19:08:58 - cmdstanpy - INFO - Chain [1] done processing\n",
      "19:08:58 - cmdstanpy - INFO - Chain [1] start processing\n",
      "19:08:58 - cmdstanpy - INFO - Chain [1] done processing\n",
      "19:08:58 - cmdstanpy - INFO - Chain [1] start processing\n",
      "19:08:58 - cmdstanpy - INFO - Chain [1] done processing\n",
      "19:08:59 - cmdstanpy - INFO - Chain [1] start processing\n",
      "19:08:59 - cmdstanpy - INFO - Chain [1] done processing\n",
      "19:08:59 - cmdstanpy - INFO - Chain [1] start processing\n",
      "19:08:59 - cmdstanpy - INFO - Chain [1] done processing\n",
      "19:08:59 - cmdstanpy - INFO - Chain [1] start processing\n",
      "19:08:59 - cmdstanpy - INFO - Chain [1] done processing\n",
      "19:08:59 - cmdstanpy - INFO - Chain [1] start processing\n",
      "19:08:59 - cmdstanpy - INFO - Chain [1] done processing\n",
      "19:08:59 - cmdstanpy - INFO - Chain [1] start processing\n",
      "19:08:59 - cmdstanpy - INFO - Chain [1] done processing\n",
      "19:08:59 - cmdstanpy - INFO - Chain [1] start processing\n",
      "19:08:59 - cmdstanpy - INFO - Chain [1] done processing\n",
      "19:08:59 - cmdstanpy - INFO - Chain [1] start processing\n",
      "19:08:59 - cmdstanpy - INFO - Chain [1] done processing\n",
      "19:08:59 - cmdstanpy - INFO - Chain [1] start processing\n",
      "19:09:00 - cmdstanpy - INFO - Chain [1] done processing\n",
      "19:09:00 - cmdstanpy - INFO - Chain [1] start processing\n",
      "19:09:00 - cmdstanpy - INFO - Chain [1] done processing\n"
     ]
    }
   ],
   "source": [
    "\n",
    "df_pred_prophet = pd.DataFrame()\n",
    "\n",
    "for country in df3.columns:\n",
    "    aux = train[[country]].copy()\n",
    "    aux['ds'] = aux.index\n",
    "    aux.rename(columns={country: 'y'}, inplace=True)\n",
    "    aux\n",
    "\n",
    "    # # Crie e ajuste o modelo\n",
    "    model_prophet = Prophet(\n",
    "        growth='linear',\n",
    "        seasonality_mode='additive',\n",
    "        yearly_seasonality=False,\n",
    "        weekly_seasonality=False,\n",
    "        daily_seasonality=False,\n",
    "        changepoint_prior_scale=0.1,\n",
    "        seasonality_prior_scale=0,\n",
    "    )\n",
    "    model_prophet.fit(aux)\n",
    "\n",
    "\n",
    "    future = model_prophet.make_future_dataframe(periods=test.shape[0], freq='YS')  \n",
    "    forecast = model_prophet.predict(future)\n",
    "    df_pred_prophet = pd.concat([df_pred_prophet, pd.DataFrame(forecast[['yhat']][-5:].values, columns=[country])], axis=1)"
   ]
  },
  {
   "cell_type": "code",
   "execution_count": 64,
   "metadata": {},
   "outputs": [],
   "source": [
    "df_metrics_prophet = pd.DataFrame()\n",
    "for country in df_pred_prophet.columns:\n",
    "    metrics_prophet = metrics(test[country], df_pred_prophet[country], 'phophet',country)\n",
    "    df_metrics_prophet = pd.concat([df_metrics_prophet, metrics_prophet], axis=0)"
   ]
  },
  {
   "cell_type": "code",
   "execution_count": 65,
   "metadata": {},
   "outputs": [
    {
     "data": {
      "text/html": [
       "<div>\n",
       "<style scoped>\n",
       "    .dataframe tbody tr th:only-of-type {\n",
       "        vertical-align: middle;\n",
       "    }\n",
       "\n",
       "    .dataframe tbody tr th {\n",
       "        vertical-align: top;\n",
       "    }\n",
       "\n",
       "    .dataframe thead th {\n",
       "        text-align: right;\n",
       "    }\n",
       "</style>\n",
       "<table border=\"1\" class=\"dataframe\">\n",
       "  <thead>\n",
       "    <tr style=\"text-align: right;\">\n",
       "      <th></th>\n",
       "      <th>Country</th>\n",
       "      <th>Model</th>\n",
       "      <th>mae</th>\n",
       "      <th>rmse</th>\n",
       "      <th>mape</th>\n",
       "    </tr>\n",
       "  </thead>\n",
       "  <tbody>\n",
       "    <tr>\n",
       "      <th>0</th>\n",
       "      <td>Guyana</td>\n",
       "      <td>phophet</td>\n",
       "      <td>18.71707</td>\n",
       "      <td>19.18704</td>\n",
       "      <td>317.52606</td>\n",
       "    </tr>\n",
       "    <tr>\n",
       "      <th>0</th>\n",
       "      <td>Equatorial Guinea</td>\n",
       "      <td>phophet</td>\n",
       "      <td>7.85506</td>\n",
       "      <td>8.90264</td>\n",
       "      <td>437.69437</td>\n",
       "    </tr>\n",
       "    <tr>\n",
       "      <th>0</th>\n",
       "      <td>Azerbaijan</td>\n",
       "      <td>phophet</td>\n",
       "      <td>7.60160</td>\n",
       "      <td>7.62054</td>\n",
       "      <td>296.96489</td>\n",
       "    </tr>\n",
       "    <tr>\n",
       "      <th>0</th>\n",
       "      <td>Venezuela</td>\n",
       "      <td>phophet</td>\n",
       "      <td>6.77428</td>\n",
       "      <td>7.02723</td>\n",
       "      <td>706.45319</td>\n",
       "    </tr>\n",
       "    <tr>\n",
       "      <th>0</th>\n",
       "      <td>Tajikistan</td>\n",
       "      <td>phophet</td>\n",
       "      <td>6.72677</td>\n",
       "      <td>6.75902</td>\n",
       "      <td>165.04951</td>\n",
       "    </tr>\n",
       "    <tr>\n",
       "      <th>0</th>\n",
       "      <td>Macao SAR</td>\n",
       "      <td>phophet</td>\n",
       "      <td>6.36106</td>\n",
       "      <td>8.83559</td>\n",
       "      <td>71.30168</td>\n",
       "    </tr>\n",
       "    <tr>\n",
       "      <th>0</th>\n",
       "      <td>Iraq</td>\n",
       "      <td>phophet</td>\n",
       "      <td>6.20063</td>\n",
       "      <td>6.21738</td>\n",
       "      <td>254.36364</td>\n",
       "    </tr>\n",
       "    <tr>\n",
       "      <th>0</th>\n",
       "      <td>Republic of South Sudan</td>\n",
       "      <td>phophet</td>\n",
       "      <td>6.17700</td>\n",
       "      <td>6.22513</td>\n",
       "      <td>137.60980</td>\n",
       "    </tr>\n",
       "    <tr>\n",
       "      <th>0</th>\n",
       "      <td>Turkmenistan</td>\n",
       "      <td>phophet</td>\n",
       "      <td>6.00388</td>\n",
       "      <td>6.01382</td>\n",
       "      <td>260.30076</td>\n",
       "    </tr>\n",
       "    <tr>\n",
       "      <th>0</th>\n",
       "      <td>Qatar</td>\n",
       "      <td>phophet</td>\n",
       "      <td>6.00219</td>\n",
       "      <td>6.02448</td>\n",
       "      <td>215.54076</td>\n",
       "    </tr>\n",
       "    <tr>\n",
       "      <th>0</th>\n",
       "      <td>Tonga</td>\n",
       "      <td>phophet</td>\n",
       "      <td>5.32092</td>\n",
       "      <td>5.32486</td>\n",
       "      <td>255.30100</td>\n",
       "    </tr>\n",
       "    <tr>\n",
       "      <th>0</th>\n",
       "      <td>Yemen</td>\n",
       "      <td>phophet</td>\n",
       "      <td>5.31438</td>\n",
       "      <td>5.59731</td>\n",
       "      <td>98.31370</td>\n",
       "    </tr>\n",
       "    <tr>\n",
       "      <th>0</th>\n",
       "      <td>Central Asia and the Caucasus</td>\n",
       "      <td>phophet</td>\n",
       "      <td>5.12269</td>\n",
       "      <td>5.16226</td>\n",
       "      <td>155.75017</td>\n",
       "    </tr>\n",
       "    <tr>\n",
       "      <th>0</th>\n",
       "      <td>Georgia</td>\n",
       "      <td>phophet</td>\n",
       "      <td>5.01122</td>\n",
       "      <td>5.04523</td>\n",
       "      <td>97.02624</td>\n",
       "    </tr>\n",
       "    <tr>\n",
       "      <th>0</th>\n",
       "      <td>Caribbean</td>\n",
       "      <td>phophet</td>\n",
       "      <td>4.91716</td>\n",
       "      <td>6.67026</td>\n",
       "      <td>61.55264</td>\n",
       "    </tr>\n",
       "    <tr>\n",
       "      <th>0</th>\n",
       "      <td>Republic of Congo</td>\n",
       "      <td>phophet</td>\n",
       "      <td>4.80125</td>\n",
       "      <td>4.81523</td>\n",
       "      <td>119.06002</td>\n",
       "    </tr>\n",
       "    <tr>\n",
       "      <th>0</th>\n",
       "      <td>Ireland</td>\n",
       "      <td>phophet</td>\n",
       "      <td>4.76980</td>\n",
       "      <td>4.80309</td>\n",
       "      <td>147.70847</td>\n",
       "    </tr>\n",
       "    <tr>\n",
       "      <th>0</th>\n",
       "      <td>Palau</td>\n",
       "      <td>phophet</td>\n",
       "      <td>4.75953</td>\n",
       "      <td>5.36200</td>\n",
       "      <td>96.82542</td>\n",
       "    </tr>\n",
       "    <tr>\n",
       "      <th>0</th>\n",
       "      <td>Eritrea</td>\n",
       "      <td>phophet</td>\n",
       "      <td>4.61001</td>\n",
       "      <td>4.63175</td>\n",
       "      <td>158.96582</td>\n",
       "    </tr>\n",
       "    <tr>\n",
       "      <th>0</th>\n",
       "      <td>Bosnia and Herzegovina</td>\n",
       "      <td>phophet</td>\n",
       "      <td>4.53909</td>\n",
       "      <td>4.58527</td>\n",
       "      <td>151.30296</td>\n",
       "    </tr>\n",
       "  </tbody>\n",
       "</table>\n",
       "</div>"
      ],
      "text/plain": [
       "                         Country    Model       mae      rmse       mape\n",
       "0                         Guyana  phophet  18.71707  19.18704  317.52606\n",
       "0              Equatorial Guinea  phophet   7.85506   8.90264  437.69437\n",
       "0                     Azerbaijan  phophet   7.60160   7.62054  296.96489\n",
       "0                      Venezuela  phophet   6.77428   7.02723  706.45319\n",
       "0                     Tajikistan  phophet   6.72677   6.75902  165.04951\n",
       "0                      Macao SAR  phophet   6.36106   8.83559   71.30168\n",
       "0                           Iraq  phophet   6.20063   6.21738  254.36364\n",
       "0        Republic of South Sudan  phophet   6.17700   6.22513  137.60980\n",
       "0                   Turkmenistan  phophet   6.00388   6.01382  260.30076\n",
       "0                          Qatar  phophet   6.00219   6.02448  215.54076\n",
       "0                          Tonga  phophet   5.32092   5.32486  255.30100\n",
       "0                          Yemen  phophet   5.31438   5.59731   98.31370\n",
       "0  Central Asia and the Caucasus  phophet   5.12269   5.16226  155.75017\n",
       "0                        Georgia  phophet   5.01122   5.04523   97.02624\n",
       "0                      Caribbean  phophet   4.91716   6.67026   61.55264\n",
       "0              Republic of Congo  phophet   4.80125   4.81523  119.06002\n",
       "0                        Ireland  phophet   4.76980   4.80309  147.70847\n",
       "0                          Palau  phophet   4.75953   5.36200   96.82542\n",
       "0                        Eritrea  phophet   4.61001   4.63175  158.96582\n",
       "0         Bosnia and Herzegovina  phophet   4.53909   4.58527  151.30296"
      ]
     },
     "execution_count": 65,
     "metadata": {},
     "output_type": "execute_result"
    }
   ],
   "source": [
    "df_metrics_prophet.sort_values(by='mae', ascending=False).head(20)"
   ]
  },
  {
   "cell_type": "code",
   "execution_count": 66,
   "metadata": {},
   "outputs": [
    {
     "data": {
      "text/plain": [
       "<Axes: >"
      ]
     },
     "execution_count": 66,
     "metadata": {},
     "output_type": "execute_result"
    },
    {
     "data": {
      "image/png": "[encoded data removed]",
      "text/plain": [
       "<Figure size 640x480 with 1 Axes>"
      ]
     },
     "metadata": {},
     "output_type": "display_data"
    }
   ],
   "source": [
    "df_metrics_prophet['mae'].hist(bins=50)"
   ]
  },
  {
   "cell_type": "markdown",
   "metadata": {},
   "source": [
    "## 4.4 comparison"
   ]
  },
  {
   "cell_type": "markdown",
   "metadata": {},
   "source": [
    "### 4.4.1 MAE"
   ]
  },
  {
   "cell_type": "code",
   "execution_count": 67,
   "metadata": {},
   "outputs": [
    {
     "data": {
      "text/html": [
       "<style type=\"text/css\">\n",
       "#T_12520_row0_col2, #T_12520_row0_col4, #T_12520_row0_col5, #T_12520_row1_col0, #T_12520_row1_col1, #T_12520_row2_col3 {\n",
       "  background-color: lightgreen;\n",
       "}\n",
       "</style>\n",
       "<table id=\"T_12520\">\n",
       "  <thead>\n",
       "    <tr>\n",
       "      <th class=\"blank level0\" >&nbsp;</th>\n",
       "      <th id=\"T_12520_level0_col0\" class=\"col_heading level0 col0\" >mean</th>\n",
       "      <th id=\"T_12520_level0_col1\" class=\"col_heading level0 col1\" >median</th>\n",
       "      <th id=\"T_12520_level0_col2\" class=\"col_heading level0 col2\" >std</th>\n",
       "      <th id=\"T_12520_level0_col3\" class=\"col_heading level0 col3\" >min</th>\n",
       "      <th id=\"T_12520_level0_col4\" class=\"col_heading level0 col4\" >max</th>\n",
       "      <th id=\"T_12520_level0_col5\" class=\"col_heading level0 col5\" >cv</th>\n",
       "    </tr>\n",
       "  </thead>\n",
       "  <tbody>\n",
       "    <tr>\n",
       "      <th id=\"T_12520_level0_row0\" class=\"row_heading level0 row0\" >prophet</th>\n",
       "      <td id=\"T_12520_row0_col0\" class=\"data row0 col0\" >1.642346</td>\n",
       "      <td id=\"T_12520_row0_col1\" class=\"data row0 col1\" >1.003945</td>\n",
       "      <td id=\"T_12520_row0_col2\" class=\"data row0 col2\" >1.961299</td>\n",
       "      <td id=\"T_12520_row0_col3\" class=\"data row0 col3\" >0.055700</td>\n",
       "      <td id=\"T_12520_row0_col4\" class=\"data row0 col4\" >18.717070</td>\n",
       "      <td id=\"T_12520_row0_col5\" class=\"data row0 col5\" >1.194206</td>\n",
       "    </tr>\n",
       "    <tr>\n",
       "      <th id=\"T_12520_level0_row1\" class=\"row_heading level0 row1\" >simple_smoothing</th>\n",
       "      <td id=\"T_12520_row1_col0\" class=\"data row1 col0\" >1.288721</td>\n",
       "      <td id=\"T_12520_row1_col1\" class=\"data row1 col1\" >0.697400</td>\n",
       "      <td id=\"T_12520_row1_col2\" class=\"data row1 col2\" >2.617642</td>\n",
       "      <td id=\"T_12520_row1_col3\" class=\"data row1 col3\" >0.019480</td>\n",
       "      <td id=\"T_12520_row1_col4\" class=\"data row1 col4\" >27.734450</td>\n",
       "      <td id=\"T_12520_row1_col5\" class=\"data row1 col5\" >2.031194</td>\n",
       "    </tr>\n",
       "    <tr>\n",
       "      <th id=\"T_12520_level0_row2\" class=\"row_heading level0 row2\" >auto_arima</th>\n",
       "      <td id=\"T_12520_row2_col0\" class=\"data row2 col0\" >1.482224</td>\n",
       "      <td id=\"T_12520_row2_col1\" class=\"data row2 col1\" >0.898300</td>\n",
       "      <td id=\"T_12520_row2_col2\" class=\"data row2 col2\" >2.156974</td>\n",
       "      <td id=\"T_12520_row2_col3\" class=\"data row2 col3\" >0.000000</td>\n",
       "      <td id=\"T_12520_row2_col4\" class=\"data row2 col4\" >20.569550</td>\n",
       "      <td id=\"T_12520_row2_col5\" class=\"data row2 col5\" >1.455228</td>\n",
       "    </tr>\n",
       "  </tbody>\n",
       "</table>\n"
      ],
      "text/plain": [
       "<pandas.io.formats.style.Styler at 0x7f5c9cc39ff0>"
      ]
     },
     "execution_count": 67,
     "metadata": {},
     "output_type": "execute_result"
    }
   ],
   "source": [
    "df_final_metrics = pd.DataFrame()\n",
    "\n",
    "metric = 'mae'\n",
    "\n",
    "statistics = [\n",
    "    'mean',\n",
    "    'median',\n",
    "    'std',\n",
    "    'min',\n",
    "    'max',\n",
    "]\n",
    "df_final_metrics = pd.concat([df_final_metrics, df_metrics_prophet[metric].agg(statistics)], axis=1)\n",
    "\n",
    "# add simples smothing\n",
    "df_final_metrics = pd.concat([df_final_metrics, df_metrics_ss[metric].agg([statistics])], axis=1)\n",
    "\n",
    "# add auto_arima\n",
    "df_final_metrics = pd.concat([df_final_metrics, df_metrics_auto_arima[metric].agg([statistics])], axis=1)\n",
    "\n",
    "df_final_metrics.columns = ['prophet','simple_smoothing','auto_arima']\n",
    "\n",
    "df_final_metrics = df_final_metrics.T\n",
    "\n",
    "df_final_metrics['cv'] = df_final_metrics['std'] / df_final_metrics['mean']  \n",
    "\n",
    "df_final_metrics.style.highlight_min(color='lightgreen', axis=0)\n",
    "# df_final_metrics"
   ]
  },
  {
   "cell_type": "markdown",
   "metadata": {},
   "source": [
    "### 4.4.2 RMSE"
   ]
  },
  {
   "cell_type": "code",
   "execution_count": 68,
   "metadata": {},
   "outputs": [
    {
     "data": {
      "text/html": [
       "<style type=\"text/css\">\n",
       "#T_1b878_row0_col2, #T_1b878_row0_col4, #T_1b878_row0_col5, #T_1b878_row1_col0, #T_1b878_row1_col1, #T_1b878_row2_col3 {\n",
       "  background-color: lightgreen;\n",
       "}\n",
       "</style>\n",
       "<table id=\"T_1b878\">\n",
       "  <thead>\n",
       "    <tr>\n",
       "      <th class=\"blank level0\" >&nbsp;</th>\n",
       "      <th id=\"T_1b878_level0_col0\" class=\"col_heading level0 col0\" >mean</th>\n",
       "      <th id=\"T_1b878_level0_col1\" class=\"col_heading level0 col1\" >median</th>\n",
       "      <th id=\"T_1b878_level0_col2\" class=\"col_heading level0 col2\" >std</th>\n",
       "      <th id=\"T_1b878_level0_col3\" class=\"col_heading level0 col3\" >min</th>\n",
       "      <th id=\"T_1b878_level0_col4\" class=\"col_heading level0 col4\" >max</th>\n",
       "      <th id=\"T_1b878_level0_col5\" class=\"col_heading level0 col5\" >cv</th>\n",
       "    </tr>\n",
       "  </thead>\n",
       "  <tbody>\n",
       "    <tr>\n",
       "      <th id=\"T_1b878_level0_row0\" class=\"row_heading level0 row0\" >prophet</th>\n",
       "      <td id=\"T_1b878_row0_col0\" class=\"data row0 col0\" >1.726555</td>\n",
       "      <td id=\"T_1b878_row0_col1\" class=\"data row0 col1\" >1.032785</td>\n",
       "      <td id=\"T_1b878_row0_col2\" class=\"data row0 col2\" >2.052355</td>\n",
       "      <td id=\"T_1b878_row0_col3\" class=\"data row0 col3\" >0.080230</td>\n",
       "      <td id=\"T_1b878_row0_col4\" class=\"data row0 col4\" >19.187040</td>\n",
       "      <td id=\"T_1b878_row0_col5\" class=\"data row0 col5\" >1.188699</td>\n",
       "    </tr>\n",
       "    <tr>\n",
       "      <th id=\"T_1b878_level0_row1\" class=\"row_heading level0 row1\" >simple_smoothing</th>\n",
       "      <td id=\"T_1b878_row1_col0\" class=\"data row1 col0\" >1.379727</td>\n",
       "      <td id=\"T_1b878_row1_col1\" class=\"data row1 col1\" >0.745805</td>\n",
       "      <td id=\"T_1b878_row1_col2\" class=\"data row1 col2\" >2.881058</td>\n",
       "      <td id=\"T_1b878_row1_col3\" class=\"data row1 col3\" >0.019480</td>\n",
       "      <td id=\"T_1b878_row1_col4\" class=\"data row1 col4\" >29.500960</td>\n",
       "      <td id=\"T_1b878_row1_col5\" class=\"data row1 col5\" >2.088136</td>\n",
       "    </tr>\n",
       "    <tr>\n",
       "      <th id=\"T_1b878_level0_row2\" class=\"row_heading level0 row2\" >auto_arima</th>\n",
       "      <td id=\"T_1b878_row2_col0\" class=\"data row2 col0\" >1.598677</td>\n",
       "      <td id=\"T_1b878_row2_col1\" class=\"data row2 col1\" >0.971070</td>\n",
       "      <td id=\"T_1b878_row2_col2\" class=\"data row2 col2\" >2.431278</td>\n",
       "      <td id=\"T_1b878_row2_col3\" class=\"data row2 col3\" >0.000000</td>\n",
       "      <td id=\"T_1b878_row2_col4\" class=\"data row2 col4\" >24.303880</td>\n",
       "      <td id=\"T_1b878_row2_col5\" class=\"data row2 col5\" >1.520806</td>\n",
       "    </tr>\n",
       "  </tbody>\n",
       "</table>\n"
      ],
      "text/plain": [
       "<pandas.io.formats.style.Styler at 0x7f5c5cec99f0>"
      ]
     },
     "execution_count": 68,
     "metadata": {},
     "output_type": "execute_result"
    }
   ],
   "source": [
    "df_final_metrics = pd.DataFrame()\n",
    "\n",
    "metric = 'rmse'\n",
    "\n",
    "statistics = [\n",
    "    'mean',\n",
    "    'median',\n",
    "    'std',\n",
    "    'min',\n",
    "    'max',\n",
    "]\n",
    "df_final_metrics = pd.concat([df_final_metrics, df_metrics_prophet[metric].agg(statistics)], axis=1)\n",
    "\n",
    "# add simples smothing\n",
    "df_final_metrics = pd.concat([df_final_metrics, df_metrics_ss[metric].agg([statistics])], axis=1)\n",
    "\n",
    "# add auto_arima\n",
    "df_final_metrics = pd.concat([df_final_metrics, df_metrics_auto_arima[metric].agg([statistics])], axis=1)\n",
    "\n",
    "df_final_metrics.columns = ['prophet','simple_smoothing','auto_arima']\n",
    "\n",
    "df_final_metrics = df_final_metrics.T\n",
    "\n",
    "df_final_metrics['cv'] = df_final_metrics['std'] / df_final_metrics['mean']  \n",
    "\n",
    "df_final_metrics.style.highlight_min(color='lightgreen', axis=0)\n",
    "# df_final_metrics"
   ]
  },
  {
   "cell_type": "markdown",
   "metadata": {},
   "source": [
    "### 4.4.3 MAPE"
   ]
  },
  {
   "cell_type": "code",
   "execution_count": 69,
   "metadata": {},
   "outputs": [
    {
     "data": {
      "text/html": [
       "<style type=\"text/css\">\n",
       "#T_57f1a_row1_col0, #T_57f1a_row1_col1, #T_57f1a_row2_col2, #T_57f1a_row2_col3, #T_57f1a_row2_col4, #T_57f1a_row2_col5 {\n",
       "  background-color: lightgreen;\n",
       "}\n",
       "</style>\n",
       "<table id=\"T_57f1a\">\n",
       "  <thead>\n",
       "    <tr>\n",
       "      <th class=\"blank level0\" >&nbsp;</th>\n",
       "      <th id=\"T_57f1a_level0_col0\" class=\"col_heading level0 col0\" >mean</th>\n",
       "      <th id=\"T_57f1a_level0_col1\" class=\"col_heading level0 col1\" >median</th>\n",
       "      <th id=\"T_57f1a_level0_col2\" class=\"col_heading level0 col2\" >std</th>\n",
       "      <th id=\"T_57f1a_level0_col3\" class=\"col_heading level0 col3\" >min</th>\n",
       "      <th id=\"T_57f1a_level0_col4\" class=\"col_heading level0 col4\" >max</th>\n",
       "      <th id=\"T_57f1a_level0_col5\" class=\"col_heading level0 col5\" >cv</th>\n",
       "    </tr>\n",
       "  </thead>\n",
       "  <tbody>\n",
       "    <tr>\n",
       "      <th id=\"T_57f1a_level0_row0\" class=\"row_heading level0 row0\" >prophet</th>\n",
       "      <td id=\"T_57f1a_row0_col0\" class=\"data row0 col0\" >57.816669</td>\n",
       "      <td id=\"T_57f1a_row0_col1\" class=\"data row0 col1\" >32.222000</td>\n",
       "      <td id=\"T_57f1a_row0_col2\" class=\"data row0 col2\" >76.873557</td>\n",
       "      <td id=\"T_57f1a_row0_col3\" class=\"data row0 col3\" >0.936100</td>\n",
       "      <td id=\"T_57f1a_row0_col4\" class=\"data row0 col4\" >706.453190</td>\n",
       "      <td id=\"T_57f1a_row0_col5\" class=\"data row0 col5\" >1.329609</td>\n",
       "    </tr>\n",
       "    <tr>\n",
       "      <th id=\"T_57f1a_level0_row1\" class=\"row_heading level0 row1\" >simple_smoothing</th>\n",
       "      <td id=\"T_57f1a_row1_col0\" class=\"data row1 col0\" >46.013746</td>\n",
       "      <td id=\"T_57f1a_row1_col1\" class=\"data row1 col1\" >22.037015</td>\n",
       "      <td id=\"T_57f1a_row1_col2\" class=\"data row1 col2\" >82.442300</td>\n",
       "      <td id=\"T_57f1a_row1_col3\" class=\"data row1 col3\" >0.695720</td>\n",
       "      <td id=\"T_57f1a_row1_col4\" class=\"data row1 col4\" >687.014190</td>\n",
       "      <td id=\"T_57f1a_row1_col5\" class=\"data row1 col5\" >1.791688</td>\n",
       "    </tr>\n",
       "    <tr>\n",
       "      <th id=\"T_57f1a_level0_row2\" class=\"row_heading level0 row2\" >auto_arima</th>\n",
       "      <td id=\"T_57f1a_row2_col0\" class=\"data row2 col0\" >46.247781</td>\n",
       "      <td id=\"T_57f1a_row2_col1\" class=\"data row2 col1\" >31.770445</td>\n",
       "      <td id=\"T_57f1a_row2_col2\" class=\"data row2 col2\" >54.678141</td>\n",
       "      <td id=\"T_57f1a_row2_col3\" class=\"data row2 col3\" >0.000000</td>\n",
       "      <td id=\"T_57f1a_row2_col4\" class=\"data row2 col4\" >562.484240</td>\n",
       "      <td id=\"T_57f1a_row2_col5\" class=\"data row2 col5\" >1.182287</td>\n",
       "    </tr>\n",
       "  </tbody>\n",
       "</table>\n"
      ],
      "text/plain": [
       "<pandas.io.formats.style.Styler at 0x7f5c5d0bad70>"
      ]
     },
     "execution_count": 69,
     "metadata": {},
     "output_type": "execute_result"
    }
   ],
   "source": [
    "df_final_metrics = pd.DataFrame()\n",
    "\n",
    "metric = 'mape'\n",
    "\n",
    "statistics = [\n",
    "    'mean',\n",
    "    'median',\n",
    "    'std',\n",
    "    'min',\n",
    "    'max',\n",
    "]\n",
    "df_final_metrics = pd.concat([df_final_metrics, df_metrics_prophet[metric].agg(statistics)], axis=1)\n",
    "\n",
    "# add simples smothing\n",
    "df_final_metrics = pd.concat([df_final_metrics, df_metrics_ss[metric].agg([statistics])], axis=1)\n",
    "\n",
    "# add auto_arima\n",
    "df_final_metrics = pd.concat([df_final_metrics, df_metrics_auto_arima[metric].agg([statistics])], axis=1)\n",
    "\n",
    "df_final_metrics.columns = ['prophet','simple_smoothing','auto_arima']\n",
    "\n",
    "df_final_metrics = df_final_metrics.T\n",
    "\n",
    "df_final_metrics['cv'] = df_final_metrics['std'] / df_final_metrics['mean']  \n",
    "\n",
    "df_final_metrics.style.highlight_min(color='lightgreen', axis=0)\n",
    "# df_final_metrics"
   ]
  },
  {
   "cell_type": "markdown",
   "metadata": {},
   "source": [
    "Foi observado que o simple exponential smoothing perfomou melhor e mais estável que os demais modelos"
   ]
  },
  {
   "cell_type": "markdown",
   "metadata": {},
   "source": [
    "# 5.0 cross validation"
   ]
  },
  {
   "cell_type": "markdown",
   "metadata": {},
   "source": [
    "Será aplicada a validação cruzada para verificar a estabilidade dos modelo auto_arima e simple exponential smoothing"
   ]
  },
  {
   "cell_type": "markdown",
   "metadata": {},
   "source": [
    "## 5.1 Simple smothing"
   ]
  },
  {
   "cell_type": "code",
   "execution_count": 70,
   "metadata": {},
   "outputs": [
    {
     "name": "stdout",
     "output_type": "stream",
     "text": [
      "Mean MAE for all countrys: 3.7541548752331964\n",
      "Median Mae for all countrys 3.0548487775568036\n",
      "std mae for all countrys: 2.375351945163901\n",
      "max mae for all countrys: 21.960004251189652\n",
      "min mae for all countrys: 1.0535072712366245\n",
      "CV mae for all countrys: 0.6327261458589536\n"
     ]
    },
    {
     "data": {
      "image/png": "[encoded data removed]",
      "text/plain": [
       "<Figure size 640x480 with 1 Axes>"
      ]
     },
     "metadata": {},
     "output_type": "display_data"
    }
   ],
   "source": [
    "import pandas as pd\n",
    "import numpy as np\n",
    "from statsmodels.tsa.holtwinters import SimpleExpSmoothing\n",
    "from sklearn.model_selection import TimeSeriesSplit\n",
    "from sklearn.metrics import mean_absolute_error, mean_squared_error\n",
    "\n",
    "# Crie um DataFrame vazio para armazenar as métricas finais\n",
    "\n",
    "df_final_metrics_cv = pd.DataFrame()\n",
    "\n",
    "# Defina a métrica que você está calculando (por exemplo, 'mae')\n",
    "metric = 'mae'\n",
    "\n",
    "# Lista das estatísticas que você deseja calcular\n",
    "statistics = [\n",
    "    'mean',\n",
    "    'median',\n",
    "    'std',\n",
    "    'min',\n",
    "    'max'\n",
    "]\n",
    "\n",
    "# Crie um objeto TimeSeriesSplit com o número de splits desejado\n",
    "n_splits = 5  # Número de folds para cross-validation\n",
    "tscv = TimeSeriesSplit(n_splits=n_splits)\n",
    "\n",
    "# Loop através das divisões da avaliação cruzada\n",
    "for country in df3.columns:\n",
    "    final_metrics_cv = pd.DataFrame()\n",
    "    for train_idx, test_idx in tscv.split(train[country]):\n",
    "        train_data = train[country].iloc[train_idx]\n",
    "        test_data = train[country].iloc[test_idx]\n",
    "        \n",
    "        # Ajuste o modelo Simple Exponential Smoothing (SES)\n",
    "        model_ses = SimpleExpSmoothing(train_data, initialization_method='estimated').fit()\n",
    "        \n",
    "        # Faça previsões no conjunto de teste\n",
    "        forecast = model_ses.forecast(len(test_data))\n",
    "        \n",
    "        # Calcule a métrica desejada (MAE)\n",
    "        mae = mean_absolute_error(test_data, forecast)\n",
    "        \n",
    "        # Adicione o MAE à lista de métricas\n",
    "        final_metrics_cv = pd.concat([final_metrics_cv, pd.DataFrame({country: [mae]})], ignore_index=True)\n",
    "    df_final_metrics_cv = pd.concat([df_final_metrics_cv, final_metrics_cv], axis=1)\n",
    "\n",
    "\n",
    "aux = df_final_metrics_cv.mean()\n",
    "\n",
    "print(\"Mean MAE for all countrys:\",aux.values.mean())\n",
    "print(\"Median Mae for all countrys\",np.median(aux.values))\n",
    "print(\"std mae for all countrys:\",aux.values.std())\n",
    "print(\"max mae for all countrys:\",aux.values.max())\n",
    "print(\"min mae for all countrys:\",aux.values.min())\n",
    "print(\"CV mae for all countrys:\",aux.values.std() / aux.values.mean())\n",
    "plt.hist(aux.values, bins=150);"
   ]
  },
  {
   "cell_type": "markdown",
   "metadata": {},
   "source": [
    "## 5.2 Auto arima"
   ]
  },
  {
   "cell_type": "code",
   "execution_count": 71,
   "metadata": {},
   "outputs": [
    {
     "name": "stdout",
     "output_type": "stream",
     "text": [
      "mean mae for all countrys: 3.6185197164891822\n",
      "median mae for all countrys 3.022688031090322\n",
      "std mae for all countrys: 2.2329373541431314\n",
      "max mae for all countrys: 19.562123519079215\n",
      "min mae for all countrys: 1.0991255411988314\n",
      "CV mae for all countrys: 0.6170858608197961\n"
     ]
    },
    {
     "data": {
      "image/png": "[encoded data removed]",
      "text/plain": [
       "<Figure size 640x480 with 1 Axes>"
      ]
     },
     "metadata": {},
     "output_type": "display_data"
    }
   ],
   "source": [
    "# Crie um DataFrame vazio para armazenar as previsões do SARIMA\n",
    "df_final_metrics_cv = pd.DataFrame()\n",
    "\n",
    "# Defina o número de splits desejado para a avaliação cruzada\n",
    "n_splits = 5\n",
    "\n",
    "# Crie um objeto TimeSeriesSplit\n",
    "tscv = TimeSeriesSplit(n_splits=n_splits)\n",
    "\n",
    "# Loop através das divisões da avaliação cruzada\n",
    "\n",
    "    \n",
    "    # Loop através das colunas (países)\n",
    "for country in df3.columns:\n",
    "    final_metrics_cv = pd.DataFrame()\n",
    "    for train_idx, test_idx in tscv.split(train[country]):\n",
    "        train_data = train[country].iloc[train_idx]\n",
    "        test_data = train[country].iloc[test_idx]\n",
    "        model_auto_arima = auto_arima(\n",
    "            train_data,\n",
    "            m=1,\n",
    "            test='adf',\n",
    "            seasonal=False,\n",
    "            stepwise=True,\n",
    "            d=0,\n",
    "            start_p=0,\n",
    "            max_p=1,\n",
    "            start_q=0,\n",
    "            max_q=1,\n",
    "        )\n",
    "            \n",
    "            \n",
    "        pred_auto_arima = model_auto_arima.predict(len(test_data))\n",
    "\n",
    "        mae = mean_absolute_error(test_data, pred_auto_arima)\n",
    "\n",
    "        final_metrics_cv = pd.concat([final_metrics_cv, pd.DataFrame({country: [mae]})], ignore_index=True)\n",
    "\n",
    "    df_final_metrics_cv = pd.concat([df_final_metrics_cv, final_metrics_cv], axis=1)\n",
    "\n",
    "aux = df_final_metrics_cv.mean()\n",
    "\n",
    "print(\"mean mae for all countrys:\",aux.values.mean())\n",
    "print(\"median mae for all countrys\",np.median(aux.values))\n",
    "print(\"std mae for all countrys:\",aux.values.std())\n",
    "print(\"max mae for all countrys:\",aux.values.max())\n",
    "print(\"min mae for all countrys:\",aux.values.min())\n",
    "print(\"CV mae for all countrys:\",aux.values.std() / aux.values.mean())\n",
    "plt.hist(aux.values, bins=150);\n"
   ]
  },
  {
   "cell_type": "markdown",
   "metadata": {},
   "source": [
    "# 6.0 Fine tuning"
   ]
  },
  {
   "cell_type": "markdown",
   "metadata": {},
   "source": [
    "Tanto o simple exponential smoothing quanto o auto arima apresentaram resultados muito próximos, com o simple exponential smoothing apresentando uma leve vantagem. Portanto será realizado o fine tuning apenas para o simple exponential smoothing, pois além da vantagem de performace, o modelo é mais simples e mais rápido de ser treinado."
   ]
  },
  {
   "cell_type": "markdown",
   "metadata": {},
   "source": [
    "## 6.1 Simple smothing"
   ]
  },
  {
   "cell_type": "code",
   "execution_count": 72,
   "metadata": {},
   "outputs": [],
   "source": [
    "from sklearn.model_selection import  TimeSeriesSplit, ParameterGrid"
   ]
  },
  {
   "cell_type": "code",
   "execution_count": 73,
   "metadata": {},
   "outputs": [],
   "source": [
    "tscv = TimeSeriesSplit(n_splits=n_splits)\n",
    "df_countrys_paramns = pd.DataFrame()\n",
    "\n",
    "param_grid = {\n",
    "    'smoothing_level': list(np.arange(0.1, 1.1, 0.1)), \n",
    "    'initialization_method': ['estimated', 'heuristic'],\n",
    "}\n",
    "\n",
    "grid = ParameterGrid(param_grid)\n",
    "\n",
    "\n",
    "for country in df3.columns:\n",
    "\n",
    "    final_metrics_cv = pd.DataFrame()\n",
    "    best_mae = float('inf')\n",
    "    best_params = None\n",
    "    std_mae = None\n",
    "\n",
    "    for params in grid:\n",
    "        for train_idx, test_idx in tscv.split(train[country]):\n",
    "            train_data = train[country].iloc[train_idx]\n",
    "            test_data = train[country].iloc[test_idx]\n",
    "                \n",
    "                # Ajuste o modelo Simple Exponential Smoothing (SES)\n",
    "            model_ses = SimpleExpSmoothing(\n",
    "                train[country],\n",
    "                initialization_method=params['initialization_method'],                              \n",
    "            ).fit(\n",
    "                smoothing_level=params['smoothing_level'], \n",
    "                optimized=False\n",
    "            )\n",
    "                \n",
    "                # Faça previsões no conjunto de teste\n",
    "            forecast = model_ses.forecast(len(test_data))\n",
    "                \n",
    "                # Calcule a métrica desejada (MAE)\n",
    "            mae = mean_absolute_error(test_data, forecast)\n",
    "                \n",
    "                # Adicione o MAE à lista de métricas\n",
    "            final_metrics_cv = pd.concat([final_metrics_cv, pd.DataFrame({country: [mae]})], ignore_index=True)\n",
    "\n",
    "        mean_mae_cv = final_metrics_cv.values.mean()\n",
    "        std_mae_cv = final_metrics_cv.values.std()\n",
    "\n",
    "        if mean_mae_cv < best_mae:\n",
    "            best_mae = mean_mae_cv\n",
    "            best_params = params\n",
    "            std_mae = std_mae_cv\n",
    "        \n",
    "            \n",
    "        # create dataframe with mean mae, country and best_paramns\n",
    "    df_countrys_paramns = pd.concat([\n",
    "        df_countrys_paramns, \n",
    "        pd.DataFrame({\n",
    "            'country': [country], \n",
    "            'mean_mae': [best_mae], \n",
    "            'std_mae': [std_mae],\n",
    "            'best_params': [best_params]})\n",
    "        ], \n",
    "        ignore_index=True\n",
    "    )"
   ]
  },
  {
   "cell_type": "code",
   "execution_count": 74,
   "metadata": {},
   "outputs": [
    {
     "name": "stdout",
     "output_type": "stream",
     "text": [
      "mean mae for all countrys: 3.3249841518204786\n",
      "median mae for all countrys: 2.674279170759829\n",
      "std mae for all countrys: 2.3456604611786154\n",
      "max mae for all countrys: 19.461103887247873\n",
      "min mae for all countrys: 0.9728609536836569\n",
      "CV mae for all countrys: 0.7054651553434717\n"
     ]
    },
    {
     "data": {
      "image/png": "[encoded data removed]",
      "text/plain": [
       "<Figure size 640x480 with 1 Axes>"
      ]
     },
     "metadata": {},
     "output_type": "display_data"
    }
   ],
   "source": [
    "print(\"mean mae for all countrys:\",df_countrys_paramns['mean_mae'].mean())\n",
    "print(\"median mae for all countrys:\",np.median(df_countrys_paramns['mean_mae']))\n",
    "print(\"std mae for all countrys:\",df_countrys_paramns['mean_mae'].std())\n",
    "print(\"max mae for all countrys:\",df_countrys_paramns['mean_mae'].max())\n",
    "print(\"min mae for all countrys:\",df_countrys_paramns['mean_mae'].min())\n",
    "print(\"CV mae for all countrys:\",df_countrys_paramns['mean_mae'].std() / df_countrys_paramns['mean_mae'].mean())\n",
    "plt.hist(df_countrys_paramns['mean_mae'], bins=150);"
   ]
  },
  {
   "cell_type": "markdown",
   "metadata": {},
   "source": [
    "# 7.0 Predictions"
   ]
  },
  {
   "cell_type": "markdown",
   "metadata": {},
   "source": [
    "As previsãoes serão feitas no notebook \"desafio_ds_v01_03_predict.ipynb\" com os dados de paramentros calculados"
   ]
  },
  {
   "cell_type": "markdown",
   "metadata": {},
   "source": [
    "## 7.1 Save to csv"
   ]
  },
  {
   "cell_type": "code",
   "execution_count": 75,
   "metadata": {},
   "outputs": [],
   "source": [
    "df_countrys_paramns.to_csv(path + 'data/df_countrys_paramns.csv',index=False)"
   ]
  }
 ],
 "metadata": {
  "kernelspec": {
   "display_name": "venv",
   "language": "python",
   "name": "python3"
  },
  "language_info": {
   "codemirror_mode": {
    "name": "ipython",
    "version": 3
   },
   "file_extension": ".py",
   "mimetype": "text/x-python",
   "name": "python",
   "nbconvert_exporter": "python",
   "pygments_lexer": "ipython3",
   "version": "3.10.12"
  },
  "orig_nbformat": 4
 },
 "nbformat": 4,
 "nbformat_minor": 2
}
