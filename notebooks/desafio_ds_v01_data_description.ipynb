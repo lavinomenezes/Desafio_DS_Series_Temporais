{
 "cells": [
  {
   "cell_type": "markdown",
   "metadata": {},
   "source": [
    "# 0.1 imports"
   ]
  },
  {
   "cell_type": "code",
   "execution_count": 32,
   "metadata": {},
   "outputs": [],
   "source": [
    "import pandas as pd\n",
    "import numpy as np\n",
    "\n",
    "import matplotlib.pyplot as plt\n",
    "import matplotlib as mpl\n",
    "import seaborn as sns\n",
    "import plotly.graph_objects as go\n",
    "import plotly.express as px"
   ]
  },
  {
   "cell_type": "markdown",
   "metadata": {},
   "source": [
    "# 0.2 helpers functions"
   ]
  },
  {
   "cell_type": "code",
   "execution_count": 33,
   "metadata": {},
   "outputs": [],
   "source": [
    "# Definir a função adaptada\n",
    "def graficos(df, lista_seleccion, ancho=20, alto=10, columna_y='', title='', print_legend='Y'):\n",
    "    # Criar o gráfico\n",
    "    fig, ax = plt.subplots(figsize=(ancho, alto))\n",
    "\n",
    "    # Configurar o título\n",
    "    ax.set_title(title, fontsize=30)\n",
    "\n",
    "    # Configurar o fundo\n",
    "    ax.set_facecolor('#F7FAFC')\n",
    "\n",
    "    # Cores para as linhas\n",
    "    colores = [\n",
    "        'navy', 'orange', 'tomato', 'crimson', 'darkgreen', 'brown',\n",
    "        'forestgreen', 'steelblue', 'deeppink', 'darkorange', 'lightgreen', 'gold',\n",
    "        'darkviolet', 'tan', 'indianred', 'darkturquoise', 'darkslategrey', 'magenta',\n",
    "        'peru', 'turquoise',\n",
    "    ]\n",
    "\n",
    "    listas, j, leyenda = [], 0, []\n",
    "\n",
    "    for seleccion in lista_seleccion:\n",
    "        x1 = df['year']\n",
    "        y1 = df[seleccion]\n",
    "        listas.append(((x1, y1), colores[j]))\n",
    "        leyenda.append(seleccion)\n",
    "\n",
    "        if j == len(colores) - 1:\n",
    "            j = 0\n",
    "        else:\n",
    "            j += 1\n",
    "\n",
    "    for lista in listas:\n",
    "        ax.plot(*lista[0], color=lista[1])\n",
    "\n",
    "    if print_legend == 'Y':\n",
    "        plt.legend(leyenda, loc='upper left', bbox_to_anchor=(0, 1))\n",
    "    ax.yaxis.set_major_formatter(mpl.ticker.StrMethodFormatter('{x:,.0f}'))\n",
    "    ax.set_xticks(ax.get_xticks()[::2])\n",
    "    for label in ax.get_xticklabels():\n",
    "        label.set(rotation=30)\n",
    "    plt.xlabel('Year', fontsize=15)\n",
    "    plt.ylabel(columna_y, fontsize=15)\n",
    "    plt.grid(True)\n",
    "    plt.show()"
   ]
  },
  {
   "cell_type": "code",
   "execution_count": 34,
   "metadata": {},
   "outputs": [],
   "source": [
    "def plot_gdp(dataframe, countrys, print_legend=True):\n",
    "    \n",
    "    countrys_with_year = countrys + ['year']\n",
    "    df=dataframe[countrys_with_year].copy()\n",
    "    # Create a list of colors\n",
    "    color_discrete_sequence = [\n",
    "        'navy', 'orange', 'tomato', 'crimson', 'darkgreen', 'brown',\n",
    "        'forestgreen', 'steelblue',\n",
    "    ]\n",
    "\n",
    "    # Create a list of traces\n",
    "    traces = []\n",
    "    for j, seleccion in enumerate(countrys):\n",
    "        trace = go.Scatter(\n",
    "            x=df['year'],\n",
    "            y=df[seleccion],\n",
    "            mode='lines+markers',\n",
    "            name=seleccion,\n",
    "            marker=dict(color=color_discrete_sequence[j % len(color_discrete_sequence)]),\n",
    "        )\n",
    "        traces.append(trace)\n",
    "\n",
    "    # Create the figure\n",
    "    fig = go.Figure(traces)\n",
    "\n",
    "    # Configure the layout\n",
    "    fig.update_layout(\n",
    "        title='GDP',\n",
    "        title_font_size=30,\n",
    "        plot_bgcolor='#F7FAFC',\n",
    "        xaxis=dict(tickangle=30),\n",
    "        yaxis=dict(tickformat=',.0f'),\n",
    "        xaxis_dtick='2',\n",
    "        xaxis_title='Year',\n",
    "        yaxis_title='Real GDP growth (Annual percent change)',\n",
    "        legend_title_text='Legend',\n",
    "        legend=dict(x=0, y=1) if print_legend == True else {},\n",
    "        showlegend=True if print_legend == True else False,\n",
    "        margin=dict(l=0, r=0, t=50, b=0),\n",
    "        template='plotly',\n",
    "        height=800,\n",
    "        width=1200,\n",
    "    )\n",
    "\n",
    "    return fig\n"
   ]
  },
  {
   "cell_type": "markdown",
   "metadata": {},
   "source": [
    "# 0.3 load data"
   ]
  },
  {
   "cell_type": "code",
   "execution_count": 35,
   "metadata": {},
   "outputs": [],
   "source": [
    "path = '/home/lavino/Documentos/projetos_indicium/ds_desafio/'"
   ]
  },
  {
   "cell_type": "code",
   "execution_count": 36,
   "metadata": {},
   "outputs": [],
   "source": [
    "df_raw = pd.read_excel(path + 'data/imf-dm-export-20230513.xls',sheet_name='NGDP_RPCH') "
   ]
  },
  {
   "cell_type": "code",
   "execution_count": 37,
   "metadata": {},
   "outputs": [
    {
     "data": {
      "text/html": [
       "<div>\n",
       "<style scoped>\n",
       "    .dataframe tbody tr th:only-of-type {\n",
       "        vertical-align: middle;\n",
       "    }\n",
       "\n",
       "    .dataframe tbody tr th {\n",
       "        vertical-align: top;\n",
       "    }\n",
       "\n",
       "    .dataframe thead th {\n",
       "        text-align: right;\n",
       "    }\n",
       "</style>\n",
       "<table border=\"1\" class=\"dataframe\">\n",
       "  <thead>\n",
       "    <tr style=\"text-align: right;\">\n",
       "      <th></th>\n",
       "      <th>Real GDP growth (Annual percent change)</th>\n",
       "      <th>1980</th>\n",
       "      <th>1981</th>\n",
       "      <th>1982</th>\n",
       "      <th>1983</th>\n",
       "      <th>1984</th>\n",
       "      <th>1985</th>\n",
       "      <th>1986</th>\n",
       "      <th>1987</th>\n",
       "      <th>1988</th>\n",
       "      <th>...</th>\n",
       "      <th>2019</th>\n",
       "      <th>2020</th>\n",
       "      <th>2021</th>\n",
       "      <th>2022</th>\n",
       "      <th>2023</th>\n",
       "      <th>2024</th>\n",
       "      <th>2025</th>\n",
       "      <th>2026</th>\n",
       "      <th>2027</th>\n",
       "      <th>2028</th>\n",
       "    </tr>\n",
       "  </thead>\n",
       "  <tbody>\n",
       "    <tr>\n",
       "      <th>0</th>\n",
       "      <td>NaN</td>\n",
       "      <td>NaN</td>\n",
       "      <td>NaN</td>\n",
       "      <td>NaN</td>\n",
       "      <td>NaN</td>\n",
       "      <td>NaN</td>\n",
       "      <td>NaN</td>\n",
       "      <td>NaN</td>\n",
       "      <td>NaN</td>\n",
       "      <td>NaN</td>\n",
       "      <td>...</td>\n",
       "      <td>NaN</td>\n",
       "      <td>NaN</td>\n",
       "      <td>NaN</td>\n",
       "      <td>NaN</td>\n",
       "      <td>NaN</td>\n",
       "      <td>NaN</td>\n",
       "      <td>NaN</td>\n",
       "      <td>NaN</td>\n",
       "      <td>NaN</td>\n",
       "      <td>NaN</td>\n",
       "    </tr>\n",
       "    <tr>\n",
       "      <th>1</th>\n",
       "      <td>Afghanistan</td>\n",
       "      <td>no data</td>\n",
       "      <td>no data</td>\n",
       "      <td>no data</td>\n",
       "      <td>no data</td>\n",
       "      <td>no data</td>\n",
       "      <td>no data</td>\n",
       "      <td>no data</td>\n",
       "      <td>no data</td>\n",
       "      <td>no data</td>\n",
       "      <td>...</td>\n",
       "      <td>3.9</td>\n",
       "      <td>-2.4</td>\n",
       "      <td>no data</td>\n",
       "      <td>no data</td>\n",
       "      <td>no data</td>\n",
       "      <td>no data</td>\n",
       "      <td>no data</td>\n",
       "      <td>no data</td>\n",
       "      <td>no data</td>\n",
       "      <td>no data</td>\n",
       "    </tr>\n",
       "    <tr>\n",
       "      <th>2</th>\n",
       "      <td>Albania</td>\n",
       "      <td>2.7</td>\n",
       "      <td>5.7</td>\n",
       "      <td>2.9</td>\n",
       "      <td>1.1</td>\n",
       "      <td>2</td>\n",
       "      <td>-1.5</td>\n",
       "      <td>5.6</td>\n",
       "      <td>-0.8</td>\n",
       "      <td>-1.4</td>\n",
       "      <td>...</td>\n",
       "      <td>2.1</td>\n",
       "      <td>-3.5</td>\n",
       "      <td>8.5</td>\n",
       "      <td>3.7</td>\n",
       "      <td>2.2</td>\n",
       "      <td>3.3</td>\n",
       "      <td>3.4</td>\n",
       "      <td>3.4</td>\n",
       "      <td>3.4</td>\n",
       "      <td>3.4</td>\n",
       "    </tr>\n",
       "    <tr>\n",
       "      <th>3</th>\n",
       "      <td>Algeria</td>\n",
       "      <td>-5.4</td>\n",
       "      <td>3</td>\n",
       "      <td>6.4</td>\n",
       "      <td>5.4</td>\n",
       "      <td>5.6</td>\n",
       "      <td>5.6</td>\n",
       "      <td>-0.2</td>\n",
       "      <td>-0.7</td>\n",
       "      <td>-1.9</td>\n",
       "      <td>...</td>\n",
       "      <td>1</td>\n",
       "      <td>-5.1</td>\n",
       "      <td>3.4</td>\n",
       "      <td>2.9</td>\n",
       "      <td>2.6</td>\n",
       "      <td>2.6</td>\n",
       "      <td>2.2</td>\n",
       "      <td>2.1</td>\n",
       "      <td>1.7</td>\n",
       "      <td>1.8</td>\n",
       "    </tr>\n",
       "    <tr>\n",
       "      <th>4</th>\n",
       "      <td>Andorra</td>\n",
       "      <td>no data</td>\n",
       "      <td>no data</td>\n",
       "      <td>no data</td>\n",
       "      <td>no data</td>\n",
       "      <td>no data</td>\n",
       "      <td>no data</td>\n",
       "      <td>no data</td>\n",
       "      <td>no data</td>\n",
       "      <td>no data</td>\n",
       "      <td>...</td>\n",
       "      <td>2</td>\n",
       "      <td>-11.2</td>\n",
       "      <td>8.9</td>\n",
       "      <td>8.7</td>\n",
       "      <td>1.3</td>\n",
       "      <td>1.5</td>\n",
       "      <td>1.5</td>\n",
       "      <td>1.5</td>\n",
       "      <td>1.5</td>\n",
       "      <td>1.5</td>\n",
       "    </tr>\n",
       "  </tbody>\n",
       "</table>\n",
       "<p>5 rows × 50 columns</p>\n",
       "</div>"
      ],
      "text/plain": [
       "  Real GDP growth (Annual percent change)     1980     1981     1982     1983  \\\n",
       "0                                     NaN      NaN      NaN      NaN      NaN   \n",
       "1                             Afghanistan  no data  no data  no data  no data   \n",
       "2                                 Albania      2.7      5.7      2.9      1.1   \n",
       "3                                 Algeria     -5.4        3      6.4      5.4   \n",
       "4                                 Andorra  no data  no data  no data  no data   \n",
       "\n",
       "      1984     1985     1986     1987     1988  ... 2019  2020     2021  \\\n",
       "0      NaN      NaN      NaN      NaN      NaN  ...  NaN   NaN      NaN   \n",
       "1  no data  no data  no data  no data  no data  ...  3.9  -2.4  no data   \n",
       "2        2     -1.5      5.6     -0.8     -1.4  ...  2.1  -3.5      8.5   \n",
       "3      5.6      5.6     -0.2     -0.7     -1.9  ...    1  -5.1      3.4   \n",
       "4  no data  no data  no data  no data  no data  ...    2 -11.2      8.9   \n",
       "\n",
       "      2022     2023     2024     2025     2026     2027     2028  \n",
       "0      NaN      NaN      NaN      NaN      NaN      NaN      NaN  \n",
       "1  no data  no data  no data  no data  no data  no data  no data  \n",
       "2      3.7      2.2      3.3      3.4      3.4      3.4      3.4  \n",
       "3      2.9      2.6      2.6      2.2      2.1      1.7      1.8  \n",
       "4      8.7      1.3      1.5      1.5      1.5      1.5      1.5  \n",
       "\n",
       "[5 rows x 50 columns]"
      ]
     },
     "execution_count": 37,
     "metadata": {},
     "output_type": "execute_result"
    }
   ],
   "source": [
    "df_raw.head()"
   ]
  },
  {
   "cell_type": "markdown",
   "metadata": {},
   "source": [
    "# 1.0 Data Description"
   ]
  },
  {
   "cell_type": "code",
   "execution_count": 38,
   "metadata": {},
   "outputs": [],
   "source": [
    "df1 = df_raw.copy()"
   ]
  },
  {
   "cell_type": "code",
   "execution_count": 39,
   "metadata": {},
   "outputs": [
    {
     "data": {
      "text/plain": [
       "(231, 50)"
      ]
     },
     "execution_count": 39,
     "metadata": {},
     "output_type": "execute_result"
    }
   ],
   "source": [
    "df1.shape"
   ]
  },
  {
   "cell_type": "markdown",
   "metadata": {},
   "source": [
    "Total de 231 linhas e 50 colunas"
   ]
  },
  {
   "cell_type": "markdown",
   "metadata": {},
   "source": [
    "## 1.2 check dtypes"
   ]
  },
  {
   "cell_type": "code",
   "execution_count": 40,
   "metadata": {},
   "outputs": [
    {
     "data": {
      "text/plain": [
       "object    50\n",
       "Name: count, dtype: int64"
      ]
     },
     "execution_count": 40,
     "metadata": {},
     "output_type": "execute_result"
    }
   ],
   "source": [
    "df1.dtypes.value_counts()"
   ]
  },
  {
   "cell_type": "markdown",
   "metadata": {},
   "source": [
    "Todas as colunas são objetos, como estamos tratando de valores numéricos, vamos converter as colunas para o tipo numérico."
   ]
  },
  {
   "cell_type": "markdown",
   "metadata": {},
   "source": [
    "## 1.3 check missing values"
   ]
  },
  {
   "cell_type": "code",
   "execution_count": 41,
   "metadata": {},
   "outputs": [
    {
     "data": {
      "text/plain": [
       "2004                                       3\n",
       "2016                                       3\n",
       "2006                                       3\n",
       "2007                                       3\n",
       "2008                                       3\n",
       "2009                                       3\n",
       "2010                                       3\n",
       "2011                                       3\n",
       "2012                                       3\n",
       "2013                                       3\n",
       "2014                                       3\n",
       "2015                                       3\n",
       "2017                                       3\n",
       "1980                                       3\n",
       "2018                                       3\n",
       "2019                                       3\n",
       "2020                                       3\n",
       "2021                                       3\n",
       "2022                                       3\n",
       "2023                                       3\n",
       "2024                                       3\n",
       "2025                                       3\n",
       "2026                                       3\n",
       "2027                                       3\n",
       "2005                                       3\n",
       "2028                                       3\n",
       "2003                                       3\n",
       "2002                                       3\n",
       "1981                                       3\n",
       "1982                                       3\n",
       "1983                                       3\n",
       "1984                                       3\n",
       "1985                                       3\n",
       "1986                                       3\n",
       "1987                                       3\n",
       "1988                                       3\n",
       "1989                                       3\n",
       "1990                                       3\n",
       "1991                                       3\n",
       "1992                                       3\n",
       "1993                                       3\n",
       "1994                                       3\n",
       "1995                                       3\n",
       "1996                                       3\n",
       "1997                                       3\n",
       "1998                                       3\n",
       "1999                                       3\n",
       "2000                                       3\n",
       "2001                                       3\n",
       "Real GDP growth (Annual percent change)    2\n",
       "dtype: int64"
      ]
     },
     "execution_count": 41,
     "metadata": {},
     "output_type": "execute_result"
    }
   ],
   "source": [
    "df1.isnull().sum().sort_values(ascending=False)"
   ]
  },
  {
   "cell_type": "markdown",
   "metadata": {},
   "source": [
    "As colunas em si apresentam poucos valores nulos, comm no máximo 3, será feita uma análise das linnhas para dicidir pela remoção ou preenchimento"
   ]
  },
  {
   "cell_type": "markdown",
   "metadata": {},
   "source": [
    "## 1.4 remove missing values"
   ]
  },
  {
   "cell_type": "markdown",
   "metadata": {},
   "source": [
    "### 1.4.1 investigate and remove missing values"
   ]
  },
  {
   "cell_type": "code",
   "execution_count": 42,
   "metadata": {},
   "outputs": [
    {
     "data": {
      "text/plain": [
       "0      50\n",
       "229    50\n",
       "dtype: int64"
      ]
     },
     "execution_count": 42,
     "metadata": {},
     "output_type": "execute_result"
    }
   ],
   "source": [
    "df1[df1['Real GDP growth (Annual percent change)'].isna()].T.isnull().sum()"
   ]
  },
  {
   "cell_type": "markdown",
   "metadata": {},
   "source": [
    "As linhas da colunas \"Real GPD growth (Annual percent change)\" que possuem valores nulos, são completamente nulas, por isso serão removidas."
   ]
  },
  {
   "cell_type": "code",
   "execution_count": 43,
   "metadata": {},
   "outputs": [
    {
     "data": {
      "text/html": [
       "<div>\n",
       "<style scoped>\n",
       "    .dataframe tbody tr th:only-of-type {\n",
       "        vertical-align: middle;\n",
       "    }\n",
       "\n",
       "    .dataframe tbody tr th {\n",
       "        vertical-align: top;\n",
       "    }\n",
       "\n",
       "    .dataframe thead th {\n",
       "        text-align: right;\n",
       "    }\n",
       "</style>\n",
       "<table border=\"1\" class=\"dataframe\">\n",
       "  <thead>\n",
       "    <tr style=\"text-align: right;\">\n",
       "      <th></th>\n",
       "      <th>Real GDP growth (Annual percent change)</th>\n",
       "      <th>1980</th>\n",
       "      <th>1981</th>\n",
       "      <th>1982</th>\n",
       "      <th>1983</th>\n",
       "      <th>1984</th>\n",
       "      <th>1985</th>\n",
       "      <th>1986</th>\n",
       "      <th>1987</th>\n",
       "      <th>1988</th>\n",
       "      <th>...</th>\n",
       "      <th>2019</th>\n",
       "      <th>2020</th>\n",
       "      <th>2021</th>\n",
       "      <th>2022</th>\n",
       "      <th>2023</th>\n",
       "      <th>2024</th>\n",
       "      <th>2025</th>\n",
       "      <th>2026</th>\n",
       "      <th>2027</th>\n",
       "      <th>2028</th>\n",
       "    </tr>\n",
       "  </thead>\n",
       "  <tbody>\n",
       "    <tr>\n",
       "      <th>1</th>\n",
       "      <td>Afghanistan</td>\n",
       "      <td>no data</td>\n",
       "      <td>no data</td>\n",
       "      <td>no data</td>\n",
       "      <td>no data</td>\n",
       "      <td>no data</td>\n",
       "      <td>no data</td>\n",
       "      <td>no data</td>\n",
       "      <td>no data</td>\n",
       "      <td>no data</td>\n",
       "      <td>...</td>\n",
       "      <td>3.9</td>\n",
       "      <td>-2.4</td>\n",
       "      <td>no data</td>\n",
       "      <td>no data</td>\n",
       "      <td>no data</td>\n",
       "      <td>no data</td>\n",
       "      <td>no data</td>\n",
       "      <td>no data</td>\n",
       "      <td>no data</td>\n",
       "      <td>no data</td>\n",
       "    </tr>\n",
       "    <tr>\n",
       "      <th>2</th>\n",
       "      <td>Albania</td>\n",
       "      <td>2.7</td>\n",
       "      <td>5.7</td>\n",
       "      <td>2.9</td>\n",
       "      <td>1.1</td>\n",
       "      <td>2</td>\n",
       "      <td>-1.5</td>\n",
       "      <td>5.6</td>\n",
       "      <td>-0.8</td>\n",
       "      <td>-1.4</td>\n",
       "      <td>...</td>\n",
       "      <td>2.1</td>\n",
       "      <td>-3.5</td>\n",
       "      <td>8.5</td>\n",
       "      <td>3.7</td>\n",
       "      <td>2.2</td>\n",
       "      <td>3.3</td>\n",
       "      <td>3.4</td>\n",
       "      <td>3.4</td>\n",
       "      <td>3.4</td>\n",
       "      <td>3.4</td>\n",
       "    </tr>\n",
       "    <tr>\n",
       "      <th>3</th>\n",
       "      <td>Algeria</td>\n",
       "      <td>-5.4</td>\n",
       "      <td>3</td>\n",
       "      <td>6.4</td>\n",
       "      <td>5.4</td>\n",
       "      <td>5.6</td>\n",
       "      <td>5.6</td>\n",
       "      <td>-0.2</td>\n",
       "      <td>-0.7</td>\n",
       "      <td>-1.9</td>\n",
       "      <td>...</td>\n",
       "      <td>1</td>\n",
       "      <td>-5.1</td>\n",
       "      <td>3.4</td>\n",
       "      <td>2.9</td>\n",
       "      <td>2.6</td>\n",
       "      <td>2.6</td>\n",
       "      <td>2.2</td>\n",
       "      <td>2.1</td>\n",
       "      <td>1.7</td>\n",
       "      <td>1.8</td>\n",
       "    </tr>\n",
       "    <tr>\n",
       "      <th>4</th>\n",
       "      <td>Andorra</td>\n",
       "      <td>no data</td>\n",
       "      <td>no data</td>\n",
       "      <td>no data</td>\n",
       "      <td>no data</td>\n",
       "      <td>no data</td>\n",
       "      <td>no data</td>\n",
       "      <td>no data</td>\n",
       "      <td>no data</td>\n",
       "      <td>no data</td>\n",
       "      <td>...</td>\n",
       "      <td>2</td>\n",
       "      <td>-11.2</td>\n",
       "      <td>8.9</td>\n",
       "      <td>8.7</td>\n",
       "      <td>1.3</td>\n",
       "      <td>1.5</td>\n",
       "      <td>1.5</td>\n",
       "      <td>1.5</td>\n",
       "      <td>1.5</td>\n",
       "      <td>1.5</td>\n",
       "    </tr>\n",
       "    <tr>\n",
       "      <th>5</th>\n",
       "      <td>Angola</td>\n",
       "      <td>2.4</td>\n",
       "      <td>-4.4</td>\n",
       "      <td>0</td>\n",
       "      <td>4.2</td>\n",
       "      <td>6</td>\n",
       "      <td>3.5</td>\n",
       "      <td>2.9</td>\n",
       "      <td>4.1</td>\n",
       "      <td>6.1</td>\n",
       "      <td>...</td>\n",
       "      <td>-0.7</td>\n",
       "      <td>-5.6</td>\n",
       "      <td>1.1</td>\n",
       "      <td>2.8</td>\n",
       "      <td>3.5</td>\n",
       "      <td>3.7</td>\n",
       "      <td>4</td>\n",
       "      <td>4.1</td>\n",
       "      <td>4.2</td>\n",
       "      <td>4.2</td>\n",
       "    </tr>\n",
       "    <tr>\n",
       "      <th>...</th>\n",
       "      <td>...</td>\n",
       "      <td>...</td>\n",
       "      <td>...</td>\n",
       "      <td>...</td>\n",
       "      <td>...</td>\n",
       "      <td>...</td>\n",
       "      <td>...</td>\n",
       "      <td>...</td>\n",
       "      <td>...</td>\n",
       "      <td>...</td>\n",
       "      <td>...</td>\n",
       "      <td>...</td>\n",
       "      <td>...</td>\n",
       "      <td>...</td>\n",
       "      <td>...</td>\n",
       "      <td>...</td>\n",
       "      <td>...</td>\n",
       "      <td>...</td>\n",
       "      <td>...</td>\n",
       "      <td>...</td>\n",
       "      <td>...</td>\n",
       "    </tr>\n",
       "    <tr>\n",
       "      <th>225</th>\n",
       "      <td>Middle East and Central Asia</td>\n",
       "      <td>-1.9</td>\n",
       "      <td>-0.2</td>\n",
       "      <td>0.4</td>\n",
       "      <td>0.7</td>\n",
       "      <td>0.3</td>\n",
       "      <td>1.2</td>\n",
       "      <td>2</td>\n",
       "      <td>-0.1</td>\n",
       "      <td>3.3</td>\n",
       "      <td>...</td>\n",
       "      <td>1.6</td>\n",
       "      <td>-2.7</td>\n",
       "      <td>4.6</td>\n",
       "      <td>5.3</td>\n",
       "      <td>2.9</td>\n",
       "      <td>3.5</td>\n",
       "      <td>3.6</td>\n",
       "      <td>3.6</td>\n",
       "      <td>3.7</td>\n",
       "      <td>3.7</td>\n",
       "    </tr>\n",
       "    <tr>\n",
       "      <th>226</th>\n",
       "      <td>Other advanced economies</td>\n",
       "      <td>3.8</td>\n",
       "      <td>4.2</td>\n",
       "      <td>2.2</td>\n",
       "      <td>4</td>\n",
       "      <td>6.6</td>\n",
       "      <td>4.3</td>\n",
       "      <td>5.5</td>\n",
       "      <td>6.5</td>\n",
       "      <td>5.5</td>\n",
       "      <td>...</td>\n",
       "      <td>2</td>\n",
       "      <td>-1.6</td>\n",
       "      <td>5.4</td>\n",
       "      <td>2.6</td>\n",
       "      <td>1.8</td>\n",
       "      <td>2.2</td>\n",
       "      <td>2.3</td>\n",
       "      <td>2.3</td>\n",
       "      <td>2.2</td>\n",
       "      <td>2.3</td>\n",
       "    </tr>\n",
       "    <tr>\n",
       "      <th>227</th>\n",
       "      <td>Sub-Saharan Africa</td>\n",
       "      <td>no data</td>\n",
       "      <td>no data</td>\n",
       "      <td>no data</td>\n",
       "      <td>no data</td>\n",
       "      <td>no data</td>\n",
       "      <td>no data</td>\n",
       "      <td>no data</td>\n",
       "      <td>no data</td>\n",
       "      <td>no data</td>\n",
       "      <td>...</td>\n",
       "      <td>3.3</td>\n",
       "      <td>-1.7</td>\n",
       "      <td>4.8</td>\n",
       "      <td>3.9</td>\n",
       "      <td>3.6</td>\n",
       "      <td>4.2</td>\n",
       "      <td>4.1</td>\n",
       "      <td>4.2</td>\n",
       "      <td>4.3</td>\n",
       "      <td>4.4</td>\n",
       "    </tr>\n",
       "    <tr>\n",
       "      <th>228</th>\n",
       "      <td>World</td>\n",
       "      <td>2.1</td>\n",
       "      <td>1.9</td>\n",
       "      <td>0.7</td>\n",
       "      <td>2.6</td>\n",
       "      <td>4.6</td>\n",
       "      <td>3.6</td>\n",
       "      <td>3.6</td>\n",
       "      <td>3.9</td>\n",
       "      <td>4.7</td>\n",
       "      <td>...</td>\n",
       "      <td>2.8</td>\n",
       "      <td>-2.8</td>\n",
       "      <td>6.3</td>\n",
       "      <td>3.4</td>\n",
       "      <td>2.8</td>\n",
       "      <td>3</td>\n",
       "      <td>3.2</td>\n",
       "      <td>3.2</td>\n",
       "      <td>3.1</td>\n",
       "      <td>3</td>\n",
       "    </tr>\n",
       "    <tr>\n",
       "      <th>230</th>\n",
       "      <td>©IMF, 2023</td>\n",
       "      <td>NaN</td>\n",
       "      <td>NaN</td>\n",
       "      <td>NaN</td>\n",
       "      <td>NaN</td>\n",
       "      <td>NaN</td>\n",
       "      <td>NaN</td>\n",
       "      <td>NaN</td>\n",
       "      <td>NaN</td>\n",
       "      <td>NaN</td>\n",
       "      <td>...</td>\n",
       "      <td>NaN</td>\n",
       "      <td>NaN</td>\n",
       "      <td>NaN</td>\n",
       "      <td>NaN</td>\n",
       "      <td>NaN</td>\n",
       "      <td>NaN</td>\n",
       "      <td>NaN</td>\n",
       "      <td>NaN</td>\n",
       "      <td>NaN</td>\n",
       "      <td>NaN</td>\n",
       "    </tr>\n",
       "  </tbody>\n",
       "</table>\n",
       "<p>229 rows × 50 columns</p>\n",
       "</div>"
      ],
      "text/plain": [
       "    Real GDP growth (Annual percent change)     1980     1981     1982  \\\n",
       "1                               Afghanistan  no data  no data  no data   \n",
       "2                                   Albania      2.7      5.7      2.9   \n",
       "3                                   Algeria     -5.4        3      6.4   \n",
       "4                                   Andorra  no data  no data  no data   \n",
       "5                                    Angola      2.4     -4.4        0   \n",
       "..                                      ...      ...      ...      ...   \n",
       "225            Middle East and Central Asia     -1.9     -0.2      0.4   \n",
       "226                Other advanced economies      3.8      4.2      2.2   \n",
       "227                      Sub-Saharan Africa  no data  no data  no data   \n",
       "228                                   World      2.1      1.9      0.7   \n",
       "230                              ©IMF, 2023      NaN      NaN      NaN   \n",
       "\n",
       "        1983     1984     1985     1986     1987     1988  ... 2019  2020  \\\n",
       "1    no data  no data  no data  no data  no data  no data  ...  3.9  -2.4   \n",
       "2        1.1        2     -1.5      5.6     -0.8     -1.4  ...  2.1  -3.5   \n",
       "3        5.4      5.6      5.6     -0.2     -0.7     -1.9  ...    1  -5.1   \n",
       "4    no data  no data  no data  no data  no data  no data  ...    2 -11.2   \n",
       "5        4.2        6      3.5      2.9      4.1      6.1  ... -0.7  -5.6   \n",
       "..       ...      ...      ...      ...      ...      ...  ...  ...   ...   \n",
       "225      0.7      0.3      1.2        2     -0.1      3.3  ...  1.6  -2.7   \n",
       "226        4      6.6      4.3      5.5      6.5      5.5  ...    2  -1.6   \n",
       "227  no data  no data  no data  no data  no data  no data  ...  3.3  -1.7   \n",
       "228      2.6      4.6      3.6      3.6      3.9      4.7  ...  2.8  -2.8   \n",
       "230      NaN      NaN      NaN      NaN      NaN      NaN  ...  NaN   NaN   \n",
       "\n",
       "        2021     2022     2023     2024     2025     2026     2027     2028  \n",
       "1    no data  no data  no data  no data  no data  no data  no data  no data  \n",
       "2        8.5      3.7      2.2      3.3      3.4      3.4      3.4      3.4  \n",
       "3        3.4      2.9      2.6      2.6      2.2      2.1      1.7      1.8  \n",
       "4        8.9      8.7      1.3      1.5      1.5      1.5      1.5      1.5  \n",
       "5        1.1      2.8      3.5      3.7        4      4.1      4.2      4.2  \n",
       "..       ...      ...      ...      ...      ...      ...      ...      ...  \n",
       "225      4.6      5.3      2.9      3.5      3.6      3.6      3.7      3.7  \n",
       "226      5.4      2.6      1.8      2.2      2.3      2.3      2.2      2.3  \n",
       "227      4.8      3.9      3.6      4.2      4.1      4.2      4.3      4.4  \n",
       "228      6.3      3.4      2.8        3      3.2      3.2      3.1        3  \n",
       "230      NaN      NaN      NaN      NaN      NaN      NaN      NaN      NaN  \n",
       "\n",
       "[229 rows x 50 columns]"
      ]
     },
     "execution_count": 43,
     "metadata": {},
     "output_type": "execute_result"
    }
   ],
   "source": [
    "df1 = df1.dropna(subset=['Real GDP growth (Annual percent change)'])\n",
    "df1"
   ]
  },
  {
   "cell_type": "markdown",
   "metadata": {},
   "source": [
    "\"IMF,2023\" aparenta ser em erro na construção da tabela, e possui todos os valores nulos, então será removido."
   ]
  },
  {
   "cell_type": "code",
   "execution_count": 44,
   "metadata": {},
   "outputs": [],
   "source": [
    "df1 = df1[~(df1['Real GDP growth (Annual percent change)'] == '©IMF, 2023')]"
   ]
  },
  {
   "cell_type": "code",
   "execution_count": 45,
   "metadata": {},
   "outputs": [
    {
     "data": {
      "text/html": [
       "<div>\n",
       "<style scoped>\n",
       "    .dataframe tbody tr th:only-of-type {\n",
       "        vertical-align: middle;\n",
       "    }\n",
       "\n",
       "    .dataframe tbody tr th {\n",
       "        vertical-align: top;\n",
       "    }\n",
       "\n",
       "    .dataframe thead th {\n",
       "        text-align: right;\n",
       "    }\n",
       "</style>\n",
       "<table border=\"1\" class=\"dataframe\">\n",
       "  <thead>\n",
       "    <tr style=\"text-align: right;\">\n",
       "      <th>Real GDP growth (Annual percent change)</th>\n",
       "      <th>year</th>\n",
       "      <th>Afghanistan</th>\n",
       "      <th>Albania</th>\n",
       "      <th>Algeria</th>\n",
       "      <th>Andorra</th>\n",
       "      <th>Angola</th>\n",
       "      <th>Antigua and Barbuda</th>\n",
       "      <th>Argentina</th>\n",
       "      <th>Armenia</th>\n",
       "      <th>Aruba</th>\n",
       "      <th>...</th>\n",
       "      <th>Emerging and Developing Europe</th>\n",
       "      <th>Emerging market and developing economies</th>\n",
       "      <th>Euro area</th>\n",
       "      <th>European Union</th>\n",
       "      <th>Latin America and the Caribbean</th>\n",
       "      <th>Major advanced economies (G7)</th>\n",
       "      <th>Middle East and Central Asia</th>\n",
       "      <th>Other advanced economies</th>\n",
       "      <th>Sub-Saharan Africa</th>\n",
       "      <th>World</th>\n",
       "    </tr>\n",
       "  </thead>\n",
       "  <tbody>\n",
       "    <tr>\n",
       "      <th>0</th>\n",
       "      <td>1980</td>\n",
       "      <td>no data</td>\n",
       "      <td>2.7</td>\n",
       "      <td>-5.4</td>\n",
       "      <td>no data</td>\n",
       "      <td>2.4</td>\n",
       "      <td>8.2</td>\n",
       "      <td>0.7</td>\n",
       "      <td>no data</td>\n",
       "      <td>no data</td>\n",
       "      <td>...</td>\n",
       "      <td>-0.8</td>\n",
       "      <td>3.3</td>\n",
       "      <td>no data</td>\n",
       "      <td>1.8</td>\n",
       "      <td>6.4</td>\n",
       "      <td>0.9</td>\n",
       "      <td>-1.9</td>\n",
       "      <td>3.8</td>\n",
       "      <td>no data</td>\n",
       "      <td>2.1</td>\n",
       "    </tr>\n",
       "    <tr>\n",
       "      <th>1</th>\n",
       "      <td>1981</td>\n",
       "      <td>no data</td>\n",
       "      <td>5.7</td>\n",
       "      <td>3</td>\n",
       "      <td>no data</td>\n",
       "      <td>-4.4</td>\n",
       "      <td>3.8</td>\n",
       "      <td>-5.7</td>\n",
       "      <td>no data</td>\n",
       "      <td>no data</td>\n",
       "      <td>...</td>\n",
       "      <td>-0.5</td>\n",
       "      <td>1.9</td>\n",
       "      <td>no data</td>\n",
       "      <td>0.1</td>\n",
       "      <td>0.9</td>\n",
       "      <td>2</td>\n",
       "      <td>-0.2</td>\n",
       "      <td>4.2</td>\n",
       "      <td>no data</td>\n",
       "      <td>1.9</td>\n",
       "    </tr>\n",
       "    <tr>\n",
       "      <th>2</th>\n",
       "      <td>1982</td>\n",
       "      <td>no data</td>\n",
       "      <td>2.9</td>\n",
       "      <td>6.4</td>\n",
       "      <td>no data</td>\n",
       "      <td>0</td>\n",
       "      <td>-0.1</td>\n",
       "      <td>-3.1</td>\n",
       "      <td>no data</td>\n",
       "      <td>no data</td>\n",
       "      <td>...</td>\n",
       "      <td>1.4</td>\n",
       "      <td>1.5</td>\n",
       "      <td>no data</td>\n",
       "      <td>0.6</td>\n",
       "      <td>-0.5</td>\n",
       "      <td>-0.1</td>\n",
       "      <td>0.4</td>\n",
       "      <td>2.2</td>\n",
       "      <td>no data</td>\n",
       "      <td>0.7</td>\n",
       "    </tr>\n",
       "    <tr>\n",
       "      <th>3</th>\n",
       "      <td>1983</td>\n",
       "      <td>no data</td>\n",
       "      <td>1.1</td>\n",
       "      <td>5.4</td>\n",
       "      <td>no data</td>\n",
       "      <td>4.2</td>\n",
       "      <td>5.4</td>\n",
       "      <td>3.7</td>\n",
       "      <td>no data</td>\n",
       "      <td>no data</td>\n",
       "      <td>...</td>\n",
       "      <td>4.6</td>\n",
       "      <td>1.8</td>\n",
       "      <td>no data</td>\n",
       "      <td>1.7</td>\n",
       "      <td>-2.8</td>\n",
       "      <td>3.3</td>\n",
       "      <td>0.7</td>\n",
       "      <td>4</td>\n",
       "      <td>no data</td>\n",
       "      <td>2.6</td>\n",
       "    </tr>\n",
       "    <tr>\n",
       "      <th>4</th>\n",
       "      <td>1984</td>\n",
       "      <td>no data</td>\n",
       "      <td>2</td>\n",
       "      <td>5.6</td>\n",
       "      <td>no data</td>\n",
       "      <td>6</td>\n",
       "      <td>10.2</td>\n",
       "      <td>2</td>\n",
       "      <td>no data</td>\n",
       "      <td>no data</td>\n",
       "      <td>...</td>\n",
       "      <td>4.1</td>\n",
       "      <td>4.1</td>\n",
       "      <td>no data</td>\n",
       "      <td>2.5</td>\n",
       "      <td>3.9</td>\n",
       "      <td>5</td>\n",
       "      <td>0.3</td>\n",
       "      <td>6.6</td>\n",
       "      <td>no data</td>\n",
       "      <td>4.6</td>\n",
       "    </tr>\n",
       "    <tr>\n",
       "      <th>5</th>\n",
       "      <td>1985</td>\n",
       "      <td>no data</td>\n",
       "      <td>-1.5</td>\n",
       "      <td>5.6</td>\n",
       "      <td>no data</td>\n",
       "      <td>3.5</td>\n",
       "      <td>7.6</td>\n",
       "      <td>-7</td>\n",
       "      <td>no data</td>\n",
       "      <td>no data</td>\n",
       "      <td>...</td>\n",
       "      <td>2.4</td>\n",
       "      <td>3.5</td>\n",
       "      <td>no data</td>\n",
       "      <td>2.2</td>\n",
       "      <td>3.2</td>\n",
       "      <td>3.8</td>\n",
       "      <td>1.2</td>\n",
       "      <td>4.3</td>\n",
       "      <td>no data</td>\n",
       "      <td>3.6</td>\n",
       "    </tr>\n",
       "    <tr>\n",
       "      <th>6</th>\n",
       "      <td>1986</td>\n",
       "      <td>no data</td>\n",
       "      <td>5.6</td>\n",
       "      <td>-0.2</td>\n",
       "      <td>no data</td>\n",
       "      <td>2.9</td>\n",
       "      <td>11.5</td>\n",
       "      <td>7.1</td>\n",
       "      <td>no data</td>\n",
       "      <td>no data</td>\n",
       "      <td>...</td>\n",
       "      <td>4.4</td>\n",
       "      <td>4.3</td>\n",
       "      <td>no data</td>\n",
       "      <td>2.7</td>\n",
       "      <td>4.3</td>\n",
       "      <td>3</td>\n",
       "      <td>2</td>\n",
       "      <td>5.5</td>\n",
       "      <td>no data</td>\n",
       "      <td>3.6</td>\n",
       "    </tr>\n",
       "    <tr>\n",
       "      <th>7</th>\n",
       "      <td>1987</td>\n",
       "      <td>no data</td>\n",
       "      <td>-0.8</td>\n",
       "      <td>-0.7</td>\n",
       "      <td>no data</td>\n",
       "      <td>4.1</td>\n",
       "      <td>6.6</td>\n",
       "      <td>2.5</td>\n",
       "      <td>no data</td>\n",
       "      <td>16.1</td>\n",
       "      <td>...</td>\n",
       "      <td>5</td>\n",
       "      <td>4</td>\n",
       "      <td>no data</td>\n",
       "      <td>2.6</td>\n",
       "      <td>3.3</td>\n",
       "      <td>3.5</td>\n",
       "      <td>-0.1</td>\n",
       "      <td>6.5</td>\n",
       "      <td>no data</td>\n",
       "      <td>3.9</td>\n",
       "    </tr>\n",
       "    <tr>\n",
       "      <th>8</th>\n",
       "      <td>1988</td>\n",
       "      <td>no data</td>\n",
       "      <td>-1.4</td>\n",
       "      <td>-1.9</td>\n",
       "      <td>no data</td>\n",
       "      <td>6.1</td>\n",
       "      <td>5.2</td>\n",
       "      <td>-2</td>\n",
       "      <td>no data</td>\n",
       "      <td>18.6</td>\n",
       "      <td>...</td>\n",
       "      <td>1.6</td>\n",
       "      <td>4.5</td>\n",
       "      <td>no data</td>\n",
       "      <td>3.8</td>\n",
       "      <td>1.1</td>\n",
       "      <td>4.7</td>\n",
       "      <td>3.3</td>\n",
       "      <td>5.5</td>\n",
       "      <td>no data</td>\n",
       "      <td>4.7</td>\n",
       "    </tr>\n",
       "    <tr>\n",
       "      <th>9</th>\n",
       "      <td>1989</td>\n",
       "      <td>no data</td>\n",
       "      <td>9.8</td>\n",
       "      <td>4.8</td>\n",
       "      <td>no data</td>\n",
       "      <td>0</td>\n",
       "      <td>5.3</td>\n",
       "      <td>-7</td>\n",
       "      <td>no data</td>\n",
       "      <td>12.1</td>\n",
       "      <td>...</td>\n",
       "      <td>0.1</td>\n",
       "      <td>3.5</td>\n",
       "      <td>no data</td>\n",
       "      <td>3.6</td>\n",
       "      <td>1.1</td>\n",
       "      <td>3.8</td>\n",
       "      <td>4.3</td>\n",
       "      <td>4.6</td>\n",
       "      <td>no data</td>\n",
       "      <td>3.8</td>\n",
       "    </tr>\n",
       "    <tr>\n",
       "      <th>10</th>\n",
       "      <td>1990</td>\n",
       "      <td>no data</td>\n",
       "      <td>-10</td>\n",
       "      <td>0.8</td>\n",
       "      <td>no data</td>\n",
       "      <td>-3.5</td>\n",
       "      <td>3</td>\n",
       "      <td>-1.3</td>\n",
       "      <td>no data</td>\n",
       "      <td>4</td>\n",
       "      <td>...</td>\n",
       "      <td>-0.4</td>\n",
       "      <td>4.1</td>\n",
       "      <td>no data</td>\n",
       "      <td>2.7</td>\n",
       "      <td>0.6</td>\n",
       "      <td>2.8</td>\n",
       "      <td>8.7</td>\n",
       "      <td>4.3</td>\n",
       "      <td>no data</td>\n",
       "      <td>3.4</td>\n",
       "    </tr>\n",
       "    <tr>\n",
       "      <th>11</th>\n",
       "      <td>1991</td>\n",
       "      <td>no data</td>\n",
       "      <td>-28</td>\n",
       "      <td>-1.2</td>\n",
       "      <td>no data</td>\n",
       "      <td>12.1</td>\n",
       "      <td>2.2</td>\n",
       "      <td>10.5</td>\n",
       "      <td>no data</td>\n",
       "      <td>8</td>\n",
       "      <td>...</td>\n",
       "      <td>-5.7</td>\n",
       "      <td>4.5</td>\n",
       "      <td>no data</td>\n",
       "      <td>1.4</td>\n",
       "      <td>3.8</td>\n",
       "      <td>1.2</td>\n",
       "      <td>8.5</td>\n",
       "      <td>3.7</td>\n",
       "      <td>0.2</td>\n",
       "      <td>2.7</td>\n",
       "    </tr>\n",
       "    <tr>\n",
       "      <th>12</th>\n",
       "      <td>1992</td>\n",
       "      <td>no data</td>\n",
       "      <td>-7.2</td>\n",
       "      <td>1.6</td>\n",
       "      <td>no data</td>\n",
       "      <td>11.4</td>\n",
       "      <td>1.2</td>\n",
       "      <td>10.3</td>\n",
       "      <td>no data</td>\n",
       "      <td>5.9</td>\n",
       "      <td>...</td>\n",
       "      <td>-8.7</td>\n",
       "      <td>2.5</td>\n",
       "      <td>1.4</td>\n",
       "      <td>1</td>\n",
       "      <td>3.3</td>\n",
       "      <td>2.1</td>\n",
       "      <td>4.9</td>\n",
       "      <td>4</td>\n",
       "      <td>0</td>\n",
       "      <td>2.3</td>\n",
       "    </tr>\n",
       "    <tr>\n",
       "      <th>13</th>\n",
       "      <td>1993</td>\n",
       "      <td>no data</td>\n",
       "      <td>9.6</td>\n",
       "      <td>-2.1</td>\n",
       "      <td>no data</td>\n",
       "      <td>11</td>\n",
       "      <td>5.3</td>\n",
       "      <td>6.3</td>\n",
       "      <td>-14.1</td>\n",
       "      <td>7.3</td>\n",
       "      <td>...</td>\n",
       "      <td>-4.4</td>\n",
       "      <td>3</td>\n",
       "      <td>-0.8</td>\n",
       "      <td>-0.6</td>\n",
       "      <td>4</td>\n",
       "      <td>1.1</td>\n",
       "      <td>0.2</td>\n",
       "      <td>4.2</td>\n",
       "      <td>1.6</td>\n",
       "      <td>2</td>\n",
       "    </tr>\n",
       "    <tr>\n",
       "      <th>14</th>\n",
       "      <td>1994</td>\n",
       "      <td>no data</td>\n",
       "      <td>9.4</td>\n",
       "      <td>-0.9</td>\n",
       "      <td>no data</td>\n",
       "      <td>10.5</td>\n",
       "      <td>6.7</td>\n",
       "      <td>5.8</td>\n",
       "      <td>5.4</td>\n",
       "      <td>8.2</td>\n",
       "      <td>...</td>\n",
       "      <td>-8.4</td>\n",
       "      <td>3.1</td>\n",
       "      <td>2.5</td>\n",
       "      <td>2.7</td>\n",
       "      <td>4.7</td>\n",
       "      <td>3</td>\n",
       "      <td>1.4</td>\n",
       "      <td>6.2</td>\n",
       "      <td>1.8</td>\n",
       "      <td>3.2</td>\n",
       "    </tr>\n",
       "    <tr>\n",
       "      <th>15</th>\n",
       "      <td>1995</td>\n",
       "      <td>no data</td>\n",
       "      <td>8.9</td>\n",
       "      <td>3.8</td>\n",
       "      <td>no data</td>\n",
       "      <td>10.4</td>\n",
       "      <td>-4.4</td>\n",
       "      <td>-2.8</td>\n",
       "      <td>8</td>\n",
       "      <td>2.5</td>\n",
       "      <td>...</td>\n",
       "      <td>-0.3</td>\n",
       "      <td>4</td>\n",
       "      <td>2.9</td>\n",
       "      <td>2.8</td>\n",
       "      <td>1.3</td>\n",
       "      <td>2.5</td>\n",
       "      <td>1.7</td>\n",
       "      <td>5.3</td>\n",
       "      <td>3.9</td>\n",
       "      <td>3.3</td>\n",
       "    </tr>\n",
       "    <tr>\n",
       "      <th>16</th>\n",
       "      <td>1996</td>\n",
       "      <td>no data</td>\n",
       "      <td>9.1</td>\n",
       "      <td>3.8</td>\n",
       "      <td>no data</td>\n",
       "      <td>11.2</td>\n",
       "      <td>6.6</td>\n",
       "      <td>5.5</td>\n",
       "      <td>5.2</td>\n",
       "      <td>1.3</td>\n",
       "      <td>...</td>\n",
       "      <td>0.3</td>\n",
       "      <td>5.1</td>\n",
       "      <td>1.6</td>\n",
       "      <td>2</td>\n",
       "      <td>3.8</td>\n",
       "      <td>2.7</td>\n",
       "      <td>4.5</td>\n",
       "      <td>4.9</td>\n",
       "      <td>4.8</td>\n",
       "      <td>3.9</td>\n",
       "    </tr>\n",
       "    <tr>\n",
       "      <th>17</th>\n",
       "      <td>1997</td>\n",
       "      <td>no data</td>\n",
       "      <td>-10.9</td>\n",
       "      <td>1.1</td>\n",
       "      <td>no data</td>\n",
       "      <td>7.3</td>\n",
       "      <td>5.5</td>\n",
       "      <td>8.1</td>\n",
       "      <td>3.4</td>\n",
       "      <td>7</td>\n",
       "      <td>...</td>\n",
       "      <td>2.7</td>\n",
       "      <td>4.7</td>\n",
       "      <td>2.6</td>\n",
       "      <td>2.6</td>\n",
       "      <td>5.3</td>\n",
       "      <td>3.2</td>\n",
       "      <td>3</td>\n",
       "      <td>4.7</td>\n",
       "      <td>3.5</td>\n",
       "      <td>4</td>\n",
       "    </tr>\n",
       "    <tr>\n",
       "      <th>18</th>\n",
       "      <td>1998</td>\n",
       "      <td>no data</td>\n",
       "      <td>8.8</td>\n",
       "      <td>5.1</td>\n",
       "      <td>no data</td>\n",
       "      <td>4.7</td>\n",
       "      <td>4.7</td>\n",
       "      <td>3.9</td>\n",
       "      <td>6.3</td>\n",
       "      <td>2</td>\n",
       "      <td>...</td>\n",
       "      <td>-0.8</td>\n",
       "      <td>2.3</td>\n",
       "      <td>3</td>\n",
       "      <td>3</td>\n",
       "      <td>2.5</td>\n",
       "      <td>2.9</td>\n",
       "      <td>3.6</td>\n",
       "      <td>1</td>\n",
       "      <td>2.4</td>\n",
       "      <td>2.6</td>\n",
       "    </tr>\n",
       "    <tr>\n",
       "      <th>19</th>\n",
       "      <td>1999</td>\n",
       "      <td>no data</td>\n",
       "      <td>12.9</td>\n",
       "      <td>3.2</td>\n",
       "      <td>no data</td>\n",
       "      <td>2.2</td>\n",
       "      <td>3.7</td>\n",
       "      <td>-3.4</td>\n",
       "      <td>3.2</td>\n",
       "      <td>1.4</td>\n",
       "      <td>...</td>\n",
       "      <td>2.6</td>\n",
       "      <td>3.5</td>\n",
       "      <td>2.9</td>\n",
       "      <td>2.9</td>\n",
       "      <td>0.2</td>\n",
       "      <td>3.2</td>\n",
       "      <td>2.3</td>\n",
       "      <td>5.5</td>\n",
       "      <td>2.4</td>\n",
       "      <td>3.5</td>\n",
       "    </tr>\n",
       "    <tr>\n",
       "      <th>20</th>\n",
       "      <td>2000</td>\n",
       "      <td>no data</td>\n",
       "      <td>6.9</td>\n",
       "      <td>3.8</td>\n",
       "      <td>no data</td>\n",
       "      <td>3.1</td>\n",
       "      <td>6.2</td>\n",
       "      <td>-0.8</td>\n",
       "      <td>5.9</td>\n",
       "      <td>7.7</td>\n",
       "      <td>...</td>\n",
       "      <td>7.5</td>\n",
       "      <td>5.7</td>\n",
       "      <td>3.8</td>\n",
       "      <td>3.9</td>\n",
       "      <td>3.7</td>\n",
       "      <td>3.8</td>\n",
       "      <td>5.5</td>\n",
       "      <td>5.9</td>\n",
       "      <td>4</td>\n",
       "      <td>4.8</td>\n",
       "    </tr>\n",
       "    <tr>\n",
       "      <th>21</th>\n",
       "      <td>2001</td>\n",
       "      <td>no data</td>\n",
       "      <td>8.3</td>\n",
       "      <td>3</td>\n",
       "      <td>8.1</td>\n",
       "      <td>4.2</td>\n",
       "      <td>-4.5</td>\n",
       "      <td>-4.4</td>\n",
       "      <td>9.5</td>\n",
       "      <td>4.2</td>\n",
       "      <td>...</td>\n",
       "      <td>2.7</td>\n",
       "      <td>3.6</td>\n",
       "      <td>2.2</td>\n",
       "      <td>2.3</td>\n",
       "      <td>0.6</td>\n",
       "      <td>1.2</td>\n",
       "      <td>2.5</td>\n",
       "      <td>2.2</td>\n",
       "      <td>4.6</td>\n",
       "      <td>2.5</td>\n",
       "    </tr>\n",
       "    <tr>\n",
       "      <th>22</th>\n",
       "      <td>2002</td>\n",
       "      <td>no data</td>\n",
       "      <td>4.5</td>\n",
       "      <td>5.6</td>\n",
       "      <td>4.5</td>\n",
       "      <td>13.7</td>\n",
       "      <td>1</td>\n",
       "      <td>-10.9</td>\n",
       "      <td>14.8</td>\n",
       "      <td>-0.9</td>\n",
       "      <td>...</td>\n",
       "      <td>4.8</td>\n",
       "      <td>4.4</td>\n",
       "      <td>0.9</td>\n",
       "      <td>1.3</td>\n",
       "      <td>0.4</td>\n",
       "      <td>1.1</td>\n",
       "      <td>3.1</td>\n",
       "      <td>3.9</td>\n",
       "      <td>6.3</td>\n",
       "      <td>2.9</td>\n",
       "    </tr>\n",
       "    <tr>\n",
       "      <th>23</th>\n",
       "      <td>2003</td>\n",
       "      <td>8.7</td>\n",
       "      <td>5.5</td>\n",
       "      <td>7.2</td>\n",
       "      <td>8.7</td>\n",
       "      <td>3</td>\n",
       "      <td>6.1</td>\n",
       "      <td>9</td>\n",
       "      <td>14.1</td>\n",
       "      <td>1.1</td>\n",
       "      <td>...</td>\n",
       "      <td>6.2</td>\n",
       "      <td>6.9</td>\n",
       "      <td>0.7</td>\n",
       "      <td>1.1</td>\n",
       "      <td>2</td>\n",
       "      <td>1.9</td>\n",
       "      <td>10.2</td>\n",
       "      <td>2.8</td>\n",
       "      <td>4.8</td>\n",
       "      <td>4.3</td>\n",
       "    </tr>\n",
       "    <tr>\n",
       "      <th>24</th>\n",
       "      <td>2004</td>\n",
       "      <td>0.7</td>\n",
       "      <td>5.5</td>\n",
       "      <td>4.3</td>\n",
       "      <td>8.1</td>\n",
       "      <td>11</td>\n",
       "      <td>5.8</td>\n",
       "      <td>8.9</td>\n",
       "      <td>10.5</td>\n",
       "      <td>7.3</td>\n",
       "      <td>...</td>\n",
       "      <td>7.9</td>\n",
       "      <td>7.9</td>\n",
       "      <td>2.3</td>\n",
       "      <td>2.8</td>\n",
       "      <td>6.1</td>\n",
       "      <td>2.9</td>\n",
       "      <td>8.8</td>\n",
       "      <td>5.3</td>\n",
       "      <td>6.9</td>\n",
       "      <td>5.4</td>\n",
       "    </tr>\n",
       "    <tr>\n",
       "      <th>25</th>\n",
       "      <td>2005</td>\n",
       "      <td>11.8</td>\n",
       "      <td>5.5</td>\n",
       "      <td>5.9</td>\n",
       "      <td>5.4</td>\n",
       "      <td>15</td>\n",
       "      <td>6.5</td>\n",
       "      <td>8.9</td>\n",
       "      <td>14.1</td>\n",
       "      <td>-0.4</td>\n",
       "      <td>...</td>\n",
       "      <td>6.3</td>\n",
       "      <td>7.1</td>\n",
       "      <td>1.7</td>\n",
       "      <td>2.1</td>\n",
       "      <td>4.4</td>\n",
       "      <td>2.5</td>\n",
       "      <td>5.9</td>\n",
       "      <td>4.2</td>\n",
       "      <td>6.3</td>\n",
       "      <td>4.9</td>\n",
       "    </tr>\n",
       "    <tr>\n",
       "      <th>26</th>\n",
       "      <td>2006</td>\n",
       "      <td>5.4</td>\n",
       "      <td>5.9</td>\n",
       "      <td>1.7</td>\n",
       "      <td>4.8</td>\n",
       "      <td>11.5</td>\n",
       "      <td>12.7</td>\n",
       "      <td>8</td>\n",
       "      <td>13.2</td>\n",
       "      <td>1.1</td>\n",
       "      <td>...</td>\n",
       "      <td>7.4</td>\n",
       "      <td>7.9</td>\n",
       "      <td>3.2</td>\n",
       "      <td>3.7</td>\n",
       "      <td>5.4</td>\n",
       "      <td>2.5</td>\n",
       "      <td>6.2</td>\n",
       "      <td>4.8</td>\n",
       "      <td>6</td>\n",
       "      <td>5.4</td>\n",
       "    </tr>\n",
       "    <tr>\n",
       "      <th>27</th>\n",
       "      <td>2007</td>\n",
       "      <td>13.3</td>\n",
       "      <td>6</td>\n",
       "      <td>3.4</td>\n",
       "      <td>1.6</td>\n",
       "      <td>14</td>\n",
       "      <td>9.3</td>\n",
       "      <td>9</td>\n",
       "      <td>13.7</td>\n",
       "      <td>3.1</td>\n",
       "      <td>...</td>\n",
       "      <td>7.2</td>\n",
       "      <td>8.4</td>\n",
       "      <td>3</td>\n",
       "      <td>3.4</td>\n",
       "      <td>5.6</td>\n",
       "      <td>2.1</td>\n",
       "      <td>5.9</td>\n",
       "      <td>5.2</td>\n",
       "      <td>6.6</td>\n",
       "      <td>5.6</td>\n",
       "    </tr>\n",
       "    <tr>\n",
       "      <th>28</th>\n",
       "      <td>2008</td>\n",
       "      <td>3.9</td>\n",
       "      <td>7.5</td>\n",
       "      <td>2.4</td>\n",
       "      <td>-5.6</td>\n",
       "      <td>11.2</td>\n",
       "      <td>0</td>\n",
       "      <td>4.1</td>\n",
       "      <td>6.9</td>\n",
       "      <td>1.8</td>\n",
       "      <td>...</td>\n",
       "      <td>4.3</td>\n",
       "      <td>5.7</td>\n",
       "      <td>0.4</td>\n",
       "      <td>0.9</td>\n",
       "      <td>4</td>\n",
       "      <td>0</td>\n",
       "      <td>4.9</td>\n",
       "      <td>1.8</td>\n",
       "      <td>5.7</td>\n",
       "      <td>3.1</td>\n",
       "    </tr>\n",
       "    <tr>\n",
       "      <th>29</th>\n",
       "      <td>2009</td>\n",
       "      <td>20.6</td>\n",
       "      <td>3.4</td>\n",
       "      <td>1.6</td>\n",
       "      <td>-5.3</td>\n",
       "      <td>0.9</td>\n",
       "      <td>-12</td>\n",
       "      <td>-5.9</td>\n",
       "      <td>-14.1</td>\n",
       "      <td>-11.7</td>\n",
       "      <td>...</td>\n",
       "      <td>-5.7</td>\n",
       "      <td>2.8</td>\n",
       "      <td>-4.5</td>\n",
       "      <td>-4.2</td>\n",
       "      <td>-1.9</td>\n",
       "      <td>-3.7</td>\n",
       "      <td>1.2</td>\n",
       "      <td>-0.9</td>\n",
       "      <td>3.6</td>\n",
       "      <td>-0.1</td>\n",
       "    </tr>\n",
       "    <tr>\n",
       "      <th>30</th>\n",
       "      <td>2010</td>\n",
       "      <td>8.4</td>\n",
       "      <td>3.7</td>\n",
       "      <td>3.6</td>\n",
       "      <td>-2</td>\n",
       "      <td>4.9</td>\n",
       "      <td>-7.8</td>\n",
       "      <td>10.1</td>\n",
       "      <td>2.2</td>\n",
       "      <td>-2.7</td>\n",
       "      <td>...</td>\n",
       "      <td>4.4</td>\n",
       "      <td>7.4</td>\n",
       "      <td>2.1</td>\n",
       "      <td>2.1</td>\n",
       "      <td>6.1</td>\n",
       "      <td>2.9</td>\n",
       "      <td>5</td>\n",
       "      <td>6</td>\n",
       "      <td>6.9</td>\n",
       "      <td>5.4</td>\n",
       "    </tr>\n",
       "    <tr>\n",
       "      <th>31</th>\n",
       "      <td>2011</td>\n",
       "      <td>6.5</td>\n",
       "      <td>2.5</td>\n",
       "      <td>2.9</td>\n",
       "      <td>0</td>\n",
       "      <td>3.5</td>\n",
       "      <td>-2</td>\n",
       "      <td>6</td>\n",
       "      <td>4.7</td>\n",
       "      <td>3.4</td>\n",
       "      <td>...</td>\n",
       "      <td>6.1</td>\n",
       "      <td>6.4</td>\n",
       "      <td>1.7</td>\n",
       "      <td>2</td>\n",
       "      <td>4.6</td>\n",
       "      <td>1.6</td>\n",
       "      <td>4.7</td>\n",
       "      <td>3.4</td>\n",
       "      <td>5</td>\n",
       "      <td>4.3</td>\n",
       "    </tr>\n",
       "    <tr>\n",
       "      <th>32</th>\n",
       "      <td>2012</td>\n",
       "      <td>14</td>\n",
       "      <td>1.4</td>\n",
       "      <td>3.4</td>\n",
       "      <td>-5</td>\n",
       "      <td>8.5</td>\n",
       "      <td>3.4</td>\n",
       "      <td>-1</td>\n",
       "      <td>7.1</td>\n",
       "      <td>-1</td>\n",
       "      <td>...</td>\n",
       "      <td>3.2</td>\n",
       "      <td>5.4</td>\n",
       "      <td>-0.9</td>\n",
       "      <td>-0.6</td>\n",
       "      <td>3</td>\n",
       "      <td>1.4</td>\n",
       "      <td>5.1</td>\n",
       "      <td>2.2</td>\n",
       "      <td>4.8</td>\n",
       "      <td>3.5</td>\n",
       "    </tr>\n",
       "    <tr>\n",
       "      <th>33</th>\n",
       "      <td>2013</td>\n",
       "      <td>5.7</td>\n",
       "      <td>1</td>\n",
       "      <td>2.8</td>\n",
       "      <td>-3.5</td>\n",
       "      <td>5</td>\n",
       "      <td>-0.6</td>\n",
       "      <td>2.4</td>\n",
       "      <td>3.4</td>\n",
       "      <td>6.4</td>\n",
       "      <td>...</td>\n",
       "      <td>2.9</td>\n",
       "      <td>5</td>\n",
       "      <td>-0.2</td>\n",
       "      <td>-0.1</td>\n",
       "      <td>2.9</td>\n",
       "      <td>1.4</td>\n",
       "      <td>3</td>\n",
       "      <td>2.5</td>\n",
       "      <td>4.9</td>\n",
       "      <td>3.4</td>\n",
       "    </tr>\n",
       "    <tr>\n",
       "      <th>34</th>\n",
       "      <td>2014</td>\n",
       "      <td>2.7</td>\n",
       "      <td>1.8</td>\n",
       "      <td>3.8</td>\n",
       "      <td>2.5</td>\n",
       "      <td>4.8</td>\n",
       "      <td>3.8</td>\n",
       "      <td>-2.5</td>\n",
       "      <td>3.6</td>\n",
       "      <td>0</td>\n",
       "      <td>...</td>\n",
       "      <td>1.9</td>\n",
       "      <td>4.7</td>\n",
       "      <td>1.4</td>\n",
       "      <td>1.7</td>\n",
       "      <td>1.4</td>\n",
       "      <td>1.9</td>\n",
       "      <td>3.4</td>\n",
       "      <td>3</td>\n",
       "      <td>5</td>\n",
       "      <td>3.5</td>\n",
       "    </tr>\n",
       "    <tr>\n",
       "      <th>35</th>\n",
       "      <td>2015</td>\n",
       "      <td>1</td>\n",
       "      <td>2.2</td>\n",
       "      <td>3.7</td>\n",
       "      <td>1.4</td>\n",
       "      <td>0.9</td>\n",
       "      <td>3.8</td>\n",
       "      <td>2.7</td>\n",
       "      <td>3.3</td>\n",
       "      <td>3.6</td>\n",
       "      <td>...</td>\n",
       "      <td>1</td>\n",
       "      <td>4.4</td>\n",
       "      <td>2</td>\n",
       "      <td>2.5</td>\n",
       "      <td>0.4</td>\n",
       "      <td>2.1</td>\n",
       "      <td>3</td>\n",
       "      <td>2.3</td>\n",
       "      <td>3.2</td>\n",
       "      <td>3.4</td>\n",
       "    </tr>\n",
       "    <tr>\n",
       "      <th>36</th>\n",
       "      <td>2016</td>\n",
       "      <td>2.2</td>\n",
       "      <td>3.3</td>\n",
       "      <td>3.2</td>\n",
       "      <td>3.7</td>\n",
       "      <td>-2.6</td>\n",
       "      <td>5.5</td>\n",
       "      <td>-2.1</td>\n",
       "      <td>0.2</td>\n",
       "      <td>2.1</td>\n",
       "      <td>...</td>\n",
       "      <td>1.8</td>\n",
       "      <td>4.4</td>\n",
       "      <td>1.9</td>\n",
       "      <td>2</td>\n",
       "      <td>-0.6</td>\n",
       "      <td>1.5</td>\n",
       "      <td>4.3</td>\n",
       "      <td>2.6</td>\n",
       "      <td>1.5</td>\n",
       "      <td>3.3</td>\n",
       "    </tr>\n",
       "    <tr>\n",
       "      <th>37</th>\n",
       "      <td>2017</td>\n",
       "      <td>2.6</td>\n",
       "      <td>3.8</td>\n",
       "      <td>1.4</td>\n",
       "      <td>0.3</td>\n",
       "      <td>-0.2</td>\n",
       "      <td>3.1</td>\n",
       "      <td>2.8</td>\n",
       "      <td>7.5</td>\n",
       "      <td>5.5</td>\n",
       "      <td>...</td>\n",
       "      <td>4.2</td>\n",
       "      <td>4.7</td>\n",
       "      <td>2.6</td>\n",
       "      <td>3</td>\n",
       "      <td>1.4</td>\n",
       "      <td>2.2</td>\n",
       "      <td>2.2</td>\n",
       "      <td>3.1</td>\n",
       "      <td>2.9</td>\n",
       "      <td>3.8</td>\n",
       "    </tr>\n",
       "    <tr>\n",
       "      <th>38</th>\n",
       "      <td>2018</td>\n",
       "      <td>1.2</td>\n",
       "      <td>4</td>\n",
       "      <td>1.2</td>\n",
       "      <td>1.6</td>\n",
       "      <td>-1.3</td>\n",
       "      <td>6.9</td>\n",
       "      <td>-2.6</td>\n",
       "      <td>5.2</td>\n",
       "      <td>5.3</td>\n",
       "      <td>...</td>\n",
       "      <td>3.6</td>\n",
       "      <td>4.7</td>\n",
       "      <td>1.8</td>\n",
       "      <td>2.3</td>\n",
       "      <td>1.2</td>\n",
       "      <td>2.1</td>\n",
       "      <td>2.8</td>\n",
       "      <td>2.8</td>\n",
       "      <td>3.2</td>\n",
       "      <td>3.6</td>\n",
       "    </tr>\n",
       "    <tr>\n",
       "      <th>39</th>\n",
       "      <td>2019</td>\n",
       "      <td>3.9</td>\n",
       "      <td>2.1</td>\n",
       "      <td>1</td>\n",
       "      <td>2</td>\n",
       "      <td>-0.7</td>\n",
       "      <td>4.9</td>\n",
       "      <td>-2</td>\n",
       "      <td>7.6</td>\n",
       "      <td>0.6</td>\n",
       "      <td>...</td>\n",
       "      <td>2.5</td>\n",
       "      <td>3.6</td>\n",
       "      <td>1.6</td>\n",
       "      <td>2</td>\n",
       "      <td>0.2</td>\n",
       "      <td>1.6</td>\n",
       "      <td>1.6</td>\n",
       "      <td>2</td>\n",
       "      <td>3.3</td>\n",
       "      <td>2.8</td>\n",
       "    </tr>\n",
       "    <tr>\n",
       "      <th>40</th>\n",
       "      <td>2020</td>\n",
       "      <td>-2.4</td>\n",
       "      <td>-3.5</td>\n",
       "      <td>-5.1</td>\n",
       "      <td>-11.2</td>\n",
       "      <td>-5.6</td>\n",
       "      <td>-20.2</td>\n",
       "      <td>-9.9</td>\n",
       "      <td>-7.2</td>\n",
       "      <td>-18.6</td>\n",
       "      <td>...</td>\n",
       "      <td>-1.6</td>\n",
       "      <td>-1.8</td>\n",
       "      <td>-6.1</td>\n",
       "      <td>-5.6</td>\n",
       "      <td>-6.8</td>\n",
       "      <td>-4.5</td>\n",
       "      <td>-2.7</td>\n",
       "      <td>-1.6</td>\n",
       "      <td>-1.7</td>\n",
       "      <td>-2.8</td>\n",
       "    </tr>\n",
       "    <tr>\n",
       "      <th>41</th>\n",
       "      <td>2021</td>\n",
       "      <td>no data</td>\n",
       "      <td>8.5</td>\n",
       "      <td>3.4</td>\n",
       "      <td>8.9</td>\n",
       "      <td>1.1</td>\n",
       "      <td>5.3</td>\n",
       "      <td>10.4</td>\n",
       "      <td>5.7</td>\n",
       "      <td>17.2</td>\n",
       "      <td>...</td>\n",
       "      <td>7.3</td>\n",
       "      <td>6.9</td>\n",
       "      <td>5.4</td>\n",
       "      <td>5.6</td>\n",
       "      <td>7</td>\n",
       "      <td>5.3</td>\n",
       "      <td>4.6</td>\n",
       "      <td>5.4</td>\n",
       "      <td>4.8</td>\n",
       "      <td>6.3</td>\n",
       "    </tr>\n",
       "    <tr>\n",
       "      <th>42</th>\n",
       "      <td>2022</td>\n",
       "      <td>no data</td>\n",
       "      <td>3.7</td>\n",
       "      <td>2.9</td>\n",
       "      <td>8.7</td>\n",
       "      <td>2.8</td>\n",
       "      <td>6.4</td>\n",
       "      <td>5.2</td>\n",
       "      <td>12.6</td>\n",
       "      <td>5.7</td>\n",
       "      <td>...</td>\n",
       "      <td>0.8</td>\n",
       "      <td>4</td>\n",
       "      <td>3.5</td>\n",
       "      <td>3.7</td>\n",
       "      <td>4</td>\n",
       "      <td>2.3</td>\n",
       "      <td>5.3</td>\n",
       "      <td>2.6</td>\n",
       "      <td>3.9</td>\n",
       "      <td>3.4</td>\n",
       "    </tr>\n",
       "    <tr>\n",
       "      <th>43</th>\n",
       "      <td>2023</td>\n",
       "      <td>no data</td>\n",
       "      <td>2.2</td>\n",
       "      <td>2.6</td>\n",
       "      <td>1.3</td>\n",
       "      <td>3.5</td>\n",
       "      <td>5.5</td>\n",
       "      <td>0.2</td>\n",
       "      <td>5.5</td>\n",
       "      <td>1.6</td>\n",
       "      <td>...</td>\n",
       "      <td>1.2</td>\n",
       "      <td>3.9</td>\n",
       "      <td>0.8</td>\n",
       "      <td>0.7</td>\n",
       "      <td>1.6</td>\n",
       "      <td>1.1</td>\n",
       "      <td>2.9</td>\n",
       "      <td>1.8</td>\n",
       "      <td>3.6</td>\n",
       "      <td>2.8</td>\n",
       "    </tr>\n",
       "    <tr>\n",
       "      <th>44</th>\n",
       "      <td>2024</td>\n",
       "      <td>no data</td>\n",
       "      <td>3.3</td>\n",
       "      <td>2.6</td>\n",
       "      <td>1.5</td>\n",
       "      <td>3.7</td>\n",
       "      <td>5.4</td>\n",
       "      <td>2</td>\n",
       "      <td>5</td>\n",
       "      <td>1.2</td>\n",
       "      <td>...</td>\n",
       "      <td>2.5</td>\n",
       "      <td>4.2</td>\n",
       "      <td>1.4</td>\n",
       "      <td>1.6</td>\n",
       "      <td>2.2</td>\n",
       "      <td>1.1</td>\n",
       "      <td>3.5</td>\n",
       "      <td>2.2</td>\n",
       "      <td>4.2</td>\n",
       "      <td>3</td>\n",
       "    </tr>\n",
       "    <tr>\n",
       "      <th>45</th>\n",
       "      <td>2025</td>\n",
       "      <td>no data</td>\n",
       "      <td>3.4</td>\n",
       "      <td>2.2</td>\n",
       "      <td>1.5</td>\n",
       "      <td>4</td>\n",
       "      <td>4.1</td>\n",
       "      <td>2</td>\n",
       "      <td>4.5</td>\n",
       "      <td>1.2</td>\n",
       "      <td>...</td>\n",
       "      <td>2.5</td>\n",
       "      <td>4</td>\n",
       "      <td>1.9</td>\n",
       "      <td>2.2</td>\n",
       "      <td>2.3</td>\n",
       "      <td>1.7</td>\n",
       "      <td>3.6</td>\n",
       "      <td>2.3</td>\n",
       "      <td>4.1</td>\n",
       "      <td>3.2</td>\n",
       "    </tr>\n",
       "    <tr>\n",
       "      <th>46</th>\n",
       "      <td>2026</td>\n",
       "      <td>no data</td>\n",
       "      <td>3.4</td>\n",
       "      <td>2.1</td>\n",
       "      <td>1.5</td>\n",
       "      <td>4.1</td>\n",
       "      <td>2.7</td>\n",
       "      <td>2</td>\n",
       "      <td>4.5</td>\n",
       "      <td>1.1</td>\n",
       "      <td>...</td>\n",
       "      <td>2.4</td>\n",
       "      <td>4</td>\n",
       "      <td>1.7</td>\n",
       "      <td>2</td>\n",
       "      <td>2.6</td>\n",
       "      <td>1.8</td>\n",
       "      <td>3.6</td>\n",
       "      <td>2.3</td>\n",
       "      <td>4.2</td>\n",
       "      <td>3.2</td>\n",
       "    </tr>\n",
       "    <tr>\n",
       "      <th>47</th>\n",
       "      <td>2027</td>\n",
       "      <td>no data</td>\n",
       "      <td>3.4</td>\n",
       "      <td>1.7</td>\n",
       "      <td>1.5</td>\n",
       "      <td>4.2</td>\n",
       "      <td>2.7</td>\n",
       "      <td>2</td>\n",
       "      <td>4.5</td>\n",
       "      <td>1.1</td>\n",
       "      <td>...</td>\n",
       "      <td>2.3</td>\n",
       "      <td>3.9</td>\n",
       "      <td>1.5</td>\n",
       "      <td>1.8</td>\n",
       "      <td>2.3</td>\n",
       "      <td>1.7</td>\n",
       "      <td>3.7</td>\n",
       "      <td>2.2</td>\n",
       "      <td>4.3</td>\n",
       "      <td>3.1</td>\n",
       "    </tr>\n",
       "    <tr>\n",
       "      <th>48</th>\n",
       "      <td>2028</td>\n",
       "      <td>no data</td>\n",
       "      <td>3.4</td>\n",
       "      <td>1.8</td>\n",
       "      <td>1.5</td>\n",
       "      <td>4.2</td>\n",
       "      <td>2.7</td>\n",
       "      <td>2</td>\n",
       "      <td>4.5</td>\n",
       "      <td>1.1</td>\n",
       "      <td>...</td>\n",
       "      <td>2.3</td>\n",
       "      <td>3.9</td>\n",
       "      <td>1.4</td>\n",
       "      <td>1.7</td>\n",
       "      <td>2.3</td>\n",
       "      <td>1.6</td>\n",
       "      <td>3.7</td>\n",
       "      <td>2.3</td>\n",
       "      <td>4.4</td>\n",
       "      <td>3</td>\n",
       "    </tr>\n",
       "  </tbody>\n",
       "</table>\n",
       "<p>49 rows × 229 columns</p>\n",
       "</div>"
      ],
      "text/plain": [
       "Real GDP growth (Annual percent change)  year Afghanistan Albania Algeria  \\\n",
       "0                                        1980     no data     2.7    -5.4   \n",
       "1                                        1981     no data     5.7       3   \n",
       "2                                        1982     no data     2.9     6.4   \n",
       "3                                        1983     no data     1.1     5.4   \n",
       "4                                        1984     no data       2     5.6   \n",
       "5                                        1985     no data    -1.5     5.6   \n",
       "6                                        1986     no data     5.6    -0.2   \n",
       "7                                        1987     no data    -0.8    -0.7   \n",
       "8                                        1988     no data    -1.4    -1.9   \n",
       "9                                        1989     no data     9.8     4.8   \n",
       "10                                       1990     no data     -10     0.8   \n",
       "11                                       1991     no data     -28    -1.2   \n",
       "12                                       1992     no data    -7.2     1.6   \n",
       "13                                       1993     no data     9.6    -2.1   \n",
       "14                                       1994     no data     9.4    -0.9   \n",
       "15                                       1995     no data     8.9     3.8   \n",
       "16                                       1996     no data     9.1     3.8   \n",
       "17                                       1997     no data   -10.9     1.1   \n",
       "18                                       1998     no data     8.8     5.1   \n",
       "19                                       1999     no data    12.9     3.2   \n",
       "20                                       2000     no data     6.9     3.8   \n",
       "21                                       2001     no data     8.3       3   \n",
       "22                                       2002     no data     4.5     5.6   \n",
       "23                                       2003         8.7     5.5     7.2   \n",
       "24                                       2004         0.7     5.5     4.3   \n",
       "25                                       2005        11.8     5.5     5.9   \n",
       "26                                       2006         5.4     5.9     1.7   \n",
       "27                                       2007        13.3       6     3.4   \n",
       "28                                       2008         3.9     7.5     2.4   \n",
       "29                                       2009        20.6     3.4     1.6   \n",
       "30                                       2010         8.4     3.7     3.6   \n",
       "31                                       2011         6.5     2.5     2.9   \n",
       "32                                       2012          14     1.4     3.4   \n",
       "33                                       2013         5.7       1     2.8   \n",
       "34                                       2014         2.7     1.8     3.8   \n",
       "35                                       2015           1     2.2     3.7   \n",
       "36                                       2016         2.2     3.3     3.2   \n",
       "37                                       2017         2.6     3.8     1.4   \n",
       "38                                       2018         1.2       4     1.2   \n",
       "39                                       2019         3.9     2.1       1   \n",
       "40                                       2020        -2.4    -3.5    -5.1   \n",
       "41                                       2021     no data     8.5     3.4   \n",
       "42                                       2022     no data     3.7     2.9   \n",
       "43                                       2023     no data     2.2     2.6   \n",
       "44                                       2024     no data     3.3     2.6   \n",
       "45                                       2025     no data     3.4     2.2   \n",
       "46                                       2026     no data     3.4     2.1   \n",
       "47                                       2027     no data     3.4     1.7   \n",
       "48                                       2028     no data     3.4     1.8   \n",
       "\n",
       "Real GDP growth (Annual percent change)  Andorra Angola Antigua and Barbuda  \\\n",
       "0                                        no data    2.4                 8.2   \n",
       "1                                        no data   -4.4                 3.8   \n",
       "2                                        no data      0                -0.1   \n",
       "3                                        no data    4.2                 5.4   \n",
       "4                                        no data      6                10.2   \n",
       "5                                        no data    3.5                 7.6   \n",
       "6                                        no data    2.9                11.5   \n",
       "7                                        no data    4.1                 6.6   \n",
       "8                                        no data    6.1                 5.2   \n",
       "9                                        no data      0                 5.3   \n",
       "10                                       no data   -3.5                   3   \n",
       "11                                       no data   12.1                 2.2   \n",
       "12                                       no data   11.4                 1.2   \n",
       "13                                       no data     11                 5.3   \n",
       "14                                       no data   10.5                 6.7   \n",
       "15                                       no data   10.4                -4.4   \n",
       "16                                       no data   11.2                 6.6   \n",
       "17                                       no data    7.3                 5.5   \n",
       "18                                       no data    4.7                 4.7   \n",
       "19                                       no data    2.2                 3.7   \n",
       "20                                       no data    3.1                 6.2   \n",
       "21                                           8.1    4.2                -4.5   \n",
       "22                                           4.5   13.7                   1   \n",
       "23                                           8.7      3                 6.1   \n",
       "24                                           8.1     11                 5.8   \n",
       "25                                           5.4     15                 6.5   \n",
       "26                                           4.8   11.5                12.7   \n",
       "27                                           1.6     14                 9.3   \n",
       "28                                          -5.6   11.2                   0   \n",
       "29                                          -5.3    0.9                 -12   \n",
       "30                                            -2    4.9                -7.8   \n",
       "31                                             0    3.5                  -2   \n",
       "32                                            -5    8.5                 3.4   \n",
       "33                                          -3.5      5                -0.6   \n",
       "34                                           2.5    4.8                 3.8   \n",
       "35                                           1.4    0.9                 3.8   \n",
       "36                                           3.7   -2.6                 5.5   \n",
       "37                                           0.3   -0.2                 3.1   \n",
       "38                                           1.6   -1.3                 6.9   \n",
       "39                                             2   -0.7                 4.9   \n",
       "40                                         -11.2   -5.6               -20.2   \n",
       "41                                           8.9    1.1                 5.3   \n",
       "42                                           8.7    2.8                 6.4   \n",
       "43                                           1.3    3.5                 5.5   \n",
       "44                                           1.5    3.7                 5.4   \n",
       "45                                           1.5      4                 4.1   \n",
       "46                                           1.5    4.1                 2.7   \n",
       "47                                           1.5    4.2                 2.7   \n",
       "48                                           1.5    4.2                 2.7   \n",
       "\n",
       "Real GDP growth (Annual percent change) Argentina  Armenia    Aruba  ...  \\\n",
       "0                                             0.7  no data  no data  ...   \n",
       "1                                            -5.7  no data  no data  ...   \n",
       "2                                            -3.1  no data  no data  ...   \n",
       "3                                             3.7  no data  no data  ...   \n",
       "4                                               2  no data  no data  ...   \n",
       "5                                              -7  no data  no data  ...   \n",
       "6                                             7.1  no data  no data  ...   \n",
       "7                                             2.5  no data     16.1  ...   \n",
       "8                                              -2  no data     18.6  ...   \n",
       "9                                              -7  no data     12.1  ...   \n",
       "10                                           -1.3  no data        4  ...   \n",
       "11                                           10.5  no data        8  ...   \n",
       "12                                           10.3  no data      5.9  ...   \n",
       "13                                            6.3    -14.1      7.3  ...   \n",
       "14                                            5.8      5.4      8.2  ...   \n",
       "15                                           -2.8        8      2.5  ...   \n",
       "16                                            5.5      5.2      1.3  ...   \n",
       "17                                            8.1      3.4        7  ...   \n",
       "18                                            3.9      6.3        2  ...   \n",
       "19                                           -3.4      3.2      1.4  ...   \n",
       "20                                           -0.8      5.9      7.7  ...   \n",
       "21                                           -4.4      9.5      4.2  ...   \n",
       "22                                          -10.9     14.8     -0.9  ...   \n",
       "23                                              9     14.1      1.1  ...   \n",
       "24                                            8.9     10.5      7.3  ...   \n",
       "25                                            8.9     14.1     -0.4  ...   \n",
       "26                                              8     13.2      1.1  ...   \n",
       "27                                              9     13.7      3.1  ...   \n",
       "28                                            4.1      6.9      1.8  ...   \n",
       "29                                           -5.9    -14.1    -11.7  ...   \n",
       "30                                           10.1      2.2     -2.7  ...   \n",
       "31                                              6      4.7      3.4  ...   \n",
       "32                                             -1      7.1       -1  ...   \n",
       "33                                            2.4      3.4      6.4  ...   \n",
       "34                                           -2.5      3.6        0  ...   \n",
       "35                                            2.7      3.3      3.6  ...   \n",
       "36                                           -2.1      0.2      2.1  ...   \n",
       "37                                            2.8      7.5      5.5  ...   \n",
       "38                                           -2.6      5.2      5.3  ...   \n",
       "39                                             -2      7.6      0.6  ...   \n",
       "40                                           -9.9     -7.2    -18.6  ...   \n",
       "41                                           10.4      5.7     17.2  ...   \n",
       "42                                            5.2     12.6      5.7  ...   \n",
       "43                                            0.2      5.5      1.6  ...   \n",
       "44                                              2        5      1.2  ...   \n",
       "45                                              2      4.5      1.2  ...   \n",
       "46                                              2      4.5      1.1  ...   \n",
       "47                                              2      4.5      1.1  ...   \n",
       "48                                              2      4.5      1.1  ...   \n",
       "\n",
       "Real GDP growth (Annual percent change) Emerging and Developing Europe  \\\n",
       "0                                                                 -0.8   \n",
       "1                                                                 -0.5   \n",
       "2                                                                  1.4   \n",
       "3                                                                  4.6   \n",
       "4                                                                  4.1   \n",
       "5                                                                  2.4   \n",
       "6                                                                  4.4   \n",
       "7                                                                    5   \n",
       "8                                                                  1.6   \n",
       "9                                                                  0.1   \n",
       "10                                                                -0.4   \n",
       "11                                                                -5.7   \n",
       "12                                                                -8.7   \n",
       "13                                                                -4.4   \n",
       "14                                                                -8.4   \n",
       "15                                                                -0.3   \n",
       "16                                                                 0.3   \n",
       "17                                                                 2.7   \n",
       "18                                                                -0.8   \n",
       "19                                                                 2.6   \n",
       "20                                                                 7.5   \n",
       "21                                                                 2.7   \n",
       "22                                                                 4.8   \n",
       "23                                                                 6.2   \n",
       "24                                                                 7.9   \n",
       "25                                                                 6.3   \n",
       "26                                                                 7.4   \n",
       "27                                                                 7.2   \n",
       "28                                                                 4.3   \n",
       "29                                                                -5.7   \n",
       "30                                                                 4.4   \n",
       "31                                                                 6.1   \n",
       "32                                                                 3.2   \n",
       "33                                                                 2.9   \n",
       "34                                                                 1.9   \n",
       "35                                                                   1   \n",
       "36                                                                 1.8   \n",
       "37                                                                 4.2   \n",
       "38                                                                 3.6   \n",
       "39                                                                 2.5   \n",
       "40                                                                -1.6   \n",
       "41                                                                 7.3   \n",
       "42                                                                 0.8   \n",
       "43                                                                 1.2   \n",
       "44                                                                 2.5   \n",
       "45                                                                 2.5   \n",
       "46                                                                 2.4   \n",
       "47                                                                 2.3   \n",
       "48                                                                 2.3   \n",
       "\n",
       "Real GDP growth (Annual percent change) Emerging market and developing economies  \\\n",
       "0                                                                            3.3   \n",
       "1                                                                            1.9   \n",
       "2                                                                            1.5   \n",
       "3                                                                            1.8   \n",
       "4                                                                            4.1   \n",
       "5                                                                            3.5   \n",
       "6                                                                            4.3   \n",
       "7                                                                              4   \n",
       "8                                                                            4.5   \n",
       "9                                                                            3.5   \n",
       "10                                                                           4.1   \n",
       "11                                                                           4.5   \n",
       "12                                                                           2.5   \n",
       "13                                                                             3   \n",
       "14                                                                           3.1   \n",
       "15                                                                             4   \n",
       "16                                                                           5.1   \n",
       "17                                                                           4.7   \n",
       "18                                                                           2.3   \n",
       "19                                                                           3.5   \n",
       "20                                                                           5.7   \n",
       "21                                                                           3.6   \n",
       "22                                                                           4.4   \n",
       "23                                                                           6.9   \n",
       "24                                                                           7.9   \n",
       "25                                                                           7.1   \n",
       "26                                                                           7.9   \n",
       "27                                                                           8.4   \n",
       "28                                                                           5.7   \n",
       "29                                                                           2.8   \n",
       "30                                                                           7.4   \n",
       "31                                                                           6.4   \n",
       "32                                                                           5.4   \n",
       "33                                                                             5   \n",
       "34                                                                           4.7   \n",
       "35                                                                           4.4   \n",
       "36                                                                           4.4   \n",
       "37                                                                           4.7   \n",
       "38                                                                           4.7   \n",
       "39                                                                           3.6   \n",
       "40                                                                          -1.8   \n",
       "41                                                                           6.9   \n",
       "42                                                                             4   \n",
       "43                                                                           3.9   \n",
       "44                                                                           4.2   \n",
       "45                                                                             4   \n",
       "46                                                                             4   \n",
       "47                                                                           3.9   \n",
       "48                                                                           3.9   \n",
       "\n",
       "Real GDP growth (Annual percent change) Euro area European Union  \\\n",
       "0                                         no data            1.8   \n",
       "1                                         no data            0.1   \n",
       "2                                         no data            0.6   \n",
       "3                                         no data            1.7   \n",
       "4                                         no data            2.5   \n",
       "5                                         no data            2.2   \n",
       "6                                         no data            2.7   \n",
       "7                                         no data            2.6   \n",
       "8                                         no data            3.8   \n",
       "9                                         no data            3.6   \n",
       "10                                        no data            2.7   \n",
       "11                                        no data            1.4   \n",
       "12                                            1.4              1   \n",
       "13                                           -0.8           -0.6   \n",
       "14                                            2.5            2.7   \n",
       "15                                            2.9            2.8   \n",
       "16                                            1.6              2   \n",
       "17                                            2.6            2.6   \n",
       "18                                              3              3   \n",
       "19                                            2.9            2.9   \n",
       "20                                            3.8            3.9   \n",
       "21                                            2.2            2.3   \n",
       "22                                            0.9            1.3   \n",
       "23                                            0.7            1.1   \n",
       "24                                            2.3            2.8   \n",
       "25                                            1.7            2.1   \n",
       "26                                            3.2            3.7   \n",
       "27                                              3            3.4   \n",
       "28                                            0.4            0.9   \n",
       "29                                           -4.5           -4.2   \n",
       "30                                            2.1            2.1   \n",
       "31                                            1.7              2   \n",
       "32                                           -0.9           -0.6   \n",
       "33                                           -0.2           -0.1   \n",
       "34                                            1.4            1.7   \n",
       "35                                              2            2.5   \n",
       "36                                            1.9              2   \n",
       "37                                            2.6              3   \n",
       "38                                            1.8            2.3   \n",
       "39                                            1.6              2   \n",
       "40                                           -6.1           -5.6   \n",
       "41                                            5.4            5.6   \n",
       "42                                            3.5            3.7   \n",
       "43                                            0.8            0.7   \n",
       "44                                            1.4            1.6   \n",
       "45                                            1.9            2.2   \n",
       "46                                            1.7              2   \n",
       "47                                            1.5            1.8   \n",
       "48                                            1.4            1.7   \n",
       "\n",
       "Real GDP growth (Annual percent change) Latin America and the Caribbean  \\\n",
       "0                                                                   6.4   \n",
       "1                                                                   0.9   \n",
       "2                                                                  -0.5   \n",
       "3                                                                  -2.8   \n",
       "4                                                                   3.9   \n",
       "5                                                                   3.2   \n",
       "6                                                                   4.3   \n",
       "7                                                                   3.3   \n",
       "8                                                                   1.1   \n",
       "9                                                                   1.1   \n",
       "10                                                                  0.6   \n",
       "11                                                                  3.8   \n",
       "12                                                                  3.3   \n",
       "13                                                                    4   \n",
       "14                                                                  4.7   \n",
       "15                                                                  1.3   \n",
       "16                                                                  3.8   \n",
       "17                                                                  5.3   \n",
       "18                                                                  2.5   \n",
       "19                                                                  0.2   \n",
       "20                                                                  3.7   \n",
       "21                                                                  0.6   \n",
       "22                                                                  0.4   \n",
       "23                                                                    2   \n",
       "24                                                                  6.1   \n",
       "25                                                                  4.4   \n",
       "26                                                                  5.4   \n",
       "27                                                                  5.6   \n",
       "28                                                                    4   \n",
       "29                                                                 -1.9   \n",
       "30                                                                  6.1   \n",
       "31                                                                  4.6   \n",
       "32                                                                    3   \n",
       "33                                                                  2.9   \n",
       "34                                                                  1.4   \n",
       "35                                                                  0.4   \n",
       "36                                                                 -0.6   \n",
       "37                                                                  1.4   \n",
       "38                                                                  1.2   \n",
       "39                                                                  0.2   \n",
       "40                                                                 -6.8   \n",
       "41                                                                    7   \n",
       "42                                                                    4   \n",
       "43                                                                  1.6   \n",
       "44                                                                  2.2   \n",
       "45                                                                  2.3   \n",
       "46                                                                  2.6   \n",
       "47                                                                  2.3   \n",
       "48                                                                  2.3   \n",
       "\n",
       "Real GDP growth (Annual percent change) Major advanced economies (G7)  \\\n",
       "0                                                                 0.9   \n",
       "1                                                                   2   \n",
       "2                                                                -0.1   \n",
       "3                                                                 3.3   \n",
       "4                                                                   5   \n",
       "5                                                                 3.8   \n",
       "6                                                                   3   \n",
       "7                                                                 3.5   \n",
       "8                                                                 4.7   \n",
       "9                                                                 3.8   \n",
       "10                                                                2.8   \n",
       "11                                                                1.2   \n",
       "12                                                                2.1   \n",
       "13                                                                1.1   \n",
       "14                                                                  3   \n",
       "15                                                                2.5   \n",
       "16                                                                2.7   \n",
       "17                                                                3.2   \n",
       "18                                                                2.9   \n",
       "19                                                                3.2   \n",
       "20                                                                3.8   \n",
       "21                                                                1.2   \n",
       "22                                                                1.1   \n",
       "23                                                                1.9   \n",
       "24                                                                2.9   \n",
       "25                                                                2.5   \n",
       "26                                                                2.5   \n",
       "27                                                                2.1   \n",
       "28                                                                  0   \n",
       "29                                                               -3.7   \n",
       "30                                                                2.9   \n",
       "31                                                                1.6   \n",
       "32                                                                1.4   \n",
       "33                                                                1.4   \n",
       "34                                                                1.9   \n",
       "35                                                                2.1   \n",
       "36                                                                1.5   \n",
       "37                                                                2.2   \n",
       "38                                                                2.1   \n",
       "39                                                                1.6   \n",
       "40                                                               -4.5   \n",
       "41                                                                5.3   \n",
       "42                                                                2.3   \n",
       "43                                                                1.1   \n",
       "44                                                                1.1   \n",
       "45                                                                1.7   \n",
       "46                                                                1.8   \n",
       "47                                                                1.7   \n",
       "48                                                                1.6   \n",
       "\n",
       "Real GDP growth (Annual percent change) Middle East and Central Asia  \\\n",
       "0                                                               -1.9   \n",
       "1                                                               -0.2   \n",
       "2                                                                0.4   \n",
       "3                                                                0.7   \n",
       "4                                                                0.3   \n",
       "5                                                                1.2   \n",
       "6                                                                  2   \n",
       "7                                                               -0.1   \n",
       "8                                                                3.3   \n",
       "9                                                                4.3   \n",
       "10                                                               8.7   \n",
       "11                                                               8.5   \n",
       "12                                                               4.9   \n",
       "13                                                               0.2   \n",
       "14                                                               1.4   \n",
       "15                                                               1.7   \n",
       "16                                                               4.5   \n",
       "17                                                                 3   \n",
       "18                                                               3.6   \n",
       "19                                                               2.3   \n",
       "20                                                               5.5   \n",
       "21                                                               2.5   \n",
       "22                                                               3.1   \n",
       "23                                                              10.2   \n",
       "24                                                               8.8   \n",
       "25                                                               5.9   \n",
       "26                                                               6.2   \n",
       "27                                                               5.9   \n",
       "28                                                               4.9   \n",
       "29                                                               1.2   \n",
       "30                                                                 5   \n",
       "31                                                               4.7   \n",
       "32                                                               5.1   \n",
       "33                                                                 3   \n",
       "34                                                               3.4   \n",
       "35                                                                 3   \n",
       "36                                                               4.3   \n",
       "37                                                               2.2   \n",
       "38                                                               2.8   \n",
       "39                                                               1.6   \n",
       "40                                                              -2.7   \n",
       "41                                                               4.6   \n",
       "42                                                               5.3   \n",
       "43                                                               2.9   \n",
       "44                                                               3.5   \n",
       "45                                                               3.6   \n",
       "46                                                               3.6   \n",
       "47                                                               3.7   \n",
       "48                                                               3.7   \n",
       "\n",
       "Real GDP growth (Annual percent change) Other advanced economies  \\\n",
       "0                                                            3.8   \n",
       "1                                                            4.2   \n",
       "2                                                            2.2   \n",
       "3                                                              4   \n",
       "4                                                            6.6   \n",
       "5                                                            4.3   \n",
       "6                                                            5.5   \n",
       "7                                                            6.5   \n",
       "8                                                            5.5   \n",
       "9                                                            4.6   \n",
       "10                                                           4.3   \n",
       "11                                                           3.7   \n",
       "12                                                             4   \n",
       "13                                                           4.2   \n",
       "14                                                           6.2   \n",
       "15                                                           5.3   \n",
       "16                                                           4.9   \n",
       "17                                                           4.7   \n",
       "18                                                             1   \n",
       "19                                                           5.5   \n",
       "20                                                           5.9   \n",
       "21                                                           2.2   \n",
       "22                                                           3.9   \n",
       "23                                                           2.8   \n",
       "24                                                           5.3   \n",
       "25                                                           4.2   \n",
       "26                                                           4.8   \n",
       "27                                                           5.2   \n",
       "28                                                           1.8   \n",
       "29                                                          -0.9   \n",
       "30                                                             6   \n",
       "31                                                           3.4   \n",
       "32                                                           2.2   \n",
       "33                                                           2.5   \n",
       "34                                                             3   \n",
       "35                                                           2.3   \n",
       "36                                                           2.6   \n",
       "37                                                           3.1   \n",
       "38                                                           2.8   \n",
       "39                                                             2   \n",
       "40                                                          -1.6   \n",
       "41                                                           5.4   \n",
       "42                                                           2.6   \n",
       "43                                                           1.8   \n",
       "44                                                           2.2   \n",
       "45                                                           2.3   \n",
       "46                                                           2.3   \n",
       "47                                                           2.2   \n",
       "48                                                           2.3   \n",
       "\n",
       "Real GDP growth (Annual percent change) Sub-Saharan Africa World  \n",
       "0                                                  no data   2.1  \n",
       "1                                                  no data   1.9  \n",
       "2                                                  no data   0.7  \n",
       "3                                                  no data   2.6  \n",
       "4                                                  no data   4.6  \n",
       "5                                                  no data   3.6  \n",
       "6                                                  no data   3.6  \n",
       "7                                                  no data   3.9  \n",
       "8                                                  no data   4.7  \n",
       "9                                                  no data   3.8  \n",
       "10                                                 no data   3.4  \n",
       "11                                                     0.2   2.7  \n",
       "12                                                       0   2.3  \n",
       "13                                                     1.6     2  \n",
       "14                                                     1.8   3.2  \n",
       "15                                                     3.9   3.3  \n",
       "16                                                     4.8   3.9  \n",
       "17                                                     3.5     4  \n",
       "18                                                     2.4   2.6  \n",
       "19                                                     2.4   3.5  \n",
       "20                                                       4   4.8  \n",
       "21                                                     4.6   2.5  \n",
       "22                                                     6.3   2.9  \n",
       "23                                                     4.8   4.3  \n",
       "24                                                     6.9   5.4  \n",
       "25                                                     6.3   4.9  \n",
       "26                                                       6   5.4  \n",
       "27                                                     6.6   5.6  \n",
       "28                                                     5.7   3.1  \n",
       "29                                                     3.6  -0.1  \n",
       "30                                                     6.9   5.4  \n",
       "31                                                       5   4.3  \n",
       "32                                                     4.8   3.5  \n",
       "33                                                     4.9   3.4  \n",
       "34                                                       5   3.5  \n",
       "35                                                     3.2   3.4  \n",
       "36                                                     1.5   3.3  \n",
       "37                                                     2.9   3.8  \n",
       "38                                                     3.2   3.6  \n",
       "39                                                     3.3   2.8  \n",
       "40                                                    -1.7  -2.8  \n",
       "41                                                     4.8   6.3  \n",
       "42                                                     3.9   3.4  \n",
       "43                                                     3.6   2.8  \n",
       "44                                                     4.2     3  \n",
       "45                                                     4.1   3.2  \n",
       "46                                                     4.2   3.2  \n",
       "47                                                     4.3   3.1  \n",
       "48                                                     4.4     3  \n",
       "\n",
       "[49 rows x 229 columns]"
      ]
     },
     "execution_count": 45,
     "metadata": {},
     "output_type": "execute_result"
    }
   ],
   "source": [
    "df_11 = df1.T\n",
    "new_columns = df_11.loc[\"Real GDP growth (Annual percent change)\"]\n",
    "df_11.columns = new_columns\n",
    "df_11 = df_11.iloc[1:]\n",
    "df_11 = df_11.reset_index().rename(columns={\"index\": \"year\"}) \n",
    "# rename index\n",
    "df_11.rename_axis(None)"
   ]
  },
  {
   "cell_type": "code",
   "execution_count": 46,
   "metadata": {},
   "outputs": [
    {
     "data": {
      "text/plain": [
       "Real GDP growth (Annual percent change)\n",
       "year                                0.0\n",
       "Russian Federation                  0.0\n",
       "Saint Kitts and Nevis               0.0\n",
       "Saint Lucia                         0.0\n",
       "Saint Vincent and the Grenadines    0.0\n",
       "                                   ... \n",
       "Iran                                0.0\n",
       "Iraq                                0.0\n",
       "Ireland                             0.0\n",
       "Israel                              0.0\n",
       "World                               0.0\n",
       "Length: 229, dtype: float64"
      ]
     },
     "execution_count": 46,
     "metadata": {},
     "output_type": "execute_result"
    }
   ],
   "source": [
    "check_na = df_11.isnull().sum().sort_values(ascending=False) / df_11.shape[0]\n",
    "check_na"
   ]
  },
  {
   "cell_type": "markdown",
   "metadata": {},
   "source": [
    "## 1.4.2 replace \"no data\" with \"na\""
   ]
  },
  {
   "cell_type": "code",
   "execution_count": 47,
   "metadata": {},
   "outputs": [],
   "source": [
    "df_12 = df_11.copy()"
   ]
  },
  {
   "cell_type": "code",
   "execution_count": 48,
   "metadata": {},
   "outputs": [],
   "source": [
    "# replace \"no data\" with np.na\n",
    "df_12 = df_12.replace('no data', np.nan)"
   ]
  },
  {
   "cell_type": "code",
   "execution_count": 49,
   "metadata": {},
   "outputs": [
    {
     "data": {
      "text/plain": [
       "<Axes: title={'center': 'Missing values (%)'}, ylabel='Real GDP growth (Annual percent change)'>"
      ]
     },
     "execution_count": 49,
     "metadata": {},
     "output_type": "execute_result"
    },
    {
     "data": {
      "image/png": "[encoded data removed]",
      "text/plain": [
       "<Figure size 1200x1600 with 1 Axes>"
      ]
     },
     "metadata": {},
     "output_type": "display_data"
    }
   ],
   "source": [
    "check_na = df_12.isnull().sum().sort_values() #/ df_11.shape[0]\n",
    "# plot\n",
    "check_na[check_na>0].plot(kind='barh', figsize=(12,16), title='Missing values (%)')\n",
    "# check_na"
   ]
  },
  {
   "cell_type": "code",
   "execution_count": 50,
   "metadata": {},
   "outputs": [
    {
     "data": {
      "text/plain": [
       "62"
      ]
     },
     "execution_count": 50,
     "metadata": {},
     "output_type": "execute_result"
    }
   ],
   "source": [
    "len(check_na[check_na>0])"
   ]
  },
  {
   "cell_type": "markdown",
   "metadata": {},
   "source": [
    "Temos um total de 62 entre paises e regiões com valores nulos"
   ]
  },
  {
   "cell_type": "code",
   "execution_count": 51,
   "metadata": {},
   "outputs": [
    {
     "data": {
      "text/html": [
       "<div>\n",
       "<style scoped>\n",
       "    .dataframe tbody tr th:only-of-type {\n",
       "        vertical-align: middle;\n",
       "    }\n",
       "\n",
       "    .dataframe tbody tr th {\n",
       "        vertical-align: top;\n",
       "    }\n",
       "\n",
       "    .dataframe thead th {\n",
       "        text-align: right;\n",
       "    }\n",
       "</style>\n",
       "<table border=\"1\" class=\"dataframe\">\n",
       "  <thead>\n",
       "    <tr style=\"text-align: right;\">\n",
       "      <th></th>\n",
       "      <th>year</th>\n",
       "      <th>Afghanistan</th>\n",
       "      <th>Andorra</th>\n",
       "      <th>Armenia</th>\n",
       "      <th>Aruba</th>\n",
       "      <th>Azerbaijan</th>\n",
       "      <th>Bangladesh</th>\n",
       "      <th>Belarus</th>\n",
       "      <th>Bosnia and Herzegovina</th>\n",
       "      <th>Brunei Darussalam</th>\n",
       "      <th>...</th>\n",
       "      <th>Uzbekistan</th>\n",
       "      <th>Venezuela</th>\n",
       "      <th>West Bank and Gaza</th>\n",
       "      <th>Yemen</th>\n",
       "      <th>Zimbabwe</th>\n",
       "      <th>Africa (Region)</th>\n",
       "      <th>Central Asia and the Caucasus</th>\n",
       "      <th>Sub-Saharan Africa (Region)</th>\n",
       "      <th>Euro area</th>\n",
       "      <th>Sub-Saharan Africa</th>\n",
       "    </tr>\n",
       "  </thead>\n",
       "  <tbody>\n",
       "    <tr>\n",
       "      <th>0</th>\n",
       "      <td>1980</td>\n",
       "      <td>NaN</td>\n",
       "      <td>NaN</td>\n",
       "      <td>NaN</td>\n",
       "      <td>NaN</td>\n",
       "      <td>NaN</td>\n",
       "      <td>NaN</td>\n",
       "      <td>NaN</td>\n",
       "      <td>NaN</td>\n",
       "      <td>NaN</td>\n",
       "      <td>...</td>\n",
       "      <td>NaN</td>\n",
       "      <td>-4.9</td>\n",
       "      <td>NaN</td>\n",
       "      <td>NaN</td>\n",
       "      <td>NaN</td>\n",
       "      <td>NaN</td>\n",
       "      <td>NaN</td>\n",
       "      <td>NaN</td>\n",
       "      <td>NaN</td>\n",
       "      <td>NaN</td>\n",
       "    </tr>\n",
       "    <tr>\n",
       "      <th>1</th>\n",
       "      <td>1981</td>\n",
       "      <td>NaN</td>\n",
       "      <td>NaN</td>\n",
       "      <td>NaN</td>\n",
       "      <td>NaN</td>\n",
       "      <td>NaN</td>\n",
       "      <td>3.8</td>\n",
       "      <td>NaN</td>\n",
       "      <td>NaN</td>\n",
       "      <td>NaN</td>\n",
       "      <td>...</td>\n",
       "      <td>NaN</td>\n",
       "      <td>-1.3</td>\n",
       "      <td>NaN</td>\n",
       "      <td>NaN</td>\n",
       "      <td>NaN</td>\n",
       "      <td>NaN</td>\n",
       "      <td>NaN</td>\n",
       "      <td>NaN</td>\n",
       "      <td>NaN</td>\n",
       "      <td>NaN</td>\n",
       "    </tr>\n",
       "    <tr>\n",
       "      <th>2</th>\n",
       "      <td>1982</td>\n",
       "      <td>NaN</td>\n",
       "      <td>NaN</td>\n",
       "      <td>NaN</td>\n",
       "      <td>NaN</td>\n",
       "      <td>NaN</td>\n",
       "      <td>2.4</td>\n",
       "      <td>4.0</td>\n",
       "      <td>NaN</td>\n",
       "      <td>NaN</td>\n",
       "      <td>...</td>\n",
       "      <td>NaN</td>\n",
       "      <td>2.6</td>\n",
       "      <td>NaN</td>\n",
       "      <td>NaN</td>\n",
       "      <td>NaN</td>\n",
       "      <td>NaN</td>\n",
       "      <td>NaN</td>\n",
       "      <td>NaN</td>\n",
       "      <td>NaN</td>\n",
       "      <td>NaN</td>\n",
       "    </tr>\n",
       "    <tr>\n",
       "      <th>3</th>\n",
       "      <td>1983</td>\n",
       "      <td>NaN</td>\n",
       "      <td>NaN</td>\n",
       "      <td>NaN</td>\n",
       "      <td>NaN</td>\n",
       "      <td>NaN</td>\n",
       "      <td>4.0</td>\n",
       "      <td>4.3</td>\n",
       "      <td>NaN</td>\n",
       "      <td>NaN</td>\n",
       "      <td>...</td>\n",
       "      <td>NaN</td>\n",
       "      <td>-9.9</td>\n",
       "      <td>NaN</td>\n",
       "      <td>NaN</td>\n",
       "      <td>NaN</td>\n",
       "      <td>NaN</td>\n",
       "      <td>NaN</td>\n",
       "      <td>NaN</td>\n",
       "      <td>NaN</td>\n",
       "      <td>NaN</td>\n",
       "    </tr>\n",
       "    <tr>\n",
       "      <th>4</th>\n",
       "      <td>1984</td>\n",
       "      <td>NaN</td>\n",
       "      <td>NaN</td>\n",
       "      <td>NaN</td>\n",
       "      <td>NaN</td>\n",
       "      <td>NaN</td>\n",
       "      <td>5.2</td>\n",
       "      <td>3.0</td>\n",
       "      <td>NaN</td>\n",
       "      <td>NaN</td>\n",
       "      <td>...</td>\n",
       "      <td>NaN</td>\n",
       "      <td>5.2</td>\n",
       "      <td>NaN</td>\n",
       "      <td>NaN</td>\n",
       "      <td>NaN</td>\n",
       "      <td>NaN</td>\n",
       "      <td>NaN</td>\n",
       "      <td>NaN</td>\n",
       "      <td>NaN</td>\n",
       "      <td>NaN</td>\n",
       "    </tr>\n",
       "    <tr>\n",
       "      <th>5</th>\n",
       "      <td>1985</td>\n",
       "      <td>NaN</td>\n",
       "      <td>NaN</td>\n",
       "      <td>NaN</td>\n",
       "      <td>NaN</td>\n",
       "      <td>NaN</td>\n",
       "      <td>3.2</td>\n",
       "      <td>1.7</td>\n",
       "      <td>NaN</td>\n",
       "      <td>NaN</td>\n",
       "      <td>...</td>\n",
       "      <td>NaN</td>\n",
       "      <td>0.9</td>\n",
       "      <td>NaN</td>\n",
       "      <td>NaN</td>\n",
       "      <td>NaN</td>\n",
       "      <td>NaN</td>\n",
       "      <td>NaN</td>\n",
       "      <td>NaN</td>\n",
       "      <td>NaN</td>\n",
       "      <td>NaN</td>\n",
       "    </tr>\n",
       "    <tr>\n",
       "      <th>6</th>\n",
       "      <td>1986</td>\n",
       "      <td>NaN</td>\n",
       "      <td>NaN</td>\n",
       "      <td>NaN</td>\n",
       "      <td>NaN</td>\n",
       "      <td>NaN</td>\n",
       "      <td>4.2</td>\n",
       "      <td>3.6</td>\n",
       "      <td>NaN</td>\n",
       "      <td>-2.7</td>\n",
       "      <td>...</td>\n",
       "      <td>NaN</td>\n",
       "      <td>6.1</td>\n",
       "      <td>NaN</td>\n",
       "      <td>NaN</td>\n",
       "      <td>NaN</td>\n",
       "      <td>NaN</td>\n",
       "      <td>NaN</td>\n",
       "      <td>NaN</td>\n",
       "      <td>NaN</td>\n",
       "      <td>NaN</td>\n",
       "    </tr>\n",
       "    <tr>\n",
       "      <th>7</th>\n",
       "      <td>1987</td>\n",
       "      <td>NaN</td>\n",
       "      <td>NaN</td>\n",
       "      <td>NaN</td>\n",
       "      <td>16.1</td>\n",
       "      <td>NaN</td>\n",
       "      <td>3.7</td>\n",
       "      <td>2.8</td>\n",
       "      <td>NaN</td>\n",
       "      <td>2.0</td>\n",
       "      <td>...</td>\n",
       "      <td>NaN</td>\n",
       "      <td>4.8</td>\n",
       "      <td>NaN</td>\n",
       "      <td>NaN</td>\n",
       "      <td>NaN</td>\n",
       "      <td>NaN</td>\n",
       "      <td>NaN</td>\n",
       "      <td>NaN</td>\n",
       "      <td>NaN</td>\n",
       "      <td>NaN</td>\n",
       "    </tr>\n",
       "    <tr>\n",
       "      <th>8</th>\n",
       "      <td>1988</td>\n",
       "      <td>NaN</td>\n",
       "      <td>NaN</td>\n",
       "      <td>NaN</td>\n",
       "      <td>18.6</td>\n",
       "      <td>NaN</td>\n",
       "      <td>2.2</td>\n",
       "      <td>5.3</td>\n",
       "      <td>NaN</td>\n",
       "      <td>1.1</td>\n",
       "      <td>...</td>\n",
       "      <td>NaN</td>\n",
       "      <td>6.5</td>\n",
       "      <td>NaN</td>\n",
       "      <td>NaN</td>\n",
       "      <td>NaN</td>\n",
       "      <td>NaN</td>\n",
       "      <td>NaN</td>\n",
       "      <td>NaN</td>\n",
       "      <td>NaN</td>\n",
       "      <td>NaN</td>\n",
       "    </tr>\n",
       "    <tr>\n",
       "      <th>9</th>\n",
       "      <td>1989</td>\n",
       "      <td>NaN</td>\n",
       "      <td>NaN</td>\n",
       "      <td>NaN</td>\n",
       "      <td>12.1</td>\n",
       "      <td>NaN</td>\n",
       "      <td>2.6</td>\n",
       "      <td>3.0</td>\n",
       "      <td>NaN</td>\n",
       "      <td>-1.1</td>\n",
       "      <td>...</td>\n",
       "      <td>NaN</td>\n",
       "      <td>-13.9</td>\n",
       "      <td>NaN</td>\n",
       "      <td>NaN</td>\n",
       "      <td>NaN</td>\n",
       "      <td>NaN</td>\n",
       "      <td>NaN</td>\n",
       "      <td>NaN</td>\n",
       "      <td>NaN</td>\n",
       "      <td>NaN</td>\n",
       "    </tr>\n",
       "    <tr>\n",
       "      <th>10</th>\n",
       "      <td>1990</td>\n",
       "      <td>NaN</td>\n",
       "      <td>NaN</td>\n",
       "      <td>NaN</td>\n",
       "      <td>4.0</td>\n",
       "      <td>NaN</td>\n",
       "      <td>5.9</td>\n",
       "      <td>-2.3</td>\n",
       "      <td>NaN</td>\n",
       "      <td>1.1</td>\n",
       "      <td>...</td>\n",
       "      <td>NaN</td>\n",
       "      <td>6.5</td>\n",
       "      <td>NaN</td>\n",
       "      <td>NaN</td>\n",
       "      <td>NaN</td>\n",
       "      <td>NaN</td>\n",
       "      <td>NaN</td>\n",
       "      <td>NaN</td>\n",
       "      <td>NaN</td>\n",
       "      <td>NaN</td>\n",
       "    </tr>\n",
       "    <tr>\n",
       "      <th>11</th>\n",
       "      <td>1991</td>\n",
       "      <td>NaN</td>\n",
       "      <td>NaN</td>\n",
       "      <td>NaN</td>\n",
       "      <td>8.0</td>\n",
       "      <td>NaN</td>\n",
       "      <td>3.3</td>\n",
       "      <td>-1.2</td>\n",
       "      <td>NaN</td>\n",
       "      <td>3.1</td>\n",
       "      <td>...</td>\n",
       "      <td>NaN</td>\n",
       "      <td>9.7</td>\n",
       "      <td>NaN</td>\n",
       "      <td>6.3</td>\n",
       "      <td>NaN</td>\n",
       "      <td>2.3</td>\n",
       "      <td>NaN</td>\n",
       "      <td>0.5</td>\n",
       "      <td>NaN</td>\n",
       "      <td>0.2</td>\n",
       "    </tr>\n",
       "    <tr>\n",
       "      <th>12</th>\n",
       "      <td>1992</td>\n",
       "      <td>NaN</td>\n",
       "      <td>NaN</td>\n",
       "      <td>NaN</td>\n",
       "      <td>5.9</td>\n",
       "      <td>NaN</td>\n",
       "      <td>5.0</td>\n",
       "      <td>-9.6</td>\n",
       "      <td>NaN</td>\n",
       "      <td>4.8</td>\n",
       "      <td>...</td>\n",
       "      <td>-11.1</td>\n",
       "      <td>6.1</td>\n",
       "      <td>NaN</td>\n",
       "      <td>8.2</td>\n",
       "      <td>NaN</td>\n",
       "      <td>0.1</td>\n",
       "      <td>NaN</td>\n",
       "      <td>0.3</td>\n",
       "      <td>1.4</td>\n",
       "      <td>0.0</td>\n",
       "    </tr>\n",
       "    <tr>\n",
       "      <th>13</th>\n",
       "      <td>1993</td>\n",
       "      <td>NaN</td>\n",
       "      <td>NaN</td>\n",
       "      <td>-14.1</td>\n",
       "      <td>7.3</td>\n",
       "      <td>-23.1</td>\n",
       "      <td>4.6</td>\n",
       "      <td>-7.6</td>\n",
       "      <td>NaN</td>\n",
       "      <td>0.3</td>\n",
       "      <td>...</td>\n",
       "      <td>-2.3</td>\n",
       "      <td>0.3</td>\n",
       "      <td>NaN</td>\n",
       "      <td>4.0</td>\n",
       "      <td>NaN</td>\n",
       "      <td>0.9</td>\n",
       "      <td>2.1</td>\n",
       "      <td>1.7</td>\n",
       "      <td>-0.8</td>\n",
       "      <td>1.6</td>\n",
       "    </tr>\n",
       "    <tr>\n",
       "      <th>14</th>\n",
       "      <td>1994</td>\n",
       "      <td>NaN</td>\n",
       "      <td>NaN</td>\n",
       "      <td>5.4</td>\n",
       "      <td>8.2</td>\n",
       "      <td>-19.7</td>\n",
       "      <td>4.1</td>\n",
       "      <td>-11.7</td>\n",
       "      <td>NaN</td>\n",
       "      <td>3.1</td>\n",
       "      <td>...</td>\n",
       "      <td>-5.2</td>\n",
       "      <td>-2.3</td>\n",
       "      <td>NaN</td>\n",
       "      <td>6.7</td>\n",
       "      <td>NaN</td>\n",
       "      <td>2.5</td>\n",
       "      <td>-7.4</td>\n",
       "      <td>1.9</td>\n",
       "      <td>2.5</td>\n",
       "      <td>1.8</td>\n",
       "    </tr>\n",
       "    <tr>\n",
       "      <th>15</th>\n",
       "      <td>1995</td>\n",
       "      <td>NaN</td>\n",
       "      <td>NaN</td>\n",
       "      <td>8.0</td>\n",
       "      <td>2.5</td>\n",
       "      <td>-13.0</td>\n",
       "      <td>4.9</td>\n",
       "      <td>-11.1</td>\n",
       "      <td>20.7</td>\n",
       "      <td>4.5</td>\n",
       "      <td>...</td>\n",
       "      <td>-0.9</td>\n",
       "      <td>4.0</td>\n",
       "      <td>7.1</td>\n",
       "      <td>5.7</td>\n",
       "      <td>NaN</td>\n",
       "      <td>2.6</td>\n",
       "      <td>3.6</td>\n",
       "      <td>4.2</td>\n",
       "      <td>2.9</td>\n",
       "      <td>3.9</td>\n",
       "    </tr>\n",
       "    <tr>\n",
       "      <th>16</th>\n",
       "      <td>1996</td>\n",
       "      <td>NaN</td>\n",
       "      <td>NaN</td>\n",
       "      <td>5.2</td>\n",
       "      <td>1.3</td>\n",
       "      <td>2.5</td>\n",
       "      <td>4.6</td>\n",
       "      <td>2.8</td>\n",
       "      <td>62.2</td>\n",
       "      <td>2.9</td>\n",
       "      <td>...</td>\n",
       "      <td>1.7</td>\n",
       "      <td>-0.2</td>\n",
       "      <td>1.2</td>\n",
       "      <td>4.6</td>\n",
       "      <td>NaN</td>\n",
       "      <td>5.0</td>\n",
       "      <td>5.5</td>\n",
       "      <td>4.8</td>\n",
       "      <td>1.6</td>\n",
       "      <td>4.8</td>\n",
       "    </tr>\n",
       "    <tr>\n",
       "      <th>17</th>\n",
       "      <td>1997</td>\n",
       "      <td>NaN</td>\n",
       "      <td>NaN</td>\n",
       "      <td>3.4</td>\n",
       "      <td>7.0</td>\n",
       "      <td>8.9</td>\n",
       "      <td>4.5</td>\n",
       "      <td>11.4</td>\n",
       "      <td>22.9</td>\n",
       "      <td>-1.5</td>\n",
       "      <td>...</td>\n",
       "      <td>5.2</td>\n",
       "      <td>6.4</td>\n",
       "      <td>14.7</td>\n",
       "      <td>5.2</td>\n",
       "      <td>NaN</td>\n",
       "      <td>3.2</td>\n",
       "      <td>6.5</td>\n",
       "      <td>3.6</td>\n",
       "      <td>2.6</td>\n",
       "      <td>3.5</td>\n",
       "    </tr>\n",
       "    <tr>\n",
       "      <th>18</th>\n",
       "      <td>1998</td>\n",
       "      <td>NaN</td>\n",
       "      <td>NaN</td>\n",
       "      <td>6.3</td>\n",
       "      <td>2.0</td>\n",
       "      <td>6.0</td>\n",
       "      <td>5.2</td>\n",
       "      <td>8.4</td>\n",
       "      <td>13.8</td>\n",
       "      <td>-0.6</td>\n",
       "      <td>...</td>\n",
       "      <td>4.3</td>\n",
       "      <td>0.3</td>\n",
       "      <td>14.3</td>\n",
       "      <td>6.0</td>\n",
       "      <td>NaN</td>\n",
       "      <td>4.0</td>\n",
       "      <td>2.8</td>\n",
       "      <td>2.8</td>\n",
       "      <td>3.0</td>\n",
       "      <td>2.4</td>\n",
       "    </tr>\n",
       "    <tr>\n",
       "      <th>19</th>\n",
       "      <td>1999</td>\n",
       "      <td>NaN</td>\n",
       "      <td>NaN</td>\n",
       "      <td>3.2</td>\n",
       "      <td>1.4</td>\n",
       "      <td>11.4</td>\n",
       "      <td>4.7</td>\n",
       "      <td>3.4</td>\n",
       "      <td>10.7</td>\n",
       "      <td>3.1</td>\n",
       "      <td>...</td>\n",
       "      <td>4.3</td>\n",
       "      <td>-6.0</td>\n",
       "      <td>8.3</td>\n",
       "      <td>3.8</td>\n",
       "      <td>-1.1</td>\n",
       "      <td>3.1</td>\n",
       "      <td>-1.0</td>\n",
       "      <td>2.5</td>\n",
       "      <td>2.9</td>\n",
       "      <td>2.4</td>\n",
       "    </tr>\n",
       "    <tr>\n",
       "      <th>20</th>\n",
       "      <td>2000</td>\n",
       "      <td>NaN</td>\n",
       "      <td>NaN</td>\n",
       "      <td>5.9</td>\n",
       "      <td>7.7</td>\n",
       "      <td>6.2</td>\n",
       "      <td>5.3</td>\n",
       "      <td>5.8</td>\n",
       "      <td>4.4</td>\n",
       "      <td>2.9</td>\n",
       "      <td>...</td>\n",
       "      <td>3.8</td>\n",
       "      <td>3.7</td>\n",
       "      <td>-8.6</td>\n",
       "      <td>6.2</td>\n",
       "      <td>-4.2</td>\n",
       "      <td>4.3</td>\n",
       "      <td>7.2</td>\n",
       "      <td>4.2</td>\n",
       "      <td>3.8</td>\n",
       "      <td>4.0</td>\n",
       "    </tr>\n",
       "    <tr>\n",
       "      <th>21</th>\n",
       "      <td>2001</td>\n",
       "      <td>NaN</td>\n",
       "      <td>8.1</td>\n",
       "      <td>9.5</td>\n",
       "      <td>4.2</td>\n",
       "      <td>6.5</td>\n",
       "      <td>5.1</td>\n",
       "      <td>4.7</td>\n",
       "      <td>2.4</td>\n",
       "      <td>2.7</td>\n",
       "      <td>...</td>\n",
       "      <td>4.2</td>\n",
       "      <td>3.4</td>\n",
       "      <td>-9.3</td>\n",
       "      <td>3.8</td>\n",
       "      <td>-0.5</td>\n",
       "      <td>4.5</td>\n",
       "      <td>-0.9</td>\n",
       "      <td>5.0</td>\n",
       "      <td>2.2</td>\n",
       "      <td>4.6</td>\n",
       "    </tr>\n",
       "    <tr>\n",
       "      <th>22</th>\n",
       "      <td>2002</td>\n",
       "      <td>NaN</td>\n",
       "      <td>4.5</td>\n",
       "      <td>14.8</td>\n",
       "      <td>-0.9</td>\n",
       "      <td>9.4</td>\n",
       "      <td>3.8</td>\n",
       "      <td>5.0</td>\n",
       "      <td>5.1</td>\n",
       "      <td>3.9</td>\n",
       "      <td>...</td>\n",
       "      <td>4.0</td>\n",
       "      <td>-8.9</td>\n",
       "      <td>-12.5</td>\n",
       "      <td>3.9</td>\n",
       "      <td>-7.7</td>\n",
       "      <td>4.9</td>\n",
       "      <td>7.1</td>\n",
       "      <td>6.2</td>\n",
       "      <td>0.9</td>\n",
       "      <td>6.3</td>\n",
       "    </tr>\n",
       "    <tr>\n",
       "      <th>23</th>\n",
       "      <td>2003</td>\n",
       "      <td>8.7</td>\n",
       "      <td>8.7</td>\n",
       "      <td>14.1</td>\n",
       "      <td>1.1</td>\n",
       "      <td>10.2</td>\n",
       "      <td>4.7</td>\n",
       "      <td>7.0</td>\n",
       "      <td>3.9</td>\n",
       "      <td>2.9</td>\n",
       "      <td>...</td>\n",
       "      <td>4.2</td>\n",
       "      <td>-7.8</td>\n",
       "      <td>14.0</td>\n",
       "      <td>3.7</td>\n",
       "      <td>-16.2</td>\n",
       "      <td>5.5</td>\n",
       "      <td>6.9</td>\n",
       "      <td>4.9</td>\n",
       "      <td>0.7</td>\n",
       "      <td>4.8</td>\n",
       "    </tr>\n",
       "    <tr>\n",
       "      <th>24</th>\n",
       "      <td>2004</td>\n",
       "      <td>0.7</td>\n",
       "      <td>8.1</td>\n",
       "      <td>10.5</td>\n",
       "      <td>7.3</td>\n",
       "      <td>9.3</td>\n",
       "      <td>5.2</td>\n",
       "      <td>11.4</td>\n",
       "      <td>6.3</td>\n",
       "      <td>0.5</td>\n",
       "      <td>...</td>\n",
       "      <td>7.4</td>\n",
       "      <td>18.3</td>\n",
       "      <td>21.9</td>\n",
       "      <td>4.0</td>\n",
       "      <td>-6.3</td>\n",
       "      <td>5.9</td>\n",
       "      <td>9.5</td>\n",
       "      <td>6.7</td>\n",
       "      <td>2.3</td>\n",
       "      <td>6.9</td>\n",
       "    </tr>\n",
       "    <tr>\n",
       "      <th>25</th>\n",
       "      <td>2005</td>\n",
       "      <td>11.8</td>\n",
       "      <td>5.4</td>\n",
       "      <td>14.1</td>\n",
       "      <td>-0.4</td>\n",
       "      <td>28.0</td>\n",
       "      <td>6.5</td>\n",
       "      <td>9.5</td>\n",
       "      <td>4.2</td>\n",
       "      <td>0.4</td>\n",
       "      <td>...</td>\n",
       "      <td>7.0</td>\n",
       "      <td>10.3</td>\n",
       "      <td>11.3</td>\n",
       "      <td>5.6</td>\n",
       "      <td>-7.4</td>\n",
       "      <td>5.9</td>\n",
       "      <td>9.8</td>\n",
       "      <td>6.2</td>\n",
       "      <td>1.7</td>\n",
       "      <td>6.3</td>\n",
       "    </tr>\n",
       "    <tr>\n",
       "      <th>26</th>\n",
       "      <td>2006</td>\n",
       "      <td>5.4</td>\n",
       "      <td>4.8</td>\n",
       "      <td>13.2</td>\n",
       "      <td>1.1</td>\n",
       "      <td>34.5</td>\n",
       "      <td>6.7</td>\n",
       "      <td>10.0</td>\n",
       "      <td>5.7</td>\n",
       "      <td>4.4</td>\n",
       "      <td>...</td>\n",
       "      <td>7.5</td>\n",
       "      <td>9.9</td>\n",
       "      <td>-1.0</td>\n",
       "      <td>3.2</td>\n",
       "      <td>-3.6</td>\n",
       "      <td>5.5</td>\n",
       "      <td>9.0</td>\n",
       "      <td>6.1</td>\n",
       "      <td>3.2</td>\n",
       "      <td>6.0</td>\n",
       "    </tr>\n",
       "    <tr>\n",
       "      <th>27</th>\n",
       "      <td>2007</td>\n",
       "      <td>13.3</td>\n",
       "      <td>1.6</td>\n",
       "      <td>13.7</td>\n",
       "      <td>3.1</td>\n",
       "      <td>25.5</td>\n",
       "      <td>7.1</td>\n",
       "      <td>8.6</td>\n",
       "      <td>6.0</td>\n",
       "      <td>0.2</td>\n",
       "      <td>...</td>\n",
       "      <td>9.5</td>\n",
       "      <td>8.8</td>\n",
       "      <td>3.8</td>\n",
       "      <td>3.3</td>\n",
       "      <td>-3.4</td>\n",
       "      <td>6.1</td>\n",
       "      <td>7.6</td>\n",
       "      <td>6.5</td>\n",
       "      <td>3.0</td>\n",
       "      <td>6.6</td>\n",
       "    </tr>\n",
       "    <tr>\n",
       "      <th>28</th>\n",
       "      <td>2008</td>\n",
       "      <td>3.9</td>\n",
       "      <td>-5.6</td>\n",
       "      <td>6.9</td>\n",
       "      <td>1.8</td>\n",
       "      <td>10.6</td>\n",
       "      <td>6.0</td>\n",
       "      <td>10.2</td>\n",
       "      <td>5.6</td>\n",
       "      <td>-1.9</td>\n",
       "      <td>...</td>\n",
       "      <td>9.0</td>\n",
       "      <td>5.3</td>\n",
       "      <td>7.4</td>\n",
       "      <td>3.6</td>\n",
       "      <td>-16.3</td>\n",
       "      <td>5.2</td>\n",
       "      <td>3.0</td>\n",
       "      <td>5.5</td>\n",
       "      <td>0.4</td>\n",
       "      <td>5.7</td>\n",
       "    </tr>\n",
       "    <tr>\n",
       "      <th>29</th>\n",
       "      <td>2009</td>\n",
       "      <td>20.6</td>\n",
       "      <td>-5.3</td>\n",
       "      <td>-14.1</td>\n",
       "      <td>-11.7</td>\n",
       "      <td>9.4</td>\n",
       "      <td>5.0</td>\n",
       "      <td>0.2</td>\n",
       "      <td>-0.8</td>\n",
       "      <td>-1.8</td>\n",
       "      <td>...</td>\n",
       "      <td>8.1</td>\n",
       "      <td>-3.2</td>\n",
       "      <td>8.6</td>\n",
       "      <td>3.9</td>\n",
       "      <td>7.4</td>\n",
       "      <td>3.0</td>\n",
       "      <td>-1.0</td>\n",
       "      <td>3.2</td>\n",
       "      <td>-4.5</td>\n",
       "      <td>3.6</td>\n",
       "    </tr>\n",
       "    <tr>\n",
       "      <th>30</th>\n",
       "      <td>2010</td>\n",
       "      <td>8.4</td>\n",
       "      <td>-2.0</td>\n",
       "      <td>2.2</td>\n",
       "      <td>-2.7</td>\n",
       "      <td>4.8</td>\n",
       "      <td>5.6</td>\n",
       "      <td>7.8</td>\n",
       "      <td>0.8</td>\n",
       "      <td>2.6</td>\n",
       "      <td>...</td>\n",
       "      <td>7.1</td>\n",
       "      <td>-1.5</td>\n",
       "      <td>5.8</td>\n",
       "      <td>7.7</td>\n",
       "      <td>19.7</td>\n",
       "      <td>5.9</td>\n",
       "      <td>8.0</td>\n",
       "      <td>6.7</td>\n",
       "      <td>2.1</td>\n",
       "      <td>6.9</td>\n",
       "    </tr>\n",
       "    <tr>\n",
       "      <th>31</th>\n",
       "      <td>2011</td>\n",
       "      <td>6.5</td>\n",
       "      <td>0.0</td>\n",
       "      <td>4.7</td>\n",
       "      <td>3.4</td>\n",
       "      <td>-1.6</td>\n",
       "      <td>6.5</td>\n",
       "      <td>5.3</td>\n",
       "      <td>0.9</td>\n",
       "      <td>3.7</td>\n",
       "      <td>...</td>\n",
       "      <td>7.5</td>\n",
       "      <td>4.2</td>\n",
       "      <td>9.6</td>\n",
       "      <td>-12.7</td>\n",
       "      <td>14.2</td>\n",
       "      <td>2.7</td>\n",
       "      <td>9.4</td>\n",
       "      <td>4.5</td>\n",
       "      <td>1.7</td>\n",
       "      <td>5.0</td>\n",
       "    </tr>\n",
       "    <tr>\n",
       "      <th>32</th>\n",
       "      <td>2012</td>\n",
       "      <td>14.0</td>\n",
       "      <td>-5.0</td>\n",
       "      <td>7.1</td>\n",
       "      <td>-1.0</td>\n",
       "      <td>2.2</td>\n",
       "      <td>6.5</td>\n",
       "      <td>1.6</td>\n",
       "      <td>-0.7</td>\n",
       "      <td>0.9</td>\n",
       "      <td>...</td>\n",
       "      <td>7.1</td>\n",
       "      <td>5.6</td>\n",
       "      <td>6.1</td>\n",
       "      <td>2.4</td>\n",
       "      <td>16.7</td>\n",
       "      <td>6.2</td>\n",
       "      <td>5.1</td>\n",
       "      <td>3.9</td>\n",
       "      <td>-0.9</td>\n",
       "      <td>4.8</td>\n",
       "    </tr>\n",
       "    <tr>\n",
       "      <th>33</th>\n",
       "      <td>2013</td>\n",
       "      <td>5.7</td>\n",
       "      <td>-3.5</td>\n",
       "      <td>3.4</td>\n",
       "      <td>6.4</td>\n",
       "      <td>5.8</td>\n",
       "      <td>6.0</td>\n",
       "      <td>1.0</td>\n",
       "      <td>2.4</td>\n",
       "      <td>-2.1</td>\n",
       "      <td>...</td>\n",
       "      <td>7.3</td>\n",
       "      <td>1.3</td>\n",
       "      <td>4.7</td>\n",
       "      <td>4.8</td>\n",
       "      <td>2.0</td>\n",
       "      <td>3.7</td>\n",
       "      <td>7.4</td>\n",
       "      <td>4.8</td>\n",
       "      <td>-0.2</td>\n",
       "      <td>4.9</td>\n",
       "    </tr>\n",
       "    <tr>\n",
       "      <th>34</th>\n",
       "      <td>2014</td>\n",
       "      <td>2.7</td>\n",
       "      <td>2.5</td>\n",
       "      <td>3.6</td>\n",
       "      <td>0.0</td>\n",
       "      <td>2.8</td>\n",
       "      <td>6.1</td>\n",
       "      <td>1.7</td>\n",
       "      <td>1.1</td>\n",
       "      <td>-2.5</td>\n",
       "      <td>...</td>\n",
       "      <td>6.9</td>\n",
       "      <td>-3.9</td>\n",
       "      <td>-0.2</td>\n",
       "      <td>-0.2</td>\n",
       "      <td>2.4</td>\n",
       "      <td>3.8</td>\n",
       "      <td>4.8</td>\n",
       "      <td>4.9</td>\n",
       "      <td>1.4</td>\n",
       "      <td>5.0</td>\n",
       "    </tr>\n",
       "    <tr>\n",
       "      <th>35</th>\n",
       "      <td>2015</td>\n",
       "      <td>1.0</td>\n",
       "      <td>1.4</td>\n",
       "      <td>3.3</td>\n",
       "      <td>3.6</td>\n",
       "      <td>1.0</td>\n",
       "      <td>6.6</td>\n",
       "      <td>-3.8</td>\n",
       "      <td>4.3</td>\n",
       "      <td>-0.4</td>\n",
       "      <td>...</td>\n",
       "      <td>7.2</td>\n",
       "      <td>-6.2</td>\n",
       "      <td>3.7</td>\n",
       "      <td>-28.0</td>\n",
       "      <td>1.8</td>\n",
       "      <td>3.4</td>\n",
       "      <td>4.9</td>\n",
       "      <td>3.3</td>\n",
       "      <td>2.0</td>\n",
       "      <td>3.2</td>\n",
       "    </tr>\n",
       "    <tr>\n",
       "      <th>36</th>\n",
       "      <td>2016</td>\n",
       "      <td>2.2</td>\n",
       "      <td>3.7</td>\n",
       "      <td>0.2</td>\n",
       "      <td>2.1</td>\n",
       "      <td>-3.1</td>\n",
       "      <td>7.1</td>\n",
       "      <td>-2.5</td>\n",
       "      <td>3.2</td>\n",
       "      <td>-2.5</td>\n",
       "      <td>...</td>\n",
       "      <td>5.9</td>\n",
       "      <td>-17.0</td>\n",
       "      <td>8.9</td>\n",
       "      <td>-9.4</td>\n",
       "      <td>0.5</td>\n",
       "      <td>2.2</td>\n",
       "      <td>2.8</td>\n",
       "      <td>1.6</td>\n",
       "      <td>1.9</td>\n",
       "      <td>1.5</td>\n",
       "    </tr>\n",
       "    <tr>\n",
       "      <th>37</th>\n",
       "      <td>2017</td>\n",
       "      <td>2.6</td>\n",
       "      <td>0.3</td>\n",
       "      <td>7.5</td>\n",
       "      <td>5.5</td>\n",
       "      <td>0.2</td>\n",
       "      <td>6.6</td>\n",
       "      <td>2.5</td>\n",
       "      <td>3.2</td>\n",
       "      <td>1.3</td>\n",
       "      <td>...</td>\n",
       "      <td>4.4</td>\n",
       "      <td>-15.7</td>\n",
       "      <td>1.4</td>\n",
       "      <td>-5.1</td>\n",
       "      <td>5.0</td>\n",
       "      <td>3.5</td>\n",
       "      <td>6.3</td>\n",
       "      <td>2.9</td>\n",
       "      <td>2.6</td>\n",
       "      <td>2.9</td>\n",
       "    </tr>\n",
       "    <tr>\n",
       "      <th>38</th>\n",
       "      <td>2018</td>\n",
       "      <td>1.2</td>\n",
       "      <td>1.6</td>\n",
       "      <td>5.2</td>\n",
       "      <td>5.3</td>\n",
       "      <td>1.5</td>\n",
       "      <td>7.3</td>\n",
       "      <td>3.1</td>\n",
       "      <td>3.8</td>\n",
       "      <td>0.1</td>\n",
       "      <td>...</td>\n",
       "      <td>5.9</td>\n",
       "      <td>-19.7</td>\n",
       "      <td>1.2</td>\n",
       "      <td>0.8</td>\n",
       "      <td>4.7</td>\n",
       "      <td>3.4</td>\n",
       "      <td>3.3</td>\n",
       "      <td>3.0</td>\n",
       "      <td>1.8</td>\n",
       "      <td>3.2</td>\n",
       "    </tr>\n",
       "    <tr>\n",
       "      <th>39</th>\n",
       "      <td>2019</td>\n",
       "      <td>3.9</td>\n",
       "      <td>2.0</td>\n",
       "      <td>7.6</td>\n",
       "      <td>0.6</td>\n",
       "      <td>2.5</td>\n",
       "      <td>7.9</td>\n",
       "      <td>1.4</td>\n",
       "      <td>2.9</td>\n",
       "      <td>3.9</td>\n",
       "      <td>...</td>\n",
       "      <td>6.0</td>\n",
       "      <td>-27.7</td>\n",
       "      <td>1.4</td>\n",
       "      <td>1.4</td>\n",
       "      <td>-6.1</td>\n",
       "      <td>3.0</td>\n",
       "      <td>1.9</td>\n",
       "      <td>3.0</td>\n",
       "      <td>1.6</td>\n",
       "      <td>3.3</td>\n",
       "    </tr>\n",
       "    <tr>\n",
       "      <th>40</th>\n",
       "      <td>2020</td>\n",
       "      <td>-2.4</td>\n",
       "      <td>-11.2</td>\n",
       "      <td>-7.2</td>\n",
       "      <td>-18.6</td>\n",
       "      <td>-4.2</td>\n",
       "      <td>3.4</td>\n",
       "      <td>-0.7</td>\n",
       "      <td>-3.0</td>\n",
       "      <td>1.1</td>\n",
       "      <td>...</td>\n",
       "      <td>2.0</td>\n",
       "      <td>-30.0</td>\n",
       "      <td>-11.3</td>\n",
       "      <td>-8.5</td>\n",
       "      <td>-7.8</td>\n",
       "      <td>-1.7</td>\n",
       "      <td>0.6</td>\n",
       "      <td>-1.7</td>\n",
       "      <td>-6.1</td>\n",
       "      <td>-1.7</td>\n",
       "    </tr>\n",
       "    <tr>\n",
       "      <th>41</th>\n",
       "      <td>2021</td>\n",
       "      <td>NaN</td>\n",
       "      <td>8.9</td>\n",
       "      <td>5.7</td>\n",
       "      <td>17.2</td>\n",
       "      <td>5.6</td>\n",
       "      <td>6.9</td>\n",
       "      <td>2.3</td>\n",
       "      <td>7.4</td>\n",
       "      <td>-1.6</td>\n",
       "      <td>...</td>\n",
       "      <td>7.4</td>\n",
       "      <td>0.5</td>\n",
       "      <td>7.0</td>\n",
       "      <td>-1.0</td>\n",
       "      <td>8.5</td>\n",
       "      <td>4.9</td>\n",
       "      <td>9.6</td>\n",
       "      <td>4.6</td>\n",
       "      <td>5.4</td>\n",
       "      <td>4.8</td>\n",
       "    </tr>\n",
       "    <tr>\n",
       "      <th>42</th>\n",
       "      <td>2022</td>\n",
       "      <td>NaN</td>\n",
       "      <td>8.7</td>\n",
       "      <td>12.6</td>\n",
       "      <td>5.7</td>\n",
       "      <td>4.6</td>\n",
       "      <td>7.1</td>\n",
       "      <td>-4.7</td>\n",
       "      <td>3.8</td>\n",
       "      <td>-1.5</td>\n",
       "      <td>...</td>\n",
       "      <td>5.7</td>\n",
       "      <td>8.0</td>\n",
       "      <td>4.0</td>\n",
       "      <td>1.5</td>\n",
       "      <td>3.0</td>\n",
       "      <td>3.8</td>\n",
       "      <td>5.3</td>\n",
       "      <td>3.6</td>\n",
       "      <td>3.5</td>\n",
       "      <td>3.9</td>\n",
       "    </tr>\n",
       "    <tr>\n",
       "      <th>43</th>\n",
       "      <td>2023</td>\n",
       "      <td>NaN</td>\n",
       "      <td>1.3</td>\n",
       "      <td>5.5</td>\n",
       "      <td>1.6</td>\n",
       "      <td>3.0</td>\n",
       "      <td>5.5</td>\n",
       "      <td>0.7</td>\n",
       "      <td>2.0</td>\n",
       "      <td>3.3</td>\n",
       "      <td>...</td>\n",
       "      <td>5.3</td>\n",
       "      <td>5.0</td>\n",
       "      <td>3.5</td>\n",
       "      <td>-0.5</td>\n",
       "      <td>2.5</td>\n",
       "      <td>3.7</td>\n",
       "      <td>3.1</td>\n",
       "      <td>3.5</td>\n",
       "      <td>0.8</td>\n",
       "      <td>3.6</td>\n",
       "    </tr>\n",
       "    <tr>\n",
       "      <th>44</th>\n",
       "      <td>2024</td>\n",
       "      <td>NaN</td>\n",
       "      <td>1.5</td>\n",
       "      <td>5.0</td>\n",
       "      <td>1.2</td>\n",
       "      <td>2.6</td>\n",
       "      <td>6.5</td>\n",
       "      <td>1.2</td>\n",
       "      <td>3.0</td>\n",
       "      <td>3.5</td>\n",
       "      <td>...</td>\n",
       "      <td>5.5</td>\n",
       "      <td>4.5</td>\n",
       "      <td>2.7</td>\n",
       "      <td>2.0</td>\n",
       "      <td>2.6</td>\n",
       "      <td>4.2</td>\n",
       "      <td>3.9</td>\n",
       "      <td>4.1</td>\n",
       "      <td>1.4</td>\n",
       "      <td>4.2</td>\n",
       "    </tr>\n",
       "    <tr>\n",
       "      <th>45</th>\n",
       "      <td>2025</td>\n",
       "      <td>NaN</td>\n",
       "      <td>1.5</td>\n",
       "      <td>4.5</td>\n",
       "      <td>1.2</td>\n",
       "      <td>2.5</td>\n",
       "      <td>7.1</td>\n",
       "      <td>1.0</td>\n",
       "      <td>3.0</td>\n",
       "      <td>3.1</td>\n",
       "      <td>...</td>\n",
       "      <td>5.5</td>\n",
       "      <td>NaN</td>\n",
       "      <td>2.4</td>\n",
       "      <td>7.0</td>\n",
       "      <td>2.7</td>\n",
       "      <td>4.3</td>\n",
       "      <td>3.3</td>\n",
       "      <td>4.1</td>\n",
       "      <td>1.9</td>\n",
       "      <td>4.1</td>\n",
       "    </tr>\n",
       "    <tr>\n",
       "      <th>46</th>\n",
       "      <td>2026</td>\n",
       "      <td>NaN</td>\n",
       "      <td>1.5</td>\n",
       "      <td>4.5</td>\n",
       "      <td>1.1</td>\n",
       "      <td>2.5</td>\n",
       "      <td>7.3</td>\n",
       "      <td>0.7</td>\n",
       "      <td>3.0</td>\n",
       "      <td>2.4</td>\n",
       "      <td>...</td>\n",
       "      <td>5.5</td>\n",
       "      <td>NaN</td>\n",
       "      <td>2.0</td>\n",
       "      <td>6.5</td>\n",
       "      <td>2.8</td>\n",
       "      <td>4.3</td>\n",
       "      <td>3.1</td>\n",
       "      <td>4.1</td>\n",
       "      <td>1.7</td>\n",
       "      <td>4.2</td>\n",
       "    </tr>\n",
       "    <tr>\n",
       "      <th>47</th>\n",
       "      <td>2027</td>\n",
       "      <td>NaN</td>\n",
       "      <td>1.5</td>\n",
       "      <td>4.5</td>\n",
       "      <td>1.1</td>\n",
       "      <td>2.6</td>\n",
       "      <td>7.4</td>\n",
       "      <td>0.6</td>\n",
       "      <td>3.0</td>\n",
       "      <td>3.2</td>\n",
       "      <td>...</td>\n",
       "      <td>5.5</td>\n",
       "      <td>NaN</td>\n",
       "      <td>2.0</td>\n",
       "      <td>6.0</td>\n",
       "      <td>2.9</td>\n",
       "      <td>4.4</td>\n",
       "      <td>3.2</td>\n",
       "      <td>4.3</td>\n",
       "      <td>1.5</td>\n",
       "      <td>4.3</td>\n",
       "    </tr>\n",
       "    <tr>\n",
       "      <th>48</th>\n",
       "      <td>2028</td>\n",
       "      <td>NaN</td>\n",
       "      <td>1.5</td>\n",
       "      <td>4.5</td>\n",
       "      <td>1.1</td>\n",
       "      <td>2.6</td>\n",
       "      <td>7.0</td>\n",
       "      <td>0.7</td>\n",
       "      <td>3.0</td>\n",
       "      <td>3.1</td>\n",
       "      <td>...</td>\n",
       "      <td>5.5</td>\n",
       "      <td>NaN</td>\n",
       "      <td>2.0</td>\n",
       "      <td>5.5</td>\n",
       "      <td>2.9</td>\n",
       "      <td>4.5</td>\n",
       "      <td>3.2</td>\n",
       "      <td>4.3</td>\n",
       "      <td>1.4</td>\n",
       "      <td>4.4</td>\n",
       "    </tr>\n",
       "  </tbody>\n",
       "</table>\n",
       "<p>49 rows × 63 columns</p>\n",
       "</div>"
      ],
      "text/plain": [
       "    year  Afghanistan  Andorra  Armenia  Aruba  Azerbaijan  Bangladesh  \\\n",
       "0   1980          NaN      NaN      NaN    NaN         NaN         NaN   \n",
       "1   1981          NaN      NaN      NaN    NaN         NaN         3.8   \n",
       "2   1982          NaN      NaN      NaN    NaN         NaN         2.4   \n",
       "3   1983          NaN      NaN      NaN    NaN         NaN         4.0   \n",
       "4   1984          NaN      NaN      NaN    NaN         NaN         5.2   \n",
       "5   1985          NaN      NaN      NaN    NaN         NaN         3.2   \n",
       "6   1986          NaN      NaN      NaN    NaN         NaN         4.2   \n",
       "7   1987          NaN      NaN      NaN   16.1         NaN         3.7   \n",
       "8   1988          NaN      NaN      NaN   18.6         NaN         2.2   \n",
       "9   1989          NaN      NaN      NaN   12.1         NaN         2.6   \n",
       "10  1990          NaN      NaN      NaN    4.0         NaN         5.9   \n",
       "11  1991          NaN      NaN      NaN    8.0         NaN         3.3   \n",
       "12  1992          NaN      NaN      NaN    5.9         NaN         5.0   \n",
       "13  1993          NaN      NaN    -14.1    7.3       -23.1         4.6   \n",
       "14  1994          NaN      NaN      5.4    8.2       -19.7         4.1   \n",
       "15  1995          NaN      NaN      8.0    2.5       -13.0         4.9   \n",
       "16  1996          NaN      NaN      5.2    1.3         2.5         4.6   \n",
       "17  1997          NaN      NaN      3.4    7.0         8.9         4.5   \n",
       "18  1998          NaN      NaN      6.3    2.0         6.0         5.2   \n",
       "19  1999          NaN      NaN      3.2    1.4        11.4         4.7   \n",
       "20  2000          NaN      NaN      5.9    7.7         6.2         5.3   \n",
       "21  2001          NaN      8.1      9.5    4.2         6.5         5.1   \n",
       "22  2002          NaN      4.5     14.8   -0.9         9.4         3.8   \n",
       "23  2003          8.7      8.7     14.1    1.1        10.2         4.7   \n",
       "24  2004          0.7      8.1     10.5    7.3         9.3         5.2   \n",
       "25  2005         11.8      5.4     14.1   -0.4        28.0         6.5   \n",
       "26  2006          5.4      4.8     13.2    1.1        34.5         6.7   \n",
       "27  2007         13.3      1.6     13.7    3.1        25.5         7.1   \n",
       "28  2008          3.9     -5.6      6.9    1.8        10.6         6.0   \n",
       "29  2009         20.6     -5.3    -14.1  -11.7         9.4         5.0   \n",
       "30  2010          8.4     -2.0      2.2   -2.7         4.8         5.6   \n",
       "31  2011          6.5      0.0      4.7    3.4        -1.6         6.5   \n",
       "32  2012         14.0     -5.0      7.1   -1.0         2.2         6.5   \n",
       "33  2013          5.7     -3.5      3.4    6.4         5.8         6.0   \n",
       "34  2014          2.7      2.5      3.6    0.0         2.8         6.1   \n",
       "35  2015          1.0      1.4      3.3    3.6         1.0         6.6   \n",
       "36  2016          2.2      3.7      0.2    2.1        -3.1         7.1   \n",
       "37  2017          2.6      0.3      7.5    5.5         0.2         6.6   \n",
       "38  2018          1.2      1.6      5.2    5.3         1.5         7.3   \n",
       "39  2019          3.9      2.0      7.6    0.6         2.5         7.9   \n",
       "40  2020         -2.4    -11.2     -7.2  -18.6        -4.2         3.4   \n",
       "41  2021          NaN      8.9      5.7   17.2         5.6         6.9   \n",
       "42  2022          NaN      8.7     12.6    5.7         4.6         7.1   \n",
       "43  2023          NaN      1.3      5.5    1.6         3.0         5.5   \n",
       "44  2024          NaN      1.5      5.0    1.2         2.6         6.5   \n",
       "45  2025          NaN      1.5      4.5    1.2         2.5         7.1   \n",
       "46  2026          NaN      1.5      4.5    1.1         2.5         7.3   \n",
       "47  2027          NaN      1.5      4.5    1.1         2.6         7.4   \n",
       "48  2028          NaN      1.5      4.5    1.1         2.6         7.0   \n",
       "\n",
       "    Belarus  Bosnia and Herzegovina  Brunei Darussalam  ...  Uzbekistan  \\\n",
       "0       NaN                     NaN                NaN  ...         NaN   \n",
       "1       NaN                     NaN                NaN  ...         NaN   \n",
       "2       4.0                     NaN                NaN  ...         NaN   \n",
       "3       4.3                     NaN                NaN  ...         NaN   \n",
       "4       3.0                     NaN                NaN  ...         NaN   \n",
       "5       1.7                     NaN                NaN  ...         NaN   \n",
       "6       3.6                     NaN               -2.7  ...         NaN   \n",
       "7       2.8                     NaN                2.0  ...         NaN   \n",
       "8       5.3                     NaN                1.1  ...         NaN   \n",
       "9       3.0                     NaN               -1.1  ...         NaN   \n",
       "10     -2.3                     NaN                1.1  ...         NaN   \n",
       "11     -1.2                     NaN                3.1  ...         NaN   \n",
       "12     -9.6                     NaN                4.8  ...       -11.1   \n",
       "13     -7.6                     NaN                0.3  ...        -2.3   \n",
       "14    -11.7                     NaN                3.1  ...        -5.2   \n",
       "15    -11.1                    20.7                4.5  ...        -0.9   \n",
       "16      2.8                    62.2                2.9  ...         1.7   \n",
       "17     11.4                    22.9               -1.5  ...         5.2   \n",
       "18      8.4                    13.8               -0.6  ...         4.3   \n",
       "19      3.4                    10.7                3.1  ...         4.3   \n",
       "20      5.8                     4.4                2.9  ...         3.8   \n",
       "21      4.7                     2.4                2.7  ...         4.2   \n",
       "22      5.0                     5.1                3.9  ...         4.0   \n",
       "23      7.0                     3.9                2.9  ...         4.2   \n",
       "24     11.4                     6.3                0.5  ...         7.4   \n",
       "25      9.5                     4.2                0.4  ...         7.0   \n",
       "26     10.0                     5.7                4.4  ...         7.5   \n",
       "27      8.6                     6.0                0.2  ...         9.5   \n",
       "28     10.2                     5.6               -1.9  ...         9.0   \n",
       "29      0.2                    -0.8               -1.8  ...         8.1   \n",
       "30      7.8                     0.8                2.6  ...         7.1   \n",
       "31      5.3                     0.9                3.7  ...         7.5   \n",
       "32      1.6                    -0.7                0.9  ...         7.1   \n",
       "33      1.0                     2.4               -2.1  ...         7.3   \n",
       "34      1.7                     1.1               -2.5  ...         6.9   \n",
       "35     -3.8                     4.3               -0.4  ...         7.2   \n",
       "36     -2.5                     3.2               -2.5  ...         5.9   \n",
       "37      2.5                     3.2                1.3  ...         4.4   \n",
       "38      3.1                     3.8                0.1  ...         5.9   \n",
       "39      1.4                     2.9                3.9  ...         6.0   \n",
       "40     -0.7                    -3.0                1.1  ...         2.0   \n",
       "41      2.3                     7.4               -1.6  ...         7.4   \n",
       "42     -4.7                     3.8               -1.5  ...         5.7   \n",
       "43      0.7                     2.0                3.3  ...         5.3   \n",
       "44      1.2                     3.0                3.5  ...         5.5   \n",
       "45      1.0                     3.0                3.1  ...         5.5   \n",
       "46      0.7                     3.0                2.4  ...         5.5   \n",
       "47      0.6                     3.0                3.2  ...         5.5   \n",
       "48      0.7                     3.0                3.1  ...         5.5   \n",
       "\n",
       "    Venezuela  West Bank and Gaza  Yemen  Zimbabwe  Africa (Region)  \\\n",
       "0        -4.9                 NaN    NaN       NaN              NaN   \n",
       "1        -1.3                 NaN    NaN       NaN              NaN   \n",
       "2         2.6                 NaN    NaN       NaN              NaN   \n",
       "3        -9.9                 NaN    NaN       NaN              NaN   \n",
       "4         5.2                 NaN    NaN       NaN              NaN   \n",
       "5         0.9                 NaN    NaN       NaN              NaN   \n",
       "6         6.1                 NaN    NaN       NaN              NaN   \n",
       "7         4.8                 NaN    NaN       NaN              NaN   \n",
       "8         6.5                 NaN    NaN       NaN              NaN   \n",
       "9       -13.9                 NaN    NaN       NaN              NaN   \n",
       "10        6.5                 NaN    NaN       NaN              NaN   \n",
       "11        9.7                 NaN    6.3       NaN              2.3   \n",
       "12        6.1                 NaN    8.2       NaN              0.1   \n",
       "13        0.3                 NaN    4.0       NaN              0.9   \n",
       "14       -2.3                 NaN    6.7       NaN              2.5   \n",
       "15        4.0                 7.1    5.7       NaN              2.6   \n",
       "16       -0.2                 1.2    4.6       NaN              5.0   \n",
       "17        6.4                14.7    5.2       NaN              3.2   \n",
       "18        0.3                14.3    6.0       NaN              4.0   \n",
       "19       -6.0                 8.3    3.8      -1.1              3.1   \n",
       "20        3.7                -8.6    6.2      -4.2              4.3   \n",
       "21        3.4                -9.3    3.8      -0.5              4.5   \n",
       "22       -8.9               -12.5    3.9      -7.7              4.9   \n",
       "23       -7.8                14.0    3.7     -16.2              5.5   \n",
       "24       18.3                21.9    4.0      -6.3              5.9   \n",
       "25       10.3                11.3    5.6      -7.4              5.9   \n",
       "26        9.9                -1.0    3.2      -3.6              5.5   \n",
       "27        8.8                 3.8    3.3      -3.4              6.1   \n",
       "28        5.3                 7.4    3.6     -16.3              5.2   \n",
       "29       -3.2                 8.6    3.9       7.4              3.0   \n",
       "30       -1.5                 5.8    7.7      19.7              5.9   \n",
       "31        4.2                 9.6  -12.7      14.2              2.7   \n",
       "32        5.6                 6.1    2.4      16.7              6.2   \n",
       "33        1.3                 4.7    4.8       2.0              3.7   \n",
       "34       -3.9                -0.2   -0.2       2.4              3.8   \n",
       "35       -6.2                 3.7  -28.0       1.8              3.4   \n",
       "36      -17.0                 8.9   -9.4       0.5              2.2   \n",
       "37      -15.7                 1.4   -5.1       5.0              3.5   \n",
       "38      -19.7                 1.2    0.8       4.7              3.4   \n",
       "39      -27.7                 1.4    1.4      -6.1              3.0   \n",
       "40      -30.0               -11.3   -8.5      -7.8             -1.7   \n",
       "41        0.5                 7.0   -1.0       8.5              4.9   \n",
       "42        8.0                 4.0    1.5       3.0              3.8   \n",
       "43        5.0                 3.5   -0.5       2.5              3.7   \n",
       "44        4.5                 2.7    2.0       2.6              4.2   \n",
       "45        NaN                 2.4    7.0       2.7              4.3   \n",
       "46        NaN                 2.0    6.5       2.8              4.3   \n",
       "47        NaN                 2.0    6.0       2.9              4.4   \n",
       "48        NaN                 2.0    5.5       2.9              4.5   \n",
       "\n",
       "    Central Asia and the Caucasus  Sub-Saharan Africa (Region)   Euro area  \\\n",
       "0                             NaN                           NaN        NaN   \n",
       "1                             NaN                           NaN        NaN   \n",
       "2                             NaN                           NaN        NaN   \n",
       "3                             NaN                           NaN        NaN   \n",
       "4                             NaN                           NaN        NaN   \n",
       "5                             NaN                           NaN        NaN   \n",
       "6                             NaN                           NaN        NaN   \n",
       "7                             NaN                           NaN        NaN   \n",
       "8                             NaN                           NaN        NaN   \n",
       "9                             NaN                           NaN        NaN   \n",
       "10                            NaN                           NaN        NaN   \n",
       "11                            NaN                           0.5        NaN   \n",
       "12                            NaN                           0.3        1.4   \n",
       "13                            2.1                           1.7       -0.8   \n",
       "14                           -7.4                           1.9        2.5   \n",
       "15                            3.6                           4.2        2.9   \n",
       "16                            5.5                           4.8        1.6   \n",
       "17                            6.5                           3.6        2.6   \n",
       "18                            2.8                           2.8        3.0   \n",
       "19                           -1.0                           2.5        2.9   \n",
       "20                            7.2                           4.2        3.8   \n",
       "21                           -0.9                           5.0        2.2   \n",
       "22                            7.1                           6.2        0.9   \n",
       "23                            6.9                           4.9        0.7   \n",
       "24                            9.5                           6.7        2.3   \n",
       "25                            9.8                           6.2        1.7   \n",
       "26                            9.0                           6.1        3.2   \n",
       "27                            7.6                           6.5        3.0   \n",
       "28                            3.0                           5.5        0.4   \n",
       "29                           -1.0                           3.2       -4.5   \n",
       "30                            8.0                           6.7        2.1   \n",
       "31                            9.4                           4.5        1.7   \n",
       "32                            5.1                           3.9       -0.9   \n",
       "33                            7.4                           4.8       -0.2   \n",
       "34                            4.8                           4.9        1.4   \n",
       "35                            4.9                           3.3        2.0   \n",
       "36                            2.8                           1.6        1.9   \n",
       "37                            6.3                           2.9        2.6   \n",
       "38                            3.3                           3.0        1.8   \n",
       "39                            1.9                           3.0        1.6   \n",
       "40                            0.6                          -1.7       -6.1   \n",
       "41                            9.6                           4.6        5.4   \n",
       "42                            5.3                           3.6        3.5   \n",
       "43                            3.1                           3.5        0.8   \n",
       "44                            3.9                           4.1        1.4   \n",
       "45                            3.3                           4.1        1.9   \n",
       "46                            3.1                           4.1        1.7   \n",
       "47                            3.2                           4.3        1.5   \n",
       "48                            3.2                           4.3        1.4   \n",
       "\n",
       "    Sub-Saharan Africa  \n",
       "0                  NaN  \n",
       "1                  NaN  \n",
       "2                  NaN  \n",
       "3                  NaN  \n",
       "4                  NaN  \n",
       "5                  NaN  \n",
       "6                  NaN  \n",
       "7                  NaN  \n",
       "8                  NaN  \n",
       "9                  NaN  \n",
       "10                 NaN  \n",
       "11                 0.2  \n",
       "12                 0.0  \n",
       "13                 1.6  \n",
       "14                 1.8  \n",
       "15                 3.9  \n",
       "16                 4.8  \n",
       "17                 3.5  \n",
       "18                 2.4  \n",
       "19                 2.4  \n",
       "20                 4.0  \n",
       "21                 4.6  \n",
       "22                 6.3  \n",
       "23                 4.8  \n",
       "24                 6.9  \n",
       "25                 6.3  \n",
       "26                 6.0  \n",
       "27                 6.6  \n",
       "28                 5.7  \n",
       "29                 3.6  \n",
       "30                 6.9  \n",
       "31                 5.0  \n",
       "32                 4.8  \n",
       "33                 4.9  \n",
       "34                 5.0  \n",
       "35                 3.2  \n",
       "36                 1.5  \n",
       "37                 2.9  \n",
       "38                 3.2  \n",
       "39                 3.3  \n",
       "40                -1.7  \n",
       "41                 4.8  \n",
       "42                 3.9  \n",
       "43                 3.6  \n",
       "44                 4.2  \n",
       "45                 4.1  \n",
       "46                 4.2  \n",
       "47                 4.3  \n",
       "48                 4.4  \n",
       "\n",
       "[49 rows x 63 columns]"
      ]
     },
     "execution_count": 51,
     "metadata": {},
     "output_type": "execute_result"
    }
   ],
   "source": [
    "# select only columns with any missing value \n",
    "df_null = df_12.loc[:, df_12.isnull().any()]\n",
    "df_null.insert(0, \"year\", df_12[\"year\"])\n",
    "df_null.rename_axis(None, axis=\"columns\", inplace=True)   \n",
    "df_null "
   ]
  },
  {
   "cell_type": "code",
   "execution_count": 52,
   "metadata": {},
   "outputs": [],
   "source": [
    "check_na = df_null.isnull().sum().sort_values(ascending=False)/len(df_null)\n",
    "countrys_0_to_01 = list(check_na[(check_na > 0.0) & (check_na <= 0.1)].index)\n",
    "countrys_01_to_02 = list(check_na[(check_na > 0.1) & (check_na <= 0.2)].index)\n",
    "countrys_02_to_025 = list(check_na[(check_na > 0.2) & (check_na <= 0.25)].index)\n",
    "countrys_025_to_03 = list(check_na[(check_na > 0.25) & (check_na <= 0.3)].index)\n",
    "countrys_03_to_04 = list(check_na[(check_na > 0.3) & (check_na <= 0.4)].index)\n",
    "countrys_04_to_05 = list(check_na[(check_na > 0.4) & (check_na <= 0.5)].index)\n",
    "countrys_05_to_06 = list(check_na[(check_na > 0.5) & (check_na <= 0.6)].index)\n",
    "countrys_06_to_1 = list(check_na[(check_na > 0.6) & (check_na <= 1.0)].index)"
   ]
  },
  {
   "cell_type": "code",
   "execution_count": 53,
   "metadata": {},
   "outputs": [
    {
     "data": {
      "application/vnd.plotly.v1+json": {
       "config": {
        "plotlyServerURL": "https://plot.ly"
       },
       "data": [
        {
         "marker": {
          "color": "navy"
         },
         "mode": "lines+markers",
         "name": "Venezuela",
         "type": "scatter",
         "x": [
          1980,
          1981,
          1982,
          1983,
          1984,
          1985,
          1986,
          1987,
          1988,
          1989,
          1990,
          1991,
          1992,
          1993,
          1994,
          1995,
          1996,
          1997,
          1998,
          1999,
          2000,
          2001,
          2002,
          2003,
          2004,
          2005,
          2006,
          2007,
          2008,
          2009,
          2010,
          2011,
          2012,
          2013,
          2014,
          2015,
          2016,
          2017,
          2018,
          2019,
          2020,
          2021,
          2022,
          2023,
          2024,
          2025,
          2026,
          2027,
          2028
         ],
         "y": [
          -4.9,
          -1.3,
          2.6,
          -9.9,
          5.2,
          0.9,
          6.1,
          4.8,
          6.5,
          -13.9,
          6.5,
          9.7,
          6.1,
          0.3,
          -2.3,
          4,
          -0.2,
          6.4,
          0.3,
          -6,
          3.7,
          3.4,
          -8.9,
          -7.8,
          18.3,
          10.3,
          9.9,
          8.8,
          5.3,
          -3.2,
          -1.5,
          4.2,
          5.6,
          1.3,
          -3.9,
          -6.2,
          -17,
          -15.7,
          -19.7,
          -27.7,
          -30,
          0.5,
          8,
          5,
          4.5,
          null,
          null,
          null,
          null
         ]
        },
        {
         "marker": {
          "color": "orange"
         },
         "mode": "lines+markers",
         "name": "Belarus",
         "type": "scatter",
         "x": [
          1980,
          1981,
          1982,
          1983,
          1984,
          1985,
          1986,
          1987,
          1988,
          1989,
          1990,
          1991,
          1992,
          1993,
          1994,
          1995,
          1996,
          1997,
          1998,
          1999,
          2000,
          2001,
          2002,
          2003,
          2004,
          2005,
          2006,
          2007,
          2008,
          2009,
          2010,
          2011,
          2012,
          2013,
          2014,
          2015,
          2016,
          2017,
          2018,
          2019,
          2020,
          2021,
          2022,
          2023,
          2024,
          2025,
          2026,
          2027,
          2028
         ],
         "y": [
          null,
          null,
          4,
          4.3,
          3,
          1.7,
          3.6,
          2.8,
          5.3,
          3,
          -2.3,
          -1.2,
          -9.6,
          -7.6,
          -11.7,
          -11.1,
          2.8,
          11.4,
          8.4,
          3.4,
          5.8,
          4.7,
          5,
          7,
          11.4,
          9.5,
          10,
          8.6,
          10.2,
          0.2,
          7.8,
          5.3,
          1.6,
          1,
          1.7,
          -3.8,
          -2.5,
          2.5,
          3.1,
          1.4,
          -0.7,
          2.3,
          -4.7,
          0.7,
          1.2,
          1,
          0.7,
          0.6,
          0.7
         ]
        },
        {
         "marker": {
          "color": "tomato"
         },
         "mode": "lines+markers",
         "name": "Puerto Rico",
         "type": "scatter",
         "x": [
          1980,
          1981,
          1982,
          1983,
          1984,
          1985,
          1986,
          1987,
          1988,
          1989,
          1990,
          1991,
          1992,
          1993,
          1994,
          1995,
          1996,
          1997,
          1998,
          1999,
          2000,
          2001,
          2002,
          2003,
          2004,
          2005,
          2006,
          2007,
          2008,
          2009,
          2010,
          2011,
          2012,
          2013,
          2014,
          2015,
          2016,
          2017,
          2018,
          2019,
          2020,
          2021,
          2022,
          2023,
          2024,
          2025,
          2026,
          2027,
          2028
         ],
         "y": [
          null,
          1.1,
          -3,
          0.5,
          7.3,
          2.1,
          8.2,
          4.9,
          6.5,
          4.9,
          3.8,
          2.3,
          4.6,
          4.6,
          4.2,
          4.5,
          2.3,
          4.9,
          6.5,
          4.4,
          3.3,
          9.5,
          2.2,
          2.3,
          2,
          -2,
          -1.4,
          -1.2,
          -1.8,
          -2,
          -0.4,
          -0.4,
          0,
          -0.3,
          -1.2,
          -1,
          -1.3,
          -2.9,
          -4.4,
          1.7,
          -4.4,
          0.2,
          4.8,
          0.4,
          -1.6,
          -1,
          -0.5,
          -0.5,
          -0.5
         ]
        },
        {
         "marker": {
          "color": "crimson"
         },
         "mode": "lines+markers",
         "name": "Guinea-Bissau",
         "type": "scatter",
         "x": [
          1980,
          1981,
          1982,
          1983,
          1984,
          1985,
          1986,
          1987,
          1988,
          1989,
          1990,
          1991,
          1992,
          1993,
          1994,
          1995,
          1996,
          1997,
          1998,
          1999,
          2000,
          2001,
          2002,
          2003,
          2004,
          2005,
          2006,
          2007,
          2008,
          2009,
          2010,
          2011,
          2012,
          2013,
          2014,
          2015,
          2016,
          2017,
          2018,
          2019,
          2020,
          2021,
          2022,
          2023,
          2024,
          2025,
          2026,
          2027,
          2028
         ],
         "y": [
          null,
          -0.5,
          4.2,
          -3.4,
          5.5,
          4.3,
          -1,
          5.6,
          2,
          2.9,
          4.6,
          7.3,
          3.1,
          2.3,
          3,
          4,
          3.7,
          6,
          -22.4,
          16.8,
          1.1,
          4.8,
          3.7,
          -0.3,
          1.2,
          6.6,
          2.7,
          2.6,
          4.5,
          2.4,
          5.6,
          8.1,
          -1.7,
          3.3,
          1,
          6.1,
          5.3,
          4.8,
          3.8,
          4.5,
          1.5,
          6.4,
          3.5,
          4.5,
          5,
          5,
          5,
          5,
          4.5
         ]
        },
        {
         "marker": {
          "color": "darkgreen"
         },
         "mode": "lines+markers",
         "name": "Bangladesh",
         "type": "scatter",
         "x": [
          1980,
          1981,
          1982,
          1983,
          1984,
          1985,
          1986,
          1987,
          1988,
          1989,
          1990,
          1991,
          1992,
          1993,
          1994,
          1995,
          1996,
          1997,
          1998,
          1999,
          2000,
          2001,
          2002,
          2003,
          2004,
          2005,
          2006,
          2007,
          2008,
          2009,
          2010,
          2011,
          2012,
          2013,
          2014,
          2015,
          2016,
          2017,
          2018,
          2019,
          2020,
          2021,
          2022,
          2023,
          2024,
          2025,
          2026,
          2027,
          2028
         ],
         "y": [
          null,
          3.8,
          2.4,
          4,
          5.2,
          3.2,
          4.2,
          3.7,
          2.2,
          2.6,
          5.9,
          3.3,
          5,
          4.6,
          4.1,
          4.9,
          4.6,
          4.5,
          5.2,
          4.7,
          5.3,
          5.1,
          3.8,
          4.7,
          5.2,
          6.5,
          6.7,
          7.1,
          6,
          5,
          5.6,
          6.5,
          6.5,
          6,
          6.1,
          6.6,
          7.1,
          6.6,
          7.3,
          7.9,
          3.4,
          6.9,
          7.1,
          5.5,
          6.5,
          7.1,
          7.3,
          7.4,
          7
         ]
        },
        {
         "marker": {
          "color": "brown"
         },
         "mode": "lines+markers",
         "name": "Netherlands",
         "type": "scatter",
         "x": [
          1980,
          1981,
          1982,
          1983,
          1984,
          1985,
          1986,
          1987,
          1988,
          1989,
          1990,
          1991,
          1992,
          1993,
          1994,
          1995,
          1996,
          1997,
          1998,
          1999,
          2000,
          2001,
          2002,
          2003,
          2004,
          2005,
          2006,
          2007,
          2008,
          2009,
          2010,
          2011,
          2012,
          2013,
          2014,
          2015,
          2016,
          2017,
          2018,
          2019,
          2020,
          2021,
          2022,
          2023,
          2024,
          2025,
          2026,
          2027,
          2028
         ],
         "y": [
          null,
          -0.5,
          -1.3,
          1.8,
          3.1,
          2.7,
          3.1,
          1.9,
          4.6,
          4.5,
          4.2,
          2.5,
          1.6,
          1.3,
          3,
          2.8,
          3.5,
          4.3,
          4.7,
          5,
          4.2,
          2.3,
          0.2,
          0.2,
          2,
          2,
          3.5,
          3.8,
          2.2,
          -3.7,
          1.3,
          1.5,
          -1,
          -0.1,
          1.4,
          2,
          2.2,
          2.9,
          2.4,
          2,
          -3.9,
          4.9,
          4.5,
          1,
          1.2,
          1.5,
          1.6,
          1.5,
          1.6
         ]
        }
       ],
       "layout": {
        "height": 800,
        "legend": {
         "title": {
          "text": "Legend"
         },
         "x": 0,
         "y": 1
        },
        "margin": {
         "b": 0,
         "l": 0,
         "r": 0,
         "t": 50
        },
        "plot_bgcolor": "#F7FAFC",
        "showlegend": true,
        "template": {
         "data": {
          "bar": [
           {
            "error_x": {
             "color": "#2a3f5f"
            },
            "error_y": {
             "color": "#2a3f5f"
            },
            "marker": {
             "line": {
              "color": "#E5ECF6",
              "width": 0.5
             },
             "pattern": {
              "fillmode": "overlay",
              "size": 10,
              "solidity": 0.2
             }
            },
            "type": "bar"
           }
          ],
          "barpolar": [
           {
            "marker": {
             "line": {
              "color": "#E5ECF6",
              "width": 0.5
             },
             "pattern": {
              "fillmode": "overlay",
              "size": 10,
              "solidity": 0.2
             }
            },
            "type": "barpolar"
           }
          ],
          "carpet": [
           {
            "aaxis": {
             "endlinecolor": "#2a3f5f",
             "gridcolor": "white",
             "linecolor": "white",
             "minorgridcolor": "white",
             "startlinecolor": "#2a3f5f"
            },
            "baxis": {
             "endlinecolor": "#2a3f5f",
             "gridcolor": "white",
             "linecolor": "white",
             "minorgridcolor": "white",
             "startlinecolor": "#2a3f5f"
            },
            "type": "carpet"
           }
          ],
          "choropleth": [
           {
            "colorbar": {
             "outlinewidth": 0,
             "ticks": ""
            },
            "type": "choropleth"
           }
          ],
          "contour": [
           {
            "colorbar": {
             "outlinewidth": 0,
             "ticks": ""
            },
            "colorscale": [
             [
              0,
              "#0d0887"
             ],
             [
              0.1111111111111111,
              "#46039f"
             ],
             [
              0.2222222222222222,
              "#7201a8"
             ],
             [
              0.3333333333333333,
              "#9c179e"
             ],
             [
              0.4444444444444444,
              "#bd3786"
             ],
             [
              0.5555555555555556,
              "#d8576b"
             ],
             [
              0.6666666666666666,
              "#ed7953"
             ],
             [
              0.7777777777777778,
              "#fb9f3a"
             ],
             [
              0.8888888888888888,
              "#fdca26"
             ],
             [
              1,
              "#f0f921"
             ]
            ],
            "type": "contour"
           }
          ],
          "contourcarpet": [
           {
            "colorbar": {
             "outlinewidth": 0,
             "ticks": ""
            },
            "type": "contourcarpet"
           }
          ],
          "heatmap": [
           {
            "colorbar": {
             "outlinewidth": 0,
             "ticks": ""
            },
            "colorscale": [
             [
              0,
              "#0d0887"
             ],
             [
              0.1111111111111111,
              "#46039f"
             ],
             [
              0.2222222222222222,
              "#7201a8"
             ],
             [
              0.3333333333333333,
              "#9c179e"
             ],
             [
              0.4444444444444444,
              "#bd3786"
             ],
             [
              0.5555555555555556,
              "#d8576b"
             ],
             [
              0.6666666666666666,
              "#ed7953"
             ],
             [
              0.7777777777777778,
              "#fb9f3a"
             ],
             [
              0.8888888888888888,
              "#fdca26"
             ],
             [
              1,
              "#f0f921"
             ]
            ],
            "type": "heatmap"
           }
          ],
          "heatmapgl": [
           {
            "colorbar": {
             "outlinewidth": 0,
             "ticks": ""
            },
            "colorscale": [
             [
              0,
              "#0d0887"
             ],
             [
              0.1111111111111111,
              "#46039f"
             ],
             [
              0.2222222222222222,
              "#7201a8"
             ],
             [
              0.3333333333333333,
              "#9c179e"
             ],
             [
              0.4444444444444444,
              "#bd3786"
             ],
             [
              0.5555555555555556,
              "#d8576b"
             ],
             [
              0.6666666666666666,
              "#ed7953"
             ],
             [
              0.7777777777777778,
              "#fb9f3a"
             ],
             [
              0.8888888888888888,
              "#fdca26"
             ],
             [
              1,
              "#f0f921"
             ]
            ],
            "type": "heatmapgl"
           }
          ],
          "histogram": [
           {
            "marker": {
             "pattern": {
              "fillmode": "overlay",
              "size": 10,
              "solidity": 0.2
             }
            },
            "type": "histogram"
           }
          ],
          "histogram2d": [
           {
            "colorbar": {
             "outlinewidth": 0,
             "ticks": ""
            },
            "colorscale": [
             [
              0,
              "#0d0887"
             ],
             [
              0.1111111111111111,
              "#46039f"
             ],
             [
              0.2222222222222222,
              "#7201a8"
             ],
             [
              0.3333333333333333,
              "#9c179e"
             ],
             [
              0.4444444444444444,
              "#bd3786"
             ],
             [
              0.5555555555555556,
              "#d8576b"
             ],
             [
              0.6666666666666666,
              "#ed7953"
             ],
             [
              0.7777777777777778,
              "#fb9f3a"
             ],
             [
              0.8888888888888888,
              "#fdca26"
             ],
             [
              1,
              "#f0f921"
             ]
            ],
            "type": "histogram2d"
           }
          ],
          "histogram2dcontour": [
           {
            "colorbar": {
             "outlinewidth": 0,
             "ticks": ""
            },
            "colorscale": [
             [
              0,
              "#0d0887"
             ],
             [
              0.1111111111111111,
              "#46039f"
             ],
             [
              0.2222222222222222,
              "#7201a8"
             ],
             [
              0.3333333333333333,
              "#9c179e"
             ],
             [
              0.4444444444444444,
              "#bd3786"
             ],
             [
              0.5555555555555556,
              "#d8576b"
             ],
             [
              0.6666666666666666,
              "#ed7953"
             ],
             [
              0.7777777777777778,
              "#fb9f3a"
             ],
             [
              0.8888888888888888,
              "#fdca26"
             ],
             [
              1,
              "#f0f921"
             ]
            ],
            "type": "histogram2dcontour"
           }
          ],
          "mesh3d": [
           {
            "colorbar": {
             "outlinewidth": 0,
             "ticks": ""
            },
            "type": "mesh3d"
           }
          ],
          "parcoords": [
           {
            "line": {
             "colorbar": {
              "outlinewidth": 0,
              "ticks": ""
             }
            },
            "type": "parcoords"
           }
          ],
          "pie": [
           {
            "automargin": true,
            "type": "pie"
           }
          ],
          "scatter": [
           {
            "fillpattern": {
             "fillmode": "overlay",
             "size": 10,
             "solidity": 0.2
            },
            "type": "scatter"
           }
          ],
          "scatter3d": [
           {
            "line": {
             "colorbar": {
              "outlinewidth": 0,
              "ticks": ""
             }
            },
            "marker": {
             "colorbar": {
              "outlinewidth": 0,
              "ticks": ""
             }
            },
            "type": "scatter3d"
           }
          ],
          "scattercarpet": [
           {
            "marker": {
             "colorbar": {
              "outlinewidth": 0,
              "ticks": ""
             }
            },
            "type": "scattercarpet"
           }
          ],
          "scattergeo": [
           {
            "marker": {
             "colorbar": {
              "outlinewidth": 0,
              "ticks": ""
             }
            },
            "type": "scattergeo"
           }
          ],
          "scattergl": [
           {
            "marker": {
             "colorbar": {
              "outlinewidth": 0,
              "ticks": ""
             }
            },
            "type": "scattergl"
           }
          ],
          "scattermapbox": [
           {
            "marker": {
             "colorbar": {
              "outlinewidth": 0,
              "ticks": ""
             }
            },
            "type": "scattermapbox"
           }
          ],
          "scatterpolar": [
           {
            "marker": {
             "colorbar": {
              "outlinewidth": 0,
              "ticks": ""
             }
            },
            "type": "scatterpolar"
           }
          ],
          "scatterpolargl": [
           {
            "marker": {
             "colorbar": {
              "outlinewidth": 0,
              "ticks": ""
             }
            },
            "type": "scatterpolargl"
           }
          ],
          "scatterternary": [
           {
            "marker": {
             "colorbar": {
              "outlinewidth": 0,
              "ticks": ""
             }
            },
            "type": "scatterternary"
           }
          ],
          "surface": [
           {
            "colorbar": {
             "outlinewidth": 0,
             "ticks": ""
            },
            "colorscale": [
             [
              0,
              "#0d0887"
             ],
             [
              0.1111111111111111,
              "#46039f"
             ],
             [
              0.2222222222222222,
              "#7201a8"
             ],
             [
              0.3333333333333333,
              "#9c179e"
             ],
             [
              0.4444444444444444,
              "#bd3786"
             ],
             [
              0.5555555555555556,
              "#d8576b"
             ],
             [
              0.6666666666666666,
              "#ed7953"
             ],
             [
              0.7777777777777778,
              "#fb9f3a"
             ],
             [
              0.8888888888888888,
              "#fdca26"
             ],
             [
              1,
              "#f0f921"
             ]
            ],
            "type": "surface"
           }
          ],
          "table": [
           {
            "cells": {
             "fill": {
              "color": "#EBF0F8"
             },
             "line": {
              "color": "white"
             }
            },
            "header": {
             "fill": {
              "color": "#C8D4E3"
             },
             "line": {
              "color": "white"
             }
            },
            "type": "table"
           }
          ]
         },
         "layout": {
          "annotationdefaults": {
           "arrowcolor": "#2a3f5f",
           "arrowhead": 0,
           "arrowwidth": 1
          },
          "autotypenumbers": "strict",
          "coloraxis": {
           "colorbar": {
            "outlinewidth": 0,
            "ticks": ""
           }
          },
          "colorscale": {
           "diverging": [
            [
             0,
             "#8e0152"
            ],
            [
             0.1,
             "#c51b7d"
            ],
            [
             0.2,
             "#de77ae"
            ],
            [
             0.3,
             "#f1b6da"
            ],
            [
             0.4,
             "#fde0ef"
            ],
            [
             0.5,
             "#f7f7f7"
            ],
            [
             0.6,
             "#e6f5d0"
            ],
            [
             0.7,
             "#b8e186"
            ],
            [
             0.8,
             "#7fbc41"
            ],
            [
             0.9,
             "#4d9221"
            ],
            [
             1,
             "#276419"
            ]
           ],
           "sequential": [
            [
             0,
             "#0d0887"
            ],
            [
             0.1111111111111111,
             "#46039f"
            ],
            [
             0.2222222222222222,
             "#7201a8"
            ],
            [
             0.3333333333333333,
             "#9c179e"
            ],
            [
             0.4444444444444444,
             "#bd3786"
            ],
            [
             0.5555555555555556,
             "#d8576b"
            ],
            [
             0.6666666666666666,
             "#ed7953"
            ],
            [
             0.7777777777777778,
             "#fb9f3a"
            ],
            [
             0.8888888888888888,
             "#fdca26"
            ],
            [
             1,
             "#f0f921"
            ]
           ],
           "sequentialminus": [
            [
             0,
             "#0d0887"
            ],
            [
             0.1111111111111111,
             "#46039f"
            ],
            [
             0.2222222222222222,
             "#7201a8"
            ],
            [
             0.3333333333333333,
             "#9c179e"
            ],
            [
             0.4444444444444444,
             "#bd3786"
            ],
            [
             0.5555555555555556,
             "#d8576b"
            ],
            [
             0.6666666666666666,
             "#ed7953"
            ],
            [
             0.7777777777777778,
             "#fb9f3a"
            ],
            [
             0.8888888888888888,
             "#fdca26"
            ],
            [
             1,
             "#f0f921"
            ]
           ]
          },
          "colorway": [
           "#636efa",
           "#EF553B",
           "#00cc96",
           "#ab63fa",
           "#FFA15A",
           "#19d3f3",
           "#FF6692",
           "#B6E880",
           "#FF97FF",
           "#FECB52"
          ],
          "font": {
           "color": "#2a3f5f"
          },
          "geo": {
           "bgcolor": "white",
           "lakecolor": "white",
           "landcolor": "#E5ECF6",
           "showlakes": true,
           "showland": true,
           "subunitcolor": "white"
          },
          "hoverlabel": {
           "align": "left"
          },
          "hovermode": "closest",
          "mapbox": {
           "style": "light"
          },
          "paper_bgcolor": "white",
          "plot_bgcolor": "#E5ECF6",
          "polar": {
           "angularaxis": {
            "gridcolor": "white",
            "linecolor": "white",
            "ticks": ""
           },
           "bgcolor": "#E5ECF6",
           "radialaxis": {
            "gridcolor": "white",
            "linecolor": "white",
            "ticks": ""
           }
          },
          "scene": {
           "xaxis": {
            "backgroundcolor": "#E5ECF6",
            "gridcolor": "white",
            "gridwidth": 2,
            "linecolor": "white",
            "showbackground": true,
            "ticks": "",
            "zerolinecolor": "white"
           },
           "yaxis": {
            "backgroundcolor": "#E5ECF6",
            "gridcolor": "white",
            "gridwidth": 2,
            "linecolor": "white",
            "showbackground": true,
            "ticks": "",
            "zerolinecolor": "white"
           },
           "zaxis": {
            "backgroundcolor": "#E5ECF6",
            "gridcolor": "white",
            "gridwidth": 2,
            "linecolor": "white",
            "showbackground": true,
            "ticks": "",
            "zerolinecolor": "white"
           }
          },
          "shapedefaults": {
           "line": {
            "color": "#2a3f5f"
           }
          },
          "ternary": {
           "aaxis": {
            "gridcolor": "white",
            "linecolor": "white",
            "ticks": ""
           },
           "baxis": {
            "gridcolor": "white",
            "linecolor": "white",
            "ticks": ""
           },
           "bgcolor": "#E5ECF6",
           "caxis": {
            "gridcolor": "white",
            "linecolor": "white",
            "ticks": ""
           }
          },
          "title": {
           "x": 0.05
          },
          "xaxis": {
           "automargin": true,
           "gridcolor": "white",
           "linecolor": "white",
           "ticks": "",
           "title": {
            "standoff": 15
           },
           "zerolinecolor": "white",
           "zerolinewidth": 2
          },
          "yaxis": {
           "automargin": true,
           "gridcolor": "white",
           "linecolor": "white",
           "ticks": "",
           "title": {
            "standoff": 15
           },
           "zerolinecolor": "white",
           "zerolinewidth": 2
          }
         }
        },
        "title": {
         "font": {
          "size": 30
         },
         "text": "GDP"
        },
        "width": 1200,
        "xaxis": {
         "dtick": "2",
         "tickangle": 30,
         "title": {
          "text": "Year"
         }
        },
        "yaxis": {
         "tickformat": ",.0f",
         "title": {
          "text": "Real GDP growth (Annual percent change)"
         }
        }
       }
      }
     },
     "metadata": {},
     "output_type": "display_data"
    }
   ],
   "source": [
    "# list_selection = countrys_0_to_01\n",
    "# countrys_0_to_01 = countrys_0_to_01.insert(0, 'year')\n",
    "# graficos(df_null[countrys_0_to_01],list_selection,columna_y='Real GDP growth (Annual percent change)')\n",
    "plot_gdp(df_null,list(countrys_0_to_01))\n"
   ]
  },
  {
   "cell_type": "code",
   "execution_count": 54,
   "metadata": {},
   "outputs": [
    {
     "data": {
      "application/vnd.plotly.v1+json": {
       "config": {
        "plotlyServerURL": "https://plot.ly"
       },
       "data": [
        {
         "marker": {
          "color": "navy"
         },
         "mode": "lines+markers",
         "name": "Lebanon",
         "type": "scatter",
         "x": [
          1980,
          1981,
          1982,
          1983,
          1984,
          1985,
          1986,
          1987,
          1988,
          1989,
          1990,
          1991,
          1992,
          1993,
          1994,
          1995,
          1996,
          1997,
          1998,
          1999,
          2000,
          2001,
          2002,
          2003,
          2004,
          2005,
          2006,
          2007,
          2008,
          2009,
          2010,
          2011,
          2012,
          2013,
          2014,
          2015,
          2016,
          2017,
          2018,
          2019,
          2020,
          2021,
          2022,
          2023,
          2024,
          2025,
          2026,
          2027,
          2028
         ],
         "y": [
          1.5,
          0.5,
          -36.8,
          22.7,
          44.5,
          24.3,
          -6.8,
          16.7,
          -28.2,
          -42.2,
          -13.4,
          38.2,
          4.5,
          7,
          8,
          6.5,
          4,
          10.2,
          3.9,
          -0.8,
          1.1,
          3.9,
          3.4,
          1.7,
          7.5,
          0.7,
          1.5,
          9.3,
          9.1,
          10.2,
          8,
          0.9,
          2.6,
          3.8,
          2.5,
          0.5,
          1.6,
          0.9,
          -1.9,
          -6.9,
          -25.9,
          null,
          null,
          null,
          null,
          null,
          null,
          null,
          null
         ]
        },
        {
         "marker": {
          "color": "orange"
         },
         "mode": "lines+markers",
         "name": "Cambodia",
         "type": "scatter",
         "x": [
          1980,
          1981,
          1982,
          1983,
          1984,
          1985,
          1986,
          1987,
          1988,
          1989,
          1990,
          1991,
          1992,
          1993,
          1994,
          1995,
          1996,
          1997,
          1998,
          1999,
          2000,
          2001,
          2002,
          2003,
          2004,
          2005,
          2006,
          2007,
          2008,
          2009,
          2010,
          2011,
          2012,
          2013,
          2014,
          2015,
          2016,
          2017,
          2018,
          2019,
          2020,
          2021,
          2022,
          2023,
          2024,
          2025,
          2026,
          2027,
          2028
         ],
         "y": [
          null,
          null,
          null,
          null,
          null,
          null,
          null,
          null,
          9.6,
          3.3,
          1.1,
          7.6,
          7.1,
          4,
          8.2,
          6,
          5.9,
          4,
          4.7,
          12.7,
          9.6,
          8.6,
          6.6,
          8.5,
          10.3,
          13.3,
          10.8,
          10.2,
          6.7,
          0.1,
          6,
          7.1,
          7.3,
          7.4,
          7.1,
          7,
          6.9,
          7,
          7.5,
          7.1,
          -3.1,
          3,
          5,
          5.8,
          6.2,
          6.4,
          6.5,
          6.2,
          6.3
         ]
        },
        {
         "marker": {
          "color": "tomato"
         },
         "mode": "lines+markers",
         "name": "Aruba",
         "type": "scatter",
         "x": [
          1980,
          1981,
          1982,
          1983,
          1984,
          1985,
          1986,
          1987,
          1988,
          1989,
          1990,
          1991,
          1992,
          1993,
          1994,
          1995,
          1996,
          1997,
          1998,
          1999,
          2000,
          2001,
          2002,
          2003,
          2004,
          2005,
          2006,
          2007,
          2008,
          2009,
          2010,
          2011,
          2012,
          2013,
          2014,
          2015,
          2016,
          2017,
          2018,
          2019,
          2020,
          2021,
          2022,
          2023,
          2024,
          2025,
          2026,
          2027,
          2028
         ],
         "y": [
          null,
          null,
          null,
          null,
          null,
          null,
          null,
          16.1,
          18.6,
          12.1,
          4,
          8,
          5.9,
          7.3,
          8.2,
          2.5,
          1.3,
          7,
          2,
          1.4,
          7.7,
          4.2,
          -0.9,
          1.1,
          7.3,
          -0.4,
          1.1,
          3.1,
          1.8,
          -11.7,
          -2.7,
          3.4,
          -1,
          6.4,
          0,
          3.6,
          2.1,
          5.5,
          5.3,
          0.6,
          -18.6,
          17.2,
          5.7,
          1.6,
          1.2,
          1.2,
          1.1,
          1.1,
          1.1
         ]
        },
        {
         "marker": {
          "color": "crimson"
         },
         "mode": "lines+markers",
         "name": "Brunei Darussalam",
         "type": "scatter",
         "x": [
          1980,
          1981,
          1982,
          1983,
          1984,
          1985,
          1986,
          1987,
          1988,
          1989,
          1990,
          1991,
          1992,
          1993,
          1994,
          1995,
          1996,
          1997,
          1998,
          1999,
          2000,
          2001,
          2002,
          2003,
          2004,
          2005,
          2006,
          2007,
          2008,
          2009,
          2010,
          2011,
          2012,
          2013,
          2014,
          2015,
          2016,
          2017,
          2018,
          2019,
          2020,
          2021,
          2022,
          2023,
          2024,
          2025,
          2026,
          2027,
          2028
         ],
         "y": [
          null,
          null,
          null,
          null,
          null,
          null,
          -2.7,
          2,
          1.1,
          -1.1,
          1.1,
          3.1,
          4.8,
          0.3,
          3.1,
          4.5,
          2.9,
          -1.5,
          -0.6,
          3.1,
          2.9,
          2.7,
          3.9,
          2.9,
          0.5,
          0.4,
          4.4,
          0.2,
          -1.9,
          -1.8,
          2.6,
          3.7,
          0.9,
          -2.1,
          -2.5,
          -0.4,
          -2.5,
          1.3,
          0.1,
          3.9,
          1.1,
          -1.6,
          -1.5,
          3.3,
          3.5,
          3.1,
          2.4,
          3.2,
          3.1
         ]
        }
       ],
       "layout": {
        "height": 800,
        "legend": {
         "title": {
          "text": "Legend"
         },
         "x": 0,
         "y": 1
        },
        "margin": {
         "b": 0,
         "l": 0,
         "r": 0,
         "t": 50
        },
        "plot_bgcolor": "#F7FAFC",
        "showlegend": true,
        "template": {
         "data": {
          "bar": [
           {
            "error_x": {
             "color": "#2a3f5f"
            },
            "error_y": {
             "color": "#2a3f5f"
            },
            "marker": {
             "line": {
              "color": "#E5ECF6",
              "width": 0.5
             },
             "pattern": {
              "fillmode": "overlay",
              "size": 10,
              "solidity": 0.2
             }
            },
            "type": "bar"
           }
          ],
          "barpolar": [
           {
            "marker": {
             "line": {
              "color": "#E5ECF6",
              "width": 0.5
             },
             "pattern": {
              "fillmode": "overlay",
              "size": 10,
              "solidity": 0.2
             }
            },
            "type": "barpolar"
           }
          ],
          "carpet": [
           {
            "aaxis": {
             "endlinecolor": "#2a3f5f",
             "gridcolor": "white",
             "linecolor": "white",
             "minorgridcolor": "white",
             "startlinecolor": "#2a3f5f"
            },
            "baxis": {
             "endlinecolor": "#2a3f5f",
             "gridcolor": "white",
             "linecolor": "white",
             "minorgridcolor": "white",
             "startlinecolor": "#2a3f5f"
            },
            "type": "carpet"
           }
          ],
          "choropleth": [
           {
            "colorbar": {
             "outlinewidth": 0,
             "ticks": ""
            },
            "type": "choropleth"
           }
          ],
          "contour": [
           {
            "colorbar": {
             "outlinewidth": 0,
             "ticks": ""
            },
            "colorscale": [
             [
              0,
              "#0d0887"
             ],
             [
              0.1111111111111111,
              "#46039f"
             ],
             [
              0.2222222222222222,
              "#7201a8"
             ],
             [
              0.3333333333333333,
              "#9c179e"
             ],
             [
              0.4444444444444444,
              "#bd3786"
             ],
             [
              0.5555555555555556,
              "#d8576b"
             ],
             [
              0.6666666666666666,
              "#ed7953"
             ],
             [
              0.7777777777777778,
              "#fb9f3a"
             ],
             [
              0.8888888888888888,
              "#fdca26"
             ],
             [
              1,
              "#f0f921"
             ]
            ],
            "type": "contour"
           }
          ],
          "contourcarpet": [
           {
            "colorbar": {
             "outlinewidth": 0,
             "ticks": ""
            },
            "type": "contourcarpet"
           }
          ],
          "heatmap": [
           {
            "colorbar": {
             "outlinewidth": 0,
             "ticks": ""
            },
            "colorscale": [
             [
              0,
              "#0d0887"
             ],
             [
              0.1111111111111111,
              "#46039f"
             ],
             [
              0.2222222222222222,
              "#7201a8"
             ],
             [
              0.3333333333333333,
              "#9c179e"
             ],
             [
              0.4444444444444444,
              "#bd3786"
             ],
             [
              0.5555555555555556,
              "#d8576b"
             ],
             [
              0.6666666666666666,
              "#ed7953"
             ],
             [
              0.7777777777777778,
              "#fb9f3a"
             ],
             [
              0.8888888888888888,
              "#fdca26"
             ],
             [
              1,
              "#f0f921"
             ]
            ],
            "type": "heatmap"
           }
          ],
          "heatmapgl": [
           {
            "colorbar": {
             "outlinewidth": 0,
             "ticks": ""
            },
            "colorscale": [
             [
              0,
              "#0d0887"
             ],
             [
              0.1111111111111111,
              "#46039f"
             ],
             [
              0.2222222222222222,
              "#7201a8"
             ],
             [
              0.3333333333333333,
              "#9c179e"
             ],
             [
              0.4444444444444444,
              "#bd3786"
             ],
             [
              0.5555555555555556,
              "#d8576b"
             ],
             [
              0.6666666666666666,
              "#ed7953"
             ],
             [
              0.7777777777777778,
              "#fb9f3a"
             ],
             [
              0.8888888888888888,
              "#fdca26"
             ],
             [
              1,
              "#f0f921"
             ]
            ],
            "type": "heatmapgl"
           }
          ],
          "histogram": [
           {
            "marker": {
             "pattern": {
              "fillmode": "overlay",
              "size": 10,
              "solidity": 0.2
             }
            },
            "type": "histogram"
           }
          ],
          "histogram2d": [
           {
            "colorbar": {
             "outlinewidth": 0,
             "ticks": ""
            },
            "colorscale": [
             [
              0,
              "#0d0887"
             ],
             [
              0.1111111111111111,
              "#46039f"
             ],
             [
              0.2222222222222222,
              "#7201a8"
             ],
             [
              0.3333333333333333,
              "#9c179e"
             ],
             [
              0.4444444444444444,
              "#bd3786"
             ],
             [
              0.5555555555555556,
              "#d8576b"
             ],
             [
              0.6666666666666666,
              "#ed7953"
             ],
             [
              0.7777777777777778,
              "#fb9f3a"
             ],
             [
              0.8888888888888888,
              "#fdca26"
             ],
             [
              1,
              "#f0f921"
             ]
            ],
            "type": "histogram2d"
           }
          ],
          "histogram2dcontour": [
           {
            "colorbar": {
             "outlinewidth": 0,
             "ticks": ""
            },
            "colorscale": [
             [
              0,
              "#0d0887"
             ],
             [
              0.1111111111111111,
              "#46039f"
             ],
             [
              0.2222222222222222,
              "#7201a8"
             ],
             [
              0.3333333333333333,
              "#9c179e"
             ],
             [
              0.4444444444444444,
              "#bd3786"
             ],
             [
              0.5555555555555556,
              "#d8576b"
             ],
             [
              0.6666666666666666,
              "#ed7953"
             ],
             [
              0.7777777777777778,
              "#fb9f3a"
             ],
             [
              0.8888888888888888,
              "#fdca26"
             ],
             [
              1,
              "#f0f921"
             ]
            ],
            "type": "histogram2dcontour"
           }
          ],
          "mesh3d": [
           {
            "colorbar": {
             "outlinewidth": 0,
             "ticks": ""
            },
            "type": "mesh3d"
           }
          ],
          "parcoords": [
           {
            "line": {
             "colorbar": {
              "outlinewidth": 0,
              "ticks": ""
             }
            },
            "type": "parcoords"
           }
          ],
          "pie": [
           {
            "automargin": true,
            "type": "pie"
           }
          ],
          "scatter": [
           {
            "fillpattern": {
             "fillmode": "overlay",
             "size": 10,
             "solidity": 0.2
            },
            "type": "scatter"
           }
          ],
          "scatter3d": [
           {
            "line": {
             "colorbar": {
              "outlinewidth": 0,
              "ticks": ""
             }
            },
            "marker": {
             "colorbar": {
              "outlinewidth": 0,
              "ticks": ""
             }
            },
            "type": "scatter3d"
           }
          ],
          "scattercarpet": [
           {
            "marker": {
             "colorbar": {
              "outlinewidth": 0,
              "ticks": ""
             }
            },
            "type": "scattercarpet"
           }
          ],
          "scattergeo": [
           {
            "marker": {
             "colorbar": {
              "outlinewidth": 0,
              "ticks": ""
             }
            },
            "type": "scattergeo"
           }
          ],
          "scattergl": [
           {
            "marker": {
             "colorbar": {
              "outlinewidth": 0,
              "ticks": ""
             }
            },
            "type": "scattergl"
           }
          ],
          "scattermapbox": [
           {
            "marker": {
             "colorbar": {
              "outlinewidth": 0,
              "ticks": ""
             }
            },
            "type": "scattermapbox"
           }
          ],
          "scatterpolar": [
           {
            "marker": {
             "colorbar": {
              "outlinewidth": 0,
              "ticks": ""
             }
            },
            "type": "scatterpolar"
           }
          ],
          "scatterpolargl": [
           {
            "marker": {
             "colorbar": {
              "outlinewidth": 0,
              "ticks": ""
             }
            },
            "type": "scatterpolargl"
           }
          ],
          "scatterternary": [
           {
            "marker": {
             "colorbar": {
              "outlinewidth": 0,
              "ticks": ""
             }
            },
            "type": "scatterternary"
           }
          ],
          "surface": [
           {
            "colorbar": {
             "outlinewidth": 0,
             "ticks": ""
            },
            "colorscale": [
             [
              0,
              "#0d0887"
             ],
             [
              0.1111111111111111,
              "#46039f"
             ],
             [
              0.2222222222222222,
              "#7201a8"
             ],
             [
              0.3333333333333333,
              "#9c179e"
             ],
             [
              0.4444444444444444,
              "#bd3786"
             ],
             [
              0.5555555555555556,
              "#d8576b"
             ],
             [
              0.6666666666666666,
              "#ed7953"
             ],
             [
              0.7777777777777778,
              "#fb9f3a"
             ],
             [
              0.8888888888888888,
              "#fdca26"
             ],
             [
              1,
              "#f0f921"
             ]
            ],
            "type": "surface"
           }
          ],
          "table": [
           {
            "cells": {
             "fill": {
              "color": "#EBF0F8"
             },
             "line": {
              "color": "white"
             }
            },
            "header": {
             "fill": {
              "color": "#C8D4E3"
             },
             "line": {
              "color": "white"
             }
            },
            "type": "table"
           }
          ]
         },
         "layout": {
          "annotationdefaults": {
           "arrowcolor": "#2a3f5f",
           "arrowhead": 0,
           "arrowwidth": 1
          },
          "autotypenumbers": "strict",
          "coloraxis": {
           "colorbar": {
            "outlinewidth": 0,
            "ticks": ""
           }
          },
          "colorscale": {
           "diverging": [
            [
             0,
             "#8e0152"
            ],
            [
             0.1,
             "#c51b7d"
            ],
            [
             0.2,
             "#de77ae"
            ],
            [
             0.3,
             "#f1b6da"
            ],
            [
             0.4,
             "#fde0ef"
            ],
            [
             0.5,
             "#f7f7f7"
            ],
            [
             0.6,
             "#e6f5d0"
            ],
            [
             0.7,
             "#b8e186"
            ],
            [
             0.8,
             "#7fbc41"
            ],
            [
             0.9,
             "#4d9221"
            ],
            [
             1,
             "#276419"
            ]
           ],
           "sequential": [
            [
             0,
             "#0d0887"
            ],
            [
             0.1111111111111111,
             "#46039f"
            ],
            [
             0.2222222222222222,
             "#7201a8"
            ],
            [
             0.3333333333333333,
             "#9c179e"
            ],
            [
             0.4444444444444444,
             "#bd3786"
            ],
            [
             0.5555555555555556,
             "#d8576b"
            ],
            [
             0.6666666666666666,
             "#ed7953"
            ],
            [
             0.7777777777777778,
             "#fb9f3a"
            ],
            [
             0.8888888888888888,
             "#fdca26"
            ],
            [
             1,
             "#f0f921"
            ]
           ],
           "sequentialminus": [
            [
             0,
             "#0d0887"
            ],
            [
             0.1111111111111111,
             "#46039f"
            ],
            [
             0.2222222222222222,
             "#7201a8"
            ],
            [
             0.3333333333333333,
             "#9c179e"
            ],
            [
             0.4444444444444444,
             "#bd3786"
            ],
            [
             0.5555555555555556,
             "#d8576b"
            ],
            [
             0.6666666666666666,
             "#ed7953"
            ],
            [
             0.7777777777777778,
             "#fb9f3a"
            ],
            [
             0.8888888888888888,
             "#fdca26"
            ],
            [
             1,
             "#f0f921"
            ]
           ]
          },
          "colorway": [
           "#636efa",
           "#EF553B",
           "#00cc96",
           "#ab63fa",
           "#FFA15A",
           "#19d3f3",
           "#FF6692",
           "#B6E880",
           "#FF97FF",
           "#FECB52"
          ],
          "font": {
           "color": "#2a3f5f"
          },
          "geo": {
           "bgcolor": "white",
           "lakecolor": "white",
           "landcolor": "#E5ECF6",
           "showlakes": true,
           "showland": true,
           "subunitcolor": "white"
          },
          "hoverlabel": {
           "align": "left"
          },
          "hovermode": "closest",
          "mapbox": {
           "style": "light"
          },
          "paper_bgcolor": "white",
          "plot_bgcolor": "#E5ECF6",
          "polar": {
           "angularaxis": {
            "gridcolor": "white",
            "linecolor": "white",
            "ticks": ""
           },
           "bgcolor": "#E5ECF6",
           "radialaxis": {
            "gridcolor": "white",
            "linecolor": "white",
            "ticks": ""
           }
          },
          "scene": {
           "xaxis": {
            "backgroundcolor": "#E5ECF6",
            "gridcolor": "white",
            "gridwidth": 2,
            "linecolor": "white",
            "showbackground": true,
            "ticks": "",
            "zerolinecolor": "white"
           },
           "yaxis": {
            "backgroundcolor": "#E5ECF6",
            "gridcolor": "white",
            "gridwidth": 2,
            "linecolor": "white",
            "showbackground": true,
            "ticks": "",
            "zerolinecolor": "white"
           },
           "zaxis": {
            "backgroundcolor": "#E5ECF6",
            "gridcolor": "white",
            "gridwidth": 2,
            "linecolor": "white",
            "showbackground": true,
            "ticks": "",
            "zerolinecolor": "white"
           }
          },
          "shapedefaults": {
           "line": {
            "color": "#2a3f5f"
           }
          },
          "ternary": {
           "aaxis": {
            "gridcolor": "white",
            "linecolor": "white",
            "ticks": ""
           },
           "baxis": {
            "gridcolor": "white",
            "linecolor": "white",
            "ticks": ""
           },
           "bgcolor": "#E5ECF6",
           "caxis": {
            "gridcolor": "white",
            "linecolor": "white",
            "ticks": ""
           }
          },
          "title": {
           "x": 0.05
          },
          "xaxis": {
           "automargin": true,
           "gridcolor": "white",
           "linecolor": "white",
           "ticks": "",
           "title": {
            "standoff": 15
           },
           "zerolinecolor": "white",
           "zerolinewidth": 2
          },
          "yaxis": {
           "automargin": true,
           "gridcolor": "white",
           "linecolor": "white",
           "ticks": "",
           "title": {
            "standoff": 15
           },
           "zerolinecolor": "white",
           "zerolinewidth": 2
          }
         }
        },
        "title": {
         "font": {
          "size": 30
         },
         "text": "GDP"
        },
        "width": 1200,
        "xaxis": {
         "dtick": "2",
         "tickangle": 30,
         "title": {
          "text": "Year"
         }
        },
        "yaxis": {
         "tickformat": ",.0f",
         "title": {
          "text": "Real GDP growth (Annual percent change)"
         }
        }
       }
      }
     },
     "metadata": {},
     "output_type": "display_data"
    }
   ],
   "source": [
    "# list_selection = countrys_01_to_02\n",
    "# countrys_01_to_02 = countrys_01_to_02.insert(0, 'year')\n",
    "# graficos(df_null[countrys_01_to_02],list_selection,columna_y='Real GDP growth (Annual percent change)')\n",
    "plot_gdp(df_null,countrys_01_to_02)"
   ]
  },
  {
   "cell_type": "code",
   "execution_count": 55,
   "metadata": {},
   "outputs": [
    {
     "data": {
      "application/vnd.plotly.v1+json": {
       "config": {
        "plotlyServerURL": "https://plot.ly"
       },
       "data": [
        {
         "marker": {
          "color": "navy"
         },
         "mode": "lines+markers",
         "name": "Uzbekistan",
         "type": "scatter",
         "x": [
          1980,
          1981,
          1982,
          1983,
          1984,
          1985,
          1986,
          1987,
          1988,
          1989,
          1990,
          1991,
          1992,
          1993,
          1994,
          1995,
          1996,
          1997,
          1998,
          1999,
          2000,
          2001,
          2002,
          2003,
          2004,
          2005,
          2006,
          2007,
          2008,
          2009,
          2010,
          2011,
          2012,
          2013,
          2014,
          2015,
          2016,
          2017,
          2018,
          2019,
          2020,
          2021,
          2022,
          2023,
          2024,
          2025,
          2026,
          2027,
          2028
         ],
         "y": [
          null,
          null,
          null,
          null,
          null,
          null,
          null,
          null,
          null,
          null,
          null,
          null,
          -11.1,
          -2.3,
          -5.2,
          -0.9,
          1.7,
          5.2,
          4.3,
          4.3,
          3.8,
          4.2,
          4,
          4.2,
          7.4,
          7,
          7.5,
          9.5,
          9,
          8.1,
          7.1,
          7.5,
          7.1,
          7.3,
          6.9,
          7.2,
          5.9,
          4.4,
          5.9,
          6,
          2,
          7.4,
          5.7,
          5.3,
          5.5,
          5.5,
          5.5,
          5.5,
          5.5
         ]
        },
        {
         "marker": {
          "color": "orange"
         },
         "mode": "lines+markers",
         "name": "Euro area",
         "type": "scatter",
         "x": [
          1980,
          1981,
          1982,
          1983,
          1984,
          1985,
          1986,
          1987,
          1988,
          1989,
          1990,
          1991,
          1992,
          1993,
          1994,
          1995,
          1996,
          1997,
          1998,
          1999,
          2000,
          2001,
          2002,
          2003,
          2004,
          2005,
          2006,
          2007,
          2008,
          2009,
          2010,
          2011,
          2012,
          2013,
          2014,
          2015,
          2016,
          2017,
          2018,
          2019,
          2020,
          2021,
          2022,
          2023,
          2024,
          2025,
          2026,
          2027,
          2028
         ],
         "y": [
          null,
          null,
          null,
          null,
          null,
          null,
          null,
          null,
          null,
          null,
          null,
          null,
          1.4,
          -0.8,
          2.5,
          2.9,
          1.6,
          2.6,
          3,
          2.9,
          3.8,
          2.2,
          0.9,
          0.7,
          2.3,
          1.7,
          3.2,
          3,
          0.4,
          -4.5,
          2.1,
          1.7,
          -0.9,
          -0.2,
          1.4,
          2,
          1.9,
          2.6,
          1.8,
          1.6,
          -6.1,
          5.4,
          3.5,
          0.8,
          1.4,
          1.9,
          1.7,
          1.5,
          1.4
         ]
        },
        {
         "marker": {
          "color": "tomato"
         },
         "mode": "lines+markers",
         "name": "Yemen",
         "type": "scatter",
         "x": [
          1980,
          1981,
          1982,
          1983,
          1984,
          1985,
          1986,
          1987,
          1988,
          1989,
          1990,
          1991,
          1992,
          1993,
          1994,
          1995,
          1996,
          1997,
          1998,
          1999,
          2000,
          2001,
          2002,
          2003,
          2004,
          2005,
          2006,
          2007,
          2008,
          2009,
          2010,
          2011,
          2012,
          2013,
          2014,
          2015,
          2016,
          2017,
          2018,
          2019,
          2020,
          2021,
          2022,
          2023,
          2024,
          2025,
          2026,
          2027,
          2028
         ],
         "y": [
          null,
          null,
          null,
          null,
          null,
          null,
          null,
          null,
          null,
          null,
          null,
          6.3,
          8.2,
          4,
          6.7,
          5.7,
          4.6,
          5.2,
          6,
          3.8,
          6.2,
          3.8,
          3.9,
          3.7,
          4,
          5.6,
          3.2,
          3.3,
          3.6,
          3.9,
          7.7,
          -12.7,
          2.4,
          4.8,
          -0.2,
          -28,
          -9.4,
          -5.1,
          0.8,
          1.4,
          -8.5,
          -1,
          1.5,
          -0.5,
          2,
          7,
          6.5,
          6,
          5.5
         ]
        },
        {
         "marker": {
          "color": "crimson"
         },
         "mode": "lines+markers",
         "name": "Africa (Region)",
         "type": "scatter",
         "x": [
          1980,
          1981,
          1982,
          1983,
          1984,
          1985,
          1986,
          1987,
          1988,
          1989,
          1990,
          1991,
          1992,
          1993,
          1994,
          1995,
          1996,
          1997,
          1998,
          1999,
          2000,
          2001,
          2002,
          2003,
          2004,
          2005,
          2006,
          2007,
          2008,
          2009,
          2010,
          2011,
          2012,
          2013,
          2014,
          2015,
          2016,
          2017,
          2018,
          2019,
          2020,
          2021,
          2022,
          2023,
          2024,
          2025,
          2026,
          2027,
          2028
         ],
         "y": [
          null,
          null,
          null,
          null,
          null,
          null,
          null,
          null,
          null,
          null,
          null,
          2.3,
          0.1,
          0.9,
          2.5,
          2.6,
          5,
          3.2,
          4,
          3.1,
          4.3,
          4.5,
          4.9,
          5.5,
          5.9,
          5.9,
          5.5,
          6.1,
          5.2,
          3,
          5.9,
          2.7,
          6.2,
          3.7,
          3.8,
          3.4,
          2.2,
          3.5,
          3.4,
          3,
          -1.7,
          4.9,
          3.8,
          3.7,
          4.2,
          4.3,
          4.3,
          4.4,
          4.5
         ]
        },
        {
         "marker": {
          "color": "darkgreen"
         },
         "mode": "lines+markers",
         "name": "Sub-Saharan Africa (Region) ",
         "type": "scatter",
         "x": [
          1980,
          1981,
          1982,
          1983,
          1984,
          1985,
          1986,
          1987,
          1988,
          1989,
          1990,
          1991,
          1992,
          1993,
          1994,
          1995,
          1996,
          1997,
          1998,
          1999,
          2000,
          2001,
          2002,
          2003,
          2004,
          2005,
          2006,
          2007,
          2008,
          2009,
          2010,
          2011,
          2012,
          2013,
          2014,
          2015,
          2016,
          2017,
          2018,
          2019,
          2020,
          2021,
          2022,
          2023,
          2024,
          2025,
          2026,
          2027,
          2028
         ],
         "y": [
          null,
          null,
          null,
          null,
          null,
          null,
          null,
          null,
          null,
          null,
          null,
          0.5,
          0.3,
          1.7,
          1.9,
          4.2,
          4.8,
          3.6,
          2.8,
          2.5,
          4.2,
          5,
          6.2,
          4.9,
          6.7,
          6.2,
          6.1,
          6.5,
          5.5,
          3.2,
          6.7,
          4.5,
          3.9,
          4.8,
          4.9,
          3.3,
          1.6,
          2.9,
          3,
          3,
          -1.7,
          4.6,
          3.6,
          3.5,
          4.1,
          4.1,
          4.1,
          4.3,
          4.3
         ]
        },
        {
         "marker": {
          "color": "brown"
         },
         "mode": "lines+markers",
         "name": "Sub-Saharan Africa",
         "type": "scatter",
         "x": [
          1980,
          1981,
          1982,
          1983,
          1984,
          1985,
          1986,
          1987,
          1988,
          1989,
          1990,
          1991,
          1992,
          1993,
          1994,
          1995,
          1996,
          1997,
          1998,
          1999,
          2000,
          2001,
          2002,
          2003,
          2004,
          2005,
          2006,
          2007,
          2008,
          2009,
          2010,
          2011,
          2012,
          2013,
          2014,
          2015,
          2016,
          2017,
          2018,
          2019,
          2020,
          2021,
          2022,
          2023,
          2024,
          2025,
          2026,
          2027,
          2028
         ],
         "y": [
          null,
          null,
          null,
          null,
          null,
          null,
          null,
          null,
          null,
          null,
          null,
          0.2,
          0,
          1.6,
          1.8,
          3.9,
          4.8,
          3.5,
          2.4,
          2.4,
          4,
          4.6,
          6.3,
          4.8,
          6.9,
          6.3,
          6,
          6.6,
          5.7,
          3.6,
          6.9,
          5,
          4.8,
          4.9,
          5,
          3.2,
          1.5,
          2.9,
          3.2,
          3.3,
          -1.7,
          4.8,
          3.9,
          3.6,
          4.2,
          4.1,
          4.2,
          4.3,
          4.4
         ]
        },
        {
         "marker": {
          "color": "forestgreen"
         },
         "mode": "lines+markers",
         "name": "Russian Federation",
         "type": "scatter",
         "x": [
          1980,
          1981,
          1982,
          1983,
          1984,
          1985,
          1986,
          1987,
          1988,
          1989,
          1990,
          1991,
          1992,
          1993,
          1994,
          1995,
          1996,
          1997,
          1998,
          1999,
          2000,
          2001,
          2002,
          2003,
          2004,
          2005,
          2006,
          2007,
          2008,
          2009,
          2010,
          2011,
          2012,
          2013,
          2014,
          2015,
          2016,
          2017,
          2018,
          2019,
          2020,
          2021,
          2022,
          2023,
          2024,
          2025,
          2026,
          2027,
          2028
         ],
         "y": [
          null,
          null,
          null,
          null,
          null,
          null,
          null,
          null,
          null,
          null,
          null,
          -5,
          -14.5,
          -8.7,
          -12.7,
          -4.1,
          -3.6,
          1.4,
          -5.3,
          6.4,
          10,
          5.1,
          4.7,
          7.3,
          7.2,
          6.4,
          8.2,
          8.5,
          5.2,
          -7.8,
          4.5,
          5.1,
          4,
          1.8,
          0.7,
          -2,
          0.2,
          1.8,
          2.8,
          2.2,
          -2.7,
          5.6,
          -2.1,
          0.7,
          1.3,
          1,
          0.8,
          0.8,
          0.7
         ]
        },
        {
         "marker": {
          "color": "steelblue"
         },
         "mode": "lines+markers",
         "name": "Djibouti",
         "type": "scatter",
         "x": [
          1980,
          1981,
          1982,
          1983,
          1984,
          1985,
          1986,
          1987,
          1988,
          1989,
          1990,
          1991,
          1992,
          1993,
          1994,
          1995,
          1996,
          1997,
          1998,
          1999,
          2000,
          2001,
          2002,
          2003,
          2004,
          2005,
          2006,
          2007,
          2008,
          2009,
          2010,
          2011,
          2012,
          2013,
          2014,
          2015,
          2016,
          2017,
          2018,
          2019,
          2020,
          2021,
          2022,
          2023,
          2024,
          2025,
          2026,
          2027,
          2028
         ],
         "y": [
          null,
          null,
          null,
          null,
          null,
          null,
          null,
          null,
          null,
          null,
          null,
          -4.5,
          0.6,
          -6.8,
          -1.4,
          -3.5,
          -3.7,
          -1.2,
          0.1,
          2.9,
          0.7,
          1.8,
          3.2,
          3.2,
          2.8,
          3.1,
          4.8,
          5,
          5.8,
          1.6,
          4.1,
          7.3,
          4.8,
          5,
          7.1,
          7.5,
          7.1,
          5.5,
          4.8,
          5.5,
          1.2,
          4.8,
          2.5,
          4,
          6,
          5.5,
          5,
          5,
          5
         ]
        },
        {
         "marker": {
          "color": "navy"
         },
         "mode": "lines+markers",
         "name": "Nigeria",
         "type": "scatter",
         "x": [
          1980,
          1981,
          1982,
          1983,
          1984,
          1985,
          1986,
          1987,
          1988,
          1989,
          1990,
          1991,
          1992,
          1993,
          1994,
          1995,
          1996,
          1997,
          1998,
          1999,
          2000,
          2001,
          2002,
          2003,
          2004,
          2005,
          2006,
          2007,
          2008,
          2009,
          2010,
          2011,
          2012,
          2013,
          2014,
          2015,
          2016,
          2017,
          2018,
          2019,
          2020,
          2021,
          2022,
          2023,
          2024,
          2025,
          2026,
          2027,
          2028
         ],
         "y": [
          null,
          null,
          null,
          null,
          null,
          null,
          null,
          null,
          null,
          null,
          null,
          -0.6,
          2.2,
          1.6,
          0.3,
          1.9,
          4.1,
          2.9,
          2.5,
          0.5,
          5.5,
          6.7,
          14.6,
          9.5,
          10.4,
          7,
          6.7,
          7.3,
          7.2,
          8.4,
          11.3,
          4.9,
          4.3,
          5.4,
          6.3,
          2.7,
          -1.6,
          0.8,
          1.9,
          2.2,
          -1.8,
          3.6,
          3.3,
          3.2,
          3,
          3,
          3,
          3,
          3
         ]
        },
        {
         "marker": {
          "color": "orange"
         },
         "mode": "lines+markers",
         "name": "Namibia",
         "type": "scatter",
         "x": [
          1980,
          1981,
          1982,
          1983,
          1984,
          1985,
          1986,
          1987,
          1988,
          1989,
          1990,
          1991,
          1992,
          1993,
          1994,
          1995,
          1996,
          1997,
          1998,
          1999,
          2000,
          2001,
          2002,
          2003,
          2004,
          2005,
          2006,
          2007,
          2008,
          2009,
          2010,
          2011,
          2012,
          2013,
          2014,
          2015,
          2016,
          2017,
          2018,
          2019,
          2020,
          2021,
          2022,
          2023,
          2024,
          2025,
          2026,
          2027,
          2028
         ],
         "y": [
          null,
          null,
          null,
          null,
          null,
          null,
          null,
          null,
          null,
          null,
          null,
          5.3,
          9.3,
          -1.6,
          3,
          4.1,
          3.2,
          4.2,
          3.3,
          3.4,
          3.5,
          2.4,
          6.7,
          3.5,
          6.6,
          4.7,
          3.9,
          3.6,
          2.6,
          0.3,
          6,
          5.1,
          5.1,
          5.6,
          6.1,
          4.3,
          0,
          -1,
          1.1,
          -0.8,
          -8,
          2.7,
          3.8,
          2.8,
          2.6,
          2.6,
          2.6,
          2.6,
          2.6
         ]
        },
        {
         "marker": {
          "color": "tomato"
         },
         "mode": "lines+markers",
         "name": "Moldova",
         "type": "scatter",
         "x": [
          1980,
          1981,
          1982,
          1983,
          1984,
          1985,
          1986,
          1987,
          1988,
          1989,
          1990,
          1991,
          1992,
          1993,
          1994,
          1995,
          1996,
          1997,
          1998,
          1999,
          2000,
          2001,
          2002,
          2003,
          2004,
          2005,
          2006,
          2007,
          2008,
          2009,
          2010,
          2011,
          2012,
          2013,
          2014,
          2015,
          2016,
          2017,
          2018,
          2019,
          2020,
          2021,
          2022,
          2023,
          2024,
          2025,
          2026,
          2027,
          2028
         ],
         "y": [
          null,
          null,
          null,
          null,
          null,
          null,
          null,
          null,
          null,
          null,
          null,
          -17.5,
          -29.7,
          -1.2,
          -30.9,
          -1.4,
          -5.9,
          1.6,
          -6.5,
          -3.4,
          2.1,
          6.1,
          7.8,
          6.6,
          7.4,
          7.5,
          4.8,
          3,
          7.8,
          -6,
          7.1,
          5.8,
          -0.6,
          9,
          5,
          -0.3,
          4.4,
          4.2,
          4.1,
          3.6,
          -8.3,
          13.9,
          -5.6,
          2,
          4.3,
          5,
          5.1,
          5.1,
          5.1
         ]
        },
        {
         "marker": {
          "color": "crimson"
         },
         "mode": "lines+markers",
         "name": "Mauritania",
         "type": "scatter",
         "x": [
          1980,
          1981,
          1982,
          1983,
          1984,
          1985,
          1986,
          1987,
          1988,
          1989,
          1990,
          1991,
          1992,
          1993,
          1994,
          1995,
          1996,
          1997,
          1998,
          1999,
          2000,
          2001,
          2002,
          2003,
          2004,
          2005,
          2006,
          2007,
          2008,
          2009,
          2010,
          2011,
          2012,
          2013,
          2014,
          2015,
          2016,
          2017,
          2018,
          2019,
          2020,
          2021,
          2022,
          2023,
          2024,
          2025,
          2026,
          2027,
          2028
         ],
         "y": [
          null,
          null,
          null,
          null,
          null,
          null,
          null,
          null,
          null,
          null,
          null,
          0,
          1.8,
          5.9,
          -3.1,
          9.8,
          5.8,
          -4,
          2.8,
          3.7,
          -3.9,
          -0.8,
          1.4,
          6.9,
          4.7,
          8.6,
          18.3,
          -2,
          -0.3,
          0.1,
          2.6,
          4.2,
          4.5,
          4.2,
          4.3,
          5.4,
          1.3,
          6.3,
          4.8,
          5.4,
          -0.9,
          2.4,
          5,
          4.4,
          5.1,
          6.5,
          4,
          5.1,
          4
         ]
        },
        {
         "marker": {
          "color": "darkgreen"
         },
         "mode": "lines+markers",
         "name": "Georgia",
         "type": "scatter",
         "x": [
          1980,
          1981,
          1982,
          1983,
          1984,
          1985,
          1986,
          1987,
          1988,
          1989,
          1990,
          1991,
          1992,
          1993,
          1994,
          1995,
          1996,
          1997,
          1998,
          1999,
          2000,
          2001,
          2002,
          2003,
          2004,
          2005,
          2006,
          2007,
          2008,
          2009,
          2010,
          2011,
          2012,
          2013,
          2014,
          2015,
          2016,
          2017,
          2018,
          2019,
          2020,
          2021,
          2022,
          2023,
          2024,
          2025,
          2026,
          2027,
          2028
         ],
         "y": [
          null,
          null,
          null,
          null,
          null,
          null,
          null,
          null,
          null,
          null,
          null,
          -21.1,
          -44.9,
          -29.3,
          -10.4,
          2.6,
          10.5,
          10.5,
          3.1,
          2.9,
          1.8,
          4.8,
          5.5,
          11.1,
          5.8,
          9.6,
          9.4,
          12.6,
          2.4,
          -3.7,
          6.2,
          7.4,
          6.4,
          3.6,
          4.4,
          3,
          2.9,
          4.8,
          4.8,
          5,
          -6.8,
          10.5,
          10.1,
          4,
          5,
          5.2,
          5.2,
          5.2,
          5.2
         ]
        }
       ],
       "layout": {
        "height": 800,
        "legend": {
         "title": {
          "text": "Legend"
         },
         "x": 0,
         "y": 1
        },
        "margin": {
         "b": 0,
         "l": 0,
         "r": 0,
         "t": 50
        },
        "plot_bgcolor": "#F7FAFC",
        "showlegend": true,
        "template": {
         "data": {
          "bar": [
           {
            "error_x": {
             "color": "#2a3f5f"
            },
            "error_y": {
             "color": "#2a3f5f"
            },
            "marker": {
             "line": {
              "color": "#E5ECF6",
              "width": 0.5
             },
             "pattern": {
              "fillmode": "overlay",
              "size": 10,
              "solidity": 0.2
             }
            },
            "type": "bar"
           }
          ],
          "barpolar": [
           {
            "marker": {
             "line": {
              "color": "#E5ECF6",
              "width": 0.5
             },
             "pattern": {
              "fillmode": "overlay",
              "size": 10,
              "solidity": 0.2
             }
            },
            "type": "barpolar"
           }
          ],
          "carpet": [
           {
            "aaxis": {
             "endlinecolor": "#2a3f5f",
             "gridcolor": "white",
             "linecolor": "white",
             "minorgridcolor": "white",
             "startlinecolor": "#2a3f5f"
            },
            "baxis": {
             "endlinecolor": "#2a3f5f",
             "gridcolor": "white",
             "linecolor": "white",
             "minorgridcolor": "white",
             "startlinecolor": "#2a3f5f"
            },
            "type": "carpet"
           }
          ],
          "choropleth": [
           {
            "colorbar": {
             "outlinewidth": 0,
             "ticks": ""
            },
            "type": "choropleth"
           }
          ],
          "contour": [
           {
            "colorbar": {
             "outlinewidth": 0,
             "ticks": ""
            },
            "colorscale": [
             [
              0,
              "#0d0887"
             ],
             [
              0.1111111111111111,
              "#46039f"
             ],
             [
              0.2222222222222222,
              "#7201a8"
             ],
             [
              0.3333333333333333,
              "#9c179e"
             ],
             [
              0.4444444444444444,
              "#bd3786"
             ],
             [
              0.5555555555555556,
              "#d8576b"
             ],
             [
              0.6666666666666666,
              "#ed7953"
             ],
             [
              0.7777777777777778,
              "#fb9f3a"
             ],
             [
              0.8888888888888888,
              "#fdca26"
             ],
             [
              1,
              "#f0f921"
             ]
            ],
            "type": "contour"
           }
          ],
          "contourcarpet": [
           {
            "colorbar": {
             "outlinewidth": 0,
             "ticks": ""
            },
            "type": "contourcarpet"
           }
          ],
          "heatmap": [
           {
            "colorbar": {
             "outlinewidth": 0,
             "ticks": ""
            },
            "colorscale": [
             [
              0,
              "#0d0887"
             ],
             [
              0.1111111111111111,
              "#46039f"
             ],
             [
              0.2222222222222222,
              "#7201a8"
             ],
             [
              0.3333333333333333,
              "#9c179e"
             ],
             [
              0.4444444444444444,
              "#bd3786"
             ],
             [
              0.5555555555555556,
              "#d8576b"
             ],
             [
              0.6666666666666666,
              "#ed7953"
             ],
             [
              0.7777777777777778,
              "#fb9f3a"
             ],
             [
              0.8888888888888888,
              "#fdca26"
             ],
             [
              1,
              "#f0f921"
             ]
            ],
            "type": "heatmap"
           }
          ],
          "heatmapgl": [
           {
            "colorbar": {
             "outlinewidth": 0,
             "ticks": ""
            },
            "colorscale": [
             [
              0,
              "#0d0887"
             ],
             [
              0.1111111111111111,
              "#46039f"
             ],
             [
              0.2222222222222222,
              "#7201a8"
             ],
             [
              0.3333333333333333,
              "#9c179e"
             ],
             [
              0.4444444444444444,
              "#bd3786"
             ],
             [
              0.5555555555555556,
              "#d8576b"
             ],
             [
              0.6666666666666666,
              "#ed7953"
             ],
             [
              0.7777777777777778,
              "#fb9f3a"
             ],
             [
              0.8888888888888888,
              "#fdca26"
             ],
             [
              1,
              "#f0f921"
             ]
            ],
            "type": "heatmapgl"
           }
          ],
          "histogram": [
           {
            "marker": {
             "pattern": {
              "fillmode": "overlay",
              "size": 10,
              "solidity": 0.2
             }
            },
            "type": "histogram"
           }
          ],
          "histogram2d": [
           {
            "colorbar": {
             "outlinewidth": 0,
             "ticks": ""
            },
            "colorscale": [
             [
              0,
              "#0d0887"
             ],
             [
              0.1111111111111111,
              "#46039f"
             ],
             [
              0.2222222222222222,
              "#7201a8"
             ],
             [
              0.3333333333333333,
              "#9c179e"
             ],
             [
              0.4444444444444444,
              "#bd3786"
             ],
             [
              0.5555555555555556,
              "#d8576b"
             ],
             [
              0.6666666666666666,
              "#ed7953"
             ],
             [
              0.7777777777777778,
              "#fb9f3a"
             ],
             [
              0.8888888888888888,
              "#fdca26"
             ],
             [
              1,
              "#f0f921"
             ]
            ],
            "type": "histogram2d"
           }
          ],
          "histogram2dcontour": [
           {
            "colorbar": {
             "outlinewidth": 0,
             "ticks": ""
            },
            "colorscale": [
             [
              0,
              "#0d0887"
             ],
             [
              0.1111111111111111,
              "#46039f"
             ],
             [
              0.2222222222222222,
              "#7201a8"
             ],
             [
              0.3333333333333333,
              "#9c179e"
             ],
             [
              0.4444444444444444,
              "#bd3786"
             ],
             [
              0.5555555555555556,
              "#d8576b"
             ],
             [
              0.6666666666666666,
              "#ed7953"
             ],
             [
              0.7777777777777778,
              "#fb9f3a"
             ],
             [
              0.8888888888888888,
              "#fdca26"
             ],
             [
              1,
              "#f0f921"
             ]
            ],
            "type": "histogram2dcontour"
           }
          ],
          "mesh3d": [
           {
            "colorbar": {
             "outlinewidth": 0,
             "ticks": ""
            },
            "type": "mesh3d"
           }
          ],
          "parcoords": [
           {
            "line": {
             "colorbar": {
              "outlinewidth": 0,
              "ticks": ""
             }
            },
            "type": "parcoords"
           }
          ],
          "pie": [
           {
            "automargin": true,
            "type": "pie"
           }
          ],
          "scatter": [
           {
            "fillpattern": {
             "fillmode": "overlay",
             "size": 10,
             "solidity": 0.2
            },
            "type": "scatter"
           }
          ],
          "scatter3d": [
           {
            "line": {
             "colorbar": {
              "outlinewidth": 0,
              "ticks": ""
             }
            },
            "marker": {
             "colorbar": {
              "outlinewidth": 0,
              "ticks": ""
             }
            },
            "type": "scatter3d"
           }
          ],
          "scattercarpet": [
           {
            "marker": {
             "colorbar": {
              "outlinewidth": 0,
              "ticks": ""
             }
            },
            "type": "scattercarpet"
           }
          ],
          "scattergeo": [
           {
            "marker": {
             "colorbar": {
              "outlinewidth": 0,
              "ticks": ""
             }
            },
            "type": "scattergeo"
           }
          ],
          "scattergl": [
           {
            "marker": {
             "colorbar": {
              "outlinewidth": 0,
              "ticks": ""
             }
            },
            "type": "scattergl"
           }
          ],
          "scattermapbox": [
           {
            "marker": {
             "colorbar": {
              "outlinewidth": 0,
              "ticks": ""
             }
            },
            "type": "scattermapbox"
           }
          ],
          "scatterpolar": [
           {
            "marker": {
             "colorbar": {
              "outlinewidth": 0,
              "ticks": ""
             }
            },
            "type": "scatterpolar"
           }
          ],
          "scatterpolargl": [
           {
            "marker": {
             "colorbar": {
              "outlinewidth": 0,
              "ticks": ""
             }
            },
            "type": "scatterpolargl"
           }
          ],
          "scatterternary": [
           {
            "marker": {
             "colorbar": {
              "outlinewidth": 0,
              "ticks": ""
             }
            },
            "type": "scatterternary"
           }
          ],
          "surface": [
           {
            "colorbar": {
             "outlinewidth": 0,
             "ticks": ""
            },
            "colorscale": [
             [
              0,
              "#0d0887"
             ],
             [
              0.1111111111111111,
              "#46039f"
             ],
             [
              0.2222222222222222,
              "#7201a8"
             ],
             [
              0.3333333333333333,
              "#9c179e"
             ],
             [
              0.4444444444444444,
              "#bd3786"
             ],
             [
              0.5555555555555556,
              "#d8576b"
             ],
             [
              0.6666666666666666,
              "#ed7953"
             ],
             [
              0.7777777777777778,
              "#fb9f3a"
             ],
             [
              0.8888888888888888,
              "#fdca26"
             ],
             [
              1,
              "#f0f921"
             ]
            ],
            "type": "surface"
           }
          ],
          "table": [
           {
            "cells": {
             "fill": {
              "color": "#EBF0F8"
             },
             "line": {
              "color": "white"
             }
            },
            "header": {
             "fill": {
              "color": "#C8D4E3"
             },
             "line": {
              "color": "white"
             }
            },
            "type": "table"
           }
          ]
         },
         "layout": {
          "annotationdefaults": {
           "arrowcolor": "#2a3f5f",
           "arrowhead": 0,
           "arrowwidth": 1
          },
          "autotypenumbers": "strict",
          "coloraxis": {
           "colorbar": {
            "outlinewidth": 0,
            "ticks": ""
           }
          },
          "colorscale": {
           "diverging": [
            [
             0,
             "#8e0152"
            ],
            [
             0.1,
             "#c51b7d"
            ],
            [
             0.2,
             "#de77ae"
            ],
            [
             0.3,
             "#f1b6da"
            ],
            [
             0.4,
             "#fde0ef"
            ],
            [
             0.5,
             "#f7f7f7"
            ],
            [
             0.6,
             "#e6f5d0"
            ],
            [
             0.7,
             "#b8e186"
            ],
            [
             0.8,
             "#7fbc41"
            ],
            [
             0.9,
             "#4d9221"
            ],
            [
             1,
             "#276419"
            ]
           ],
           "sequential": [
            [
             0,
             "#0d0887"
            ],
            [
             0.1111111111111111,
             "#46039f"
            ],
            [
             0.2222222222222222,
             "#7201a8"
            ],
            [
             0.3333333333333333,
             "#9c179e"
            ],
            [
             0.4444444444444444,
             "#bd3786"
            ],
            [
             0.5555555555555556,
             "#d8576b"
            ],
            [
             0.6666666666666666,
             "#ed7953"
            ],
            [
             0.7777777777777778,
             "#fb9f3a"
            ],
            [
             0.8888888888888888,
             "#fdca26"
            ],
            [
             1,
             "#f0f921"
            ]
           ],
           "sequentialminus": [
            [
             0,
             "#0d0887"
            ],
            [
             0.1111111111111111,
             "#46039f"
            ],
            [
             0.2222222222222222,
             "#7201a8"
            ],
            [
             0.3333333333333333,
             "#9c179e"
            ],
            [
             0.4444444444444444,
             "#bd3786"
            ],
            [
             0.5555555555555556,
             "#d8576b"
            ],
            [
             0.6666666666666666,
             "#ed7953"
            ],
            [
             0.7777777777777778,
             "#fb9f3a"
            ],
            [
             0.8888888888888888,
             "#fdca26"
            ],
            [
             1,
             "#f0f921"
            ]
           ]
          },
          "colorway": [
           "#636efa",
           "#EF553B",
           "#00cc96",
           "#ab63fa",
           "#FFA15A",
           "#19d3f3",
           "#FF6692",
           "#B6E880",
           "#FF97FF",
           "#FECB52"
          ],
          "font": {
           "color": "#2a3f5f"
          },
          "geo": {
           "bgcolor": "white",
           "lakecolor": "white",
           "landcolor": "#E5ECF6",
           "showlakes": true,
           "showland": true,
           "subunitcolor": "white"
          },
          "hoverlabel": {
           "align": "left"
          },
          "hovermode": "closest",
          "mapbox": {
           "style": "light"
          },
          "paper_bgcolor": "white",
          "plot_bgcolor": "#E5ECF6",
          "polar": {
           "angularaxis": {
            "gridcolor": "white",
            "linecolor": "white",
            "ticks": ""
           },
           "bgcolor": "#E5ECF6",
           "radialaxis": {
            "gridcolor": "white",
            "linecolor": "white",
            "ticks": ""
           }
          },
          "scene": {
           "xaxis": {
            "backgroundcolor": "#E5ECF6",
            "gridcolor": "white",
            "gridwidth": 2,
            "linecolor": "white",
            "showbackground": true,
            "ticks": "",
            "zerolinecolor": "white"
           },
           "yaxis": {
            "backgroundcolor": "#E5ECF6",
            "gridcolor": "white",
            "gridwidth": 2,
            "linecolor": "white",
            "showbackground": true,
            "ticks": "",
            "zerolinecolor": "white"
           },
           "zaxis": {
            "backgroundcolor": "#E5ECF6",
            "gridcolor": "white",
            "gridwidth": 2,
            "linecolor": "white",
            "showbackground": true,
            "ticks": "",
            "zerolinecolor": "white"
           }
          },
          "shapedefaults": {
           "line": {
            "color": "#2a3f5f"
           }
          },
          "ternary": {
           "aaxis": {
            "gridcolor": "white",
            "linecolor": "white",
            "ticks": ""
           },
           "baxis": {
            "gridcolor": "white",
            "linecolor": "white",
            "ticks": ""
           },
           "bgcolor": "#E5ECF6",
           "caxis": {
            "gridcolor": "white",
            "linecolor": "white",
            "ticks": ""
           }
          },
          "title": {
           "x": 0.05
          },
          "xaxis": {
           "automargin": true,
           "gridcolor": "white",
           "linecolor": "white",
           "ticks": "",
           "title": {
            "standoff": 15
           },
           "zerolinecolor": "white",
           "zerolinewidth": 2
          },
          "yaxis": {
           "automargin": true,
           "gridcolor": "white",
           "linecolor": "white",
           "ticks": "",
           "title": {
            "standoff": 15
           },
           "zerolinecolor": "white",
           "zerolinewidth": 2
          }
         }
        },
        "title": {
         "font": {
          "size": 30
         },
         "text": "GDP"
        },
        "width": 1200,
        "xaxis": {
         "dtick": "2",
         "tickangle": 30,
         "title": {
          "text": "Year"
         }
        },
        "yaxis": {
         "tickformat": ",.0f",
         "title": {
          "text": "Real GDP growth (Annual percent change)"
         }
        }
       }
      }
     },
     "metadata": {},
     "output_type": "display_data"
    }
   ],
   "source": [
    "# list_selection = countrys_02_to_025\n",
    "# countrys_02_to_025 = countrys_02_to_025.insert(0, 'year')\n",
    "# graficos(df_null[countrys_02_to_025],list_selection,columna_y='Real GDP growth (Annual percent change)')\n",
    "plot_gdp(df_null,countrys_02_to_025)"
   ]
  },
  {
   "cell_type": "code",
   "execution_count": 56,
   "metadata": {},
   "outputs": [
    {
     "data": {
      "application/vnd.plotly.v1+json": {
       "config": {
        "plotlyServerURL": "https://plot.ly"
       },
       "data": [
        {
         "marker": {
          "color": "navy"
         },
         "mode": "lines+markers",
         "name": "Slovak Republic",
         "type": "scatter",
         "x": [
          1980,
          1981,
          1982,
          1983,
          1984,
          1985,
          1986,
          1987,
          1988,
          1989,
          1990,
          1991,
          1992,
          1993,
          1994,
          1995,
          1996,
          1997,
          1998,
          1999,
          2000,
          2001,
          2002,
          2003,
          2004,
          2005,
          2006,
          2007,
          2008,
          2009,
          2010,
          2011,
          2012,
          2013,
          2014,
          2015,
          2016,
          2017,
          2018,
          2019,
          2020,
          2021,
          2022,
          2023,
          2024,
          2025,
          2026,
          2027,
          2028
         ],
         "y": [
          null,
          null,
          null,
          null,
          null,
          null,
          null,
          null,
          null,
          null,
          null,
          null,
          null,
          null,
          6.2,
          7.9,
          6.9,
          4.4,
          4.1,
          -0.1,
          1.2,
          3.3,
          4.5,
          5.5,
          5.3,
          6.6,
          8.5,
          10.8,
          5.6,
          -5.5,
          6.7,
          2.7,
          1.3,
          0.6,
          2.7,
          5.2,
          1.9,
          2.9,
          4,
          2.5,
          -3.4,
          3,
          1.7,
          1.3,
          2.7,
          2.9,
          2.8,
          2.7,
          2.7
         ]
        },
        {
         "marker": {
          "color": "orange"
         },
         "mode": "lines+markers",
         "name": "Estonia",
         "type": "scatter",
         "x": [
          1980,
          1981,
          1982,
          1983,
          1984,
          1985,
          1986,
          1987,
          1988,
          1989,
          1990,
          1991,
          1992,
          1993,
          1994,
          1995,
          1996,
          1997,
          1998,
          1999,
          2000,
          2001,
          2002,
          2003,
          2004,
          2005,
          2006,
          2007,
          2008,
          2009,
          2010,
          2011,
          2012,
          2013,
          2014,
          2015,
          2016,
          2017,
          2018,
          2019,
          2020,
          2021,
          2022,
          2023,
          2024,
          2025,
          2026,
          2027,
          2028
         ],
         "y": [
          null,
          null,
          null,
          null,
          null,
          null,
          null,
          null,
          null,
          null,
          null,
          null,
          null,
          null,
          -1.6,
          2.2,
          4.9,
          13,
          4.3,
          -0.4,
          10.1,
          6,
          6.8,
          7.6,
          6.8,
          9.5,
          9.8,
          7.6,
          -5.1,
          -14.6,
          2.4,
          7.3,
          3.2,
          1.5,
          3,
          1.9,
          3.2,
          5.8,
          3.8,
          3.7,
          -0.6,
          8,
          -1.3,
          -1.2,
          3.2,
          3.6,
          3.3,
          3.3,
          3.2
         ]
        },
        {
         "marker": {
          "color": "tomato"
         },
         "mode": "lines+markers",
         "name": "Slovenia",
         "type": "scatter",
         "x": [
          1980,
          1981,
          1982,
          1983,
          1984,
          1985,
          1986,
          1987,
          1988,
          1989,
          1990,
          1991,
          1992,
          1993,
          1994,
          1995,
          1996,
          1997,
          1998,
          1999,
          2000,
          2001,
          2002,
          2003,
          2004,
          2005,
          2006,
          2007,
          2008,
          2009,
          2010,
          2011,
          2012,
          2013,
          2014,
          2015,
          2016,
          2017,
          2018,
          2019,
          2020,
          2021,
          2022,
          2023,
          2024,
          2025,
          2026,
          2027,
          2028
         ],
         "y": [
          null,
          null,
          null,
          null,
          null,
          null,
          null,
          null,
          null,
          null,
          null,
          null,
          null,
          2.8,
          5.3,
          4.1,
          3.6,
          5,
          3.3,
          5.3,
          3.7,
          3.2,
          3.5,
          3,
          4.4,
          3.8,
          5.7,
          7,
          3.5,
          -7.5,
          1.3,
          0.9,
          -2.6,
          -1,
          2.8,
          2.2,
          3.2,
          4.8,
          4.5,
          3.5,
          -4.3,
          8.2,
          5.4,
          1.6,
          2.1,
          2.8,
          2.9,
          3,
          3
         ]
        },
        {
         "marker": {
          "color": "crimson"
         },
         "mode": "lines+markers",
         "name": "Croatia",
         "type": "scatter",
         "x": [
          1980,
          1981,
          1982,
          1983,
          1984,
          1985,
          1986,
          1987,
          1988,
          1989,
          1990,
          1991,
          1992,
          1993,
          1994,
          1995,
          1996,
          1997,
          1998,
          1999,
          2000,
          2001,
          2002,
          2003,
          2004,
          2005,
          2006,
          2007,
          2008,
          2009,
          2010,
          2011,
          2012,
          2013,
          2014,
          2015,
          2016,
          2017,
          2018,
          2019,
          2020,
          2021,
          2022,
          2023,
          2024,
          2025,
          2026,
          2027,
          2028
         ],
         "y": [
          null,
          null,
          null,
          null,
          null,
          null,
          null,
          null,
          null,
          null,
          null,
          null,
          null,
          -8,
          5.9,
          6.6,
          5.9,
          6.6,
          1.9,
          -0.9,
          3.7,
          3.1,
          5.8,
          5.6,
          4.2,
          4.3,
          4.9,
          5,
          2,
          -7.2,
          -1.2,
          -0.1,
          -2.3,
          -0.4,
          -0.4,
          2.5,
          3.6,
          3.4,
          2.8,
          3.4,
          -8.6,
          13.1,
          6.3,
          1.7,
          2.3,
          2.7,
          2.9,
          2.8,
          2.8
         ]
        },
        {
         "marker": {
          "color": "darkgreen"
         },
         "mode": "lines+markers",
         "name": "Armenia",
         "type": "scatter",
         "x": [
          1980,
          1981,
          1982,
          1983,
          1984,
          1985,
          1986,
          1987,
          1988,
          1989,
          1990,
          1991,
          1992,
          1993,
          1994,
          1995,
          1996,
          1997,
          1998,
          1999,
          2000,
          2001,
          2002,
          2003,
          2004,
          2005,
          2006,
          2007,
          2008,
          2009,
          2010,
          2011,
          2012,
          2013,
          2014,
          2015,
          2016,
          2017,
          2018,
          2019,
          2020,
          2021,
          2022,
          2023,
          2024,
          2025,
          2026,
          2027,
          2028
         ],
         "y": [
          null,
          null,
          null,
          null,
          null,
          null,
          null,
          null,
          null,
          null,
          null,
          null,
          null,
          -14.1,
          5.4,
          8,
          5.2,
          3.4,
          6.3,
          3.2,
          5.9,
          9.5,
          14.8,
          14.1,
          10.5,
          14.1,
          13.2,
          13.7,
          6.9,
          -14.1,
          2.2,
          4.7,
          7.1,
          3.4,
          3.6,
          3.3,
          0.2,
          7.5,
          5.2,
          7.6,
          -7.2,
          5.7,
          12.6,
          5.5,
          5,
          4.5,
          4.5,
          4.5,
          4.5
         ]
        },
        {
         "marker": {
          "color": "brown"
         },
         "mode": "lines+markers",
         "name": "Azerbaijan",
         "type": "scatter",
         "x": [
          1980,
          1981,
          1982,
          1983,
          1984,
          1985,
          1986,
          1987,
          1988,
          1989,
          1990,
          1991,
          1992,
          1993,
          1994,
          1995,
          1996,
          1997,
          1998,
          1999,
          2000,
          2001,
          2002,
          2003,
          2004,
          2005,
          2006,
          2007,
          2008,
          2009,
          2010,
          2011,
          2012,
          2013,
          2014,
          2015,
          2016,
          2017,
          2018,
          2019,
          2020,
          2021,
          2022,
          2023,
          2024,
          2025,
          2026,
          2027,
          2028
         ],
         "y": [
          null,
          null,
          null,
          null,
          null,
          null,
          null,
          null,
          null,
          null,
          null,
          null,
          null,
          -23.1,
          -19.7,
          -13,
          2.5,
          8.9,
          6,
          11.4,
          6.2,
          6.5,
          9.4,
          10.2,
          9.3,
          28,
          34.5,
          25.5,
          10.6,
          9.4,
          4.8,
          -1.6,
          2.2,
          5.8,
          2.8,
          1,
          -3.1,
          0.2,
          1.5,
          2.5,
          -4.2,
          5.6,
          4.6,
          3,
          2.6,
          2.5,
          2.5,
          2.6,
          2.6
         ]
        },
        {
         "marker": {
          "color": "forestgreen"
         },
         "mode": "lines+markers",
         "name": "Central Asia and the Caucasus",
         "type": "scatter",
         "x": [
          1980,
          1981,
          1982,
          1983,
          1984,
          1985,
          1986,
          1987,
          1988,
          1989,
          1990,
          1991,
          1992,
          1993,
          1994,
          1995,
          1996,
          1997,
          1998,
          1999,
          2000,
          2001,
          2002,
          2003,
          2004,
          2005,
          2006,
          2007,
          2008,
          2009,
          2010,
          2011,
          2012,
          2013,
          2014,
          2015,
          2016,
          2017,
          2018,
          2019,
          2020,
          2021,
          2022,
          2023,
          2024,
          2025,
          2026,
          2027,
          2028
         ],
         "y": [
          null,
          null,
          null,
          null,
          null,
          null,
          null,
          null,
          null,
          null,
          null,
          null,
          null,
          2.1,
          -7.4,
          3.6,
          5.5,
          6.5,
          2.8,
          -1,
          7.2,
          -0.9,
          7.1,
          6.9,
          9.5,
          9.8,
          9,
          7.6,
          3,
          -1,
          8,
          9.4,
          5.1,
          7.4,
          4.8,
          4.9,
          2.8,
          6.3,
          3.3,
          1.9,
          0.6,
          9.6,
          5.3,
          3.1,
          3.9,
          3.3,
          3.1,
          3.2,
          3.2
         ]
        },
        {
         "marker": {
          "color": "steelblue"
         },
         "mode": "lines+markers",
         "name": "North Macedonia ",
         "type": "scatter",
         "x": [
          1980,
          1981,
          1982,
          1983,
          1984,
          1985,
          1986,
          1987,
          1988,
          1989,
          1990,
          1991,
          1992,
          1993,
          1994,
          1995,
          1996,
          1997,
          1998,
          1999,
          2000,
          2001,
          2002,
          2003,
          2004,
          2005,
          2006,
          2007,
          2008,
          2009,
          2010,
          2011,
          2012,
          2013,
          2014,
          2015,
          2016,
          2017,
          2018,
          2019,
          2020,
          2021,
          2022,
          2023,
          2024,
          2025,
          2026,
          2027,
          2028
         ],
         "y": [
          null,
          null,
          null,
          null,
          null,
          null,
          null,
          null,
          null,
          null,
          null,
          null,
          null,
          -7.5,
          -1.8,
          -1.1,
          1.2,
          1.4,
          3.4,
          4.3,
          4.5,
          -3.1,
          1.5,
          2.2,
          4.7,
          4.7,
          5.1,
          6.5,
          5.5,
          -0.4,
          3.4,
          2.3,
          -0.5,
          2.9,
          3.6,
          3.9,
          2.8,
          1.1,
          2.9,
          3.9,
          -4.7,
          3.9,
          2.2,
          1.4,
          3.6,
          3.9,
          3.8,
          3.8,
          3.5
         ]
        },
        {
         "marker": {
          "color": "navy"
         },
         "mode": "lines+markers",
         "name": "Kyrgyz Republic",
         "type": "scatter",
         "x": [
          1980,
          1981,
          1982,
          1983,
          1984,
          1985,
          1986,
          1987,
          1988,
          1989,
          1990,
          1991,
          1992,
          1993,
          1994,
          1995,
          1996,
          1997,
          1998,
          1999,
          2000,
          2001,
          2002,
          2003,
          2004,
          2005,
          2006,
          2007,
          2008,
          2009,
          2010,
          2011,
          2012,
          2013,
          2014,
          2015,
          2016,
          2017,
          2018,
          2019,
          2020,
          2021,
          2022,
          2023,
          2024,
          2025,
          2026,
          2027,
          2028
         ],
         "y": [
          null,
          null,
          null,
          null,
          null,
          null,
          null,
          null,
          null,
          null,
          null,
          null,
          null,
          -13,
          -19.8,
          -5.4,
          7.1,
          9.9,
          2.1,
          3.7,
          5.4,
          5.3,
          0,
          7,
          7,
          -0.2,
          3.1,
          8.5,
          7.6,
          2.9,
          -0.5,
          6,
          -0.1,
          10.9,
          4,
          3.9,
          4.3,
          4.7,
          3.5,
          4.6,
          -8.6,
          3.7,
          7,
          3.5,
          3.8,
          4,
          4,
          4,
          4
         ]
        },
        {
         "marker": {
          "color": "orange"
         },
         "mode": "lines+markers",
         "name": "Tajikistan",
         "type": "scatter",
         "x": [
          1980,
          1981,
          1982,
          1983,
          1984,
          1985,
          1986,
          1987,
          1988,
          1989,
          1990,
          1991,
          1992,
          1993,
          1994,
          1995,
          1996,
          1997,
          1998,
          1999,
          2000,
          2001,
          2002,
          2003,
          2004,
          2005,
          2006,
          2007,
          2008,
          2009,
          2010,
          2011,
          2012,
          2013,
          2014,
          2015,
          2016,
          2017,
          2018,
          2019,
          2020,
          2021,
          2022,
          2023,
          2024,
          2025,
          2026,
          2027,
          2028
         ],
         "y": [
          null,
          null,
          null,
          null,
          null,
          null,
          null,
          null,
          null,
          null,
          null,
          null,
          null,
          -11.1,
          -21.4,
          -12.5,
          -4.4,
          1.7,
          5.3,
          3.7,
          8.3,
          10.2,
          9.1,
          10.2,
          10.6,
          6.7,
          7,
          7.8,
          7.9,
          3.9,
          6.5,
          7.4,
          7.5,
          7.4,
          6.7,
          6,
          6.9,
          7.1,
          7.6,
          7.4,
          4.4,
          9.4,
          8,
          5,
          4.5,
          4,
          4,
          4,
          4
         ]
        },
        {
         "marker": {
          "color": "tomato"
         },
         "mode": "lines+markers",
         "name": "Eritrea",
         "type": "scatter",
         "x": [
          1980,
          1981,
          1982,
          1983,
          1984,
          1985,
          1986,
          1987,
          1988,
          1989,
          1990,
          1991,
          1992,
          1993,
          1994,
          1995,
          1996,
          1997,
          1998,
          1999,
          2000,
          2001,
          2002,
          2003,
          2004,
          2005,
          2006,
          2007,
          2008,
          2009,
          2010,
          2011,
          2012,
          2013,
          2014,
          2015,
          2016,
          2017,
          2018,
          2019,
          2020,
          2021,
          2022,
          2023,
          2024,
          2025,
          2026,
          2027,
          2028
         ],
         "y": [
          null,
          null,
          null,
          null,
          null,
          null,
          null,
          null,
          null,
          null,
          null,
          null,
          null,
          12.9,
          20.9,
          2.3,
          9.1,
          7.9,
          2,
          0.2,
          -12.4,
          8.8,
          3,
          -2.7,
          1.5,
          2.6,
          -1,
          1.4,
          -19.4,
          12.2,
          10.9,
          25.7,
          1.9,
          -10.5,
          30.9,
          -20.6,
          7.4,
          -10,
          13,
          3.8,
          -0.5,
          2.9,
          2.6,
          2.8,
          2.9,
          2.9,
          2.9,
          2.9,
          2.9
         ]
        },
        {
         "marker": {
          "color": "crimson"
         },
         "mode": "lines+markers",
         "name": "Turkmenistan",
         "type": "scatter",
         "x": [
          1980,
          1981,
          1982,
          1983,
          1984,
          1985,
          1986,
          1987,
          1988,
          1989,
          1990,
          1991,
          1992,
          1993,
          1994,
          1995,
          1996,
          1997,
          1998,
          1999,
          2000,
          2001,
          2002,
          2003,
          2004,
          2005,
          2006,
          2007,
          2008,
          2009,
          2010,
          2011,
          2012,
          2013,
          2014,
          2015,
          2016,
          2017,
          2018,
          2019,
          2020,
          2021,
          2022,
          2023,
          2024,
          2025,
          2026,
          2027,
          2028
         ],
         "y": [
          null,
          null,
          null,
          null,
          null,
          null,
          null,
          null,
          null,
          null,
          null,
          null,
          null,
          -10,
          -17.3,
          -7.2,
          -6.7,
          -11.3,
          6.7,
          16.5,
          18.6,
          20.4,
          15.8,
          17.1,
          14.7,
          13,
          11,
          11.1,
          14.7,
          6.1,
          16.2,
          12.9,
          6.1,
          -0.3,
          3.8,
          3,
          -1,
          4.7,
          0.9,
          -3.4,
          -2.9,
          4.6,
          1.8,
          2.3,
          2.1,
          2.6,
          2.3,
          2.3,
          2.3
         ]
        },
        {
         "marker": {
          "color": "darkgreen"
         },
         "mode": "lines+markers",
         "name": "Kazakhstan",
         "type": "scatter",
         "x": [
          1980,
          1981,
          1982,
          1983,
          1984,
          1985,
          1986,
          1987,
          1988,
          1989,
          1990,
          1991,
          1992,
          1993,
          1994,
          1995,
          1996,
          1997,
          1998,
          1999,
          2000,
          2001,
          2002,
          2003,
          2004,
          2005,
          2006,
          2007,
          2008,
          2009,
          2010,
          2011,
          2012,
          2013,
          2014,
          2015,
          2016,
          2017,
          2018,
          2019,
          2020,
          2021,
          2022,
          2023,
          2024,
          2025,
          2026,
          2027,
          2028
         ],
         "y": [
          null,
          null,
          null,
          null,
          null,
          null,
          null,
          null,
          null,
          null,
          null,
          null,
          null,
          -9.2,
          -12.6,
          -8.2,
          0.5,
          1.7,
          -1.9,
          2.7,
          9.8,
          13.5,
          9.8,
          9.3,
          9.6,
          9.7,
          10.7,
          8.9,
          3.3,
          1.2,
          7.3,
          7.5,
          5,
          5.9,
          4.3,
          1,
          0.9,
          3.9,
          4.1,
          4.5,
          -2.6,
          4.1,
          3.2,
          4.3,
          4.9,
          3.4,
          1.7,
          2.7,
          2.8
         ]
        },
        {
         "marker": {
          "color": "brown"
         },
         "mode": "lines+markers",
         "name": "Latvia",
         "type": "scatter",
         "x": [
          1980,
          1981,
          1982,
          1983,
          1984,
          1985,
          1986,
          1987,
          1988,
          1989,
          1990,
          1991,
          1992,
          1993,
          1994,
          1995,
          1996,
          1997,
          1998,
          1999,
          2000,
          2001,
          2002,
          2003,
          2004,
          2005,
          2006,
          2007,
          2008,
          2009,
          2010,
          2011,
          2012,
          2013,
          2014,
          2015,
          2016,
          2017,
          2018,
          2019,
          2020,
          2021,
          2022,
          2023,
          2024,
          2025,
          2026,
          2027,
          2028
         ],
         "y": [
          null,
          null,
          null,
          null,
          null,
          null,
          null,
          null,
          null,
          null,
          null,
          null,
          null,
          -11.4,
          2.2,
          -2.1,
          2.6,
          8.8,
          6.3,
          2.8,
          5.7,
          6.3,
          7.1,
          8.4,
          8.3,
          10.7,
          12,
          9.9,
          -3.2,
          -14.3,
          -4.5,
          2.6,
          7,
          2,
          1.9,
          3.9,
          2.4,
          3.3,
          4,
          2.6,
          -2.2,
          4.1,
          2,
          0.4,
          2.9,
          3.4,
          3.4,
          3.4,
          3.4
         ]
        }
       ],
       "layout": {
        "height": 800,
        "legend": {
         "title": {
          "text": "Legend"
         },
         "x": 0,
         "y": 1
        },
        "margin": {
         "b": 0,
         "l": 0,
         "r": 0,
         "t": 50
        },
        "plot_bgcolor": "#F7FAFC",
        "showlegend": true,
        "template": {
         "data": {
          "bar": [
           {
            "error_x": {
             "color": "#2a3f5f"
            },
            "error_y": {
             "color": "#2a3f5f"
            },
            "marker": {
             "line": {
              "color": "#E5ECF6",
              "width": 0.5
             },
             "pattern": {
              "fillmode": "overlay",
              "size": 10,
              "solidity": 0.2
             }
            },
            "type": "bar"
           }
          ],
          "barpolar": [
           {
            "marker": {
             "line": {
              "color": "#E5ECF6",
              "width": 0.5
             },
             "pattern": {
              "fillmode": "overlay",
              "size": 10,
              "solidity": 0.2
             }
            },
            "type": "barpolar"
           }
          ],
          "carpet": [
           {
            "aaxis": {
             "endlinecolor": "#2a3f5f",
             "gridcolor": "white",
             "linecolor": "white",
             "minorgridcolor": "white",
             "startlinecolor": "#2a3f5f"
            },
            "baxis": {
             "endlinecolor": "#2a3f5f",
             "gridcolor": "white",
             "linecolor": "white",
             "minorgridcolor": "white",
             "startlinecolor": "#2a3f5f"
            },
            "type": "carpet"
           }
          ],
          "choropleth": [
           {
            "colorbar": {
             "outlinewidth": 0,
             "ticks": ""
            },
            "type": "choropleth"
           }
          ],
          "contour": [
           {
            "colorbar": {
             "outlinewidth": 0,
             "ticks": ""
            },
            "colorscale": [
             [
              0,
              "#0d0887"
             ],
             [
              0.1111111111111111,
              "#46039f"
             ],
             [
              0.2222222222222222,
              "#7201a8"
             ],
             [
              0.3333333333333333,
              "#9c179e"
             ],
             [
              0.4444444444444444,
              "#bd3786"
             ],
             [
              0.5555555555555556,
              "#d8576b"
             ],
             [
              0.6666666666666666,
              "#ed7953"
             ],
             [
              0.7777777777777778,
              "#fb9f3a"
             ],
             [
              0.8888888888888888,
              "#fdca26"
             ],
             [
              1,
              "#f0f921"
             ]
            ],
            "type": "contour"
           }
          ],
          "contourcarpet": [
           {
            "colorbar": {
             "outlinewidth": 0,
             "ticks": ""
            },
            "type": "contourcarpet"
           }
          ],
          "heatmap": [
           {
            "colorbar": {
             "outlinewidth": 0,
             "ticks": ""
            },
            "colorscale": [
             [
              0,
              "#0d0887"
             ],
             [
              0.1111111111111111,
              "#46039f"
             ],
             [
              0.2222222222222222,
              "#7201a8"
             ],
             [
              0.3333333333333333,
              "#9c179e"
             ],
             [
              0.4444444444444444,
              "#bd3786"
             ],
             [
              0.5555555555555556,
              "#d8576b"
             ],
             [
              0.6666666666666666,
              "#ed7953"
             ],
             [
              0.7777777777777778,
              "#fb9f3a"
             ],
             [
              0.8888888888888888,
              "#fdca26"
             ],
             [
              1,
              "#f0f921"
             ]
            ],
            "type": "heatmap"
           }
          ],
          "heatmapgl": [
           {
            "colorbar": {
             "outlinewidth": 0,
             "ticks": ""
            },
            "colorscale": [
             [
              0,
              "#0d0887"
             ],
             [
              0.1111111111111111,
              "#46039f"
             ],
             [
              0.2222222222222222,
              "#7201a8"
             ],
             [
              0.3333333333333333,
              "#9c179e"
             ],
             [
              0.4444444444444444,
              "#bd3786"
             ],
             [
              0.5555555555555556,
              "#d8576b"
             ],
             [
              0.6666666666666666,
              "#ed7953"
             ],
             [
              0.7777777777777778,
              "#fb9f3a"
             ],
             [
              0.8888888888888888,
              "#fdca26"
             ],
             [
              1,
              "#f0f921"
             ]
            ],
            "type": "heatmapgl"
           }
          ],
          "histogram": [
           {
            "marker": {
             "pattern": {
              "fillmode": "overlay",
              "size": 10,
              "solidity": 0.2
             }
            },
            "type": "histogram"
           }
          ],
          "histogram2d": [
           {
            "colorbar": {
             "outlinewidth": 0,
             "ticks": ""
            },
            "colorscale": [
             [
              0,
              "#0d0887"
             ],
             [
              0.1111111111111111,
              "#46039f"
             ],
             [
              0.2222222222222222,
              "#7201a8"
             ],
             [
              0.3333333333333333,
              "#9c179e"
             ],
             [
              0.4444444444444444,
              "#bd3786"
             ],
             [
              0.5555555555555556,
              "#d8576b"
             ],
             [
              0.6666666666666666,
              "#ed7953"
             ],
             [
              0.7777777777777778,
              "#fb9f3a"
             ],
             [
              0.8888888888888888,
              "#fdca26"
             ],
             [
              1,
              "#f0f921"
             ]
            ],
            "type": "histogram2d"
           }
          ],
          "histogram2dcontour": [
           {
            "colorbar": {
             "outlinewidth": 0,
             "ticks": ""
            },
            "colorscale": [
             [
              0,
              "#0d0887"
             ],
             [
              0.1111111111111111,
              "#46039f"
             ],
             [
              0.2222222222222222,
              "#7201a8"
             ],
             [
              0.3333333333333333,
              "#9c179e"
             ],
             [
              0.4444444444444444,
              "#bd3786"
             ],
             [
              0.5555555555555556,
              "#d8576b"
             ],
             [
              0.6666666666666666,
              "#ed7953"
             ],
             [
              0.7777777777777778,
              "#fb9f3a"
             ],
             [
              0.8888888888888888,
              "#fdca26"
             ],
             [
              1,
              "#f0f921"
             ]
            ],
            "type": "histogram2dcontour"
           }
          ],
          "mesh3d": [
           {
            "colorbar": {
             "outlinewidth": 0,
             "ticks": ""
            },
            "type": "mesh3d"
           }
          ],
          "parcoords": [
           {
            "line": {
             "colorbar": {
              "outlinewidth": 0,
              "ticks": ""
             }
            },
            "type": "parcoords"
           }
          ],
          "pie": [
           {
            "automargin": true,
            "type": "pie"
           }
          ],
          "scatter": [
           {
            "fillpattern": {
             "fillmode": "overlay",
             "size": 10,
             "solidity": 0.2
            },
            "type": "scatter"
           }
          ],
          "scatter3d": [
           {
            "line": {
             "colorbar": {
              "outlinewidth": 0,
              "ticks": ""
             }
            },
            "marker": {
             "colorbar": {
              "outlinewidth": 0,
              "ticks": ""
             }
            },
            "type": "scatter3d"
           }
          ],
          "scattercarpet": [
           {
            "marker": {
             "colorbar": {
              "outlinewidth": 0,
              "ticks": ""
             }
            },
            "type": "scattercarpet"
           }
          ],
          "scattergeo": [
           {
            "marker": {
             "colorbar": {
              "outlinewidth": 0,
              "ticks": ""
             }
            },
            "type": "scattergeo"
           }
          ],
          "scattergl": [
           {
            "marker": {
             "colorbar": {
              "outlinewidth": 0,
              "ticks": ""
             }
            },
            "type": "scattergl"
           }
          ],
          "scattermapbox": [
           {
            "marker": {
             "colorbar": {
              "outlinewidth": 0,
              "ticks": ""
             }
            },
            "type": "scattermapbox"
           }
          ],
          "scatterpolar": [
           {
            "marker": {
             "colorbar": {
              "outlinewidth": 0,
              "ticks": ""
             }
            },
            "type": "scatterpolar"
           }
          ],
          "scatterpolargl": [
           {
            "marker": {
             "colorbar": {
              "outlinewidth": 0,
              "ticks": ""
             }
            },
            "type": "scatterpolargl"
           }
          ],
          "scatterternary": [
           {
            "marker": {
             "colorbar": {
              "outlinewidth": 0,
              "ticks": ""
             }
            },
            "type": "scatterternary"
           }
          ],
          "surface": [
           {
            "colorbar": {
             "outlinewidth": 0,
             "ticks": ""
            },
            "colorscale": [
             [
              0,
              "#0d0887"
             ],
             [
              0.1111111111111111,
              "#46039f"
             ],
             [
              0.2222222222222222,
              "#7201a8"
             ],
             [
              0.3333333333333333,
              "#9c179e"
             ],
             [
              0.4444444444444444,
              "#bd3786"
             ],
             [
              0.5555555555555556,
              "#d8576b"
             ],
             [
              0.6666666666666666,
              "#ed7953"
             ],
             [
              0.7777777777777778,
              "#fb9f3a"
             ],
             [
              0.8888888888888888,
              "#fdca26"
             ],
             [
              1,
              "#f0f921"
             ]
            ],
            "type": "surface"
           }
          ],
          "table": [
           {
            "cells": {
             "fill": {
              "color": "#EBF0F8"
             },
             "line": {
              "color": "white"
             }
            },
            "header": {
             "fill": {
              "color": "#C8D4E3"
             },
             "line": {
              "color": "white"
             }
            },
            "type": "table"
           }
          ]
         },
         "layout": {
          "annotationdefaults": {
           "arrowcolor": "#2a3f5f",
           "arrowhead": 0,
           "arrowwidth": 1
          },
          "autotypenumbers": "strict",
          "coloraxis": {
           "colorbar": {
            "outlinewidth": 0,
            "ticks": ""
           }
          },
          "colorscale": {
           "diverging": [
            [
             0,
             "#8e0152"
            ],
            [
             0.1,
             "#c51b7d"
            ],
            [
             0.2,
             "#de77ae"
            ],
            [
             0.3,
             "#f1b6da"
            ],
            [
             0.4,
             "#fde0ef"
            ],
            [
             0.5,
             "#f7f7f7"
            ],
            [
             0.6,
             "#e6f5d0"
            ],
            [
             0.7,
             "#b8e186"
            ],
            [
             0.8,
             "#7fbc41"
            ],
            [
             0.9,
             "#4d9221"
            ],
            [
             1,
             "#276419"
            ]
           ],
           "sequential": [
            [
             0,
             "#0d0887"
            ],
            [
             0.1111111111111111,
             "#46039f"
            ],
            [
             0.2222222222222222,
             "#7201a8"
            ],
            [
             0.3333333333333333,
             "#9c179e"
            ],
            [
             0.4444444444444444,
             "#bd3786"
            ],
            [
             0.5555555555555556,
             "#d8576b"
            ],
            [
             0.6666666666666666,
             "#ed7953"
            ],
            [
             0.7777777777777778,
             "#fb9f3a"
            ],
            [
             0.8888888888888888,
             "#fdca26"
            ],
            [
             1,
             "#f0f921"
            ]
           ],
           "sequentialminus": [
            [
             0,
             "#0d0887"
            ],
            [
             0.1111111111111111,
             "#46039f"
            ],
            [
             0.2222222222222222,
             "#7201a8"
            ],
            [
             0.3333333333333333,
             "#9c179e"
            ],
            [
             0.4444444444444444,
             "#bd3786"
            ],
            [
             0.5555555555555556,
             "#d8576b"
            ],
            [
             0.6666666666666666,
             "#ed7953"
            ],
            [
             0.7777777777777778,
             "#fb9f3a"
            ],
            [
             0.8888888888888888,
             "#fdca26"
            ],
            [
             1,
             "#f0f921"
            ]
           ]
          },
          "colorway": [
           "#636efa",
           "#EF553B",
           "#00cc96",
           "#ab63fa",
           "#FFA15A",
           "#19d3f3",
           "#FF6692",
           "#B6E880",
           "#FF97FF",
           "#FECB52"
          ],
          "font": {
           "color": "#2a3f5f"
          },
          "geo": {
           "bgcolor": "white",
           "lakecolor": "white",
           "landcolor": "#E5ECF6",
           "showlakes": true,
           "showland": true,
           "subunitcolor": "white"
          },
          "hoverlabel": {
           "align": "left"
          },
          "hovermode": "closest",
          "mapbox": {
           "style": "light"
          },
          "paper_bgcolor": "white",
          "plot_bgcolor": "#E5ECF6",
          "polar": {
           "angularaxis": {
            "gridcolor": "white",
            "linecolor": "white",
            "ticks": ""
           },
           "bgcolor": "#E5ECF6",
           "radialaxis": {
            "gridcolor": "white",
            "linecolor": "white",
            "ticks": ""
           }
          },
          "scene": {
           "xaxis": {
            "backgroundcolor": "#E5ECF6",
            "gridcolor": "white",
            "gridwidth": 2,
            "linecolor": "white",
            "showbackground": true,
            "ticks": "",
            "zerolinecolor": "white"
           },
           "yaxis": {
            "backgroundcolor": "#E5ECF6",
            "gridcolor": "white",
            "gridwidth": 2,
            "linecolor": "white",
            "showbackground": true,
            "ticks": "",
            "zerolinecolor": "white"
           },
           "zaxis": {
            "backgroundcolor": "#E5ECF6",
            "gridcolor": "white",
            "gridwidth": 2,
            "linecolor": "white",
            "showbackground": true,
            "ticks": "",
            "zerolinecolor": "white"
           }
          },
          "shapedefaults": {
           "line": {
            "color": "#2a3f5f"
           }
          },
          "ternary": {
           "aaxis": {
            "gridcolor": "white",
            "linecolor": "white",
            "ticks": ""
           },
           "baxis": {
            "gridcolor": "white",
            "linecolor": "white",
            "ticks": ""
           },
           "bgcolor": "#E5ECF6",
           "caxis": {
            "gridcolor": "white",
            "linecolor": "white",
            "ticks": ""
           }
          },
          "title": {
           "x": 0.05
          },
          "xaxis": {
           "automargin": true,
           "gridcolor": "white",
           "linecolor": "white",
           "ticks": "",
           "title": {
            "standoff": 15
           },
           "zerolinecolor": "white",
           "zerolinewidth": 2
          },
          "yaxis": {
           "automargin": true,
           "gridcolor": "white",
           "linecolor": "white",
           "ticks": "",
           "title": {
            "standoff": 15
           },
           "zerolinecolor": "white",
           "zerolinewidth": 2
          }
         }
        },
        "title": {
         "font": {
          "size": 30
         },
         "text": "GDP"
        },
        "width": 1200,
        "xaxis": {
         "dtick": "2",
         "tickangle": 30,
         "title": {
          "text": "Year"
         }
        },
        "yaxis": {
         "tickformat": ",.0f",
         "title": {
          "text": "Real GDP growth (Annual percent change)"
         }
        }
       }
      }
     },
     "metadata": {},
     "output_type": "display_data"
    }
   ],
   "source": [
    "# list_selection = countrys_025_to_03\n",
    "# countrys_025_to_03 = countrys_025_to_03.insert(0, 'year')\n",
    "# graficos(df_null[countrys_025_to_03],list_selection,columna_y='Real GDP growth (Annual percent change)')\n",
    "plot_gdp(df_null,countrys_025_to_03)"
   ]
  },
  {
   "cell_type": "code",
   "execution_count": 57,
   "metadata": {},
   "outputs": [
    {
     "data": {
      "application/vnd.plotly.v1+json": {
       "config": {
        "plotlyServerURL": "https://plot.ly"
       },
       "data": [
        {
         "marker": {
          "color": "navy"
         },
         "mode": "lines+markers",
         "name": "Zimbabwe",
         "type": "scatter",
         "x": [
          1980,
          1981,
          1982,
          1983,
          1984,
          1985,
          1986,
          1987,
          1988,
          1989,
          1990,
          1991,
          1992,
          1993,
          1994,
          1995,
          1996,
          1997,
          1998,
          1999,
          2000,
          2001,
          2002,
          2003,
          2004,
          2005,
          2006,
          2007,
          2008,
          2009,
          2010,
          2011,
          2012,
          2013,
          2014,
          2015,
          2016,
          2017,
          2018,
          2019,
          2020,
          2021,
          2022,
          2023,
          2024,
          2025,
          2026,
          2027,
          2028
         ],
         "y": [
          null,
          null,
          null,
          null,
          null,
          null,
          null,
          null,
          null,
          null,
          null,
          null,
          null,
          null,
          null,
          null,
          null,
          null,
          null,
          -1.1,
          -4.2,
          -0.5,
          -7.7,
          -16.2,
          -6.3,
          -7.4,
          -3.6,
          -3.4,
          -16.3,
          7.4,
          19.7,
          14.2,
          16.7,
          2,
          2.4,
          1.8,
          0.5,
          5,
          4.7,
          -6.1,
          -7.8,
          8.5,
          3,
          2.5,
          2.6,
          2.7,
          2.8,
          2.9,
          2.9
         ]
        },
        {
         "marker": {
          "color": "orange"
         },
         "mode": "lines+markers",
         "name": "Myanmar",
         "type": "scatter",
         "x": [
          1980,
          1981,
          1982,
          1983,
          1984,
          1985,
          1986,
          1987,
          1988,
          1989,
          1990,
          1991,
          1992,
          1993,
          1994,
          1995,
          1996,
          1997,
          1998,
          1999,
          2000,
          2001,
          2002,
          2003,
          2004,
          2005,
          2006,
          2007,
          2008,
          2009,
          2010,
          2011,
          2012,
          2013,
          2014,
          2015,
          2016,
          2017,
          2018,
          2019,
          2020,
          2021,
          2022,
          2023,
          2024,
          2025,
          2026,
          2027,
          2028
         ],
         "y": [
          null,
          null,
          null,
          null,
          null,
          null,
          null,
          null,
          null,
          null,
          null,
          null,
          null,
          null,
          null,
          null,
          null,
          null,
          null,
          8.4,
          12.4,
          12.5,
          9.9,
          13.2,
          15.3,
          13.6,
          13.3,
          12.5,
          7.6,
          4.4,
          5.2,
          5.5,
          6.5,
          7.9,
          8.2,
          7.5,
          6.4,
          5.8,
          6.4,
          6.8,
          3.2,
          -17.9,
          2,
          2.6,
          2.6,
          2.5,
          2.6,
          2.9,
          3.4
         ]
        },
        {
         "marker": {
          "color": "tomato"
         },
         "mode": "lines+markers",
         "name": "Iraq",
         "type": "scatter",
         "x": [
          1980,
          1981,
          1982,
          1983,
          1984,
          1985,
          1986,
          1987,
          1988,
          1989,
          1990,
          1991,
          1992,
          1993,
          1994,
          1995,
          1996,
          1997,
          1998,
          1999,
          2000,
          2001,
          2002,
          2003,
          2004,
          2005,
          2006,
          2007,
          2008,
          2009,
          2010,
          2011,
          2012,
          2013,
          2014,
          2015,
          2016,
          2017,
          2018,
          2019,
          2020,
          2021,
          2022,
          2023,
          2024,
          2025,
          2026,
          2027,
          2028
         ],
         "y": [
          null,
          null,
          null,
          null,
          null,
          null,
          null,
          null,
          null,
          null,
          null,
          null,
          null,
          null,
          null,
          null,
          null,
          null,
          null,
          24.8,
          -4.3,
          -6.6,
          -7.8,
          81.8,
          53.4,
          1.7,
          5.6,
          1.9,
          8.2,
          3.4,
          6.4,
          7.5,
          13.9,
          7.6,
          0.7,
          2.5,
          15.2,
          -3.4,
          4.7,
          5.8,
          -15.7,
          7.7,
          8.1,
          3.7,
          3.1,
          2.6,
          2.4,
          2.2,
          2.2
         ]
        },
        {
         "marker": {
          "color": "crimson"
         },
         "mode": "lines+markers",
         "name": "Syria",
         "type": "scatter",
         "x": [
          1980,
          1981,
          1982,
          1983,
          1984,
          1985,
          1986,
          1987,
          1988,
          1989,
          1990,
          1991,
          1992,
          1993,
          1994,
          1995,
          1996,
          1997,
          1998,
          1999,
          2000,
          2001,
          2002,
          2003,
          2004,
          2005,
          2006,
          2007,
          2008,
          2009,
          2010,
          2011,
          2012,
          2013,
          2014,
          2015,
          2016,
          2017,
          2018,
          2019,
          2020,
          2021,
          2022,
          2023,
          2024,
          2025,
          2026,
          2027,
          2028
         ],
         "y": [
          10.5,
          8.5,
          2.6,
          1.6,
          -6.5,
          7.3,
          -4.8,
          1.3,
          12.7,
          -6.1,
          10.4,
          10.7,
          13.2,
          7.4,
          5.5,
          5.4,
          3,
          -1.1,
          5.6,
          -3.1,
          2.3,
          3.7,
          5.9,
          -2,
          6.9,
          6.2,
          5,
          5.7,
          4.5,
          5.9,
          3.4,
          null,
          null,
          null,
          null,
          null,
          null,
          null,
          null,
          null,
          null,
          null,
          null,
          null,
          null,
          null,
          null,
          null,
          null
         ]
        },
        {
         "marker": {
          "color": "darkgreen"
         },
         "mode": "lines+markers",
         "name": "San Marino",
         "type": "scatter",
         "x": [
          1980,
          1981,
          1982,
          1983,
          1984,
          1985,
          1986,
          1987,
          1988,
          1989,
          1990,
          1991,
          1992,
          1993,
          1994,
          1995,
          1996,
          1997,
          1998,
          1999,
          2000,
          2001,
          2002,
          2003,
          2004,
          2005,
          2006,
          2007,
          2008,
          2009,
          2010,
          2011,
          2012,
          2013,
          2014,
          2015,
          2016,
          2017,
          2018,
          2019,
          2020,
          2021,
          2022,
          2023,
          2024,
          2025,
          2026,
          2027,
          2028
         ],
         "y": [
          null,
          null,
          null,
          null,
          null,
          null,
          null,
          null,
          null,
          null,
          null,
          null,
          null,
          null,
          null,
          null,
          null,
          null,
          7.5,
          9,
          2.2,
          5.5,
          0.3,
          3.9,
          4.6,
          2.4,
          3.8,
          7.1,
          -0.4,
          -10.1,
          -5.8,
          -8.5,
          -7.2,
          -0.8,
          -0.6,
          2.7,
          2.3,
          0.3,
          1.5,
          2.1,
          -6.7,
          8.3,
          4.6,
          1.2,
          1,
          1.3,
          1.3,
          1.3,
          1.3
         ]
        },
        {
         "marker": {
          "color": "brown"
         },
         "mode": "lines+markers",
         "name": "Serbia",
         "type": "scatter",
         "x": [
          1980,
          1981,
          1982,
          1983,
          1984,
          1985,
          1986,
          1987,
          1988,
          1989,
          1990,
          1991,
          1992,
          1993,
          1994,
          1995,
          1996,
          1997,
          1998,
          1999,
          2000,
          2001,
          2002,
          2003,
          2004,
          2005,
          2006,
          2007,
          2008,
          2009,
          2010,
          2011,
          2012,
          2013,
          2014,
          2015,
          2016,
          2017,
          2018,
          2019,
          2020,
          2021,
          2022,
          2023,
          2024,
          2025,
          2026,
          2027,
          2028
         ],
         "y": [
          null,
          null,
          null,
          null,
          null,
          null,
          null,
          null,
          null,
          null,
          null,
          null,
          null,
          null,
          null,
          null,
          null,
          null,
          2.4,
          -12.1,
          7.8,
          5,
          7.1,
          4.4,
          9,
          10.2,
          5.1,
          6.4,
          5.7,
          -2.7,
          0.7,
          2,
          -0.7,
          2.9,
          -1.6,
          1.8,
          3.3,
          2.1,
          4.5,
          4.3,
          -0.9,
          7.5,
          2.3,
          2,
          3,
          4.5,
          4,
          4,
          4
         ]
        },
        {
         "marker": {
          "color": "forestgreen"
         },
         "mode": "lines+markers",
         "name": "Marshall Islands",
         "type": "scatter",
         "x": [
          1980,
          1981,
          1982,
          1983,
          1984,
          1985,
          1986,
          1987,
          1988,
          1989,
          1990,
          1991,
          1992,
          1993,
          1994,
          1995,
          1996,
          1997,
          1998,
          1999,
          2000,
          2001,
          2002,
          2003,
          2004,
          2005,
          2006,
          2007,
          2008,
          2009,
          2010,
          2011,
          2012,
          2013,
          2014,
          2015,
          2016,
          2017,
          2018,
          2019,
          2020,
          2021,
          2022,
          2023,
          2024,
          2025,
          2026,
          2027,
          2028
         ],
         "y": [
          null,
          null,
          null,
          null,
          null,
          null,
          null,
          null,
          null,
          null,
          null,
          null,
          null,
          null,
          null,
          null,
          null,
          null,
          -0.7,
          -1.1,
          1.5,
          6.7,
          3.7,
          -1.6,
          -0.3,
          2.3,
          -0.2,
          3.4,
          -6.4,
          2.6,
          6.8,
          -0.6,
          -2.2,
          3.9,
          -1,
          1.6,
          1.4,
          3.3,
          3.1,
          6.8,
          -1.6,
          1.7,
          1.3,
          3,
          2,
          1.8,
          1.5,
          1.5,
          1.5
         ]
        },
        {
         "marker": {
          "color": "steelblue"
         },
         "mode": "lines+markers",
         "name": "Ukraine",
         "type": "scatter",
         "x": [
          1980,
          1981,
          1982,
          1983,
          1984,
          1985,
          1986,
          1987,
          1988,
          1989,
          1990,
          1991,
          1992,
          1993,
          1994,
          1995,
          1996,
          1997,
          1998,
          1999,
          2000,
          2001,
          2002,
          2003,
          2004,
          2005,
          2006,
          2007,
          2008,
          2009,
          2010,
          2011,
          2012,
          2013,
          2014,
          2015,
          2016,
          2017,
          2018,
          2019,
          2020,
          2021,
          2022,
          2023,
          2024,
          2025,
          2026,
          2027,
          2028
         ],
         "y": [
          null,
          null,
          null,
          null,
          null,
          null,
          null,
          null,
          null,
          null,
          null,
          null,
          -9.9,
          -14.2,
          -22.9,
          -12.2,
          -10,
          -3,
          -1.9,
          -0.2,
          5.9,
          8.8,
          5.3,
          9.5,
          11.8,
          3.1,
          7.6,
          8.2,
          2.2,
          -15.1,
          4.1,
          5.5,
          0.2,
          0,
          -6.6,
          -9.8,
          2.4,
          2.4,
          3.5,
          3.2,
          -3.8,
          3.4,
          -30.3,
          -3,
          null,
          null,
          null,
          null,
          null
         ]
        },
        {
         "marker": {
          "color": "navy"
         },
         "mode": "lines+markers",
         "name": "Lithuania",
         "type": "scatter",
         "x": [
          1980,
          1981,
          1982,
          1983,
          1984,
          1985,
          1986,
          1987,
          1988,
          1989,
          1990,
          1991,
          1992,
          1993,
          1994,
          1995,
          1996,
          1997,
          1998,
          1999,
          2000,
          2001,
          2002,
          2003,
          2004,
          2005,
          2006,
          2007,
          2008,
          2009,
          2010,
          2011,
          2012,
          2013,
          2014,
          2015,
          2016,
          2017,
          2018,
          2019,
          2020,
          2021,
          2022,
          2023,
          2024,
          2025,
          2026,
          2027,
          2028
         ],
         "y": [
          null,
          null,
          null,
          null,
          null,
          null,
          null,
          null,
          null,
          null,
          null,
          null,
          null,
          null,
          null,
          null,
          5.2,
          8.3,
          7.5,
          -1.1,
          3.7,
          6.5,
          6.8,
          10.6,
          6.6,
          7.7,
          7.4,
          11.1,
          2.6,
          -14.8,
          1.7,
          6,
          3.8,
          3.6,
          3.5,
          2,
          2.5,
          4.3,
          4,
          4.6,
          0,
          6,
          1.9,
          -0.3,
          2.7,
          2.6,
          2.4,
          2.2,
          2
         ]
        },
        {
         "marker": {
          "color": "orange"
         },
         "mode": "lines+markers",
         "name": "Micronesia, Fed. States of",
         "type": "scatter",
         "x": [
          1980,
          1981,
          1982,
          1983,
          1984,
          1985,
          1986,
          1987,
          1988,
          1989,
          1990,
          1991,
          1992,
          1993,
          1994,
          1995,
          1996,
          1997,
          1998,
          1999,
          2000,
          2001,
          2002,
          2003,
          2004,
          2005,
          2006,
          2007,
          2008,
          2009,
          2010,
          2011,
          2012,
          2013,
          2014,
          2015,
          2016,
          2017,
          2018,
          2019,
          2020,
          2021,
          2022,
          2023,
          2024,
          2025,
          2026,
          2027,
          2028
         ],
         "y": [
          null,
          null,
          null,
          null,
          null,
          null,
          null,
          null,
          null,
          null,
          null,
          null,
          null,
          null,
          null,
          null,
          -3.1,
          -6.1,
          2.7,
          1.5,
          4.9,
          2.1,
          0.6,
          1.6,
          -3.1,
          2.1,
          -0.1,
          -1.9,
          -2.2,
          1,
          2.3,
          3.2,
          -1.9,
          -3.7,
          -2.3,
          4.6,
          0.9,
          2.7,
          0.2,
          1.2,
          -1.8,
          -3.2,
          -0.6,
          2.8,
          2.8,
          1.3,
          0.8,
          0.6,
          0.6
         ]
        },
        {
         "marker": {
          "color": "tomato"
         },
         "mode": "lines+markers",
         "name": "Czech Republic",
         "type": "scatter",
         "x": [
          1980,
          1981,
          1982,
          1983,
          1984,
          1985,
          1986,
          1987,
          1988,
          1989,
          1990,
          1991,
          1992,
          1993,
          1994,
          1995,
          1996,
          1997,
          1998,
          1999,
          2000,
          2001,
          2002,
          2003,
          2004,
          2005,
          2006,
          2007,
          2008,
          2009,
          2010,
          2011,
          2012,
          2013,
          2014,
          2015,
          2016,
          2017,
          2018,
          2019,
          2020,
          2021,
          2022,
          2023,
          2024,
          2025,
          2026,
          2027,
          2028
         ],
         "y": [
          null,
          null,
          null,
          null,
          null,
          null,
          null,
          null,
          null,
          null,
          null,
          null,
          null,
          null,
          null,
          null,
          4.5,
          -0.5,
          -0.4,
          1.4,
          4,
          3,
          1.6,
          3.6,
          4.8,
          6.6,
          6.8,
          5.6,
          2.7,
          -4.7,
          2.4,
          1.8,
          -0.8,
          0,
          2.3,
          5.4,
          2.5,
          5.2,
          3.2,
          3,
          -5.5,
          3.6,
          2.4,
          -0.5,
          2,
          3.4,
          2.8,
          2.5,
          2.5
         ]
        },
        {
         "marker": {
          "color": "crimson"
         },
         "mode": "lines+markers",
         "name": "Bosnia and Herzegovina",
         "type": "scatter",
         "x": [
          1980,
          1981,
          1982,
          1983,
          1984,
          1985,
          1986,
          1987,
          1988,
          1989,
          1990,
          1991,
          1992,
          1993,
          1994,
          1995,
          1996,
          1997,
          1998,
          1999,
          2000,
          2001,
          2002,
          2003,
          2004,
          2005,
          2006,
          2007,
          2008,
          2009,
          2010,
          2011,
          2012,
          2013,
          2014,
          2015,
          2016,
          2017,
          2018,
          2019,
          2020,
          2021,
          2022,
          2023,
          2024,
          2025,
          2026,
          2027,
          2028
         ],
         "y": [
          null,
          null,
          null,
          null,
          null,
          null,
          null,
          null,
          null,
          null,
          null,
          null,
          null,
          null,
          null,
          20.7,
          62.2,
          22.9,
          13.8,
          10.7,
          4.4,
          2.4,
          5.1,
          3.9,
          6.3,
          4.2,
          5.7,
          6,
          5.6,
          -0.8,
          0.8,
          0.9,
          -0.7,
          2.4,
          1.1,
          4.3,
          3.2,
          3.2,
          3.8,
          2.9,
          -3,
          7.4,
          3.8,
          2,
          3,
          3,
          3,
          3,
          3
         ]
        },
        {
         "marker": {
          "color": "darkgreen"
         },
         "mode": "lines+markers",
         "name": "West Bank and Gaza",
         "type": "scatter",
         "x": [
          1980,
          1981,
          1982,
          1983,
          1984,
          1985,
          1986,
          1987,
          1988,
          1989,
          1990,
          1991,
          1992,
          1993,
          1994,
          1995,
          1996,
          1997,
          1998,
          1999,
          2000,
          2001,
          2002,
          2003,
          2004,
          2005,
          2006,
          2007,
          2008,
          2009,
          2010,
          2011,
          2012,
          2013,
          2014,
          2015,
          2016,
          2017,
          2018,
          2019,
          2020,
          2021,
          2022,
          2023,
          2024,
          2025,
          2026,
          2027,
          2028
         ],
         "y": [
          null,
          null,
          null,
          null,
          null,
          null,
          null,
          null,
          null,
          null,
          null,
          null,
          null,
          null,
          null,
          7.1,
          1.2,
          14.7,
          14.3,
          8.3,
          -8.6,
          -9.3,
          -12.5,
          14,
          21.9,
          11.3,
          -1,
          3.8,
          7.4,
          8.6,
          5.8,
          9.6,
          6.1,
          4.7,
          -0.2,
          3.7,
          8.9,
          1.4,
          1.2,
          1.4,
          -11.3,
          7,
          4,
          3.5,
          2.7,
          2.4,
          2,
          2,
          2
         ]
        }
       ],
       "layout": {
        "height": 800,
        "legend": {
         "title": {
          "text": "Legend"
         },
         "x": 0,
         "y": 1
        },
        "margin": {
         "b": 0,
         "l": 0,
         "r": 0,
         "t": 50
        },
        "plot_bgcolor": "#F7FAFC",
        "showlegend": true,
        "template": {
         "data": {
          "bar": [
           {
            "error_x": {
             "color": "#2a3f5f"
            },
            "error_y": {
             "color": "#2a3f5f"
            },
            "marker": {
             "line": {
              "color": "#E5ECF6",
              "width": 0.5
             },
             "pattern": {
              "fillmode": "overlay",
              "size": 10,
              "solidity": 0.2
             }
            },
            "type": "bar"
           }
          ],
          "barpolar": [
           {
            "marker": {
             "line": {
              "color": "#E5ECF6",
              "width": 0.5
             },
             "pattern": {
              "fillmode": "overlay",
              "size": 10,
              "solidity": 0.2
             }
            },
            "type": "barpolar"
           }
          ],
          "carpet": [
           {
            "aaxis": {
             "endlinecolor": "#2a3f5f",
             "gridcolor": "white",
             "linecolor": "white",
             "minorgridcolor": "white",
             "startlinecolor": "#2a3f5f"
            },
            "baxis": {
             "endlinecolor": "#2a3f5f",
             "gridcolor": "white",
             "linecolor": "white",
             "minorgridcolor": "white",
             "startlinecolor": "#2a3f5f"
            },
            "type": "carpet"
           }
          ],
          "choropleth": [
           {
            "colorbar": {
             "outlinewidth": 0,
             "ticks": ""
            },
            "type": "choropleth"
           }
          ],
          "contour": [
           {
            "colorbar": {
             "outlinewidth": 0,
             "ticks": ""
            },
            "colorscale": [
             [
              0,
              "#0d0887"
             ],
             [
              0.1111111111111111,
              "#46039f"
             ],
             [
              0.2222222222222222,
              "#7201a8"
             ],
             [
              0.3333333333333333,
              "#9c179e"
             ],
             [
              0.4444444444444444,
              "#bd3786"
             ],
             [
              0.5555555555555556,
              "#d8576b"
             ],
             [
              0.6666666666666666,
              "#ed7953"
             ],
             [
              0.7777777777777778,
              "#fb9f3a"
             ],
             [
              0.8888888888888888,
              "#fdca26"
             ],
             [
              1,
              "#f0f921"
             ]
            ],
            "type": "contour"
           }
          ],
          "contourcarpet": [
           {
            "colorbar": {
             "outlinewidth": 0,
             "ticks": ""
            },
            "type": "contourcarpet"
           }
          ],
          "heatmap": [
           {
            "colorbar": {
             "outlinewidth": 0,
             "ticks": ""
            },
            "colorscale": [
             [
              0,
              "#0d0887"
             ],
             [
              0.1111111111111111,
              "#46039f"
             ],
             [
              0.2222222222222222,
              "#7201a8"
             ],
             [
              0.3333333333333333,
              "#9c179e"
             ],
             [
              0.4444444444444444,
              "#bd3786"
             ],
             [
              0.5555555555555556,
              "#d8576b"
             ],
             [
              0.6666666666666666,
              "#ed7953"
             ],
             [
              0.7777777777777778,
              "#fb9f3a"
             ],
             [
              0.8888888888888888,
              "#fdca26"
             ],
             [
              1,
              "#f0f921"
             ]
            ],
            "type": "heatmap"
           }
          ],
          "heatmapgl": [
           {
            "colorbar": {
             "outlinewidth": 0,
             "ticks": ""
            },
            "colorscale": [
             [
              0,
              "#0d0887"
             ],
             [
              0.1111111111111111,
              "#46039f"
             ],
             [
              0.2222222222222222,
              "#7201a8"
             ],
             [
              0.3333333333333333,
              "#9c179e"
             ],
             [
              0.4444444444444444,
              "#bd3786"
             ],
             [
              0.5555555555555556,
              "#d8576b"
             ],
             [
              0.6666666666666666,
              "#ed7953"
             ],
             [
              0.7777777777777778,
              "#fb9f3a"
             ],
             [
              0.8888888888888888,
              "#fdca26"
             ],
             [
              1,
              "#f0f921"
             ]
            ],
            "type": "heatmapgl"
           }
          ],
          "histogram": [
           {
            "marker": {
             "pattern": {
              "fillmode": "overlay",
              "size": 10,
              "solidity": 0.2
             }
            },
            "type": "histogram"
           }
          ],
          "histogram2d": [
           {
            "colorbar": {
             "outlinewidth": 0,
             "ticks": ""
            },
            "colorscale": [
             [
              0,
              "#0d0887"
             ],
             [
              0.1111111111111111,
              "#46039f"
             ],
             [
              0.2222222222222222,
              "#7201a8"
             ],
             [
              0.3333333333333333,
              "#9c179e"
             ],
             [
              0.4444444444444444,
              "#bd3786"
             ],
             [
              0.5555555555555556,
              "#d8576b"
             ],
             [
              0.6666666666666666,
              "#ed7953"
             ],
             [
              0.7777777777777778,
              "#fb9f3a"
             ],
             [
              0.8888888888888888,
              "#fdca26"
             ],
             [
              1,
              "#f0f921"
             ]
            ],
            "type": "histogram2d"
           }
          ],
          "histogram2dcontour": [
           {
            "colorbar": {
             "outlinewidth": 0,
             "ticks": ""
            },
            "colorscale": [
             [
              0,
              "#0d0887"
             ],
             [
              0.1111111111111111,
              "#46039f"
             ],
             [
              0.2222222222222222,
              "#7201a8"
             ],
             [
              0.3333333333333333,
              "#9c179e"
             ],
             [
              0.4444444444444444,
              "#bd3786"
             ],
             [
              0.5555555555555556,
              "#d8576b"
             ],
             [
              0.6666666666666666,
              "#ed7953"
             ],
             [
              0.7777777777777778,
              "#fb9f3a"
             ],
             [
              0.8888888888888888,
              "#fdca26"
             ],
             [
              1,
              "#f0f921"
             ]
            ],
            "type": "histogram2dcontour"
           }
          ],
          "mesh3d": [
           {
            "colorbar": {
             "outlinewidth": 0,
             "ticks": ""
            },
            "type": "mesh3d"
           }
          ],
          "parcoords": [
           {
            "line": {
             "colorbar": {
              "outlinewidth": 0,
              "ticks": ""
             }
            },
            "type": "parcoords"
           }
          ],
          "pie": [
           {
            "automargin": true,
            "type": "pie"
           }
          ],
          "scatter": [
           {
            "fillpattern": {
             "fillmode": "overlay",
             "size": 10,
             "solidity": 0.2
            },
            "type": "scatter"
           }
          ],
          "scatter3d": [
           {
            "line": {
             "colorbar": {
              "outlinewidth": 0,
              "ticks": ""
             }
            },
            "marker": {
             "colorbar": {
              "outlinewidth": 0,
              "ticks": ""
             }
            },
            "type": "scatter3d"
           }
          ],
          "scattercarpet": [
           {
            "marker": {
             "colorbar": {
              "outlinewidth": 0,
              "ticks": ""
             }
            },
            "type": "scattercarpet"
           }
          ],
          "scattergeo": [
           {
            "marker": {
             "colorbar": {
              "outlinewidth": 0,
              "ticks": ""
             }
            },
            "type": "scattergeo"
           }
          ],
          "scattergl": [
           {
            "marker": {
             "colorbar": {
              "outlinewidth": 0,
              "ticks": ""
             }
            },
            "type": "scattergl"
           }
          ],
          "scattermapbox": [
           {
            "marker": {
             "colorbar": {
              "outlinewidth": 0,
              "ticks": ""
             }
            },
            "type": "scattermapbox"
           }
          ],
          "scatterpolar": [
           {
            "marker": {
             "colorbar": {
              "outlinewidth": 0,
              "ticks": ""
             }
            },
            "type": "scatterpolar"
           }
          ],
          "scatterpolargl": [
           {
            "marker": {
             "colorbar": {
              "outlinewidth": 0,
              "ticks": ""
             }
            },
            "type": "scatterpolargl"
           }
          ],
          "scatterternary": [
           {
            "marker": {
             "colorbar": {
              "outlinewidth": 0,
              "ticks": ""
             }
            },
            "type": "scatterternary"
           }
          ],
          "surface": [
           {
            "colorbar": {
             "outlinewidth": 0,
             "ticks": ""
            },
            "colorscale": [
             [
              0,
              "#0d0887"
             ],
             [
              0.1111111111111111,
              "#46039f"
             ],
             [
              0.2222222222222222,
              "#7201a8"
             ],
             [
              0.3333333333333333,
              "#9c179e"
             ],
             [
              0.4444444444444444,
              "#bd3786"
             ],
             [
              0.5555555555555556,
              "#d8576b"
             ],
             [
              0.6666666666666666,
              "#ed7953"
             ],
             [
              0.7777777777777778,
              "#fb9f3a"
             ],
             [
              0.8888888888888888,
              "#fdca26"
             ],
             [
              1,
              "#f0f921"
             ]
            ],
            "type": "surface"
           }
          ],
          "table": [
           {
            "cells": {
             "fill": {
              "color": "#EBF0F8"
             },
             "line": {
              "color": "white"
             }
            },
            "header": {
             "fill": {
              "color": "#C8D4E3"
             },
             "line": {
              "color": "white"
             }
            },
            "type": "table"
           }
          ]
         },
         "layout": {
          "annotationdefaults": {
           "arrowcolor": "#2a3f5f",
           "arrowhead": 0,
           "arrowwidth": 1
          },
          "autotypenumbers": "strict",
          "coloraxis": {
           "colorbar": {
            "outlinewidth": 0,
            "ticks": ""
           }
          },
          "colorscale": {
           "diverging": [
            [
             0,
             "#8e0152"
            ],
            [
             0.1,
             "#c51b7d"
            ],
            [
             0.2,
             "#de77ae"
            ],
            [
             0.3,
             "#f1b6da"
            ],
            [
             0.4,
             "#fde0ef"
            ],
            [
             0.5,
             "#f7f7f7"
            ],
            [
             0.6,
             "#e6f5d0"
            ],
            [
             0.7,
             "#b8e186"
            ],
            [
             0.8,
             "#7fbc41"
            ],
            [
             0.9,
             "#4d9221"
            ],
            [
             1,
             "#276419"
            ]
           ],
           "sequential": [
            [
             0,
             "#0d0887"
            ],
            [
             0.1111111111111111,
             "#46039f"
            ],
            [
             0.2222222222222222,
             "#7201a8"
            ],
            [
             0.3333333333333333,
             "#9c179e"
            ],
            [
             0.4444444444444444,
             "#bd3786"
            ],
            [
             0.5555555555555556,
             "#d8576b"
            ],
            [
             0.6666666666666666,
             "#ed7953"
            ],
            [
             0.7777777777777778,
             "#fb9f3a"
            ],
            [
             0.8888888888888888,
             "#fdca26"
            ],
            [
             1,
             "#f0f921"
            ]
           ],
           "sequentialminus": [
            [
             0,
             "#0d0887"
            ],
            [
             0.1111111111111111,
             "#46039f"
            ],
            [
             0.2222222222222222,
             "#7201a8"
            ],
            [
             0.3333333333333333,
             "#9c179e"
            ],
            [
             0.4444444444444444,
             "#bd3786"
            ],
            [
             0.5555555555555556,
             "#d8576b"
            ],
            [
             0.6666666666666666,
             "#ed7953"
            ],
            [
             0.7777777777777778,
             "#fb9f3a"
            ],
            [
             0.8888888888888888,
             "#fdca26"
            ],
            [
             1,
             "#f0f921"
            ]
           ]
          },
          "colorway": [
           "#636efa",
           "#EF553B",
           "#00cc96",
           "#ab63fa",
           "#FFA15A",
           "#19d3f3",
           "#FF6692",
           "#B6E880",
           "#FF97FF",
           "#FECB52"
          ],
          "font": {
           "color": "#2a3f5f"
          },
          "geo": {
           "bgcolor": "white",
           "lakecolor": "white",
           "landcolor": "#E5ECF6",
           "showlakes": true,
           "showland": true,
           "subunitcolor": "white"
          },
          "hoverlabel": {
           "align": "left"
          },
          "hovermode": "closest",
          "mapbox": {
           "style": "light"
          },
          "paper_bgcolor": "white",
          "plot_bgcolor": "#E5ECF6",
          "polar": {
           "angularaxis": {
            "gridcolor": "white",
            "linecolor": "white",
            "ticks": ""
           },
           "bgcolor": "#E5ECF6",
           "radialaxis": {
            "gridcolor": "white",
            "linecolor": "white",
            "ticks": ""
           }
          },
          "scene": {
           "xaxis": {
            "backgroundcolor": "#E5ECF6",
            "gridcolor": "white",
            "gridwidth": 2,
            "linecolor": "white",
            "showbackground": true,
            "ticks": "",
            "zerolinecolor": "white"
           },
           "yaxis": {
            "backgroundcolor": "#E5ECF6",
            "gridcolor": "white",
            "gridwidth": 2,
            "linecolor": "white",
            "showbackground": true,
            "ticks": "",
            "zerolinecolor": "white"
           },
           "zaxis": {
            "backgroundcolor": "#E5ECF6",
            "gridcolor": "white",
            "gridwidth": 2,
            "linecolor": "white",
            "showbackground": true,
            "ticks": "",
            "zerolinecolor": "white"
           }
          },
          "shapedefaults": {
           "line": {
            "color": "#2a3f5f"
           }
          },
          "ternary": {
           "aaxis": {
            "gridcolor": "white",
            "linecolor": "white",
            "ticks": ""
           },
           "baxis": {
            "gridcolor": "white",
            "linecolor": "white",
            "ticks": ""
           },
           "bgcolor": "#E5ECF6",
           "caxis": {
            "gridcolor": "white",
            "linecolor": "white",
            "ticks": ""
           }
          },
          "title": {
           "x": 0.05
          },
          "xaxis": {
           "automargin": true,
           "gridcolor": "white",
           "linecolor": "white",
           "ticks": "",
           "title": {
            "standoff": 15
           },
           "zerolinecolor": "white",
           "zerolinewidth": 2
          },
          "yaxis": {
           "automargin": true,
           "gridcolor": "white",
           "linecolor": "white",
           "ticks": "",
           "title": {
            "standoff": 15
           },
           "zerolinecolor": "white",
           "zerolinewidth": 2
          }
         }
        },
        "title": {
         "font": {
          "size": 30
         },
         "text": "GDP"
        },
        "width": 1200,
        "xaxis": {
         "dtick": "2",
         "tickangle": 30,
         "title": {
          "text": "Year"
         }
        },
        "yaxis": {
         "tickformat": ",.0f",
         "title": {
          "text": "Real GDP growth (Annual percent change)"
         }
        }
       }
      }
     },
     "metadata": {},
     "output_type": "display_data"
    }
   ],
   "source": [
    "# list_selection = countrys_03_to_04\n",
    "# countrys_03_to_04 = countrys_03_to_04.insert(0, 'year')\n",
    "# graficos(df_null[countrys_03_to_04],list_selection,columna_y='Real GDP growth (Annual percent change)')\n",
    "plot_gdp(df_null,countrys_03_to_04)"
   ]
  },
  {
   "cell_type": "code",
   "execution_count": 58,
   "metadata": {},
   "outputs": [
    {
     "data": {
      "application/vnd.plotly.v1+json": {
       "config": {
        "plotlyServerURL": "https://plot.ly"
       },
       "data": [
        {
         "marker": {
          "color": "navy"
         },
         "mode": "lines+markers",
         "name": "Macao SAR",
         "type": "scatter",
         "x": [
          1980,
          1981,
          1982,
          1983,
          1984,
          1985,
          1986,
          1987,
          1988,
          1989,
          1990,
          1991,
          1992,
          1993,
          1994,
          1995,
          1996,
          1997,
          1998,
          1999,
          2000,
          2001,
          2002,
          2003,
          2004,
          2005,
          2006,
          2007,
          2008,
          2009,
          2010,
          2011,
          2012,
          2013,
          2014,
          2015,
          2016,
          2017,
          2018,
          2019,
          2020,
          2021,
          2022,
          2023,
          2024,
          2025,
          2026,
          2027,
          2028
         ],
         "y": [
          null,
          null,
          null,
          null,
          null,
          null,
          null,
          null,
          null,
          null,
          null,
          null,
          null,
          null,
          null,
          null,
          null,
          null,
          null,
          null,
          null,
          null,
          8.9,
          11.6,
          26.6,
          8.1,
          13.4,
          14.5,
          3.4,
          1.3,
          25.1,
          21.6,
          9.2,
          10.8,
          -2,
          -21.5,
          -0.7,
          10,
          6.5,
          -2.5,
          -54.2,
          19.3,
          -26.8,
          58.9,
          20.6,
          8.6,
          4.3,
          3.4,
          3.4
         ]
        },
        {
         "marker": {
          "color": "orange"
         },
         "mode": "lines+markers",
         "name": "Montenegro",
         "type": "scatter",
         "x": [
          1980,
          1981,
          1982,
          1983,
          1984,
          1985,
          1986,
          1987,
          1988,
          1989,
          1990,
          1991,
          1992,
          1993,
          1994,
          1995,
          1996,
          1997,
          1998,
          1999,
          2000,
          2001,
          2002,
          2003,
          2004,
          2005,
          2006,
          2007,
          2008,
          2009,
          2010,
          2011,
          2012,
          2013,
          2014,
          2015,
          2016,
          2017,
          2018,
          2019,
          2020,
          2021,
          2022,
          2023,
          2024,
          2025,
          2026,
          2027,
          2028
         ],
         "y": [
          null,
          null,
          null,
          null,
          null,
          null,
          null,
          null,
          null,
          null,
          null,
          null,
          null,
          null,
          null,
          null,
          null,
          null,
          null,
          null,
          null,
          1.1,
          1.9,
          2.5,
          4.4,
          4.2,
          8.6,
          6.8,
          7.2,
          -5.8,
          2.7,
          3.2,
          -2.7,
          3.5,
          1.8,
          3.4,
          2.9,
          4.7,
          5.1,
          4.1,
          -15.3,
          13,
          6.4,
          3.2,
          3,
          3,
          3,
          3,
          3
         ]
        },
        {
         "marker": {
          "color": "tomato"
         },
         "mode": "lines+markers",
         "name": "Kosovo",
         "type": "scatter",
         "x": [
          1980,
          1981,
          1982,
          1983,
          1984,
          1985,
          1986,
          1987,
          1988,
          1989,
          1990,
          1991,
          1992,
          1993,
          1994,
          1995,
          1996,
          1997,
          1998,
          1999,
          2000,
          2001,
          2002,
          2003,
          2004,
          2005,
          2006,
          2007,
          2008,
          2009,
          2010,
          2011,
          2012,
          2013,
          2014,
          2015,
          2016,
          2017,
          2018,
          2019,
          2020,
          2021,
          2022,
          2023,
          2024,
          2025,
          2026,
          2027,
          2028
         ],
         "y": [
          null,
          null,
          null,
          null,
          null,
          null,
          null,
          null,
          null,
          null,
          null,
          null,
          null,
          null,
          null,
          null,
          null,
          null,
          null,
          null,
          null,
          4.6,
          -0.4,
          2.6,
          0.6,
          4.5,
          3.6,
          8.3,
          1.8,
          5,
          4.9,
          6.3,
          1.7,
          5.3,
          3.3,
          5.9,
          5.6,
          4.8,
          3.4,
          4.8,
          -5.3,
          10.7,
          2.7,
          3.5,
          3.9,
          3.9,
          3.6,
          3.5,
          3.5
         ]
        },
        {
         "marker": {
          "color": "crimson"
         },
         "mode": "lines+markers",
         "name": "Tuvalu",
         "type": "scatter",
         "x": [
          1980,
          1981,
          1982,
          1983,
          1984,
          1985,
          1986,
          1987,
          1988,
          1989,
          1990,
          1991,
          1992,
          1993,
          1994,
          1995,
          1996,
          1997,
          1998,
          1999,
          2000,
          2001,
          2002,
          2003,
          2004,
          2005,
          2006,
          2007,
          2008,
          2009,
          2010,
          2011,
          2012,
          2013,
          2014,
          2015,
          2016,
          2017,
          2018,
          2019,
          2020,
          2021,
          2022,
          2023,
          2024,
          2025,
          2026,
          2027,
          2028
         ],
         "y": [
          null,
          null,
          null,
          null,
          null,
          null,
          null,
          null,
          null,
          null,
          null,
          null,
          null,
          null,
          null,
          null,
          null,
          null,
          null,
          null,
          null,
          0.7,
          8.3,
          -4.4,
          -1.9,
          -3.7,
          1.3,
          6.9,
          6.6,
          -5.6,
          -2.5,
          7.5,
          -2.9,
          3.8,
          1.7,
          9.4,
          4.7,
          3.3,
          1.4,
          13.8,
          -4.3,
          1.8,
          0.7,
          4.3,
          3.1,
          2.6,
          2.4,
          2.2,
          2.2
         ]
        },
        {
         "marker": {
          "color": "darkgreen"
         },
         "mode": "lines+markers",
         "name": "Timor-Leste",
         "type": "scatter",
         "x": [
          1980,
          1981,
          1982,
          1983,
          1984,
          1985,
          1986,
          1987,
          1988,
          1989,
          1990,
          1991,
          1992,
          1993,
          1994,
          1995,
          1996,
          1997,
          1998,
          1999,
          2000,
          2001,
          2002,
          2003,
          2004,
          2005,
          2006,
          2007,
          2008,
          2009,
          2010,
          2011,
          2012,
          2013,
          2014,
          2015,
          2016,
          2017,
          2018,
          2019,
          2020,
          2021,
          2022,
          2023,
          2024,
          2025,
          2026,
          2027,
          2028
         ],
         "y": [
          null,
          null,
          null,
          null,
          null,
          null,
          null,
          null,
          null,
          null,
          null,
          null,
          null,
          null,
          null,
          null,
          null,
          null,
          null,
          null,
          null,
          16.3,
          -6.7,
          -2.2,
          0.4,
          3,
          -4.1,
          10.3,
          11.4,
          10.1,
          9.3,
          6,
          4.9,
          3.1,
          4.5,
          2.8,
          3.4,
          -3.1,
          -0.7,
          2.1,
          -8.3,
          2.9,
          3.3,
          2.2,
          3.1,
          3.1,
          3,
          3,
          3
         ]
        },
        {
         "marker": {
          "color": "brown"
         },
         "mode": "lines+markers",
         "name": "Liberia",
         "type": "scatter",
         "x": [
          1980,
          1981,
          1982,
          1983,
          1984,
          1985,
          1986,
          1987,
          1988,
          1989,
          1990,
          1991,
          1992,
          1993,
          1994,
          1995,
          1996,
          1997,
          1998,
          1999,
          2000,
          2001,
          2002,
          2003,
          2004,
          2005,
          2006,
          2007,
          2008,
          2009,
          2010,
          2011,
          2012,
          2013,
          2014,
          2015,
          2016,
          2017,
          2018,
          2019,
          2020,
          2021,
          2022,
          2023,
          2024,
          2025,
          2026,
          2027,
          2028
         ],
         "y": [
          null,
          null,
          null,
          null,
          null,
          null,
          null,
          null,
          null,
          null,
          null,
          null,
          null,
          null,
          null,
          null,
          null,
          null,
          null,
          null,
          null,
          2.8,
          4.4,
          -29,
          4,
          5.9,
          8.5,
          13.1,
          6.1,
          5.2,
          6.4,
          7.7,
          8.4,
          8.8,
          0.7,
          0,
          -1.6,
          2.5,
          1.2,
          -2.5,
          -3,
          5,
          4.8,
          4.3,
          5.5,
          5.7,
          5.8,
          5.8,
          5.4
         ]
        },
        {
         "marker": {
          "color": "forestgreen"
         },
         "mode": "lines+markers",
         "name": "Palau",
         "type": "scatter",
         "x": [
          1980,
          1981,
          1982,
          1983,
          1984,
          1985,
          1986,
          1987,
          1988,
          1989,
          1990,
          1991,
          1992,
          1993,
          1994,
          1995,
          1996,
          1997,
          1998,
          1999,
          2000,
          2001,
          2002,
          2003,
          2004,
          2005,
          2006,
          2007,
          2008,
          2009,
          2010,
          2011,
          2012,
          2013,
          2014,
          2015,
          2016,
          2017,
          2018,
          2019,
          2020,
          2021,
          2022,
          2023,
          2024,
          2025,
          2026,
          2027,
          2028
         ],
         "y": [
          null,
          null,
          null,
          null,
          null,
          null,
          null,
          null,
          null,
          null,
          null,
          null,
          null,
          null,
          null,
          null,
          null,
          null,
          null,
          null,
          null,
          6.5,
          5.1,
          -3.4,
          4.1,
          3.7,
          0,
          0.9,
          -5.3,
          -6.8,
          -1.7,
          4.1,
          1.9,
          -1.6,
          4.4,
          9.6,
          3.7,
          -3.4,
          0,
          0.4,
          -7.5,
          -12.1,
          -2.9,
          8.7,
          9.6,
          4.9,
          3.5,
          3.2,
          3.2
         ]
        },
        {
         "marker": {
          "color": "steelblue"
         },
         "mode": "lines+markers",
         "name": "Andorra",
         "type": "scatter",
         "x": [
          1980,
          1981,
          1982,
          1983,
          1984,
          1985,
          1986,
          1987,
          1988,
          1989,
          1990,
          1991,
          1992,
          1993,
          1994,
          1995,
          1996,
          1997,
          1998,
          1999,
          2000,
          2001,
          2002,
          2003,
          2004,
          2005,
          2006,
          2007,
          2008,
          2009,
          2010,
          2011,
          2012,
          2013,
          2014,
          2015,
          2016,
          2017,
          2018,
          2019,
          2020,
          2021,
          2022,
          2023,
          2024,
          2025,
          2026,
          2027,
          2028
         ],
         "y": [
          null,
          null,
          null,
          null,
          null,
          null,
          null,
          null,
          null,
          null,
          null,
          null,
          null,
          null,
          null,
          null,
          null,
          null,
          null,
          null,
          null,
          8.1,
          4.5,
          8.7,
          8.1,
          5.4,
          4.8,
          1.6,
          -5.6,
          -5.3,
          -2,
          0,
          -5,
          -3.5,
          2.5,
          1.4,
          3.7,
          0.3,
          1.6,
          2,
          -11.2,
          8.9,
          8.7,
          1.3,
          1.5,
          1.5,
          1.5,
          1.5,
          1.5
         ]
        }
       ],
       "layout": {
        "height": 800,
        "legend": {
         "title": {
          "text": "Legend"
         },
         "x": 0,
         "y": 1
        },
        "margin": {
         "b": 0,
         "l": 0,
         "r": 0,
         "t": 50
        },
        "plot_bgcolor": "#F7FAFC",
        "showlegend": true,
        "template": {
         "data": {
          "bar": [
           {
            "error_x": {
             "color": "#2a3f5f"
            },
            "error_y": {
             "color": "#2a3f5f"
            },
            "marker": {
             "line": {
              "color": "#E5ECF6",
              "width": 0.5
             },
             "pattern": {
              "fillmode": "overlay",
              "size": 10,
              "solidity": 0.2
             }
            },
            "type": "bar"
           }
          ],
          "barpolar": [
           {
            "marker": {
             "line": {
              "color": "#E5ECF6",
              "width": 0.5
             },
             "pattern": {
              "fillmode": "overlay",
              "size": 10,
              "solidity": 0.2
             }
            },
            "type": "barpolar"
           }
          ],
          "carpet": [
           {
            "aaxis": {
             "endlinecolor": "#2a3f5f",
             "gridcolor": "white",
             "linecolor": "white",
             "minorgridcolor": "white",
             "startlinecolor": "#2a3f5f"
            },
            "baxis": {
             "endlinecolor": "#2a3f5f",
             "gridcolor": "white",
             "linecolor": "white",
             "minorgridcolor": "white",
             "startlinecolor": "#2a3f5f"
            },
            "type": "carpet"
           }
          ],
          "choropleth": [
           {
            "colorbar": {
             "outlinewidth": 0,
             "ticks": ""
            },
            "type": "choropleth"
           }
          ],
          "contour": [
           {
            "colorbar": {
             "outlinewidth": 0,
             "ticks": ""
            },
            "colorscale": [
             [
              0,
              "#0d0887"
             ],
             [
              0.1111111111111111,
              "#46039f"
             ],
             [
              0.2222222222222222,
              "#7201a8"
             ],
             [
              0.3333333333333333,
              "#9c179e"
             ],
             [
              0.4444444444444444,
              "#bd3786"
             ],
             [
              0.5555555555555556,
              "#d8576b"
             ],
             [
              0.6666666666666666,
              "#ed7953"
             ],
             [
              0.7777777777777778,
              "#fb9f3a"
             ],
             [
              0.8888888888888888,
              "#fdca26"
             ],
             [
              1,
              "#f0f921"
             ]
            ],
            "type": "contour"
           }
          ],
          "contourcarpet": [
           {
            "colorbar": {
             "outlinewidth": 0,
             "ticks": ""
            },
            "type": "contourcarpet"
           }
          ],
          "heatmap": [
           {
            "colorbar": {
             "outlinewidth": 0,
             "ticks": ""
            },
            "colorscale": [
             [
              0,
              "#0d0887"
             ],
             [
              0.1111111111111111,
              "#46039f"
             ],
             [
              0.2222222222222222,
              "#7201a8"
             ],
             [
              0.3333333333333333,
              "#9c179e"
             ],
             [
              0.4444444444444444,
              "#bd3786"
             ],
             [
              0.5555555555555556,
              "#d8576b"
             ],
             [
              0.6666666666666666,
              "#ed7953"
             ],
             [
              0.7777777777777778,
              "#fb9f3a"
             ],
             [
              0.8888888888888888,
              "#fdca26"
             ],
             [
              1,
              "#f0f921"
             ]
            ],
            "type": "heatmap"
           }
          ],
          "heatmapgl": [
           {
            "colorbar": {
             "outlinewidth": 0,
             "ticks": ""
            },
            "colorscale": [
             [
              0,
              "#0d0887"
             ],
             [
              0.1111111111111111,
              "#46039f"
             ],
             [
              0.2222222222222222,
              "#7201a8"
             ],
             [
              0.3333333333333333,
              "#9c179e"
             ],
             [
              0.4444444444444444,
              "#bd3786"
             ],
             [
              0.5555555555555556,
              "#d8576b"
             ],
             [
              0.6666666666666666,
              "#ed7953"
             ],
             [
              0.7777777777777778,
              "#fb9f3a"
             ],
             [
              0.8888888888888888,
              "#fdca26"
             ],
             [
              1,
              "#f0f921"
             ]
            ],
            "type": "heatmapgl"
           }
          ],
          "histogram": [
           {
            "marker": {
             "pattern": {
              "fillmode": "overlay",
              "size": 10,
              "solidity": 0.2
             }
            },
            "type": "histogram"
           }
          ],
          "histogram2d": [
           {
            "colorbar": {
             "outlinewidth": 0,
             "ticks": ""
            },
            "colorscale": [
             [
              0,
              "#0d0887"
             ],
             [
              0.1111111111111111,
              "#46039f"
             ],
             [
              0.2222222222222222,
              "#7201a8"
             ],
             [
              0.3333333333333333,
              "#9c179e"
             ],
             [
              0.4444444444444444,
              "#bd3786"
             ],
             [
              0.5555555555555556,
              "#d8576b"
             ],
             [
              0.6666666666666666,
              "#ed7953"
             ],
             [
              0.7777777777777778,
              "#fb9f3a"
             ],
             [
              0.8888888888888888,
              "#fdca26"
             ],
             [
              1,
              "#f0f921"
             ]
            ],
            "type": "histogram2d"
           }
          ],
          "histogram2dcontour": [
           {
            "colorbar": {
             "outlinewidth": 0,
             "ticks": ""
            },
            "colorscale": [
             [
              0,
              "#0d0887"
             ],
             [
              0.1111111111111111,
              "#46039f"
             ],
             [
              0.2222222222222222,
              "#7201a8"
             ],
             [
              0.3333333333333333,
              "#9c179e"
             ],
             [
              0.4444444444444444,
              "#bd3786"
             ],
             [
              0.5555555555555556,
              "#d8576b"
             ],
             [
              0.6666666666666666,
              "#ed7953"
             ],
             [
              0.7777777777777778,
              "#fb9f3a"
             ],
             [
              0.8888888888888888,
              "#fdca26"
             ],
             [
              1,
              "#f0f921"
             ]
            ],
            "type": "histogram2dcontour"
           }
          ],
          "mesh3d": [
           {
            "colorbar": {
             "outlinewidth": 0,
             "ticks": ""
            },
            "type": "mesh3d"
           }
          ],
          "parcoords": [
           {
            "line": {
             "colorbar": {
              "outlinewidth": 0,
              "ticks": ""
             }
            },
            "type": "parcoords"
           }
          ],
          "pie": [
           {
            "automargin": true,
            "type": "pie"
           }
          ],
          "scatter": [
           {
            "fillpattern": {
             "fillmode": "overlay",
             "size": 10,
             "solidity": 0.2
            },
            "type": "scatter"
           }
          ],
          "scatter3d": [
           {
            "line": {
             "colorbar": {
              "outlinewidth": 0,
              "ticks": ""
             }
            },
            "marker": {
             "colorbar": {
              "outlinewidth": 0,
              "ticks": ""
             }
            },
            "type": "scatter3d"
           }
          ],
          "scattercarpet": [
           {
            "marker": {
             "colorbar": {
              "outlinewidth": 0,
              "ticks": ""
             }
            },
            "type": "scattercarpet"
           }
          ],
          "scattergeo": [
           {
            "marker": {
             "colorbar": {
              "outlinewidth": 0,
              "ticks": ""
             }
            },
            "type": "scattergeo"
           }
          ],
          "scattergl": [
           {
            "marker": {
             "colorbar": {
              "outlinewidth": 0,
              "ticks": ""
             }
            },
            "type": "scattergl"
           }
          ],
          "scattermapbox": [
           {
            "marker": {
             "colorbar": {
              "outlinewidth": 0,
              "ticks": ""
             }
            },
            "type": "scattermapbox"
           }
          ],
          "scatterpolar": [
           {
            "marker": {
             "colorbar": {
              "outlinewidth": 0,
              "ticks": ""
             }
            },
            "type": "scatterpolar"
           }
          ],
          "scatterpolargl": [
           {
            "marker": {
             "colorbar": {
              "outlinewidth": 0,
              "ticks": ""
             }
            },
            "type": "scatterpolargl"
           }
          ],
          "scatterternary": [
           {
            "marker": {
             "colorbar": {
              "outlinewidth": 0,
              "ticks": ""
             }
            },
            "type": "scatterternary"
           }
          ],
          "surface": [
           {
            "colorbar": {
             "outlinewidth": 0,
             "ticks": ""
            },
            "colorscale": [
             [
              0,
              "#0d0887"
             ],
             [
              0.1111111111111111,
              "#46039f"
             ],
             [
              0.2222222222222222,
              "#7201a8"
             ],
             [
              0.3333333333333333,
              "#9c179e"
             ],
             [
              0.4444444444444444,
              "#bd3786"
             ],
             [
              0.5555555555555556,
              "#d8576b"
             ],
             [
              0.6666666666666666,
              "#ed7953"
             ],
             [
              0.7777777777777778,
              "#fb9f3a"
             ],
             [
              0.8888888888888888,
              "#fdca26"
             ],
             [
              1,
              "#f0f921"
             ]
            ],
            "type": "surface"
           }
          ],
          "table": [
           {
            "cells": {
             "fill": {
              "color": "#EBF0F8"
             },
             "line": {
              "color": "white"
             }
            },
            "header": {
             "fill": {
              "color": "#C8D4E3"
             },
             "line": {
              "color": "white"
             }
            },
            "type": "table"
           }
          ]
         },
         "layout": {
          "annotationdefaults": {
           "arrowcolor": "#2a3f5f",
           "arrowhead": 0,
           "arrowwidth": 1
          },
          "autotypenumbers": "strict",
          "coloraxis": {
           "colorbar": {
            "outlinewidth": 0,
            "ticks": ""
           }
          },
          "colorscale": {
           "diverging": [
            [
             0,
             "#8e0152"
            ],
            [
             0.1,
             "#c51b7d"
            ],
            [
             0.2,
             "#de77ae"
            ],
            [
             0.3,
             "#f1b6da"
            ],
            [
             0.4,
             "#fde0ef"
            ],
            [
             0.5,
             "#f7f7f7"
            ],
            [
             0.6,
             "#e6f5d0"
            ],
            [
             0.7,
             "#b8e186"
            ],
            [
             0.8,
             "#7fbc41"
            ],
            [
             0.9,
             "#4d9221"
            ],
            [
             1,
             "#276419"
            ]
           ],
           "sequential": [
            [
             0,
             "#0d0887"
            ],
            [
             0.1111111111111111,
             "#46039f"
            ],
            [
             0.2222222222222222,
             "#7201a8"
            ],
            [
             0.3333333333333333,
             "#9c179e"
            ],
            [
             0.4444444444444444,
             "#bd3786"
            ],
            [
             0.5555555555555556,
             "#d8576b"
            ],
            [
             0.6666666666666666,
             "#ed7953"
            ],
            [
             0.7777777777777778,
             "#fb9f3a"
            ],
            [
             0.8888888888888888,
             "#fdca26"
            ],
            [
             1,
             "#f0f921"
            ]
           ],
           "sequentialminus": [
            [
             0,
             "#0d0887"
            ],
            [
             0.1111111111111111,
             "#46039f"
            ],
            [
             0.2222222222222222,
             "#7201a8"
            ],
            [
             0.3333333333333333,
             "#9c179e"
            ],
            [
             0.4444444444444444,
             "#bd3786"
            ],
            [
             0.5555555555555556,
             "#d8576b"
            ],
            [
             0.6666666666666666,
             "#ed7953"
            ],
            [
             0.7777777777777778,
             "#fb9f3a"
            ],
            [
             0.8888888888888888,
             "#fdca26"
            ],
            [
             1,
             "#f0f921"
            ]
           ]
          },
          "colorway": [
           "#636efa",
           "#EF553B",
           "#00cc96",
           "#ab63fa",
           "#FFA15A",
           "#19d3f3",
           "#FF6692",
           "#B6E880",
           "#FF97FF",
           "#FECB52"
          ],
          "font": {
           "color": "#2a3f5f"
          },
          "geo": {
           "bgcolor": "white",
           "lakecolor": "white",
           "landcolor": "#E5ECF6",
           "showlakes": true,
           "showland": true,
           "subunitcolor": "white"
          },
          "hoverlabel": {
           "align": "left"
          },
          "hovermode": "closest",
          "mapbox": {
           "style": "light"
          },
          "paper_bgcolor": "white",
          "plot_bgcolor": "#E5ECF6",
          "polar": {
           "angularaxis": {
            "gridcolor": "white",
            "linecolor": "white",
            "ticks": ""
           },
           "bgcolor": "#E5ECF6",
           "radialaxis": {
            "gridcolor": "white",
            "linecolor": "white",
            "ticks": ""
           }
          },
          "scene": {
           "xaxis": {
            "backgroundcolor": "#E5ECF6",
            "gridcolor": "white",
            "gridwidth": 2,
            "linecolor": "white",
            "showbackground": true,
            "ticks": "",
            "zerolinecolor": "white"
           },
           "yaxis": {
            "backgroundcolor": "#E5ECF6",
            "gridcolor": "white",
            "gridwidth": 2,
            "linecolor": "white",
            "showbackground": true,
            "ticks": "",
            "zerolinecolor": "white"
           },
           "zaxis": {
            "backgroundcolor": "#E5ECF6",
            "gridcolor": "white",
            "gridwidth": 2,
            "linecolor": "white",
            "showbackground": true,
            "ticks": "",
            "zerolinecolor": "white"
           }
          },
          "shapedefaults": {
           "line": {
            "color": "#2a3f5f"
           }
          },
          "ternary": {
           "aaxis": {
            "gridcolor": "white",
            "linecolor": "white",
            "ticks": ""
           },
           "baxis": {
            "gridcolor": "white",
            "linecolor": "white",
            "ticks": ""
           },
           "bgcolor": "#E5ECF6",
           "caxis": {
            "gridcolor": "white",
            "linecolor": "white",
            "ticks": ""
           }
          },
          "title": {
           "x": 0.05
          },
          "xaxis": {
           "automargin": true,
           "gridcolor": "white",
           "linecolor": "white",
           "ticks": "",
           "title": {
            "standoff": 15
           },
           "zerolinecolor": "white",
           "zerolinewidth": 2
          },
          "yaxis": {
           "automargin": true,
           "gridcolor": "white",
           "linecolor": "white",
           "ticks": "",
           "title": {
            "standoff": 15
           },
           "zerolinecolor": "white",
           "zerolinewidth": 2
          }
         }
        },
        "title": {
         "font": {
          "size": 30
         },
         "text": "GDP"
        },
        "width": 1200,
        "xaxis": {
         "dtick": "2",
         "tickangle": 30,
         "title": {
          "text": "Year"
         }
        },
        "yaxis": {
         "tickformat": ",.0f",
         "title": {
          "text": "Real GDP growth (Annual percent change)"
         }
        }
       }
      }
     },
     "metadata": {},
     "output_type": "display_data"
    }
   ],
   "source": [
    "# list_selection = countrys_04_to_05\n",
    "# countrys_04_to_05 = countrys_04_to_05.insert(0, 'year')\n",
    "# graficos(df_null[countrys_04_to_05],list_selection,columna_y='Real GDP growth (Annual percent change)')\n",
    "plot_gdp(df_null,countrys_04_to_05)"
   ]
  },
  {
   "cell_type": "code",
   "execution_count": 59,
   "metadata": {},
   "outputs": [
    {
     "data": {
      "application/vnd.plotly.v1+json": {
       "config": {
        "plotlyServerURL": "https://plot.ly"
       },
       "data": [
        {
         "marker": {
          "color": "navy"
         },
         "mode": "lines+markers",
         "name": "Nauru",
         "type": "scatter",
         "x": [
          1980,
          1981,
          1982,
          1983,
          1984,
          1985,
          1986,
          1987,
          1988,
          1989,
          1990,
          1991,
          1992,
          1993,
          1994,
          1995,
          1996,
          1997,
          1998,
          1999,
          2000,
          2001,
          2002,
          2003,
          2004,
          2005,
          2006,
          2007,
          2008,
          2009,
          2010,
          2011,
          2012,
          2013,
          2014,
          2015,
          2016,
          2017,
          2018,
          2019,
          2020,
          2021,
          2022,
          2023,
          2024,
          2025,
          2026,
          2027,
          2028
         ],
         "y": [
          null,
          null,
          null,
          null,
          null,
          null,
          null,
          null,
          null,
          null,
          null,
          null,
          null,
          null,
          null,
          null,
          null,
          null,
          null,
          null,
          null,
          null,
          null,
          null,
          null,
          -8,
          -8.3,
          -6.8,
          63.3,
          -6,
          -0.3,
          9.3,
          30.6,
          5,
          14.7,
          -5.7,
          8,
          -5.9,
          7.2,
          9.1,
          4.1,
          2.7,
          3,
          1,
          2,
          2.5,
          2.3,
          2.2,
          2.2
         ]
        }
       ],
       "layout": {
        "height": 800,
        "legend": {
         "title": {
          "text": "Legend"
         },
         "x": 0,
         "y": 1
        },
        "margin": {
         "b": 0,
         "l": 0,
         "r": 0,
         "t": 50
        },
        "plot_bgcolor": "#F7FAFC",
        "showlegend": true,
        "template": {
         "data": {
          "bar": [
           {
            "error_x": {
             "color": "#2a3f5f"
            },
            "error_y": {
             "color": "#2a3f5f"
            },
            "marker": {
             "line": {
              "color": "#E5ECF6",
              "width": 0.5
             },
             "pattern": {
              "fillmode": "overlay",
              "size": 10,
              "solidity": 0.2
             }
            },
            "type": "bar"
           }
          ],
          "barpolar": [
           {
            "marker": {
             "line": {
              "color": "#E5ECF6",
              "width": 0.5
             },
             "pattern": {
              "fillmode": "overlay",
              "size": 10,
              "solidity": 0.2
             }
            },
            "type": "barpolar"
           }
          ],
          "carpet": [
           {
            "aaxis": {
             "endlinecolor": "#2a3f5f",
             "gridcolor": "white",
             "linecolor": "white",
             "minorgridcolor": "white",
             "startlinecolor": "#2a3f5f"
            },
            "baxis": {
             "endlinecolor": "#2a3f5f",
             "gridcolor": "white",
             "linecolor": "white",
             "minorgridcolor": "white",
             "startlinecolor": "#2a3f5f"
            },
            "type": "carpet"
           }
          ],
          "choropleth": [
           {
            "colorbar": {
             "outlinewidth": 0,
             "ticks": ""
            },
            "type": "choropleth"
           }
          ],
          "contour": [
           {
            "colorbar": {
             "outlinewidth": 0,
             "ticks": ""
            },
            "colorscale": [
             [
              0,
              "#0d0887"
             ],
             [
              0.1111111111111111,
              "#46039f"
             ],
             [
              0.2222222222222222,
              "#7201a8"
             ],
             [
              0.3333333333333333,
              "#9c179e"
             ],
             [
              0.4444444444444444,
              "#bd3786"
             ],
             [
              0.5555555555555556,
              "#d8576b"
             ],
             [
              0.6666666666666666,
              "#ed7953"
             ],
             [
              0.7777777777777778,
              "#fb9f3a"
             ],
             [
              0.8888888888888888,
              "#fdca26"
             ],
             [
              1,
              "#f0f921"
             ]
            ],
            "type": "contour"
           }
          ],
          "contourcarpet": [
           {
            "colorbar": {
             "outlinewidth": 0,
             "ticks": ""
            },
            "type": "contourcarpet"
           }
          ],
          "heatmap": [
           {
            "colorbar": {
             "outlinewidth": 0,
             "ticks": ""
            },
            "colorscale": [
             [
              0,
              "#0d0887"
             ],
             [
              0.1111111111111111,
              "#46039f"
             ],
             [
              0.2222222222222222,
              "#7201a8"
             ],
             [
              0.3333333333333333,
              "#9c179e"
             ],
             [
              0.4444444444444444,
              "#bd3786"
             ],
             [
              0.5555555555555556,
              "#d8576b"
             ],
             [
              0.6666666666666666,
              "#ed7953"
             ],
             [
              0.7777777777777778,
              "#fb9f3a"
             ],
             [
              0.8888888888888888,
              "#fdca26"
             ],
             [
              1,
              "#f0f921"
             ]
            ],
            "type": "heatmap"
           }
          ],
          "heatmapgl": [
           {
            "colorbar": {
             "outlinewidth": 0,
             "ticks": ""
            },
            "colorscale": [
             [
              0,
              "#0d0887"
             ],
             [
              0.1111111111111111,
              "#46039f"
             ],
             [
              0.2222222222222222,
              "#7201a8"
             ],
             [
              0.3333333333333333,
              "#9c179e"
             ],
             [
              0.4444444444444444,
              "#bd3786"
             ],
             [
              0.5555555555555556,
              "#d8576b"
             ],
             [
              0.6666666666666666,
              "#ed7953"
             ],
             [
              0.7777777777777778,
              "#fb9f3a"
             ],
             [
              0.8888888888888888,
              "#fdca26"
             ],
             [
              1,
              "#f0f921"
             ]
            ],
            "type": "heatmapgl"
           }
          ],
          "histogram": [
           {
            "marker": {
             "pattern": {
              "fillmode": "overlay",
              "size": 10,
              "solidity": 0.2
             }
            },
            "type": "histogram"
           }
          ],
          "histogram2d": [
           {
            "colorbar": {
             "outlinewidth": 0,
             "ticks": ""
            },
            "colorscale": [
             [
              0,
              "#0d0887"
             ],
             [
              0.1111111111111111,
              "#46039f"
             ],
             [
              0.2222222222222222,
              "#7201a8"
             ],
             [
              0.3333333333333333,
              "#9c179e"
             ],
             [
              0.4444444444444444,
              "#bd3786"
             ],
             [
              0.5555555555555556,
              "#d8576b"
             ],
             [
              0.6666666666666666,
              "#ed7953"
             ],
             [
              0.7777777777777778,
              "#fb9f3a"
             ],
             [
              0.8888888888888888,
              "#fdca26"
             ],
             [
              1,
              "#f0f921"
             ]
            ],
            "type": "histogram2d"
           }
          ],
          "histogram2dcontour": [
           {
            "colorbar": {
             "outlinewidth": 0,
             "ticks": ""
            },
            "colorscale": [
             [
              0,
              "#0d0887"
             ],
             [
              0.1111111111111111,
              "#46039f"
             ],
             [
              0.2222222222222222,
              "#7201a8"
             ],
             [
              0.3333333333333333,
              "#9c179e"
             ],
             [
              0.4444444444444444,
              "#bd3786"
             ],
             [
              0.5555555555555556,
              "#d8576b"
             ],
             [
              0.6666666666666666,
              "#ed7953"
             ],
             [
              0.7777777777777778,
              "#fb9f3a"
             ],
             [
              0.8888888888888888,
              "#fdca26"
             ],
             [
              1,
              "#f0f921"
             ]
            ],
            "type": "histogram2dcontour"
           }
          ],
          "mesh3d": [
           {
            "colorbar": {
             "outlinewidth": 0,
             "ticks": ""
            },
            "type": "mesh3d"
           }
          ],
          "parcoords": [
           {
            "line": {
             "colorbar": {
              "outlinewidth": 0,
              "ticks": ""
             }
            },
            "type": "parcoords"
           }
          ],
          "pie": [
           {
            "automargin": true,
            "type": "pie"
           }
          ],
          "scatter": [
           {
            "fillpattern": {
             "fillmode": "overlay",
             "size": 10,
             "solidity": 0.2
            },
            "type": "scatter"
           }
          ],
          "scatter3d": [
           {
            "line": {
             "colorbar": {
              "outlinewidth": 0,
              "ticks": ""
             }
            },
            "marker": {
             "colorbar": {
              "outlinewidth": 0,
              "ticks": ""
             }
            },
            "type": "scatter3d"
           }
          ],
          "scattercarpet": [
           {
            "marker": {
             "colorbar": {
              "outlinewidth": 0,
              "ticks": ""
             }
            },
            "type": "scattercarpet"
           }
          ],
          "scattergeo": [
           {
            "marker": {
             "colorbar": {
              "outlinewidth": 0,
              "ticks": ""
             }
            },
            "type": "scattergeo"
           }
          ],
          "scattergl": [
           {
            "marker": {
             "colorbar": {
              "outlinewidth": 0,
              "ticks": ""
             }
            },
            "type": "scattergl"
           }
          ],
          "scattermapbox": [
           {
            "marker": {
             "colorbar": {
              "outlinewidth": 0,
              "ticks": ""
             }
            },
            "type": "scattermapbox"
           }
          ],
          "scatterpolar": [
           {
            "marker": {
             "colorbar": {
              "outlinewidth": 0,
              "ticks": ""
             }
            },
            "type": "scatterpolar"
           }
          ],
          "scatterpolargl": [
           {
            "marker": {
             "colorbar": {
              "outlinewidth": 0,
              "ticks": ""
             }
            },
            "type": "scatterpolargl"
           }
          ],
          "scatterternary": [
           {
            "marker": {
             "colorbar": {
              "outlinewidth": 0,
              "ticks": ""
             }
            },
            "type": "scatterternary"
           }
          ],
          "surface": [
           {
            "colorbar": {
             "outlinewidth": 0,
             "ticks": ""
            },
            "colorscale": [
             [
              0,
              "#0d0887"
             ],
             [
              0.1111111111111111,
              "#46039f"
             ],
             [
              0.2222222222222222,
              "#7201a8"
             ],
             [
              0.3333333333333333,
              "#9c179e"
             ],
             [
              0.4444444444444444,
              "#bd3786"
             ],
             [
              0.5555555555555556,
              "#d8576b"
             ],
             [
              0.6666666666666666,
              "#ed7953"
             ],
             [
              0.7777777777777778,
              "#fb9f3a"
             ],
             [
              0.8888888888888888,
              "#fdca26"
             ],
             [
              1,
              "#f0f921"
             ]
            ],
            "type": "surface"
           }
          ],
          "table": [
           {
            "cells": {
             "fill": {
              "color": "#EBF0F8"
             },
             "line": {
              "color": "white"
             }
            },
            "header": {
             "fill": {
              "color": "#C8D4E3"
             },
             "line": {
              "color": "white"
             }
            },
            "type": "table"
           }
          ]
         },
         "layout": {
          "annotationdefaults": {
           "arrowcolor": "#2a3f5f",
           "arrowhead": 0,
           "arrowwidth": 1
          },
          "autotypenumbers": "strict",
          "coloraxis": {
           "colorbar": {
            "outlinewidth": 0,
            "ticks": ""
           }
          },
          "colorscale": {
           "diverging": [
            [
             0,
             "#8e0152"
            ],
            [
             0.1,
             "#c51b7d"
            ],
            [
             0.2,
             "#de77ae"
            ],
            [
             0.3,
             "#f1b6da"
            ],
            [
             0.4,
             "#fde0ef"
            ],
            [
             0.5,
             "#f7f7f7"
            ],
            [
             0.6,
             "#e6f5d0"
            ],
            [
             0.7,
             "#b8e186"
            ],
            [
             0.8,
             "#7fbc41"
            ],
            [
             0.9,
             "#4d9221"
            ],
            [
             1,
             "#276419"
            ]
           ],
           "sequential": [
            [
             0,
             "#0d0887"
            ],
            [
             0.1111111111111111,
             "#46039f"
            ],
            [
             0.2222222222222222,
             "#7201a8"
            ],
            [
             0.3333333333333333,
             "#9c179e"
            ],
            [
             0.4444444444444444,
             "#bd3786"
            ],
            [
             0.5555555555555556,
             "#d8576b"
            ],
            [
             0.6666666666666666,
             "#ed7953"
            ],
            [
             0.7777777777777778,
             "#fb9f3a"
            ],
            [
             0.8888888888888888,
             "#fdca26"
            ],
            [
             1,
             "#f0f921"
            ]
           ],
           "sequentialminus": [
            [
             0,
             "#0d0887"
            ],
            [
             0.1111111111111111,
             "#46039f"
            ],
            [
             0.2222222222222222,
             "#7201a8"
            ],
            [
             0.3333333333333333,
             "#9c179e"
            ],
            [
             0.4444444444444444,
             "#bd3786"
            ],
            [
             0.5555555555555556,
             "#d8576b"
            ],
            [
             0.6666666666666666,
             "#ed7953"
            ],
            [
             0.7777777777777778,
             "#fb9f3a"
            ],
            [
             0.8888888888888888,
             "#fdca26"
            ],
            [
             1,
             "#f0f921"
            ]
           ]
          },
          "colorway": [
           "#636efa",
           "#EF553B",
           "#00cc96",
           "#ab63fa",
           "#FFA15A",
           "#19d3f3",
           "#FF6692",
           "#B6E880",
           "#FF97FF",
           "#FECB52"
          ],
          "font": {
           "color": "#2a3f5f"
          },
          "geo": {
           "bgcolor": "white",
           "lakecolor": "white",
           "landcolor": "#E5ECF6",
           "showlakes": true,
           "showland": true,
           "subunitcolor": "white"
          },
          "hoverlabel": {
           "align": "left"
          },
          "hovermode": "closest",
          "mapbox": {
           "style": "light"
          },
          "paper_bgcolor": "white",
          "plot_bgcolor": "#E5ECF6",
          "polar": {
           "angularaxis": {
            "gridcolor": "white",
            "linecolor": "white",
            "ticks": ""
           },
           "bgcolor": "#E5ECF6",
           "radialaxis": {
            "gridcolor": "white",
            "linecolor": "white",
            "ticks": ""
           }
          },
          "scene": {
           "xaxis": {
            "backgroundcolor": "#E5ECF6",
            "gridcolor": "white",
            "gridwidth": 2,
            "linecolor": "white",
            "showbackground": true,
            "ticks": "",
            "zerolinecolor": "white"
           },
           "yaxis": {
            "backgroundcolor": "#E5ECF6",
            "gridcolor": "white",
            "gridwidth": 2,
            "linecolor": "white",
            "showbackground": true,
            "ticks": "",
            "zerolinecolor": "white"
           },
           "zaxis": {
            "backgroundcolor": "#E5ECF6",
            "gridcolor": "white",
            "gridwidth": 2,
            "linecolor": "white",
            "showbackground": true,
            "ticks": "",
            "zerolinecolor": "white"
           }
          },
          "shapedefaults": {
           "line": {
            "color": "#2a3f5f"
           }
          },
          "ternary": {
           "aaxis": {
            "gridcolor": "white",
            "linecolor": "white",
            "ticks": ""
           },
           "baxis": {
            "gridcolor": "white",
            "linecolor": "white",
            "ticks": ""
           },
           "bgcolor": "#E5ECF6",
           "caxis": {
            "gridcolor": "white",
            "linecolor": "white",
            "ticks": ""
           }
          },
          "title": {
           "x": 0.05
          },
          "xaxis": {
           "automargin": true,
           "gridcolor": "white",
           "linecolor": "white",
           "ticks": "",
           "title": {
            "standoff": 15
           },
           "zerolinecolor": "white",
           "zerolinewidth": 2
          },
          "yaxis": {
           "automargin": true,
           "gridcolor": "white",
           "linecolor": "white",
           "ticks": "",
           "title": {
            "standoff": 15
           },
           "zerolinecolor": "white",
           "zerolinewidth": 2
          }
         }
        },
        "title": {
         "font": {
          "size": 30
         },
         "text": "GDP"
        },
        "width": 1200,
        "xaxis": {
         "dtick": "2",
         "tickangle": 30,
         "title": {
          "text": "Year"
         }
        },
        "yaxis": {
         "tickformat": ",.0f",
         "title": {
          "text": "Real GDP growth (Annual percent change)"
         }
        }
       }
      }
     },
     "metadata": {},
     "output_type": "display_data"
    }
   ],
   "source": [
    "# list_selection = countrys_05_to_06\n",
    "# countrys_05_to_06 = countrys_05_to_06.insert(0, 'year')\n",
    "# graficos(df_null[countrys_05_to_06],list_selection,columna_y='Real GDP growth (Annual percent change)')\n",
    "plot_gdp(df_null,countrys_05_to_06)"
   ]
  },
  {
   "cell_type": "code",
   "execution_count": 60,
   "metadata": {},
   "outputs": [
    {
     "data": {
      "application/vnd.plotly.v1+json": {
       "config": {
        "plotlyServerURL": "https://plot.ly"
       },
       "data": [
        {
         "marker": {
          "color": "navy"
         },
         "mode": "lines+markers",
         "name": "Somalia",
         "type": "scatter",
         "x": [
          1980,
          1981,
          1982,
          1983,
          1984,
          1985,
          1986,
          1987,
          1988,
          1989,
          1990,
          1991,
          1992,
          1993,
          1994,
          1995,
          1996,
          1997,
          1998,
          1999,
          2000,
          2001,
          2002,
          2003,
          2004,
          2005,
          2006,
          2007,
          2008,
          2009,
          2010,
          2011,
          2012,
          2013,
          2014,
          2015,
          2016,
          2017,
          2018,
          2019,
          2020,
          2021,
          2022,
          2023,
          2024,
          2025,
          2026,
          2027,
          2028
         ],
         "y": [
          null,
          null,
          null,
          null,
          null,
          null,
          null,
          null,
          null,
          null,
          null,
          null,
          null,
          null,
          null,
          null,
          null,
          null,
          null,
          null,
          null,
          null,
          null,
          null,
          null,
          null,
          null,
          null,
          null,
          null,
          null,
          null,
          1.2,
          5.7,
          2.7,
          4.6,
          4.7,
          2.2,
          3.7,
          2.7,
          -0.3,
          2.9,
          1.7,
          2.8,
          3.7,
          3.9,
          4,
          4.1,
          4.3
         ]
        },
        {
         "marker": {
          "color": "orange"
         },
         "mode": "lines+markers",
         "name": "South Sudan, Republic of",
         "type": "scatter",
         "x": [
          1980,
          1981,
          1982,
          1983,
          1984,
          1985,
          1986,
          1987,
          1988,
          1989,
          1990,
          1991,
          1992,
          1993,
          1994,
          1995,
          1996,
          1997,
          1998,
          1999,
          2000,
          2001,
          2002,
          2003,
          2004,
          2005,
          2006,
          2007,
          2008,
          2009,
          2010,
          2011,
          2012,
          2013,
          2014,
          2015,
          2016,
          2017,
          2018,
          2019,
          2020,
          2021,
          2022,
          2023,
          2024,
          2025,
          2026,
          2027,
          2028
         ],
         "y": [
          null,
          null,
          null,
          null,
          null,
          null,
          null,
          null,
          null,
          null,
          null,
          null,
          null,
          null,
          null,
          null,
          null,
          null,
          null,
          null,
          null,
          null,
          null,
          null,
          null,
          null,
          null,
          null,
          null,
          null,
          null,
          null,
          -50.3,
          27.3,
          1.6,
          -0.2,
          -13.3,
          -5.8,
          -2.1,
          0.9,
          -6.5,
          5.3,
          6.6,
          5.6,
          4.6,
          4.6,
          4.4,
          4.4,
          4.4
         ]
        },
        {
         "marker": {
          "color": "tomato"
         },
         "mode": "lines+markers",
         "name": "Afghanistan",
         "type": "scatter",
         "x": [
          1980,
          1981,
          1982,
          1983,
          1984,
          1985,
          1986,
          1987,
          1988,
          1989,
          1990,
          1991,
          1992,
          1993,
          1994,
          1995,
          1996,
          1997,
          1998,
          1999,
          2000,
          2001,
          2002,
          2003,
          2004,
          2005,
          2006,
          2007,
          2008,
          2009,
          2010,
          2011,
          2012,
          2013,
          2014,
          2015,
          2016,
          2017,
          2018,
          2019,
          2020,
          2021,
          2022,
          2023,
          2024,
          2025,
          2026,
          2027,
          2028
         ],
         "y": [
          null,
          null,
          null,
          null,
          null,
          null,
          null,
          null,
          null,
          null,
          null,
          null,
          null,
          null,
          null,
          null,
          null,
          null,
          null,
          null,
          null,
          null,
          null,
          8.7,
          0.7,
          11.8,
          5.4,
          13.3,
          3.9,
          20.6,
          8.4,
          6.5,
          14,
          5.7,
          2.7,
          1,
          2.2,
          2.6,
          1.2,
          3.9,
          -2.4,
          null,
          null,
          null,
          null,
          null,
          null,
          null,
          null
         ]
        }
       ],
       "layout": {
        "height": 800,
        "legend": {
         "title": {
          "text": "Legend"
         },
         "x": 0,
         "y": 1
        },
        "margin": {
         "b": 0,
         "l": 0,
         "r": 0,
         "t": 50
        },
        "plot_bgcolor": "#F7FAFC",
        "showlegend": true,
        "template": {
         "data": {
          "bar": [
           {
            "error_x": {
             "color": "#2a3f5f"
            },
            "error_y": {
             "color": "#2a3f5f"
            },
            "marker": {
             "line": {
              "color": "#E5ECF6",
              "width": 0.5
             },
             "pattern": {
              "fillmode": "overlay",
              "size": 10,
              "solidity": 0.2
             }
            },
            "type": "bar"
           }
          ],
          "barpolar": [
           {
            "marker": {
             "line": {
              "color": "#E5ECF6",
              "width": 0.5
             },
             "pattern": {
              "fillmode": "overlay",
              "size": 10,
              "solidity": 0.2
             }
            },
            "type": "barpolar"
           }
          ],
          "carpet": [
           {
            "aaxis": {
             "endlinecolor": "#2a3f5f",
             "gridcolor": "white",
             "linecolor": "white",
             "minorgridcolor": "white",
             "startlinecolor": "#2a3f5f"
            },
            "baxis": {
             "endlinecolor": "#2a3f5f",
             "gridcolor": "white",
             "linecolor": "white",
             "minorgridcolor": "white",
             "startlinecolor": "#2a3f5f"
            },
            "type": "carpet"
           }
          ],
          "choropleth": [
           {
            "colorbar": {
             "outlinewidth": 0,
             "ticks": ""
            },
            "type": "choropleth"
           }
          ],
          "contour": [
           {
            "colorbar": {
             "outlinewidth": 0,
             "ticks": ""
            },
            "colorscale": [
             [
              0,
              "#0d0887"
             ],
             [
              0.1111111111111111,
              "#46039f"
             ],
             [
              0.2222222222222222,
              "#7201a8"
             ],
             [
              0.3333333333333333,
              "#9c179e"
             ],
             [
              0.4444444444444444,
              "#bd3786"
             ],
             [
              0.5555555555555556,
              "#d8576b"
             ],
             [
              0.6666666666666666,
              "#ed7953"
             ],
             [
              0.7777777777777778,
              "#fb9f3a"
             ],
             [
              0.8888888888888888,
              "#fdca26"
             ],
             [
              1,
              "#f0f921"
             ]
            ],
            "type": "contour"
           }
          ],
          "contourcarpet": [
           {
            "colorbar": {
             "outlinewidth": 0,
             "ticks": ""
            },
            "type": "contourcarpet"
           }
          ],
          "heatmap": [
           {
            "colorbar": {
             "outlinewidth": 0,
             "ticks": ""
            },
            "colorscale": [
             [
              0,
              "#0d0887"
             ],
             [
              0.1111111111111111,
              "#46039f"
             ],
             [
              0.2222222222222222,
              "#7201a8"
             ],
             [
              0.3333333333333333,
              "#9c179e"
             ],
             [
              0.4444444444444444,
              "#bd3786"
             ],
             [
              0.5555555555555556,
              "#d8576b"
             ],
             [
              0.6666666666666666,
              "#ed7953"
             ],
             [
              0.7777777777777778,
              "#fb9f3a"
             ],
             [
              0.8888888888888888,
              "#fdca26"
             ],
             [
              1,
              "#f0f921"
             ]
            ],
            "type": "heatmap"
           }
          ],
          "heatmapgl": [
           {
            "colorbar": {
             "outlinewidth": 0,
             "ticks": ""
            },
            "colorscale": [
             [
              0,
              "#0d0887"
             ],
             [
              0.1111111111111111,
              "#46039f"
             ],
             [
              0.2222222222222222,
              "#7201a8"
             ],
             [
              0.3333333333333333,
              "#9c179e"
             ],
             [
              0.4444444444444444,
              "#bd3786"
             ],
             [
              0.5555555555555556,
              "#d8576b"
             ],
             [
              0.6666666666666666,
              "#ed7953"
             ],
             [
              0.7777777777777778,
              "#fb9f3a"
             ],
             [
              0.8888888888888888,
              "#fdca26"
             ],
             [
              1,
              "#f0f921"
             ]
            ],
            "type": "heatmapgl"
           }
          ],
          "histogram": [
           {
            "marker": {
             "pattern": {
              "fillmode": "overlay",
              "size": 10,
              "solidity": 0.2
             }
            },
            "type": "histogram"
           }
          ],
          "histogram2d": [
           {
            "colorbar": {
             "outlinewidth": 0,
             "ticks": ""
            },
            "colorscale": [
             [
              0,
              "#0d0887"
             ],
             [
              0.1111111111111111,
              "#46039f"
             ],
             [
              0.2222222222222222,
              "#7201a8"
             ],
             [
              0.3333333333333333,
              "#9c179e"
             ],
             [
              0.4444444444444444,
              "#bd3786"
             ],
             [
              0.5555555555555556,
              "#d8576b"
             ],
             [
              0.6666666666666666,
              "#ed7953"
             ],
             [
              0.7777777777777778,
              "#fb9f3a"
             ],
             [
              0.8888888888888888,
              "#fdca26"
             ],
             [
              1,
              "#f0f921"
             ]
            ],
            "type": "histogram2d"
           }
          ],
          "histogram2dcontour": [
           {
            "colorbar": {
             "outlinewidth": 0,
             "ticks": ""
            },
            "colorscale": [
             [
              0,
              "#0d0887"
             ],
             [
              0.1111111111111111,
              "#46039f"
             ],
             [
              0.2222222222222222,
              "#7201a8"
             ],
             [
              0.3333333333333333,
              "#9c179e"
             ],
             [
              0.4444444444444444,
              "#bd3786"
             ],
             [
              0.5555555555555556,
              "#d8576b"
             ],
             [
              0.6666666666666666,
              "#ed7953"
             ],
             [
              0.7777777777777778,
              "#fb9f3a"
             ],
             [
              0.8888888888888888,
              "#fdca26"
             ],
             [
              1,
              "#f0f921"
             ]
            ],
            "type": "histogram2dcontour"
           }
          ],
          "mesh3d": [
           {
            "colorbar": {
             "outlinewidth": 0,
             "ticks": ""
            },
            "type": "mesh3d"
           }
          ],
          "parcoords": [
           {
            "line": {
             "colorbar": {
              "outlinewidth": 0,
              "ticks": ""
             }
            },
            "type": "parcoords"
           }
          ],
          "pie": [
           {
            "automargin": true,
            "type": "pie"
           }
          ],
          "scatter": [
           {
            "fillpattern": {
             "fillmode": "overlay",
             "size": 10,
             "solidity": 0.2
            },
            "type": "scatter"
           }
          ],
          "scatter3d": [
           {
            "line": {
             "colorbar": {
              "outlinewidth": 0,
              "ticks": ""
             }
            },
            "marker": {
             "colorbar": {
              "outlinewidth": 0,
              "ticks": ""
             }
            },
            "type": "scatter3d"
           }
          ],
          "scattercarpet": [
           {
            "marker": {
             "colorbar": {
              "outlinewidth": 0,
              "ticks": ""
             }
            },
            "type": "scattercarpet"
           }
          ],
          "scattergeo": [
           {
            "marker": {
             "colorbar": {
              "outlinewidth": 0,
              "ticks": ""
             }
            },
            "type": "scattergeo"
           }
          ],
          "scattergl": [
           {
            "marker": {
             "colorbar": {
              "outlinewidth": 0,
              "ticks": ""
             }
            },
            "type": "scattergl"
           }
          ],
          "scattermapbox": [
           {
            "marker": {
             "colorbar": {
              "outlinewidth": 0,
              "ticks": ""
             }
            },
            "type": "scattermapbox"
           }
          ],
          "scatterpolar": [
           {
            "marker": {
             "colorbar": {
              "outlinewidth": 0,
              "ticks": ""
             }
            },
            "type": "scatterpolar"
           }
          ],
          "scatterpolargl": [
           {
            "marker": {
             "colorbar": {
              "outlinewidth": 0,
              "ticks": ""
             }
            },
            "type": "scatterpolargl"
           }
          ],
          "scatterternary": [
           {
            "marker": {
             "colorbar": {
              "outlinewidth": 0,
              "ticks": ""
             }
            },
            "type": "scatterternary"
           }
          ],
          "surface": [
           {
            "colorbar": {
             "outlinewidth": 0,
             "ticks": ""
            },
            "colorscale": [
             [
              0,
              "#0d0887"
             ],
             [
              0.1111111111111111,
              "#46039f"
             ],
             [
              0.2222222222222222,
              "#7201a8"
             ],
             [
              0.3333333333333333,
              "#9c179e"
             ],
             [
              0.4444444444444444,
              "#bd3786"
             ],
             [
              0.5555555555555556,
              "#d8576b"
             ],
             [
              0.6666666666666666,
              "#ed7953"
             ],
             [
              0.7777777777777778,
              "#fb9f3a"
             ],
             [
              0.8888888888888888,
              "#fdca26"
             ],
             [
              1,
              "#f0f921"
             ]
            ],
            "type": "surface"
           }
          ],
          "table": [
           {
            "cells": {
             "fill": {
              "color": "#EBF0F8"
             },
             "line": {
              "color": "white"
             }
            },
            "header": {
             "fill": {
              "color": "#C8D4E3"
             },
             "line": {
              "color": "white"
             }
            },
            "type": "table"
           }
          ]
         },
         "layout": {
          "annotationdefaults": {
           "arrowcolor": "#2a3f5f",
           "arrowhead": 0,
           "arrowwidth": 1
          },
          "autotypenumbers": "strict",
          "coloraxis": {
           "colorbar": {
            "outlinewidth": 0,
            "ticks": ""
           }
          },
          "colorscale": {
           "diverging": [
            [
             0,
             "#8e0152"
            ],
            [
             0.1,
             "#c51b7d"
            ],
            [
             0.2,
             "#de77ae"
            ],
            [
             0.3,
             "#f1b6da"
            ],
            [
             0.4,
             "#fde0ef"
            ],
            [
             0.5,
             "#f7f7f7"
            ],
            [
             0.6,
             "#e6f5d0"
            ],
            [
             0.7,
             "#b8e186"
            ],
            [
             0.8,
             "#7fbc41"
            ],
            [
             0.9,
             "#4d9221"
            ],
            [
             1,
             "#276419"
            ]
           ],
           "sequential": [
            [
             0,
             "#0d0887"
            ],
            [
             0.1111111111111111,
             "#46039f"
            ],
            [
             0.2222222222222222,
             "#7201a8"
            ],
            [
             0.3333333333333333,
             "#9c179e"
            ],
            [
             0.4444444444444444,
             "#bd3786"
            ],
            [
             0.5555555555555556,
             "#d8576b"
            ],
            [
             0.6666666666666666,
             "#ed7953"
            ],
            [
             0.7777777777777778,
             "#fb9f3a"
            ],
            [
             0.8888888888888888,
             "#fdca26"
            ],
            [
             1,
             "#f0f921"
            ]
           ],
           "sequentialminus": [
            [
             0,
             "#0d0887"
            ],
            [
             0.1111111111111111,
             "#46039f"
            ],
            [
             0.2222222222222222,
             "#7201a8"
            ],
            [
             0.3333333333333333,
             "#9c179e"
            ],
            [
             0.4444444444444444,
             "#bd3786"
            ],
            [
             0.5555555555555556,
             "#d8576b"
            ],
            [
             0.6666666666666666,
             "#ed7953"
            ],
            [
             0.7777777777777778,
             "#fb9f3a"
            ],
            [
             0.8888888888888888,
             "#fdca26"
            ],
            [
             1,
             "#f0f921"
            ]
           ]
          },
          "colorway": [
           "#636efa",
           "#EF553B",
           "#00cc96",
           "#ab63fa",
           "#FFA15A",
           "#19d3f3",
           "#FF6692",
           "#B6E880",
           "#FF97FF",
           "#FECB52"
          ],
          "font": {
           "color": "#2a3f5f"
          },
          "geo": {
           "bgcolor": "white",
           "lakecolor": "white",
           "landcolor": "#E5ECF6",
           "showlakes": true,
           "showland": true,
           "subunitcolor": "white"
          },
          "hoverlabel": {
           "align": "left"
          },
          "hovermode": "closest",
          "mapbox": {
           "style": "light"
          },
          "paper_bgcolor": "white",
          "plot_bgcolor": "#E5ECF6",
          "polar": {
           "angularaxis": {
            "gridcolor": "white",
            "linecolor": "white",
            "ticks": ""
           },
           "bgcolor": "#E5ECF6",
           "radialaxis": {
            "gridcolor": "white",
            "linecolor": "white",
            "ticks": ""
           }
          },
          "scene": {
           "xaxis": {
            "backgroundcolor": "#E5ECF6",
            "gridcolor": "white",
            "gridwidth": 2,
            "linecolor": "white",
            "showbackground": true,
            "ticks": "",
            "zerolinecolor": "white"
           },
           "yaxis": {
            "backgroundcolor": "#E5ECF6",
            "gridcolor": "white",
            "gridwidth": 2,
            "linecolor": "white",
            "showbackground": true,
            "ticks": "",
            "zerolinecolor": "white"
           },
           "zaxis": {
            "backgroundcolor": "#E5ECF6",
            "gridcolor": "white",
            "gridwidth": 2,
            "linecolor": "white",
            "showbackground": true,
            "ticks": "",
            "zerolinecolor": "white"
           }
          },
          "shapedefaults": {
           "line": {
            "color": "#2a3f5f"
           }
          },
          "ternary": {
           "aaxis": {
            "gridcolor": "white",
            "linecolor": "white",
            "ticks": ""
           },
           "baxis": {
            "gridcolor": "white",
            "linecolor": "white",
            "ticks": ""
           },
           "bgcolor": "#E5ECF6",
           "caxis": {
            "gridcolor": "white",
            "linecolor": "white",
            "ticks": ""
           }
          },
          "title": {
           "x": 0.05
          },
          "xaxis": {
           "automargin": true,
           "gridcolor": "white",
           "linecolor": "white",
           "ticks": "",
           "title": {
            "standoff": 15
           },
           "zerolinecolor": "white",
           "zerolinewidth": 2
          },
          "yaxis": {
           "automargin": true,
           "gridcolor": "white",
           "linecolor": "white",
           "ticks": "",
           "title": {
            "standoff": 15
           },
           "zerolinecolor": "white",
           "zerolinewidth": 2
          }
         }
        },
        "title": {
         "font": {
          "size": 30
         },
         "text": "GDP"
        },
        "width": 1200,
        "xaxis": {
         "dtick": "2",
         "tickangle": 30,
         "title": {
          "text": "Year"
         }
        },
        "yaxis": {
         "tickformat": ",.0f",
         "title": {
          "text": "Real GDP growth (Annual percent change)"
         }
        }
       }
      }
     },
     "metadata": {},
     "output_type": "display_data"
    }
   ],
   "source": [
    "# list_selection = countrys_06_to_1\n",
    "# countrys_06_to_1 = countrys_06_to_1.insert(0, 'year')\n",
    "# graficos(df_null[countrys_06_to_1],list_selection,columna_y='Real GDP growth (Annual percent change)')\n",
    "plot_gdp(df_null,countrys_06_to_1)"
   ]
  },
  {
   "cell_type": "code",
   "execution_count": 61,
   "metadata": {},
   "outputs": [
    {
     "data": {
      "text/plain": [
       "Index(['Afghanistan', 'Africa (Region)', 'Andorra', 'Armenia', 'Aruba',\n",
       "       'Azerbaijan', 'Bangladesh', 'Belarus', 'Bosnia and Herzegovina',\n",
       "       'Brunei Darussalam', 'Cambodia', 'Central Asia and the Caucasus',\n",
       "       'Croatia', 'Czech Republic', 'Djibouti', 'Eritrea', 'Estonia',\n",
       "       'Euro area', 'Georgia', 'Guinea-Bissau', 'Iraq', 'Kazakhstan', 'Kosovo',\n",
       "       'Kyrgyz Republic', 'Latvia', 'Lebanon', 'Liberia', 'Lithuania',\n",
       "       'Macao SAR', 'Marshall Islands', 'Mauritania',\n",
       "       'Micronesia, Fed. States of', 'Moldova', 'Montenegro', 'Myanmar',\n",
       "       'Namibia', 'Nauru', 'Netherlands', 'Nigeria', 'North Macedonia ',\n",
       "       'Palau', 'Puerto Rico', 'Russian Federation', 'San Marino', 'Serbia',\n",
       "       'Slovak Republic', 'Slovenia', 'Somalia', 'South Sudan, Republic of',\n",
       "       'Sub-Saharan Africa', 'Sub-Saharan Africa (Region) ', 'Syria',\n",
       "       'Tajikistan', 'Timor-Leste', 'Turkmenistan', 'Tuvalu', 'Ukraine',\n",
       "       'Uzbekistan', 'Venezuela', 'West Bank and Gaza', 'Yemen', 'Zimbabwe',\n",
       "       'year'],\n",
       "      dtype='object')"
      ]
     },
     "execution_count": 61,
     "metadata": {},
     "output_type": "execute_result"
    }
   ],
   "source": [
    "col = df_null.columns\n",
    "col.sort_values()"
   ]
  },
  {
   "cell_type": "markdown",
   "metadata": {},
   "source": [
    "# 2.0 Groups"
   ]
  },
  {
   "cell_type": "code",
   "execution_count": 62,
   "metadata": {},
   "outputs": [],
   "source": [
    "df_12 = df_12.rename(columns={\n",
    "\t        'Bahamas, The':'The Bahamas',\n",
    "            \"China, People's Republic of\":'China',\n",
    "            \"Congo, Dem. Rep. of the\":\"Dem. Rep. of the Congo\",\n",
    "            \"Congo, Republic of \":\"Republic of Congo\",\n",
    "            \"Gambia, The\":\"The Gambia\",\n",
    "            \"Korea, Republic of\":\"Republic of Korea\",\n",
    "            \"Micronesia, Fed. States of\":\"Fed. States of Micronesia\",\n",
    "            \"South Sudan, Republic of\":\"Republic of South Sudan\",\n",
    "            \"Türkiye, Republic of\":\"Republic of Turkiye\",\n",
    "            \"North Macedonia \":\"North Macedonia\"\n",
    "            }\n",
    ")"
   ]
  },
  {
   "cell_type": "code",
   "execution_count": 63,
   "metadata": {},
   "outputs": [],
   "source": [
    "major_advanced_economies_G7 = ['Canada','France','Germany','Italy','Japan','United Kingdom','United States','Major advanced economies (G7)']"
   ]
  },
  {
   "cell_type": "code",
   "execution_count": 77,
   "metadata": {},
   "outputs": [
    {
     "data": {
      "text/html": [
       "<div>\n",
       "<style scoped>\n",
       "    .dataframe tbody tr th:only-of-type {\n",
       "        vertical-align: middle;\n",
       "    }\n",
       "\n",
       "    .dataframe tbody tr th {\n",
       "        vertical-align: top;\n",
       "    }\n",
       "\n",
       "    .dataframe thead th {\n",
       "        text-align: right;\n",
       "    }\n",
       "</style>\n",
       "<table border=\"1\" class=\"dataframe\">\n",
       "  <thead>\n",
       "    <tr style=\"text-align: right;\">\n",
       "      <th></th>\n",
       "      <th>Hong Kong SAR</th>\n",
       "    </tr>\n",
       "  </thead>\n",
       "  <tbody>\n",
       "    <tr>\n",
       "      <th>0</th>\n",
       "      <td>10.3</td>\n",
       "    </tr>\n",
       "    <tr>\n",
       "      <th>1</th>\n",
       "      <td>9.2</td>\n",
       "    </tr>\n",
       "    <tr>\n",
       "      <th>2</th>\n",
       "      <td>2.9</td>\n",
       "    </tr>\n",
       "    <tr>\n",
       "      <th>3</th>\n",
       "      <td>6.0</td>\n",
       "    </tr>\n",
       "    <tr>\n",
       "      <th>4</th>\n",
       "      <td>10.0</td>\n",
       "    </tr>\n",
       "    <tr>\n",
       "      <th>5</th>\n",
       "      <td>0.7</td>\n",
       "    </tr>\n",
       "    <tr>\n",
       "      <th>6</th>\n",
       "      <td>11.1</td>\n",
       "    </tr>\n",
       "    <tr>\n",
       "      <th>7</th>\n",
       "      <td>13.4</td>\n",
       "    </tr>\n",
       "    <tr>\n",
       "      <th>8</th>\n",
       "      <td>8.5</td>\n",
       "    </tr>\n",
       "    <tr>\n",
       "      <th>9</th>\n",
       "      <td>2.3</td>\n",
       "    </tr>\n",
       "    <tr>\n",
       "      <th>10</th>\n",
       "      <td>3.8</td>\n",
       "    </tr>\n",
       "    <tr>\n",
       "      <th>11</th>\n",
       "      <td>5.7</td>\n",
       "    </tr>\n",
       "    <tr>\n",
       "      <th>12</th>\n",
       "      <td>6.2</td>\n",
       "    </tr>\n",
       "    <tr>\n",
       "      <th>13</th>\n",
       "      <td>6.2</td>\n",
       "    </tr>\n",
       "    <tr>\n",
       "      <th>14</th>\n",
       "      <td>6.0</td>\n",
       "    </tr>\n",
       "    <tr>\n",
       "      <th>15</th>\n",
       "      <td>2.4</td>\n",
       "    </tr>\n",
       "    <tr>\n",
       "      <th>16</th>\n",
       "      <td>4.3</td>\n",
       "    </tr>\n",
       "    <tr>\n",
       "      <th>17</th>\n",
       "      <td>5.1</td>\n",
       "    </tr>\n",
       "    <tr>\n",
       "      <th>18</th>\n",
       "      <td>-5.9</td>\n",
       "    </tr>\n",
       "    <tr>\n",
       "      <th>19</th>\n",
       "      <td>2.5</td>\n",
       "    </tr>\n",
       "    <tr>\n",
       "      <th>20</th>\n",
       "      <td>7.7</td>\n",
       "    </tr>\n",
       "    <tr>\n",
       "      <th>21</th>\n",
       "      <td>0.6</td>\n",
       "    </tr>\n",
       "    <tr>\n",
       "      <th>22</th>\n",
       "      <td>1.7</td>\n",
       "    </tr>\n",
       "    <tr>\n",
       "      <th>23</th>\n",
       "      <td>3.1</td>\n",
       "    </tr>\n",
       "    <tr>\n",
       "      <th>24</th>\n",
       "      <td>8.7</td>\n",
       "    </tr>\n",
       "    <tr>\n",
       "      <th>25</th>\n",
       "      <td>7.4</td>\n",
       "    </tr>\n",
       "    <tr>\n",
       "      <th>26</th>\n",
       "      <td>7.0</td>\n",
       "    </tr>\n",
       "    <tr>\n",
       "      <th>27</th>\n",
       "      <td>6.5</td>\n",
       "    </tr>\n",
       "    <tr>\n",
       "      <th>28</th>\n",
       "      <td>2.1</td>\n",
       "    </tr>\n",
       "    <tr>\n",
       "      <th>29</th>\n",
       "      <td>-2.5</td>\n",
       "    </tr>\n",
       "    <tr>\n",
       "      <th>30</th>\n",
       "      <td>6.8</td>\n",
       "    </tr>\n",
       "    <tr>\n",
       "      <th>31</th>\n",
       "      <td>4.8</td>\n",
       "    </tr>\n",
       "    <tr>\n",
       "      <th>32</th>\n",
       "      <td>1.7</td>\n",
       "    </tr>\n",
       "    <tr>\n",
       "      <th>33</th>\n",
       "      <td>3.1</td>\n",
       "    </tr>\n",
       "    <tr>\n",
       "      <th>34</th>\n",
       "      <td>2.8</td>\n",
       "    </tr>\n",
       "    <tr>\n",
       "      <th>35</th>\n",
       "      <td>2.4</td>\n",
       "    </tr>\n",
       "    <tr>\n",
       "      <th>36</th>\n",
       "      <td>2.2</td>\n",
       "    </tr>\n",
       "    <tr>\n",
       "      <th>37</th>\n",
       "      <td>3.8</td>\n",
       "    </tr>\n",
       "    <tr>\n",
       "      <th>38</th>\n",
       "      <td>2.8</td>\n",
       "    </tr>\n",
       "    <tr>\n",
       "      <th>39</th>\n",
       "      <td>-1.7</td>\n",
       "    </tr>\n",
       "    <tr>\n",
       "      <th>40</th>\n",
       "      <td>-6.5</td>\n",
       "    </tr>\n",
       "    <tr>\n",
       "      <th>41</th>\n",
       "      <td>6.4</td>\n",
       "    </tr>\n",
       "    <tr>\n",
       "      <th>42</th>\n",
       "      <td>-3.5</td>\n",
       "    </tr>\n",
       "    <tr>\n",
       "      <th>43</th>\n",
       "      <td>3.5</td>\n",
       "    </tr>\n",
       "    <tr>\n",
       "      <th>44</th>\n",
       "      <td>3.1</td>\n",
       "    </tr>\n",
       "    <tr>\n",
       "      <th>45</th>\n",
       "      <td>2.9</td>\n",
       "    </tr>\n",
       "    <tr>\n",
       "      <th>46</th>\n",
       "      <td>2.8</td>\n",
       "    </tr>\n",
       "    <tr>\n",
       "      <th>47</th>\n",
       "      <td>2.7</td>\n",
       "    </tr>\n",
       "    <tr>\n",
       "      <th>48</th>\n",
       "      <td>2.7</td>\n",
       "    </tr>\n",
       "  </tbody>\n",
       "</table>\n",
       "</div>"
      ],
      "text/plain": [
       "    Hong Kong SAR\n",
       "0            10.3\n",
       "1             9.2\n",
       "2             2.9\n",
       "3             6.0\n",
       "4            10.0\n",
       "5             0.7\n",
       "6            11.1\n",
       "7            13.4\n",
       "8             8.5\n",
       "9             2.3\n",
       "10            3.8\n",
       "11            5.7\n",
       "12            6.2\n",
       "13            6.2\n",
       "14            6.0\n",
       "15            2.4\n",
       "16            4.3\n",
       "17            5.1\n",
       "18           -5.9\n",
       "19            2.5\n",
       "20            7.7\n",
       "21            0.6\n",
       "22            1.7\n",
       "23            3.1\n",
       "24            8.7\n",
       "25            7.4\n",
       "26            7.0\n",
       "27            6.5\n",
       "28            2.1\n",
       "29           -2.5\n",
       "30            6.8\n",
       "31            4.8\n",
       "32            1.7\n",
       "33            3.1\n",
       "34            2.8\n",
       "35            2.4\n",
       "36            2.2\n",
       "37            3.8\n",
       "38            2.8\n",
       "39           -1.7\n",
       "40           -6.5\n",
       "41            6.4\n",
       "42           -3.5\n",
       "43            3.5\n",
       "44            3.1\n",
       "45            2.9\n",
       "46            2.8\n",
       "47            2.7\n",
       "48            2.7"
      ]
     },
     "execution_count": 77,
     "metadata": {},
     "output_type": "execute_result"
    }
   ],
   "source": [
    "df_12[['Hong Kong SAR']]"
   ]
  },
  {
   "cell_type": "code",
   "execution_count": 64,
   "metadata": {},
   "outputs": [],
   "source": [
    "other_advanced_economies = ['Andorra','Aruba','Hong Kong SAR','Macao SAR','San Marino']\n"
   ]
  },
  {
   "cell_type": "code",
   "execution_count": 65,
   "metadata": {},
   "outputs": [],
   "source": [
    "emerging_market_and_developing_economies = [\n",
    "    \"Bangladesh\",\"Belarus\",\"Bulgaria\",\"Chile\",\"China\",\n",
    "    \"Colombia\",\"Costa Rica\",\"Croatia\",\"Czech Republic\",\"Dominican Republic\",\n",
    "    \"Egypt\",\"El Salvador\",\"Hungary\",\"India\",\"Indonesia\",\"Iran\",\n",
    "    \"Jordan\",\"Kenya\",\"Lebanon\",\"Malaysia\",\"Mexico\",\n",
    "    \"Nigeria\",\"Pakistan\",\"Panama\",\"Peru\",\"Philippines\",\n",
    "    \"Poland\",\"Romania\",\"Russian Federation\",\"Saudi Arabia\",\"South Africa\",\"Sri Lanka\",\n",
    "    \"Thailand\",\"Republic of Turkiye\",\"Ukraine\",\"Venezuela\",\"Vietnam\"\n",
    "]"
   ]
  },
  {
   "cell_type": "code",
   "execution_count": 66,
   "metadata": {},
   "outputs": [],
   "source": [
    "advanced_economies = [\n",
    "    \"Andorra\",\"Aruba\",\"Australia\",\"Austria\",\"Bahrain\",\n",
    "    \"Belgium\",\"Canada\",\"Cyprus\",\"Czech Republic\",\"Denmark\",\"Estonia\",\n",
    "    \"Finland\",\"France\",\"Germany\",\"Greece\",\"Hong Kong SAR\",\"Iceland\",\n",
    "    \"Ireland\",\"Israel\",\"Italy\",\"Japan\",\"Republic of Korea\",\n",
    "    \"Kuwait\",\"Latvia\",\"Lithuania\",\"Luxembourg\",\"Macao SAR\",\n",
    "    \"Malta\",\"Netherlands\",\"New Zealand\",\"Norway\",\"Oman\",\n",
    "    \"Portugal\",\"Puerto Rico\",\"Qatar\",\"San Marino\",\"Singapore\",\n",
    "    \"Slovak Republic\",\"Slovenia\",\"Spain\",\"Sweden\",\"Switzerland\",\n",
    "    \"Taiwan Province of China\",\"United Arab Emirates\",\"United Kingdom\",\"United States\"\n",
    "]"
   ]
  },
  {
   "cell_type": "code",
   "execution_count": 67,
   "metadata": {},
   "outputs": [],
   "source": [
    "emerging_and_developing_europe = [\n",
    "    \"Bulgaria\",\"Croatia\",\"Hungary\",\n",
    "    \"Poland\",\"Romania\",\"Russian Federation\",\n",
    "    \"Republic of Turkiye\",\"Ukraine\"\n",
    "]"
   ]
  },
  {
   "cell_type": "code",
   "execution_count": 68,
   "metadata": {},
   "outputs": [],
   "source": [
    "asean_5 = [\"Indonesia\",\"Malaysia\",\"Philippines\",\"Singapore\",\"Thailand\"]"
   ]
  },
  {
   "cell_type": "code",
   "execution_count": 69,
   "metadata": {},
   "outputs": [],
   "source": [
    "sub_saharan_africa = [\n",
    "    \"Angola\",\"Benin\",\"Botswana\",\"Burkina Faso\",\"Burundi\",\"Cabo Verde\",\n",
    "    \"Cameroon\",\"Central African Republic\",\"Chad\",\"Comoros\",\"Dem. Rep. of the Congo\",\n",
    "    \"Republic of Congo\",\"Côte d'Ivoire\",\"Djibouti\",\"Equatorial Guinea\",\"Eritrea\",\"Eswatini\",\n",
    "    \"Ethiopia\",\"Gabon\",\"The Gambia\",\"Ghana\",\"Guinea\",\n",
    "    \"Guinea-Bissau\",\"Kenya\",\"Lesotho\",\"Liberia\",\"Madagascar\",\n",
    "    \"Malawi\",\"Mali\",\"Mauritania\",\"Mauritius\",\"Mozambique\",\n",
    "    \"Namibia\",\"Niger\",\"Nigeria\",\"Rwanda\",\"São Tomé and Príncipe\",\n",
    "    \"Senegal\",\"Seychelles\",\"Sierra Leone\",\"Somalia\",\"South Africa\",\n",
    "    \"Republic of South Sudan\",\"Sudan\",\"Tanzania\",\"Togo\",\"Uganda\",\"Zambia\",\n",
    "    \"Zimbabwe\"\n",
    "]"
   ]
  },
  {
   "cell_type": "code",
   "execution_count": 79,
   "metadata": {},
   "outputs": [],
   "source": [
    "soviet_union_countries = [\n",
    "    \"Armenia\",\n",
    "    \"Azerbaijan\",\n",
    "    \"Belarus\",\n",
    "    \"Estonia\",\n",
    "    \"Georgia\",\n",
    "    \"Kazakhstan\",\n",
    "    \"Kyrgyz Republic\", \n",
    "    \"Latvia\",\n",
    "    \"Lithuania\",\n",
    "    \"Moldova\",\n",
    "    \"Russian Federation\",\n",
    "    \"Tajikistan\",\n",
    "    \"Turkmenistan\",\n",
    "    \"Ukraine\",\n",
    "    \"Uzbekistan\"\n",
    "]\n"
   ]
  },
  {
   "cell_type": "code",
   "execution_count": 70,
   "metadata": {},
   "outputs": [
    {
     "data": {
      "text/html": [
       "<div>\n",
       "<style scoped>\n",
       "    .dataframe tbody tr th:only-of-type {\n",
       "        vertical-align: middle;\n",
       "    }\n",
       "\n",
       "    .dataframe tbody tr th {\n",
       "        vertical-align: top;\n",
       "    }\n",
       "\n",
       "    .dataframe thead th {\n",
       "        text-align: right;\n",
       "    }\n",
       "</style>\n",
       "<table border=\"1\" class=\"dataframe\">\n",
       "  <thead>\n",
       "    <tr style=\"text-align: right;\">\n",
       "      <th></th>\n",
       "      <th>year</th>\n",
       "      <th>Afghanistan</th>\n",
       "      <th>Albania</th>\n",
       "      <th>Algeria</th>\n",
       "      <th>Andorra</th>\n",
       "      <th>Angola</th>\n",
       "      <th>Antigua and Barbuda</th>\n",
       "      <th>Argentina</th>\n",
       "      <th>Armenia</th>\n",
       "      <th>Aruba</th>\n",
       "      <th>...</th>\n",
       "      <th>Emerging and Developing Europe</th>\n",
       "      <th>Emerging market and developing economies</th>\n",
       "      <th>Euro area</th>\n",
       "      <th>European Union</th>\n",
       "      <th>Latin America and the Caribbean</th>\n",
       "      <th>Major advanced economies (G7)</th>\n",
       "      <th>Middle East and Central Asia</th>\n",
       "      <th>Other advanced economies</th>\n",
       "      <th>Sub-Saharan Africa</th>\n",
       "      <th>World</th>\n",
       "    </tr>\n",
       "  </thead>\n",
       "  <tbody>\n",
       "    <tr>\n",
       "      <th>0</th>\n",
       "      <td>1980</td>\n",
       "      <td>NaN</td>\n",
       "      <td>2.7</td>\n",
       "      <td>-5.4</td>\n",
       "      <td>NaN</td>\n",
       "      <td>2.4</td>\n",
       "      <td>8.2</td>\n",
       "      <td>0.7</td>\n",
       "      <td>NaN</td>\n",
       "      <td>NaN</td>\n",
       "      <td>...</td>\n",
       "      <td>-0.8</td>\n",
       "      <td>3.3</td>\n",
       "      <td>NaN</td>\n",
       "      <td>1.8</td>\n",
       "      <td>6.4</td>\n",
       "      <td>0.9</td>\n",
       "      <td>-1.9</td>\n",
       "      <td>3.8</td>\n",
       "      <td>NaN</td>\n",
       "      <td>2.1</td>\n",
       "    </tr>\n",
       "    <tr>\n",
       "      <th>1</th>\n",
       "      <td>1981</td>\n",
       "      <td>NaN</td>\n",
       "      <td>5.7</td>\n",
       "      <td>3.0</td>\n",
       "      <td>NaN</td>\n",
       "      <td>-4.4</td>\n",
       "      <td>3.8</td>\n",
       "      <td>-5.7</td>\n",
       "      <td>NaN</td>\n",
       "      <td>NaN</td>\n",
       "      <td>...</td>\n",
       "      <td>-0.5</td>\n",
       "      <td>1.9</td>\n",
       "      <td>NaN</td>\n",
       "      <td>0.1</td>\n",
       "      <td>0.9</td>\n",
       "      <td>2.0</td>\n",
       "      <td>-0.2</td>\n",
       "      <td>4.2</td>\n",
       "      <td>NaN</td>\n",
       "      <td>1.9</td>\n",
       "    </tr>\n",
       "    <tr>\n",
       "      <th>2</th>\n",
       "      <td>1982</td>\n",
       "      <td>NaN</td>\n",
       "      <td>2.9</td>\n",
       "      <td>6.4</td>\n",
       "      <td>NaN</td>\n",
       "      <td>0.0</td>\n",
       "      <td>-0.1</td>\n",
       "      <td>-3.1</td>\n",
       "      <td>NaN</td>\n",
       "      <td>NaN</td>\n",
       "      <td>...</td>\n",
       "      <td>1.4</td>\n",
       "      <td>1.5</td>\n",
       "      <td>NaN</td>\n",
       "      <td>0.6</td>\n",
       "      <td>-0.5</td>\n",
       "      <td>-0.1</td>\n",
       "      <td>0.4</td>\n",
       "      <td>2.2</td>\n",
       "      <td>NaN</td>\n",
       "      <td>0.7</td>\n",
       "    </tr>\n",
       "    <tr>\n",
       "      <th>3</th>\n",
       "      <td>1983</td>\n",
       "      <td>NaN</td>\n",
       "      <td>1.1</td>\n",
       "      <td>5.4</td>\n",
       "      <td>NaN</td>\n",
       "      <td>4.2</td>\n",
       "      <td>5.4</td>\n",
       "      <td>3.7</td>\n",
       "      <td>NaN</td>\n",
       "      <td>NaN</td>\n",
       "      <td>...</td>\n",
       "      <td>4.6</td>\n",
       "      <td>1.8</td>\n",
       "      <td>NaN</td>\n",
       "      <td>1.7</td>\n",
       "      <td>-2.8</td>\n",
       "      <td>3.3</td>\n",
       "      <td>0.7</td>\n",
       "      <td>4.0</td>\n",
       "      <td>NaN</td>\n",
       "      <td>2.6</td>\n",
       "    </tr>\n",
       "    <tr>\n",
       "      <th>4</th>\n",
       "      <td>1984</td>\n",
       "      <td>NaN</td>\n",
       "      <td>2.0</td>\n",
       "      <td>5.6</td>\n",
       "      <td>NaN</td>\n",
       "      <td>6.0</td>\n",
       "      <td>10.2</td>\n",
       "      <td>2.0</td>\n",
       "      <td>NaN</td>\n",
       "      <td>NaN</td>\n",
       "      <td>...</td>\n",
       "      <td>4.1</td>\n",
       "      <td>4.1</td>\n",
       "      <td>NaN</td>\n",
       "      <td>2.5</td>\n",
       "      <td>3.9</td>\n",
       "      <td>5.0</td>\n",
       "      <td>0.3</td>\n",
       "      <td>6.6</td>\n",
       "      <td>NaN</td>\n",
       "      <td>4.6</td>\n",
       "    </tr>\n",
       "  </tbody>\n",
       "</table>\n",
       "<p>5 rows × 229 columns</p>\n",
       "</div>"
      ],
      "text/plain": [
       "   year  Afghanistan  Albania  Algeria  Andorra  Angola  Antigua and Barbuda  \\\n",
       "0  1980          NaN      2.7     -5.4      NaN     2.4                  8.2   \n",
       "1  1981          NaN      5.7      3.0      NaN    -4.4                  3.8   \n",
       "2  1982          NaN      2.9      6.4      NaN     0.0                 -0.1   \n",
       "3  1983          NaN      1.1      5.4      NaN     4.2                  5.4   \n",
       "4  1984          NaN      2.0      5.6      NaN     6.0                 10.2   \n",
       "\n",
       "   Argentina  Armenia  Aruba  ...  Emerging and Developing Europe  \\\n",
       "0        0.7      NaN    NaN  ...                            -0.8   \n",
       "1       -5.7      NaN    NaN  ...                            -0.5   \n",
       "2       -3.1      NaN    NaN  ...                             1.4   \n",
       "3        3.7      NaN    NaN  ...                             4.6   \n",
       "4        2.0      NaN    NaN  ...                             4.1   \n",
       "\n",
       "   Emerging market and developing economies  Euro area  European Union  \\\n",
       "0                                       3.3        NaN             1.8   \n",
       "1                                       1.9        NaN             0.1   \n",
       "2                                       1.5        NaN             0.6   \n",
       "3                                       1.8        NaN             1.7   \n",
       "4                                       4.1        NaN             2.5   \n",
       "\n",
       "   Latin America and the Caribbean  Major advanced economies (G7)  \\\n",
       "0                              6.4                            0.9   \n",
       "1                              0.9                            2.0   \n",
       "2                             -0.5                           -0.1   \n",
       "3                             -2.8                            3.3   \n",
       "4                              3.9                            5.0   \n",
       "\n",
       "   Middle East and Central Asia  Other advanced economies  Sub-Saharan Africa  \\\n",
       "0                          -1.9                       3.8                 NaN   \n",
       "1                          -0.2                       4.2                 NaN   \n",
       "2                           0.4                       2.2                 NaN   \n",
       "3                           0.7                       4.0                 NaN   \n",
       "4                           0.3                       6.6                 NaN   \n",
       "\n",
       "   World  \n",
       "0    2.1  \n",
       "1    1.9  \n",
       "2    0.7  \n",
       "3    2.6  \n",
       "4    4.6  \n",
       "\n",
       "[5 rows x 229 columns]"
      ]
     },
     "execution_count": 70,
     "metadata": {},
     "output_type": "execute_result"
    }
   ],
   "source": [
    "df_12.rename_axis(None, axis=\"columns\", inplace=True)  \n",
    "df_12.head()"
   ]
  },
  {
   "cell_type": "code",
   "execution_count": 72,
   "metadata": {},
   "outputs": [
    {
     "data": {
      "application/vnd.plotly.v1+json": {
       "config": {
        "plotlyServerURL": "https://plot.ly"
       },
       "data": [
        {
         "marker": {
          "color": "navy"
         },
         "mode": "lines+markers",
         "name": "Canada",
         "type": "scatter",
         "x": [
          1980,
          1981,
          1982,
          1983,
          1984,
          1985,
          1986,
          1987,
          1988,
          1989,
          1990,
          1991,
          1992,
          1993,
          1994,
          1995,
          1996,
          1997,
          1998,
          1999,
          2000,
          2001,
          2002,
          2003,
          2004,
          2005,
          2006,
          2007,
          2008,
          2009,
          2010,
          2011,
          2012,
          2013,
          2014,
          2015,
          2016,
          2017,
          2018,
          2019,
          2020,
          2021,
          2022,
          2023,
          2024,
          2025,
          2026,
          2027,
          2028
         ],
         "y": [
          2.2,
          3.5,
          -3.2,
          2.6,
          5.9,
          4.7,
          2.1,
          4.1,
          4.4,
          2.3,
          0.2,
          -2.1,
          0.9,
          2.7,
          4.5,
          2.7,
          1.6,
          4.3,
          3.9,
          5.2,
          5.2,
          1.8,
          3,
          1.8,
          3.1,
          3.2,
          2.6,
          2.1,
          1,
          -2.9,
          3.1,
          3.1,
          1.8,
          2.3,
          2.9,
          0.7,
          1,
          3,
          2.8,
          1.9,
          -5.1,
          5,
          3.4,
          1.5,
          1.5,
          2.2,
          1.9,
          1.7,
          1.7
         ]
        },
        {
         "marker": {
          "color": "orange"
         },
         "mode": "lines+markers",
         "name": "France",
         "type": "scatter",
         "x": [
          1980,
          1981,
          1982,
          1983,
          1984,
          1985,
          1986,
          1987,
          1988,
          1989,
          1990,
          1991,
          1992,
          1993,
          1994,
          1995,
          1996,
          1997,
          1998,
          1999,
          2000,
          2001,
          2002,
          2003,
          2004,
          2005,
          2006,
          2007,
          2008,
          2009,
          2010,
          2011,
          2012,
          2013,
          2014,
          2015,
          2016,
          2017,
          2018,
          2019,
          2020,
          2021,
          2022,
          2023,
          2024,
          2025,
          2026,
          2027,
          2028
         ],
         "y": [
          1.8,
          1.1,
          2.5,
          1.3,
          1.6,
          1.7,
          2.3,
          2.6,
          4.6,
          4.5,
          2.9,
          1.1,
          1.5,
          -0.7,
          2.4,
          2.3,
          1.4,
          2.3,
          3.6,
          3.3,
          4.1,
          1.9,
          1.2,
          0.8,
          2.6,
          1.7,
          2.6,
          2.4,
          0.2,
          -2.8,
          1.8,
          2.2,
          0.4,
          0.7,
          1,
          1.1,
          1,
          2.4,
          1.8,
          1.9,
          -7.9,
          6.8,
          2.6,
          0.7,
          1.3,
          1.9,
          1.8,
          1.6,
          1.4
         ]
        },
        {
         "marker": {
          "color": "tomato"
         },
         "mode": "lines+markers",
         "name": "Germany",
         "type": "scatter",
         "x": [
          1980,
          1981,
          1982,
          1983,
          1984,
          1985,
          1986,
          1987,
          1988,
          1989,
          1990,
          1991,
          1992,
          1993,
          1994,
          1995,
          1996,
          1997,
          1998,
          1999,
          2000,
          2001,
          2002,
          2003,
          2004,
          2005,
          2006,
          2007,
          2008,
          2009,
          2010,
          2011,
          2012,
          2013,
          2014,
          2015,
          2016,
          2017,
          2018,
          2019,
          2020,
          2021,
          2022,
          2023,
          2024,
          2025,
          2026,
          2027,
          2028
         ],
         "y": [
          1.3,
          0.1,
          -0.8,
          1.6,
          2.8,
          2.2,
          2.4,
          1.5,
          3.7,
          3.9,
          5.7,
          5,
          1.9,
          -1,
          2.4,
          1.5,
          0.8,
          1.8,
          2,
          1.9,
          2.9,
          1.7,
          -0.2,
          -0.7,
          1.2,
          0.7,
          3.8,
          3,
          1,
          -5.7,
          4.2,
          3.9,
          0.4,
          0.4,
          2.2,
          1.5,
          2.2,
          2.7,
          1,
          1.1,
          -3.7,
          2.6,
          1.8,
          -0.1,
          1.1,
          2,
          1.8,
          1.2,
          1.1
         ]
        },
        {
         "marker": {
          "color": "crimson"
         },
         "mode": "lines+markers",
         "name": "Italy",
         "type": "scatter",
         "x": [
          1980,
          1981,
          1982,
          1983,
          1984,
          1985,
          1986,
          1987,
          1988,
          1989,
          1990,
          1991,
          1992,
          1993,
          1994,
          1995,
          1996,
          1997,
          1998,
          1999,
          2000,
          2001,
          2002,
          2003,
          2004,
          2005,
          2006,
          2007,
          2008,
          2009,
          2010,
          2011,
          2012,
          2013,
          2014,
          2015,
          2016,
          2017,
          2018,
          2019,
          2020,
          2021,
          2022,
          2023,
          2024,
          2025,
          2026,
          2027,
          2028
         ],
         "y": [
          3.1,
          0.6,
          0.2,
          0.9,
          3,
          2.6,
          2.7,
          3.1,
          4,
          3.3,
          2,
          1.4,
          0.7,
          -0.8,
          2.1,
          2.7,
          1.3,
          1.8,
          1.8,
          1.6,
          3.8,
          2,
          0.3,
          0.1,
          1.4,
          0.8,
          1.8,
          1.5,
          -1,
          -5.3,
          1.7,
          0.7,
          -3,
          -1.8,
          0,
          0.8,
          1.3,
          1.7,
          0.9,
          0.5,
          -9,
          7,
          3.7,
          0.7,
          0.8,
          1.2,
          1.1,
          1,
          0.9
         ]
        },
        {
         "marker": {
          "color": "darkgreen"
         },
         "mode": "lines+markers",
         "name": "Japan",
         "type": "scatter",
         "x": [
          1980,
          1981,
          1982,
          1983,
          1984,
          1985,
          1986,
          1987,
          1988,
          1989,
          1990,
          1991,
          1992,
          1993,
          1994,
          1995,
          1996,
          1997,
          1998,
          1999,
          2000,
          2001,
          2002,
          2003,
          2004,
          2005,
          2006,
          2007,
          2008,
          2009,
          2010,
          2011,
          2012,
          2013,
          2014,
          2015,
          2016,
          2017,
          2018,
          2019,
          2020,
          2021,
          2022,
          2023,
          2024,
          2025,
          2026,
          2027,
          2028
         ],
         "y": [
          3.2,
          4.2,
          3.3,
          3.5,
          4.5,
          5.2,
          3.3,
          4.7,
          6.8,
          4.9,
          4.9,
          3.4,
          0.8,
          -0.5,
          0.9,
          2.6,
          3.1,
          1,
          -1.3,
          -0.3,
          2.8,
          0.4,
          0,
          1.5,
          2.2,
          1.8,
          1.4,
          1.5,
          -1.2,
          -5.7,
          4.1,
          0,
          1.4,
          2,
          0.3,
          1.6,
          0.8,
          1.7,
          0.6,
          -0.4,
          -4.3,
          2.1,
          1.1,
          1.3,
          1,
          0.6,
          0.5,
          0.4,
          0.4
         ]
        },
        {
         "marker": {
          "color": "brown"
         },
         "mode": "lines+markers",
         "name": "United Kingdom",
         "type": "scatter",
         "x": [
          1980,
          1981,
          1982,
          1983,
          1984,
          1985,
          1986,
          1987,
          1988,
          1989,
          1990,
          1991,
          1992,
          1993,
          1994,
          1995,
          1996,
          1997,
          1998,
          1999,
          2000,
          2001,
          2002,
          2003,
          2004,
          2005,
          2006,
          2007,
          2008,
          2009,
          2010,
          2011,
          2012,
          2013,
          2014,
          2015,
          2016,
          2017,
          2018,
          2019,
          2020,
          2021,
          2022,
          2023,
          2024,
          2025,
          2026,
          2027,
          2028
         ],
         "y": [
          -2.2,
          -0.9,
          1.7,
          3.9,
          1.9,
          3.7,
          2.6,
          5.2,
          5.2,
          2.2,
          0.6,
          -1.7,
          0,
          2.1,
          3.5,
          2.1,
          1.9,
          4.5,
          3.2,
          3,
          4.1,
          2.2,
          1.8,
          3.1,
          2.3,
          2.7,
          2.2,
          2.6,
          -0.2,
          -4.5,
          2.4,
          1.1,
          1.4,
          1.8,
          3.2,
          2.4,
          2.2,
          2.4,
          1.7,
          1.6,
          -11,
          7.6,
          4,
          -0.3,
          1,
          2.2,
          2,
          1.8,
          1.5
         ]
        },
        {
         "marker": {
          "color": "forestgreen"
         },
         "mode": "lines+markers",
         "name": "United States",
         "type": "scatter",
         "x": [
          1980,
          1981,
          1982,
          1983,
          1984,
          1985,
          1986,
          1987,
          1988,
          1989,
          1990,
          1991,
          1992,
          1993,
          1994,
          1995,
          1996,
          1997,
          1998,
          1999,
          2000,
          2001,
          2002,
          2003,
          2004,
          2005,
          2006,
          2007,
          2008,
          2009,
          2010,
          2011,
          2012,
          2013,
          2014,
          2015,
          2016,
          2017,
          2018,
          2019,
          2020,
          2021,
          2022,
          2023,
          2024,
          2025,
          2026,
          2027,
          2028
         ],
         "y": [
          -0.3,
          2.5,
          -1.8,
          4.6,
          7.2,
          4.2,
          3.5,
          3.5,
          4.2,
          3.7,
          1.9,
          -0.1,
          3.5,
          2.8,
          4,
          2.7,
          3.8,
          4.4,
          4.5,
          4.8,
          4.1,
          1,
          1.7,
          2.8,
          3.9,
          3.5,
          2.8,
          2,
          0.1,
          -2.6,
          2.7,
          1.5,
          2.3,
          1.8,
          2.3,
          2.7,
          1.7,
          2.2,
          2.9,
          2.3,
          -2.8,
          5.9,
          2.1,
          1.6,
          1.1,
          1.8,
          2.1,
          2.1,
          2.1
         ]
        },
        {
         "marker": {
          "color": "steelblue"
         },
         "mode": "lines+markers",
         "name": "Major advanced economies (G7)",
         "type": "scatter",
         "x": [
          1980,
          1981,
          1982,
          1983,
          1984,
          1985,
          1986,
          1987,
          1988,
          1989,
          1990,
          1991,
          1992,
          1993,
          1994,
          1995,
          1996,
          1997,
          1998,
          1999,
          2000,
          2001,
          2002,
          2003,
          2004,
          2005,
          2006,
          2007,
          2008,
          2009,
          2010,
          2011,
          2012,
          2013,
          2014,
          2015,
          2016,
          2017,
          2018,
          2019,
          2020,
          2021,
          2022,
          2023,
          2024,
          2025,
          2026,
          2027,
          2028
         ],
         "y": [
          0.9,
          2,
          -0.1,
          3.3,
          5,
          3.8,
          3,
          3.5,
          4.7,
          3.8,
          2.8,
          1.2,
          2.1,
          1.1,
          3,
          2.5,
          2.7,
          3.2,
          2.9,
          3.2,
          3.8,
          1.2,
          1.1,
          1.9,
          2.9,
          2.5,
          2.5,
          2.1,
          0,
          -3.7,
          2.9,
          1.6,
          1.4,
          1.4,
          1.9,
          2.1,
          1.5,
          2.2,
          2.1,
          1.6,
          -4.5,
          5.3,
          2.3,
          1.1,
          1.1,
          1.7,
          1.8,
          1.7,
          1.6
         ]
        }
       ],
       "layout": {
        "height": 800,
        "legend": {
         "title": {
          "text": "Legend"
         },
         "x": 0,
         "y": 1
        },
        "margin": {
         "b": 0,
         "l": 0,
         "r": 0,
         "t": 50
        },
        "plot_bgcolor": "#F7FAFC",
        "showlegend": true,
        "template": {
         "data": {
          "bar": [
           {
            "error_x": {
             "color": "#2a3f5f"
            },
            "error_y": {
             "color": "#2a3f5f"
            },
            "marker": {
             "line": {
              "color": "#E5ECF6",
              "width": 0.5
             },
             "pattern": {
              "fillmode": "overlay",
              "size": 10,
              "solidity": 0.2
             }
            },
            "type": "bar"
           }
          ],
          "barpolar": [
           {
            "marker": {
             "line": {
              "color": "#E5ECF6",
              "width": 0.5
             },
             "pattern": {
              "fillmode": "overlay",
              "size": 10,
              "solidity": 0.2
             }
            },
            "type": "barpolar"
           }
          ],
          "carpet": [
           {
            "aaxis": {
             "endlinecolor": "#2a3f5f",
             "gridcolor": "white",
             "linecolor": "white",
             "minorgridcolor": "white",
             "startlinecolor": "#2a3f5f"
            },
            "baxis": {
             "endlinecolor": "#2a3f5f",
             "gridcolor": "white",
             "linecolor": "white",
             "minorgridcolor": "white",
             "startlinecolor": "#2a3f5f"
            },
            "type": "carpet"
           }
          ],
          "choropleth": [
           {
            "colorbar": {
             "outlinewidth": 0,
             "ticks": ""
            },
            "type": "choropleth"
           }
          ],
          "contour": [
           {
            "colorbar": {
             "outlinewidth": 0,
             "ticks": ""
            },
            "colorscale": [
             [
              0,
              "#0d0887"
             ],
             [
              0.1111111111111111,
              "#46039f"
             ],
             [
              0.2222222222222222,
              "#7201a8"
             ],
             [
              0.3333333333333333,
              "#9c179e"
             ],
             [
              0.4444444444444444,
              "#bd3786"
             ],
             [
              0.5555555555555556,
              "#d8576b"
             ],
             [
              0.6666666666666666,
              "#ed7953"
             ],
             [
              0.7777777777777778,
              "#fb9f3a"
             ],
             [
              0.8888888888888888,
              "#fdca26"
             ],
             [
              1,
              "#f0f921"
             ]
            ],
            "type": "contour"
           }
          ],
          "contourcarpet": [
           {
            "colorbar": {
             "outlinewidth": 0,
             "ticks": ""
            },
            "type": "contourcarpet"
           }
          ],
          "heatmap": [
           {
            "colorbar": {
             "outlinewidth": 0,
             "ticks": ""
            },
            "colorscale": [
             [
              0,
              "#0d0887"
             ],
             [
              0.1111111111111111,
              "#46039f"
             ],
             [
              0.2222222222222222,
              "#7201a8"
             ],
             [
              0.3333333333333333,
              "#9c179e"
             ],
             [
              0.4444444444444444,
              "#bd3786"
             ],
             [
              0.5555555555555556,
              "#d8576b"
             ],
             [
              0.6666666666666666,
              "#ed7953"
             ],
             [
              0.7777777777777778,
              "#fb9f3a"
             ],
             [
              0.8888888888888888,
              "#fdca26"
             ],
             [
              1,
              "#f0f921"
             ]
            ],
            "type": "heatmap"
           }
          ],
          "heatmapgl": [
           {
            "colorbar": {
             "outlinewidth": 0,
             "ticks": ""
            },
            "colorscale": [
             [
              0,
              "#0d0887"
             ],
             [
              0.1111111111111111,
              "#46039f"
             ],
             [
              0.2222222222222222,
              "#7201a8"
             ],
             [
              0.3333333333333333,
              "#9c179e"
             ],
             [
              0.4444444444444444,
              "#bd3786"
             ],
             [
              0.5555555555555556,
              "#d8576b"
             ],
             [
              0.6666666666666666,
              "#ed7953"
             ],
             [
              0.7777777777777778,
              "#fb9f3a"
             ],
             [
              0.8888888888888888,
              "#fdca26"
             ],
             [
              1,
              "#f0f921"
             ]
            ],
            "type": "heatmapgl"
           }
          ],
          "histogram": [
           {
            "marker": {
             "pattern": {
              "fillmode": "overlay",
              "size": 10,
              "solidity": 0.2
             }
            },
            "type": "histogram"
           }
          ],
          "histogram2d": [
           {
            "colorbar": {
             "outlinewidth": 0,
             "ticks": ""
            },
            "colorscale": [
             [
              0,
              "#0d0887"
             ],
             [
              0.1111111111111111,
              "#46039f"
             ],
             [
              0.2222222222222222,
              "#7201a8"
             ],
             [
              0.3333333333333333,
              "#9c179e"
             ],
             [
              0.4444444444444444,
              "#bd3786"
             ],
             [
              0.5555555555555556,
              "#d8576b"
             ],
             [
              0.6666666666666666,
              "#ed7953"
             ],
             [
              0.7777777777777778,
              "#fb9f3a"
             ],
             [
              0.8888888888888888,
              "#fdca26"
             ],
             [
              1,
              "#f0f921"
             ]
            ],
            "type": "histogram2d"
           }
          ],
          "histogram2dcontour": [
           {
            "colorbar": {
             "outlinewidth": 0,
             "ticks": ""
            },
            "colorscale": [
             [
              0,
              "#0d0887"
             ],
             [
              0.1111111111111111,
              "#46039f"
             ],
             [
              0.2222222222222222,
              "#7201a8"
             ],
             [
              0.3333333333333333,
              "#9c179e"
             ],
             [
              0.4444444444444444,
              "#bd3786"
             ],
             [
              0.5555555555555556,
              "#d8576b"
             ],
             [
              0.6666666666666666,
              "#ed7953"
             ],
             [
              0.7777777777777778,
              "#fb9f3a"
             ],
             [
              0.8888888888888888,
              "#fdca26"
             ],
             [
              1,
              "#f0f921"
             ]
            ],
            "type": "histogram2dcontour"
           }
          ],
          "mesh3d": [
           {
            "colorbar": {
             "outlinewidth": 0,
             "ticks": ""
            },
            "type": "mesh3d"
           }
          ],
          "parcoords": [
           {
            "line": {
             "colorbar": {
              "outlinewidth": 0,
              "ticks": ""
             }
            },
            "type": "parcoords"
           }
          ],
          "pie": [
           {
            "automargin": true,
            "type": "pie"
           }
          ],
          "scatter": [
           {
            "fillpattern": {
             "fillmode": "overlay",
             "size": 10,
             "solidity": 0.2
            },
            "type": "scatter"
           }
          ],
          "scatter3d": [
           {
            "line": {
             "colorbar": {
              "outlinewidth": 0,
              "ticks": ""
             }
            },
            "marker": {
             "colorbar": {
              "outlinewidth": 0,
              "ticks": ""
             }
            },
            "type": "scatter3d"
           }
          ],
          "scattercarpet": [
           {
            "marker": {
             "colorbar": {
              "outlinewidth": 0,
              "ticks": ""
             }
            },
            "type": "scattercarpet"
           }
          ],
          "scattergeo": [
           {
            "marker": {
             "colorbar": {
              "outlinewidth": 0,
              "ticks": ""
             }
            },
            "type": "scattergeo"
           }
          ],
          "scattergl": [
           {
            "marker": {
             "colorbar": {
              "outlinewidth": 0,
              "ticks": ""
             }
            },
            "type": "scattergl"
           }
          ],
          "scattermapbox": [
           {
            "marker": {
             "colorbar": {
              "outlinewidth": 0,
              "ticks": ""
             }
            },
            "type": "scattermapbox"
           }
          ],
          "scatterpolar": [
           {
            "marker": {
             "colorbar": {
              "outlinewidth": 0,
              "ticks": ""
             }
            },
            "type": "scatterpolar"
           }
          ],
          "scatterpolargl": [
           {
            "marker": {
             "colorbar": {
              "outlinewidth": 0,
              "ticks": ""
             }
            },
            "type": "scatterpolargl"
           }
          ],
          "scatterternary": [
           {
            "marker": {
             "colorbar": {
              "outlinewidth": 0,
              "ticks": ""
             }
            },
            "type": "scatterternary"
           }
          ],
          "surface": [
           {
            "colorbar": {
             "outlinewidth": 0,
             "ticks": ""
            },
            "colorscale": [
             [
              0,
              "#0d0887"
             ],
             [
              0.1111111111111111,
              "#46039f"
             ],
             [
              0.2222222222222222,
              "#7201a8"
             ],
             [
              0.3333333333333333,
              "#9c179e"
             ],
             [
              0.4444444444444444,
              "#bd3786"
             ],
             [
              0.5555555555555556,
              "#d8576b"
             ],
             [
              0.6666666666666666,
              "#ed7953"
             ],
             [
              0.7777777777777778,
              "#fb9f3a"
             ],
             [
              0.8888888888888888,
              "#fdca26"
             ],
             [
              1,
              "#f0f921"
             ]
            ],
            "type": "surface"
           }
          ],
          "table": [
           {
            "cells": {
             "fill": {
              "color": "#EBF0F8"
             },
             "line": {
              "color": "white"
             }
            },
            "header": {
             "fill": {
              "color": "#C8D4E3"
             },
             "line": {
              "color": "white"
             }
            },
            "type": "table"
           }
          ]
         },
         "layout": {
          "annotationdefaults": {
           "arrowcolor": "#2a3f5f",
           "arrowhead": 0,
           "arrowwidth": 1
          },
          "autotypenumbers": "strict",
          "coloraxis": {
           "colorbar": {
            "outlinewidth": 0,
            "ticks": ""
           }
          },
          "colorscale": {
           "diverging": [
            [
             0,
             "#8e0152"
            ],
            [
             0.1,
             "#c51b7d"
            ],
            [
             0.2,
             "#de77ae"
            ],
            [
             0.3,
             "#f1b6da"
            ],
            [
             0.4,
             "#fde0ef"
            ],
            [
             0.5,
             "#f7f7f7"
            ],
            [
             0.6,
             "#e6f5d0"
            ],
            [
             0.7,
             "#b8e186"
            ],
            [
             0.8,
             "#7fbc41"
            ],
            [
             0.9,
             "#4d9221"
            ],
            [
             1,
             "#276419"
            ]
           ],
           "sequential": [
            [
             0,
             "#0d0887"
            ],
            [
             0.1111111111111111,
             "#46039f"
            ],
            [
             0.2222222222222222,
             "#7201a8"
            ],
            [
             0.3333333333333333,
             "#9c179e"
            ],
            [
             0.4444444444444444,
             "#bd3786"
            ],
            [
             0.5555555555555556,
             "#d8576b"
            ],
            [
             0.6666666666666666,
             "#ed7953"
            ],
            [
             0.7777777777777778,
             "#fb9f3a"
            ],
            [
             0.8888888888888888,
             "#fdca26"
            ],
            [
             1,
             "#f0f921"
            ]
           ],
           "sequentialminus": [
            [
             0,
             "#0d0887"
            ],
            [
             0.1111111111111111,
             "#46039f"
            ],
            [
             0.2222222222222222,
             "#7201a8"
            ],
            [
             0.3333333333333333,
             "#9c179e"
            ],
            [
             0.4444444444444444,
             "#bd3786"
            ],
            [
             0.5555555555555556,
             "#d8576b"
            ],
            [
             0.6666666666666666,
             "#ed7953"
            ],
            [
             0.7777777777777778,
             "#fb9f3a"
            ],
            [
             0.8888888888888888,
             "#fdca26"
            ],
            [
             1,
             "#f0f921"
            ]
           ]
          },
          "colorway": [
           "#636efa",
           "#EF553B",
           "#00cc96",
           "#ab63fa",
           "#FFA15A",
           "#19d3f3",
           "#FF6692",
           "#B6E880",
           "#FF97FF",
           "#FECB52"
          ],
          "font": {
           "color": "#2a3f5f"
          },
          "geo": {
           "bgcolor": "white",
           "lakecolor": "white",
           "landcolor": "#E5ECF6",
           "showlakes": true,
           "showland": true,
           "subunitcolor": "white"
          },
          "hoverlabel": {
           "align": "left"
          },
          "hovermode": "closest",
          "mapbox": {
           "style": "light"
          },
          "paper_bgcolor": "white",
          "plot_bgcolor": "#E5ECF6",
          "polar": {
           "angularaxis": {
            "gridcolor": "white",
            "linecolor": "white",
            "ticks": ""
           },
           "bgcolor": "#E5ECF6",
           "radialaxis": {
            "gridcolor": "white",
            "linecolor": "white",
            "ticks": ""
           }
          },
          "scene": {
           "xaxis": {
            "backgroundcolor": "#E5ECF6",
            "gridcolor": "white",
            "gridwidth": 2,
            "linecolor": "white",
            "showbackground": true,
            "ticks": "",
            "zerolinecolor": "white"
           },
           "yaxis": {
            "backgroundcolor": "#E5ECF6",
            "gridcolor": "white",
            "gridwidth": 2,
            "linecolor": "white",
            "showbackground": true,
            "ticks": "",
            "zerolinecolor": "white"
           },
           "zaxis": {
            "backgroundcolor": "#E5ECF6",
            "gridcolor": "white",
            "gridwidth": 2,
            "linecolor": "white",
            "showbackground": true,
            "ticks": "",
            "zerolinecolor": "white"
           }
          },
          "shapedefaults": {
           "line": {
            "color": "#2a3f5f"
           }
          },
          "ternary": {
           "aaxis": {
            "gridcolor": "white",
            "linecolor": "white",
            "ticks": ""
           },
           "baxis": {
            "gridcolor": "white",
            "linecolor": "white",
            "ticks": ""
           },
           "bgcolor": "#E5ECF6",
           "caxis": {
            "gridcolor": "white",
            "linecolor": "white",
            "ticks": ""
           }
          },
          "title": {
           "x": 0.05
          },
          "xaxis": {
           "automargin": true,
           "gridcolor": "white",
           "linecolor": "white",
           "ticks": "",
           "title": {
            "standoff": 15
           },
           "zerolinecolor": "white",
           "zerolinewidth": 2
          },
          "yaxis": {
           "automargin": true,
           "gridcolor": "white",
           "linecolor": "white",
           "ticks": "",
           "title": {
            "standoff": 15
           },
           "zerolinecolor": "white",
           "zerolinewidth": 2
          }
         }
        },
        "title": {
         "font": {
          "size": 30
         },
         "text": "GDP"
        },
        "width": 1200,
        "xaxis": {
         "dtick": "2",
         "tickangle": 30,
         "title": {
          "text": "Year"
         }
        },
        "yaxis": {
         "tickformat": ",.0f",
         "title": {
          "text": "Real GDP growth (Annual percent change)"
         }
        }
       }
      }
     },
     "metadata": {},
     "output_type": "display_data"
    }
   ],
   "source": [
    "plot_gdp(df_12, major_advanced_economies_G7 )"
   ]
  },
  {
   "cell_type": "code",
   "execution_count": 78,
   "metadata": {},
   "outputs": [
    {
     "data": {
      "application/vnd.plotly.v1+json": {
       "config": {
        "plotlyServerURL": "https://plot.ly"
       },
       "data": [
        {
         "marker": {
          "color": "navy"
         },
         "mode": "lines+markers",
         "name": "Andorra",
         "type": "scatter",
         "x": [
          1980,
          1981,
          1982,
          1983,
          1984,
          1985,
          1986,
          1987,
          1988,
          1989,
          1990,
          1991,
          1992,
          1993,
          1994,
          1995,
          1996,
          1997,
          1998,
          1999,
          2000,
          2001,
          2002,
          2003,
          2004,
          2005,
          2006,
          2007,
          2008,
          2009,
          2010,
          2011,
          2012,
          2013,
          2014,
          2015,
          2016,
          2017,
          2018,
          2019,
          2020,
          2021,
          2022,
          2023,
          2024,
          2025,
          2026,
          2027,
          2028
         ],
         "y": [
          null,
          null,
          null,
          null,
          null,
          null,
          null,
          null,
          null,
          null,
          null,
          null,
          null,
          null,
          null,
          null,
          null,
          null,
          null,
          null,
          null,
          8.1,
          4.5,
          8.7,
          8.1,
          5.4,
          4.8,
          1.6,
          -5.6,
          -5.3,
          -2,
          0,
          -5,
          -3.5,
          2.5,
          1.4,
          3.7,
          0.3,
          1.6,
          2,
          -11.2,
          8.9,
          8.7,
          1.3,
          1.5,
          1.5,
          1.5,
          1.5,
          1.5
         ]
        },
        {
         "marker": {
          "color": "orange"
         },
         "mode": "lines+markers",
         "name": "Aruba",
         "type": "scatter",
         "x": [
          1980,
          1981,
          1982,
          1983,
          1984,
          1985,
          1986,
          1987,
          1988,
          1989,
          1990,
          1991,
          1992,
          1993,
          1994,
          1995,
          1996,
          1997,
          1998,
          1999,
          2000,
          2001,
          2002,
          2003,
          2004,
          2005,
          2006,
          2007,
          2008,
          2009,
          2010,
          2011,
          2012,
          2013,
          2014,
          2015,
          2016,
          2017,
          2018,
          2019,
          2020,
          2021,
          2022,
          2023,
          2024,
          2025,
          2026,
          2027,
          2028
         ],
         "y": [
          null,
          null,
          null,
          null,
          null,
          null,
          null,
          16.1,
          18.6,
          12.1,
          4,
          8,
          5.9,
          7.3,
          8.2,
          2.5,
          1.3,
          7,
          2,
          1.4,
          7.7,
          4.2,
          -0.9,
          1.1,
          7.3,
          -0.4,
          1.1,
          3.1,
          1.8,
          -11.7,
          -2.7,
          3.4,
          -1,
          6.4,
          0,
          3.6,
          2.1,
          5.5,
          5.3,
          0.6,
          -18.6,
          17.2,
          5.7,
          1.6,
          1.2,
          1.2,
          1.1,
          1.1,
          1.1
         ]
        },
        {
         "marker": {
          "color": "tomato"
         },
         "mode": "lines+markers",
         "name": "Hong Kong SAR",
         "type": "scatter",
         "x": [
          1980,
          1981,
          1982,
          1983,
          1984,
          1985,
          1986,
          1987,
          1988,
          1989,
          1990,
          1991,
          1992,
          1993,
          1994,
          1995,
          1996,
          1997,
          1998,
          1999,
          2000,
          2001,
          2002,
          2003,
          2004,
          2005,
          2006,
          2007,
          2008,
          2009,
          2010,
          2011,
          2012,
          2013,
          2014,
          2015,
          2016,
          2017,
          2018,
          2019,
          2020,
          2021,
          2022,
          2023,
          2024,
          2025,
          2026,
          2027,
          2028
         ],
         "y": [
          10.3,
          9.2,
          2.9,
          6,
          10,
          0.7,
          11.1,
          13.4,
          8.5,
          2.3,
          3.8,
          5.7,
          6.2,
          6.2,
          6,
          2.4,
          4.3,
          5.1,
          -5.9,
          2.5,
          7.7,
          0.6,
          1.7,
          3.1,
          8.7,
          7.4,
          7,
          6.5,
          2.1,
          -2.5,
          6.8,
          4.8,
          1.7,
          3.1,
          2.8,
          2.4,
          2.2,
          3.8,
          2.8,
          -1.7,
          -6.5,
          6.4,
          -3.5,
          3.5,
          3.1,
          2.9,
          2.8,
          2.7,
          2.7
         ]
        },
        {
         "marker": {
          "color": "crimson"
         },
         "mode": "lines+markers",
         "name": "Macao SAR",
         "type": "scatter",
         "x": [
          1980,
          1981,
          1982,
          1983,
          1984,
          1985,
          1986,
          1987,
          1988,
          1989,
          1990,
          1991,
          1992,
          1993,
          1994,
          1995,
          1996,
          1997,
          1998,
          1999,
          2000,
          2001,
          2002,
          2003,
          2004,
          2005,
          2006,
          2007,
          2008,
          2009,
          2010,
          2011,
          2012,
          2013,
          2014,
          2015,
          2016,
          2017,
          2018,
          2019,
          2020,
          2021,
          2022,
          2023,
          2024,
          2025,
          2026,
          2027,
          2028
         ],
         "y": [
          null,
          null,
          null,
          null,
          null,
          null,
          null,
          null,
          null,
          null,
          null,
          null,
          null,
          null,
          null,
          null,
          null,
          null,
          null,
          null,
          null,
          null,
          8.9,
          11.6,
          26.6,
          8.1,
          13.4,
          14.5,
          3.4,
          1.3,
          25.1,
          21.6,
          9.2,
          10.8,
          -2,
          -21.5,
          -0.7,
          10,
          6.5,
          -2.5,
          -54.2,
          19.3,
          -26.8,
          58.9,
          20.6,
          8.6,
          4.3,
          3.4,
          3.4
         ]
        },
        {
         "marker": {
          "color": "darkgreen"
         },
         "mode": "lines+markers",
         "name": "San Marino",
         "type": "scatter",
         "x": [
          1980,
          1981,
          1982,
          1983,
          1984,
          1985,
          1986,
          1987,
          1988,
          1989,
          1990,
          1991,
          1992,
          1993,
          1994,
          1995,
          1996,
          1997,
          1998,
          1999,
          2000,
          2001,
          2002,
          2003,
          2004,
          2005,
          2006,
          2007,
          2008,
          2009,
          2010,
          2011,
          2012,
          2013,
          2014,
          2015,
          2016,
          2017,
          2018,
          2019,
          2020,
          2021,
          2022,
          2023,
          2024,
          2025,
          2026,
          2027,
          2028
         ],
         "y": [
          null,
          null,
          null,
          null,
          null,
          null,
          null,
          null,
          null,
          null,
          null,
          null,
          null,
          null,
          null,
          null,
          null,
          null,
          7.5,
          9,
          2.2,
          5.5,
          0.3,
          3.9,
          4.6,
          2.4,
          3.8,
          7.1,
          -0.4,
          -10.1,
          -5.8,
          -8.5,
          -7.2,
          -0.8,
          -0.6,
          2.7,
          2.3,
          0.3,
          1.5,
          2.1,
          -6.7,
          8.3,
          4.6,
          1.2,
          1,
          1.3,
          1.3,
          1.3,
          1.3
         ]
        }
       ],
       "layout": {
        "height": 800,
        "legend": {
         "title": {
          "text": "Legend"
         },
         "x": 0,
         "y": 1
        },
        "margin": {
         "b": 0,
         "l": 0,
         "r": 0,
         "t": 50
        },
        "plot_bgcolor": "#F7FAFC",
        "showlegend": true,
        "template": {
         "data": {
          "bar": [
           {
            "error_x": {
             "color": "#2a3f5f"
            },
            "error_y": {
             "color": "#2a3f5f"
            },
            "marker": {
             "line": {
              "color": "#E5ECF6",
              "width": 0.5
             },
             "pattern": {
              "fillmode": "overlay",
              "size": 10,
              "solidity": 0.2
             }
            },
            "type": "bar"
           }
          ],
          "barpolar": [
           {
            "marker": {
             "line": {
              "color": "#E5ECF6",
              "width": 0.5
             },
             "pattern": {
              "fillmode": "overlay",
              "size": 10,
              "solidity": 0.2
             }
            },
            "type": "barpolar"
           }
          ],
          "carpet": [
           {
            "aaxis": {
             "endlinecolor": "#2a3f5f",
             "gridcolor": "white",
             "linecolor": "white",
             "minorgridcolor": "white",
             "startlinecolor": "#2a3f5f"
            },
            "baxis": {
             "endlinecolor": "#2a3f5f",
             "gridcolor": "white",
             "linecolor": "white",
             "minorgridcolor": "white",
             "startlinecolor": "#2a3f5f"
            },
            "type": "carpet"
           }
          ],
          "choropleth": [
           {
            "colorbar": {
             "outlinewidth": 0,
             "ticks": ""
            },
            "type": "choropleth"
           }
          ],
          "contour": [
           {
            "colorbar": {
             "outlinewidth": 0,
             "ticks": ""
            },
            "colorscale": [
             [
              0,
              "#0d0887"
             ],
             [
              0.1111111111111111,
              "#46039f"
             ],
             [
              0.2222222222222222,
              "#7201a8"
             ],
             [
              0.3333333333333333,
              "#9c179e"
             ],
             [
              0.4444444444444444,
              "#bd3786"
             ],
             [
              0.5555555555555556,
              "#d8576b"
             ],
             [
              0.6666666666666666,
              "#ed7953"
             ],
             [
              0.7777777777777778,
              "#fb9f3a"
             ],
             [
              0.8888888888888888,
              "#fdca26"
             ],
             [
              1,
              "#f0f921"
             ]
            ],
            "type": "contour"
           }
          ],
          "contourcarpet": [
           {
            "colorbar": {
             "outlinewidth": 0,
             "ticks": ""
            },
            "type": "contourcarpet"
           }
          ],
          "heatmap": [
           {
            "colorbar": {
             "outlinewidth": 0,
             "ticks": ""
            },
            "colorscale": [
             [
              0,
              "#0d0887"
             ],
             [
              0.1111111111111111,
              "#46039f"
             ],
             [
              0.2222222222222222,
              "#7201a8"
             ],
             [
              0.3333333333333333,
              "#9c179e"
             ],
             [
              0.4444444444444444,
              "#bd3786"
             ],
             [
              0.5555555555555556,
              "#d8576b"
             ],
             [
              0.6666666666666666,
              "#ed7953"
             ],
             [
              0.7777777777777778,
              "#fb9f3a"
             ],
             [
              0.8888888888888888,
              "#fdca26"
             ],
             [
              1,
              "#f0f921"
             ]
            ],
            "type": "heatmap"
           }
          ],
          "heatmapgl": [
           {
            "colorbar": {
             "outlinewidth": 0,
             "ticks": ""
            },
            "colorscale": [
             [
              0,
              "#0d0887"
             ],
             [
              0.1111111111111111,
              "#46039f"
             ],
             [
              0.2222222222222222,
              "#7201a8"
             ],
             [
              0.3333333333333333,
              "#9c179e"
             ],
             [
              0.4444444444444444,
              "#bd3786"
             ],
             [
              0.5555555555555556,
              "#d8576b"
             ],
             [
              0.6666666666666666,
              "#ed7953"
             ],
             [
              0.7777777777777778,
              "#fb9f3a"
             ],
             [
              0.8888888888888888,
              "#fdca26"
             ],
             [
              1,
              "#f0f921"
             ]
            ],
            "type": "heatmapgl"
           }
          ],
          "histogram": [
           {
            "marker": {
             "pattern": {
              "fillmode": "overlay",
              "size": 10,
              "solidity": 0.2
             }
            },
            "type": "histogram"
           }
          ],
          "histogram2d": [
           {
            "colorbar": {
             "outlinewidth": 0,
             "ticks": ""
            },
            "colorscale": [
             [
              0,
              "#0d0887"
             ],
             [
              0.1111111111111111,
              "#46039f"
             ],
             [
              0.2222222222222222,
              "#7201a8"
             ],
             [
              0.3333333333333333,
              "#9c179e"
             ],
             [
              0.4444444444444444,
              "#bd3786"
             ],
             [
              0.5555555555555556,
              "#d8576b"
             ],
             [
              0.6666666666666666,
              "#ed7953"
             ],
             [
              0.7777777777777778,
              "#fb9f3a"
             ],
             [
              0.8888888888888888,
              "#fdca26"
             ],
             [
              1,
              "#f0f921"
             ]
            ],
            "type": "histogram2d"
           }
          ],
          "histogram2dcontour": [
           {
            "colorbar": {
             "outlinewidth": 0,
             "ticks": ""
            },
            "colorscale": [
             [
              0,
              "#0d0887"
             ],
             [
              0.1111111111111111,
              "#46039f"
             ],
             [
              0.2222222222222222,
              "#7201a8"
             ],
             [
              0.3333333333333333,
              "#9c179e"
             ],
             [
              0.4444444444444444,
              "#bd3786"
             ],
             [
              0.5555555555555556,
              "#d8576b"
             ],
             [
              0.6666666666666666,
              "#ed7953"
             ],
             [
              0.7777777777777778,
              "#fb9f3a"
             ],
             [
              0.8888888888888888,
              "#fdca26"
             ],
             [
              1,
              "#f0f921"
             ]
            ],
            "type": "histogram2dcontour"
           }
          ],
          "mesh3d": [
           {
            "colorbar": {
             "outlinewidth": 0,
             "ticks": ""
            },
            "type": "mesh3d"
           }
          ],
          "parcoords": [
           {
            "line": {
             "colorbar": {
              "outlinewidth": 0,
              "ticks": ""
             }
            },
            "type": "parcoords"
           }
          ],
          "pie": [
           {
            "automargin": true,
            "type": "pie"
           }
          ],
          "scatter": [
           {
            "fillpattern": {
             "fillmode": "overlay",
             "size": 10,
             "solidity": 0.2
            },
            "type": "scatter"
           }
          ],
          "scatter3d": [
           {
            "line": {
             "colorbar": {
              "outlinewidth": 0,
              "ticks": ""
             }
            },
            "marker": {
             "colorbar": {
              "outlinewidth": 0,
              "ticks": ""
             }
            },
            "type": "scatter3d"
           }
          ],
          "scattercarpet": [
           {
            "marker": {
             "colorbar": {
              "outlinewidth": 0,
              "ticks": ""
             }
            },
            "type": "scattercarpet"
           }
          ],
          "scattergeo": [
           {
            "marker": {
             "colorbar": {
              "outlinewidth": 0,
              "ticks": ""
             }
            },
            "type": "scattergeo"
           }
          ],
          "scattergl": [
           {
            "marker": {
             "colorbar": {
              "outlinewidth": 0,
              "ticks": ""
             }
            },
            "type": "scattergl"
           }
          ],
          "scattermapbox": [
           {
            "marker": {
             "colorbar": {
              "outlinewidth": 0,
              "ticks": ""
             }
            },
            "type": "scattermapbox"
           }
          ],
          "scatterpolar": [
           {
            "marker": {
             "colorbar": {
              "outlinewidth": 0,
              "ticks": ""
             }
            },
            "type": "scatterpolar"
           }
          ],
          "scatterpolargl": [
           {
            "marker": {
             "colorbar": {
              "outlinewidth": 0,
              "ticks": ""
             }
            },
            "type": "scatterpolargl"
           }
          ],
          "scatterternary": [
           {
            "marker": {
             "colorbar": {
              "outlinewidth": 0,
              "ticks": ""
             }
            },
            "type": "scatterternary"
           }
          ],
          "surface": [
           {
            "colorbar": {
             "outlinewidth": 0,
             "ticks": ""
            },
            "colorscale": [
             [
              0,
              "#0d0887"
             ],
             [
              0.1111111111111111,
              "#46039f"
             ],
             [
              0.2222222222222222,
              "#7201a8"
             ],
             [
              0.3333333333333333,
              "#9c179e"
             ],
             [
              0.4444444444444444,
              "#bd3786"
             ],
             [
              0.5555555555555556,
              "#d8576b"
             ],
             [
              0.6666666666666666,
              "#ed7953"
             ],
             [
              0.7777777777777778,
              "#fb9f3a"
             ],
             [
              0.8888888888888888,
              "#fdca26"
             ],
             [
              1,
              "#f0f921"
             ]
            ],
            "type": "surface"
           }
          ],
          "table": [
           {
            "cells": {
             "fill": {
              "color": "#EBF0F8"
             },
             "line": {
              "color": "white"
             }
            },
            "header": {
             "fill": {
              "color": "#C8D4E3"
             },
             "line": {
              "color": "white"
             }
            },
            "type": "table"
           }
          ]
         },
         "layout": {
          "annotationdefaults": {
           "arrowcolor": "#2a3f5f",
           "arrowhead": 0,
           "arrowwidth": 1
          },
          "autotypenumbers": "strict",
          "coloraxis": {
           "colorbar": {
            "outlinewidth": 0,
            "ticks": ""
           }
          },
          "colorscale": {
           "diverging": [
            [
             0,
             "#8e0152"
            ],
            [
             0.1,
             "#c51b7d"
            ],
            [
             0.2,
             "#de77ae"
            ],
            [
             0.3,
             "#f1b6da"
            ],
            [
             0.4,
             "#fde0ef"
            ],
            [
             0.5,
             "#f7f7f7"
            ],
            [
             0.6,
             "#e6f5d0"
            ],
            [
             0.7,
             "#b8e186"
            ],
            [
             0.8,
             "#7fbc41"
            ],
            [
             0.9,
             "#4d9221"
            ],
            [
             1,
             "#276419"
            ]
           ],
           "sequential": [
            [
             0,
             "#0d0887"
            ],
            [
             0.1111111111111111,
             "#46039f"
            ],
            [
             0.2222222222222222,
             "#7201a8"
            ],
            [
             0.3333333333333333,
             "#9c179e"
            ],
            [
             0.4444444444444444,
             "#bd3786"
            ],
            [
             0.5555555555555556,
             "#d8576b"
            ],
            [
             0.6666666666666666,
             "#ed7953"
            ],
            [
             0.7777777777777778,
             "#fb9f3a"
            ],
            [
             0.8888888888888888,
             "#fdca26"
            ],
            [
             1,
             "#f0f921"
            ]
           ],
           "sequentialminus": [
            [
             0,
             "#0d0887"
            ],
            [
             0.1111111111111111,
             "#46039f"
            ],
            [
             0.2222222222222222,
             "#7201a8"
            ],
            [
             0.3333333333333333,
             "#9c179e"
            ],
            [
             0.4444444444444444,
             "#bd3786"
            ],
            [
             0.5555555555555556,
             "#d8576b"
            ],
            [
             0.6666666666666666,
             "#ed7953"
            ],
            [
             0.7777777777777778,
             "#fb9f3a"
            ],
            [
             0.8888888888888888,
             "#fdca26"
            ],
            [
             1,
             "#f0f921"
            ]
           ]
          },
          "colorway": [
           "#636efa",
           "#EF553B",
           "#00cc96",
           "#ab63fa",
           "#FFA15A",
           "#19d3f3",
           "#FF6692",
           "#B6E880",
           "#FF97FF",
           "#FECB52"
          ],
          "font": {
           "color": "#2a3f5f"
          },
          "geo": {
           "bgcolor": "white",
           "lakecolor": "white",
           "landcolor": "#E5ECF6",
           "showlakes": true,
           "showland": true,
           "subunitcolor": "white"
          },
          "hoverlabel": {
           "align": "left"
          },
          "hovermode": "closest",
          "mapbox": {
           "style": "light"
          },
          "paper_bgcolor": "white",
          "plot_bgcolor": "#E5ECF6",
          "polar": {
           "angularaxis": {
            "gridcolor": "white",
            "linecolor": "white",
            "ticks": ""
           },
           "bgcolor": "#E5ECF6",
           "radialaxis": {
            "gridcolor": "white",
            "linecolor": "white",
            "ticks": ""
           }
          },
          "scene": {
           "xaxis": {
            "backgroundcolor": "#E5ECF6",
            "gridcolor": "white",
            "gridwidth": 2,
            "linecolor": "white",
            "showbackground": true,
            "ticks": "",
            "zerolinecolor": "white"
           },
           "yaxis": {
            "backgroundcolor": "#E5ECF6",
            "gridcolor": "white",
            "gridwidth": 2,
            "linecolor": "white",
            "showbackground": true,
            "ticks": "",
            "zerolinecolor": "white"
           },
           "zaxis": {
            "backgroundcolor": "#E5ECF6",
            "gridcolor": "white",
            "gridwidth": 2,
            "linecolor": "white",
            "showbackground": true,
            "ticks": "",
            "zerolinecolor": "white"
           }
          },
          "shapedefaults": {
           "line": {
            "color": "#2a3f5f"
           }
          },
          "ternary": {
           "aaxis": {
            "gridcolor": "white",
            "linecolor": "white",
            "ticks": ""
           },
           "baxis": {
            "gridcolor": "white",
            "linecolor": "white",
            "ticks": ""
           },
           "bgcolor": "#E5ECF6",
           "caxis": {
            "gridcolor": "white",
            "linecolor": "white",
            "ticks": ""
           }
          },
          "title": {
           "x": 0.05
          },
          "xaxis": {
           "automargin": true,
           "gridcolor": "white",
           "linecolor": "white",
           "ticks": "",
           "title": {
            "standoff": 15
           },
           "zerolinecolor": "white",
           "zerolinewidth": 2
          },
          "yaxis": {
           "automargin": true,
           "gridcolor": "white",
           "linecolor": "white",
           "ticks": "",
           "title": {
            "standoff": 15
           },
           "zerolinecolor": "white",
           "zerolinewidth": 2
          }
         }
        },
        "title": {
         "font": {
          "size": 30
         },
         "text": "GDP"
        },
        "width": 1200,
        "xaxis": {
         "dtick": "2",
         "tickangle": 30,
         "title": {
          "text": "Year"
         }
        },
        "yaxis": {
         "tickformat": ",.0f",
         "title": {
          "text": "Real GDP growth (Annual percent change)"
         }
        }
       }
      }
     },
     "metadata": {},
     "output_type": "display_data"
    }
   ],
   "source": [
    "plot_gdp(df_12,other_advanced_economies)"
   ]
  },
  {
   "cell_type": "code",
   "execution_count": 80,
   "metadata": {},
   "outputs": [
    {
     "data": {
      "application/vnd.plotly.v1+json": {
       "config": {
        "plotlyServerURL": "https://plot.ly"
       },
       "data": [
        {
         "marker": {
          "color": "navy"
         },
         "mode": "lines+markers",
         "name": "Armenia",
         "type": "scatter",
         "x": [
          1980,
          1981,
          1982,
          1983,
          1984,
          1985,
          1986,
          1987,
          1988,
          1989,
          1990,
          1991,
          1992,
          1993,
          1994,
          1995,
          1996,
          1997,
          1998,
          1999,
          2000,
          2001,
          2002,
          2003,
          2004,
          2005,
          2006,
          2007,
          2008,
          2009,
          2010,
          2011,
          2012,
          2013,
          2014,
          2015,
          2016,
          2017,
          2018,
          2019,
          2020,
          2021,
          2022,
          2023,
          2024,
          2025,
          2026,
          2027,
          2028
         ],
         "y": [
          null,
          null,
          null,
          null,
          null,
          null,
          null,
          null,
          null,
          null,
          null,
          null,
          null,
          -14.1,
          5.4,
          8,
          5.2,
          3.4,
          6.3,
          3.2,
          5.9,
          9.5,
          14.8,
          14.1,
          10.5,
          14.1,
          13.2,
          13.7,
          6.9,
          -14.1,
          2.2,
          4.7,
          7.1,
          3.4,
          3.6,
          3.3,
          0.2,
          7.5,
          5.2,
          7.6,
          -7.2,
          5.7,
          12.6,
          5.5,
          5,
          4.5,
          4.5,
          4.5,
          4.5
         ]
        },
        {
         "marker": {
          "color": "orange"
         },
         "mode": "lines+markers",
         "name": "Azerbaijan",
         "type": "scatter",
         "x": [
          1980,
          1981,
          1982,
          1983,
          1984,
          1985,
          1986,
          1987,
          1988,
          1989,
          1990,
          1991,
          1992,
          1993,
          1994,
          1995,
          1996,
          1997,
          1998,
          1999,
          2000,
          2001,
          2002,
          2003,
          2004,
          2005,
          2006,
          2007,
          2008,
          2009,
          2010,
          2011,
          2012,
          2013,
          2014,
          2015,
          2016,
          2017,
          2018,
          2019,
          2020,
          2021,
          2022,
          2023,
          2024,
          2025,
          2026,
          2027,
          2028
         ],
         "y": [
          null,
          null,
          null,
          null,
          null,
          null,
          null,
          null,
          null,
          null,
          null,
          null,
          null,
          -23.1,
          -19.7,
          -13,
          2.5,
          8.9,
          6,
          11.4,
          6.2,
          6.5,
          9.4,
          10.2,
          9.3,
          28,
          34.5,
          25.5,
          10.6,
          9.4,
          4.8,
          -1.6,
          2.2,
          5.8,
          2.8,
          1,
          -3.1,
          0.2,
          1.5,
          2.5,
          -4.2,
          5.6,
          4.6,
          3,
          2.6,
          2.5,
          2.5,
          2.6,
          2.6
         ]
        },
        {
         "marker": {
          "color": "tomato"
         },
         "mode": "lines+markers",
         "name": "Belarus",
         "type": "scatter",
         "x": [
          1980,
          1981,
          1982,
          1983,
          1984,
          1985,
          1986,
          1987,
          1988,
          1989,
          1990,
          1991,
          1992,
          1993,
          1994,
          1995,
          1996,
          1997,
          1998,
          1999,
          2000,
          2001,
          2002,
          2003,
          2004,
          2005,
          2006,
          2007,
          2008,
          2009,
          2010,
          2011,
          2012,
          2013,
          2014,
          2015,
          2016,
          2017,
          2018,
          2019,
          2020,
          2021,
          2022,
          2023,
          2024,
          2025,
          2026,
          2027,
          2028
         ],
         "y": [
          null,
          null,
          4,
          4.3,
          3,
          1.7,
          3.6,
          2.8,
          5.3,
          3,
          -2.3,
          -1.2,
          -9.6,
          -7.6,
          -11.7,
          -11.1,
          2.8,
          11.4,
          8.4,
          3.4,
          5.8,
          4.7,
          5,
          7,
          11.4,
          9.5,
          10,
          8.6,
          10.2,
          0.2,
          7.8,
          5.3,
          1.6,
          1,
          1.7,
          -3.8,
          -2.5,
          2.5,
          3.1,
          1.4,
          -0.7,
          2.3,
          -4.7,
          0.7,
          1.2,
          1,
          0.7,
          0.6,
          0.7
         ]
        },
        {
         "marker": {
          "color": "crimson"
         },
         "mode": "lines+markers",
         "name": "Estonia",
         "type": "scatter",
         "x": [
          1980,
          1981,
          1982,
          1983,
          1984,
          1985,
          1986,
          1987,
          1988,
          1989,
          1990,
          1991,
          1992,
          1993,
          1994,
          1995,
          1996,
          1997,
          1998,
          1999,
          2000,
          2001,
          2002,
          2003,
          2004,
          2005,
          2006,
          2007,
          2008,
          2009,
          2010,
          2011,
          2012,
          2013,
          2014,
          2015,
          2016,
          2017,
          2018,
          2019,
          2020,
          2021,
          2022,
          2023,
          2024,
          2025,
          2026,
          2027,
          2028
         ],
         "y": [
          null,
          null,
          null,
          null,
          null,
          null,
          null,
          null,
          null,
          null,
          null,
          null,
          null,
          null,
          -1.6,
          2.2,
          4.9,
          13,
          4.3,
          -0.4,
          10.1,
          6,
          6.8,
          7.6,
          6.8,
          9.5,
          9.8,
          7.6,
          -5.1,
          -14.6,
          2.4,
          7.3,
          3.2,
          1.5,
          3,
          1.9,
          3.2,
          5.8,
          3.8,
          3.7,
          -0.6,
          8,
          -1.3,
          -1.2,
          3.2,
          3.6,
          3.3,
          3.3,
          3.2
         ]
        },
        {
         "marker": {
          "color": "darkgreen"
         },
         "mode": "lines+markers",
         "name": "Georgia",
         "type": "scatter",
         "x": [
          1980,
          1981,
          1982,
          1983,
          1984,
          1985,
          1986,
          1987,
          1988,
          1989,
          1990,
          1991,
          1992,
          1993,
          1994,
          1995,
          1996,
          1997,
          1998,
          1999,
          2000,
          2001,
          2002,
          2003,
          2004,
          2005,
          2006,
          2007,
          2008,
          2009,
          2010,
          2011,
          2012,
          2013,
          2014,
          2015,
          2016,
          2017,
          2018,
          2019,
          2020,
          2021,
          2022,
          2023,
          2024,
          2025,
          2026,
          2027,
          2028
         ],
         "y": [
          null,
          null,
          null,
          null,
          null,
          null,
          null,
          null,
          null,
          null,
          null,
          -21.1,
          -44.9,
          -29.3,
          -10.4,
          2.6,
          10.5,
          10.5,
          3.1,
          2.9,
          1.8,
          4.8,
          5.5,
          11.1,
          5.8,
          9.6,
          9.4,
          12.6,
          2.4,
          -3.7,
          6.2,
          7.4,
          6.4,
          3.6,
          4.4,
          3,
          2.9,
          4.8,
          4.8,
          5,
          -6.8,
          10.5,
          10.1,
          4,
          5,
          5.2,
          5.2,
          5.2,
          5.2
         ]
        },
        {
         "marker": {
          "color": "brown"
         },
         "mode": "lines+markers",
         "name": "Kazakhstan",
         "type": "scatter",
         "x": [
          1980,
          1981,
          1982,
          1983,
          1984,
          1985,
          1986,
          1987,
          1988,
          1989,
          1990,
          1991,
          1992,
          1993,
          1994,
          1995,
          1996,
          1997,
          1998,
          1999,
          2000,
          2001,
          2002,
          2003,
          2004,
          2005,
          2006,
          2007,
          2008,
          2009,
          2010,
          2011,
          2012,
          2013,
          2014,
          2015,
          2016,
          2017,
          2018,
          2019,
          2020,
          2021,
          2022,
          2023,
          2024,
          2025,
          2026,
          2027,
          2028
         ],
         "y": [
          null,
          null,
          null,
          null,
          null,
          null,
          null,
          null,
          null,
          null,
          null,
          null,
          null,
          -9.2,
          -12.6,
          -8.2,
          0.5,
          1.7,
          -1.9,
          2.7,
          9.8,
          13.5,
          9.8,
          9.3,
          9.6,
          9.7,
          10.7,
          8.9,
          3.3,
          1.2,
          7.3,
          7.5,
          5,
          5.9,
          4.3,
          1,
          0.9,
          3.9,
          4.1,
          4.5,
          -2.6,
          4.1,
          3.2,
          4.3,
          4.9,
          3.4,
          1.7,
          2.7,
          2.8
         ]
        },
        {
         "marker": {
          "color": "forestgreen"
         },
         "mode": "lines+markers",
         "name": "Kyrgyz Republic",
         "type": "scatter",
         "x": [
          1980,
          1981,
          1982,
          1983,
          1984,
          1985,
          1986,
          1987,
          1988,
          1989,
          1990,
          1991,
          1992,
          1993,
          1994,
          1995,
          1996,
          1997,
          1998,
          1999,
          2000,
          2001,
          2002,
          2003,
          2004,
          2005,
          2006,
          2007,
          2008,
          2009,
          2010,
          2011,
          2012,
          2013,
          2014,
          2015,
          2016,
          2017,
          2018,
          2019,
          2020,
          2021,
          2022,
          2023,
          2024,
          2025,
          2026,
          2027,
          2028
         ],
         "y": [
          null,
          null,
          null,
          null,
          null,
          null,
          null,
          null,
          null,
          null,
          null,
          null,
          null,
          -13,
          -19.8,
          -5.4,
          7.1,
          9.9,
          2.1,
          3.7,
          5.4,
          5.3,
          0,
          7,
          7,
          -0.2,
          3.1,
          8.5,
          7.6,
          2.9,
          -0.5,
          6,
          -0.1,
          10.9,
          4,
          3.9,
          4.3,
          4.7,
          3.5,
          4.6,
          -8.6,
          3.7,
          7,
          3.5,
          3.8,
          4,
          4,
          4,
          4
         ]
        },
        {
         "marker": {
          "color": "steelblue"
         },
         "mode": "lines+markers",
         "name": "Latvia",
         "type": "scatter",
         "x": [
          1980,
          1981,
          1982,
          1983,
          1984,
          1985,
          1986,
          1987,
          1988,
          1989,
          1990,
          1991,
          1992,
          1993,
          1994,
          1995,
          1996,
          1997,
          1998,
          1999,
          2000,
          2001,
          2002,
          2003,
          2004,
          2005,
          2006,
          2007,
          2008,
          2009,
          2010,
          2011,
          2012,
          2013,
          2014,
          2015,
          2016,
          2017,
          2018,
          2019,
          2020,
          2021,
          2022,
          2023,
          2024,
          2025,
          2026,
          2027,
          2028
         ],
         "y": [
          null,
          null,
          null,
          null,
          null,
          null,
          null,
          null,
          null,
          null,
          null,
          null,
          null,
          -11.4,
          2.2,
          -2.1,
          2.6,
          8.8,
          6.3,
          2.8,
          5.7,
          6.3,
          7.1,
          8.4,
          8.3,
          10.7,
          12,
          9.9,
          -3.2,
          -14.3,
          -4.5,
          2.6,
          7,
          2,
          1.9,
          3.9,
          2.4,
          3.3,
          4,
          2.6,
          -2.2,
          4.1,
          2,
          0.4,
          2.9,
          3.4,
          3.4,
          3.4,
          3.4
         ]
        },
        {
         "marker": {
          "color": "navy"
         },
         "mode": "lines+markers",
         "name": "Lithuania",
         "type": "scatter",
         "x": [
          1980,
          1981,
          1982,
          1983,
          1984,
          1985,
          1986,
          1987,
          1988,
          1989,
          1990,
          1991,
          1992,
          1993,
          1994,
          1995,
          1996,
          1997,
          1998,
          1999,
          2000,
          2001,
          2002,
          2003,
          2004,
          2005,
          2006,
          2007,
          2008,
          2009,
          2010,
          2011,
          2012,
          2013,
          2014,
          2015,
          2016,
          2017,
          2018,
          2019,
          2020,
          2021,
          2022,
          2023,
          2024,
          2025,
          2026,
          2027,
          2028
         ],
         "y": [
          null,
          null,
          null,
          null,
          null,
          null,
          null,
          null,
          null,
          null,
          null,
          null,
          null,
          null,
          null,
          null,
          5.2,
          8.3,
          7.5,
          -1.1,
          3.7,
          6.5,
          6.8,
          10.6,
          6.6,
          7.7,
          7.4,
          11.1,
          2.6,
          -14.8,
          1.7,
          6,
          3.8,
          3.6,
          3.5,
          2,
          2.5,
          4.3,
          4,
          4.6,
          0,
          6,
          1.9,
          -0.3,
          2.7,
          2.6,
          2.4,
          2.2,
          2
         ]
        },
        {
         "marker": {
          "color": "orange"
         },
         "mode": "lines+markers",
         "name": "Moldova",
         "type": "scatter",
         "x": [
          1980,
          1981,
          1982,
          1983,
          1984,
          1985,
          1986,
          1987,
          1988,
          1989,
          1990,
          1991,
          1992,
          1993,
          1994,
          1995,
          1996,
          1997,
          1998,
          1999,
          2000,
          2001,
          2002,
          2003,
          2004,
          2005,
          2006,
          2007,
          2008,
          2009,
          2010,
          2011,
          2012,
          2013,
          2014,
          2015,
          2016,
          2017,
          2018,
          2019,
          2020,
          2021,
          2022,
          2023,
          2024,
          2025,
          2026,
          2027,
          2028
         ],
         "y": [
          null,
          null,
          null,
          null,
          null,
          null,
          null,
          null,
          null,
          null,
          null,
          -17.5,
          -29.7,
          -1.2,
          -30.9,
          -1.4,
          -5.9,
          1.6,
          -6.5,
          -3.4,
          2.1,
          6.1,
          7.8,
          6.6,
          7.4,
          7.5,
          4.8,
          3,
          7.8,
          -6,
          7.1,
          5.8,
          -0.6,
          9,
          5,
          -0.3,
          4.4,
          4.2,
          4.1,
          3.6,
          -8.3,
          13.9,
          -5.6,
          2,
          4.3,
          5,
          5.1,
          5.1,
          5.1
         ]
        },
        {
         "marker": {
          "color": "tomato"
         },
         "mode": "lines+markers",
         "name": "Russian Federation",
         "type": "scatter",
         "x": [
          1980,
          1981,
          1982,
          1983,
          1984,
          1985,
          1986,
          1987,
          1988,
          1989,
          1990,
          1991,
          1992,
          1993,
          1994,
          1995,
          1996,
          1997,
          1998,
          1999,
          2000,
          2001,
          2002,
          2003,
          2004,
          2005,
          2006,
          2007,
          2008,
          2009,
          2010,
          2011,
          2012,
          2013,
          2014,
          2015,
          2016,
          2017,
          2018,
          2019,
          2020,
          2021,
          2022,
          2023,
          2024,
          2025,
          2026,
          2027,
          2028
         ],
         "y": [
          null,
          null,
          null,
          null,
          null,
          null,
          null,
          null,
          null,
          null,
          null,
          -5,
          -14.5,
          -8.7,
          -12.7,
          -4.1,
          -3.6,
          1.4,
          -5.3,
          6.4,
          10,
          5.1,
          4.7,
          7.3,
          7.2,
          6.4,
          8.2,
          8.5,
          5.2,
          -7.8,
          4.5,
          5.1,
          4,
          1.8,
          0.7,
          -2,
          0.2,
          1.8,
          2.8,
          2.2,
          -2.7,
          5.6,
          -2.1,
          0.7,
          1.3,
          1,
          0.8,
          0.8,
          0.7
         ]
        },
        {
         "marker": {
          "color": "crimson"
         },
         "mode": "lines+markers",
         "name": "Tajikistan",
         "type": "scatter",
         "x": [
          1980,
          1981,
          1982,
          1983,
          1984,
          1985,
          1986,
          1987,
          1988,
          1989,
          1990,
          1991,
          1992,
          1993,
          1994,
          1995,
          1996,
          1997,
          1998,
          1999,
          2000,
          2001,
          2002,
          2003,
          2004,
          2005,
          2006,
          2007,
          2008,
          2009,
          2010,
          2011,
          2012,
          2013,
          2014,
          2015,
          2016,
          2017,
          2018,
          2019,
          2020,
          2021,
          2022,
          2023,
          2024,
          2025,
          2026,
          2027,
          2028
         ],
         "y": [
          null,
          null,
          null,
          null,
          null,
          null,
          null,
          null,
          null,
          null,
          null,
          null,
          null,
          -11.1,
          -21.4,
          -12.5,
          -4.4,
          1.7,
          5.3,
          3.7,
          8.3,
          10.2,
          9.1,
          10.2,
          10.6,
          6.7,
          7,
          7.8,
          7.9,
          3.9,
          6.5,
          7.4,
          7.5,
          7.4,
          6.7,
          6,
          6.9,
          7.1,
          7.6,
          7.4,
          4.4,
          9.4,
          8,
          5,
          4.5,
          4,
          4,
          4,
          4
         ]
        },
        {
         "marker": {
          "color": "darkgreen"
         },
         "mode": "lines+markers",
         "name": "Turkmenistan",
         "type": "scatter",
         "x": [
          1980,
          1981,
          1982,
          1983,
          1984,
          1985,
          1986,
          1987,
          1988,
          1989,
          1990,
          1991,
          1992,
          1993,
          1994,
          1995,
          1996,
          1997,
          1998,
          1999,
          2000,
          2001,
          2002,
          2003,
          2004,
          2005,
          2006,
          2007,
          2008,
          2009,
          2010,
          2011,
          2012,
          2013,
          2014,
          2015,
          2016,
          2017,
          2018,
          2019,
          2020,
          2021,
          2022,
          2023,
          2024,
          2025,
          2026,
          2027,
          2028
         ],
         "y": [
          null,
          null,
          null,
          null,
          null,
          null,
          null,
          null,
          null,
          null,
          null,
          null,
          null,
          -10,
          -17.3,
          -7.2,
          -6.7,
          -11.3,
          6.7,
          16.5,
          18.6,
          20.4,
          15.8,
          17.1,
          14.7,
          13,
          11,
          11.1,
          14.7,
          6.1,
          16.2,
          12.9,
          6.1,
          -0.3,
          3.8,
          3,
          -1,
          4.7,
          0.9,
          -3.4,
          -2.9,
          4.6,
          1.8,
          2.3,
          2.1,
          2.6,
          2.3,
          2.3,
          2.3
         ]
        },
        {
         "marker": {
          "color": "brown"
         },
         "mode": "lines+markers",
         "name": "Ukraine",
         "type": "scatter",
         "x": [
          1980,
          1981,
          1982,
          1983,
          1984,
          1985,
          1986,
          1987,
          1988,
          1989,
          1990,
          1991,
          1992,
          1993,
          1994,
          1995,
          1996,
          1997,
          1998,
          1999,
          2000,
          2001,
          2002,
          2003,
          2004,
          2005,
          2006,
          2007,
          2008,
          2009,
          2010,
          2011,
          2012,
          2013,
          2014,
          2015,
          2016,
          2017,
          2018,
          2019,
          2020,
          2021,
          2022,
          2023,
          2024,
          2025,
          2026,
          2027,
          2028
         ],
         "y": [
          null,
          null,
          null,
          null,
          null,
          null,
          null,
          null,
          null,
          null,
          null,
          null,
          -9.9,
          -14.2,
          -22.9,
          -12.2,
          -10,
          -3,
          -1.9,
          -0.2,
          5.9,
          8.8,
          5.3,
          9.5,
          11.8,
          3.1,
          7.6,
          8.2,
          2.2,
          -15.1,
          4.1,
          5.5,
          0.2,
          0,
          -6.6,
          -9.8,
          2.4,
          2.4,
          3.5,
          3.2,
          -3.8,
          3.4,
          -30.3,
          -3,
          null,
          null,
          null,
          null,
          null
         ]
        },
        {
         "marker": {
          "color": "forestgreen"
         },
         "mode": "lines+markers",
         "name": "Uzbekistan",
         "type": "scatter",
         "x": [
          1980,
          1981,
          1982,
          1983,
          1984,
          1985,
          1986,
          1987,
          1988,
          1989,
          1990,
          1991,
          1992,
          1993,
          1994,
          1995,
          1996,
          1997,
          1998,
          1999,
          2000,
          2001,
          2002,
          2003,
          2004,
          2005,
          2006,
          2007,
          2008,
          2009,
          2010,
          2011,
          2012,
          2013,
          2014,
          2015,
          2016,
          2017,
          2018,
          2019,
          2020,
          2021,
          2022,
          2023,
          2024,
          2025,
          2026,
          2027,
          2028
         ],
         "y": [
          null,
          null,
          null,
          null,
          null,
          null,
          null,
          null,
          null,
          null,
          null,
          null,
          -11.1,
          -2.3,
          -5.2,
          -0.9,
          1.7,
          5.2,
          4.3,
          4.3,
          3.8,
          4.2,
          4,
          4.2,
          7.4,
          7,
          7.5,
          9.5,
          9,
          8.1,
          7.1,
          7.5,
          7.1,
          7.3,
          6.9,
          7.2,
          5.9,
          4.4,
          5.9,
          6,
          2,
          7.4,
          5.7,
          5.3,
          5.5,
          5.5,
          5.5,
          5.5,
          5.5
         ]
        }
       ],
       "layout": {
        "height": 800,
        "legend": {
         "title": {
          "text": "Legend"
         },
         "x": 0,
         "y": 1
        },
        "margin": {
         "b": 0,
         "l": 0,
         "r": 0,
         "t": 50
        },
        "plot_bgcolor": "#F7FAFC",
        "showlegend": true,
        "template": {
         "data": {
          "bar": [
           {
            "error_x": {
             "color": "#2a3f5f"
            },
            "error_y": {
             "color": "#2a3f5f"
            },
            "marker": {
             "line": {
              "color": "#E5ECF6",
              "width": 0.5
             },
             "pattern": {
              "fillmode": "overlay",
              "size": 10,
              "solidity": 0.2
             }
            },
            "type": "bar"
           }
          ],
          "barpolar": [
           {
            "marker": {
             "line": {
              "color": "#E5ECF6",
              "width": 0.5
             },
             "pattern": {
              "fillmode": "overlay",
              "size": 10,
              "solidity": 0.2
             }
            },
            "type": "barpolar"
           }
          ],
          "carpet": [
           {
            "aaxis": {
             "endlinecolor": "#2a3f5f",
             "gridcolor": "white",
             "linecolor": "white",
             "minorgridcolor": "white",
             "startlinecolor": "#2a3f5f"
            },
            "baxis": {
             "endlinecolor": "#2a3f5f",
             "gridcolor": "white",
             "linecolor": "white",
             "minorgridcolor": "white",
             "startlinecolor": "#2a3f5f"
            },
            "type": "carpet"
           }
          ],
          "choropleth": [
           {
            "colorbar": {
             "outlinewidth": 0,
             "ticks": ""
            },
            "type": "choropleth"
           }
          ],
          "contour": [
           {
            "colorbar": {
             "outlinewidth": 0,
             "ticks": ""
            },
            "colorscale": [
             [
              0,
              "#0d0887"
             ],
             [
              0.1111111111111111,
              "#46039f"
             ],
             [
              0.2222222222222222,
              "#7201a8"
             ],
             [
              0.3333333333333333,
              "#9c179e"
             ],
             [
              0.4444444444444444,
              "#bd3786"
             ],
             [
              0.5555555555555556,
              "#d8576b"
             ],
             [
              0.6666666666666666,
              "#ed7953"
             ],
             [
              0.7777777777777778,
              "#fb9f3a"
             ],
             [
              0.8888888888888888,
              "#fdca26"
             ],
             [
              1,
              "#f0f921"
             ]
            ],
            "type": "contour"
           }
          ],
          "contourcarpet": [
           {
            "colorbar": {
             "outlinewidth": 0,
             "ticks": ""
            },
            "type": "contourcarpet"
           }
          ],
          "heatmap": [
           {
            "colorbar": {
             "outlinewidth": 0,
             "ticks": ""
            },
            "colorscale": [
             [
              0,
              "#0d0887"
             ],
             [
              0.1111111111111111,
              "#46039f"
             ],
             [
              0.2222222222222222,
              "#7201a8"
             ],
             [
              0.3333333333333333,
              "#9c179e"
             ],
             [
              0.4444444444444444,
              "#bd3786"
             ],
             [
              0.5555555555555556,
              "#d8576b"
             ],
             [
              0.6666666666666666,
              "#ed7953"
             ],
             [
              0.7777777777777778,
              "#fb9f3a"
             ],
             [
              0.8888888888888888,
              "#fdca26"
             ],
             [
              1,
              "#f0f921"
             ]
            ],
            "type": "heatmap"
           }
          ],
          "heatmapgl": [
           {
            "colorbar": {
             "outlinewidth": 0,
             "ticks": ""
            },
            "colorscale": [
             [
              0,
              "#0d0887"
             ],
             [
              0.1111111111111111,
              "#46039f"
             ],
             [
              0.2222222222222222,
              "#7201a8"
             ],
             [
              0.3333333333333333,
              "#9c179e"
             ],
             [
              0.4444444444444444,
              "#bd3786"
             ],
             [
              0.5555555555555556,
              "#d8576b"
             ],
             [
              0.6666666666666666,
              "#ed7953"
             ],
             [
              0.7777777777777778,
              "#fb9f3a"
             ],
             [
              0.8888888888888888,
              "#fdca26"
             ],
             [
              1,
              "#f0f921"
             ]
            ],
            "type": "heatmapgl"
           }
          ],
          "histogram": [
           {
            "marker": {
             "pattern": {
              "fillmode": "overlay",
              "size": 10,
              "solidity": 0.2
             }
            },
            "type": "histogram"
           }
          ],
          "histogram2d": [
           {
            "colorbar": {
             "outlinewidth": 0,
             "ticks": ""
            },
            "colorscale": [
             [
              0,
              "#0d0887"
             ],
             [
              0.1111111111111111,
              "#46039f"
             ],
             [
              0.2222222222222222,
              "#7201a8"
             ],
             [
              0.3333333333333333,
              "#9c179e"
             ],
             [
              0.4444444444444444,
              "#bd3786"
             ],
             [
              0.5555555555555556,
              "#d8576b"
             ],
             [
              0.6666666666666666,
              "#ed7953"
             ],
             [
              0.7777777777777778,
              "#fb9f3a"
             ],
             [
              0.8888888888888888,
              "#fdca26"
             ],
             [
              1,
              "#f0f921"
             ]
            ],
            "type": "histogram2d"
           }
          ],
          "histogram2dcontour": [
           {
            "colorbar": {
             "outlinewidth": 0,
             "ticks": ""
            },
            "colorscale": [
             [
              0,
              "#0d0887"
             ],
             [
              0.1111111111111111,
              "#46039f"
             ],
             [
              0.2222222222222222,
              "#7201a8"
             ],
             [
              0.3333333333333333,
              "#9c179e"
             ],
             [
              0.4444444444444444,
              "#bd3786"
             ],
             [
              0.5555555555555556,
              "#d8576b"
             ],
             [
              0.6666666666666666,
              "#ed7953"
             ],
             [
              0.7777777777777778,
              "#fb9f3a"
             ],
             [
              0.8888888888888888,
              "#fdca26"
             ],
             [
              1,
              "#f0f921"
             ]
            ],
            "type": "histogram2dcontour"
           }
          ],
          "mesh3d": [
           {
            "colorbar": {
             "outlinewidth": 0,
             "ticks": ""
            },
            "type": "mesh3d"
           }
          ],
          "parcoords": [
           {
            "line": {
             "colorbar": {
              "outlinewidth": 0,
              "ticks": ""
             }
            },
            "type": "parcoords"
           }
          ],
          "pie": [
           {
            "automargin": true,
            "type": "pie"
           }
          ],
          "scatter": [
           {
            "fillpattern": {
             "fillmode": "overlay",
             "size": 10,
             "solidity": 0.2
            },
            "type": "scatter"
           }
          ],
          "scatter3d": [
           {
            "line": {
             "colorbar": {
              "outlinewidth": 0,
              "ticks": ""
             }
            },
            "marker": {
             "colorbar": {
              "outlinewidth": 0,
              "ticks": ""
             }
            },
            "type": "scatter3d"
           }
          ],
          "scattercarpet": [
           {
            "marker": {
             "colorbar": {
              "outlinewidth": 0,
              "ticks": ""
             }
            },
            "type": "scattercarpet"
           }
          ],
          "scattergeo": [
           {
            "marker": {
             "colorbar": {
              "outlinewidth": 0,
              "ticks": ""
             }
            },
            "type": "scattergeo"
           }
          ],
          "scattergl": [
           {
            "marker": {
             "colorbar": {
              "outlinewidth": 0,
              "ticks": ""
             }
            },
            "type": "scattergl"
           }
          ],
          "scattermapbox": [
           {
            "marker": {
             "colorbar": {
              "outlinewidth": 0,
              "ticks": ""
             }
            },
            "type": "scattermapbox"
           }
          ],
          "scatterpolar": [
           {
            "marker": {
             "colorbar": {
              "outlinewidth": 0,
              "ticks": ""
             }
            },
            "type": "scatterpolar"
           }
          ],
          "scatterpolargl": [
           {
            "marker": {
             "colorbar": {
              "outlinewidth": 0,
              "ticks": ""
             }
            },
            "type": "scatterpolargl"
           }
          ],
          "scatterternary": [
           {
            "marker": {
             "colorbar": {
              "outlinewidth": 0,
              "ticks": ""
             }
            },
            "type": "scatterternary"
           }
          ],
          "surface": [
           {
            "colorbar": {
             "outlinewidth": 0,
             "ticks": ""
            },
            "colorscale": [
             [
              0,
              "#0d0887"
             ],
             [
              0.1111111111111111,
              "#46039f"
             ],
             [
              0.2222222222222222,
              "#7201a8"
             ],
             [
              0.3333333333333333,
              "#9c179e"
             ],
             [
              0.4444444444444444,
              "#bd3786"
             ],
             [
              0.5555555555555556,
              "#d8576b"
             ],
             [
              0.6666666666666666,
              "#ed7953"
             ],
             [
              0.7777777777777778,
              "#fb9f3a"
             ],
             [
              0.8888888888888888,
              "#fdca26"
             ],
             [
              1,
              "#f0f921"
             ]
            ],
            "type": "surface"
           }
          ],
          "table": [
           {
            "cells": {
             "fill": {
              "color": "#EBF0F8"
             },
             "line": {
              "color": "white"
             }
            },
            "header": {
             "fill": {
              "color": "#C8D4E3"
             },
             "line": {
              "color": "white"
             }
            },
            "type": "table"
           }
          ]
         },
         "layout": {
          "annotationdefaults": {
           "arrowcolor": "#2a3f5f",
           "arrowhead": 0,
           "arrowwidth": 1
          },
          "autotypenumbers": "strict",
          "coloraxis": {
           "colorbar": {
            "outlinewidth": 0,
            "ticks": ""
           }
          },
          "colorscale": {
           "diverging": [
            [
             0,
             "#8e0152"
            ],
            [
             0.1,
             "#c51b7d"
            ],
            [
             0.2,
             "#de77ae"
            ],
            [
             0.3,
             "#f1b6da"
            ],
            [
             0.4,
             "#fde0ef"
            ],
            [
             0.5,
             "#f7f7f7"
            ],
            [
             0.6,
             "#e6f5d0"
            ],
            [
             0.7,
             "#b8e186"
            ],
            [
             0.8,
             "#7fbc41"
            ],
            [
             0.9,
             "#4d9221"
            ],
            [
             1,
             "#276419"
            ]
           ],
           "sequential": [
            [
             0,
             "#0d0887"
            ],
            [
             0.1111111111111111,
             "#46039f"
            ],
            [
             0.2222222222222222,
             "#7201a8"
            ],
            [
             0.3333333333333333,
             "#9c179e"
            ],
            [
             0.4444444444444444,
             "#bd3786"
            ],
            [
             0.5555555555555556,
             "#d8576b"
            ],
            [
             0.6666666666666666,
             "#ed7953"
            ],
            [
             0.7777777777777778,
             "#fb9f3a"
            ],
            [
             0.8888888888888888,
             "#fdca26"
            ],
            [
             1,
             "#f0f921"
            ]
           ],
           "sequentialminus": [
            [
             0,
             "#0d0887"
            ],
            [
             0.1111111111111111,
             "#46039f"
            ],
            [
             0.2222222222222222,
             "#7201a8"
            ],
            [
             0.3333333333333333,
             "#9c179e"
            ],
            [
             0.4444444444444444,
             "#bd3786"
            ],
            [
             0.5555555555555556,
             "#d8576b"
            ],
            [
             0.6666666666666666,
             "#ed7953"
            ],
            [
             0.7777777777777778,
             "#fb9f3a"
            ],
            [
             0.8888888888888888,
             "#fdca26"
            ],
            [
             1,
             "#f0f921"
            ]
           ]
          },
          "colorway": [
           "#636efa",
           "#EF553B",
           "#00cc96",
           "#ab63fa",
           "#FFA15A",
           "#19d3f3",
           "#FF6692",
           "#B6E880",
           "#FF97FF",
           "#FECB52"
          ],
          "font": {
           "color": "#2a3f5f"
          },
          "geo": {
           "bgcolor": "white",
           "lakecolor": "white",
           "landcolor": "#E5ECF6",
           "showlakes": true,
           "showland": true,
           "subunitcolor": "white"
          },
          "hoverlabel": {
           "align": "left"
          },
          "hovermode": "closest",
          "mapbox": {
           "style": "light"
          },
          "paper_bgcolor": "white",
          "plot_bgcolor": "#E5ECF6",
          "polar": {
           "angularaxis": {
            "gridcolor": "white",
            "linecolor": "white",
            "ticks": ""
           },
           "bgcolor": "#E5ECF6",
           "radialaxis": {
            "gridcolor": "white",
            "linecolor": "white",
            "ticks": ""
           }
          },
          "scene": {
           "xaxis": {
            "backgroundcolor": "#E5ECF6",
            "gridcolor": "white",
            "gridwidth": 2,
            "linecolor": "white",
            "showbackground": true,
            "ticks": "",
            "zerolinecolor": "white"
           },
           "yaxis": {
            "backgroundcolor": "#E5ECF6",
            "gridcolor": "white",
            "gridwidth": 2,
            "linecolor": "white",
            "showbackground": true,
            "ticks": "",
            "zerolinecolor": "white"
           },
           "zaxis": {
            "backgroundcolor": "#E5ECF6",
            "gridcolor": "white",
            "gridwidth": 2,
            "linecolor": "white",
            "showbackground": true,
            "ticks": "",
            "zerolinecolor": "white"
           }
          },
          "shapedefaults": {
           "line": {
            "color": "#2a3f5f"
           }
          },
          "ternary": {
           "aaxis": {
            "gridcolor": "white",
            "linecolor": "white",
            "ticks": ""
           },
           "baxis": {
            "gridcolor": "white",
            "linecolor": "white",
            "ticks": ""
           },
           "bgcolor": "#E5ECF6",
           "caxis": {
            "gridcolor": "white",
            "linecolor": "white",
            "ticks": ""
           }
          },
          "title": {
           "x": 0.05
          },
          "xaxis": {
           "automargin": true,
           "gridcolor": "white",
           "linecolor": "white",
           "ticks": "",
           "title": {
            "standoff": 15
           },
           "zerolinecolor": "white",
           "zerolinewidth": 2
          },
          "yaxis": {
           "automargin": true,
           "gridcolor": "white",
           "linecolor": "white",
           "ticks": "",
           "title": {
            "standoff": 15
           },
           "zerolinecolor": "white",
           "zerolinewidth": 2
          }
         }
        },
        "title": {
         "font": {
          "size": 30
         },
         "text": "GDP"
        },
        "width": 1200,
        "xaxis": {
         "dtick": "2",
         "tickangle": 30,
         "title": {
          "text": "Year"
         }
        },
        "yaxis": {
         "tickformat": ",.0f",
         "title": {
          "text": "Real GDP growth (Annual percent change)"
         }
        }
       }
      }
     },
     "metadata": {},
     "output_type": "display_data"
    }
   ],
   "source": [
    "plot_gdp(df_12,soviet_union_countries)"
   ]
  },
  {
   "cell_type": "code",
   "execution_count": 82,
   "metadata": {},
   "outputs": [
    {
     "data": {
      "application/vnd.plotly.v1+json": {
       "config": {
        "plotlyServerURL": "https://plot.ly"
       },
       "data": [
        {
         "marker": {
          "color": "navy"
         },
         "mode": "lines+markers",
         "name": "Angola",
         "type": "scatter",
         "x": [
          1980,
          1981,
          1982,
          1983,
          1984,
          1985,
          1986,
          1987,
          1988,
          1989,
          1990,
          1991,
          1992,
          1993,
          1994,
          1995,
          1996,
          1997,
          1998,
          1999,
          2000,
          2001,
          2002,
          2003,
          2004,
          2005,
          2006,
          2007,
          2008,
          2009,
          2010,
          2011,
          2012,
          2013,
          2014,
          2015,
          2016,
          2017,
          2018,
          2019,
          2020,
          2021,
          2022,
          2023,
          2024,
          2025,
          2026,
          2027,
          2028
         ],
         "y": [
          2.4,
          -4.4,
          0,
          4.2,
          6,
          3.5,
          2.9,
          4.1,
          6.1,
          0,
          -3.5,
          12.1,
          11.4,
          11,
          10.5,
          10.4,
          11.2,
          7.3,
          4.7,
          2.2,
          3.1,
          4.2,
          13.7,
          3,
          11,
          15,
          11.5,
          14,
          11.2,
          0.9,
          4.9,
          3.5,
          8.5,
          5,
          4.8,
          0.9,
          -2.6,
          -0.2,
          -1.3,
          -0.7,
          -5.6,
          1.1,
          2.8,
          3.5,
          3.7,
          4,
          4.1,
          4.2,
          4.2
         ]
        },
        {
         "marker": {
          "color": "orange"
         },
         "mode": "lines+markers",
         "name": "Benin",
         "type": "scatter",
         "x": [
          1980,
          1981,
          1982,
          1983,
          1984,
          1985,
          1986,
          1987,
          1988,
          1989,
          1990,
          1991,
          1992,
          1993,
          1994,
          1995,
          1996,
          1997,
          1998,
          1999,
          2000,
          2001,
          2002,
          2003,
          2004,
          2005,
          2006,
          2007,
          2008,
          2009,
          2010,
          2011,
          2012,
          2013,
          2014,
          2015,
          2016,
          2017,
          2018,
          2019,
          2020,
          2021,
          2022,
          2023,
          2024,
          2025,
          2026,
          2027,
          2028
         ],
         "y": [
          9.3,
          1.9,
          1.7,
          -2,
          0.4,
          4.3,
          2.7,
          -2.1,
          3.4,
          -2.8,
          9,
          4.2,
          3,
          5.8,
          2,
          6,
          4.3,
          5.7,
          4,
          4.4,
          5.9,
          5.3,
          4.6,
          3.4,
          4.4,
          1.7,
          3.9,
          6,
          4.9,
          2.3,
          2.1,
          3,
          4.8,
          7.2,
          6.4,
          1.8,
          3.3,
          5.7,
          6.7,
          6.9,
          3.8,
          7.2,
          6,
          6,
          5.9,
          6.1,
          6,
          6,
          5.9
         ]
        },
        {
         "marker": {
          "color": "tomato"
         },
         "mode": "lines+markers",
         "name": "Botswana",
         "type": "scatter",
         "x": [
          1980,
          1981,
          1982,
          1983,
          1984,
          1985,
          1986,
          1987,
          1988,
          1989,
          1990,
          1991,
          1992,
          1993,
          1994,
          1995,
          1996,
          1997,
          1998,
          1999,
          2000,
          2001,
          2002,
          2003,
          2004,
          2005,
          2006,
          2007,
          2008,
          2009,
          2010,
          2011,
          2012,
          2013,
          2014,
          2015,
          2016,
          2017,
          2018,
          2019,
          2020,
          2021,
          2022,
          2023,
          2024,
          2025,
          2026,
          2027,
          2028
         ],
         "y": [
          12,
          8.2,
          15.9,
          10.8,
          6.5,
          7.7,
          8.6,
          14.9,
          23.4,
          4.7,
          8.8,
          6.2,
          -0.2,
          4,
          -0.8,
          8.5,
          2.5,
          7.1,
          -1.6,
          8,
          4.3,
          2.3,
          7.4,
          5.4,
          1.4,
          5,
          6,
          5.8,
          3.3,
          -14.1,
          10.1,
          6.8,
          -0.2,
          11.1,
          5.7,
          -4.9,
          7.2,
          4.1,
          4.2,
          3,
          -8.7,
          11.8,
          6.4,
          3.7,
          4.3,
          4,
          4,
          4,
          4
         ]
        },
        {
         "marker": {
          "color": "crimson"
         },
         "mode": "lines+markers",
         "name": "Burkina Faso",
         "type": "scatter",
         "x": [
          1980,
          1981,
          1982,
          1983,
          1984,
          1985,
          1986,
          1987,
          1988,
          1989,
          1990,
          1991,
          1992,
          1993,
          1994,
          1995,
          1996,
          1997,
          1998,
          1999,
          2000,
          2001,
          2002,
          2003,
          2004,
          2005,
          2006,
          2007,
          2008,
          2009,
          2010,
          2011,
          2012,
          2013,
          2014,
          2015,
          2016,
          2017,
          2018,
          2019,
          2020,
          2021,
          2022,
          2023,
          2024,
          2025,
          2026,
          2027,
          2028
         ],
         "y": [
          4,
          2.7,
          1.4,
          -1.2,
          1.6,
          11.3,
          8,
          -0.2,
          5.8,
          2.2,
          -0.6,
          9.1,
          0.2,
          3.5,
          1.3,
          5.7,
          11,
          6.3,
          7.3,
          7.3,
          1.9,
          6.6,
          4.4,
          7.8,
          4.5,
          8.7,
          6.3,
          4.1,
          5.8,
          3,
          8.4,
          6.6,
          6.5,
          5.8,
          4.3,
          3.9,
          6,
          6.2,
          6.6,
          5.7,
          1.9,
          6.9,
          2.5,
          4.9,
          5.9,
          5.8,
          5.3,
          5.2,
          5.2
         ]
        },
        {
         "marker": {
          "color": "darkgreen"
         },
         "mode": "lines+markers",
         "name": "Burundi",
         "type": "scatter",
         "x": [
          1980,
          1981,
          1982,
          1983,
          1984,
          1985,
          1986,
          1987,
          1988,
          1989,
          1990,
          1991,
          1992,
          1993,
          1994,
          1995,
          1996,
          1997,
          1998,
          1999,
          2000,
          2001,
          2002,
          2003,
          2004,
          2005,
          2006,
          2007,
          2008,
          2009,
          2010,
          2011,
          2012,
          2013,
          2014,
          2015,
          2016,
          2017,
          2018,
          2019,
          2020,
          2021,
          2022,
          2023,
          2024,
          2025,
          2026,
          2027,
          2028
         ],
         "y": [
          -6.8,
          12.2,
          -1.1,
          3.7,
          0.2,
          11.8,
          3.2,
          5.5,
          5,
          1.3,
          3.5,
          5.8,
          1,
          -6.2,
          -3.8,
          -7.9,
          -8,
          0.4,
          4.8,
          1.2,
          1.8,
          1.7,
          2.4,
          2.5,
          3.8,
          4.4,
          5.4,
          3.5,
          4.9,
          3.8,
          5.1,
          4,
          4.4,
          4.9,
          4.2,
          -3.9,
          -0.6,
          0.5,
          1.6,
          1.8,
          0.3,
          3.1,
          1.8,
          3.3,
          6,
          5.9,
          5.7,
          5.9,
          5.5
         ]
        },
        {
         "marker": {
          "color": "brown"
         },
         "mode": "lines+markers",
         "name": "Cabo Verde",
         "type": "scatter",
         "x": [
          1980,
          1981,
          1982,
          1983,
          1984,
          1985,
          1986,
          1987,
          1988,
          1989,
          1990,
          1991,
          1992,
          1993,
          1994,
          1995,
          1996,
          1997,
          1998,
          1999,
          2000,
          2001,
          2002,
          2003,
          2004,
          2005,
          2006,
          2007,
          2008,
          2009,
          2010,
          2011,
          2012,
          2013,
          2014,
          2015,
          2016,
          2017,
          2018,
          2019,
          2020,
          2021,
          2022,
          2023,
          2024,
          2025,
          2026,
          2027,
          2028
         ],
         "y": [
          5.3,
          8.4,
          2.8,
          9.5,
          3.8,
          8.6,
          2.9,
          4.3,
          6,
          5.7,
          0.7,
          1.4,
          3,
          7.3,
          6.9,
          7.5,
          6.7,
          7.6,
          8.4,
          11.9,
          7.3,
          6.1,
          5.3,
          7.5,
          4.9,
          5.8,
          9.1,
          9.2,
          6.7,
          -1.3,
          1.5,
          4,
          1.1,
          0.8,
          0.6,
          1,
          4.7,
          3.7,
          14.6,
          5.7,
          -14.8,
          7,
          10.5,
          4.4,
          5.4,
          5.3,
          5,
          4.5,
          4.5
         ]
        },
        {
         "marker": {
          "color": "forestgreen"
         },
         "mode": "lines+markers",
         "name": "Cameroon",
         "type": "scatter",
         "x": [
          1980,
          1981,
          1982,
          1983,
          1984,
          1985,
          1986,
          1987,
          1988,
          1989,
          1990,
          1991,
          1992,
          1993,
          1994,
          1995,
          1996,
          1997,
          1998,
          1999,
          2000,
          2001,
          2002,
          2003,
          2004,
          2005,
          2006,
          2007,
          2008,
          2009,
          2010,
          2011,
          2012,
          2013,
          2014,
          2015,
          2016,
          2017,
          2018,
          2019,
          2020,
          2021,
          2022,
          2023,
          2024,
          2025,
          2026,
          2027,
          2028
         ],
         "y": [
          9.9,
          17.1,
          7.6,
          6.8,
          7.5,
          8.1,
          6.8,
          -2.2,
          -7.9,
          -1.8,
          -6.2,
          -3.8,
          -3.1,
          -3.2,
          -2.5,
          3.3,
          4.9,
          5.3,
          4.9,
          4.1,
          3.4,
          3.4,
          4.8,
          5,
          6.6,
          1.2,
          3.5,
          4.1,
          2.9,
          2.6,
          2.9,
          3.5,
          4.5,
          5,
          5.8,
          5.6,
          4.5,
          3.5,
          4,
          3.4,
          0.5,
          3.6,
          3.4,
          4.3,
          4.4,
          4.5,
          4.6,
          4.7,
          4.7
         ]
        },
        {
         "marker": {
          "color": "steelblue"
         },
         "mode": "lines+markers",
         "name": "Central African Republic",
         "type": "scatter",
         "x": [
          1980,
          1981,
          1982,
          1983,
          1984,
          1985,
          1986,
          1987,
          1988,
          1989,
          1990,
          1991,
          1992,
          1993,
          1994,
          1995,
          1996,
          1997,
          1998,
          1999,
          2000,
          2001,
          2002,
          2003,
          2004,
          2005,
          2006,
          2007,
          2008,
          2009,
          2010,
          2011,
          2012,
          2013,
          2014,
          2015,
          2016,
          2017,
          2018,
          2019,
          2020,
          2021,
          2022,
          2023,
          2024,
          2025,
          2026,
          2027,
          2028
         ],
         "y": [
          -3,
          13,
          -3.6,
          -6,
          9.9,
          3.7,
          7.2,
          0,
          1.7,
          3.8,
          1.4,
          -0.8,
          -4.9,
          -1.2,
          12.6,
          3.2,
          -6.2,
          4.1,
          3.3,
          2.9,
          -3.6,
          2.6,
          2.1,
          -2.2,
          -0.1,
          2.9,
          4.8,
          4,
          2.6,
          2.8,
          4.6,
          4.2,
          5.1,
          -36.4,
          0.1,
          4.3,
          4.7,
          4.5,
          3.8,
          3,
          1,
          1,
          0.4,
          2.5,
          3.8,
          3.8,
          3.8,
          3.7,
          3.3
         ]
        },
        {
         "marker": {
          "color": "navy"
         },
         "mode": "lines+markers",
         "name": "Chad",
         "type": "scatter",
         "x": [
          1980,
          1981,
          1982,
          1983,
          1984,
          1985,
          1986,
          1987,
          1988,
          1989,
          1990,
          1991,
          1992,
          1993,
          1994,
          1995,
          1996,
          1997,
          1998,
          1999,
          2000,
          2001,
          2002,
          2003,
          2004,
          2005,
          2006,
          2007,
          2008,
          2009,
          2010,
          2011,
          2012,
          2013,
          2014,
          2015,
          2016,
          2017,
          2018,
          2019,
          2020,
          2021,
          2022,
          2023,
          2024,
          2025,
          2026,
          2027,
          2028
         ],
         "y": [
          -6,
          -10.8,
          5.4,
          15.7,
          5.3,
          7.9,
          6,
          3.6,
          7.5,
          2,
          3.2,
          10.4,
          2.4,
          -2.1,
          5.5,
          -0.8,
          2.1,
          5.7,
          7,
          -0.7,
          -0.9,
          11.7,
          8.5,
          14.7,
          33.6,
          8.3,
          0.6,
          3.3,
          3.1,
          4.1,
          13.6,
          0.1,
          8.8,
          5.8,
          6.9,
          1.8,
          -5.6,
          -2.4,
          2.4,
          3.4,
          -2.1,
          -1.1,
          2.5,
          3.5,
          3.7,
          3.4,
          3.8,
          3.7,
          3.7
         ]
        },
        {
         "marker": {
          "color": "orange"
         },
         "mode": "lines+markers",
         "name": "Comoros",
         "type": "scatter",
         "x": [
          1980,
          1981,
          1982,
          1983,
          1984,
          1985,
          1986,
          1987,
          1988,
          1989,
          1990,
          1991,
          1992,
          1993,
          1994,
          1995,
          1996,
          1997,
          1998,
          1999,
          2000,
          2001,
          2002,
          2003,
          2004,
          2005,
          2006,
          2007,
          2008,
          2009,
          2010,
          2011,
          2012,
          2013,
          2014,
          2015,
          2016,
          2017,
          2018,
          2019,
          2020,
          2021,
          2022,
          2023,
          2024,
          2025,
          2026,
          2027,
          2028
         ],
         "y": [
          7.4,
          5.5,
          4.1,
          3.1,
          4.2,
          2.9,
          2.2,
          2.2,
          5.1,
          -0.8,
          7.4,
          -6.2,
          7.4,
          2.5,
          -4,
          5.6,
          -0.5,
          4.4,
          0,
          2.7,
          -1,
          5.4,
          4.6,
          2,
          3.1,
          5.7,
          -1.8,
          0.8,
          4,
          3.2,
          3.8,
          4.1,
          3.2,
          4.5,
          2.1,
          1.1,
          3.3,
          3.8,
          3.6,
          1.8,
          -0.2,
          2.1,
          2.4,
          3,
          3.6,
          4.1,
          4.3,
          4.3,
          4.2
         ]
        },
        {
         "marker": {
          "color": "tomato"
         },
         "mode": "lines+markers",
         "name": "Dem. Rep. of the Congo",
         "type": "scatter",
         "x": [
          1980,
          1981,
          1982,
          1983,
          1984,
          1985,
          1986,
          1987,
          1988,
          1989,
          1990,
          1991,
          1992,
          1993,
          1994,
          1995,
          1996,
          1997,
          1998,
          1999,
          2000,
          2001,
          2002,
          2003,
          2004,
          2005,
          2006,
          2007,
          2008,
          2009,
          2010,
          2011,
          2012,
          2013,
          2014,
          2015,
          2016,
          2017,
          2018,
          2019,
          2020,
          2021,
          2022,
          2023,
          2024,
          2025,
          2026,
          2027,
          2028
         ],
         "y": [
          2.4,
          0.9,
          -0.5,
          1.4,
          4.8,
          0.5,
          4.7,
          2.7,
          0.5,
          -1.3,
          -6.6,
          -8.4,
          -10.5,
          -13.5,
          -6.1,
          2.8,
          -1.9,
          -7.8,
          -3.9,
          -3.8,
          -8.1,
          -2.1,
          2.9,
          6.6,
          7.7,
          9.8,
          5.1,
          8.5,
          7.4,
          0.6,
          7.8,
          7.6,
          8.7,
          9.6,
          7.3,
          6.4,
          0.4,
          3.7,
          4.8,
          4.5,
          1.7,
          6.2,
          6.6,
          6.3,
          6.5,
          6.8,
          7,
          6.7,
          6.5
         ]
        },
        {
         "marker": {
          "color": "crimson"
         },
         "mode": "lines+markers",
         "name": "Republic of Congo",
         "type": "scatter",
         "x": [
          1980,
          1981,
          1982,
          1983,
          1984,
          1985,
          1986,
          1987,
          1988,
          1989,
          1990,
          1991,
          1992,
          1993,
          1994,
          1995,
          1996,
          1997,
          1998,
          1999,
          2000,
          2001,
          2002,
          2003,
          2004,
          2005,
          2006,
          2007,
          2008,
          2009,
          2010,
          2011,
          2012,
          2013,
          2014,
          2015,
          2016,
          2017,
          2018,
          2019,
          2020,
          2021,
          2022,
          2023,
          2024,
          2025,
          2026,
          2027,
          2028
         ],
         "y": [
          12.7,
          2.6,
          2.4,
          2.4,
          2.4,
          2.4,
          2.3,
          2.3,
          21.9,
          21.3,
          1,
          3.4,
          4.2,
          1.3,
          -1.4,
          4,
          3.5,
          -1,
          8.9,
          -3.7,
          11.8,
          -4.8,
          1,
          0.5,
          -0.2,
          9.2,
          8,
          -6.6,
          6.3,
          11.6,
          9.9,
          2.2,
          9.9,
          -0.7,
          6.7,
          -3.6,
          -10.8,
          -4.4,
          -4.8,
          1,
          -6.2,
          1.5,
          2.8,
          4.1,
          4.6,
          3.5,
          4,
          4.1,
          4
         ]
        },
        {
         "marker": {
          "color": "darkgreen"
         },
         "mode": "lines+markers",
         "name": "Côte d'Ivoire",
         "type": "scatter",
         "x": [
          1980,
          1981,
          1982,
          1983,
          1984,
          1985,
          1986,
          1987,
          1988,
          1989,
          1990,
          1991,
          1992,
          1993,
          1994,
          1995,
          1996,
          1997,
          1998,
          1999,
          2000,
          2001,
          2002,
          2003,
          2004,
          2005,
          2006,
          2007,
          2008,
          2009,
          2010,
          2011,
          2012,
          2013,
          2014,
          2015,
          2016,
          2017,
          2018,
          2019,
          2020,
          2021,
          2022,
          2023,
          2024,
          2025,
          2026,
          2027,
          2028
         ],
         "y": [
          5.2,
          3.5,
          0.2,
          -2.5,
          -2,
          3.6,
          4.8,
          -0.5,
          1.1,
          3,
          -1.1,
          0,
          -0.3,
          -0.2,
          0.2,
          5.6,
          8.1,
          5.7,
          4.9,
          1.6,
          -2.1,
          0.1,
          -1.7,
          -1.4,
          1.2,
          1.7,
          1.5,
          1.8,
          2.5,
          3.3,
          2,
          -4.9,
          10.9,
          9.3,
          8.8,
          8.8,
          7.2,
          6.1,
          3.8,
          8.3,
          1.7,
          7,
          6.7,
          6.2,
          6.6,
          6.4,
          6.3,
          6.1,
          6
         ]
        },
        {
         "marker": {
          "color": "brown"
         },
         "mode": "lines+markers",
         "name": "Djibouti",
         "type": "scatter",
         "x": [
          1980,
          1981,
          1982,
          1983,
          1984,
          1985,
          1986,
          1987,
          1988,
          1989,
          1990,
          1991,
          1992,
          1993,
          1994,
          1995,
          1996,
          1997,
          1998,
          1999,
          2000,
          2001,
          2002,
          2003,
          2004,
          2005,
          2006,
          2007,
          2008,
          2009,
          2010,
          2011,
          2012,
          2013,
          2014,
          2015,
          2016,
          2017,
          2018,
          2019,
          2020,
          2021,
          2022,
          2023,
          2024,
          2025,
          2026,
          2027,
          2028
         ],
         "y": [
          null,
          null,
          null,
          null,
          null,
          null,
          null,
          null,
          null,
          null,
          null,
          -4.5,
          0.6,
          -6.8,
          -1.4,
          -3.5,
          -3.7,
          -1.2,
          0.1,
          2.9,
          0.7,
          1.8,
          3.2,
          3.2,
          2.8,
          3.1,
          4.8,
          5,
          5.8,
          1.6,
          4.1,
          7.3,
          4.8,
          5,
          7.1,
          7.5,
          7.1,
          5.5,
          4.8,
          5.5,
          1.2,
          4.8,
          2.5,
          4,
          6,
          5.5,
          5,
          5,
          5
         ]
        },
        {
         "marker": {
          "color": "forestgreen"
         },
         "mode": "lines+markers",
         "name": "Equatorial Guinea",
         "type": "scatter",
         "x": [
          1980,
          1981,
          1982,
          1983,
          1984,
          1985,
          1986,
          1987,
          1988,
          1989,
          1990,
          1991,
          1992,
          1993,
          1994,
          1995,
          1996,
          1997,
          1998,
          1999,
          2000,
          2001,
          2002,
          2003,
          2004,
          2005,
          2006,
          2007,
          2008,
          2009,
          2010,
          2011,
          2012,
          2013,
          2014,
          2015,
          2016,
          2017,
          2018,
          2019,
          2020,
          2021,
          2022,
          2023,
          2024,
          2025,
          2026,
          2027,
          2028
         ],
         "y": [
          4.8,
          5.8,
          2.2,
          5,
          1,
          12.9,
          -2.3,
          4.4,
          2.7,
          -1.2,
          2.5,
          -1.2,
          33,
          10.5,
          16.8,
          26.5,
          52.7,
          148,
          24.8,
          26.4,
          110.5,
          60,
          19.6,
          14.5,
          30.4,
          8.2,
          6.5,
          15.3,
          17.8,
          1.3,
          -8.9,
          6.5,
          8.3,
          -4.1,
          0.4,
          -9.1,
          -8.8,
          -5.7,
          -6.2,
          -5.5,
          -4.2,
          -3.2,
          1.6,
          -1.8,
          -8.2,
          -8.6,
          -1.6,
          -1.1,
          -0.3
         ]
        },
        {
         "marker": {
          "color": "steelblue"
         },
         "mode": "lines+markers",
         "name": "Eritrea",
         "type": "scatter",
         "x": [
          1980,
          1981,
          1982,
          1983,
          1984,
          1985,
          1986,
          1987,
          1988,
          1989,
          1990,
          1991,
          1992,
          1993,
          1994,
          1995,
          1996,
          1997,
          1998,
          1999,
          2000,
          2001,
          2002,
          2003,
          2004,
          2005,
          2006,
          2007,
          2008,
          2009,
          2010,
          2011,
          2012,
          2013,
          2014,
          2015,
          2016,
          2017,
          2018,
          2019,
          2020,
          2021,
          2022,
          2023,
          2024,
          2025,
          2026,
          2027,
          2028
         ],
         "y": [
          null,
          null,
          null,
          null,
          null,
          null,
          null,
          null,
          null,
          null,
          null,
          null,
          null,
          12.9,
          20.9,
          2.3,
          9.1,
          7.9,
          2,
          0.2,
          -12.4,
          8.8,
          3,
          -2.7,
          1.5,
          2.6,
          -1,
          1.4,
          -19.4,
          12.2,
          10.9,
          25.7,
          1.9,
          -10.5,
          30.9,
          -20.6,
          7.4,
          -10,
          13,
          3.8,
          -0.5,
          2.9,
          2.6,
          2.8,
          2.9,
          2.9,
          2.9,
          2.9,
          2.9
         ]
        },
        {
         "marker": {
          "color": "navy"
         },
         "mode": "lines+markers",
         "name": "Eswatini",
         "type": "scatter",
         "x": [
          1980,
          1981,
          1982,
          1983,
          1984,
          1985,
          1986,
          1987,
          1988,
          1989,
          1990,
          1991,
          1992,
          1993,
          1994,
          1995,
          1996,
          1997,
          1998,
          1999,
          2000,
          2001,
          2002,
          2003,
          2004,
          2005,
          2006,
          2007,
          2008,
          2009,
          2010,
          2011,
          2012,
          2013,
          2014,
          2015,
          2016,
          2017,
          2018,
          2019,
          2020,
          2021,
          2022,
          2023,
          2024,
          2025,
          2026,
          2027,
          2028
         ],
         "y": [
          -3.8,
          6.9,
          1.4,
          -0.5,
          2.5,
          1.9,
          18.6,
          10,
          7.6,
          9.4,
          9.9,
          1.8,
          3.2,
          3.1,
          2.4,
          4.8,
          3.8,
          3.1,
          2.6,
          3,
          1.8,
          1.1,
          4.4,
          3.9,
          3.6,
          6,
          6,
          4.4,
          0.8,
          1.6,
          3.8,
          2.2,
          5.4,
          3.9,
          0.9,
          2.2,
          1.1,
          2,
          2.4,
          2.7,
          -1.6,
          7.9,
          0.5,
          2.8,
          2.5,
          2.6,
          2.5,
          2.4,
          2.4
         ]
        },
        {
         "marker": {
          "color": "orange"
         },
         "mode": "lines+markers",
         "name": "Ethiopia",
         "type": "scatter",
         "x": [
          1980,
          1981,
          1982,
          1983,
          1984,
          1985,
          1986,
          1987,
          1988,
          1989,
          1990,
          1991,
          1992,
          1993,
          1994,
          1995,
          1996,
          1997,
          1998,
          1999,
          2000,
          2001,
          2002,
          2003,
          2004,
          2005,
          2006,
          2007,
          2008,
          2009,
          2010,
          2011,
          2012,
          2013,
          2014,
          2015,
          2016,
          2017,
          2018,
          2019,
          2020,
          2021,
          2022,
          2023,
          2024,
          2025,
          2026,
          2027,
          2028
         ],
         "y": [
          4,
          0,
          1,
          7.8,
          -2.3,
          -11.4,
          9.7,
          13.9,
          0.6,
          -0.5,
          2.6,
          -7.2,
          -8.9,
          13.4,
          3.5,
          6.1,
          13.5,
          2.8,
          -4.2,
          6.3,
          9.8,
          7.4,
          1.6,
          -2.1,
          11.7,
          12.6,
          11.5,
          11.8,
          11.2,
          10,
          10.6,
          11.4,
          8.7,
          9.9,
          10.3,
          10.4,
          8,
          10.2,
          7.7,
          9,
          6.1,
          6.3,
          6.4,
          6.1,
          6.4,
          6.5,
          6.7,
          6.8,
          7
         ]
        },
        {
         "marker": {
          "color": "tomato"
         },
         "mode": "lines+markers",
         "name": "Gabon",
         "type": "scatter",
         "x": [
          1980,
          1981,
          1982,
          1983,
          1984,
          1985,
          1986,
          1987,
          1988,
          1989,
          1990,
          1991,
          1992,
          1993,
          1994,
          1995,
          1996,
          1997,
          1998,
          1999,
          2000,
          2001,
          2002,
          2003,
          2004,
          2005,
          2006,
          2007,
          2008,
          2009,
          2010,
          2011,
          2012,
          2013,
          2014,
          2015,
          2016,
          2017,
          2018,
          2019,
          2020,
          2021,
          2022,
          2023,
          2024,
          2025,
          2026,
          2027,
          2028
         ],
         "y": [
          0,
          -4,
          4.1,
          2,
          4.9,
          5.8,
          -2.1,
          -15.4,
          3.5,
          15.4,
          5.1,
          6.1,
          -3.1,
          3.9,
          3.7,
          5,
          3.6,
          5.7,
          3.5,
          -8.9,
          -1.9,
          2.1,
          0.2,
          1.7,
          1.1,
          -0.8,
          -1.9,
          6.3,
          1.7,
          -2.3,
          6.3,
          7.1,
          5.3,
          5.5,
          4.4,
          3.9,
          2.1,
          0.5,
          0.8,
          3.9,
          -1.9,
          1.5,
          2.8,
          3,
          3.1,
          3,
          3.3,
          3.5,
          3.5
         ]
        },
        {
         "marker": {
          "color": "crimson"
         },
         "mode": "lines+markers",
         "name": "The Gambia",
         "type": "scatter",
         "x": [
          1980,
          1981,
          1982,
          1983,
          1984,
          1985,
          1986,
          1987,
          1988,
          1989,
          1990,
          1991,
          1992,
          1993,
          1994,
          1995,
          1996,
          1997,
          1998,
          1999,
          2000,
          2001,
          2002,
          2003,
          2004,
          2005,
          2006,
          2007,
          2008,
          2009,
          2010,
          2011,
          2012,
          2013,
          2014,
          2015,
          2016,
          2017,
          2018,
          2019,
          2020,
          2021,
          2022,
          2023,
          2024,
          2025,
          2026,
          2027,
          2028
         ],
         "y": [
          0.7,
          -9.5,
          20.8,
          13.5,
          -7.6,
          3.6,
          2.4,
          2.8,
          1.7,
          4.3,
          5.7,
          2.2,
          1.8,
          3.8,
          -3.4,
          3.3,
          2.9,
          1.4,
          6.5,
          6.4,
          5.5,
          5.8,
          -3.2,
          6.9,
          7,
          -2.4,
          -0.6,
          3,
          6.3,
          6.7,
          5.9,
          -8.1,
          5.2,
          2.9,
          -1.4,
          4.1,
          1.9,
          4.8,
          7.2,
          6.2,
          0.6,
          4.3,
          4.4,
          5.6,
          6.3,
          5.8,
          5,
          5,
          5
         ]
        },
        {
         "marker": {
          "color": "darkgreen"
         },
         "mode": "lines+markers",
         "name": "Ghana",
         "type": "scatter",
         "x": [
          1980,
          1981,
          1982,
          1983,
          1984,
          1985,
          1986,
          1987,
          1988,
          1989,
          1990,
          1991,
          1992,
          1993,
          1994,
          1995,
          1996,
          1997,
          1998,
          1999,
          2000,
          2001,
          2002,
          2003,
          2004,
          2005,
          2006,
          2007,
          2008,
          2009,
          2010,
          2011,
          2012,
          2013,
          2014,
          2015,
          2016,
          2017,
          2018,
          2019,
          2020,
          2021,
          2022,
          2023,
          2024,
          2025,
          2026,
          2027,
          2028
         ],
         "y": [
          0.5,
          -3.8,
          -8.3,
          -6.2,
          9.4,
          6.4,
          6.2,
          6.7,
          6.5,
          4.5,
          3.6,
          4.8,
          4.5,
          4.8,
          3.5,
          4.2,
          4.8,
          5.8,
          5,
          4.5,
          3.6,
          3.8,
          4.6,
          5.1,
          5.4,
          6.2,
          5.8,
          4.1,
          9,
          5.7,
          7.8,
          13.9,
          8.4,
          7.2,
          2.9,
          2.1,
          3.4,
          8.1,
          6.2,
          6.5,
          0.5,
          5.4,
          3.2,
          1.6,
          2.9,
          4.8,
          5,
          5,
          5
         ]
        },
        {
         "marker": {
          "color": "brown"
         },
         "mode": "lines+markers",
         "name": "Guinea",
         "type": "scatter",
         "x": [
          1980,
          1981,
          1982,
          1983,
          1984,
          1985,
          1986,
          1987,
          1988,
          1989,
          1990,
          1991,
          1992,
          1993,
          1994,
          1995,
          1996,
          1997,
          1998,
          1999,
          2000,
          2001,
          2002,
          2003,
          2004,
          2005,
          2006,
          2007,
          2008,
          2009,
          2010,
          2011,
          2012,
          2013,
          2014,
          2015,
          2016,
          2017,
          2018,
          2019,
          2020,
          2021,
          2022,
          2023,
          2024,
          2025,
          2026,
          2027,
          2028
         ],
         "y": [
          2.6,
          0.6,
          1.8,
          1.3,
          1.4,
          5,
          3.1,
          3.3,
          6.3,
          4,
          4.3,
          2.5,
          3.3,
          5,
          4,
          4.7,
          4.5,
          5.2,
          3.6,
          3.8,
          2.5,
          3.7,
          5.2,
          1.2,
          2.3,
          3,
          2.5,
          6.5,
          4.1,
          -1.5,
          4.2,
          5.6,
          5.9,
          3.9,
          3.7,
          3.8,
          10.8,
          10.3,
          6.4,
          5.6,
          4.9,
          4.3,
          4.3,
          5.6,
          5.7,
          5.7,
          5.5,
          5.4,
          5
         ]
        },
        {
         "marker": {
          "color": "forestgreen"
         },
         "mode": "lines+markers",
         "name": "Guinea-Bissau",
         "type": "scatter",
         "x": [
          1980,
          1981,
          1982,
          1983,
          1984,
          1985,
          1986,
          1987,
          1988,
          1989,
          1990,
          1991,
          1992,
          1993,
          1994,
          1995,
          1996,
          1997,
          1998,
          1999,
          2000,
          2001,
          2002,
          2003,
          2004,
          2005,
          2006,
          2007,
          2008,
          2009,
          2010,
          2011,
          2012,
          2013,
          2014,
          2015,
          2016,
          2017,
          2018,
          2019,
          2020,
          2021,
          2022,
          2023,
          2024,
          2025,
          2026,
          2027,
          2028
         ],
         "y": [
          null,
          -0.5,
          4.2,
          -3.4,
          5.5,
          4.3,
          -1,
          5.6,
          2,
          2.9,
          4.6,
          7.3,
          3.1,
          2.3,
          3,
          4,
          3.7,
          6,
          -22.4,
          16.8,
          1.1,
          4.8,
          3.7,
          -0.3,
          1.2,
          6.6,
          2.7,
          2.6,
          4.5,
          2.4,
          5.6,
          8.1,
          -1.7,
          3.3,
          1,
          6.1,
          5.3,
          4.8,
          3.8,
          4.5,
          1.5,
          6.4,
          3.5,
          4.5,
          5,
          5,
          5,
          5,
          4.5
         ]
        },
        {
         "marker": {
          "color": "steelblue"
         },
         "mode": "lines+markers",
         "name": "Kenya",
         "type": "scatter",
         "x": [
          1980,
          1981,
          1982,
          1983,
          1984,
          1985,
          1986,
          1987,
          1988,
          1989,
          1990,
          1991,
          1992,
          1993,
          1994,
          1995,
          1996,
          1997,
          1998,
          1999,
          2000,
          2001,
          2002,
          2003,
          2004,
          2005,
          2006,
          2007,
          2008,
          2009,
          2010,
          2011,
          2012,
          2013,
          2014,
          2015,
          2016,
          2017,
          2018,
          2019,
          2020,
          2021,
          2022,
          2023,
          2024,
          2025,
          2026,
          2027,
          2028
         ],
         "y": [
          5.6,
          4.1,
          5.1,
          1.6,
          1.6,
          4.1,
          7,
          5.8,
          6.1,
          4.6,
          4.1,
          1.3,
          -1.1,
          -0.1,
          2.5,
          4.3,
          4.5,
          0.4,
          3,
          2.2,
          0.3,
          4,
          0.5,
          2.9,
          4.6,
          5.7,
          5.9,
          6.9,
          0.2,
          3.3,
          8.1,
          5.1,
          4.6,
          3.8,
          5,
          5,
          4.2,
          3.8,
          5.7,
          5.1,
          -0.3,
          7.5,
          5.4,
          5.3,
          5.4,
          5.5,
          5.5,
          5.5,
          5.5
         ]
        },
        {
         "marker": {
          "color": "navy"
         },
         "mode": "lines+markers",
         "name": "Lesotho",
         "type": "scatter",
         "x": [
          1980,
          1981,
          1982,
          1983,
          1984,
          1985,
          1986,
          1987,
          1988,
          1989,
          1990,
          1991,
          1992,
          1993,
          1994,
          1995,
          1996,
          1997,
          1998,
          1999,
          2000,
          2001,
          2002,
          2003,
          2004,
          2005,
          2006,
          2007,
          2008,
          2009,
          2010,
          2011,
          2012,
          2013,
          2014,
          2015,
          2016,
          2017,
          2018,
          2019,
          2020,
          2021,
          2022,
          2023,
          2024,
          2025,
          2026,
          2027,
          2028
         ],
         "y": [
          -0.8,
          3.1,
          5.6,
          3,
          4.3,
          3.3,
          4.1,
          2.1,
          7.7,
          5.5,
          5.2,
          4.8,
          6.2,
          3.8,
          4.5,
          2.8,
          4.9,
          3.5,
          1.4,
          1.6,
          4.9,
          3.3,
          1.6,
          4.1,
          2.4,
          3.1,
          4.4,
          5,
          3.8,
          0.4,
          5.1,
          5.1,
          5.1,
          1.8,
          2.1,
          3.2,
          1.9,
          -2.7,
          -1.3,
          -2,
          -3.9,
          2.1,
          2.1,
          2.2,
          2.3,
          2.6,
          1.5,
          1.3,
          1.1
         ]
        },
        {
         "marker": {
          "color": "orange"
         },
         "mode": "lines+markers",
         "name": "Liberia",
         "type": "scatter",
         "x": [
          1980,
          1981,
          1982,
          1983,
          1984,
          1985,
          1986,
          1987,
          1988,
          1989,
          1990,
          1991,
          1992,
          1993,
          1994,
          1995,
          1996,
          1997,
          1998,
          1999,
          2000,
          2001,
          2002,
          2003,
          2004,
          2005,
          2006,
          2007,
          2008,
          2009,
          2010,
          2011,
          2012,
          2013,
          2014,
          2015,
          2016,
          2017,
          2018,
          2019,
          2020,
          2021,
          2022,
          2023,
          2024,
          2025,
          2026,
          2027,
          2028
         ],
         "y": [
          null,
          null,
          null,
          null,
          null,
          null,
          null,
          null,
          null,
          null,
          null,
          null,
          null,
          null,
          null,
          null,
          null,
          null,
          null,
          null,
          null,
          2.8,
          4.4,
          -29,
          4,
          5.9,
          8.5,
          13.1,
          6.1,
          5.2,
          6.4,
          7.7,
          8.4,
          8.8,
          0.7,
          0,
          -1.6,
          2.5,
          1.2,
          -2.5,
          -3,
          5,
          4.8,
          4.3,
          5.5,
          5.7,
          5.8,
          5.8,
          5.4
         ]
        },
        {
         "marker": {
          "color": "tomato"
         },
         "mode": "lines+markers",
         "name": "Madagascar",
         "type": "scatter",
         "x": [
          1980,
          1981,
          1982,
          1983,
          1984,
          1985,
          1986,
          1987,
          1988,
          1989,
          1990,
          1991,
          1992,
          1993,
          1994,
          1995,
          1996,
          1997,
          1998,
          1999,
          2000,
          2001,
          2002,
          2003,
          2004,
          2005,
          2006,
          2007,
          2008,
          2009,
          2010,
          2011,
          2012,
          2013,
          2014,
          2015,
          2016,
          2017,
          2018,
          2019,
          2020,
          2021,
          2022,
          2023,
          2024,
          2025,
          2026,
          2027,
          2028
         ],
         "y": [
          0.8,
          -9.8,
          -1.9,
          0.9,
          1.8,
          1.2,
          2,
          1.2,
          3.4,
          4.1,
          3.1,
          -6.3,
          1.2,
          2.1,
          0,
          1.7,
          2.2,
          3.7,
          3.9,
          4.7,
          4.5,
          6,
          -12.4,
          9.8,
          5.3,
          4.8,
          5.4,
          5.7,
          6.7,
          -4,
          0.6,
          1.6,
          3,
          2.3,
          3.3,
          3.1,
          4,
          3.9,
          3.2,
          4.4,
          -7.1,
          5.7,
          4.2,
          4.2,
          4.8,
          4.7,
          4.7,
          4.6,
          4.5
         ]
        },
        {
         "marker": {
          "color": "crimson"
         },
         "mode": "lines+markers",
         "name": "Malawi",
         "type": "scatter",
         "x": [
          1980,
          1981,
          1982,
          1983,
          1984,
          1985,
          1986,
          1987,
          1988,
          1989,
          1990,
          1991,
          1992,
          1993,
          1994,
          1995,
          1996,
          1997,
          1998,
          1999,
          2000,
          2001,
          2002,
          2003,
          2004,
          2005,
          2006,
          2007,
          2008,
          2009,
          2010,
          2011,
          2012,
          2013,
          2014,
          2015,
          2016,
          2017,
          2018,
          2019,
          2020,
          2021,
          2022,
          2023,
          2024,
          2025,
          2026,
          2027,
          2028
         ],
         "y": [
          0.4,
          -5.2,
          2.5,
          3.7,
          5.4,
          4.6,
          -0.2,
          1.6,
          3.2,
          1.3,
          5.7,
          8.7,
          -7.3,
          9.7,
          -10.3,
          13.8,
          10,
          6.6,
          1.1,
          3.5,
          0.8,
          -4.1,
          1.8,
          5.7,
          5.4,
          3.3,
          4.7,
          9.6,
          7.6,
          8.3,
          6.9,
          4.9,
          1.9,
          5.2,
          5.7,
          3,
          2.3,
          4,
          4.4,
          5.4,
          0.9,
          4.6,
          0.8,
          2.4,
          3.2,
          3.8,
          4.3,
          4.5,
          4.6
         ]
        },
        {
         "marker": {
          "color": "darkgreen"
         },
         "mode": "lines+markers",
         "name": "Mali",
         "type": "scatter",
         "x": [
          1980,
          1981,
          1982,
          1983,
          1984,
          1985,
          1986,
          1987,
          1988,
          1989,
          1990,
          1991,
          1992,
          1993,
          1994,
          1995,
          1996,
          1997,
          1998,
          1999,
          2000,
          2001,
          2002,
          2003,
          2004,
          2005,
          2006,
          2007,
          2008,
          2009,
          2010,
          2011,
          2012,
          2013,
          2014,
          2015,
          2016,
          2017,
          2018,
          2019,
          2020,
          2021,
          2022,
          2023,
          2024,
          2025,
          2026,
          2027,
          2028
         ],
         "y": [
          3.3,
          -4.5,
          -11.6,
          3.2,
          2.4,
          3.2,
          6.1,
          2.5,
          0.1,
          10.7,
          9.3,
          7.7,
          -1.6,
          3.6,
          3.8,
          3,
          7.3,
          4.8,
          2.9,
          6.2,
          -0.1,
          15.4,
          3.1,
          9.1,
          1.6,
          6.5,
          4.7,
          3.5,
          4.8,
          4.7,
          5.4,
          3.2,
          -0.8,
          2.3,
          7.1,
          6.2,
          5.9,
          5.3,
          4.7,
          4.8,
          -1.2,
          3.1,
          3.7,
          5,
          5.1,
          5.3,
          5.1,
          5,
          5
         ]
        },
        {
         "marker": {
          "color": "brown"
         },
         "mode": "lines+markers",
         "name": "Mauritania",
         "type": "scatter",
         "x": [
          1980,
          1981,
          1982,
          1983,
          1984,
          1985,
          1986,
          1987,
          1988,
          1989,
          1990,
          1991,
          1992,
          1993,
          1994,
          1995,
          1996,
          1997,
          1998,
          1999,
          2000,
          2001,
          2002,
          2003,
          2004,
          2005,
          2006,
          2007,
          2008,
          2009,
          2010,
          2011,
          2012,
          2013,
          2014,
          2015,
          2016,
          2017,
          2018,
          2019,
          2020,
          2021,
          2022,
          2023,
          2024,
          2025,
          2026,
          2027,
          2028
         ],
         "y": [
          null,
          null,
          null,
          null,
          null,
          null,
          null,
          null,
          null,
          null,
          null,
          0,
          1.8,
          5.9,
          -3.1,
          9.8,
          5.8,
          -4,
          2.8,
          3.7,
          -3.9,
          -0.8,
          1.4,
          6.9,
          4.7,
          8.6,
          18.3,
          -2,
          -0.3,
          0.1,
          2.6,
          4.2,
          4.5,
          4.2,
          4.3,
          5.4,
          1.3,
          6.3,
          4.8,
          5.4,
          -0.9,
          2.4,
          5,
          4.4,
          5.1,
          6.5,
          4,
          5.1,
          4
         ]
        },
        {
         "marker": {
          "color": "forestgreen"
         },
         "mode": "lines+markers",
         "name": "Mauritius",
         "type": "scatter",
         "x": [
          1980,
          1981,
          1982,
          1983,
          1984,
          1985,
          1986,
          1987,
          1988,
          1989,
          1990,
          1991,
          1992,
          1993,
          1994,
          1995,
          1996,
          1997,
          1998,
          1999,
          2000,
          2001,
          2002,
          2003,
          2004,
          2005,
          2006,
          2007,
          2008,
          2009,
          2010,
          2011,
          2012,
          2013,
          2014,
          2015,
          2016,
          2017,
          2018,
          2019,
          2020,
          2021,
          2022,
          2023,
          2024,
          2025,
          2026,
          2027,
          2028
         ],
         "y": [
          -10.1,
          5.9,
          5.5,
          0.4,
          4.8,
          6.9,
          9.7,
          10.2,
          6.8,
          4.5,
          7.2,
          4.4,
          6.5,
          5.1,
          4.1,
          4.3,
          5.6,
          5.7,
          6.1,
          2.6,
          8.2,
          3.2,
          1.6,
          6,
          4.3,
          1.5,
          4.5,
          5.7,
          5.4,
          3.3,
          4.4,
          4.1,
          3.5,
          3.4,
          3.8,
          3.7,
          3.9,
          3.9,
          4,
          2.9,
          -14.6,
          3.5,
          8.3,
          4.6,
          4.1,
          3.6,
          3.4,
          3.3,
          3.3
         ]
        },
        {
         "marker": {
          "color": "steelblue"
         },
         "mode": "lines+markers",
         "name": "Mozambique",
         "type": "scatter",
         "x": [
          1980,
          1981,
          1982,
          1983,
          1984,
          1985,
          1986,
          1987,
          1988,
          1989,
          1990,
          1991,
          1992,
          1993,
          1994,
          1995,
          1996,
          1997,
          1998,
          1999,
          2000,
          2001,
          2002,
          2003,
          2004,
          2005,
          2006,
          2007,
          2008,
          2009,
          2010,
          2011,
          2012,
          2013,
          2014,
          2015,
          2016,
          2017,
          2018,
          2019,
          2020,
          2021,
          2022,
          2023,
          2024,
          2025,
          2026,
          2027,
          2028
         ],
         "y": [
          4.2,
          5,
          -6.9,
          -15.7,
          -6.5,
          1,
          -2.3,
          14.7,
          8.2,
          6.5,
          1,
          6.6,
          -6.1,
          10.6,
          6.5,
          2.3,
          11.2,
          11.3,
          9.9,
          11.7,
          1.2,
          12.1,
          9.3,
          6.9,
          7.9,
          6.6,
          9.7,
          7.7,
          7.3,
          6.3,
          6.5,
          7.4,
          7.3,
          7,
          7.4,
          6.7,
          3.8,
          3.7,
          3.4,
          2.3,
          -1.2,
          2.3,
          4.1,
          5,
          8.2,
          5.1,
          5,
          15.5,
          14.5
         ]
        },
        {
         "marker": {
          "color": "navy"
         },
         "mode": "lines+markers",
         "name": "Namibia",
         "type": "scatter",
         "x": [
          1980,
          1981,
          1982,
          1983,
          1984,
          1985,
          1986,
          1987,
          1988,
          1989,
          1990,
          1991,
          1992,
          1993,
          1994,
          1995,
          1996,
          1997,
          1998,
          1999,
          2000,
          2001,
          2002,
          2003,
          2004,
          2005,
          2006,
          2007,
          2008,
          2009,
          2010,
          2011,
          2012,
          2013,
          2014,
          2015,
          2016,
          2017,
          2018,
          2019,
          2020,
          2021,
          2022,
          2023,
          2024,
          2025,
          2026,
          2027,
          2028
         ],
         "y": [
          null,
          null,
          null,
          null,
          null,
          null,
          null,
          null,
          null,
          null,
          null,
          5.3,
          9.3,
          -1.6,
          3,
          4.1,
          3.2,
          4.2,
          3.3,
          3.4,
          3.5,
          2.4,
          6.7,
          3.5,
          6.6,
          4.7,
          3.9,
          3.6,
          2.6,
          0.3,
          6,
          5.1,
          5.1,
          5.6,
          6.1,
          4.3,
          0,
          -1,
          1.1,
          -0.8,
          -8,
          2.7,
          3.8,
          2.8,
          2.6,
          2.6,
          2.6,
          2.6,
          2.6
         ]
        },
        {
         "marker": {
          "color": "orange"
         },
         "mode": "lines+markers",
         "name": "Niger",
         "type": "scatter",
         "x": [
          1980,
          1981,
          1982,
          1983,
          1984,
          1985,
          1986,
          1987,
          1988,
          1989,
          1990,
          1991,
          1992,
          1993,
          1994,
          1995,
          1996,
          1997,
          1998,
          1999,
          2000,
          2001,
          2002,
          2003,
          2004,
          2005,
          2006,
          2007,
          2008,
          2009,
          2010,
          2011,
          2012,
          2013,
          2014,
          2015,
          2016,
          2017,
          2018,
          2019,
          2020,
          2021,
          2022,
          2023,
          2024,
          2025,
          2026,
          2027,
          2028
         ],
         "y": [
          4.9,
          -0.2,
          2.2,
          -3.9,
          -16.8,
          7.7,
          6.4,
          0.1,
          6.9,
          1,
          -1.3,
          -0.4,
          2,
          0.3,
          1.9,
          2.5,
          0.1,
          1.5,
          10,
          -0.2,
          -1.2,
          7.3,
          4.9,
          2.2,
          0.4,
          7.3,
          5.9,
          3.1,
          7.7,
          2,
          8.6,
          2.4,
          10.5,
          5.3,
          6.6,
          4.4,
          5.7,
          5,
          7,
          6.1,
          3.5,
          1.4,
          11.1,
          6.1,
          13,
          6.7,
          6.2,
          6,
          6
         ]
        },
        {
         "marker": {
          "color": "tomato"
         },
         "mode": "lines+markers",
         "name": "Nigeria",
         "type": "scatter",
         "x": [
          1980,
          1981,
          1982,
          1983,
          1984,
          1985,
          1986,
          1987,
          1988,
          1989,
          1990,
          1991,
          1992,
          1993,
          1994,
          1995,
          1996,
          1997,
          1998,
          1999,
          2000,
          2001,
          2002,
          2003,
          2004,
          2005,
          2006,
          2007,
          2008,
          2009,
          2010,
          2011,
          2012,
          2013,
          2014,
          2015,
          2016,
          2017,
          2018,
          2019,
          2020,
          2021,
          2022,
          2023,
          2024,
          2025,
          2026,
          2027,
          2028
         ],
         "y": [
          null,
          null,
          null,
          null,
          null,
          null,
          null,
          null,
          null,
          null,
          null,
          -0.6,
          2.2,
          1.6,
          0.3,
          1.9,
          4.1,
          2.9,
          2.5,
          0.5,
          5.5,
          6.7,
          14.6,
          9.5,
          10.4,
          7,
          6.7,
          7.3,
          7.2,
          8.4,
          11.3,
          4.9,
          4.3,
          5.4,
          6.3,
          2.7,
          -1.6,
          0.8,
          1.9,
          2.2,
          -1.8,
          3.6,
          3.3,
          3.2,
          3,
          3,
          3,
          3,
          3
         ]
        },
        {
         "marker": {
          "color": "crimson"
         },
         "mode": "lines+markers",
         "name": "Rwanda",
         "type": "scatter",
         "x": [
          1980,
          1981,
          1982,
          1983,
          1984,
          1985,
          1986,
          1987,
          1988,
          1989,
          1990,
          1991,
          1992,
          1993,
          1994,
          1995,
          1996,
          1997,
          1998,
          1999,
          2000,
          2001,
          2002,
          2003,
          2004,
          2005,
          2006,
          2007,
          2008,
          2009,
          2010,
          2011,
          2012,
          2013,
          2014,
          2015,
          2016,
          2017,
          2018,
          2019,
          2020,
          2021,
          2022,
          2023,
          2024,
          2025,
          2026,
          2027,
          2028
         ],
         "y": [
          -3.6,
          2.5,
          -2.5,
          6,
          13,
          4.4,
          5.5,
          -0.3,
          0.3,
          -5.7,
          0.4,
          -4.3,
          6.6,
          -10.4,
          -41.9,
          24.5,
          11.6,
          14.9,
          8.3,
          3.3,
          8.4,
          8.5,
          13.2,
          2.2,
          7.4,
          9.4,
          9.2,
          7.7,
          11.2,
          6.2,
          7.3,
          8,
          8.6,
          4.7,
          6.2,
          8.9,
          6,
          4,
          8.6,
          9.5,
          -3.4,
          10.9,
          6.8,
          6.2,
          7.5,
          7.5,
          6.8,
          6.2,
          7.3
         ]
        },
        {
         "marker": {
          "color": "darkgreen"
         },
         "mode": "lines+markers",
         "name": "São Tomé and Príncipe",
         "type": "scatter",
         "x": [
          1980,
          1981,
          1982,
          1983,
          1984,
          1985,
          1986,
          1987,
          1988,
          1989,
          1990,
          1991,
          1992,
          1993,
          1994,
          1995,
          1996,
          1997,
          1998,
          1999,
          2000,
          2001,
          2002,
          2003,
          2004,
          2005,
          2006,
          2007,
          2008,
          2009,
          2010,
          2011,
          2012,
          2013,
          2014,
          2015,
          2016,
          2017,
          2018,
          2019,
          2020,
          2021,
          2022,
          2023,
          2024,
          2025,
          2026,
          2027,
          2028
         ],
         "y": [
          -1.1,
          -10.3,
          3.1,
          -3.9,
          -6,
          9.3,
          -5.8,
          -2.9,
          2,
          3.1,
          -2.2,
          1.2,
          0.7,
          1.1,
          2.2,
          2,
          1.5,
          1,
          2.5,
          2.5,
          0.4,
          2.4,
          2.4,
          6.6,
          3.8,
          7.1,
          9.1,
          3.3,
          8.2,
          2.4,
          6.7,
          4.4,
          3.1,
          4.8,
          6.5,
          3.8,
          4.2,
          3.9,
          3,
          2.2,
          3,
          1.9,
          0.9,
          2,
          2.5,
          3.3,
          3.6,
          3.6,
          3.7
         ]
        },
        {
         "marker": {
          "color": "brown"
         },
         "mode": "lines+markers",
         "name": "Senegal",
         "type": "scatter",
         "x": [
          1980,
          1981,
          1982,
          1983,
          1984,
          1985,
          1986,
          1987,
          1988,
          1989,
          1990,
          1991,
          1992,
          1993,
          1994,
          1995,
          1996,
          1997,
          1998,
          1999,
          2000,
          2001,
          2002,
          2003,
          2004,
          2005,
          2006,
          2007,
          2008,
          2009,
          2010,
          2011,
          2012,
          2013,
          2014,
          2015,
          2016,
          2017,
          2018,
          2019,
          2020,
          2021,
          2022,
          2023,
          2024,
          2025,
          2026,
          2027,
          2028
         ],
         "y": [
          -0.8,
          5.1,
          7.8,
          -5.3,
          3.7,
          3.3,
          3.1,
          6.1,
          -0.6,
          4,
          -0.7,
          2.6,
          1.2,
          1.3,
          -0.2,
          6.1,
          1.9,
          2.7,
          6,
          6,
          3.9,
          4.3,
          0.1,
          5.6,
          4.6,
          4.3,
          2.3,
          2.8,
          3.7,
          2.8,
          3.4,
          1.3,
          4,
          2.4,
          6.2,
          6.4,
          6.4,
          7.4,
          6.2,
          4.6,
          1.3,
          6.1,
          4.7,
          8.3,
          10.6,
          4.8,
          5.1,
          5,
          6.5
         ]
        },
        {
         "marker": {
          "color": "forestgreen"
         },
         "mode": "lines+markers",
         "name": "Seychelles",
         "type": "scatter",
         "x": [
          1980,
          1981,
          1982,
          1983,
          1984,
          1985,
          1986,
          1987,
          1988,
          1989,
          1990,
          1991,
          1992,
          1993,
          1994,
          1995,
          1996,
          1997,
          1998,
          1999,
          2000,
          2001,
          2002,
          2003,
          2004,
          2005,
          2006,
          2007,
          2008,
          2009,
          2010,
          2011,
          2012,
          2013,
          2014,
          2015,
          2016,
          2017,
          2018,
          2019,
          2020,
          2021,
          2022,
          2023,
          2024,
          2025,
          2026,
          2027,
          2028
         ],
         "y": [
          -2.3,
          -3.9,
          -2.1,
          -0.6,
          4.3,
          10.3,
          0.8,
          4.9,
          5.3,
          10.3,
          7.5,
          2.8,
          7.2,
          7.3,
          -2.4,
          0.5,
          10,
          12.2,
          2.5,
          1.9,
          4.3,
          -2.3,
          1.2,
          -5.9,
          -2.9,
          9,
          9.4,
          10.4,
          -2.1,
          -1.1,
          6.3,
          5.7,
          3.8,
          6.4,
          4.7,
          5.6,
          5.4,
          4.5,
          3.2,
          3.1,
          -7.7,
          7.9,
          8.8,
          3.9,
          3.9,
          3.8,
          3.8,
          3.7,
          3.6
         ]
        },
        {
         "marker": {
          "color": "steelblue"
         },
         "mode": "lines+markers",
         "name": "Sierra Leone",
         "type": "scatter",
         "x": [
          1980,
          1981,
          1982,
          1983,
          1984,
          1985,
          1986,
          1987,
          1988,
          1989,
          1990,
          1991,
          1992,
          1993,
          1994,
          1995,
          1996,
          1997,
          1998,
          1999,
          2000,
          2001,
          2002,
          2003,
          2004,
          2005,
          2006,
          2007,
          2008,
          2009,
          2010,
          2011,
          2012,
          2013,
          2014,
          2015,
          2016,
          2017,
          2018,
          2019,
          2020,
          2021,
          2022,
          2023,
          2024,
          2025,
          2026,
          2027,
          2028
         ],
         "y": [
          -0.6,
          1.9,
          1.8,
          -1.6,
          1.7,
          -6.7,
          0.1,
          2.4,
          2.1,
          5,
          1.6,
          -8,
          -9.6,
          0.1,
          3.5,
          -10,
          -24.8,
          -17.6,
          -0.8,
          -8.1,
          3.8,
          18.2,
          26.4,
          9.3,
          6.6,
          4.5,
          4.2,
          8.1,
          5.4,
          3.2,
          5.3,
          6.3,
          15.2,
          20.7,
          4.6,
          -20.5,
          6.4,
          3.8,
          3.5,
          5.3,
          -2,
          4.1,
          2.8,
          3.1,
          4.8,
          5.2,
          4.6,
          4.5,
          4.6
         ]
        },
        {
         "marker": {
          "color": "navy"
         },
         "mode": "lines+markers",
         "name": "Somalia",
         "type": "scatter",
         "x": [
          1980,
          1981,
          1982,
          1983,
          1984,
          1985,
          1986,
          1987,
          1988,
          1989,
          1990,
          1991,
          1992,
          1993,
          1994,
          1995,
          1996,
          1997,
          1998,
          1999,
          2000,
          2001,
          2002,
          2003,
          2004,
          2005,
          2006,
          2007,
          2008,
          2009,
          2010,
          2011,
          2012,
          2013,
          2014,
          2015,
          2016,
          2017,
          2018,
          2019,
          2020,
          2021,
          2022,
          2023,
          2024,
          2025,
          2026,
          2027,
          2028
         ],
         "y": [
          null,
          null,
          null,
          null,
          null,
          null,
          null,
          null,
          null,
          null,
          null,
          null,
          null,
          null,
          null,
          null,
          null,
          null,
          null,
          null,
          null,
          null,
          null,
          null,
          null,
          null,
          null,
          null,
          null,
          null,
          null,
          null,
          1.2,
          5.7,
          2.7,
          4.6,
          4.7,
          2.2,
          3.7,
          2.7,
          -0.3,
          2.9,
          1.7,
          2.8,
          3.7,
          3.9,
          4,
          4.1,
          4.3
         ]
        },
        {
         "marker": {
          "color": "orange"
         },
         "mode": "lines+markers",
         "name": "South Africa",
         "type": "scatter",
         "x": [
          1980,
          1981,
          1982,
          1983,
          1984,
          1985,
          1986,
          1987,
          1988,
          1989,
          1990,
          1991,
          1992,
          1993,
          1994,
          1995,
          1996,
          1997,
          1998,
          1999,
          2000,
          2001,
          2002,
          2003,
          2004,
          2005,
          2006,
          2007,
          2008,
          2009,
          2010,
          2011,
          2012,
          2013,
          2014,
          2015,
          2016,
          2017,
          2018,
          2019,
          2020,
          2021,
          2022,
          2023,
          2024,
          2025,
          2026,
          2027,
          2028
         ],
         "y": [
          6.6,
          5.4,
          -0.4,
          -1.8,
          5.1,
          -1.2,
          0,
          2.1,
          4.2,
          2.4,
          -0.3,
          -1,
          -2.1,
          1.2,
          3.2,
          3.1,
          4.3,
          2.6,
          0.5,
          2.4,
          4.2,
          2.7,
          3.7,
          2.9,
          4.6,
          5.3,
          5.6,
          5.4,
          3.2,
          -1.5,
          3,
          3.2,
          2.4,
          2.5,
          1.4,
          1.3,
          0.7,
          1.2,
          1.5,
          0.3,
          -6.3,
          4.9,
          2,
          0.1,
          1.8,
          1.6,
          1.4,
          1.4,
          1.4
         ]
        },
        {
         "marker": {
          "color": "tomato"
         },
         "mode": "lines+markers",
         "name": "Republic of South Sudan",
         "type": "scatter",
         "x": [
          1980,
          1981,
          1982,
          1983,
          1984,
          1985,
          1986,
          1987,
          1988,
          1989,
          1990,
          1991,
          1992,
          1993,
          1994,
          1995,
          1996,
          1997,
          1998,
          1999,
          2000,
          2001,
          2002,
          2003,
          2004,
          2005,
          2006,
          2007,
          2008,
          2009,
          2010,
          2011,
          2012,
          2013,
          2014,
          2015,
          2016,
          2017,
          2018,
          2019,
          2020,
          2021,
          2022,
          2023,
          2024,
          2025,
          2026,
          2027,
          2028
         ],
         "y": [
          null,
          null,
          null,
          null,
          null,
          null,
          null,
          null,
          null,
          null,
          null,
          null,
          null,
          null,
          null,
          null,
          null,
          null,
          null,
          null,
          null,
          null,
          null,
          null,
          null,
          null,
          null,
          null,
          null,
          null,
          null,
          null,
          -50.3,
          27.3,
          1.6,
          -0.2,
          -13.3,
          -5.8,
          -2.1,
          0.9,
          -6.5,
          5.3,
          6.6,
          5.6,
          4.6,
          4.6,
          4.4,
          4.4,
          4.4
         ]
        },
        {
         "marker": {
          "color": "crimson"
         },
         "mode": "lines+markers",
         "name": "Sudan",
         "type": "scatter",
         "x": [
          1980,
          1981,
          1982,
          1983,
          1984,
          1985,
          1986,
          1987,
          1988,
          1989,
          1990,
          1991,
          1992,
          1993,
          1994,
          1995,
          1996,
          1997,
          1998,
          1999,
          2000,
          2001,
          2002,
          2003,
          2004,
          2005,
          2006,
          2007,
          2008,
          2009,
          2010,
          2011,
          2012,
          2013,
          2014,
          2015,
          2016,
          2017,
          2018,
          2019,
          2020,
          2021,
          2022,
          2023,
          2024,
          2025,
          2026,
          2027,
          2028
         ],
         "y": [
          2.5,
          6.3,
          4.1,
          -1.5,
          -5.6,
          -0.6,
          9.9,
          6.5,
          4.3,
          1.4,
          0.8,
          7,
          5.5,
          2.8,
          3.5,
          8.9,
          5.5,
          6.1,
          8.2,
          4.2,
          8.4,
          10.9,
          5.9,
          6.3,
          5.1,
          5.6,
          6.5,
          5.7,
          3.8,
          -2.8,
          3.9,
          -3.2,
          -17,
          2,
          4.7,
          4.9,
          4.7,
          0.8,
          -2.3,
          -2.5,
          -3.6,
          0.5,
          -2.5,
          1.2,
          2.7,
          3,
          3,
          3,
          3
         ]
        },
        {
         "marker": {
          "color": "darkgreen"
         },
         "mode": "lines+markers",
         "name": "Tanzania",
         "type": "scatter",
         "x": [
          1980,
          1981,
          1982,
          1983,
          1984,
          1985,
          1986,
          1987,
          1988,
          1989,
          1990,
          1991,
          1992,
          1993,
          1994,
          1995,
          1996,
          1997,
          1998,
          1999,
          2000,
          2001,
          2002,
          2003,
          2004,
          2005,
          2006,
          2007,
          2008,
          2009,
          2010,
          2011,
          2012,
          2013,
          2014,
          2015,
          2016,
          2017,
          2018,
          2019,
          2020,
          2021,
          2022,
          2023,
          2024,
          2025,
          2026,
          2027,
          2028
         ],
         "y": [
          3.3,
          0.5,
          0.6,
          2.4,
          3.4,
          4.6,
          6.6,
          5.9,
          4.4,
          3.8,
          7,
          2.1,
          0.6,
          1.2,
          1.6,
          3.6,
          4.5,
          3.5,
          3.7,
          4.8,
          4.9,
          6,
          7.2,
          6.9,
          7.8,
          7.4,
          4.7,
          8.5,
          5.6,
          5.4,
          6.4,
          7.9,
          5.1,
          6.8,
          6.7,
          6.2,
          6.9,
          6.8,
          7,
          7,
          4.8,
          4.9,
          4.7,
          5.2,
          6.2,
          6.4,
          6.8,
          7,
          7
         ]
        },
        {
         "marker": {
          "color": "brown"
         },
         "mode": "lines+markers",
         "name": "Togo",
         "type": "scatter",
         "x": [
          1980,
          1981,
          1982,
          1983,
          1984,
          1985,
          1986,
          1987,
          1988,
          1989,
          1990,
          1991,
          1992,
          1993,
          1994,
          1995,
          1996,
          1997,
          1998,
          1999,
          2000,
          2001,
          2002,
          2003,
          2004,
          2005,
          2006,
          2007,
          2008,
          2009,
          2010,
          2011,
          2012,
          2013,
          2014,
          2015,
          2016,
          2017,
          2018,
          2019,
          2020,
          2021,
          2022,
          2023,
          2024,
          2025,
          2026,
          2027,
          2028
         ],
         "y": [
          -2.3,
          -3.4,
          -3.7,
          -5.2,
          5.9,
          3.7,
          3.3,
          -2.5,
          10.1,
          4.1,
          5.9,
          -0.6,
          -3.2,
          -16.3,
          13.9,
          19.7,
          -3.9,
          3.8,
          -2.3,
          2.5,
          -1,
          0.8,
          3.8,
          6.7,
          -1,
          -4.7,
          2.7,
          -1.2,
          4.1,
          5.5,
          6.1,
          6.4,
          6.5,
          6.1,
          5.9,
          5.7,
          5.6,
          4.3,
          5,
          5.5,
          1.8,
          5.3,
          5.4,
          5.5,
          5.5,
          5.5,
          5.5,
          5.5,
          5.5
         ]
        },
        {
         "marker": {
          "color": "forestgreen"
         },
         "mode": "lines+markers",
         "name": "Uganda",
         "type": "scatter",
         "x": [
          1980,
          1981,
          1982,
          1983,
          1984,
          1985,
          1986,
          1987,
          1988,
          1989,
          1990,
          1991,
          1992,
          1993,
          1994,
          1995,
          1996,
          1997,
          1998,
          1999,
          2000,
          2001,
          2002,
          2003,
          2004,
          2005,
          2006,
          2007,
          2008,
          2009,
          2010,
          2011,
          2012,
          2013,
          2014,
          2015,
          2016,
          2017,
          2018,
          2019,
          2020,
          2021,
          2022,
          2023,
          2024,
          2025,
          2026,
          2027,
          2028
         ],
         "y": [
          -3.4,
          3.9,
          8.2,
          4.9,
          -3,
          -3,
          0.9,
          4,
          8.3,
          6.4,
          6.5,
          1.8,
          5.9,
          6.7,
          7.7,
          9.2,
          6.6,
          4.6,
          6.1,
          8,
          3.9,
          8.8,
          7.1,
          6.2,
          5.8,
          10,
          7,
          8.1,
          10.4,
          8.1,
          7.5,
          7.7,
          2.3,
          3.9,
          5.7,
          8,
          0.2,
          6.8,
          5.5,
          7.8,
          -1.3,
          6,
          4.9,
          5.7,
          5.7,
          7.5,
          6.9,
          6.8,
          6.3
         ]
        },
        {
         "marker": {
          "color": "steelblue"
         },
         "mode": "lines+markers",
         "name": "Zambia",
         "type": "scatter",
         "x": [
          1980,
          1981,
          1982,
          1983,
          1984,
          1985,
          1986,
          1987,
          1988,
          1989,
          1990,
          1991,
          1992,
          1993,
          1994,
          1995,
          1996,
          1997,
          1998,
          1999,
          2000,
          2001,
          2002,
          2003,
          2004,
          2005,
          2006,
          2007,
          2008,
          2009,
          2010,
          2011,
          2012,
          2013,
          2014,
          2015,
          2016,
          2017,
          2018,
          2019,
          2020,
          2021,
          2022,
          2023,
          2024,
          2025,
          2026,
          2027,
          2028
         ],
         "y": [
          3.9,
          6.6,
          -2.9,
          -1.1,
          -1.7,
          1.2,
          1.7,
          1.5,
          9.3,
          -3.7,
          -0.6,
          -0.7,
          2.1,
          -0.1,
          -13.3,
          2.9,
          6.2,
          3.8,
          -0.4,
          4.7,
          3.9,
          5.3,
          4.5,
          6.9,
          7,
          7.2,
          7.9,
          8.4,
          7.8,
          9.2,
          10.3,
          5.6,
          7.6,
          5.1,
          4.7,
          2.9,
          3.8,
          3.5,
          4,
          1.4,
          -2.8,
          4.6,
          3.4,
          4,
          4.1,
          4.6,
          4.7,
          5,
          5.1
         ]
        },
        {
         "marker": {
          "color": "navy"
         },
         "mode": "lines+markers",
         "name": "Zimbabwe",
         "type": "scatter",
         "x": [
          1980,
          1981,
          1982,
          1983,
          1984,
          1985,
          1986,
          1987,
          1988,
          1989,
          1990,
          1991,
          1992,
          1993,
          1994,
          1995,
          1996,
          1997,
          1998,
          1999,
          2000,
          2001,
          2002,
          2003,
          2004,
          2005,
          2006,
          2007,
          2008,
          2009,
          2010,
          2011,
          2012,
          2013,
          2014,
          2015,
          2016,
          2017,
          2018,
          2019,
          2020,
          2021,
          2022,
          2023,
          2024,
          2025,
          2026,
          2027,
          2028
         ],
         "y": [
          null,
          null,
          null,
          null,
          null,
          null,
          null,
          null,
          null,
          null,
          null,
          null,
          null,
          null,
          null,
          null,
          null,
          null,
          null,
          -1.1,
          -4.2,
          -0.5,
          -7.7,
          -16.2,
          -6.3,
          -7.4,
          -3.6,
          -3.4,
          -16.3,
          7.4,
          19.7,
          14.2,
          16.7,
          2,
          2.4,
          1.8,
          0.5,
          5,
          4.7,
          -6.1,
          -7.8,
          8.5,
          3,
          2.5,
          2.6,
          2.7,
          2.8,
          2.9,
          2.9
         ]
        }
       ],
       "layout": {
        "height": 800,
        "legend": {
         "title": {
          "text": "Legend"
         },
         "x": 0,
         "y": 1
        },
        "margin": {
         "b": 0,
         "l": 0,
         "r": 0,
         "t": 50
        },
        "plot_bgcolor": "#F7FAFC",
        "showlegend": true,
        "template": {
         "data": {
          "bar": [
           {
            "error_x": {
             "color": "#2a3f5f"
            },
            "error_y": {
             "color": "#2a3f5f"
            },
            "marker": {
             "line": {
              "color": "#E5ECF6",
              "width": 0.5
             },
             "pattern": {
              "fillmode": "overlay",
              "size": 10,
              "solidity": 0.2
             }
            },
            "type": "bar"
           }
          ],
          "barpolar": [
           {
            "marker": {
             "line": {
              "color": "#E5ECF6",
              "width": 0.5
             },
             "pattern": {
              "fillmode": "overlay",
              "size": 10,
              "solidity": 0.2
             }
            },
            "type": "barpolar"
           }
          ],
          "carpet": [
           {
            "aaxis": {
             "endlinecolor": "#2a3f5f",
             "gridcolor": "white",
             "linecolor": "white",
             "minorgridcolor": "white",
             "startlinecolor": "#2a3f5f"
            },
            "baxis": {
             "endlinecolor": "#2a3f5f",
             "gridcolor": "white",
             "linecolor": "white",
             "minorgridcolor": "white",
             "startlinecolor": "#2a3f5f"
            },
            "type": "carpet"
           }
          ],
          "choropleth": [
           {
            "colorbar": {
             "outlinewidth": 0,
             "ticks": ""
            },
            "type": "choropleth"
           }
          ],
          "contour": [
           {
            "colorbar": {
             "outlinewidth": 0,
             "ticks": ""
            },
            "colorscale": [
             [
              0,
              "#0d0887"
             ],
             [
              0.1111111111111111,
              "#46039f"
             ],
             [
              0.2222222222222222,
              "#7201a8"
             ],
             [
              0.3333333333333333,
              "#9c179e"
             ],
             [
              0.4444444444444444,
              "#bd3786"
             ],
             [
              0.5555555555555556,
              "#d8576b"
             ],
             [
              0.6666666666666666,
              "#ed7953"
             ],
             [
              0.7777777777777778,
              "#fb9f3a"
             ],
             [
              0.8888888888888888,
              "#fdca26"
             ],
             [
              1,
              "#f0f921"
             ]
            ],
            "type": "contour"
           }
          ],
          "contourcarpet": [
           {
            "colorbar": {
             "outlinewidth": 0,
             "ticks": ""
            },
            "type": "contourcarpet"
           }
          ],
          "heatmap": [
           {
            "colorbar": {
             "outlinewidth": 0,
             "ticks": ""
            },
            "colorscale": [
             [
              0,
              "#0d0887"
             ],
             [
              0.1111111111111111,
              "#46039f"
             ],
             [
              0.2222222222222222,
              "#7201a8"
             ],
             [
              0.3333333333333333,
              "#9c179e"
             ],
             [
              0.4444444444444444,
              "#bd3786"
             ],
             [
              0.5555555555555556,
              "#d8576b"
             ],
             [
              0.6666666666666666,
              "#ed7953"
             ],
             [
              0.7777777777777778,
              "#fb9f3a"
             ],
             [
              0.8888888888888888,
              "#fdca26"
             ],
             [
              1,
              "#f0f921"
             ]
            ],
            "type": "heatmap"
           }
          ],
          "heatmapgl": [
           {
            "colorbar": {
             "outlinewidth": 0,
             "ticks": ""
            },
            "colorscale": [
             [
              0,
              "#0d0887"
             ],
             [
              0.1111111111111111,
              "#46039f"
             ],
             [
              0.2222222222222222,
              "#7201a8"
             ],
             [
              0.3333333333333333,
              "#9c179e"
             ],
             [
              0.4444444444444444,
              "#bd3786"
             ],
             [
              0.5555555555555556,
              "#d8576b"
             ],
             [
              0.6666666666666666,
              "#ed7953"
             ],
             [
              0.7777777777777778,
              "#fb9f3a"
             ],
             [
              0.8888888888888888,
              "#fdca26"
             ],
             [
              1,
              "#f0f921"
             ]
            ],
            "type": "heatmapgl"
           }
          ],
          "histogram": [
           {
            "marker": {
             "pattern": {
              "fillmode": "overlay",
              "size": 10,
              "solidity": 0.2
             }
            },
            "type": "histogram"
           }
          ],
          "histogram2d": [
           {
            "colorbar": {
             "outlinewidth": 0,
             "ticks": ""
            },
            "colorscale": [
             [
              0,
              "#0d0887"
             ],
             [
              0.1111111111111111,
              "#46039f"
             ],
             [
              0.2222222222222222,
              "#7201a8"
             ],
             [
              0.3333333333333333,
              "#9c179e"
             ],
             [
              0.4444444444444444,
              "#bd3786"
             ],
             [
              0.5555555555555556,
              "#d8576b"
             ],
             [
              0.6666666666666666,
              "#ed7953"
             ],
             [
              0.7777777777777778,
              "#fb9f3a"
             ],
             [
              0.8888888888888888,
              "#fdca26"
             ],
             [
              1,
              "#f0f921"
             ]
            ],
            "type": "histogram2d"
           }
          ],
          "histogram2dcontour": [
           {
            "colorbar": {
             "outlinewidth": 0,
             "ticks": ""
            },
            "colorscale": [
             [
              0,
              "#0d0887"
             ],
             [
              0.1111111111111111,
              "#46039f"
             ],
             [
              0.2222222222222222,
              "#7201a8"
             ],
             [
              0.3333333333333333,
              "#9c179e"
             ],
             [
              0.4444444444444444,
              "#bd3786"
             ],
             [
              0.5555555555555556,
              "#d8576b"
             ],
             [
              0.6666666666666666,
              "#ed7953"
             ],
             [
              0.7777777777777778,
              "#fb9f3a"
             ],
             [
              0.8888888888888888,
              "#fdca26"
             ],
             [
              1,
              "#f0f921"
             ]
            ],
            "type": "histogram2dcontour"
           }
          ],
          "mesh3d": [
           {
            "colorbar": {
             "outlinewidth": 0,
             "ticks": ""
            },
            "type": "mesh3d"
           }
          ],
          "parcoords": [
           {
            "line": {
             "colorbar": {
              "outlinewidth": 0,
              "ticks": ""
             }
            },
            "type": "parcoords"
           }
          ],
          "pie": [
           {
            "automargin": true,
            "type": "pie"
           }
          ],
          "scatter": [
           {
            "fillpattern": {
             "fillmode": "overlay",
             "size": 10,
             "solidity": 0.2
            },
            "type": "scatter"
           }
          ],
          "scatter3d": [
           {
            "line": {
             "colorbar": {
              "outlinewidth": 0,
              "ticks": ""
             }
            },
            "marker": {
             "colorbar": {
              "outlinewidth": 0,
              "ticks": ""
             }
            },
            "type": "scatter3d"
           }
          ],
          "scattercarpet": [
           {
            "marker": {
             "colorbar": {
              "outlinewidth": 0,
              "ticks": ""
             }
            },
            "type": "scattercarpet"
           }
          ],
          "scattergeo": [
           {
            "marker": {
             "colorbar": {
              "outlinewidth": 0,
              "ticks": ""
             }
            },
            "type": "scattergeo"
           }
          ],
          "scattergl": [
           {
            "marker": {
             "colorbar": {
              "outlinewidth": 0,
              "ticks": ""
             }
            },
            "type": "scattergl"
           }
          ],
          "scattermapbox": [
           {
            "marker": {
             "colorbar": {
              "outlinewidth": 0,
              "ticks": ""
             }
            },
            "type": "scattermapbox"
           }
          ],
          "scatterpolar": [
           {
            "marker": {
             "colorbar": {
              "outlinewidth": 0,
              "ticks": ""
             }
            },
            "type": "scatterpolar"
           }
          ],
          "scatterpolargl": [
           {
            "marker": {
             "colorbar": {
              "outlinewidth": 0,
              "ticks": ""
             }
            },
            "type": "scatterpolargl"
           }
          ],
          "scatterternary": [
           {
            "marker": {
             "colorbar": {
              "outlinewidth": 0,
              "ticks": ""
             }
            },
            "type": "scatterternary"
           }
          ],
          "surface": [
           {
            "colorbar": {
             "outlinewidth": 0,
             "ticks": ""
            },
            "colorscale": [
             [
              0,
              "#0d0887"
             ],
             [
              0.1111111111111111,
              "#46039f"
             ],
             [
              0.2222222222222222,
              "#7201a8"
             ],
             [
              0.3333333333333333,
              "#9c179e"
             ],
             [
              0.4444444444444444,
              "#bd3786"
             ],
             [
              0.5555555555555556,
              "#d8576b"
             ],
             [
              0.6666666666666666,
              "#ed7953"
             ],
             [
              0.7777777777777778,
              "#fb9f3a"
             ],
             [
              0.8888888888888888,
              "#fdca26"
             ],
             [
              1,
              "#f0f921"
             ]
            ],
            "type": "surface"
           }
          ],
          "table": [
           {
            "cells": {
             "fill": {
              "color": "#EBF0F8"
             },
             "line": {
              "color": "white"
             }
            },
            "header": {
             "fill": {
              "color": "#C8D4E3"
             },
             "line": {
              "color": "white"
             }
            },
            "type": "table"
           }
          ]
         },
         "layout": {
          "annotationdefaults": {
           "arrowcolor": "#2a3f5f",
           "arrowhead": 0,
           "arrowwidth": 1
          },
          "autotypenumbers": "strict",
          "coloraxis": {
           "colorbar": {
            "outlinewidth": 0,
            "ticks": ""
           }
          },
          "colorscale": {
           "diverging": [
            [
             0,
             "#8e0152"
            ],
            [
             0.1,
             "#c51b7d"
            ],
            [
             0.2,
             "#de77ae"
            ],
            [
             0.3,
             "#f1b6da"
            ],
            [
             0.4,
             "#fde0ef"
            ],
            [
             0.5,
             "#f7f7f7"
            ],
            [
             0.6,
             "#e6f5d0"
            ],
            [
             0.7,
             "#b8e186"
            ],
            [
             0.8,
             "#7fbc41"
            ],
            [
             0.9,
             "#4d9221"
            ],
            [
             1,
             "#276419"
            ]
           ],
           "sequential": [
            [
             0,
             "#0d0887"
            ],
            [
             0.1111111111111111,
             "#46039f"
            ],
            [
             0.2222222222222222,
             "#7201a8"
            ],
            [
             0.3333333333333333,
             "#9c179e"
            ],
            [
             0.4444444444444444,
             "#bd3786"
            ],
            [
             0.5555555555555556,
             "#d8576b"
            ],
            [
             0.6666666666666666,
             "#ed7953"
            ],
            [
             0.7777777777777778,
             "#fb9f3a"
            ],
            [
             0.8888888888888888,
             "#fdca26"
            ],
            [
             1,
             "#f0f921"
            ]
           ],
           "sequentialminus": [
            [
             0,
             "#0d0887"
            ],
            [
             0.1111111111111111,
             "#46039f"
            ],
            [
             0.2222222222222222,
             "#7201a8"
            ],
            [
             0.3333333333333333,
             "#9c179e"
            ],
            [
             0.4444444444444444,
             "#bd3786"
            ],
            [
             0.5555555555555556,
             "#d8576b"
            ],
            [
             0.6666666666666666,
             "#ed7953"
            ],
            [
             0.7777777777777778,
             "#fb9f3a"
            ],
            [
             0.8888888888888888,
             "#fdca26"
            ],
            [
             1,
             "#f0f921"
            ]
           ]
          },
          "colorway": [
           "#636efa",
           "#EF553B",
           "#00cc96",
           "#ab63fa",
           "#FFA15A",
           "#19d3f3",
           "#FF6692",
           "#B6E880",
           "#FF97FF",
           "#FECB52"
          ],
          "font": {
           "color": "#2a3f5f"
          },
          "geo": {
           "bgcolor": "white",
           "lakecolor": "white",
           "landcolor": "#E5ECF6",
           "showlakes": true,
           "showland": true,
           "subunitcolor": "white"
          },
          "hoverlabel": {
           "align": "left"
          },
          "hovermode": "closest",
          "mapbox": {
           "style": "light"
          },
          "paper_bgcolor": "white",
          "plot_bgcolor": "#E5ECF6",
          "polar": {
           "angularaxis": {
            "gridcolor": "white",
            "linecolor": "white",
            "ticks": ""
           },
           "bgcolor": "#E5ECF6",
           "radialaxis": {
            "gridcolor": "white",
            "linecolor": "white",
            "ticks": ""
           }
          },
          "scene": {
           "xaxis": {
            "backgroundcolor": "#E5ECF6",
            "gridcolor": "white",
            "gridwidth": 2,
            "linecolor": "white",
            "showbackground": true,
            "ticks": "",
            "zerolinecolor": "white"
           },
           "yaxis": {
            "backgroundcolor": "#E5ECF6",
            "gridcolor": "white",
            "gridwidth": 2,
            "linecolor": "white",
            "showbackground": true,
            "ticks": "",
            "zerolinecolor": "white"
           },
           "zaxis": {
            "backgroundcolor": "#E5ECF6",
            "gridcolor": "white",
            "gridwidth": 2,
            "linecolor": "white",
            "showbackground": true,
            "ticks": "",
            "zerolinecolor": "white"
           }
          },
          "shapedefaults": {
           "line": {
            "color": "#2a3f5f"
           }
          },
          "ternary": {
           "aaxis": {
            "gridcolor": "white",
            "linecolor": "white",
            "ticks": ""
           },
           "baxis": {
            "gridcolor": "white",
            "linecolor": "white",
            "ticks": ""
           },
           "bgcolor": "#E5ECF6",
           "caxis": {
            "gridcolor": "white",
            "linecolor": "white",
            "ticks": ""
           }
          },
          "title": {
           "x": 0.05
          },
          "xaxis": {
           "automargin": true,
           "gridcolor": "white",
           "linecolor": "white",
           "ticks": "",
           "title": {
            "standoff": 15
           },
           "zerolinecolor": "white",
           "zerolinewidth": 2
          },
          "yaxis": {
           "automargin": true,
           "gridcolor": "white",
           "linecolor": "white",
           "ticks": "",
           "title": {
            "standoff": 15
           },
           "zerolinecolor": "white",
           "zerolinewidth": 2
          }
         }
        },
        "title": {
         "font": {
          "size": 30
         },
         "text": "GDP"
        },
        "width": 1200,
        "xaxis": {
         "dtick": "2",
         "tickangle": 30,
         "title": {
          "text": "Year"
         }
        },
        "yaxis": {
         "tickformat": ",.0f",
         "title": {
          "text": "Real GDP growth (Annual percent change)"
         }
        }
       }
      }
     },
     "metadata": {},
     "output_type": "display_data"
    }
   ],
   "source": [
    "plot_gdp(df_12, sub_saharan_africa)"
   ]
  }
 ],
 "metadata": {
  "kernelspec": {
   "display_name": "venv",
   "language": "python",
   "name": "python3"
  },
  "language_info": {
   "codemirror_mode": {
    "name": "ipython",
    "version": 3
   },
   "file_extension": ".py",
   "mimetype": "text/x-python",
   "name": "python",
   "nbconvert_exporter": "python",
   "pygments_lexer": "ipython3",
   "version": "3.10.12"
  },
  "orig_nbformat": 4
 },
 "nbformat": 4,
 "nbformat_minor": 2
}
