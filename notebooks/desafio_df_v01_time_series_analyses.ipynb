{
 "cells": [
  {
   "cell_type": "markdown",
   "metadata": {},
   "source": [
    "# 0.1 imports"
   ]
  },
  {
   "cell_type": "code",
   "execution_count": 370,
   "metadata": {},
   "outputs": [],
   "source": [
    "import pandas as pd\n",
    "import numpy as np\n",
    "\n",
    "import matplotlib.pyplot as plt\n",
    "import matplotlib as mpl\n",
    "import seaborn as sns\n",
    "import plotly.graph_objects as go\n",
    "import plotly.express as px\n",
    "\n",
    "\n",
    "from statsmodels.tsa.stattools import adfuller\n",
    "from statsmodels.tsa.seasonal import seasonal_decompose\n",
    "from dateutil.parser import parse\n",
    "\n",
    "from sklearn.metrics import mean_squared_error, mean_absolute_error"
   ]
  },
  {
   "cell_type": "markdown",
   "metadata": {},
   "source": [
    "# 0.2 helpers functions"
   ]
  },
  {
   "cell_type": "code",
   "execution_count": 371,
   "metadata": {},
   "outputs": [],
   "source": [
    "# def plot_gdp(dataframe, countrys, print_legend=True):\n",
    "    \n",
    "#     countrys_with_year = countrys + ['year']\n",
    "#     df=dataframe[countrys_with_year].copy()\n",
    "#     # Create a list of colors\n",
    "#     color_discrete_sequence = [\n",
    "#         'navy', 'orange', 'tomato', 'crimson', 'darkgreen', 'brown',\n",
    "#         'forestgreen', 'steelblue',\n",
    "#     ]\n",
    "\n",
    "#     # Create a list of traces\n",
    "#     traces = []\n",
    "#     for j, seleccion in enumerate(countrys):\n",
    "#         trace = go.Scatter(\n",
    "#             x=df['year'],\n",
    "#             y=df[seleccion],\n",
    "#             mode='lines+markers',\n",
    "#             name=seleccion,\n",
    "#             marker=dict(color=color_discrete_sequence[j % len(color_discrete_sequence)]),\n",
    "#         )\n",
    "#         traces.append(trace)\n",
    "\n",
    "#     # Create the figure\n",
    "#     fig = go.Figure(traces)\n",
    "\n",
    "#     # Configure the layout\n",
    "#     fig.update_layout(\n",
    "#         title='GDP',\n",
    "#         title_font_size=30,\n",
    "#         plot_bgcolor='#F7FAFC',\n",
    "#         xaxis=dict(tickangle=30),\n",
    "#         yaxis=dict(tickformat=',.0f'),\n",
    "#         xaxis_dtick='2',\n",
    "#         xaxis_title='Year',\n",
    "#         yaxis_title='Real GDP growth (Annual percent change)',\n",
    "#         legend_title_text='Legend',\n",
    "#         legend=dict(x=0, y=1) if print_legend == True else {},\n",
    "#         showlegend=True if print_legend == True else False,\n",
    "#         margin=dict(l=0, r=0, t=50, b=0),\n",
    "#         template='plotly',\n",
    "#         height=800,\n",
    "#         width=1200,\n",
    "#     )\n",
    "\n",
    "#     return fig\n"
   ]
  },
  {
   "cell_type": "code",
   "execution_count": 372,
   "metadata": {},
   "outputs": [],
   "source": [
    "def plot_gdp(dataframe, countrys, print_legend=True):\n",
    "    countrys_with_year = countrys + ['year']\n",
    "    df = dataframe[countrys_with_year].copy()\n",
    "\n",
    "    color_palette = [\n",
    "        'navy', 'orange', 'tomato', 'crimson', 'darkgreen', 'brown',\n",
    "        'forestgreen', 'steelblue',\n",
    "    ]\n",
    "    \n",
    "    plt.figure(figsize=(12, 8))\n",
    "\n",
    "    for seleccion in countrys:\n",
    "        sns.lineplot(x='year', y=seleccion, data=df, label=seleccion)#, color=color_palette[j % len(color_palette)])\n",
    "\n",
    "    plt.title('GDP', fontsize=20)\n",
    "    plt.xlabel('Year')\n",
    "    plt.ylabel('Real GDP growth (Annual percent change)')\n",
    "    plt.xticks(rotation=30)\n",
    "    plt.gca().yaxis.set_major_formatter(plt.FuncFormatter(lambda x, _: format(int(x), ',')))\n",
    "    \n",
    "    if print_legend:\n",
    "        plt.legend(title='Legend', loc='upper left')\n",
    "    else:\n",
    "        plt.legend().set_visible(False)\n",
    "    \n",
    "    plt.tight_layout()\n",
    "    plt.grid()\n",
    "    plt.show()"
   ]
  },
  {
   "cell_type": "code",
   "execution_count": 373,
   "metadata": {},
   "outputs": [],
   "source": [
    "\n",
    "def fill_individual_countries(dataframe, countries):\n",
    "    \n",
    "    df = dataframe[countries+['year']].copy()\n",
    "\n",
    "    check_na = df.isna().sum()\n",
    "    null_values = list(check_na[check_na>0].index)\n",
    "\n",
    "    complete_group = list(check_na[check_na==0].index)\n",
    "    complete_group.remove('year')\n",
    "    # complete_group.remove('Sub-Saharan Africa (Region) ')\n",
    "\n",
    "    df_complete_group = dataframe[complete_group]\n",
    "\n",
    "    df_aux = pd.DataFrame()\n",
    "\n",
    "    df_aux[\"year\"] = dataframe[\"year\"]\n",
    "    df_aux[\"year_average\"] = df_complete_group.mean(axis=1)\n",
    "\n",
    "\n",
    "    for country in null_values:\n",
    "\n",
    "        df_aux[country] = dataframe[country]\n",
    "\n",
    "        aux = df_aux[~df_aux[country].isna()]\n",
    "\n",
    "        aux['test'] = (aux[country] > aux['year_average']).astype(int)\n",
    "\n",
    "\n",
    "        most_common = aux['test'].value_counts().idxmax()\n",
    "\n",
    "        if most_common == 0:\n",
    "            df_aux.loc[df_aux[country].isna(), country] = df_aux.loc[df_aux[country].isna(), \"year_average\"] - df_aux[country].std()\n",
    "        else:\n",
    "            df_aux.loc[df_aux[country].isna(), country] = df_aux.loc[df_aux[country].isna(), \"year_average\"] + df_aux[country].std()\n",
    "\n",
    "    return df_aux"
   ]
  },
  {
   "cell_type": "code",
   "execution_count": 374,
   "metadata": {},
   "outputs": [],
   "source": [
    "# MAPE\n",
    "def mean_absolute_percentage_error(y_true, y_pred):\n",
    "    return np.mean(np.abs((y_true - y_pred) / y_true)) * 100"
   ]
  },
  {
   "cell_type": "code",
   "execution_count": 375,
   "metadata": {},
   "outputs": [],
   "source": [
    "\n",
    "def metrics(y_true, y_pred,model_name):\n",
    "    y_true = y_true.values\n",
    "    y_pred = y_pred.values\n",
    "    mae = round(mean_absolute_error(y_true, y_pred),5)\n",
    "    rmse = round(np.sqrt(mean_squared_error(y_true, y_pred)),5)\n",
    "    mape = round(mean_absolute_percentage_error(y_true, y_pred),5)\n",
    "    metrics = pd.DataFrame({'Model': model_name,'mae': mae, 'rmse': rmse, 'mape': mape}, index=[0])\n",
    "    return metrics\n",
    "\n"
   ]
  },
  {
   "cell_type": "markdown",
   "metadata": {},
   "source": [
    "# 0.3 load data"
   ]
  },
  {
   "cell_type": "code",
   "execution_count": 376,
   "metadata": {},
   "outputs": [],
   "source": [
    "path = '/home/lavino/Documentos/projetos_indicium/ds_desafio/'"
   ]
  },
  {
   "cell_type": "code",
   "execution_count": 377,
   "metadata": {},
   "outputs": [],
   "source": [
    "df_raw = pd.read_csv(path + 'data/df_fill.csv', index_col='year', parse_dates=True)"
   ]
  },
  {
   "cell_type": "code",
   "execution_count": 378,
   "metadata": {},
   "outputs": [
    {
     "data": {
      "text/html": [
       "<div>\n",
       "<style scoped>\n",
       "    .dataframe tbody tr th:only-of-type {\n",
       "        vertical-align: middle;\n",
       "    }\n",
       "\n",
       "    .dataframe tbody tr th {\n",
       "        vertical-align: top;\n",
       "    }\n",
       "\n",
       "    .dataframe thead th {\n",
       "        text-align: right;\n",
       "    }\n",
       "</style>\n",
       "<table border=\"1\" class=\"dataframe\">\n",
       "  <thead>\n",
       "    <tr style=\"text-align: right;\">\n",
       "      <th></th>\n",
       "      <th>Afghanistan</th>\n",
       "      <th>Albania</th>\n",
       "      <th>Algeria</th>\n",
       "      <th>Andorra</th>\n",
       "      <th>Angola</th>\n",
       "      <th>Antigua and Barbuda</th>\n",
       "      <th>Argentina</th>\n",
       "      <th>Armenia</th>\n",
       "      <th>Aruba</th>\n",
       "      <th>Australia</th>\n",
       "      <th>...</th>\n",
       "      <th>Emerging and Developing Europe</th>\n",
       "      <th>Emerging market and developing economies</th>\n",
       "      <th>Euro area</th>\n",
       "      <th>European Union</th>\n",
       "      <th>Latin America and the Caribbean</th>\n",
       "      <th>Major advanced economies (G7)</th>\n",
       "      <th>Middle East and Central Asia</th>\n",
       "      <th>Other advanced economies</th>\n",
       "      <th>Sub-Saharan Africa</th>\n",
       "      <th>World</th>\n",
       "    </tr>\n",
       "    <tr>\n",
       "      <th>year</th>\n",
       "      <th></th>\n",
       "      <th></th>\n",
       "      <th></th>\n",
       "      <th></th>\n",
       "      <th></th>\n",
       "      <th></th>\n",
       "      <th></th>\n",
       "      <th></th>\n",
       "      <th></th>\n",
       "      <th></th>\n",
       "      <th></th>\n",
       "      <th></th>\n",
       "      <th></th>\n",
       "      <th></th>\n",
       "      <th></th>\n",
       "      <th></th>\n",
       "      <th></th>\n",
       "      <th></th>\n",
       "      <th></th>\n",
       "      <th></th>\n",
       "      <th></th>\n",
       "    </tr>\n",
       "  </thead>\n",
       "  <tbody>\n",
       "    <tr>\n",
       "      <th>1980-01-01</th>\n",
       "      <td>4.206173</td>\n",
       "      <td>2.7</td>\n",
       "      <td>-5.4</td>\n",
       "      <td>-1.732417</td>\n",
       "      <td>2.4</td>\n",
       "      <td>8.2</td>\n",
       "      <td>0.7</td>\n",
       "      <td>2.776923</td>\n",
       "      <td>8.187232</td>\n",
       "      <td>2.9</td>\n",
       "      <td>...</td>\n",
       "      <td>-0.8</td>\n",
       "      <td>3.3</td>\n",
       "      <td>3.487831</td>\n",
       "      <td>1.8</td>\n",
       "      <td>6.4</td>\n",
       "      <td>0.9</td>\n",
       "      <td>-1.9</td>\n",
       "      <td>3.8</td>\n",
       "      <td>1.917685</td>\n",
       "      <td>2.1</td>\n",
       "    </tr>\n",
       "    <tr>\n",
       "      <th>1981-01-01</th>\n",
       "      <td>7.200000</td>\n",
       "      <td>5.7</td>\n",
       "      <td>3.0</td>\n",
       "      <td>-3.196477</td>\n",
       "      <td>-4.4</td>\n",
       "      <td>3.8</td>\n",
       "      <td>-5.7</td>\n",
       "      <td>1.478698</td>\n",
       "      <td>7.687026</td>\n",
       "      <td>4.1</td>\n",
       "      <td>...</td>\n",
       "      <td>-0.5</td>\n",
       "      <td>1.9</td>\n",
       "      <td>0.914286</td>\n",
       "      <td>0.1</td>\n",
       "      <td>0.9</td>\n",
       "      <td>2.0</td>\n",
       "      <td>-0.2</td>\n",
       "      <td>4.2</td>\n",
       "      <td>1.732500</td>\n",
       "      <td>1.9</td>\n",
       "    </tr>\n",
       "    <tr>\n",
       "      <th>1982-01-01</th>\n",
       "      <td>5.116667</td>\n",
       "      <td>2.9</td>\n",
       "      <td>6.4</td>\n",
       "      <td>-2.925252</td>\n",
       "      <td>0.0</td>\n",
       "      <td>-0.1</td>\n",
       "      <td>-3.1</td>\n",
       "      <td>0.180473</td>\n",
       "      <td>6.675762</td>\n",
       "      <td>0.1</td>\n",
       "      <td>...</td>\n",
       "      <td>1.4</td>\n",
       "      <td>1.5</td>\n",
       "      <td>1.242857</td>\n",
       "      <td>0.6</td>\n",
       "      <td>-0.5</td>\n",
       "      <td>-0.1</td>\n",
       "      <td>0.4</td>\n",
       "      <td>2.2</td>\n",
       "      <td>1.950000</td>\n",
       "      <td>0.7</td>\n",
       "    </tr>\n",
       "    <tr>\n",
       "      <th>1983-01-01</th>\n",
       "      <td>4.283333</td>\n",
       "      <td>1.1</td>\n",
       "      <td>5.4</td>\n",
       "      <td>-2.284511</td>\n",
       "      <td>4.2</td>\n",
       "      <td>5.4</td>\n",
       "      <td>3.7</td>\n",
       "      <td>-1.117751</td>\n",
       "      <td>8.090579</td>\n",
       "      <td>-0.5</td>\n",
       "      <td>...</td>\n",
       "      <td>4.6</td>\n",
       "      <td>1.8</td>\n",
       "      <td>1.607143</td>\n",
       "      <td>1.7</td>\n",
       "      <td>-2.8</td>\n",
       "      <td>3.3</td>\n",
       "      <td>0.7</td>\n",
       "      <td>4.0</td>\n",
       "      <td>1.272500</td>\n",
       "      <td>2.6</td>\n",
       "    </tr>\n",
       "    <tr>\n",
       "      <th>1984-01-01</th>\n",
       "      <td>6.166667</td>\n",
       "      <td>2.0</td>\n",
       "      <td>5.6</td>\n",
       "      <td>-1.317845</td>\n",
       "      <td>6.0</td>\n",
       "      <td>10.2</td>\n",
       "      <td>2.0</td>\n",
       "      <td>-2.415976</td>\n",
       "      <td>10.046980</td>\n",
       "      <td>6.3</td>\n",
       "      <td>...</td>\n",
       "      <td>4.1</td>\n",
       "      <td>4.1</td>\n",
       "      <td>2.621429</td>\n",
       "      <td>2.5</td>\n",
       "      <td>3.9</td>\n",
       "      <td>5.0</td>\n",
       "      <td>0.3</td>\n",
       "      <td>6.6</td>\n",
       "      <td>2.080000</td>\n",
       "      <td>4.6</td>\n",
       "    </tr>\n",
       "  </tbody>\n",
       "</table>\n",
       "<p>5 rows × 228 columns</p>\n",
       "</div>"
      ],
      "text/plain": [
       "            Afghanistan  Albania  Algeria   Andorra  Angola  \\\n",
       "year                                                          \n",
       "1980-01-01     4.206173      2.7     -5.4 -1.732417     2.4   \n",
       "1981-01-01     7.200000      5.7      3.0 -3.196477    -4.4   \n",
       "1982-01-01     5.116667      2.9      6.4 -2.925252     0.0   \n",
       "1983-01-01     4.283333      1.1      5.4 -2.284511     4.2   \n",
       "1984-01-01     6.166667      2.0      5.6 -1.317845     6.0   \n",
       "\n",
       "            Antigua and Barbuda  Argentina   Armenia      Aruba  Australia  \\\n",
       "year                                                                         \n",
       "1980-01-01                  8.2        0.7  2.776923   8.187232        2.9   \n",
       "1981-01-01                  3.8       -5.7  1.478698   7.687026        4.1   \n",
       "1982-01-01                 -0.1       -3.1  0.180473   6.675762        0.1   \n",
       "1983-01-01                  5.4        3.7 -1.117751   8.090579       -0.5   \n",
       "1984-01-01                 10.2        2.0 -2.415976  10.046980        6.3   \n",
       "\n",
       "            ...  Emerging and Developing Europe  \\\n",
       "year        ...                                   \n",
       "1980-01-01  ...                            -0.8   \n",
       "1981-01-01  ...                            -0.5   \n",
       "1982-01-01  ...                             1.4   \n",
       "1983-01-01  ...                             4.6   \n",
       "1984-01-01  ...                             4.1   \n",
       "\n",
       "            Emerging market and developing economies  Euro area  \\\n",
       "year                                                              \n",
       "1980-01-01                                       3.3   3.487831   \n",
       "1981-01-01                                       1.9   0.914286   \n",
       "1982-01-01                                       1.5   1.242857   \n",
       "1983-01-01                                       1.8   1.607143   \n",
       "1984-01-01                                       4.1   2.621429   \n",
       "\n",
       "            European Union  Latin America and the Caribbean  \\\n",
       "year                                                          \n",
       "1980-01-01             1.8                              6.4   \n",
       "1981-01-01             0.1                              0.9   \n",
       "1982-01-01             0.6                             -0.5   \n",
       "1983-01-01             1.7                             -2.8   \n",
       "1984-01-01             2.5                              3.9   \n",
       "\n",
       "            Major advanced economies (G7)  Middle East and Central Asia  \\\n",
       "year                                                                      \n",
       "1980-01-01                            0.9                          -1.9   \n",
       "1981-01-01                            2.0                          -0.2   \n",
       "1982-01-01                           -0.1                           0.4   \n",
       "1983-01-01                            3.3                           0.7   \n",
       "1984-01-01                            5.0                           0.3   \n",
       "\n",
       "            Other advanced economies  Sub-Saharan Africa  World  \n",
       "year                                                             \n",
       "1980-01-01                       3.8            1.917685    2.1  \n",
       "1981-01-01                       4.2            1.732500    1.9  \n",
       "1982-01-01                       2.2            1.950000    0.7  \n",
       "1983-01-01                       4.0            1.272500    2.6  \n",
       "1984-01-01                       6.6            2.080000    4.6  \n",
       "\n",
       "[5 rows x 228 columns]"
      ]
     },
     "execution_count": 378,
     "metadata": {},
     "output_type": "execute_result"
    }
   ],
   "source": [
    "df_raw.head()"
   ]
  },
  {
   "cell_type": "code",
   "execution_count": 379,
   "metadata": {},
   "outputs": [],
   "source": [
    "df_raw = df_raw.asfreq(freq='AS')"
   ]
  },
  {
   "cell_type": "code",
   "execution_count": 380,
   "metadata": {},
   "outputs": [],
   "source": [
    "df_raw['Afghanistan'] = df_raw['Afghanistan'].fillna(df_raw['Afghanistan'].mean())\n",
    "df_raw['Lebanon'] = df_raw['Lebanon'].fillna(df_raw['Lebanon'].mean())\n",
    "df_raw['Syria'] = df_raw['Syria'].fillna(df_raw['Syria'].mean())\n",
    "df_raw['Ukraine'] = df_raw['Ukraine'].fillna(df_raw['Ukraine'].mean())\n",
    "df_raw['Venezuela'] = df_raw['Venezuela'].fillna(df_raw['Venezuela'].mean())"
   ]
  },
  {
   "cell_type": "markdown",
   "metadata": {},
   "source": [
    "# 1.0 Season decomposition - additive model"
   ]
  },
  {
   "cell_type": "code",
   "execution_count": 381,
   "metadata": {},
   "outputs": [],
   "source": [
    "# country = 'Albania'\n",
    "country = 'Sub-Saharan Africa (Region) '"
   ]
  },
  {
   "cell_type": "markdown",
   "metadata": {},
   "source": [
    "## 1.1 plot"
   ]
  },
  {
   "cell_type": "code",
   "execution_count": 382,
   "metadata": {},
   "outputs": [
    {
     "name": "stderr",
     "output_type": "stream",
     "text": [
      "/tmp/ipykernel_58794/3501970588.py:4: UserWarning: The figure layout has changed to tight\n",
      "  plt.tight_layout(rect=[0, 0.03, 1, 0.95]);\n"
     ]
    },
    {
     "data": {
      "image/png": "[encoded data removed]",
      "text/plain": [
       "<Figure size 640x480 with 4 Axes>"
      ]
     },
     "metadata": {},
     "output_type": "display_data"
    }
   ],
   "source": [
    "decomposition = seasonal_decompose(df_raw[country], model='additive', period=1)\n",
    "\n",
    "decomposition.plot().suptitle('Additive Decomposition', fontsize=16);\n",
    "plt.tight_layout(rect=[0, 0.03, 1, 0.95]);"
   ]
  },
  {
   "cell_type": "markdown",
   "metadata": {},
   "source": [
    "## 1.2 adf test"
   ]
  },
  {
   "cell_type": "code",
   "execution_count": 383,
   "metadata": {},
   "outputs": [],
   "source": [
    "stacionary_data = []\n",
    "non_stacionary_data = []\n",
    "\n",
    "for series in df_raw.columns:\n",
    "\n",
    "    country_data = df_raw[[series]]\n",
    "\n",
    "    # Realizando o teste ADF\n",
    "    result = adfuller(country_data)\n",
    "\n",
    "    # Interpretando os resultados do teste\n",
    "    # print('ADF Statistic:', result[0])\n",
    "    # print('p-value:', result[1])\n",
    "    # print('Critical Values:', result[4])\n",
    "\n",
    "    if result[1] <= 0.05:\n",
    "        # print(\"A série é estacionária.\")\n",
    "        stacionary_data.append(series)\n",
    "    else:\n",
    "        # print(\"A série não é estacionária.\")\n",
    "        non_stacionary_data.append(series)\n"
   ]
  },
  {
   "cell_type": "code",
   "execution_count": 384,
   "metadata": {},
   "outputs": [
    {
     "name": "stdout",
     "output_type": "stream",
     "text": [
      "% das series temporais estácionárias: 81.14035087719299\n",
      "% das series temporais não estácionárias: 18.859649122807017\n"
     ]
    }
   ],
   "source": [
    "print(\"% das series temporais estácionárias:\",(len(stacionary_data)/len(df_raw.columns)*100))\n",
    "print(\"% das series temporais não estácionárias:\",(len(non_stacionary_data)/len(df_raw.columns)*100))"
   ]
  },
  {
   "cell_type": "code",
   "execution_count": 385,
   "metadata": {},
   "outputs": [
    {
     "data": {
      "text/plain": [
       "43"
      ]
     },
     "execution_count": 385,
     "metadata": {},
     "output_type": "execute_result"
    }
   ],
   "source": [
    "len(non_stacionary_data)"
   ]
  },
  {
   "cell_type": "markdown",
   "metadata": {},
   "source": [
    "# 2.0 Models"
   ]
  },
  {
   "cell_type": "code",
   "execution_count": 386,
   "metadata": {},
   "outputs": [],
   "source": [
    "df1 = df_raw.copy()"
   ]
  },
  {
   "cell_type": "markdown",
   "metadata": {},
   "source": [
    "## 2.1 test train split"
   ]
  },
  {
   "cell_type": "code",
   "execution_count": 387,
   "metadata": {},
   "outputs": [],
   "source": [
    "test_years = 5\n",
    "train = df1[:-test_years]\n",
    "test = df1[-test_years:]"
   ]
  },
  {
   "cell_type": "markdown",
   "metadata": {},
   "source": [
    "## 2.2 exponencial smoothing"
   ]
  },
  {
   "cell_type": "code",
   "execution_count": 388,
   "metadata": {},
   "outputs": [],
   "source": [
    "# exponential smoting\n",
    "from statsmodels.tsa.holtwinters import ExponentialSmoothing"
   ]
  },
  {
   "cell_type": "code",
   "execution_count": 389,
   "metadata": {},
   "outputs": [],
   "source": [
    "model_hot_winter = ExponentialSmoothing(\n",
    "    train[country],\n",
    "    trend='add',\n",
    "    seasonal='add',\n",
    "    seasonal_periods=12,\n",
    ").fit()"
   ]
  },
  {
   "cell_type": "code",
   "execution_count": 390,
   "metadata": {},
   "outputs": [],
   "source": [
    "pred_hot_winter = model_hot_winter.forecast(test.shape[0])"
   ]
  },
  {
   "cell_type": "code",
   "execution_count": 391,
   "metadata": {},
   "outputs": [
    {
     "data": {
      "text/plain": [
       "<Axes: xlabel='year'>"
      ]
     },
     "execution_count": 391,
     "metadata": {},
     "output_type": "execute_result"
    },
    {
     "data": {
      "image/png": "[encoded data removed]",
      "text/plain": [
       "<Figure size 640x480 with 1 Axes>"
      ]
     },
     "metadata": {},
     "output_type": "display_data"
    }
   ],
   "source": [
    "train[country].plot(legend=True, label='Train')\n",
    "test[country].plot(legend=True, label='Test')\n",
    "pred_hot_winter.plot(legend=True, label='Pred')"
   ]
  },
  {
   "cell_type": "code",
   "execution_count": 392,
   "metadata": {},
   "outputs": [
    {
     "data": {
      "text/html": [
       "<div>\n",
       "<style scoped>\n",
       "    .dataframe tbody tr th:only-of-type {\n",
       "        vertical-align: middle;\n",
       "    }\n",
       "\n",
       "    .dataframe tbody tr th {\n",
       "        vertical-align: top;\n",
       "    }\n",
       "\n",
       "    .dataframe thead th {\n",
       "        text-align: right;\n",
       "    }\n",
       "</style>\n",
       "<table border=\"1\" class=\"dataframe\">\n",
       "  <thead>\n",
       "    <tr style=\"text-align: right;\">\n",
       "      <th></th>\n",
       "      <th>Model</th>\n",
       "      <th>mae</th>\n",
       "      <th>rmse</th>\n",
       "      <th>mape</th>\n",
       "    </tr>\n",
       "  </thead>\n",
       "  <tbody>\n",
       "    <tr>\n",
       "      <th>0</th>\n",
       "      <td>Holt-Winters</td>\n",
       "      <td>0.7936</td>\n",
       "      <td>1.14976</td>\n",
       "      <td>18.53417</td>\n",
       "    </tr>\n",
       "  </tbody>\n",
       "</table>\n",
       "</div>"
      ],
      "text/plain": [
       "          Model     mae     rmse      mape\n",
       "0  Holt-Winters  0.7936  1.14976  18.53417"
      ]
     },
     "execution_count": 392,
     "metadata": {},
     "output_type": "execute_result"
    }
   ],
   "source": [
    "metrics(test[country], pred_hot_winter, 'Holt-Winters')"
   ]
  },
  {
   "cell_type": "markdown",
   "metadata": {},
   "source": [
    "## 2.2 Simple exponential smoothing"
   ]
  },
  {
   "cell_type": "code",
   "execution_count": 393,
   "metadata": {},
   "outputs": [],
   "source": [
    "from statsmodels.tsa.api import ExponentialSmoothing, SimpleExpSmoothing, Holt"
   ]
  },
  {
   "cell_type": "code",
   "execution_count": 394,
   "metadata": {},
   "outputs": [
    {
     "name": "stderr",
     "output_type": "stream",
     "text": [
      "/home/lavino/Documentos/projetos_indicium/ds_desafio/venv/lib/python3.10/site-packages/pandas/util/_decorators.py:210: EstimationWarning: Model has no free parameters to estimate. Set optimized=False to suppress this warning\n",
      "  return func(*args, **kwargs)\n"
     ]
    }
   ],
   "source": [
    "# simple exponetial smooting\n",
    "model_ses = SimpleExpSmoothing(\n",
    "    train[country],\n",
    "    initialization_method='heuristic',                              \n",
    ").fit(smoothing_level=0.2, optimized=True)\n",
    "\n",
    "pred_ses = model_ses.forecast(test.shape[0])"
   ]
  },
  {
   "cell_type": "code",
   "execution_count": 395,
   "metadata": {},
   "outputs": [
    {
     "data": {
      "text/plain": [
       "<Axes: xlabel='year'>"
      ]
     },
     "execution_count": 395,
     "metadata": {},
     "output_type": "execute_result"
    },
    {
     "data": {
      "image/png": "[encoded data removed]",
      "text/plain": [
       "<Figure size 640x480 with 1 Axes>"
      ]
     },
     "metadata": {},
     "output_type": "display_data"
    }
   ],
   "source": [
    "train[country].plot(legend=True, label='Train')\n",
    "test[country].plot(legend=True, label='Test')\n",
    "# pred_hot_winter.plot(legend=True, label='Pred')\n",
    "pred_ses.plot(legend=True, label='Pred')"
   ]
  },
  {
   "cell_type": "code",
   "execution_count": 396,
   "metadata": {},
   "outputs": [
    {
     "data": {
      "text/html": [
       "<div>\n",
       "<style scoped>\n",
       "    .dataframe tbody tr th:only-of-type {\n",
       "        vertical-align: middle;\n",
       "    }\n",
       "\n",
       "    .dataframe tbody tr th {\n",
       "        vertical-align: top;\n",
       "    }\n",
       "\n",
       "    .dataframe thead th {\n",
       "        text-align: right;\n",
       "    }\n",
       "</style>\n",
       "<table border=\"1\" class=\"dataframe\">\n",
       "  <thead>\n",
       "    <tr style=\"text-align: right;\">\n",
       "      <th></th>\n",
       "      <th>Model</th>\n",
       "      <th>mae</th>\n",
       "      <th>rmse</th>\n",
       "      <th>mape</th>\n",
       "    </tr>\n",
       "  </thead>\n",
       "  <tbody>\n",
       "    <tr>\n",
       "      <th>0</th>\n",
       "      <td>Simple Exponential Smoothing</td>\n",
       "      <td>1.05853</td>\n",
       "      <td>1.06306</td>\n",
       "      <td>25.28306</td>\n",
       "    </tr>\n",
       "  </tbody>\n",
       "</table>\n",
       "</div>"
      ],
      "text/plain": [
       "                          Model      mae     rmse      mape\n",
       "0  Simple Exponential Smoothing  1.05853  1.06306  25.28306"
      ]
     },
     "execution_count": 396,
     "metadata": {},
     "output_type": "execute_result"
    }
   ],
   "source": [
    "metrics_ses = metrics(test[country], pred_ses, 'Simple Exponential Smoothing')\n",
    "metrics_ses"
   ]
  },
  {
   "cell_type": "markdown",
   "metadata": {},
   "source": [
    "## 2.3 Sarimax"
   ]
  },
  {
   "cell_type": "code",
   "execution_count": 397,
   "metadata": {},
   "outputs": [],
   "source": [
    "from pmdarima.arima import auto_arima"
   ]
  },
  {
   "cell_type": "code",
   "execution_count": 398,
   "metadata": {},
   "outputs": [],
   "source": [
    "model_sarimax = auto_arima(\n",
    "    train[country],\n",
    "    m=1,\n",
    "    test='adf',\n",
    "    seasonal=False,\n",
    "    stepwise=True,\n",
    "    d=0,\n",
    "    start_p=0,\n",
    "    max_p=1,\n",
    "    start_q=0,\n",
    "    max_q=1,\n",
    ")"
   ]
  },
  {
   "cell_type": "code",
   "execution_count": 399,
   "metadata": {},
   "outputs": [
    {
     "data": {
      "text/plain": [
       "2024-01-01    3.513981\n",
       "2025-01-01    3.521420\n",
       "2026-01-01    3.525379\n",
       "2027-01-01    3.527485\n",
       "2028-01-01    3.528606\n",
       "Freq: AS-JAN, dtype: float64"
      ]
     },
     "execution_count": 399,
     "metadata": {},
     "output_type": "execute_result"
    }
   ],
   "source": [
    "pred_sarimax = model_sarimax.predict(test.shape[0])\n",
    "pred_sarimax"
   ]
  },
  {
   "cell_type": "code",
   "execution_count": 400,
   "metadata": {},
   "outputs": [
    {
     "data": {
      "text/plain": [
       "<Axes: xlabel='year'>"
      ]
     },
     "execution_count": 400,
     "metadata": {},
     "output_type": "execute_result"
    },
    {
     "data": {
      "image/png": "[encoded data removed]",
      "text/plain": [
       "<Figure size 640x480 with 1 Axes>"
      ]
     },
     "metadata": {},
     "output_type": "display_data"
    }
   ],
   "source": [
    "train[country].plot(legend=True, label='Train')\n",
    "test[country].plot(legend=True, label='Test')\n",
    "pred_sarimax.plot(legend=True, label='Pred')"
   ]
  },
  {
   "cell_type": "code",
   "execution_count": 401,
   "metadata": {},
   "outputs": [
    {
     "data": {
      "text/html": [
       "<div>\n",
       "<style scoped>\n",
       "    .dataframe tbody tr th:only-of-type {\n",
       "        vertical-align: middle;\n",
       "    }\n",
       "\n",
       "    .dataframe tbody tr th {\n",
       "        vertical-align: top;\n",
       "    }\n",
       "\n",
       "    .dataframe thead th {\n",
       "        text-align: right;\n",
       "    }\n",
       "</style>\n",
       "<table border=\"1\" class=\"dataframe\">\n",
       "  <thead>\n",
       "    <tr style=\"text-align: right;\">\n",
       "      <th></th>\n",
       "      <th>Model</th>\n",
       "      <th>mae</th>\n",
       "      <th>rmse</th>\n",
       "      <th>mape</th>\n",
       "    </tr>\n",
       "  </thead>\n",
       "  <tbody>\n",
       "    <tr>\n",
       "      <th>0</th>\n",
       "      <td>sarimax</td>\n",
       "      <td>0.65663</td>\n",
       "      <td>0.66335</td>\n",
       "      <td>15.66497</td>\n",
       "    </tr>\n",
       "  </tbody>\n",
       "</table>\n",
       "</div>"
      ],
      "text/plain": [
       "     Model      mae     rmse      mape\n",
       "0  sarimax  0.65663  0.66335  15.66497"
      ]
     },
     "execution_count": 401,
     "metadata": {},
     "output_type": "execute_result"
    }
   ],
   "source": [
    "metrics_sarimax = metrics(test[country], pred_sarimax, 'sarimax')\n",
    "metrics_sarimax"
   ]
  },
  {
   "cell_type": "markdown",
   "metadata": {},
   "source": [
    "## 2.4 Prophet"
   ]
  },
  {
   "cell_type": "code",
   "execution_count": 402,
   "metadata": {},
   "outputs": [],
   "source": [
    "from prophet import Prophet\n",
    "from prophet.diagnostics import cross_validation"
   ]
  },
  {
   "cell_type": "code",
   "execution_count": 403,
   "metadata": {},
   "outputs": [
    {
     "name": "stderr",
     "output_type": "stream",
     "text": [
      "14:41:31 - cmdstanpy - INFO - Chain [1] start processing\n"
     ]
    },
    {
     "name": "stderr",
     "output_type": "stream",
     "text": [
      "14:41:31 - cmdstanpy - INFO - Chain [1] done processing\n"
     ]
    },
    {
     "data": {
      "image/png": "[encoded data removed]",
      "text/plain": [
       "<Figure size 1000x600 with 1 Axes>"
      ]
     },
     "metadata": {},
     "output_type": "display_data"
    }
   ],
   "source": [
    "\n",
    "aux = train[[country]].copy()\n",
    "aux['ds'] = aux.index\n",
    "aux.rename(columns={country: 'y'}, inplace=True)\n",
    "aux\n",
    "\n",
    "# # Crie e ajuste o modelo\n",
    "model_prophet = Prophet(\n",
    "    growth='linear',\n",
    "    seasonality_mode='additive',\n",
    "    yearly_seasonality=False,\n",
    "    weekly_seasonality=False,\n",
    "    daily_seasonality=False,\n",
    "    changepoint_prior_scale=0.1,\n",
    "    seasonality_prior_scale=0,\n",
    ")\n",
    "model_prophet.fit(aux)\n",
    "\n",
    "\n",
    "future = model_prophet.make_future_dataframe(periods=6, freq='YS')  \n",
    "forecast = model_prophet.predict(future)\n",
    "\n",
    "\n",
    "model_prophet.plot(forecast);"
   ]
  },
  {
   "cell_type": "code",
   "execution_count": 404,
   "metadata": {},
   "outputs": [
    {
     "data": {
      "text/plain": [
       "<Axes: xlabel='year'>"
      ]
     },
     "execution_count": 404,
     "metadata": {},
     "output_type": "execute_result"
    },
    {
     "data": {
      "image/png": "[encoded data removed]",
      "text/plain": [
       "<Figure size 640x480 with 1 Axes>"
      ]
     },
     "metadata": {},
     "output_type": "display_data"
    }
   ],
   "source": [
    "aux = forecast[['yhat']][-5:]\n",
    "aux.index = test.index\n",
    "\n",
    "aux.plot(legend=True, label='prophet');\n",
    "train['Argentina'].plot(legend=True, label='Train')\n",
    "test['Argentina'].plot(legend=True, label='Test')"
   ]
  },
  {
   "cell_type": "code",
   "execution_count": 405,
   "metadata": {},
   "outputs": [
    {
     "data": {
      "text/html": [
       "<div>\n",
       "<style scoped>\n",
       "    .dataframe tbody tr th:only-of-type {\n",
       "        vertical-align: middle;\n",
       "    }\n",
       "\n",
       "    .dataframe tbody tr th {\n",
       "        vertical-align: top;\n",
       "    }\n",
       "\n",
       "    .dataframe thead th {\n",
       "        text-align: right;\n",
       "    }\n",
       "</style>\n",
       "<table border=\"1\" class=\"dataframe\">\n",
       "  <thead>\n",
       "    <tr style=\"text-align: right;\">\n",
       "      <th></th>\n",
       "      <th>Model</th>\n",
       "      <th>mae</th>\n",
       "      <th>rmse</th>\n",
       "      <th>mape</th>\n",
       "    </tr>\n",
       "  </thead>\n",
       "  <tbody>\n",
       "    <tr>\n",
       "      <th>0</th>\n",
       "      <td>prophet</td>\n",
       "      <td>0.19308</td>\n",
       "      <td>0.20327</td>\n",
       "      <td>4.65475</td>\n",
       "    </tr>\n",
       "  </tbody>\n",
       "</table>\n",
       "</div>"
      ],
      "text/plain": [
       "     Model      mae     rmse     mape\n",
       "0  prophet  0.19308  0.20327  4.65475"
      ]
     },
     "execution_count": 405,
     "metadata": {},
     "output_type": "execute_result"
    }
   ],
   "source": [
    "metrics_prophet = metrics(test[country], aux['yhat'], 'prophet')\n",
    "metrics_prophet"
   ]
  },
  {
   "cell_type": "code",
   "execution_count": 406,
   "metadata": {},
   "outputs": [
    {
     "name": "stderr",
     "output_type": "stream",
     "text": [
      "14:41:32 - cmdstanpy - INFO - Chain [1] start processing\n",
      "14:41:32 - cmdstanpy - INFO - Chain [1] start processing\n",
      "14:41:32 - cmdstanpy - INFO - Chain [1] start processing\n",
      "14:41:32 - cmdstanpy - INFO - Chain [1] start processing\n",
      "14:41:32 - cmdstanpy - INFO - Chain [1] done processing\n",
      "14:41:32 - cmdstanpy - INFO - Chain [1] done processing\n",
      "14:41:32 - cmdstanpy - INFO - Chain [1] done processing\n",
      "14:41:32 - cmdstanpy - INFO - Chain [1] done processing\n",
      "14:41:32 - cmdstanpy - INFO - Chain [1] start processing\n",
      "14:41:32 - cmdstanpy - INFO - Chain [1] start processing\n",
      "14:41:32 - cmdstanpy - INFO - Chain [1] start processing\n",
      "14:41:32 - cmdstanpy - INFO - Chain [1] start processing\n",
      "14:41:32 - cmdstanpy - INFO - Chain [1] done processing\n",
      "14:41:32 - cmdstanpy - INFO - Chain [1] done processing\n",
      "14:41:32 - cmdstanpy - INFO - Chain [1] done processing\n",
      "14:41:32 - cmdstanpy - INFO - Chain [1] done processing\n",
      "14:41:32 - cmdstanpy - INFO - Chain [1] start processing\n",
      "14:41:32 - cmdstanpy - INFO - Chain [1] start processing\n",
      "14:41:32 - cmdstanpy - INFO - Chain [1] start processing\n",
      "14:41:32 - cmdstanpy - INFO - Chain [1] done processing\n",
      "14:41:32 - cmdstanpy - INFO - Chain [1] start processing\n",
      "14:41:32 - cmdstanpy - INFO - Chain [1] done processing\n",
      "14:41:32 - cmdstanpy - INFO - Chain [1] done processing\n",
      "14:41:32 - cmdstanpy - INFO - Chain [1] start processing\n",
      "14:41:32 - cmdstanpy - INFO - Chain [1] done processing\n",
      "14:41:33 - cmdstanpy - INFO - Chain [1] start processing\n",
      "14:41:33 - cmdstanpy - INFO - Chain [1] start processing\n",
      "14:41:33 - cmdstanpy - INFO - Chain [1] done processing\n",
      "14:41:33 - cmdstanpy - INFO - Chain [1] done processing\n",
      "14:41:33 - cmdstanpy - INFO - Chain [1] done processing\n"
     ]
    }
   ],
   "source": [
    "df_cv = cross_validation(model_prophet, initial='365 days', parallel='processes', horizon='1825 days') "
   ]
  },
  {
   "cell_type": "code",
   "execution_count": 407,
   "metadata": {},
   "outputs": [
    {
     "data": {
      "text/html": [
       "<div>\n",
       "<style scoped>\n",
       "    .dataframe tbody tr th:only-of-type {\n",
       "        vertical-align: middle;\n",
       "    }\n",
       "\n",
       "    .dataframe tbody tr th {\n",
       "        vertical-align: top;\n",
       "    }\n",
       "\n",
       "    .dataframe thead th {\n",
       "        text-align: right;\n",
       "    }\n",
       "</style>\n",
       "<table border=\"1\" class=\"dataframe\">\n",
       "  <thead>\n",
       "    <tr style=\"text-align: right;\">\n",
       "      <th></th>\n",
       "      <th>Model</th>\n",
       "      <th>mae</th>\n",
       "      <th>rmse</th>\n",
       "      <th>mape</th>\n",
       "    </tr>\n",
       "  </thead>\n",
       "  <tbody>\n",
       "    <tr>\n",
       "      <th>0</th>\n",
       "      <td>Prophet CV</td>\n",
       "      <td>2.17888</td>\n",
       "      <td>2.64882</td>\n",
       "      <td>132.5973</td>\n",
       "    </tr>\n",
       "  </tbody>\n",
       "</table>\n",
       "</div>"
      ],
      "text/plain": [
       "        Model      mae     rmse      mape\n",
       "0  Prophet CV  2.17888  2.64882  132.5973"
      ]
     },
     "execution_count": 407,
     "metadata": {},
     "output_type": "execute_result"
    }
   ],
   "source": [
    "metrics_prophet_cv = metrics(df_cv.y, df_cv.yhat, 'Prophet CV')\n",
    "metrics_prophet_cv"
   ]
  },
  {
   "cell_type": "markdown",
   "metadata": {},
   "source": [
    "# 3.0 Exogen variables"
   ]
  },
  {
   "cell_type": "markdown",
   "metadata": {},
   "source": [
    "## 3.1 Sarimax"
   ]
  },
  {
   "cell_type": "code",
   "execution_count": 408,
   "metadata": {},
   "outputs": [],
   "source": [
    "# exog = df1[['South America','World']]\n",
    "# exog = df1[['South America']]\n",
    "exog = df1[['World']]\n",
    "train_exog = exog[:-test_years]\n",
    "test_exog = exog[-test_years:]"
   ]
  },
  {
   "cell_type": "code",
   "execution_count": 409,
   "metadata": {},
   "outputs": [
    {
     "name": "stderr",
     "output_type": "stream",
     "text": [
      "/home/lavino/Documentos/projetos_indicium/ds_desafio/venv/lib/python3.10/site-packages/pmdarima/arima/_validation.py:62: UserWarning: m (12) set for non-seasonal fit. Setting to 0\n",
      "  warnings.warn(\"m (%i) set for non-seasonal fit. Setting to 0\" % m)\n"
     ]
    }
   ],
   "source": [
    "model_sarimax = auto_arima(\n",
    "    y=train[country],\n",
    "    X=train_exog,\n",
    "    m=12,\n",
    "    test='adf',\n",
    "    seasonal=False,\n",
    "    stepwise=True,\n",
    "    d=0,\n",
    "    start_p=0,\n",
    "    max_p=1,\n",
    "    start_q=0,\n",
    "    max_q=1,\n",
    ")"
   ]
  },
  {
   "cell_type": "code",
   "execution_count": 410,
   "metadata": {},
   "outputs": [
    {
     "data": {
      "text/plain": [
       "2024-01-01    3.273192\n",
       "2025-01-01    3.449006\n",
       "2026-01-01    3.449006\n",
       "2027-01-01    3.370715\n",
       "2028-01-01    3.292424\n",
       "Freq: AS-JAN, dtype: float64"
      ]
     },
     "execution_count": 410,
     "metadata": {},
     "output_type": "execute_result"
    }
   ],
   "source": [
    "pred_sarimax = model_sarimax.predict(test.shape[0],X=test_exog)\n",
    "pred_sarimax"
   ]
  },
  {
   "cell_type": "code",
   "execution_count": 411,
   "metadata": {},
   "outputs": [
    {
     "data": {
      "text/plain": [
       "<Axes: xlabel='year'>"
      ]
     },
     "execution_count": 411,
     "metadata": {},
     "output_type": "execute_result"
    },
    {
     "data": {
      "image/png": "[encoded data removed]",
      "text/plain": [
       "<Figure size 640x480 with 1 Axes>"
      ]
     },
     "metadata": {},
     "output_type": "display_data"
    }
   ],
   "source": [
    "train[country].plot(legend=True, label='Train')\n",
    "test[country].plot(legend=True, label='Test')\n",
    "pred_sarimax.plot(legend=True, label='Pred')"
   ]
  },
  {
   "cell_type": "code",
   "execution_count": 412,
   "metadata": {},
   "outputs": [
    {
     "data": {
      "text/html": [
       "<div>\n",
       "<style scoped>\n",
       "    .dataframe tbody tr th:only-of-type {\n",
       "        vertical-align: middle;\n",
       "    }\n",
       "\n",
       "    .dataframe tbody tr th {\n",
       "        vertical-align: top;\n",
       "    }\n",
       "\n",
       "    .dataframe thead th {\n",
       "        text-align: right;\n",
       "    }\n",
       "</style>\n",
       "<table border=\"1\" class=\"dataframe\">\n",
       "  <thead>\n",
       "    <tr style=\"text-align: right;\">\n",
       "      <th></th>\n",
       "      <th>Model</th>\n",
       "      <th>mae</th>\n",
       "      <th>rmse</th>\n",
       "      <th>mape</th>\n",
       "    </tr>\n",
       "  </thead>\n",
       "  <tbody>\n",
       "    <tr>\n",
       "      <th>0</th>\n",
       "      <td>sarimax</td>\n",
       "      <td>0.81313</td>\n",
       "      <td>0.82583</td>\n",
       "      <td>19.39303</td>\n",
       "    </tr>\n",
       "  </tbody>\n",
       "</table>\n",
       "</div>"
      ],
      "text/plain": [
       "     Model      mae     rmse      mape\n",
       "0  sarimax  0.81313  0.82583  19.39303"
      ]
     },
     "execution_count": 412,
     "metadata": {},
     "output_type": "execute_result"
    }
   ],
   "source": [
    "metrics_sarimax = metrics(test[country], pred_sarimax, 'sarimax')\n",
    "metrics_sarimax"
   ]
  },
  {
   "cell_type": "markdown",
   "metadata": {},
   "source": [
    "## 3.2 Prophet"
   ]
  },
  {
   "cell_type": "code",
   "execution_count": 413,
   "metadata": {},
   "outputs": [],
   "source": [
    "df2 = df1.copy()"
   ]
  },
  {
   "cell_type": "code",
   "execution_count": 414,
   "metadata": {},
   "outputs": [],
   "source": [
    "df2['ds'] = df2.index"
   ]
  },
  {
   "cell_type": "code",
   "execution_count": 415,
   "metadata": {},
   "outputs": [],
   "source": [
    "test_years = 5\n",
    "train_pp = df2[:-test_years]\n",
    "test_pp = df2[-test_years:]"
   ]
  },
  {
   "cell_type": "code",
   "execution_count": 416,
   "metadata": {},
   "outputs": [
    {
     "name": "stderr",
     "output_type": "stream",
     "text": [
      "14:41:34 - cmdstanpy - INFO - Chain [1] start processing\n"
     ]
    },
    {
     "name": "stderr",
     "output_type": "stream",
     "text": [
      "14:41:34 - cmdstanpy - INFO - Chain [1] done processing\n"
     ]
    },
    {
     "data": {
      "image/png": "[encoded data removed]",
      "text/plain": [
       "<Figure size 1000x600 with 1 Axes>"
      ]
     },
     "metadata": {},
     "output_type": "display_data"
    }
   ],
   "source": [
    "\n",
    "aux = pd.DataFrame()\n",
    "aux['ds'] = df2['ds'].values\n",
    "aux['y'] = df2[country].values\n",
    "aux['World'] = df2['World'].values\n",
    "# aux['South America'] = df2['South America'].values\n",
    "\n",
    "test_years = 5\n",
    "train_pp = aux[:-test_years]\n",
    "test_pp = aux[-test_years:]\n",
    "\n",
    "# Crie e ajuste o modelo\n",
    "model_prophet = Prophet(\n",
    "    growth='linear',\n",
    "    seasonality_mode='additive',\n",
    "    yearly_seasonality=False,\n",
    "    weekly_seasonality=False,\n",
    "    daily_seasonality=False,\n",
    "    changepoint_prior_scale=0.1,\n",
    "    seasonality_prior_scale=0,\n",
    ")\n",
    "model_prophet.add_regressor('World')\n",
    "# model_prophet.add_regressor('South America')\n",
    "model_prophet.fit(train_pp)\n",
    "\n",
    "\n",
    "future = model_prophet.make_future_dataframe(periods=test_years, freq='YS')  \n",
    "\n",
    "# future = pd.concat([future, aux[['World','South America']]], axis=1)\n",
    "future = pd.concat([future, aux[['World']]], axis=1)\n",
    "\n",
    "\n",
    "forecast = model_prophet.predict(future)\n",
    "\n",
    "\n",
    "model_prophet.plot(forecast);"
   ]
  },
  {
   "cell_type": "code",
   "execution_count": 417,
   "metadata": {},
   "outputs": [
    {
     "data": {
      "text/plain": [
       "<Axes: xlabel='year'>"
      ]
     },
     "execution_count": 417,
     "metadata": {},
     "output_type": "execute_result"
    },
    {
     "data": {
      "image/png": "[encoded data removed]",
      "text/plain": [
       "<Figure size 640x480 with 1 Axes>"
      ]
     },
     "metadata": {},
     "output_type": "display_data"
    }
   ],
   "source": [
    "aux = forecast[['yhat']][-5:]\n",
    "aux.index = test.index\n",
    "\n",
    "aux.plot(legend=True, label='prophet');\n",
    "train['Argentina'].plot(legend=True, label='Train')\n",
    "test['Argentina'].plot(legend=True, label='Test')\n"
   ]
  },
  {
   "cell_type": "code",
   "execution_count": 418,
   "metadata": {},
   "outputs": [
    {
     "data": {
      "text/html": [
       "<div>\n",
       "<style scoped>\n",
       "    .dataframe tbody tr th:only-of-type {\n",
       "        vertical-align: middle;\n",
       "    }\n",
       "\n",
       "    .dataframe tbody tr th {\n",
       "        vertical-align: top;\n",
       "    }\n",
       "\n",
       "    .dataframe thead th {\n",
       "        text-align: right;\n",
       "    }\n",
       "</style>\n",
       "<table border=\"1\" class=\"dataframe\">\n",
       "  <thead>\n",
       "    <tr style=\"text-align: right;\">\n",
       "      <th></th>\n",
       "      <th>Model</th>\n",
       "      <th>mae</th>\n",
       "      <th>rmse</th>\n",
       "      <th>mape</th>\n",
       "    </tr>\n",
       "  </thead>\n",
       "  <tbody>\n",
       "    <tr>\n",
       "      <th>0</th>\n",
       "      <td>prophet</td>\n",
       "      <td>0.20721</td>\n",
       "      <td>0.24241</td>\n",
       "      <td>4.90402</td>\n",
       "    </tr>\n",
       "  </tbody>\n",
       "</table>\n",
       "</div>"
      ],
      "text/plain": [
       "     Model      mae     rmse     mape\n",
       "0  prophet  0.20721  0.24241  4.90402"
      ]
     },
     "execution_count": 418,
     "metadata": {},
     "output_type": "execute_result"
    }
   ],
   "source": [
    "metrics_prophet = metrics(test[country], aux['yhat'], 'prophet')\n",
    "metrics_prophet"
   ]
  },
  {
   "cell_type": "code",
   "execution_count": 419,
   "metadata": {},
   "outputs": [],
   "source": [
    "from prophet.diagnostics import cross_validation"
   ]
  },
  {
   "cell_type": "code",
   "execution_count": 420,
   "metadata": {},
   "outputs": [
    {
     "name": "stderr",
     "output_type": "stream",
     "text": [
      "14:41:35 - cmdstanpy - INFO - Chain [1] start processing\n",
      "14:41:35 - cmdstanpy - INFO - Chain [1] start processing\n",
      "14:41:35 - cmdstanpy - INFO - Chain [1] start processing\n",
      "14:41:35 - cmdstanpy - INFO - Chain [1] start processing\n",
      "14:41:35 - cmdstanpy - INFO - Chain [1] done processing\n",
      "14:41:35 - cmdstanpy - INFO - Chain [1] done processing\n",
      "14:41:35 - cmdstanpy - INFO - Chain [1] done processing\n",
      "14:41:35 - cmdstanpy - INFO - Chain [1] done processing\n",
      "14:41:35 - cmdstanpy - INFO - Chain [1] start processing\n",
      "14:41:35 - cmdstanpy - INFO - Chain [1] start processing\n",
      "14:41:35 - cmdstanpy - INFO - Chain [1] start processing\n",
      "14:41:35 - cmdstanpy - INFO - Chain [1] done processing\n",
      "14:41:35 - cmdstanpy - INFO - Chain [1] start processing\n",
      "14:41:35 - cmdstanpy - INFO - Chain [1] done processing\n",
      "14:41:35 - cmdstanpy - INFO - Chain [1] done processing\n",
      "14:41:35 - cmdstanpy - INFO - Chain [1] done processing\n",
      "14:41:35 - cmdstanpy - INFO - Chain [1] start processing\n",
      "14:41:35 - cmdstanpy - INFO - Chain [1] start processing\n",
      "14:41:35 - cmdstanpy - INFO - Chain [1] start processing\n",
      "14:41:35 - cmdstanpy - INFO - Chain [1] start processing\n",
      "14:41:35 - cmdstanpy - INFO - Chain [1] done processing\n",
      "14:41:35 - cmdstanpy - INFO - Chain [1] done processing\n",
      "14:41:35 - cmdstanpy - INFO - Chain [1] done processing\n",
      "14:41:35 - cmdstanpy - INFO - Chain [1] done processing\n",
      "14:41:35 - cmdstanpy - INFO - Chain [1] start processing\n",
      "14:41:35 - cmdstanpy - INFO - Chain [1] start processing\n",
      "14:41:36 - cmdstanpy - INFO - Chain [1] start processing\n",
      "14:41:36 - cmdstanpy - INFO - Chain [1] done processing\n",
      "14:41:36 - cmdstanpy - INFO - Chain [1] done processing\n",
      "14:41:36 - cmdstanpy - INFO - Chain [1] done processing\n"
     ]
    }
   ],
   "source": [
    "df_cv = cross_validation(model_prophet, initial='365 days', parallel='processes', horizon='1825 days') "
   ]
  },
  {
   "cell_type": "code",
   "execution_count": 421,
   "metadata": {},
   "outputs": [
    {
     "data": {
      "text/html": [
       "<div>\n",
       "<style scoped>\n",
       "    .dataframe tbody tr th:only-of-type {\n",
       "        vertical-align: middle;\n",
       "    }\n",
       "\n",
       "    .dataframe tbody tr th {\n",
       "        vertical-align: top;\n",
       "    }\n",
       "\n",
       "    .dataframe thead th {\n",
       "        text-align: right;\n",
       "    }\n",
       "</style>\n",
       "<table border=\"1\" class=\"dataframe\">\n",
       "  <thead>\n",
       "    <tr style=\"text-align: right;\">\n",
       "      <th></th>\n",
       "      <th>Model</th>\n",
       "      <th>mae</th>\n",
       "      <th>rmse</th>\n",
       "      <th>mape</th>\n",
       "    </tr>\n",
       "  </thead>\n",
       "  <tbody>\n",
       "    <tr>\n",
       "      <th>0</th>\n",
       "      <td>Prophet CV</td>\n",
       "      <td>1.76632</td>\n",
       "      <td>2.20285</td>\n",
       "      <td>112.21085</td>\n",
       "    </tr>\n",
       "  </tbody>\n",
       "</table>\n",
       "</div>"
      ],
      "text/plain": [
       "        Model      mae     rmse       mape\n",
       "0  Prophet CV  1.76632  2.20285  112.21085"
      ]
     },
     "execution_count": 421,
     "metadata": {},
     "output_type": "execute_result"
    }
   ],
   "source": [
    "\n",
    "metrics_prophet_cv = metrics(df_cv.y, df_cv.yhat, 'Prophet CV')\n",
    "metrics_prophet_cv"
   ]
  },
  {
   "cell_type": "markdown",
   "metadata": {},
   "source": [
    "# 4.0 All countrys"
   ]
  },
  {
   "cell_type": "code",
   "execution_count": 422,
   "metadata": {},
   "outputs": [],
   "source": [
    "df3 = df_raw.copy()"
   ]
  },
  {
   "cell_type": "code",
   "execution_count": 423,
   "metadata": {},
   "outputs": [],
   "source": [
    "test_years = 5\n",
    "train = df3[:-test_years]\n",
    "test = df3[-test_years:]"
   ]
  },
  {
   "cell_type": "code",
   "execution_count": 424,
   "metadata": {},
   "outputs": [],
   "source": [
    "df_pred_sarimax = pd.DataFrame()\n",
    "for country in df3.columns:\n",
    "    \n",
    "    model_sarimax = auto_arima(\n",
    "        train[country],\n",
    "        m=1,\n",
    "        test='adf',\n",
    "        seasonal=False,\n",
    "        stepwise=True,\n",
    "        d=0,\n",
    "        start_p=0,\n",
    "        max_p=1,\n",
    "        start_q=0,\n",
    "        max_q=1,\n",
    "    )\n",
    "    \n",
    "    pred_sarimax = model_sarimax.predict(test.shape[0])\n",
    "    # df_pred_sarimax[country] = pred_sarimax\n",
    "    df_pred_sarimax = pd.concat([df_pred_sarimax, pd.DataFrame(pred_sarimax, columns=[country])], axis=1)"
   ]
  },
  {
   "cell_type": "code",
   "execution_count": 425,
   "metadata": {},
   "outputs": [
    {
     "data": {
      "text/html": [
       "<div>\n",
       "<style scoped>\n",
       "    .dataframe tbody tr th:only-of-type {\n",
       "        vertical-align: middle;\n",
       "    }\n",
       "\n",
       "    .dataframe tbody tr th {\n",
       "        vertical-align: top;\n",
       "    }\n",
       "\n",
       "    .dataframe thead th {\n",
       "        text-align: right;\n",
       "    }\n",
       "</style>\n",
       "<table border=\"1\" class=\"dataframe\">\n",
       "  <thead>\n",
       "    <tr style=\"text-align: right;\">\n",
       "      <th></th>\n",
       "      <th>Afghanistan</th>\n",
       "      <th>Albania</th>\n",
       "      <th>Algeria</th>\n",
       "      <th>Andorra</th>\n",
       "      <th>Angola</th>\n",
       "      <th>Antigua and Barbuda</th>\n",
       "      <th>Argentina</th>\n",
       "      <th>Armenia</th>\n",
       "      <th>Aruba</th>\n",
       "      <th>Australia</th>\n",
       "      <th>...</th>\n",
       "      <th>Emerging and Developing Europe</th>\n",
       "      <th>Emerging market and developing economies</th>\n",
       "      <th>Euro area</th>\n",
       "      <th>European Union</th>\n",
       "      <th>Latin America and the Caribbean</th>\n",
       "      <th>Major advanced economies (G7)</th>\n",
       "      <th>Middle East and Central Asia</th>\n",
       "      <th>Other advanced economies</th>\n",
       "      <th>Sub-Saharan Africa</th>\n",
       "      <th>World</th>\n",
       "    </tr>\n",
       "    <tr>\n",
       "      <th>year</th>\n",
       "      <th></th>\n",
       "      <th></th>\n",
       "      <th></th>\n",
       "      <th></th>\n",
       "      <th></th>\n",
       "      <th></th>\n",
       "      <th></th>\n",
       "      <th></th>\n",
       "      <th></th>\n",
       "      <th></th>\n",
       "      <th></th>\n",
       "      <th></th>\n",
       "      <th></th>\n",
       "      <th></th>\n",
       "      <th></th>\n",
       "      <th></th>\n",
       "      <th></th>\n",
       "      <th></th>\n",
       "      <th></th>\n",
       "      <th></th>\n",
       "      <th></th>\n",
       "    </tr>\n",
       "  </thead>\n",
       "  <tbody>\n",
       "    <tr>\n",
       "      <th>2024-01-01</th>\n",
       "      <td>5.630638</td>\n",
       "      <td>3.738784</td>\n",
       "      <td>2.438544</td>\n",
       "      <td>0.552562</td>\n",
       "      <td>4.048752</td>\n",
       "      <td>3.889696</td>\n",
       "      <td>1.811364</td>\n",
       "      <td>3.734812</td>\n",
       "      <td>3.373297</td>\n",
       "      <td>3.560694</td>\n",
       "      <td>...</td>\n",
       "      <td>1.521734</td>\n",
       "      <td>4.033711</td>\n",
       "      <td>1.896477</td>\n",
       "      <td>1.834091</td>\n",
       "      <td>2.434091</td>\n",
       "      <td>2.086364</td>\n",
       "      <td>3.043934</td>\n",
       "      <td>2.840807</td>\n",
       "      <td>3.581051</td>\n",
       "      <td>3.361364</td>\n",
       "    </tr>\n",
       "    <tr>\n",
       "      <th>2025-01-01</th>\n",
       "      <td>5.630638</td>\n",
       "      <td>2.832769</td>\n",
       "      <td>2.385327</td>\n",
       "      <td>0.234865</td>\n",
       "      <td>4.359105</td>\n",
       "      <td>3.386085</td>\n",
       "      <td>1.811364</td>\n",
       "      <td>2.536149</td>\n",
       "      <td>3.478765</td>\n",
       "      <td>2.707185</td>\n",
       "      <td>...</td>\n",
       "      <td>1.693720</td>\n",
       "      <td>4.063896</td>\n",
       "      <td>1.896477</td>\n",
       "      <td>1.834091</td>\n",
       "      <td>2.434091</td>\n",
       "      <td>2.086364</td>\n",
       "      <td>3.122802</td>\n",
       "      <td>2.885693</td>\n",
       "      <td>3.570726</td>\n",
       "      <td>3.361364</td>\n",
       "    </tr>\n",
       "    <tr>\n",
       "      <th>2026-01-01</th>\n",
       "      <td>5.630638</td>\n",
       "      <td>2.832769</td>\n",
       "      <td>2.367787</td>\n",
       "      <td>0.099829</td>\n",
       "      <td>4.534628</td>\n",
       "      <td>3.386085</td>\n",
       "      <td>1.811364</td>\n",
       "      <td>1.722189</td>\n",
       "      <td>3.576063</td>\n",
       "      <td>3.230111</td>\n",
       "      <td>...</td>\n",
       "      <td>1.785656</td>\n",
       "      <td>4.089312</td>\n",
       "      <td>1.896477</td>\n",
       "      <td>1.834091</td>\n",
       "      <td>2.434091</td>\n",
       "      <td>2.086364</td>\n",
       "      <td>3.166017</td>\n",
       "      <td>2.927978</td>\n",
       "      <td>3.565100</td>\n",
       "      <td>3.361364</td>\n",
       "    </tr>\n",
       "    <tr>\n",
       "      <th>2027-01-01</th>\n",
       "      <td>5.630638</td>\n",
       "      <td>2.832769</td>\n",
       "      <td>2.362005</td>\n",
       "      <td>0.042432</td>\n",
       "      <td>4.633897</td>\n",
       "      <td>3.386085</td>\n",
       "      <td>1.811364</td>\n",
       "      <td>1.169464</td>\n",
       "      <td>3.665824</td>\n",
       "      <td>2.909726</td>\n",
       "      <td>...</td>\n",
       "      <td>1.834801</td>\n",
       "      <td>4.110713</td>\n",
       "      <td>1.896477</td>\n",
       "      <td>1.834091</td>\n",
       "      <td>2.434091</td>\n",
       "      <td>2.086364</td>\n",
       "      <td>3.189697</td>\n",
       "      <td>2.967814</td>\n",
       "      <td>3.562034</td>\n",
       "      <td>3.361364</td>\n",
       "    </tr>\n",
       "    <tr>\n",
       "      <th>2028-01-01</th>\n",
       "      <td>5.630638</td>\n",
       "      <td>2.832769</td>\n",
       "      <td>2.360099</td>\n",
       "      <td>0.018036</td>\n",
       "      <td>4.690040</td>\n",
       "      <td>3.386085</td>\n",
       "      <td>1.811364</td>\n",
       "      <td>0.794132</td>\n",
       "      <td>3.748632</td>\n",
       "      <td>3.106019</td>\n",
       "      <td>...</td>\n",
       "      <td>1.861072</td>\n",
       "      <td>4.128732</td>\n",
       "      <td>1.896477</td>\n",
       "      <td>1.834091</td>\n",
       "      <td>2.434091</td>\n",
       "      <td>2.086364</td>\n",
       "      <td>3.202672</td>\n",
       "      <td>3.005342</td>\n",
       "      <td>3.560364</td>\n",
       "      <td>3.361364</td>\n",
       "    </tr>\n",
       "  </tbody>\n",
       "</table>\n",
       "<p>5 rows × 228 columns</p>\n",
       "</div>"
      ],
      "text/plain": [
       "            Afghanistan   Albania   Algeria   Andorra    Angola  \\\n",
       "year                                                              \n",
       "2024-01-01     5.630638  3.738784  2.438544  0.552562  4.048752   \n",
       "2025-01-01     5.630638  2.832769  2.385327  0.234865  4.359105   \n",
       "2026-01-01     5.630638  2.832769  2.367787  0.099829  4.534628   \n",
       "2027-01-01     5.630638  2.832769  2.362005  0.042432  4.633897   \n",
       "2028-01-01     5.630638  2.832769  2.360099  0.018036  4.690040   \n",
       "\n",
       "            Antigua and Barbuda  Argentina   Armenia     Aruba  Australia  \\\n",
       "year                                                                        \n",
       "2024-01-01             3.889696   1.811364  3.734812  3.373297   3.560694   \n",
       "2025-01-01             3.386085   1.811364  2.536149  3.478765   2.707185   \n",
       "2026-01-01             3.386085   1.811364  1.722189  3.576063   3.230111   \n",
       "2027-01-01             3.386085   1.811364  1.169464  3.665824   2.909726   \n",
       "2028-01-01             3.386085   1.811364  0.794132  3.748632   3.106019   \n",
       "\n",
       "            ...  Emerging and Developing Europe  \\\n",
       "year        ...                                   \n",
       "2024-01-01  ...                        1.521734   \n",
       "2025-01-01  ...                        1.693720   \n",
       "2026-01-01  ...                        1.785656   \n",
       "2027-01-01  ...                        1.834801   \n",
       "2028-01-01  ...                        1.861072   \n",
       "\n",
       "            Emerging market and developing economies  Euro area  \\\n",
       "year                                                              \n",
       "2024-01-01                                  4.033711   1.896477   \n",
       "2025-01-01                                  4.063896   1.896477   \n",
       "2026-01-01                                  4.089312   1.896477   \n",
       "2027-01-01                                  4.110713   1.896477   \n",
       "2028-01-01                                  4.128732   1.896477   \n",
       "\n",
       "            European Union  Latin America and the Caribbean  \\\n",
       "year                                                          \n",
       "2024-01-01        1.834091                         2.434091   \n",
       "2025-01-01        1.834091                         2.434091   \n",
       "2026-01-01        1.834091                         2.434091   \n",
       "2027-01-01        1.834091                         2.434091   \n",
       "2028-01-01        1.834091                         2.434091   \n",
       "\n",
       "            Major advanced economies (G7)  Middle East and Central Asia  \\\n",
       "year                                                                      \n",
       "2024-01-01                       2.086364                      3.043934   \n",
       "2025-01-01                       2.086364                      3.122802   \n",
       "2026-01-01                       2.086364                      3.166017   \n",
       "2027-01-01                       2.086364                      3.189697   \n",
       "2028-01-01                       2.086364                      3.202672   \n",
       "\n",
       "            Other advanced economies  Sub-Saharan Africa     World  \n",
       "year                                                                \n",
       "2024-01-01                  2.840807            3.581051  3.361364  \n",
       "2025-01-01                  2.885693            3.570726  3.361364  \n",
       "2026-01-01                  2.927978            3.565100  3.361364  \n",
       "2027-01-01                  2.967814            3.562034  3.361364  \n",
       "2028-01-01                  3.005342            3.560364  3.361364  \n",
       "\n",
       "[5 rows x 228 columns]"
      ]
     },
     "execution_count": 425,
     "metadata": {},
     "output_type": "execute_result"
    }
   ],
   "source": [
    "df_pred_sarimax.index = test.index\n",
    "df_pred_sarimax"
   ]
  },
  {
   "cell_type": "code",
   "execution_count": 426,
   "metadata": {},
   "outputs": [],
   "source": [
    "\n",
    "def metrics(y_true, y_pred,model_name, country):\n",
    "    y_true = y_true.values\n",
    "    y_pred = y_pred.values\n",
    "    mae = round(mean_absolute_error(y_true, y_pred),5)\n",
    "    rmse = round(np.sqrt(mean_squared_error(y_true, y_pred)),5)\n",
    "    mape = round(mean_absolute_percentage_error(y_true, y_pred),5)\n",
    "    metrics = pd.DataFrame({'Country':country,'Model': model_name,'mae': mae, 'rmse': rmse, 'mape': mape}, index=[0])\n",
    "    return metrics\n",
    "\n"
   ]
  },
  {
   "cell_type": "code",
   "execution_count": 427,
   "metadata": {},
   "outputs": [],
   "source": [
    "df_metrics_sarimax = pd.DataFrame()\n",
    "for country in df_pred_sarimax.columns:\n",
    "    metrics_sarimax = metrics(test[country], df_pred_sarimax[country], 'sarimax',country)\n",
    "    df_metrics_sarimax = pd.concat([df_metrics_sarimax, metrics_sarimax], axis=0)"
   ]
  },
  {
   "cell_type": "code",
   "execution_count": 428,
   "metadata": {},
   "outputs": [
    {
     "data": {
      "text/html": [
       "<div>\n",
       "<style scoped>\n",
       "    .dataframe tbody tr th:only-of-type {\n",
       "        vertical-align: middle;\n",
       "    }\n",
       "\n",
       "    .dataframe tbody tr th {\n",
       "        vertical-align: top;\n",
       "    }\n",
       "\n",
       "    .dataframe thead th {\n",
       "        text-align: right;\n",
       "    }\n",
       "</style>\n",
       "<table border=\"1\" class=\"dataframe\">\n",
       "  <thead>\n",
       "    <tr style=\"text-align: right;\">\n",
       "      <th></th>\n",
       "      <th>Country</th>\n",
       "      <th>Model</th>\n",
       "      <th>mae</th>\n",
       "      <th>rmse</th>\n",
       "      <th>mape</th>\n",
       "    </tr>\n",
       "  </thead>\n",
       "  <tbody>\n",
       "    <tr>\n",
       "      <th>0</th>\n",
       "      <td>Macao SAR</td>\n",
       "      <td>sarimax</td>\n",
       "      <td>20.56955</td>\n",
       "      <td>22.15063</td>\n",
       "      <td>348.18255</td>\n",
       "    </tr>\n",
       "    <tr>\n",
       "      <th>0</th>\n",
       "      <td>Guyana</td>\n",
       "      <td>sarimax</td>\n",
       "      <td>20.33332</td>\n",
       "      <td>24.30388</td>\n",
       "      <td>562.48424</td>\n",
       "    </tr>\n",
       "    <tr>\n",
       "      <th>0</th>\n",
       "      <td>Libya</td>\n",
       "      <td>sarimax</td>\n",
       "      <td>7.73532</td>\n",
       "      <td>8.93492</td>\n",
       "      <td>118.99196</td>\n",
       "    </tr>\n",
       "    <tr>\n",
       "      <th>0</th>\n",
       "      <td>Yemen</td>\n",
       "      <td>sarimax</td>\n",
       "      <td>5.47565</td>\n",
       "      <td>5.73726</td>\n",
       "      <td>102.65598</td>\n",
       "    </tr>\n",
       "    <tr>\n",
       "      <th>0</th>\n",
       "      <td>Vietnam</td>\n",
       "      <td>sarimax</td>\n",
       "      <td>5.34312</td>\n",
       "      <td>5.34976</td>\n",
       "      <td>79.09161</td>\n",
       "    </tr>\n",
       "    <tr>\n",
       "      <th>0</th>\n",
       "      <td>Mozambique</td>\n",
       "      <td>sarimax</td>\n",
       "      <td>4.78591</td>\n",
       "      <td>6.59009</td>\n",
       "      <td>36.45871</td>\n",
       "    </tr>\n",
       "    <tr>\n",
       "      <th>0</th>\n",
       "      <td>Bosnia and Herzegovina</td>\n",
       "      <td>sarimax</td>\n",
       "      <td>4.59277</td>\n",
       "      <td>4.81009</td>\n",
       "      <td>153.09224</td>\n",
       "    </tr>\n",
       "    <tr>\n",
       "      <th>0</th>\n",
       "      <td>Sierra Leone</td>\n",
       "      <td>sarimax</td>\n",
       "      <td>4.34488</td>\n",
       "      <td>4.41786</td>\n",
       "      <td>91.76839</td>\n",
       "    </tr>\n",
       "    <tr>\n",
       "      <th>0</th>\n",
       "      <td>West Bank and Gaza</td>\n",
       "      <td>sarimax</td>\n",
       "      <td>4.31275</td>\n",
       "      <td>4.32375</td>\n",
       "      <td>198.92813</td>\n",
       "    </tr>\n",
       "    <tr>\n",
       "      <th>0</th>\n",
       "      <td>Moldova</td>\n",
       "      <td>sarimax</td>\n",
       "      <td>4.17665</td>\n",
       "      <td>4.19652</td>\n",
       "      <td>84.69639</td>\n",
       "    </tr>\n",
       "    <tr>\n",
       "      <th>0</th>\n",
       "      <td>Palau</td>\n",
       "      <td>sarimax</td>\n",
       "      <td>4.15077</td>\n",
       "      <td>4.29391</td>\n",
       "      <td>92.40386</td>\n",
       "    </tr>\n",
       "    <tr>\n",
       "      <th>0</th>\n",
       "      <td>Myanmar</td>\n",
       "      <td>sarimax</td>\n",
       "      <td>4.09082</td>\n",
       "      <td>4.16194</td>\n",
       "      <td>146.90091</td>\n",
       "    </tr>\n",
       "    <tr>\n",
       "      <th>0</th>\n",
       "      <td>Caribbean</td>\n",
       "      <td>sarimax</td>\n",
       "      <td>4.00680</td>\n",
       "      <td>6.32145</td>\n",
       "      <td>30.75666</td>\n",
       "    </tr>\n",
       "    <tr>\n",
       "      <th>0</th>\n",
       "      <td>Republic of South Sudan</td>\n",
       "      <td>sarimax</td>\n",
       "      <td>4.00254</td>\n",
       "      <td>4.00357</td>\n",
       "      <td>89.34100</td>\n",
       "    </tr>\n",
       "    <tr>\n",
       "      <th>0</th>\n",
       "      <td>China</td>\n",
       "      <td>sarimax</td>\n",
       "      <td>3.92399</td>\n",
       "      <td>4.06495</td>\n",
       "      <td>103.69362</td>\n",
       "    </tr>\n",
       "    <tr>\n",
       "      <th>0</th>\n",
       "      <td>Liberia</td>\n",
       "      <td>sarimax</td>\n",
       "      <td>3.81045</td>\n",
       "      <td>3.82172</td>\n",
       "      <td>67.54002</td>\n",
       "    </tr>\n",
       "    <tr>\n",
       "      <th>0</th>\n",
       "      <td>Iraq</td>\n",
       "      <td>sarimax</td>\n",
       "      <td>3.74548</td>\n",
       "      <td>3.79741</td>\n",
       "      <td>155.22936</td>\n",
       "    </tr>\n",
       "    <tr>\n",
       "      <th>0</th>\n",
       "      <td>Burundi</td>\n",
       "      <td>sarimax</td>\n",
       "      <td>3.71655</td>\n",
       "      <td>3.71907</td>\n",
       "      <td>64.08251</td>\n",
       "    </tr>\n",
       "    <tr>\n",
       "      <th>0</th>\n",
       "      <td>Central African Republic</td>\n",
       "      <td>sarimax</td>\n",
       "      <td>3.68000</td>\n",
       "      <td>3.68511</td>\n",
       "      <td>100.00000</td>\n",
       "    </tr>\n",
       "    <tr>\n",
       "      <th>0</th>\n",
       "      <td>Dem. Rep. of the Congo</td>\n",
       "      <td>sarimax</td>\n",
       "      <td>3.39028</td>\n",
       "      <td>3.56415</td>\n",
       "      <td>50.53657</td>\n",
       "    </tr>\n",
       "  </tbody>\n",
       "</table>\n",
       "</div>"
      ],
      "text/plain": [
       "                    Country    Model       mae      rmse       mape\n",
       "0                 Macao SAR  sarimax  20.56955  22.15063  348.18255\n",
       "0                    Guyana  sarimax  20.33332  24.30388  562.48424\n",
       "0                     Libya  sarimax   7.73532   8.93492  118.99196\n",
       "0                     Yemen  sarimax   5.47565   5.73726  102.65598\n",
       "0                   Vietnam  sarimax   5.34312   5.34976   79.09161\n",
       "0                Mozambique  sarimax   4.78591   6.59009   36.45871\n",
       "0    Bosnia and Herzegovina  sarimax   4.59277   4.81009  153.09224\n",
       "0              Sierra Leone  sarimax   4.34488   4.41786   91.76839\n",
       "0        West Bank and Gaza  sarimax   4.31275   4.32375  198.92813\n",
       "0                   Moldova  sarimax   4.17665   4.19652   84.69639\n",
       "0                     Palau  sarimax   4.15077   4.29391   92.40386\n",
       "0                   Myanmar  sarimax   4.09082   4.16194  146.90091\n",
       "0                 Caribbean  sarimax   4.00680   6.32145   30.75666\n",
       "0   Republic of South Sudan  sarimax   4.00254   4.00357   89.34100\n",
       "0                     China  sarimax   3.92399   4.06495  103.69362\n",
       "0                   Liberia  sarimax   3.81045   3.82172   67.54002\n",
       "0                      Iraq  sarimax   3.74548   3.79741  155.22936\n",
       "0                   Burundi  sarimax   3.71655   3.71907   64.08251\n",
       "0  Central African Republic  sarimax   3.68000   3.68511  100.00000\n",
       "0    Dem. Rep. of the Congo  sarimax   3.39028   3.56415   50.53657"
      ]
     },
     "execution_count": 428,
     "metadata": {},
     "output_type": "execute_result"
    }
   ],
   "source": [
    "df_metrics_sarimax.sort_values(by='mae', ascending=False).head(20)"
   ]
  },
  {
   "cell_type": "code",
   "execution_count": 429,
   "metadata": {},
   "outputs": [
    {
     "data": {
      "text/plain": [
       "<Axes: >"
      ]
     },
     "execution_count": 429,
     "metadata": {},
     "output_type": "execute_result"
    },
    {
     "data": {
      "image/png": "[encoded data removed]",
      "text/plain": [
       "<Figure size 640x480 with 1 Axes>"
      ]
     },
     "metadata": {},
     "output_type": "display_data"
    }
   ],
   "source": [
    "df_metrics_sarimax['mae'].hist(bins=50)"
   ]
  },
  {
   "cell_type": "code",
   "execution_count": 430,
   "metadata": {},
   "outputs": [
    {
     "data": {
      "text/plain": [
       "mean      1.482224\n",
       "median    0.898300\n",
       "std       2.156974\n",
       "Name: mae, dtype: float64"
      ]
     },
     "execution_count": 430,
     "metadata": {},
     "output_type": "execute_result"
    }
   ],
   "source": [
    "df_metrics_sarimax['mae'].agg(['mean','median','std'])"
   ]
  },
  {
   "cell_type": "markdown",
   "metadata": {},
   "source": [
    "### 4.2 Simple smothing"
   ]
  },
  {
   "cell_type": "code",
   "execution_count": 431,
   "metadata": {},
   "outputs": [],
   "source": [
    "df_pred_ss = pd.DataFrame()\n",
    "for country in df3.columns:\n",
    "\n",
    "    # simple exponetial smooting\n",
    "    model_ses = SimpleExpSmoothing(\n",
    "        train[country],\n",
    "        initialization_method='estimated',                              \n",
    "    ).fit()\n",
    "# heuristic smoothing_level=0.7, optimized=True\n",
    "    pred_ses = model_ses.forecast(test.shape[0])\n",
    "    df_pred_ss = pd.concat([df_pred_ss, pd.DataFrame(pred_ses, columns=[country])], axis=1)"
   ]
  },
  {
   "cell_type": "code",
   "execution_count": 432,
   "metadata": {},
   "outputs": [],
   "source": [
    "df_metrics_ss = pd.DataFrame()\n",
    "for country in df_pred_ss.columns:\n",
    "    metrics_ss = metrics(test[country], df_pred_ss[country], 'simple smothing',country)\n",
    "    df_metrics_ss = pd.concat([df_metrics_ss, metrics_ss], axis=0)"
   ]
  },
  {
   "cell_type": "code",
   "execution_count": 433,
   "metadata": {},
   "outputs": [
    {
     "data": {
      "text/html": [
       "<div>\n",
       "<style scoped>\n",
       "    .dataframe tbody tr th:only-of-type {\n",
       "        vertical-align: middle;\n",
       "    }\n",
       "\n",
       "    .dataframe tbody tr th {\n",
       "        vertical-align: top;\n",
       "    }\n",
       "\n",
       "    .dataframe thead th {\n",
       "        text-align: right;\n",
       "    }\n",
       "</style>\n",
       "<table border=\"1\" class=\"dataframe\">\n",
       "  <thead>\n",
       "    <tr style=\"text-align: right;\">\n",
       "      <th></th>\n",
       "      <th>Country</th>\n",
       "      <th>Model</th>\n",
       "      <th>mae</th>\n",
       "      <th>rmse</th>\n",
       "      <th>mape</th>\n",
       "    </tr>\n",
       "  </thead>\n",
       "  <tbody>\n",
       "    <tr>\n",
       "      <th>0</th>\n",
       "      <td>Guyana</td>\n",
       "      <td>simple smothing</td>\n",
       "      <td>24.03068</td>\n",
       "      <td>28.90988</td>\n",
       "      <td>673.11352</td>\n",
       "    </tr>\n",
       "    <tr>\n",
       "      <th>0</th>\n",
       "      <td>Yemen</td>\n",
       "      <td>simple smothing</td>\n",
       "      <td>6.80645</td>\n",
       "      <td>7.03333</td>\n",
       "      <td>132.21297</td>\n",
       "    </tr>\n",
       "    <tr>\n",
       "      <th>0</th>\n",
       "      <td>Ukraine</td>\n",
       "      <td>simple smothing</td>\n",
       "      <td>6.38187</td>\n",
       "      <td>6.38187</td>\n",
       "      <td>304.55761</td>\n",
       "    </tr>\n",
       "    <tr>\n",
       "      <th>0</th>\n",
       "      <td>Caribbean</td>\n",
       "      <td>simple smothing</td>\n",
       "      <td>6.19285</td>\n",
       "      <td>6.49835</td>\n",
       "      <td>208.93552</td>\n",
       "    </tr>\n",
       "    <tr>\n",
       "      <th>0</th>\n",
       "      <td>Mozambique</td>\n",
       "      <td>simple smothing</td>\n",
       "      <td>6.10628</td>\n",
       "      <td>7.59743</td>\n",
       "      <td>53.69418</td>\n",
       "    </tr>\n",
       "    <tr>\n",
       "      <th>0</th>\n",
       "      <td>Libya</td>\n",
       "      <td>simple smothing</td>\n",
       "      <td>5.58536</td>\n",
       "      <td>5.81400</td>\n",
       "      <td>90.36752</td>\n",
       "    </tr>\n",
       "    <tr>\n",
       "      <th>0</th>\n",
       "      <td>Palau</td>\n",
       "      <td>simple smothing</td>\n",
       "      <td>5.31366</td>\n",
       "      <td>5.84813</td>\n",
       "      <td>110.57227</td>\n",
       "    </tr>\n",
       "    <tr>\n",
       "      <th>0</th>\n",
       "      <td>Ireland</td>\n",
       "      <td>simple smothing</td>\n",
       "      <td>5.26638</td>\n",
       "      <td>5.28246</td>\n",
       "      <td>162.36170</td>\n",
       "    </tr>\n",
       "    <tr>\n",
       "      <th>0</th>\n",
       "      <td>Macao SAR</td>\n",
       "      <td>simple smothing</td>\n",
       "      <td>4.97784</td>\n",
       "      <td>6.68112</td>\n",
       "      <td>69.07003</td>\n",
       "    </tr>\n",
       "    <tr>\n",
       "      <th>0</th>\n",
       "      <td>Republic of South Sudan</td>\n",
       "      <td>simple smothing</td>\n",
       "      <td>4.53530</td>\n",
       "      <td>4.53635</td>\n",
       "      <td>101.23487</td>\n",
       "    </tr>\n",
       "    <tr>\n",
       "      <th>0</th>\n",
       "      <td>Sri Lanka</td>\n",
       "      <td>simple smothing</td>\n",
       "      <td>4.39806</td>\n",
       "      <td>4.43997</td>\n",
       "      <td>170.55731</td>\n",
       "    </tr>\n",
       "    <tr>\n",
       "      <th>0</th>\n",
       "      <td>Iraq</td>\n",
       "      <td>simple smothing</td>\n",
       "      <td>3.97059</td>\n",
       "      <td>3.98467</td>\n",
       "      <td>163.08824</td>\n",
       "    </tr>\n",
       "    <tr>\n",
       "      <th>0</th>\n",
       "      <td>Burundi</td>\n",
       "      <td>simple smothing</td>\n",
       "      <td>3.74318</td>\n",
       "      <td>3.74745</td>\n",
       "      <td>64.50317</td>\n",
       "    </tr>\n",
       "    <tr>\n",
       "      <th>0</th>\n",
       "      <td>Venezuela</td>\n",
       "      <td>simple smothing</td>\n",
       "      <td>3.68796</td>\n",
       "      <td>3.96084</td>\n",
       "      <td>501.26468</td>\n",
       "    </tr>\n",
       "    <tr>\n",
       "      <th>0</th>\n",
       "      <td>Moldova</td>\n",
       "      <td>simple smothing</td>\n",
       "      <td>3.60784</td>\n",
       "      <td>3.62134</td>\n",
       "      <td>73.21107</td>\n",
       "    </tr>\n",
       "    <tr>\n",
       "      <th>0</th>\n",
       "      <td>Suriname</td>\n",
       "      <td>simple smothing</td>\n",
       "      <td>3.59043</td>\n",
       "      <td>3.59043</td>\n",
       "      <td>119.68111</td>\n",
       "    </tr>\n",
       "    <tr>\n",
       "      <th>0</th>\n",
       "      <td>Sudan</td>\n",
       "      <td>simple smothing</td>\n",
       "      <td>3.43522</td>\n",
       "      <td>3.43732</td>\n",
       "      <td>116.87427</td>\n",
       "    </tr>\n",
       "    <tr>\n",
       "      <th>0</th>\n",
       "      <td>Samoa</td>\n",
       "      <td>simple smothing</td>\n",
       "      <td>3.42399</td>\n",
       "      <td>3.45794</td>\n",
       "      <td>115.31438</td>\n",
       "    </tr>\n",
       "    <tr>\n",
       "      <th>0</th>\n",
       "      <td>Equatorial Guinea</td>\n",
       "      <td>simple smothing</td>\n",
       "      <td>3.16542</td>\n",
       "      <td>4.13117</td>\n",
       "      <td>167.67548</td>\n",
       "    </tr>\n",
       "    <tr>\n",
       "      <th>0</th>\n",
       "      <td>Liberia</td>\n",
       "      <td>simple smothing</td>\n",
       "      <td>2.97491</td>\n",
       "      <td>2.97935</td>\n",
       "      <td>52.70700</td>\n",
       "    </tr>\n",
       "  </tbody>\n",
       "</table>\n",
       "</div>"
      ],
      "text/plain": [
       "                   Country            Model       mae      rmse       mape\n",
       "0                   Guyana  simple smothing  24.03068  28.90988  673.11352\n",
       "0                    Yemen  simple smothing   6.80645   7.03333  132.21297\n",
       "0                  Ukraine  simple smothing   6.38187   6.38187  304.55761\n",
       "0                Caribbean  simple smothing   6.19285   6.49835  208.93552\n",
       "0               Mozambique  simple smothing   6.10628   7.59743   53.69418\n",
       "0                    Libya  simple smothing   5.58536   5.81400   90.36752\n",
       "0                    Palau  simple smothing   5.31366   5.84813  110.57227\n",
       "0                  Ireland  simple smothing   5.26638   5.28246  162.36170\n",
       "0                Macao SAR  simple smothing   4.97784   6.68112   69.07003\n",
       "0  Republic of South Sudan  simple smothing   4.53530   4.53635  101.23487\n",
       "0                Sri Lanka  simple smothing   4.39806   4.43997  170.55731\n",
       "0                     Iraq  simple smothing   3.97059   3.98467  163.08824\n",
       "0                  Burundi  simple smothing   3.74318   3.74745   64.50317\n",
       "0                Venezuela  simple smothing   3.68796   3.96084  501.26468\n",
       "0                  Moldova  simple smothing   3.60784   3.62134   73.21107\n",
       "0                 Suriname  simple smothing   3.59043   3.59043  119.68111\n",
       "0                    Sudan  simple smothing   3.43522   3.43732  116.87427\n",
       "0                    Samoa  simple smothing   3.42399   3.45794  115.31438\n",
       "0        Equatorial Guinea  simple smothing   3.16542   4.13117  167.67548\n",
       "0                  Liberia  simple smothing   2.97491   2.97935   52.70700"
      ]
     },
     "execution_count": 433,
     "metadata": {},
     "output_type": "execute_result"
    }
   ],
   "source": [
    "df_metrics_ss.sort_values(by='mae', ascending=False).head(20)"
   ]
  },
  {
   "cell_type": "code",
   "execution_count": 434,
   "metadata": {},
   "outputs": [
    {
     "data": {
      "text/plain": [
       "<Axes: >"
      ]
     },
     "execution_count": 434,
     "metadata": {},
     "output_type": "execute_result"
    },
    {
     "data": {
      "image/png": "[encoded data removed]",
      "text/plain": [
       "<Figure size 640x480 with 1 Axes>"
      ]
     },
     "metadata": {},
     "output_type": "display_data"
    }
   ],
   "source": [
    "df_metrics_ss['mae'].hist(bins=50)"
   ]
  },
  {
   "cell_type": "code",
   "execution_count": 435,
   "metadata": {},
   "outputs": [
    {
     "data": {
      "text/plain": [
       "mean      1.259061\n",
       "median    0.753340\n",
       "std       1.968938\n",
       "Name: mae, dtype: float64"
      ]
     },
     "execution_count": 435,
     "metadata": {},
     "output_type": "execute_result"
    }
   ],
   "source": [
    "df_metrics_ss['mae'].agg(['mean','median','std'])"
   ]
  },
  {
   "cell_type": "markdown",
   "metadata": {},
   "source": [
    "## 3.3 Prophet"
   ]
  },
  {
   "cell_type": "code",
   "execution_count": 436,
   "metadata": {},
   "outputs": [
    {
     "name": "stderr",
     "output_type": "stream",
     "text": [
      "14:42:21 - cmdstanpy - INFO - Chain [1] start processing\n"
     ]
    },
    {
     "name": "stderr",
     "output_type": "stream",
     "text": [
      "14:42:21 - cmdstanpy - INFO - Chain [1] done processing\n",
      "14:42:21 - cmdstanpy - INFO - Chain [1] start processing\n",
      "14:42:21 - cmdstanpy - INFO - Chain [1] done processing\n",
      "14:42:22 - cmdstanpy - INFO - Chain [1] start processing\n",
      "14:42:22 - cmdstanpy - INFO - Chain [1] done processing\n",
      "14:42:22 - cmdstanpy - INFO - Chain [1] start processing\n",
      "14:42:22 - cmdstanpy - INFO - Chain [1] done processing\n",
      "14:42:22 - cmdstanpy - INFO - Chain [1] start processing\n",
      "14:42:22 - cmdstanpy - INFO - Chain [1] done processing\n",
      "14:42:22 - cmdstanpy - INFO - Chain [1] start processing\n",
      "14:42:22 - cmdstanpy - INFO - Chain [1] done processing\n",
      "14:42:22 - cmdstanpy - INFO - Chain [1] start processing\n",
      "14:42:22 - cmdstanpy - INFO - Chain [1] done processing\n",
      "14:42:22 - cmdstanpy - INFO - Chain [1] start processing\n",
      "14:42:22 - cmdstanpy - INFO - Chain [1] done processing\n",
      "14:42:22 - cmdstanpy - INFO - Chain [1] start processing\n",
      "14:42:22 - cmdstanpy - INFO - Chain [1] done processing\n",
      "14:42:23 - cmdstanpy - INFO - Chain [1] start processing\n",
      "14:42:23 - cmdstanpy - INFO - Chain [1] done processing\n",
      "14:42:23 - cmdstanpy - INFO - Chain [1] start processing\n",
      "14:42:23 - cmdstanpy - INFO - Chain [1] done processing\n",
      "14:42:23 - cmdstanpy - INFO - Chain [1] start processing\n",
      "14:42:23 - cmdstanpy - INFO - Chain [1] done processing\n",
      "14:42:23 - cmdstanpy - INFO - Chain [1] start processing\n",
      "14:42:23 - cmdstanpy - INFO - Chain [1] done processing\n",
      "14:42:23 - cmdstanpy - INFO - Chain [1] start processing\n",
      "14:42:23 - cmdstanpy - INFO - Chain [1] done processing\n",
      "14:42:23 - cmdstanpy - INFO - Chain [1] start processing\n",
      "14:42:23 - cmdstanpy - INFO - Chain [1] done processing\n",
      "14:42:23 - cmdstanpy - INFO - Chain [1] start processing\n",
      "14:42:23 - cmdstanpy - INFO - Chain [1] done processing\n",
      "14:42:24 - cmdstanpy - INFO - Chain [1] start processing\n",
      "14:42:24 - cmdstanpy - INFO - Chain [1] done processing\n",
      "14:42:24 - cmdstanpy - INFO - Chain [1] start processing\n",
      "14:42:24 - cmdstanpy - INFO - Chain [1] done processing\n",
      "14:42:24 - cmdstanpy - INFO - Chain [1] start processing\n",
      "14:42:24 - cmdstanpy - INFO - Chain [1] done processing\n",
      "14:42:24 - cmdstanpy - INFO - Chain [1] start processing\n",
      "14:42:24 - cmdstanpy - INFO - Chain [1] done processing\n",
      "14:42:24 - cmdstanpy - INFO - Chain [1] start processing\n",
      "14:42:24 - cmdstanpy - INFO - Chain [1] done processing\n",
      "14:42:24 - cmdstanpy - INFO - Chain [1] start processing\n",
      "14:42:24 - cmdstanpy - INFO - Chain [1] done processing\n",
      "14:42:24 - cmdstanpy - INFO - Chain [1] start processing\n",
      "14:42:24 - cmdstanpy - INFO - Chain [1] done processing\n",
      "14:42:25 - cmdstanpy - INFO - Chain [1] start processing\n",
      "14:42:25 - cmdstanpy - INFO - Chain [1] done processing\n",
      "14:42:25 - cmdstanpy - INFO - Chain [1] start processing\n",
      "14:42:25 - cmdstanpy - INFO - Chain [1] done processing\n",
      "14:42:25 - cmdstanpy - INFO - Chain [1] start processing\n",
      "14:42:25 - cmdstanpy - INFO - Chain [1] done processing\n",
      "14:42:25 - cmdstanpy - INFO - Chain [1] start processing\n",
      "14:42:25 - cmdstanpy - INFO - Chain [1] done processing\n",
      "14:42:25 - cmdstanpy - INFO - Chain [1] start processing\n",
      "14:42:25 - cmdstanpy - INFO - Chain [1] done processing\n",
      "14:42:25 - cmdstanpy - INFO - Chain [1] start processing\n",
      "14:42:25 - cmdstanpy - INFO - Chain [1] done processing\n",
      "14:42:25 - cmdstanpy - INFO - Chain [1] start processing\n",
      "14:42:25 - cmdstanpy - INFO - Chain [1] done processing\n",
      "14:42:26 - cmdstanpy - INFO - Chain [1] start processing\n",
      "14:42:26 - cmdstanpy - INFO - Chain [1] done processing\n",
      "14:42:26 - cmdstanpy - INFO - Chain [1] start processing\n",
      "14:42:26 - cmdstanpy - INFO - Chain [1] done processing\n",
      "14:42:26 - cmdstanpy - INFO - Chain [1] start processing\n",
      "14:42:26 - cmdstanpy - INFO - Chain [1] done processing\n",
      "14:42:26 - cmdstanpy - INFO - Chain [1] start processing\n",
      "14:42:26 - cmdstanpy - INFO - Chain [1] done processing\n",
      "14:42:26 - cmdstanpy - INFO - Chain [1] start processing\n",
      "14:42:26 - cmdstanpy - INFO - Chain [1] done processing\n",
      "14:42:26 - cmdstanpy - INFO - Chain [1] start processing\n",
      "14:42:27 - cmdstanpy - INFO - Chain [1] done processing\n",
      "14:42:27 - cmdstanpy - INFO - Chain [1] start processing\n",
      "14:42:27 - cmdstanpy - INFO - Chain [1] done processing\n",
      "14:42:27 - cmdstanpy - INFO - Chain [1] start processing\n",
      "14:42:27 - cmdstanpy - INFO - Chain [1] done processing\n",
      "14:42:27 - cmdstanpy - INFO - Chain [1] start processing\n",
      "14:42:27 - cmdstanpy - INFO - Chain [1] done processing\n",
      "14:42:27 - cmdstanpy - INFO - Chain [1] start processing\n",
      "14:42:27 - cmdstanpy - INFO - Chain [1] done processing\n",
      "14:42:27 - cmdstanpy - INFO - Chain [1] start processing\n",
      "14:42:27 - cmdstanpy - INFO - Chain [1] done processing\n",
      "14:42:27 - cmdstanpy - INFO - Chain [1] start processing\n",
      "14:42:27 - cmdstanpy - INFO - Chain [1] done processing\n",
      "14:42:27 - cmdstanpy - INFO - Chain [1] start processing\n",
      "14:42:28 - cmdstanpy - INFO - Chain [1] done processing\n",
      "14:42:28 - cmdstanpy - INFO - Chain [1] start processing\n",
      "14:42:28 - cmdstanpy - INFO - Chain [1] done processing\n",
      "14:42:28 - cmdstanpy - INFO - Chain [1] start processing\n",
      "14:42:28 - cmdstanpy - INFO - Chain [1] done processing\n",
      "14:42:28 - cmdstanpy - INFO - Chain [1] start processing\n",
      "14:42:28 - cmdstanpy - INFO - Chain [1] done processing\n",
      "14:42:28 - cmdstanpy - INFO - Chain [1] start processing\n",
      "14:42:28 - cmdstanpy - INFO - Chain [1] done processing\n",
      "14:42:28 - cmdstanpy - INFO - Chain [1] start processing\n",
      "14:42:28 - cmdstanpy - INFO - Chain [1] done processing\n",
      "14:42:28 - cmdstanpy - INFO - Chain [1] start processing\n",
      "14:42:28 - cmdstanpy - INFO - Chain [1] done processing\n",
      "14:42:28 - cmdstanpy - INFO - Chain [1] start processing\n",
      "14:42:28 - cmdstanpy - INFO - Chain [1] done processing\n",
      "14:42:28 - cmdstanpy - INFO - Chain [1] start processing\n",
      "14:42:29 - cmdstanpy - INFO - Chain [1] done processing\n",
      "14:42:29 - cmdstanpy - INFO - Chain [1] start processing\n",
      "14:42:29 - cmdstanpy - INFO - Chain [1] done processing\n",
      "14:42:29 - cmdstanpy - INFO - Chain [1] start processing\n",
      "14:42:29 - cmdstanpy - INFO - Chain [1] done processing\n",
      "14:42:29 - cmdstanpy - INFO - Chain [1] start processing\n",
      "14:42:29 - cmdstanpy - INFO - Chain [1] done processing\n",
      "14:42:29 - cmdstanpy - INFO - Chain [1] start processing\n",
      "14:42:29 - cmdstanpy - INFO - Chain [1] done processing\n",
      "14:42:29 - cmdstanpy - INFO - Chain [1] start processing\n",
      "14:42:29 - cmdstanpy - INFO - Chain [1] done processing\n",
      "14:42:29 - cmdstanpy - INFO - Chain [1] start processing\n",
      "14:42:29 - cmdstanpy - INFO - Chain [1] done processing\n",
      "14:42:29 - cmdstanpy - INFO - Chain [1] start processing\n",
      "14:42:30 - cmdstanpy - INFO - Chain [1] done processing\n",
      "14:42:30 - cmdstanpy - INFO - Chain [1] start processing\n",
      "14:42:30 - cmdstanpy - INFO - Chain [1] done processing\n",
      "14:42:30 - cmdstanpy - INFO - Chain [1] start processing\n",
      "14:42:30 - cmdstanpy - INFO - Chain [1] done processing\n",
      "14:42:30 - cmdstanpy - INFO - Chain [1] start processing\n",
      "14:42:30 - cmdstanpy - INFO - Chain [1] done processing\n",
      "14:42:30 - cmdstanpy - INFO - Chain [1] start processing\n",
      "14:42:30 - cmdstanpy - INFO - Chain [1] done processing\n",
      "14:42:30 - cmdstanpy - INFO - Chain [1] start processing\n",
      "14:42:30 - cmdstanpy - INFO - Chain [1] done processing\n",
      "14:42:30 - cmdstanpy - INFO - Chain [1] start processing\n",
      "14:42:30 - cmdstanpy - INFO - Chain [1] done processing\n",
      "14:42:31 - cmdstanpy - INFO - Chain [1] start processing\n",
      "14:42:31 - cmdstanpy - INFO - Chain [1] done processing\n",
      "14:42:31 - cmdstanpy - INFO - Chain [1] start processing\n",
      "14:42:31 - cmdstanpy - INFO - Chain [1] done processing\n",
      "14:42:31 - cmdstanpy - INFO - Chain [1] start processing\n",
      "14:42:31 - cmdstanpy - INFO - Chain [1] done processing\n",
      "14:42:31 - cmdstanpy - INFO - Chain [1] start processing\n",
      "14:42:31 - cmdstanpy - INFO - Chain [1] done processing\n",
      "14:42:31 - cmdstanpy - INFO - Chain [1] start processing\n",
      "14:42:31 - cmdstanpy - INFO - Chain [1] done processing\n",
      "14:42:31 - cmdstanpy - INFO - Chain [1] start processing\n",
      "14:42:31 - cmdstanpy - INFO - Chain [1] done processing\n",
      "14:42:31 - cmdstanpy - INFO - Chain [1] start processing\n",
      "14:42:31 - cmdstanpy - INFO - Chain [1] done processing\n",
      "14:42:31 - cmdstanpy - INFO - Chain [1] start processing\n",
      "14:42:32 - cmdstanpy - INFO - Chain [1] done processing\n",
      "14:42:32 - cmdstanpy - INFO - Chain [1] start processing\n",
      "14:42:32 - cmdstanpy - INFO - Chain [1] done processing\n",
      "14:42:32 - cmdstanpy - INFO - Chain [1] start processing\n",
      "14:42:32 - cmdstanpy - INFO - Chain [1] done processing\n",
      "14:42:32 - cmdstanpy - INFO - Chain [1] start processing\n",
      "14:42:32 - cmdstanpy - INFO - Chain [1] done processing\n",
      "14:42:32 - cmdstanpy - INFO - Chain [1] start processing\n",
      "14:42:32 - cmdstanpy - INFO - Chain [1] done processing\n",
      "14:42:32 - cmdstanpy - INFO - Chain [1] start processing\n",
      "14:42:32 - cmdstanpy - INFO - Chain [1] done processing\n",
      "14:42:32 - cmdstanpy - INFO - Chain [1] start processing\n",
      "14:42:32 - cmdstanpy - INFO - Chain [1] done processing\n",
      "14:42:32 - cmdstanpy - INFO - Chain [1] start processing\n",
      "14:42:32 - cmdstanpy - INFO - Chain [1] done processing\n",
      "14:42:33 - cmdstanpy - INFO - Chain [1] start processing\n",
      "14:42:33 - cmdstanpy - INFO - Chain [1] done processing\n",
      "14:42:33 - cmdstanpy - INFO - Chain [1] start processing\n",
      "14:42:33 - cmdstanpy - INFO - Chain [1] done processing\n",
      "14:42:33 - cmdstanpy - INFO - Chain [1] start processing\n",
      "14:42:33 - cmdstanpy - INFO - Chain [1] done processing\n",
      "14:42:33 - cmdstanpy - INFO - Chain [1] start processing\n",
      "14:42:33 - cmdstanpy - INFO - Chain [1] done processing\n",
      "14:42:33 - cmdstanpy - INFO - Chain [1] start processing\n",
      "14:42:33 - cmdstanpy - INFO - Chain [1] done processing\n",
      "14:42:33 - cmdstanpy - INFO - Chain [1] start processing\n",
      "14:42:33 - cmdstanpy - INFO - Chain [1] done processing\n",
      "14:42:33 - cmdstanpy - INFO - Chain [1] start processing\n",
      "14:42:34 - cmdstanpy - INFO - Chain [1] done processing\n",
      "14:42:34 - cmdstanpy - INFO - Chain [1] start processing\n",
      "14:42:34 - cmdstanpy - INFO - Chain [1] done processing\n",
      "14:42:34 - cmdstanpy - INFO - Chain [1] start processing\n",
      "14:42:34 - cmdstanpy - INFO - Chain [1] done processing\n",
      "14:42:34 - cmdstanpy - INFO - Chain [1] start processing\n",
      "14:42:34 - cmdstanpy - INFO - Chain [1] done processing\n",
      "14:42:34 - cmdstanpy - INFO - Chain [1] start processing\n",
      "14:42:34 - cmdstanpy - INFO - Chain [1] done processing\n",
      "14:42:34 - cmdstanpy - INFO - Chain [1] start processing\n",
      "14:42:34 - cmdstanpy - INFO - Chain [1] done processing\n",
      "14:42:34 - cmdstanpy - INFO - Chain [1] start processing\n",
      "14:42:34 - cmdstanpy - INFO - Chain [1] done processing\n",
      "14:42:34 - cmdstanpy - INFO - Chain [1] start processing\n",
      "14:42:34 - cmdstanpy - INFO - Chain [1] done processing\n",
      "14:42:35 - cmdstanpy - INFO - Chain [1] start processing\n",
      "14:42:35 - cmdstanpy - INFO - Chain [1] done processing\n",
      "14:42:35 - cmdstanpy - INFO - Chain [1] start processing\n",
      "14:42:35 - cmdstanpy - INFO - Chain [1] done processing\n",
      "14:42:35 - cmdstanpy - INFO - Chain [1] start processing\n",
      "14:42:35 - cmdstanpy - INFO - Chain [1] done processing\n",
      "14:42:35 - cmdstanpy - INFO - Chain [1] start processing\n",
      "14:42:35 - cmdstanpy - INFO - Chain [1] done processing\n",
      "14:42:35 - cmdstanpy - INFO - Chain [1] start processing\n",
      "14:42:35 - cmdstanpy - INFO - Chain [1] done processing\n",
      "14:42:35 - cmdstanpy - INFO - Chain [1] start processing\n",
      "14:42:35 - cmdstanpy - INFO - Chain [1] done processing\n",
      "14:42:36 - cmdstanpy - INFO - Chain [1] start processing\n",
      "14:42:36 - cmdstanpy - INFO - Chain [1] done processing\n",
      "14:42:36 - cmdstanpy - INFO - Chain [1] start processing\n",
      "14:42:36 - cmdstanpy - INFO - Chain [1] done processing\n",
      "14:42:36 - cmdstanpy - INFO - Chain [1] start processing\n",
      "14:42:36 - cmdstanpy - INFO - Chain [1] done processing\n",
      "14:42:36 - cmdstanpy - INFO - Chain [1] start processing\n",
      "14:42:36 - cmdstanpy - INFO - Chain [1] done processing\n",
      "14:42:36 - cmdstanpy - INFO - Chain [1] start processing\n",
      "14:42:36 - cmdstanpy - INFO - Chain [1] done processing\n",
      "14:42:36 - cmdstanpy - INFO - Chain [1] start processing\n",
      "14:42:36 - cmdstanpy - INFO - Chain [1] done processing\n",
      "14:42:36 - cmdstanpy - INFO - Chain [1] start processing\n",
      "14:42:37 - cmdstanpy - INFO - Chain [1] done processing\n",
      "14:42:37 - cmdstanpy - INFO - Chain [1] start processing\n",
      "14:42:37 - cmdstanpy - INFO - Chain [1] done processing\n",
      "14:42:37 - cmdstanpy - INFO - Chain [1] start processing\n",
      "14:42:37 - cmdstanpy - INFO - Chain [1] done processing\n",
      "14:42:37 - cmdstanpy - INFO - Chain [1] start processing\n",
      "14:42:37 - cmdstanpy - INFO - Chain [1] done processing\n",
      "14:42:37 - cmdstanpy - INFO - Chain [1] start processing\n",
      "14:42:37 - cmdstanpy - INFO - Chain [1] done processing\n",
      "14:42:37 - cmdstanpy - INFO - Chain [1] start processing\n",
      "14:42:37 - cmdstanpy - INFO - Chain [1] done processing\n",
      "14:42:37 - cmdstanpy - INFO - Chain [1] start processing\n",
      "14:42:37 - cmdstanpy - INFO - Chain [1] done processing\n",
      "14:42:37 - cmdstanpy - INFO - Chain [1] start processing\n",
      "14:42:37 - cmdstanpy - INFO - Chain [1] done processing\n",
      "14:42:38 - cmdstanpy - INFO - Chain [1] start processing\n",
      "14:42:38 - cmdstanpy - INFO - Chain [1] done processing\n",
      "14:42:38 - cmdstanpy - INFO - Chain [1] start processing\n",
      "14:42:38 - cmdstanpy - INFO - Chain [1] done processing\n",
      "14:42:38 - cmdstanpy - INFO - Chain [1] start processing\n",
      "14:42:38 - cmdstanpy - INFO - Chain [1] done processing\n",
      "14:42:38 - cmdstanpy - INFO - Chain [1] start processing\n",
      "14:42:38 - cmdstanpy - INFO - Chain [1] done processing\n",
      "14:42:38 - cmdstanpy - INFO - Chain [1] start processing\n",
      "14:42:38 - cmdstanpy - INFO - Chain [1] done processing\n",
      "14:42:38 - cmdstanpy - INFO - Chain [1] start processing\n",
      "14:42:38 - cmdstanpy - INFO - Chain [1] done processing\n",
      "14:42:38 - cmdstanpy - INFO - Chain [1] start processing\n",
      "14:42:38 - cmdstanpy - INFO - Chain [1] done processing\n",
      "14:42:39 - cmdstanpy - INFO - Chain [1] start processing\n",
      "14:42:39 - cmdstanpy - INFO - Chain [1] done processing\n",
      "14:42:39 - cmdstanpy - INFO - Chain [1] start processing\n",
      "14:42:39 - cmdstanpy - INFO - Chain [1] done processing\n",
      "14:42:39 - cmdstanpy - INFO - Chain [1] start processing\n",
      "14:42:39 - cmdstanpy - INFO - Chain [1] done processing\n",
      "14:42:39 - cmdstanpy - INFO - Chain [1] start processing\n",
      "14:42:39 - cmdstanpy - INFO - Chain [1] done processing\n",
      "14:42:39 - cmdstanpy - INFO - Chain [1] start processing\n",
      "14:42:39 - cmdstanpy - INFO - Chain [1] done processing\n",
      "14:42:39 - cmdstanpy - INFO - Chain [1] start processing\n",
      "14:42:39 - cmdstanpy - INFO - Chain [1] done processing\n",
      "14:42:39 - cmdstanpy - INFO - Chain [1] start processing\n",
      "14:42:39 - cmdstanpy - INFO - Chain [1] done processing\n",
      "14:42:40 - cmdstanpy - INFO - Chain [1] start processing\n",
      "14:42:40 - cmdstanpy - INFO - Chain [1] done processing\n",
      "14:42:40 - cmdstanpy - INFO - Chain [1] start processing\n",
      "14:42:40 - cmdstanpy - INFO - Chain [1] done processing\n",
      "14:42:40 - cmdstanpy - INFO - Chain [1] start processing\n",
      "14:42:40 - cmdstanpy - INFO - Chain [1] done processing\n",
      "14:42:40 - cmdstanpy - INFO - Chain [1] start processing\n",
      "14:42:40 - cmdstanpy - INFO - Chain [1] done processing\n",
      "14:42:40 - cmdstanpy - INFO - Chain [1] start processing\n",
      "14:42:40 - cmdstanpy - INFO - Chain [1] done processing\n",
      "14:42:40 - cmdstanpy - INFO - Chain [1] start processing\n",
      "14:42:40 - cmdstanpy - INFO - Chain [1] done processing\n",
      "14:42:40 - cmdstanpy - INFO - Chain [1] start processing\n",
      "14:42:40 - cmdstanpy - INFO - Chain [1] done processing\n",
      "14:42:40 - cmdstanpy - INFO - Chain [1] start processing\n",
      "14:42:40 - cmdstanpy - INFO - Chain [1] done processing\n",
      "14:42:41 - cmdstanpy - INFO - Chain [1] start processing\n",
      "14:42:41 - cmdstanpy - INFO - Chain [1] done processing\n",
      "14:42:41 - cmdstanpy - INFO - Chain [1] start processing\n",
      "14:42:41 - cmdstanpy - INFO - Chain [1] done processing\n",
      "14:42:41 - cmdstanpy - INFO - Chain [1] start processing\n",
      "14:42:41 - cmdstanpy - INFO - Chain [1] done processing\n",
      "14:42:41 - cmdstanpy - INFO - Chain [1] start processing\n",
      "14:42:41 - cmdstanpy - INFO - Chain [1] done processing\n",
      "14:42:41 - cmdstanpy - INFO - Chain [1] start processing\n",
      "14:42:41 - cmdstanpy - INFO - Chain [1] done processing\n",
      "14:42:41 - cmdstanpy - INFO - Chain [1] start processing\n",
      "14:42:41 - cmdstanpy - INFO - Chain [1] done processing\n",
      "14:42:42 - cmdstanpy - INFO - Chain [1] start processing\n",
      "14:42:42 - cmdstanpy - INFO - Chain [1] done processing\n",
      "14:42:42 - cmdstanpy - INFO - Chain [1] start processing\n",
      "14:42:42 - cmdstanpy - INFO - Chain [1] done processing\n",
      "14:42:42 - cmdstanpy - INFO - Chain [1] start processing\n",
      "14:42:42 - cmdstanpy - INFO - Chain [1] done processing\n",
      "14:42:42 - cmdstanpy - INFO - Chain [1] start processing\n",
      "14:42:42 - cmdstanpy - INFO - Chain [1] done processing\n",
      "14:42:42 - cmdstanpy - INFO - Chain [1] start processing\n",
      "14:42:42 - cmdstanpy - INFO - Chain [1] done processing\n",
      "14:42:42 - cmdstanpy - INFO - Chain [1] start processing\n",
      "14:42:42 - cmdstanpy - INFO - Chain [1] done processing\n",
      "14:42:42 - cmdstanpy - INFO - Chain [1] start processing\n",
      "14:42:42 - cmdstanpy - INFO - Chain [1] done processing\n",
      "14:42:43 - cmdstanpy - INFO - Chain [1] start processing\n",
      "14:42:43 - cmdstanpy - INFO - Chain [1] done processing\n",
      "14:42:43 - cmdstanpy - INFO - Chain [1] start processing\n",
      "14:42:43 - cmdstanpy - INFO - Chain [1] done processing\n",
      "14:42:43 - cmdstanpy - INFO - Chain [1] start processing\n",
      "14:42:43 - cmdstanpy - INFO - Chain [1] done processing\n",
      "14:42:43 - cmdstanpy - INFO - Chain [1] start processing\n",
      "14:42:43 - cmdstanpy - INFO - Chain [1] done processing\n",
      "14:42:43 - cmdstanpy - INFO - Chain [1] start processing\n",
      "14:42:43 - cmdstanpy - INFO - Chain [1] done processing\n",
      "14:42:43 - cmdstanpy - INFO - Chain [1] start processing\n",
      "14:42:43 - cmdstanpy - INFO - Chain [1] done processing\n",
      "14:42:43 - cmdstanpy - INFO - Chain [1] start processing\n",
      "14:42:43 - cmdstanpy - INFO - Chain [1] done processing\n",
      "14:42:43 - cmdstanpy - INFO - Chain [1] start processing\n",
      "14:42:44 - cmdstanpy - INFO - Chain [1] done processing\n",
      "14:42:44 - cmdstanpy - INFO - Chain [1] start processing\n",
      "14:42:44 - cmdstanpy - INFO - Chain [1] done processing\n",
      "14:42:44 - cmdstanpy - INFO - Chain [1] start processing\n",
      "14:42:44 - cmdstanpy - INFO - Chain [1] done processing\n",
      "14:42:44 - cmdstanpy - INFO - Chain [1] start processing\n",
      "14:42:44 - cmdstanpy - INFO - Chain [1] done processing\n",
      "14:42:44 - cmdstanpy - INFO - Chain [1] start processing\n",
      "14:42:44 - cmdstanpy - INFO - Chain [1] done processing\n",
      "14:42:44 - cmdstanpy - INFO - Chain [1] start processing\n",
      "14:42:44 - cmdstanpy - INFO - Chain [1] done processing\n",
      "14:42:44 - cmdstanpy - INFO - Chain [1] start processing\n",
      "14:42:44 - cmdstanpy - INFO - Chain [1] done processing\n",
      "14:42:44 - cmdstanpy - INFO - Chain [1] start processing\n",
      "14:42:45 - cmdstanpy - INFO - Chain [1] done processing\n",
      "14:42:45 - cmdstanpy - INFO - Chain [1] start processing\n",
      "14:42:45 - cmdstanpy - INFO - Chain [1] done processing\n",
      "14:42:45 - cmdstanpy - INFO - Chain [1] start processing\n",
      "14:42:45 - cmdstanpy - INFO - Chain [1] done processing\n",
      "14:42:45 - cmdstanpy - INFO - Chain [1] start processing\n",
      "14:42:45 - cmdstanpy - INFO - Chain [1] done processing\n",
      "14:42:45 - cmdstanpy - INFO - Chain [1] start processing\n",
      "14:42:45 - cmdstanpy - INFO - Chain [1] done processing\n",
      "14:42:45 - cmdstanpy - INFO - Chain [1] start processing\n",
      "14:42:45 - cmdstanpy - INFO - Chain [1] done processing\n",
      "14:42:45 - cmdstanpy - INFO - Chain [1] start processing\n",
      "14:42:45 - cmdstanpy - INFO - Chain [1] done processing\n",
      "14:42:45 - cmdstanpy - INFO - Chain [1] start processing\n",
      "14:42:45 - cmdstanpy - INFO - Chain [1] done processing\n",
      "14:42:46 - cmdstanpy - INFO - Chain [1] start processing\n",
      "14:42:46 - cmdstanpy - INFO - Chain [1] done processing\n",
      "14:42:46 - cmdstanpy - INFO - Chain [1] start processing\n",
      "14:42:46 - cmdstanpy - INFO - Chain [1] done processing\n",
      "14:42:46 - cmdstanpy - INFO - Chain [1] start processing\n",
      "14:42:46 - cmdstanpy - INFO - Chain [1] done processing\n",
      "14:42:46 - cmdstanpy - INFO - Chain [1] start processing\n",
      "14:42:46 - cmdstanpy - INFO - Chain [1] done processing\n",
      "14:42:46 - cmdstanpy - INFO - Chain [1] start processing\n",
      "14:42:46 - cmdstanpy - INFO - Chain [1] done processing\n",
      "14:42:46 - cmdstanpy - INFO - Chain [1] start processing\n",
      "14:42:46 - cmdstanpy - INFO - Chain [1] done processing\n",
      "14:42:46 - cmdstanpy - INFO - Chain [1] start processing\n",
      "14:42:47 - cmdstanpy - INFO - Chain [1] done processing\n",
      "14:42:47 - cmdstanpy - INFO - Chain [1] start processing\n",
      "14:42:47 - cmdstanpy - INFO - Chain [1] done processing\n",
      "14:42:47 - cmdstanpy - INFO - Chain [1] start processing\n",
      "14:42:47 - cmdstanpy - INFO - Chain [1] done processing\n",
      "14:42:47 - cmdstanpy - INFO - Chain [1] start processing\n",
      "14:42:47 - cmdstanpy - INFO - Chain [1] done processing\n",
      "14:42:47 - cmdstanpy - INFO - Chain [1] start processing\n",
      "14:42:47 - cmdstanpy - INFO - Chain [1] done processing\n",
      "14:42:47 - cmdstanpy - INFO - Chain [1] start processing\n",
      "14:42:47 - cmdstanpy - INFO - Chain [1] done processing\n",
      "14:42:47 - cmdstanpy - INFO - Chain [1] start processing\n",
      "14:42:47 - cmdstanpy - INFO - Chain [1] done processing\n",
      "14:42:47 - cmdstanpy - INFO - Chain [1] start processing\n",
      "14:42:48 - cmdstanpy - INFO - Chain [1] done processing\n",
      "14:42:48 - cmdstanpy - INFO - Chain [1] start processing\n",
      "14:42:48 - cmdstanpy - INFO - Chain [1] done processing\n",
      "14:42:48 - cmdstanpy - INFO - Chain [1] start processing\n",
      "14:42:48 - cmdstanpy - INFO - Chain [1] done processing\n",
      "14:42:48 - cmdstanpy - INFO - Chain [1] start processing\n",
      "14:42:48 - cmdstanpy - INFO - Chain [1] done processing\n",
      "14:42:48 - cmdstanpy - INFO - Chain [1] start processing\n",
      "14:42:48 - cmdstanpy - INFO - Chain [1] done processing\n",
      "14:42:48 - cmdstanpy - INFO - Chain [1] start processing\n",
      "14:42:48 - cmdstanpy - INFO - Chain [1] done processing\n",
      "14:42:48 - cmdstanpy - INFO - Chain [1] start processing\n",
      "14:42:48 - cmdstanpy - INFO - Chain [1] done processing\n",
      "14:42:48 - cmdstanpy - INFO - Chain [1] start processing\n",
      "14:42:49 - cmdstanpy - INFO - Chain [1] done processing\n",
      "14:42:49 - cmdstanpy - INFO - Chain [1] start processing\n",
      "14:42:49 - cmdstanpy - INFO - Chain [1] done processing\n",
      "14:42:49 - cmdstanpy - INFO - Chain [1] start processing\n",
      "14:42:49 - cmdstanpy - INFO - Chain [1] done processing\n",
      "14:42:49 - cmdstanpy - INFO - Chain [1] start processing\n",
      "14:42:49 - cmdstanpy - INFO - Chain [1] done processing\n",
      "14:42:49 - cmdstanpy - INFO - Chain [1] start processing\n",
      "14:42:49 - cmdstanpy - INFO - Chain [1] done processing\n",
      "14:42:49 - cmdstanpy - INFO - Chain [1] start processing\n",
      "14:42:49 - cmdstanpy - INFO - Chain [1] done processing\n",
      "14:42:49 - cmdstanpy - INFO - Chain [1] start processing\n",
      "14:42:49 - cmdstanpy - INFO - Chain [1] done processing\n",
      "14:42:50 - cmdstanpy - INFO - Chain [1] start processing\n",
      "14:42:50 - cmdstanpy - INFO - Chain [1] done processing\n",
      "14:42:50 - cmdstanpy - INFO - Chain [1] start processing\n",
      "14:42:50 - cmdstanpy - INFO - Chain [1] done processing\n",
      "14:42:50 - cmdstanpy - INFO - Chain [1] start processing\n",
      "14:42:50 - cmdstanpy - INFO - Chain [1] done processing\n",
      "14:42:50 - cmdstanpy - INFO - Chain [1] start processing\n",
      "14:42:50 - cmdstanpy - INFO - Chain [1] done processing\n",
      "14:42:50 - cmdstanpy - INFO - Chain [1] start processing\n",
      "14:42:50 - cmdstanpy - INFO - Chain [1] done processing\n",
      "14:42:50 - cmdstanpy - INFO - Chain [1] start processing\n",
      "14:42:50 - cmdstanpy - INFO - Chain [1] done processing\n",
      "14:42:50 - cmdstanpy - INFO - Chain [1] start processing\n",
      "14:42:50 - cmdstanpy - INFO - Chain [1] done processing\n",
      "14:42:51 - cmdstanpy - INFO - Chain [1] start processing\n",
      "14:42:51 - cmdstanpy - INFO - Chain [1] done processing\n",
      "14:42:51 - cmdstanpy - INFO - Chain [1] start processing\n",
      "14:42:51 - cmdstanpy - INFO - Chain [1] done processing\n",
      "14:42:51 - cmdstanpy - INFO - Chain [1] start processing\n",
      "14:42:51 - cmdstanpy - INFO - Chain [1] done processing\n",
      "14:42:51 - cmdstanpy - INFO - Chain [1] start processing\n",
      "14:42:51 - cmdstanpy - INFO - Chain [1] done processing\n",
      "14:42:51 - cmdstanpy - INFO - Chain [1] start processing\n",
      "14:42:51 - cmdstanpy - INFO - Chain [1] done processing\n",
      "14:42:51 - cmdstanpy - INFO - Chain [1] start processing\n",
      "14:42:51 - cmdstanpy - INFO - Chain [1] done processing\n",
      "14:42:51 - cmdstanpy - INFO - Chain [1] start processing\n",
      "14:42:52 - cmdstanpy - INFO - Chain [1] done processing\n",
      "14:42:52 - cmdstanpy - INFO - Chain [1] start processing\n",
      "14:42:52 - cmdstanpy - INFO - Chain [1] done processing\n",
      "14:42:52 - cmdstanpy - INFO - Chain [1] start processing\n",
      "14:42:52 - cmdstanpy - INFO - Chain [1] done processing\n",
      "14:42:52 - cmdstanpy - INFO - Chain [1] start processing\n",
      "14:42:52 - cmdstanpy - INFO - Chain [1] done processing\n",
      "14:42:52 - cmdstanpy - INFO - Chain [1] start processing\n",
      "14:42:52 - cmdstanpy - INFO - Chain [1] done processing\n",
      "14:42:52 - cmdstanpy - INFO - Chain [1] start processing\n",
      "14:42:52 - cmdstanpy - INFO - Chain [1] done processing\n",
      "14:42:52 - cmdstanpy - INFO - Chain [1] start processing\n",
      "14:42:52 - cmdstanpy - INFO - Chain [1] done processing\n",
      "14:42:52 - cmdstanpy - INFO - Chain [1] start processing\n",
      "14:42:53 - cmdstanpy - INFO - Chain [1] done processing\n",
      "14:42:53 - cmdstanpy - INFO - Chain [1] start processing\n",
      "14:42:53 - cmdstanpy - INFO - Chain [1] done processing\n",
      "14:42:53 - cmdstanpy - INFO - Chain [1] start processing\n",
      "14:42:53 - cmdstanpy - INFO - Chain [1] done processing\n",
      "14:42:53 - cmdstanpy - INFO - Chain [1] start processing\n",
      "14:42:53 - cmdstanpy - INFO - Chain [1] done processing\n",
      "14:42:53 - cmdstanpy - INFO - Chain [1] start processing\n",
      "14:42:53 - cmdstanpy - INFO - Chain [1] done processing\n",
      "14:42:53 - cmdstanpy - INFO - Chain [1] start processing\n",
      "14:42:53 - cmdstanpy - INFO - Chain [1] done processing\n",
      "14:42:53 - cmdstanpy - INFO - Chain [1] start processing\n",
      "14:42:53 - cmdstanpy - INFO - Chain [1] done processing\n",
      "14:42:54 - cmdstanpy - INFO - Chain [1] start processing\n",
      "14:42:54 - cmdstanpy - INFO - Chain [1] done processing\n",
      "14:42:54 - cmdstanpy - INFO - Chain [1] start processing\n",
      "14:42:54 - cmdstanpy - INFO - Chain [1] done processing\n",
      "14:42:54 - cmdstanpy - INFO - Chain [1] start processing\n",
      "14:42:54 - cmdstanpy - INFO - Chain [1] done processing\n",
      "14:42:54 - cmdstanpy - INFO - Chain [1] start processing\n",
      "14:42:54 - cmdstanpy - INFO - Chain [1] done processing\n"
     ]
    }
   ],
   "source": [
    "\n",
    "df_pred_prophet = pd.DataFrame()\n",
    "\n",
    "for country in df3.columns:\n",
    "    aux = train[[country]].copy()\n",
    "    aux['ds'] = aux.index\n",
    "    aux.rename(columns={country: 'y'}, inplace=True)\n",
    "    aux\n",
    "\n",
    "    # # Crie e ajuste o modelo\n",
    "    model_prophet = Prophet(\n",
    "        growth='linear',\n",
    "        seasonality_mode='additive',\n",
    "        yearly_seasonality=False,\n",
    "        weekly_seasonality=False,\n",
    "        daily_seasonality=False,\n",
    "        changepoint_prior_scale=0.1,\n",
    "        seasonality_prior_scale=0,\n",
    "    )\n",
    "    model_prophet.fit(aux)\n",
    "\n",
    "\n",
    "    future = model_prophet.make_future_dataframe(periods=test.shape[0], freq='YS')  \n",
    "    forecast = model_prophet.predict(future)\n",
    "    df_pred_prophet = pd.concat([df_pred_prophet, pd.DataFrame(forecast[['yhat']][-5:].values, columns=[country])], axis=1)"
   ]
  },
  {
   "cell_type": "code",
   "execution_count": 437,
   "metadata": {},
   "outputs": [],
   "source": [
    "df_metrics_prophet = pd.DataFrame()\n",
    "for country in df_pred_prophet.columns:\n",
    "    metrics_prophet = metrics(test[country], df_pred_prophet[country], 'phophet',country)\n",
    "    df_metrics_prophet = pd.concat([df_metrics_prophet, metrics_prophet], axis=0)"
   ]
  },
  {
   "cell_type": "code",
   "execution_count": 438,
   "metadata": {},
   "outputs": [
    {
     "data": {
      "text/html": [
       "<div>\n",
       "<style scoped>\n",
       "    .dataframe tbody tr th:only-of-type {\n",
       "        vertical-align: middle;\n",
       "    }\n",
       "\n",
       "    .dataframe tbody tr th {\n",
       "        vertical-align: top;\n",
       "    }\n",
       "\n",
       "    .dataframe thead th {\n",
       "        text-align: right;\n",
       "    }\n",
       "</style>\n",
       "<table border=\"1\" class=\"dataframe\">\n",
       "  <thead>\n",
       "    <tr style=\"text-align: right;\">\n",
       "      <th></th>\n",
       "      <th>Country</th>\n",
       "      <th>Model</th>\n",
       "      <th>mae</th>\n",
       "      <th>rmse</th>\n",
       "      <th>mape</th>\n",
       "    </tr>\n",
       "  </thead>\n",
       "  <tbody>\n",
       "    <tr>\n",
       "      <th>0</th>\n",
       "      <td>Guyana</td>\n",
       "      <td>phophet</td>\n",
       "      <td>18.71707</td>\n",
       "      <td>19.18704</td>\n",
       "      <td>317.52606</td>\n",
       "    </tr>\n",
       "    <tr>\n",
       "      <th>0</th>\n",
       "      <td>Equatorial Guinea</td>\n",
       "      <td>phophet</td>\n",
       "      <td>7.85506</td>\n",
       "      <td>8.90264</td>\n",
       "      <td>437.69437</td>\n",
       "    </tr>\n",
       "    <tr>\n",
       "      <th>0</th>\n",
       "      <td>Azerbaijan</td>\n",
       "      <td>phophet</td>\n",
       "      <td>7.60160</td>\n",
       "      <td>7.62054</td>\n",
       "      <td>296.96489</td>\n",
       "    </tr>\n",
       "    <tr>\n",
       "      <th>0</th>\n",
       "      <td>Venezuela</td>\n",
       "      <td>phophet</td>\n",
       "      <td>6.77428</td>\n",
       "      <td>7.02723</td>\n",
       "      <td>706.45319</td>\n",
       "    </tr>\n",
       "    <tr>\n",
       "      <th>0</th>\n",
       "      <td>Tajikistan</td>\n",
       "      <td>phophet</td>\n",
       "      <td>6.72677</td>\n",
       "      <td>6.75902</td>\n",
       "      <td>165.04951</td>\n",
       "    </tr>\n",
       "    <tr>\n",
       "      <th>0</th>\n",
       "      <td>Macao SAR</td>\n",
       "      <td>phophet</td>\n",
       "      <td>6.36106</td>\n",
       "      <td>8.83559</td>\n",
       "      <td>71.30168</td>\n",
       "    </tr>\n",
       "    <tr>\n",
       "      <th>0</th>\n",
       "      <td>Iraq</td>\n",
       "      <td>phophet</td>\n",
       "      <td>6.20063</td>\n",
       "      <td>6.21738</td>\n",
       "      <td>254.36364</td>\n",
       "    </tr>\n",
       "    <tr>\n",
       "      <th>0</th>\n",
       "      <td>Republic of South Sudan</td>\n",
       "      <td>phophet</td>\n",
       "      <td>6.17700</td>\n",
       "      <td>6.22513</td>\n",
       "      <td>137.60980</td>\n",
       "    </tr>\n",
       "    <tr>\n",
       "      <th>0</th>\n",
       "      <td>Turkmenistan</td>\n",
       "      <td>phophet</td>\n",
       "      <td>6.00388</td>\n",
       "      <td>6.01382</td>\n",
       "      <td>260.30076</td>\n",
       "    </tr>\n",
       "    <tr>\n",
       "      <th>0</th>\n",
       "      <td>Qatar</td>\n",
       "      <td>phophet</td>\n",
       "      <td>6.00219</td>\n",
       "      <td>6.02448</td>\n",
       "      <td>215.54076</td>\n",
       "    </tr>\n",
       "    <tr>\n",
       "      <th>0</th>\n",
       "      <td>Tonga</td>\n",
       "      <td>phophet</td>\n",
       "      <td>5.32092</td>\n",
       "      <td>5.32486</td>\n",
       "      <td>255.30100</td>\n",
       "    </tr>\n",
       "    <tr>\n",
       "      <th>0</th>\n",
       "      <td>Yemen</td>\n",
       "      <td>phophet</td>\n",
       "      <td>5.31438</td>\n",
       "      <td>5.59731</td>\n",
       "      <td>98.31370</td>\n",
       "    </tr>\n",
       "    <tr>\n",
       "      <th>0</th>\n",
       "      <td>Central Asia and the Caucasus</td>\n",
       "      <td>phophet</td>\n",
       "      <td>5.12269</td>\n",
       "      <td>5.16226</td>\n",
       "      <td>155.75017</td>\n",
       "    </tr>\n",
       "    <tr>\n",
       "      <th>0</th>\n",
       "      <td>Georgia</td>\n",
       "      <td>phophet</td>\n",
       "      <td>5.01122</td>\n",
       "      <td>5.04523</td>\n",
       "      <td>97.02624</td>\n",
       "    </tr>\n",
       "    <tr>\n",
       "      <th>0</th>\n",
       "      <td>Caribbean</td>\n",
       "      <td>phophet</td>\n",
       "      <td>4.91716</td>\n",
       "      <td>6.67026</td>\n",
       "      <td>61.55264</td>\n",
       "    </tr>\n",
       "    <tr>\n",
       "      <th>0</th>\n",
       "      <td>Republic of Congo</td>\n",
       "      <td>phophet</td>\n",
       "      <td>4.80125</td>\n",
       "      <td>4.81523</td>\n",
       "      <td>119.06002</td>\n",
       "    </tr>\n",
       "    <tr>\n",
       "      <th>0</th>\n",
       "      <td>Ireland</td>\n",
       "      <td>phophet</td>\n",
       "      <td>4.76980</td>\n",
       "      <td>4.80309</td>\n",
       "      <td>147.70847</td>\n",
       "    </tr>\n",
       "    <tr>\n",
       "      <th>0</th>\n",
       "      <td>Palau</td>\n",
       "      <td>phophet</td>\n",
       "      <td>4.75953</td>\n",
       "      <td>5.36200</td>\n",
       "      <td>96.82542</td>\n",
       "    </tr>\n",
       "    <tr>\n",
       "      <th>0</th>\n",
       "      <td>Eritrea</td>\n",
       "      <td>phophet</td>\n",
       "      <td>4.61001</td>\n",
       "      <td>4.63175</td>\n",
       "      <td>158.96582</td>\n",
       "    </tr>\n",
       "    <tr>\n",
       "      <th>0</th>\n",
       "      <td>Bosnia and Herzegovina</td>\n",
       "      <td>phophet</td>\n",
       "      <td>4.53909</td>\n",
       "      <td>4.58527</td>\n",
       "      <td>151.30296</td>\n",
       "    </tr>\n",
       "  </tbody>\n",
       "</table>\n",
       "</div>"
      ],
      "text/plain": [
       "                         Country    Model       mae      rmse       mape\n",
       "0                         Guyana  phophet  18.71707  19.18704  317.52606\n",
       "0              Equatorial Guinea  phophet   7.85506   8.90264  437.69437\n",
       "0                     Azerbaijan  phophet   7.60160   7.62054  296.96489\n",
       "0                      Venezuela  phophet   6.77428   7.02723  706.45319\n",
       "0                     Tajikistan  phophet   6.72677   6.75902  165.04951\n",
       "0                      Macao SAR  phophet   6.36106   8.83559   71.30168\n",
       "0                           Iraq  phophet   6.20063   6.21738  254.36364\n",
       "0        Republic of South Sudan  phophet   6.17700   6.22513  137.60980\n",
       "0                   Turkmenistan  phophet   6.00388   6.01382  260.30076\n",
       "0                          Qatar  phophet   6.00219   6.02448  215.54076\n",
       "0                          Tonga  phophet   5.32092   5.32486  255.30100\n",
       "0                          Yemen  phophet   5.31438   5.59731   98.31370\n",
       "0  Central Asia and the Caucasus  phophet   5.12269   5.16226  155.75017\n",
       "0                        Georgia  phophet   5.01122   5.04523   97.02624\n",
       "0                      Caribbean  phophet   4.91716   6.67026   61.55264\n",
       "0              Republic of Congo  phophet   4.80125   4.81523  119.06002\n",
       "0                        Ireland  phophet   4.76980   4.80309  147.70847\n",
       "0                          Palau  phophet   4.75953   5.36200   96.82542\n",
       "0                        Eritrea  phophet   4.61001   4.63175  158.96582\n",
       "0         Bosnia and Herzegovina  phophet   4.53909   4.58527  151.30296"
      ]
     },
     "execution_count": 438,
     "metadata": {},
     "output_type": "execute_result"
    }
   ],
   "source": [
    "df_metrics_prophet.sort_values(by='mae', ascending=False).head(20)"
   ]
  },
  {
   "cell_type": "code",
   "execution_count": 439,
   "metadata": {},
   "outputs": [
    {
     "data": {
      "text/plain": [
       "<Axes: >"
      ]
     },
     "execution_count": 439,
     "metadata": {},
     "output_type": "execute_result"
    },
    {
     "data": {
      "image/png": "[encoded data removed]",
      "text/plain": [
       "<Figure size 640x480 with 1 Axes>"
      ]
     },
     "metadata": {},
     "output_type": "display_data"
    }
   ],
   "source": [
    "df_metrics_prophet['mae'].hist(bins=50)"
   ]
  },
  {
   "cell_type": "code",
   "execution_count": 440,
   "metadata": {},
   "outputs": [
    {
     "data": {
      "text/html": [
       "<style type=\"text/css\">\n",
       "#T_9bbc2_row0_col2, #T_9bbc2_row0_col4, #T_9bbc2_row0_col5, #T_9bbc2_row1_col0, #T_9bbc2_row1_col1, #T_9bbc2_row1_col3, #T_9bbc2_row2_col3 {\n",
       "  background-color: lightgreen;\n",
       "}\n",
       "</style>\n",
       "<table id=\"T_9bbc2\">\n",
       "  <thead>\n",
       "    <tr>\n",
       "      <th class=\"blank level0\" >&nbsp;</th>\n",
       "      <th id=\"T_9bbc2_level0_col0\" class=\"col_heading level0 col0\" >mean</th>\n",
       "      <th id=\"T_9bbc2_level0_col1\" class=\"col_heading level0 col1\" >median</th>\n",
       "      <th id=\"T_9bbc2_level0_col2\" class=\"col_heading level0 col2\" >std</th>\n",
       "      <th id=\"T_9bbc2_level0_col3\" class=\"col_heading level0 col3\" >min</th>\n",
       "      <th id=\"T_9bbc2_level0_col4\" class=\"col_heading level0 col4\" >max</th>\n",
       "      <th id=\"T_9bbc2_level0_col5\" class=\"col_heading level0 col5\" >cv</th>\n",
       "    </tr>\n",
       "  </thead>\n",
       "  <tbody>\n",
       "    <tr>\n",
       "      <th id=\"T_9bbc2_level0_row0\" class=\"row_heading level0 row0\" >prophet</th>\n",
       "      <td id=\"T_9bbc2_row0_col0\" class=\"data row0 col0\" >1.642346</td>\n",
       "      <td id=\"T_9bbc2_row0_col1\" class=\"data row0 col1\" >1.003945</td>\n",
       "      <td id=\"T_9bbc2_row0_col2\" class=\"data row0 col2\" >1.961299</td>\n",
       "      <td id=\"T_9bbc2_row0_col3\" class=\"data row0 col3\" >0.055700</td>\n",
       "      <td id=\"T_9bbc2_row0_col4\" class=\"data row0 col4\" >18.717070</td>\n",
       "      <td id=\"T_9bbc2_row0_col5\" class=\"data row0 col5\" >1.194206</td>\n",
       "    </tr>\n",
       "    <tr>\n",
       "      <th id=\"T_9bbc2_level0_row1\" class=\"row_heading level0 row1\" >simple_smoothing</th>\n",
       "      <td id=\"T_9bbc2_row1_col0\" class=\"data row1 col0\" >1.259061</td>\n",
       "      <td id=\"T_9bbc2_row1_col1\" class=\"data row1 col1\" >0.753340</td>\n",
       "      <td id=\"T_9bbc2_row1_col2\" class=\"data row1 col2\" >1.968938</td>\n",
       "      <td id=\"T_9bbc2_row1_col3\" class=\"data row1 col3\" >0.000000</td>\n",
       "      <td id=\"T_9bbc2_row1_col4\" class=\"data row1 col4\" >24.030680</td>\n",
       "      <td id=\"T_9bbc2_row1_col5\" class=\"data row1 col5\" >1.563814</td>\n",
       "    </tr>\n",
       "    <tr>\n",
       "      <th id=\"T_9bbc2_level0_row2\" class=\"row_heading level0 row2\" >sarimax</th>\n",
       "      <td id=\"T_9bbc2_row2_col0\" class=\"data row2 col0\" >1.482224</td>\n",
       "      <td id=\"T_9bbc2_row2_col1\" class=\"data row2 col1\" >0.898300</td>\n",
       "      <td id=\"T_9bbc2_row2_col2\" class=\"data row2 col2\" >2.156974</td>\n",
       "      <td id=\"T_9bbc2_row2_col3\" class=\"data row2 col3\" >0.000000</td>\n",
       "      <td id=\"T_9bbc2_row2_col4\" class=\"data row2 col4\" >20.569550</td>\n",
       "      <td id=\"T_9bbc2_row2_col5\" class=\"data row2 col5\" >1.455228</td>\n",
       "    </tr>\n",
       "  </tbody>\n",
       "</table>\n"
      ],
      "text/plain": [
       "<pandas.io.formats.style.Styler at 0x7fe13e6d4160>"
      ]
     },
     "execution_count": 440,
     "metadata": {},
     "output_type": "execute_result"
    }
   ],
   "source": [
    "df_final_metrics = pd.DataFrame()\n",
    "\n",
    "metric = 'mae'\n",
    "\n",
    "statistics = [\n",
    "    'mean',\n",
    "    'median',\n",
    "    'std',\n",
    "    'min',\n",
    "    'max',\n",
    "]\n",
    "df_final_metrics = pd.concat([df_final_metrics, df_metrics_prophet[metric].agg(statistics)], axis=1)\n",
    "\n",
    "# add simples smothing\n",
    "df_final_metrics = pd.concat([df_final_metrics, df_metrics_ss[metric].agg([statistics])], axis=1)\n",
    "\n",
    "# add sarimax\n",
    "df_final_metrics = pd.concat([df_final_metrics, df_metrics_sarimax[metric].agg([statistics])], axis=1)\n",
    "\n",
    "df_final_metrics.columns = ['prophet','simple_smoothing','sarimax']\n",
    "\n",
    "df_final_metrics = df_final_metrics.T\n",
    "\n",
    "df_final_metrics['cv'] = df_final_metrics['std'] / df_final_metrics['mean']  \n",
    "\n",
    "df_final_metrics.style.highlight_min(color='lightgreen', axis=0)\n",
    "# df_final_metrics"
   ]
  },
  {
   "cell_type": "code",
   "execution_count": 441,
   "metadata": {},
   "outputs": [
    {
     "data": {
      "text/html": [
       "<style type=\"text/css\">\n",
       "#T_8c225_row0_col2, #T_8c225_row0_col4, #T_8c225_row0_col5, #T_8c225_row1_col0, #T_8c225_row1_col1, #T_8c225_row1_col3, #T_8c225_row2_col3 {\n",
       "  background-color: lightgreen;\n",
       "}\n",
       "</style>\n",
       "<table id=\"T_8c225\">\n",
       "  <thead>\n",
       "    <tr>\n",
       "      <th class=\"blank level0\" >&nbsp;</th>\n",
       "      <th id=\"T_8c225_level0_col0\" class=\"col_heading level0 col0\" >mean</th>\n",
       "      <th id=\"T_8c225_level0_col1\" class=\"col_heading level0 col1\" >median</th>\n",
       "      <th id=\"T_8c225_level0_col2\" class=\"col_heading level0 col2\" >std</th>\n",
       "      <th id=\"T_8c225_level0_col3\" class=\"col_heading level0 col3\" >min</th>\n",
       "      <th id=\"T_8c225_level0_col4\" class=\"col_heading level0 col4\" >max</th>\n",
       "      <th id=\"T_8c225_level0_col5\" class=\"col_heading level0 col5\" >cv</th>\n",
       "    </tr>\n",
       "  </thead>\n",
       "  <tbody>\n",
       "    <tr>\n",
       "      <th id=\"T_8c225_level0_row0\" class=\"row_heading level0 row0\" >prophet</th>\n",
       "      <td id=\"T_8c225_row0_col0\" class=\"data row0 col0\" >1.726555</td>\n",
       "      <td id=\"T_8c225_row0_col1\" class=\"data row0 col1\" >1.032785</td>\n",
       "      <td id=\"T_8c225_row0_col2\" class=\"data row0 col2\" >2.052355</td>\n",
       "      <td id=\"T_8c225_row0_col3\" class=\"data row0 col3\" >0.080230</td>\n",
       "      <td id=\"T_8c225_row0_col4\" class=\"data row0 col4\" >19.187040</td>\n",
       "      <td id=\"T_8c225_row0_col5\" class=\"data row0 col5\" >1.188699</td>\n",
       "    </tr>\n",
       "    <tr>\n",
       "      <th id=\"T_8c225_level0_row1\" class=\"row_heading level0 row1\" >simple_smoothing</th>\n",
       "      <td id=\"T_8c225_row1_col0\" class=\"data row1 col0\" >1.360091</td>\n",
       "      <td id=\"T_8c225_row1_col1\" class=\"data row1 col1\" >0.793105</td>\n",
       "      <td id=\"T_8c225_row1_col2\" class=\"data row1 col2\" >2.275252</td>\n",
       "      <td id=\"T_8c225_row1_col3\" class=\"data row1 col3\" >0.000000</td>\n",
       "      <td id=\"T_8c225_row1_col4\" class=\"data row1 col4\" >28.909880</td>\n",
       "      <td id=\"T_8c225_row1_col5\" class=\"data row1 col5\" >1.672868</td>\n",
       "    </tr>\n",
       "    <tr>\n",
       "      <th id=\"T_8c225_level0_row2\" class=\"row_heading level0 row2\" >sarimax</th>\n",
       "      <td id=\"T_8c225_row2_col0\" class=\"data row2 col0\" >1.598677</td>\n",
       "      <td id=\"T_8c225_row2_col1\" class=\"data row2 col1\" >0.971070</td>\n",
       "      <td id=\"T_8c225_row2_col2\" class=\"data row2 col2\" >2.431278</td>\n",
       "      <td id=\"T_8c225_row2_col3\" class=\"data row2 col3\" >0.000000</td>\n",
       "      <td id=\"T_8c225_row2_col4\" class=\"data row2 col4\" >24.303880</td>\n",
       "      <td id=\"T_8c225_row2_col5\" class=\"data row2 col5\" >1.520806</td>\n",
       "    </tr>\n",
       "  </tbody>\n",
       "</table>\n"
      ],
      "text/plain": [
       "<pandas.io.formats.style.Styler at 0x7fe15c8dfaf0>"
      ]
     },
     "execution_count": 441,
     "metadata": {},
     "output_type": "execute_result"
    }
   ],
   "source": [
    "df_final_metrics = pd.DataFrame()\n",
    "\n",
    "metric = 'rmse'\n",
    "\n",
    "statistics = [\n",
    "    'mean',\n",
    "    'median',\n",
    "    'std',\n",
    "    'min',\n",
    "    'max',\n",
    "]\n",
    "df_final_metrics = pd.concat([df_final_metrics, df_metrics_prophet[metric].agg(statistics)], axis=1)\n",
    "\n",
    "# add simples smothing\n",
    "df_final_metrics = pd.concat([df_final_metrics, df_metrics_ss[metric].agg([statistics])], axis=1)\n",
    "\n",
    "# add sarimax\n",
    "df_final_metrics = pd.concat([df_final_metrics, df_metrics_sarimax[metric].agg([statistics])], axis=1)\n",
    "\n",
    "df_final_metrics.columns = ['prophet','simple_smoothing','sarimax']\n",
    "\n",
    "df_final_metrics = df_final_metrics.T\n",
    "\n",
    "df_final_metrics['cv'] = df_final_metrics['std'] / df_final_metrics['mean']  \n",
    "\n",
    "df_final_metrics.style.highlight_min(color='lightgreen', axis=0)\n",
    "# df_final_metrics"
   ]
  },
  {
   "cell_type": "code",
   "execution_count": 442,
   "metadata": {},
   "outputs": [
    {
     "data": {
      "text/html": [
       "<style type=\"text/css\">\n",
       "#T_727a9_row1_col0, #T_727a9_row1_col1, #T_727a9_row1_col3, #T_727a9_row2_col2, #T_727a9_row2_col3, #T_727a9_row2_col4, #T_727a9_row2_col5 {\n",
       "  background-color: lightgreen;\n",
       "}\n",
       "</style>\n",
       "<table id=\"T_727a9\">\n",
       "  <thead>\n",
       "    <tr>\n",
       "      <th class=\"blank level0\" >&nbsp;</th>\n",
       "      <th id=\"T_727a9_level0_col0\" class=\"col_heading level0 col0\" >mean</th>\n",
       "      <th id=\"T_727a9_level0_col1\" class=\"col_heading level0 col1\" >median</th>\n",
       "      <th id=\"T_727a9_level0_col2\" class=\"col_heading level0 col2\" >std</th>\n",
       "      <th id=\"T_727a9_level0_col3\" class=\"col_heading level0 col3\" >min</th>\n",
       "      <th id=\"T_727a9_level0_col4\" class=\"col_heading level0 col4\" >max</th>\n",
       "      <th id=\"T_727a9_level0_col5\" class=\"col_heading level0 col5\" >cv</th>\n",
       "    </tr>\n",
       "  </thead>\n",
       "  <tbody>\n",
       "    <tr>\n",
       "      <th id=\"T_727a9_level0_row0\" class=\"row_heading level0 row0\" >prophet</th>\n",
       "      <td id=\"T_727a9_row0_col0\" class=\"data row0 col0\" >57.816669</td>\n",
       "      <td id=\"T_727a9_row0_col1\" class=\"data row0 col1\" >32.222000</td>\n",
       "      <td id=\"T_727a9_row0_col2\" class=\"data row0 col2\" >76.873557</td>\n",
       "      <td id=\"T_727a9_row0_col3\" class=\"data row0 col3\" >0.936100</td>\n",
       "      <td id=\"T_727a9_row0_col4\" class=\"data row0 col4\" >706.453190</td>\n",
       "      <td id=\"T_727a9_row0_col5\" class=\"data row0 col5\" >1.329609</td>\n",
       "    </tr>\n",
       "    <tr>\n",
       "      <th id=\"T_727a9_level0_row1\" class=\"row_heading level0 row1\" >simple_smoothing</th>\n",
       "      <td id=\"T_727a9_row1_col0\" class=\"data row1 col0\" >42.098371</td>\n",
       "      <td id=\"T_727a9_row1_col1\" class=\"data row1 col1\" >24.753465</td>\n",
       "      <td id=\"T_727a9_row1_col2\" class=\"data row1 col2\" >66.029543</td>\n",
       "      <td id=\"T_727a9_row1_col3\" class=\"data row1 col3\" >0.000000</td>\n",
       "      <td id=\"T_727a9_row1_col4\" class=\"data row1 col4\" >673.113520</td>\n",
       "      <td id=\"T_727a9_row1_col5\" class=\"data row1 col5\" >1.568458</td>\n",
       "    </tr>\n",
       "    <tr>\n",
       "      <th id=\"T_727a9_level0_row2\" class=\"row_heading level0 row2\" >sarimax</th>\n",
       "      <td id=\"T_727a9_row2_col0\" class=\"data row2 col0\" >46.247781</td>\n",
       "      <td id=\"T_727a9_row2_col1\" class=\"data row2 col1\" >31.770445</td>\n",
       "      <td id=\"T_727a9_row2_col2\" class=\"data row2 col2\" >54.678141</td>\n",
       "      <td id=\"T_727a9_row2_col3\" class=\"data row2 col3\" >0.000000</td>\n",
       "      <td id=\"T_727a9_row2_col4\" class=\"data row2 col4\" >562.484240</td>\n",
       "      <td id=\"T_727a9_row2_col5\" class=\"data row2 col5\" >1.182287</td>\n",
       "    </tr>\n",
       "  </tbody>\n",
       "</table>\n"
      ],
      "text/plain": [
       "<pandas.io.formats.style.Styler at 0x7fe13e7cb160>"
      ]
     },
     "execution_count": 442,
     "metadata": {},
     "output_type": "execute_result"
    }
   ],
   "source": [
    "df_final_metrics = pd.DataFrame()\n",
    "\n",
    "metric = 'mape'\n",
    "\n",
    "statistics = [\n",
    "    'mean',\n",
    "    'median',\n",
    "    'std',\n",
    "    'min',\n",
    "    'max',\n",
    "]\n",
    "df_final_metrics = pd.concat([df_final_metrics, df_metrics_prophet[metric].agg(statistics)], axis=1)\n",
    "\n",
    "# add simples smothing\n",
    "df_final_metrics = pd.concat([df_final_metrics, df_metrics_ss[metric].agg([statistics])], axis=1)\n",
    "\n",
    "# add sarimax\n",
    "df_final_metrics = pd.concat([df_final_metrics, df_metrics_sarimax[metric].agg([statistics])], axis=1)\n",
    "\n",
    "df_final_metrics.columns = ['prophet','simple_smoothing','sarimax']\n",
    "\n",
    "df_final_metrics = df_final_metrics.T\n",
    "\n",
    "df_final_metrics['cv'] = df_final_metrics['std'] / df_final_metrics['mean']  \n",
    "\n",
    "df_final_metrics.style.highlight_min(color='lightgreen', axis=0)\n",
    "# df_final_metrics"
   ]
  }
 ],
 "metadata": {
  "kernelspec": {
   "display_name": "venv",
   "language": "python",
   "name": "python3"
  },
  "language_info": {
   "codemirror_mode": {
    "name": "ipython",
    "version": 3
   },
   "file_extension": ".py",
   "mimetype": "text/x-python",
   "name": "python",
   "nbconvert_exporter": "python",
   "pygments_lexer": "ipython3",
   "version": "3.10.12"
  },
  "orig_nbformat": 4
 },
 "nbformat": 4,
 "nbformat_minor": 2
}
